{
 "cells": [
  {
   "cell_type": "code",
   "execution_count": null,
   "metadata": {
    "collapsed": true
   },
   "outputs": [],
   "source": []
  },
  {
   "cell_type": "code",
   "execution_count": 1,
   "metadata": {
    "collapsed": false
   },
   "outputs": [
    {
     "name": "stdout",
     "output_type": "stream",
     "text": [
      "\n",
      "\n",
      "No instance found at ip and port: localhost:54321. Trying to start local jar...\n",
      "\n",
      "\n",
      "JVM stdout: /local-scratch/gkovacs/8151480/tmpIkSggN/h2o_gkovacs_started_from_python.out\n",
      "JVM stderr: /local-scratch/gkovacs/8151480/tmpT43rJk/h2o_gkovacs_started_from_python.err\n",
      "Using ice_root: /local-scratch/gkovacs/8151480/tmpgXkmqA\n",
      "\n",
      "\n",
      "Java Version: openjdk version \"1.8.0_65\"\n",
      "OpenJDK Runtime Environment (build 1.8.0_65-b17)\n",
      "OpenJDK 64-Bit Server VM (build 25.65-b01, mixed mode)\n",
      "\n",
      "\n",
      "Starting H2O JVM and connecting: .............................. Connection successful!\n"
     ]
    },
    {
     "name": "stderr",
     "output_type": "stream",
     "text": [
      "/home/gkovacs/ve/lib/python2.7/site-packages/IPython/core/formatters.py:92: DeprecationWarning: DisplayFormatter._ipython_display_formatter_default is deprecated: use @default decorator instead.\n",
      "  def _ipython_display_formatter_default(self):\n",
      "/home/gkovacs/ve/lib/python2.7/site-packages/IPython/core/formatters.py:98: DeprecationWarning: DisplayFormatter._formatters_default is deprecated: use @default decorator instead.\n",
      "  def _formatters_default(self):\n",
      "/home/gkovacs/ve/lib/python2.7/site-packages/IPython/core/formatters.py:677: DeprecationWarning: PlainTextFormatter._deferred_printers_default is deprecated: use @default decorator instead.\n",
      "  def _deferred_printers_default(self):\n",
      "/home/gkovacs/ve/lib/python2.7/site-packages/IPython/core/formatters.py:669: DeprecationWarning: PlainTextFormatter._singleton_printers_default is deprecated: use @default decorator instead.\n",
      "  def _singleton_printers_default(self):\n",
      "/home/gkovacs/ve/lib/python2.7/site-packages/IPython/core/formatters.py:672: DeprecationWarning: PlainTextFormatter._type_printers_default is deprecated: use @default decorator instead.\n",
      "  def _type_printers_default(self):\n",
      "/home/gkovacs/ve/lib/python2.7/site-packages/IPython/core/formatters.py:669: DeprecationWarning: PlainTextFormatter._singleton_printers_default is deprecated: use @default decorator instead.\n",
      "  def _singleton_printers_default(self):\n",
      "/home/gkovacs/ve/lib/python2.7/site-packages/IPython/core/formatters.py:672: DeprecationWarning: PlainTextFormatter._type_printers_default is deprecated: use @default decorator instead.\n",
      "  def _type_printers_default(self):\n",
      "/home/gkovacs/ve/lib/python2.7/site-packages/IPython/core/formatters.py:677: DeprecationWarning: PlainTextFormatter._deferred_printers_default is deprecated: use @default decorator instead.\n",
      "  def _deferred_printers_default(self):\n"
     ]
    },
    {
     "data": {
      "text/html": [
       "<div style=\"overflow:auto\"><table style=\"width:50%\"><tr><td>H2O cluster uptime: </td>\n",
       "<td>4 seconds 404 milliseconds </td></tr>\n",
       "<tr><td>H2O cluster version: </td>\n",
       "<td>3.8.1.4</td></tr>\n",
       "<tr><td>H2O cluster name: </td>\n",
       "<td>H2O_started_from_python_gkovacs_cjy823</td></tr>\n",
       "<tr><td>H2O cluster total nodes: </td>\n",
       "<td>1</td></tr>\n",
       "<tr><td>H2O cluster total free memory: </td>\n",
       "<td>13.97 GB</td></tr>\n",
       "<tr><td>H2O cluster total cores: </td>\n",
       "<td>0</td></tr>\n",
       "<tr><td>H2O cluster allowed cores: </td>\n",
       "<td>0</td></tr>\n",
       "<tr><td>H2O cluster healthy: </td>\n",
       "<td>True</td></tr>\n",
       "<tr><td>H2O Connection ip: </td>\n",
       "<td>127.0.0.1</td></tr>\n",
       "<tr><td>H2O Connection port: </td>\n",
       "<td>54321</td></tr>\n",
       "<tr><td>H2O Connection proxy: </td>\n",
       "<td>None</td></tr>\n",
       "<tr><td>Python Version: </td>\n",
       "<td>2.7.11</td></tr></table></div>"
      ],
      "text/plain": [
       "------------------------------  --------------------------------------\n",
       "H2O cluster uptime:             4 seconds 404 milliseconds\n",
       "H2O cluster version:            3.8.1.4\n",
       "H2O cluster name:               H2O_started_from_python_gkovacs_cjy823\n",
       "H2O cluster total nodes:        1\n",
       "H2O cluster total free memory:  13.97 GB\n",
       "H2O cluster total cores:        0\n",
       "H2O cluster allowed cores:      0\n",
       "H2O cluster healthy:            True\n",
       "H2O Connection ip:              127.0.0.1\n",
       "H2O Connection port:            54321\n",
       "H2O Connection proxy:\n",
       "Python Version:                 2.7.11\n",
       "------------------------------  --------------------------------------"
      ]
     },
     "metadata": {},
     "output_type": "display_data"
    }
   ],
   "source": [
    "from tmilib import *\n",
    "from h2o_utils import *\n",
    "\n",
    "import h2o\n",
    "h2o.init()"
   ]
  },
  {
   "cell_type": "code",
   "execution_count": 2,
   "metadata": {
    "collapsed": true
   },
   "outputs": [],
   "source": [
    "import traceback"
   ]
  },
  {
   "cell_type": "code",
   "execution_count": 3,
   "metadata": {
    "collapsed": true
   },
   "outputs": [],
   "source": [
    "classifier = load_h2o_model(sdir_path('domainclass_cpn_v1_randomforest_v1.h2o'))"
   ]
  },
  {
   "cell_type": "code",
   "execution_count": 4,
   "metadata": {
    "collapsed": false
   },
   "outputs": [
    {
     "name": "stdout",
     "output_type": "stream",
     "text": [
      "Model Details\n",
      "=============\n",
      "H2ORandomForestEstimator :  Distributed Random Forest\n",
      "Model Key:  DRF_model_python_1460270790298_1\n",
      "\n",
      "Model Summary: \n"
     ]
    },
    {
     "data": {
      "text/html": [
       "<div style=\"overflow:auto\"><table style=\"width:50%\"><tr><td><b></b></td>\n",
       "<td><b>number_of_trees</b></td>\n",
       "<td><b>model_size_in_bytes</b></td>\n",
       "<td><b>min_depth</b></td>\n",
       "<td><b>max_depth</b></td>\n",
       "<td><b>mean_depth</b></td>\n",
       "<td><b>min_leaves</b></td>\n",
       "<td><b>max_leaves</b></td>\n",
       "<td><b>mean_leaves</b></td></tr>\n",
       "<tr><td></td>\n",
       "<td>150.0</td>\n",
       "<td>55065158.0000000</td>\n",
       "<td>20.0</td>\n",
       "<td>20.0</td>\n",
       "<td>20.0</td>\n",
       "<td>9256.0</td>\n",
       "<td>55414.0</td>\n",
       "<td>31614.133</td></tr></table></div>"
      ],
      "text/plain": [
       "    number_of_trees    model_size_in_bytes    min_depth    max_depth    mean_depth    min_leaves    max_leaves    mean_leaves\n",
       "--  -----------------  ---------------------  -----------  -----------  ------------  ------------  ------------  -------------\n",
       "    150                5.50652e+07            20           20           20            9256          55414         31614.1"
      ]
     },
     "metadata": {},
     "output_type": "display_data"
    },
    {
     "name": "stdout",
     "output_type": "stream",
     "text": [
      "\n",
      "\n",
      "ModelMetricsMultinomial: drf\n",
      "** Reported on train data. **\n",
      "\n",
      "MSE: 0.0811572121206\n",
      "R^2: 0.825067840273\n",
      "LogLoss: 0.265465721824\n",
      "\n",
      "Confusion Matrix: vertical: actual; across: predicted\n",
      "\n"
     ]
    },
    {
     "data": {
      "text/html": [
       "<div style=\"overflow:auto\"><table style=\"width:50%\"><tr><td><b>c</b></td>\n",
       "<td><b>n</b></td>\n",
       "<td><b>p</b></td>\n",
       "<td><b>Error</b></td>\n",
       "<td><b>Rate</b></td></tr>\n",
       "<tr><td>11087107.0000000</td>\n",
       "<td>15684.0</td>\n",
       "<td>111550.0</td>\n",
       "<td>0.0113457</td>\n",
       "<td>127,234 / 11,214,341</td></tr>\n",
       "<tr><td>322760.0</td>\n",
       "<td>165698.0</td>\n",
       "<td>5548.0</td>\n",
       "<td>0.6645830</td>\n",
       "<td>328,308 / 494,006</td></tr>\n",
       "<tr><td>921129.0</td>\n",
       "<td>5972.0</td>\n",
       "<td>796327.0</td>\n",
       "<td>0.5379401</td>\n",
       "<td>927,101 / 1,723,428</td></tr>\n",
       "<tr><td>12330996.0000000</td>\n",
       "<td>187354.0</td>\n",
       "<td>913425.0</td>\n",
       "<td>0.1029382</td>\n",
       "<td>1,382,643 / 13,431,775</td></tr></table></div>"
      ],
      "text/plain": [
       "c            n       p       Error      Rate\n",
       "-----------  ------  ------  ---------  ----------------------\n",
       "1.10871e+07  15684   111550  0.0113457  127,234 / 11,214,341\n",
       "322760       165698  5548    0.664583   328,308 / 494,006\n",
       "921129       5972    796327  0.53794    927,101 / 1,723,428\n",
       "1.2331e+07   187354  913425  0.102938   1,382,643 / 13,431,775"
      ]
     },
     "metadata": {},
     "output_type": "display_data"
    },
    {
     "name": "stdout",
     "output_type": "stream",
     "text": [
      "\n",
      "Top-3 Hit Ratios: \n"
     ]
    },
    {
     "data": {
      "text/html": [
       "<div style=\"overflow:auto\"><table style=\"width:50%\"><tr><td><b>k</b></td>\n",
       "<td><b>hit_ratio</b></td></tr>\n",
       "<tr><td>1</td>\n",
       "<td>0.8970618</td></tr>\n",
       "<tr><td>2</td>\n",
       "<td>0.9903781</td></tr>\n",
       "<tr><td>3</td>\n",
       "<td>0.9999999</td></tr></table></div>"
      ],
      "text/plain": [
       "k    hit_ratio\n",
       "---  -----------\n",
       "1    0.897062\n",
       "2    0.990378\n",
       "3    1"
      ]
     },
     "metadata": {},
     "output_type": "display_data"
    },
    {
     "name": "stdout",
     "output_type": "stream",
     "text": [
      "\n",
      "ModelMetricsMultinomial: drf\n",
      "** Reported on validation data. **\n",
      "\n",
      "MSE: 0.100703206676\n",
      "R^2: 0.784200577999\n",
      "LogLoss: 0.330903004428\n",
      "\n",
      "Confusion Matrix: vertical: actual; across: predicted\n",
      "\n"
     ]
    },
    {
     "data": {
      "text/html": [
       "<div style=\"overflow:auto\"><table style=\"width:50%\"><tr><td><b>c</b></td>\n",
       "<td><b>n</b></td>\n",
       "<td><b>p</b></td>\n",
       "<td><b>Error</b></td>\n",
       "<td><b>Rate</b></td></tr>\n",
       "<tr><td>9565083.0</td>\n",
       "<td>18870.0</td>\n",
       "<td>156451.0</td>\n",
       "<td>0.0179994</td>\n",
       "<td>175,321 / 9,740,404</td></tr>\n",
       "<tr><td>323147.0</td>\n",
       "<td>89147.0</td>\n",
       "<td>7857.0</td>\n",
       "<td>0.7878215</td>\n",
       "<td>331,004 / 420,151</td></tr>\n",
       "<tr><td>958835.0</td>\n",
       "<td>6330.0</td>\n",
       "<td>544833.0</td>\n",
       "<td>0.6391830</td>\n",
       "<td>965,165 / 1,509,998</td></tr>\n",
       "<tr><td>10847065.0000000</td>\n",
       "<td>114347.0</td>\n",
       "<td>709141.0</td>\n",
       "<td>0.1260857</td>\n",
       "<td>1,471,490 / 11,670,553</td></tr></table></div>"
      ],
      "text/plain": [
       "c            n       p       Error      Rate\n",
       "-----------  ------  ------  ---------  ----------------------\n",
       "9.56508e+06  18870   156451  0.0179994  175,321 / 9,740,404\n",
       "323147       89147   7857    0.787822   331,004 / 420,151\n",
       "958835       6330    544833  0.639183   965,165 / 1,509,998\n",
       "1.08471e+07  114347  709141  0.126086   1,471,490 / 11,670,553"
      ]
     },
     "metadata": {},
     "output_type": "display_data"
    },
    {
     "name": "stdout",
     "output_type": "stream",
     "text": [
      "\n",
      "Top-3 Hit Ratios: \n"
     ]
    },
    {
     "data": {
      "text/html": [
       "<div style=\"overflow:auto\"><table style=\"width:50%\"><tr><td><b>k</b></td>\n",
       "<td><b>hit_ratio</b></td></tr>\n",
       "<tr><td>1</td>\n",
       "<td>0.8739143</td></tr>\n",
       "<tr><td>2</td>\n",
       "<td>0.984585</td></tr>\n",
       "<tr><td>3</td>\n",
       "<td>1.0</td></tr></table></div>"
      ],
      "text/plain": [
       "k    hit_ratio\n",
       "---  -----------\n",
       "1    0.873914\n",
       "2    0.984585\n",
       "3    1"
      ]
     },
     "metadata": {},
     "output_type": "display_data"
    },
    {
     "name": "stdout",
     "output_type": "stream",
     "text": [
      "\n",
      "Scoring History: \n"
     ]
    },
    {
     "data": {
      "text/html": [
       "<div style=\"overflow:auto\"><table style=\"width:50%\"><tr><td><b></b></td>\n",
       "<td><b>timestamp</b></td>\n",
       "<td><b>duration</b></td>\n",
       "<td><b>number_of_trees</b></td>\n",
       "<td><b>training_MSE</b></td>\n",
       "<td><b>training_logloss</b></td>\n",
       "<td><b>training_classification_error</b></td>\n",
       "<td><b>validation_MSE</b></td>\n",
       "<td><b>validation_logloss</b></td>\n",
       "<td><b>validation_classification_error</b></td></tr>\n",
       "<tr><td></td>\n",
       "<td>2016-04-09 23:48:13</td>\n",
       "<td> 0.518 sec</td>\n",
       "<td>0.0</td>\n",
       "<td>nan</td>\n",
       "<td>nan</td>\n",
       "<td>nan</td>\n",
       "<td>1.0</td>\n",
       "<td>34.5387764</td>\n",
       "<td>0.2854031</td></tr>\n",
       "<tr><td></td>\n",
       "<td>2016-04-09 23:50:32</td>\n",
       "<td> 2 min 19.423 sec</td>\n",
       "<td>1.0</td>\n",
       "<td>0.1156379</td>\n",
       "<td>1.6008734</td>\n",
       "<td>0.1302801</td>\n",
       "<td>0.1385587</td>\n",
       "<td>2.1448967</td>\n",
       "<td>0.1560969</td></tr>\n",
       "<tr><td></td>\n",
       "<td>2016-04-09 23:55:55</td>\n",
       "<td> 7 min 42.615 sec</td>\n",
       "<td>4.0</td>\n",
       "<td>0.0987355</td>\n",
       "<td>0.8279445</td>\n",
       "<td>0.1171117</td>\n",
       "<td>0.1042771</td>\n",
       "<td>0.4339883</td>\n",
       "<td>0.1299925</td></tr>\n",
       "<tr><td></td>\n",
       "<td>2016-04-10 00:09:54</td>\n",
       "<td>21 min 42.110 sec</td>\n",
       "<td>12.0</td>\n",
       "<td>0.0854409</td>\n",
       "<td>0.3272191</td>\n",
       "<td>0.1073602</td>\n",
       "<td>0.1019631</td>\n",
       "<td>0.3474788</td>\n",
       "<td>0.1279704</td></tr>\n",
       "<tr><td></td>\n",
       "<td>2016-04-10 00:48:15</td>\n",
       "<td> 1:00:02.957</td>\n",
       "<td>34.0</td>\n",
       "<td>0.0817423</td>\n",
       "<td>0.2671743</td>\n",
       "<td>0.1038773</td>\n",
       "<td>0.1009243</td>\n",
       "<td>0.3335060</td>\n",
       "<td>0.1265404</td></tr>\n",
       "<tr><td></td>\n",
       "<td>2016-04-10 01:25:04</td>\n",
       "<td> 1:36:51.355</td>\n",
       "<td>50.0</td>\n",
       "<td>0.0811572</td>\n",
       "<td>0.2654657</td>\n",
       "<td>0.1029382</td>\n",
       "<td>0.1007032</td>\n",
       "<td>0.3309030</td>\n",
       "<td>0.1260857</td></tr></table></div>"
      ],
      "text/plain": [
       "    timestamp            duration           number_of_trees    training_MSE    training_logloss    training_classification_error    validation_MSE    validation_logloss    validation_classification_error\n",
       "--  -------------------  -----------------  -----------------  --------------  ------------------  -------------------------------  ----------------  --------------------  ---------------------------------\n",
       "    2016-04-09 23:48:13  0.518 sec          0                  nan             nan                 nan                              1                 34.5388               0.285403\n",
       "    2016-04-09 23:50:32  2 min 19.423 sec   1                  0.115638        1.60087             0.13028                          0.138559          2.1449                0.156097\n",
       "    2016-04-09 23:55:55  7 min 42.615 sec   4                  0.0987355       0.827945            0.117112                         0.104277          0.433988              0.129992\n",
       "    2016-04-10 00:09:54  21 min 42.110 sec  12                 0.0854409       0.327219            0.10736                          0.101963          0.347479              0.12797\n",
       "    2016-04-10 00:48:15  1:00:02.957        34                 0.0817423       0.267174            0.103877                         0.100924          0.333506              0.12654\n",
       "    2016-04-10 01:25:04  1:36:51.355        50                 0.0811572       0.265466            0.102938                         0.100703          0.330903              0.126086"
      ]
     },
     "metadata": {},
     "output_type": "display_data"
    },
    {
     "name": "stdout",
     "output_type": "stream",
     "text": [
      "\n",
      "Variable Importances: \n"
     ]
    },
    {
     "data": {
      "text/html": [
       "<div style=\"overflow:auto\"><table style=\"width:50%\"><tr><td><b>variable</b></td>\n",
       "<td><b>relative_importance</b></td>\n",
       "<td><b>scaled_importance</b></td>\n",
       "<td><b>percentage</b></td></tr>\n",
       "<tr><td>cur_domain</td>\n",
       "<td>10543835.0000000</td>\n",
       "<td>1.0</td>\n",
       "<td>0.1757290</td></tr>\n",
       "<tr><td>spanlen</td>\n",
       "<td>9601864.0</td>\n",
       "<td>0.9106614</td>\n",
       "<td>0.1600297</td></tr>\n",
       "<tr><td>prev_domain</td>\n",
       "<td>8373411.5</td>\n",
       "<td>0.7941524</td>\n",
       "<td>0.1395556</td></tr>\n",
       "<tr><td>next_domain</td>\n",
       "<td>8242569.0</td>\n",
       "<td>0.7817430</td>\n",
       "<td>0.1373749</td></tr>\n",
       "<tr><td>since_prev</td>\n",
       "<td>6624962.5</td>\n",
       "<td>0.6283257</td>\n",
       "<td>0.1104151</td></tr>\n",
       "<tr><td>c_eq_n</td>\n",
       "<td>4994423.0</td>\n",
       "<td>0.4736818</td>\n",
       "<td>0.0832397</td></tr>\n",
       "<tr><td>since_cur</td>\n",
       "<td>4594459.0</td>\n",
       "<td>0.4357484</td>\n",
       "<td>0.0765736</td></tr>\n",
       "<tr><td>to_next</td>\n",
       "<td>4527336.5</td>\n",
       "<td>0.4293823</td>\n",
       "<td>0.0754549</td></tr>\n",
       "<tr><td>n_eq_p</td>\n",
       "<td>2497666.0</td>\n",
       "<td>0.2368840</td>\n",
       "<td>0.0416274</td></tr></table></div>"
      ],
      "text/plain": [
       "variable     relative_importance    scaled_importance    percentage\n",
       "-----------  ---------------------  -------------------  ------------\n",
       "cur_domain   1.05438e+07            1                    0.175729\n",
       "spanlen      9.60186e+06            0.910661             0.16003\n",
       "prev_domain  8.37341e+06            0.794152             0.139556\n",
       "next_domain  8.24257e+06            0.781743             0.137375\n",
       "since_prev   6.62496e+06            0.628326             0.110415\n",
       "c_eq_n       4.99442e+06            0.473682             0.0832397\n",
       "since_cur    4.59446e+06            0.435748             0.0765736\n",
       "to_next      4.52734e+06            0.429382             0.0754549\n",
       "n_eq_p       2.49767e+06            0.236884             0.0416274"
      ]
     },
     "metadata": {},
     "output_type": "display_data"
    },
    {
     "name": "stdout",
     "output_type": "stream",
     "text": [
      "\n"
     ]
    }
   ],
   "source": [
    "print classifier"
   ]
  },
  {
   "cell_type": "code",
   "execution_count": 5,
   "metadata": {
    "collapsed": false
   },
   "outputs": [
    {
     "name": "stdout",
     "output_type": "stream",
     "text": [
      "\n",
      "Parse Progress: [##################################################] 100%\n"
     ]
    }
   ],
   "source": [
    "test_data = h2o.import_file(sdir_path('domainclass_cpn_test_v1.csv'))\n"
   ]
  },
  {
   "cell_type": "code",
   "execution_count": 6,
   "metadata": {
    "collapsed": false
   },
   "outputs": [
    {
     "name": "stdout",
     "output_type": "stream",
     "text": [
      "\n",
      "drf prediction Progress: [##################################################] 100%\n"
     ]
    }
   ],
   "source": [
    "test_predictions = classifier.predict(test_data)"
   ]
  },
  {
   "cell_type": "code",
   "execution_count": 1,
   "metadata": {
    "collapsed": false
   },
   "outputs": [
    {
     "ename": "NameError",
     "evalue": "name 'test_predictions' is not defined",
     "output_type": "error",
     "traceback": [
      "\u001b[1;31m---------------------------------------------------------------------------\u001b[0m",
      "\u001b[1;31mNameError\u001b[0m                                 Traceback (most recent call last)",
      "\u001b[1;32m<ipython-input-1-ef4dc90a6c21>\u001b[0m in \u001b[0;36m<module>\u001b[1;34m()\u001b[0m\n\u001b[1;32m----> 1\u001b[1;33m \u001b[1;32mprint\u001b[0m \u001b[0mtest_predictions\u001b[0m\u001b[1;33m\u001b[0m\u001b[0m\n\u001b[0m",
      "\u001b[1;31mNameError\u001b[0m: name 'test_predictions' is not defined"
     ]
    }
   ],
   "source": [
    "print test_predictions"
   ]
  }
 ],
 "metadata": {
  "kernelspec": {
   "display_name": "Python 2",
   "language": "python",
   "name": "python2"
  },
  "language_info": {
   "codemirror_mode": {
    "name": "ipython",
    "version": 2
   },
   "file_extension": ".py",
   "mimetype": "text/x-python",
   "name": "python",
   "nbconvert_exporter": "python",
   "pygments_lexer": "ipython2",
   "version": "2.7.6"
  }
 },
 "nbformat": 4,
 "nbformat_minor": 0
}
