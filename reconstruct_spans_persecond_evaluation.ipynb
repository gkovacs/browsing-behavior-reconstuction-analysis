{
 "cells": [
  {
   "cell_type": "code",
   "execution_count": 1,
   "metadata": {
    "collapsed": false
   },
   "outputs": [
    {
     "data": {
      "text/plain": [
       "0"
      ]
     },
     "execution_count": 1,
     "metadata": {},
     "output_type": "execute_result"
    }
   ],
   "source": [
    "# noexport\n",
    "\n",
    "import os\n",
    "os.system('export_notebook reconstruct_spans_persecond_evaluation.ipynb')"
   ]
  },
  {
   "cell_type": "code",
   "execution_count": 2,
   "metadata": {
    "collapsed": true
   },
   "outputs": [],
   "source": [
    "from tmilib import *\n",
    "import cPickle as pickle"
   ]
  },
  {
   "cell_type": "code",
   "execution_count": 3,
   "metadata": {
    "collapsed": false
   },
   "outputs": [],
   "source": [
    "pickle_file = 'classifier_threefeatures_randomforest_v2.pickle'\n",
    "classifier = pickle.load(open(pickle_file))"
   ]
  },
  {
   "cell_type": "code",
   "execution_count": 4,
   "metadata": {
    "collapsed": true
   },
   "outputs": [],
   "source": [
    "def get_reference_labels_for_user(user):\n",
    "  return get_secondlevel_activespan_dataset_insession_labels_for_user(user)\n",
    "\n",
    "def get_predicted_labels_for_user(user):\n",
    "  feature_vector = get_feature_vector_for_secondlevel_insession_threefeatures_for_user(user)\n",
    "  return classifier.predict(feature_vector)\n",
    "\n",
    "def get_stats_for_user(user):\n",
    "  stats = Counter()\n",
    "  for ref,rec in zip(get_reference_labels_for_user(user), get_predicted_labels_for_user(user)):\n",
    "    if ref == True and rec == True:\n",
    "      stats['tp'] += 1\n",
    "      continue\n",
    "    if ref == False and rec == False:\n",
    "      stats['tn'] += 1\n",
    "      continue\n",
    "    if ref == True and rec == False:\n",
    "      stats['fn'] += 1\n",
    "      continue\n",
    "    if ref == False and rec == True:\n",
    "      stats['fp'] += 1\n",
    "      continue\n",
    "  return stats"
   ]
  },
  {
   "cell_type": "code",
   "execution_count": 5,
   "metadata": {
    "collapsed": true
   },
   "outputs": [],
   "source": [
    "def get_stats_for_all_users():\n",
    "  stats = Counter()\n",
    "  for user in get_test_users():\n",
    "    for k,v in get_stats_for_user(user).viewitems():\n",
    "      stats[k] += v\n",
    "  return stats"
   ]
  },
  {
   "cell_type": "code",
   "execution_count": 6,
   "metadata": {
    "collapsed": false
   },
   "outputs": [
    {
     "name": "stdout",
     "output_type": "stream",
     "text": [
      "feature_vector_for_secondlevel_insession_threefeatures_for_user/UrZvGUsI8N.json\n",
      "feature_vector_for_secondlevel_insession_threefeatures_for_user/3a3FX1s9S6.json\n",
      "feature_vector_for_secondlevel_insession_threefeatures_for_user/TfAZTnnzST.json\n",
      "feature_vector_for_secondlevel_insession_threefeatures_for_user/N3buswFgSO.json\n",
      "feature_vector_for_secondlevel_insession_threefeatures_for_user/sEFFqggDAp.json\n",
      "feature_vector_for_secondlevel_insession_threefeatures_for_user/fx8NZArV8y.json\n",
      "feature_vector_for_secondlevel_insession_threefeatures_for_user/sXuYR7xPL2.json\n",
      "feature_vector_for_secondlevel_insession_threefeatures_for_user/b3NWn44W69.json\n",
      "feature_vector_for_secondlevel_insession_threefeatures_for_user/IAm4ofgNKb.json\n",
      "feature_vector_for_secondlevel_insession_threefeatures_for_user/8ngKlSW0Wv.json\n",
      "feature_vector_for_secondlevel_insession_threefeatures_for_user/MLancLTOqE.json\n",
      "feature_vector_for_secondlevel_insession_threefeatures_for_user/r6qiC7PoI1.json\n",
      "feature_vector_for_secondlevel_insession_threefeatures_for_user/nYeXJLKoUm.json\n",
      "feature_vector_for_secondlevel_insession_threefeatures_for_user/dwBGfodTyh.json\n",
      "feature_vector_for_secondlevel_insession_threefeatures_for_user/2e7ex5t0MT.json\n",
      "feature_vector_for_secondlevel_insession_threefeatures_for_user/MUHeUeRBTJ.json\n",
      "feature_vector_for_secondlevel_insession_threefeatures_for_user/khps2gAfwV.json\n",
      "feature_vector_for_secondlevel_insession_threefeatures_for_user/qgV6lFlkSa.json\n",
      "feature_vector_for_secondlevel_insession_threefeatures_for_user/ZiXJx6z1Rl.json\n",
      "feature_vector_for_secondlevel_insession_threefeatures_for_user/60qS4pDWkC.json\n",
      "feature_vector_for_secondlevel_insession_threefeatures_for_user/S6XIUa9DJ8.json\n",
      "feature_vector_for_secondlevel_insession_threefeatures_for_user/ZXWhHg9RZG.json\n",
      "feature_vector_for_secondlevel_insession_threefeatures_for_user/YV8FroJtoa.json\n",
      "feature_vector_for_secondlevel_insession_threefeatures_for_user/LkAJvBy8fA.json\n",
      "feature_vector_for_secondlevel_insession_threefeatures_for_user/XyJ4fbLuxp.json\n",
      "feature_vector_for_secondlevel_insession_threefeatures_for_user/VXKLcUCkFv.json\n",
      "feature_vector_for_secondlevel_insession_threefeatures_for_user/Re25RopoXx.json\n",
      "feature_vector_for_secondlevel_insession_threefeatures_for_user/BuBH95V40k.json\n",
      "feature_vector_for_secondlevel_insession_threefeatures_for_user/ol9VMVbVHN.json\n",
      "feature_vector_for_secondlevel_insession_threefeatures_for_user/7fg6XHTfAp.json\n",
      "feature_vector_for_secondlevel_insession_threefeatures_for_user/c4se1PqOgx.json\n",
      "feature_vector_for_secondlevel_insession_threefeatures_for_user/ZHflKVDwN1.json\n",
      "feature_vector_for_secondlevel_insession_threefeatures_for_user/I7pqdKa4NJ.json\n",
      "feature_vector_for_secondlevel_insession_threefeatures_for_user/ZewScTWpQH.json\n",
      "feature_vector_for_secondlevel_insession_threefeatures_for_user/Hdx9yNR4un.json\n",
      "feature_vector_for_secondlevel_insession_threefeatures_for_user/Hi2YFQFFRX.json\n",
      "feature_vector_for_secondlevel_insession_threefeatures_for_user/4KS43rsxAD.json\n",
      "feature_vector_for_secondlevel_insession_threefeatures_for_user/kT7S3wmYZO.json\n",
      "feature_vector_for_secondlevel_insession_threefeatures_for_user/oHo0KJayR3.json\n",
      "feature_vector_for_secondlevel_insession_threefeatures_for_user/XkKl68D8WC.json\n",
      "feature_vector_for_secondlevel_insession_threefeatures_for_user/qFfhJueo4f.json\n",
      "feature_vector_for_secondlevel_insession_threefeatures_for_user/hGCJGBh8Ah.json\n",
      "feature_vector_for_secondlevel_insession_threefeatures_for_user/Cfu7zsLzxH.json\n",
      "feature_vector_for_secondlevel_insession_threefeatures_for_user/g34wuNJgSm.json\n",
      "feature_vector_for_secondlevel_insession_threefeatures_for_user/CUkQIMI9zA.json\n",
      "feature_vector_for_secondlevel_insession_threefeatures_for_user/CTm8XotZoZ.json\n",
      "feature_vector_for_secondlevel_insession_threefeatures_for_user/E53DGPZ188.json\n",
      "feature_vector_for_secondlevel_insession_threefeatures_for_user/2bK78oKaW6.json\n",
      "feature_vector_for_secondlevel_insession_threefeatures_for_user/PfcYy82N2O.json\n",
      "feature_vector_for_secondlevel_insession_threefeatures_for_user/gVvfiSW3is.json\n",
      "feature_vector_for_secondlevel_insession_threefeatures_for_user/3JDp0OuLv4.json\n",
      "feature_vector_for_secondlevel_insession_threefeatures_for_user/yvAg28ridg.json\n",
      "feature_vector_for_secondlevel_insession_threefeatures_for_user/xDhU4lHDlP.json\n",
      "feature_vector_for_secondlevel_insession_threefeatures_for_user/q589WvazlK.json\n",
      "feature_vector_for_secondlevel_insession_threefeatures_for_user/fblHu0OZkZ.json\n",
      "feature_vector_for_secondlevel_insession_threefeatures_for_user/00LnQeq1SQ.json\n",
      "feature_vector_for_secondlevel_insession_threefeatures_for_user/0sDxoGSuf6.json\n",
      "feature_vector_for_secondlevel_insession_threefeatures_for_user/iYLwIL7JHg.json\n",
      "feature_vector_for_secondlevel_insession_threefeatures_for_user/20ciww1zVP.json\n",
      "feature_vector_for_secondlevel_insession_threefeatures_for_user/XasdQ0RMDo.json\n",
      "feature_vector_for_secondlevel_insession_threefeatures_for_user/CpkJ8L4Xwg.json\n",
      "feature_vector_for_secondlevel_insession_threefeatures_for_user/7pFGxVObu6.json\n",
      "feature_vector_for_secondlevel_insession_threefeatures_for_user/q9TQALCrVo.json\n",
      "feature_vector_for_secondlevel_insession_threefeatures_for_user/qVpbz10wnQ.json\n",
      "feature_vector_for_secondlevel_insession_threefeatures_for_user/slQSVAoKw9.json\n",
      "feature_vector_for_secondlevel_insession_threefeatures_for_user/3Kd4L1WyRf.json\n",
      "feature_vector_for_secondlevel_insession_threefeatures_for_user/OJPaC9ChXY.json\n",
      "feature_vector_for_secondlevel_insession_threefeatures_for_user/pEUnqUDtBT.json\n",
      "feature_vector_for_secondlevel_insession_threefeatures_for_user/WlQR9c3gxB.json\n",
      "feature_vector_for_secondlevel_insession_threefeatures_for_user/5aAWsn30FO.json\n",
      "feature_vector_for_secondlevel_insession_threefeatures_for_user/yFENbIeERx.json\n",
      "feature_vector_for_secondlevel_insession_threefeatures_for_user/NPrpJqWMkb.json\n",
      "feature_vector_for_secondlevel_insession_threefeatures_for_user/y9QE4DHHJN.json\n",
      "feature_vector_for_secondlevel_insession_threefeatures_for_user/batItsva2s.json\n",
      "feature_vector_for_secondlevel_insession_threefeatures_for_user/OtHgO83x97.json\n"
     ]
    }
   ],
   "source": [
    "#user = get_test_users()[0]\n",
    "#print user\n",
    "#print get_stats_for_user(user)\n",
    "overall_stats = get_stats_for_all_users()"
   ]
  },
  {
   "cell_type": "code",
   "execution_count": 7,
   "metadata": {
    "collapsed": false
   },
   "outputs": [
    {
     "name": "stdout",
     "output_type": "stream",
     "text": [
      "precision 0.794832757839\n",
      "recall 0.721769825104\n",
      "f1 0.756541373547\n",
      "accuracy 0.760020765727\n",
      "tp 9992027.0\n",
      "tn 10375011.0\n",
      "fp 2579205.0\n",
      "fn 3851759.0\n"
     ]
    }
   ],
   "source": [
    "def print_evaluation_stats(stats):\n",
    "  tp = float(stats['tp'])\n",
    "  tn = float(stats['tn'])\n",
    "  fp = float(stats['fp'])\n",
    "  fn = float(stats['fn'])\n",
    "  precision = tp / (tp + fp)\n",
    "  recall = tp / (tp + fn)\n",
    "  f1 = 2*(precision*recall)/(precision+recall)\n",
    "  accuracy = (tp + tn) / (tp + tn + fp + fn)\n",
    "  print 'precision', precision\n",
    "  print 'recall', recall\n",
    "  print 'f1', f1\n",
    "  print 'accuracy', accuracy\n",
    "  print 'tp', tp\n",
    "  print 'tn', tn\n",
    "  print 'fp', fp\n",
    "  print 'fn', fn\n",
    "\n",
    "print_evaluation_stats(overall_stats)"
   ]
  },
  {
   "cell_type": "code",
   "execution_count": null,
   "metadata": {
    "collapsed": false
   },
   "outputs": [],
   "source": []
  },
  {
   "cell_type": "code",
   "execution_count": null,
   "metadata": {
    "collapsed": false
   },
   "outputs": [],
   "source": []
  },
  {
   "cell_type": "code",
   "execution_count": null,
   "metadata": {
    "collapsed": false
   },
   "outputs": [],
   "source": []
  }
 ],
 "metadata": {
  "kernelspec": {
   "display_name": "Python 2",
   "language": "python",
   "name": "python2"
  },
  "language_info": {
   "codemirror_mode": {
    "name": "ipython",
    "version": 2
   },
   "file_extension": ".py",
   "mimetype": "text/x-python",
   "name": "python",
   "nbconvert_exporter": "python",
   "pygments_lexer": "ipython2",
   "version": "2.7.11"
  }
 },
 "nbformat": 4,
 "nbformat_minor": 0
}
