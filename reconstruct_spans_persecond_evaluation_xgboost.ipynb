{
 "cells": [
  {
   "cell_type": "code",
   "execution_count": 1,
   "metadata": {
    "collapsed": false
   },
   "outputs": [
    {
     "data": {
      "text/plain": [
       "0"
      ]
     },
     "execution_count": 1,
     "metadata": {},
     "output_type": "execute_result"
    }
   ],
   "source": [
    "# noexport\n",
    "\n",
    "import os\n",
    "os.system('export_notebook reconstruct_spans_persecond_evaluation_xgboost.ipynb')"
   ]
  },
  {
   "cell_type": "code",
   "execution_count": 2,
   "metadata": {
    "collapsed": true
   },
   "outputs": [],
   "source": [
    "from tmilib import *\n",
    "import cPickle as pickle"
   ]
  },
  {
   "cell_type": "code",
   "execution_count": null,
   "metadata": {
    "collapsed": false
   },
   "outputs": [],
   "source": []
  },
  {
   "cell_type": "code",
   "execution_count": 3,
   "metadata": {
    "collapsed": true
   },
   "outputs": [],
   "source": [
    "def get_reference_labels_for_user(user):\n",
    "  return get_secondlevel_activespan_dataset_labels_for_user(user)\n",
    "\n",
    "def get_predicted_labels_for_user(user):\n",
    "  feature_vector = get_feature_vector_for_secondlevel_allfeatures_for_user(user)\n",
    "  return classifier.predict(feature_vector)\n",
    "\n",
    "def get_stats_for_user(user):\n",
    "  stats = Counter()\n",
    "  for ref,rec in zip(get_reference_labels_for_user(user), get_predicted_labels_for_user(user)):\n",
    "    if ref == True and rec == True:\n",
    "      stats['tp'] += 1\n",
    "      continue\n",
    "    if ref == False and rec == False:\n",
    "      stats['tn'] += 1\n",
    "      continue\n",
    "    if ref == True and rec == False:\n",
    "      stats['fn'] += 1\n",
    "      continue\n",
    "    if ref == False and rec == True:\n",
    "      stats['fp'] += 1\n",
    "      continue\n",
    "  return stats"
   ]
  },
  {
   "cell_type": "code",
   "execution_count": 4,
   "metadata": {
    "collapsed": true
   },
   "outputs": [],
   "source": [
    "def get_stats_for_all_users():\n",
    "  stats = Counter()\n",
    "  for user in get_test_users():\n",
    "    for k,v in get_stats_for_user(user).viewitems():\n",
    "      stats[k] += v\n",
    "  return stats"
   ]
  },
  {
   "cell_type": "code",
   "execution_count": null,
   "metadata": {
    "collapsed": false
   },
   "outputs": [],
   "source": []
  },
  {
   "cell_type": "code",
   "execution_count": null,
   "metadata": {
    "collapsed": false
   },
   "outputs": [],
   "source": [
    "def print_evaluation_stats(stats):\n",
    "  tp = float(stats['tp'])\n",
    "  tn = float(stats['tn'])\n",
    "  fp = float(stats['fp'])\n",
    "  fn = float(stats['fn'])\n",
    "  precision = tp / (tp + fp)\n",
    "  recall = tp / (tp + fn)\n",
    "  f1 = 2*(precision*recall)/(precision+recall)\n",
    "  accuracy = (tp + tn) / (tp + tn + fp + fn)\n",
    "  print 'precision', precision\n",
    "  print 'recall', recall\n",
    "  print 'f1', f1\n",
    "  print 'accuracy', accuracy\n",
    "  print 'tp', tp\n",
    "  print 'tn', tn\n",
    "  print 'fp', fp\n",
    "  print 'fn', fn\n",
    "\n",
    "#print_evaluation_stats(overall_stats)"
   ]
  },
  {
   "cell_type": "code",
   "execution_count": null,
   "metadata": {
    "collapsed": false
   },
   "outputs": [
    {
     "name": "stdout",
     "output_type": "stream",
     "text": [
      "xgboost_tensecond_allfeatures_subsample_0.9_colsample_bytree_0.9.pickle\n",
      "secondlevel_activespan_dataset_labels_for_user/UrZvGUsI8N.json\n"
     ]
    }
   ],
   "source": [
    "for pickle_file in glob('*xgboost*.pickle'):\n",
    "  #pickle_file = 'classifier_threefeatures_randomforest_v2.pickle'\n",
    "  print pickle_file\n",
    "  classifier = pickle.load(open(pickle_file))\n",
    "  #user = get_test_users()[0]\n",
    "  #print user\n",
    "  #print get_stats_for_user(user)\n",
    "  overall_stats = get_stats_for_all_users()\n",
    "  print_evaluation_stats(overall_stats)"
   ]
  },
  {
   "cell_type": "code",
   "execution_count": null,
   "metadata": {
    "collapsed": false
   },
   "outputs": [],
   "source": []
  },
  {
   "cell_type": "code",
   "execution_count": null,
   "metadata": {
    "collapsed": false
   },
   "outputs": [],
   "source": []
  }
 ],
 "metadata": {
  "kernelspec": {
   "display_name": "Python 2",
   "language": "python",
   "name": "python2"
  },
  "language_info": {
   "codemirror_mode": {
    "name": "ipython",
    "version": 2
   },
   "file_extension": ".py",
   "mimetype": "text/x-python",
   "name": "python",
   "nbconvert_exporter": "python",
   "pygments_lexer": "ipython2",
   "version": "2.7.11"
  }
 },
 "nbformat": 4,
 "nbformat_minor": 0
}
