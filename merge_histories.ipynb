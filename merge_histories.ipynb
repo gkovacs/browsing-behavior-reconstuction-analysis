{
 "cells": [
  {
   "cell_type": "code",
   "execution_count": 1,
   "metadata": {
    "collapsed": false
   },
   "outputs": [
    {
     "data": {
      "text/plain": [
       "0"
      ]
     },
     "execution_count": 1,
     "metadata": {},
     "output_type": "execute_result"
    }
   ],
   "source": [
    "# noexport\n",
    "\n",
    "import os\n",
    "os.system('export_notebook merge_histories.ipynb')"
   ]
  },
  {
   "cell_type": "code",
   "execution_count": null,
   "metadata": {
    "collapsed": false
   },
   "outputs": [
    {
     "name": "stdout",
     "output_type": "stream",
     "text": [
      "/home/gkovacs/tmi-data/local_2016-03-19_23:18:53-07:00/hist_6Z8LgDNxli.json\n",
      "/home/gkovacs/tmi-data/local_2016-03-19_23:18:53-07:00/hist_OQZ2XlXq2F.json\n",
      "/home/gkovacs/tmi-data/local_2016-03-19_23:18:53-07:00/hist_OQgoe3kHsm.json\n",
      "/home/gkovacs/tmi-data/local_2016-03-19_23:18:53-07:00/hist_7JOMMv7Kqf.json\n",
      "/home/gkovacs/tmi-data/local_2016-03-19_23:18:53-07:00/hist_VYfLv7b8hg.json\n",
      "/home/gkovacs/tmi-data/local_2016-03-19_23:18:53-07:00/hist_kEVg7v0LcS.json\n",
      "/home/gkovacs/tmi-data/local_2016-03-19_23:18:53-07:00/hist_4ptxAc8AxI.json\n",
      "/home/gkovacs/tmi-data/local_2016-03-19_23:18:53-07:00/hist_r6qiC7PoI1.json\n"
     ]
    }
   ],
   "source": [
    "import ujson as json\n",
    "import subprocess\n",
    "from glob import glob\n",
    "\n",
    "from decompress_lzstring import decompressFromBase64\n",
    "\n",
    "from tmilib import *\n",
    "\n",
    "#print subprocess.check_output(['free', '-h'])\n",
    "\n",
    "#basedir = sorted(glob('/home/gkovacs/tmi-data/local_*'), reverse=True)[0]\n",
    "basedir = get_basedir()\n",
    "\n",
    "#print basedir\n",
    "\n",
    "\n",
    "#history_files = glob(basedir + '/hist_*.json')\n",
    "history_files = list_histfiles()\n",
    "#print history_files\n",
    "\n",
    "\n",
    "username_to_mturk_id = json.load(open('username_to_mturk_id.json'))\n",
    "\n",
    "mturkid_to_history_pages = {}\n",
    "mturkid_to_history_visits = {}\n",
    "mturkid_to_hid = {}\n",
    "\n",
    "\n",
    "for filename in history_files:\n",
    "  print filename\n",
    "  all_lines = json.load(open(filename))\n",
    "  for line in reversed(all_lines):\n",
    "    evt = line['evt']\n",
    "    hid = line['hid']\n",
    "    user = line.get('user', None)\n",
    "    mturkid = line.get('mturkid', None)\n",
    "    if mturkid == None:\n",
    "      if user == None:\n",
    "        continue\n",
    "      mturkid = username_to_mturk_id.get(user, None)\n",
    "      if mturkid == None:\n",
    "        continue\n",
    "    orig_hid = mturkid_to_hid.get(mturkid, 0)\n",
    "    if orig_hid > hid:\n",
    "      continue\n",
    "    if hid > orig_hid:\n",
    "      mturkid_to_hid[mturkid] = hid\n",
    "      mturkid_to_history_pages[mturkid] = []\n",
    "      mturkid_to_history_visits[mturkid] = {}\n",
    "    data = json.loads(decompressFromBase64(line['data']))\n",
    "    if evt == 'history_pages':\n",
    "      mturkid_to_history_pages[mturkid] = data\n",
    "    if evt == 'history_visits':\n",
    "      for k,v in data.items():\n",
    "        mturkid_to_history_visits[mturkid][k] = v\n",
    "\n",
    "json.dump(mturkid_to_history_pages, open('mturkid_to_history_pages.json', 'w'))\n",
    "json.dump(mturkid_to_history_visits, open('mturkid_to_history_visits.json', 'w'))\n"
   ]
  },
  {
   "cell_type": "code",
   "execution_count": 3,
   "metadata": {
    "collapsed": false
   },
   "outputs": [],
   "source": [
    "#print list(reversed([0,1,2]))"
   ]
  },
  {
   "cell_type": "code",
   "execution_count": 24,
   "metadata": {
    "collapsed": false
   },
   "outputs": [
    {
     "name": "stdout",
     "output_type": "stream",
     "text": [
      "<built-in function unichr>\n"
     ]
    }
   ],
   "source": []
  }
 ],
 "metadata": {
  "kernelspec": {
   "display_name": "Python 2",
   "language": "python",
   "name": "python2"
  },
  "language_info": {
   "codemirror_mode": {
    "name": "ipython",
    "version": 2
   },
   "file_extension": ".py",
   "mimetype": "text/x-python",
   "name": "python",
   "nbconvert_exporter": "python",
   "pygments_lexer": "ipython2",
   "version": "2.7.11"
  }
 },
 "nbformat": 4,
 "nbformat_minor": 0
}
