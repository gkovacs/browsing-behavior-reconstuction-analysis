{
 "cells": [
  {
   "cell_type": "code",
   "execution_count": 1,
   "metadata": {
    "collapsed": false
   },
   "outputs": [
    {
     "data": {
      "text/plain": [
       "0"
      ]
     },
     "execution_count": 1,
     "metadata": {},
     "output_type": "execute_result"
    }
   ],
   "source": [
    "# noexport\n",
    "\n",
    "import os\n",
    "os.system('export_notebook make_categorical_data_h2o_csv_extrafeatures_evaluation.ipynb')"
   ]
  },
  {
   "cell_type": "code",
   "execution_count": 2,
   "metadata": {
    "collapsed": true
   },
   "outputs": [],
   "source": [
    "import csv\n",
    "import math"
   ]
  },
  {
   "cell_type": "code",
   "execution_count": 3,
   "metadata": {
    "collapsed": true
   },
   "outputs": [],
   "source": [
    "from tmilib import *"
   ]
  },
  {
   "cell_type": "code",
   "execution_count": 4,
   "metadata": {
    "collapsed": false
   },
   "outputs": [],
   "source": [
    "#user = get_training_users()[0]\n",
    "#print user"
   ]
  },
  {
   "cell_type": "code",
   "execution_count": 5,
   "metadata": {
    "collapsed": true
   },
   "outputs": [],
   "source": [
    "#dataset = get_secondlevel_activespan_dataset_for_user(user)"
   ]
  },
  {
   "cell_type": "code",
   "execution_count": 6,
   "metadata": {
    "collapsed": true
   },
   "outputs": [],
   "source": [
    "#top_domains = top_n_domains_by_visits(20)"
   ]
  },
  {
   "cell_type": "code",
   "execution_count": 7,
   "metadata": {
    "collapsed": false
   },
   "outputs": [],
   "source": [
    "#print top_domains"
   ]
  },
  {
   "cell_type": "code",
   "execution_count": 8,
   "metadata": {
    "collapsed": false,
    "scrolled": true
   },
   "outputs": [],
   "source": [
    "twenty_letters = [\"a\",\"b\",\"c\",\"d\",\"e\",\"f\",\"g\",\"h\",\"i\",\"j\",\"k\",\"l\",\"m\",\"n\",\"o\",\"p\",\"q\",\"r\",\"s\",\"t\"]\n",
    "#domain_to_letter = {x:twenty_letters[i] for i,x in enumerate(top_domains)}\n",
    "domain_id_to_letter = {domain_to_id(x):twenty_letters[i] for i,x in enumerate(top_n_domains_by_visits(20))}\n",
    "#print domain_id_to_letter\n",
    "#print domain_to_letter"
   ]
  },
  {
   "cell_type": "code",
   "execution_count": 9,
   "metadata": {
    "collapsed": false
   },
   "outputs": [],
   "source": [
    "productivity_letters = {-2: 'v', -1: 'w', 0: 'x', 1: 'y', 2: 'z'}\n",
    "domain_id_to_productivity_letter = [productivity_letters[x] for x in get_domain_id_to_productivity()]\n",
    "#print domain_id_to_productivity[:10]\n",
    "#print domain_id_to_productivity_letter[:10]"
   ]
  },
  {
   "cell_type": "code",
   "execution_count": 10,
   "metadata": {
    "collapsed": false
   },
   "outputs": [],
   "source": [
    "def user_data_to_csv(outpath, users, get_data_func):\n",
    "  full_outpath = sdir_path(outpath)\n",
    "  if sdir_exists(outpath):\n",
    "    print 'already exists', full_outpath\n",
    "    return\n",
    "  print outpath\n",
    "  outfile = csv.writer(open(full_outpath, 'w'))\n",
    "  outfile.writerow(['user', 'time_sec', 'label', 'sinceprev', 'tonext', 'spanlen', 'samedomain', 'fromdomain', 'todomain', 'fromprod', 'toprod'])\n",
    "  for user in users:\n",
    "    for time_sec, is_active, sinceprev, tonext, spanlen, from_domain_id, to_domain_id in get_data_func(user):\n",
    "      label = 'T' if is_active else 'F'\n",
    "      samedomain = 'T' if (from_domain_id == to_domain_id) else 'F'\n",
    "      fromdomain = domain_id_to_letter.get(from_domain_id, 'u')\n",
    "      todomain = domain_id_to_letter.get(to_domain_id, 'u')\n",
    "      fromdomain_prod = domain_id_to_productivity_letter[from_domain_id]\n",
    "      todomain_prod = domain_id_to_productivity_letter[to_domain_id]\n",
    "      outfile.writerow([user, time_sec, label, sinceprev, tonext, spanlen, samedomain, fromdomain, todomain, fromdomain_prod, todomain_prod])\n",
    "\n"
   ]
  },
  {
   "cell_type": "code",
   "execution_count": 11,
   "metadata": {
    "collapsed": true
   },
   "outputs": [],
   "source": [
    "def get_activespan_data(user, tensecond_only, insession_only):\n",
    "  output = []\n",
    "  ordered_visits = get_history_ordered_visits_corrected_for_user(user)\n",
    "  num_ordered_visits = len(ordered_visits)\n",
    "  active_seconds_set = set(get_active_insession_seconds_for_user(user))\n",
    "  insession_seconds_list = get_insession_both_seconds_for_user(user)\n",
    "  if len(insession_seconds_list) == 0:\n",
    "    print 'warning have no data for', user\n",
    "    return []\n",
    "  insession_seconds_set = set(insession_seconds_list)\n",
    "  first_session_start = insession_seconds_list[0]\n",
    "  last_session_end = insession_seconds_list[-1]\n",
    "  for idx,visit in enumerate(ordered_visits):\n",
    "    if idx+1 >= num_ordered_visits:\n",
    "      break\n",
    "    next_visit = ordered_visits[idx+1]\n",
    "    cur_time_sec = int(round(visit['visitTime']/1000.0))\n",
    "    next_time_sec = int(round(next_visit['visitTime']/1000.0))\n",
    "    from_domain_id = domain_to_id(url_to_domain(visit['url']))\n",
    "    to_domain_id = domain_to_id(url_to_domain(next_visit['url']))\n",
    "    if cur_time_sec >= next_time_sec:\n",
    "      continue\n",
    "    for time_sec in xrange(cur_time_sec+1, next_time_sec): # leave out seconds exactly on the marker - they will be errors\n",
    "      if not first_session_start <= time_sec <= last_session_end:\n",
    "        continue\n",
    "      if insession_only and (time_sec not in insession_seconds_set):\n",
    "        continue\n",
    "      if tensecond_only and (time_sec % 10 != 0):\n",
    "        continue\n",
    "      is_active = time_sec in active_seconds_set\n",
    "      sinceprev = time_sec - cur_time_sec\n",
    "      tonext = next_time_sec - time_sec\n",
    "      spanlen = sinceprev + tonext\n",
    "      #if sinceprev == 0:\n",
    "      #  is_active = True\n",
    "      #  sinceprev = 0.0001\n",
    "      #if tonext == 0:\n",
    "      #  is_active = True\n",
    "      #  tonext = 0.0001\n",
    "      output.append([time_sec, is_active, log(sinceprev), log(tonext), log(spanlen), from_domain_id, to_domain_id])\n",
    "  return output\n",
    "\n",
    "def get_activespan_data_tensecond(user):\n",
    "  return get_activespan_data(user, True, False)\n",
    "      \n",
    "def get_activespan_data_tensecond_insession(user):\n",
    "  return get_activespan_data(user, True, True)\n",
    "\n",
    "def get_activespan_data_second(user):\n",
    "  return get_activespan_data(user, False, False)\n",
    "\n",
    "def get_activespan_data_second_insession(user):\n",
    "  return get_activespan_data(user, False, True)\n",
    "\n"
   ]
  },
  {
   "cell_type": "code",
   "execution_count": 12,
   "metadata": {
    "collapsed": true
   },
   "outputs": [],
   "source": [
    "training_users = get_training_users()\n",
    "test_users = get_test_users()\n",
    "\n"
   ]
  },
  {
   "cell_type": "code",
   "execution_count": 13,
   "metadata": {
    "collapsed": false
   },
   "outputs": [
    {
     "name": "stdout",
     "output_type": "stream",
     "text": [
      "catdata_train_tensecond_evaluation_v4.csv\n",
      "catdata_test_tensecond_evaluation_v4.csv\n",
      "catdata_train_insession_tensecond_evaluation_v4.csv\n",
      "catdata_test_insession_tensecond_evaluation_v4.csv\n",
      "catdata_train_second_evaluation_v4.csv\n",
      "catdata_test_second_evaluation_v4.csv\n",
      "catdata_train_insession_second_evaluation_v4.csv\n",
      "catdata_test_insession_second_evaluation_v4.csv\n"
     ]
    },
    {
     "data": {
      "text/plain": [
       "\"\\nuser_data_to_csv('catdata_train_tensecond.csv', training_users, get_tensecondlevel_activespan_dataset_for_user)\\nuser_data_to_csv('catdata_test_tensecond.csv', test_users, get_tensecondlevel_activespan_dataset_for_user)\\nuser_data_to_csv('catdata_train_insession_tensecond.csv', training_users, get_tensecondlevel_activespan_dataset_insession_for_user)\\nuser_data_to_csv('catdata_test_insession_tensecond.csv', test_users, get_tensecondlevel_activespan_dataset_insession_for_user)\\nuser_data_to_csv('catdata_train_second.csv', training_users, get_secondlevel_activespan_dataset_for_user)\\nuser_data_to_csv('catdata_test_second.csv', test_users, get_secondlevel_activespan_dataset_for_user)\\nuser_data_to_csv('catdata_train_insession_second.csv', training_users, get_secondlevel_activespan_dataset_insession_for_user)\\nuser_data_to_csv('catdata_test_insession_second.csv', test_users, get_secondlevel_activespan_dataset_insession_for_user)\\n\""
      ]
     },
     "execution_count": 13,
     "metadata": {},
     "output_type": "execute_result"
    }
   ],
   "source": [
    "user_data_to_csv('catdata_train_tensecond_evaluation_v4.csv', training_users, get_activespan_data_tensecond)\n",
    "user_data_to_csv('catdata_test_tensecond_evaluation_v4.csv', test_users, get_activespan_data_tensecond)\n",
    "user_data_to_csv('catdata_train_insession_tensecond_evaluation_v4.csv', training_users, get_activespan_data_tensecond_insession)\n",
    "user_data_to_csv('catdata_test_insession_tensecond_evaluation_v4.csv', test_users, get_activespan_data_tensecond_insession)\n",
    "user_data_to_csv('catdata_train_second_evaluation_v4.csv', training_users, get_activespan_data_second)\n",
    "user_data_to_csv('catdata_test_second_evaluation_v4.csv', test_users, get_activespan_data_second)\n",
    "user_data_to_csv('catdata_train_insession_second_evaluation_v4.csv', training_users, get_activespan_data_second_insession)\n",
    "user_data_to_csv('catdata_test_insession_second_evaluation_v4.csv', test_users, get_activespan_data_second_insession)\n",
    "\n",
    "'''\n",
    "user_data_to_csv('catdata_train_tensecond.csv', training_users, get_tensecondlevel_activespan_dataset_for_user)\n",
    "user_data_to_csv('catdata_test_tensecond.csv', test_users, get_tensecondlevel_activespan_dataset_for_user)\n",
    "user_data_to_csv('catdata_train_insession_tensecond.csv', training_users, get_tensecondlevel_activespan_dataset_insession_for_user)\n",
    "user_data_to_csv('catdata_test_insession_tensecond.csv', test_users, get_tensecondlevel_activespan_dataset_insession_for_user)\n",
    "user_data_to_csv('catdata_train_second.csv', training_users, get_secondlevel_activespan_dataset_for_user)\n",
    "user_data_to_csv('catdata_test_second.csv', test_users, get_secondlevel_activespan_dataset_for_user)\n",
    "user_data_to_csv('catdata_train_insession_second.csv', training_users, get_secondlevel_activespan_dataset_insession_for_user)\n",
    "user_data_to_csv('catdata_test_insession_second.csv', test_users, get_secondlevel_activespan_dataset_insession_for_user)\n",
    "'''"
   ]
  }
 ],
 "metadata": {
  "kernelspec": {
   "display_name": "Python 2",
   "language": "python",
   "name": "python2"
  },
  "language_info": {
   "codemirror_mode": {
    "name": "ipython",
    "version": 2
   },
   "file_extension": ".py",
   "mimetype": "text/x-python",
   "name": "python",
   "nbconvert_exporter": "python",
   "pygments_lexer": "ipython2",
   "version": "2.7.6"
  }
 },
 "nbformat": 4,
 "nbformat_minor": 0
}
