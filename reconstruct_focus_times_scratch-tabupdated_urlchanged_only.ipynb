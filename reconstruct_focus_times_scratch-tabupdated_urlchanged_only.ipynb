{
 "cells": [
  {
   "cell_type": "code",
   "execution_count": 1,
   "metadata": {
    "collapsed": false
   },
   "outputs": [],
   "source": [
    "from tmilib import *"
   ]
  },
  {
   "cell_type": "code",
   "execution_count": 2,
   "metadata": {
    "collapsed": false
   },
   "outputs": [],
   "source": [
    "from reconstruct_focus_times_common import *\n",
    "from reconstruct_focus_times import ReconstructFocusTimesBaseline\n",
    "from session_tracker import get_focused_tab"
   ]
  },
  {
   "cell_type": "code",
   "execution_count": 3,
   "metadata": {
    "collapsed": false
   },
   "outputs": [
    {
     "data": {
      "text/plain": [
       "\"\\nfor user in list_users():\\n  ordered_visits = get_history_ordered_visits_for_user(user)\\n  if len(ordered_visits) == 0:\\n    continue\\n  last_visit = ordered_visits[-1]\\n  last_visit_time = float(last_visit['visitTime']) / 1000.0\\n  print user, datetime.datetime.fromtimestamp(last_visit_time)\\n\""
      ]
     },
     "execution_count": 3,
     "metadata": {},
     "output_type": "execute_result"
    }
   ],
   "source": [
    "'''\n",
    "for user in list_users():\n",
    "  ordered_visits = get_history_ordered_visits_for_user(user)\n",
    "  if len(ordered_visits) == 0:\n",
    "    continue\n",
    "  last_visit = ordered_visits[-1]\n",
    "  last_visit_time = float(last_visit['visitTime']) / 1000.0\n",
    "  print user, datetime.datetime.fromtimestamp(last_visit_time)\n",
    "'''"
   ]
  },
  {
   "cell_type": "code",
   "execution_count": 4,
   "metadata": {
    "collapsed": false
   },
   "outputs": [
    {
     "data": {
      "text/plain": [
       "\"\\nfor user in list_users():\\n  tab_focus_times = get_tab_focus_times_for_user(user)\\n  if len(tab_focus_times) == 0:\\n    continue\\n  last_visit = tab_focus_times[-1]\\n  last_visit_time = float(last_visit['end']) / 1000.0\\n  print user, datetime.datetime.fromtimestamp(last_visit_time)\\n\""
      ]
     },
     "execution_count": 4,
     "metadata": {},
     "output_type": "execute_result"
    }
   ],
   "source": [
    "'''\n",
    "for user in list_users():\n",
    "  tab_focus_times = get_tab_focus_times_for_user(user)\n",
    "  if len(tab_focus_times) == 0:\n",
    "    continue\n",
    "  last_visit = tab_focus_times[-1]\n",
    "  last_visit_time = float(last_visit['end']) / 1000.0\n",
    "  print user, datetime.datetime.fromtimestamp(last_visit_time)\n",
    "'''"
   ]
  },
  {
   "cell_type": "code",
   "execution_count": null,
   "metadata": {
    "collapsed": false
   },
   "outputs": [],
   "source": []
  },
  {
   "cell_type": "code",
   "execution_count": null,
   "metadata": {
    "collapsed": true
   },
   "outputs": [],
   "source": []
  },
  {
   "cell_type": "code",
   "execution_count": 5,
   "metadata": {
    "collapsed": true
   },
   "outputs": [],
   "source": [
    "def ignore_all_before_start_or_after_end(visit_lengths, start_time, end_time):\n",
    "  output = []\n",
    "  for x in visit_lengths:\n",
    "    if x['end'] < start_time:\n",
    "      continue\n",
    "    if x['start'] > end_time:\n",
    "      continue\n",
    "    #if x['start'] < start_time: # - 1000: # 1 second before or after\n",
    "    #  continue\n",
    "    #if x['end'] > end_time: # + 1000:\n",
    "    #  continue\n",
    "    output.append(x)\n",
    "  return output"
   ]
  },
  {
   "cell_type": "code",
   "execution_count": null,
   "metadata": {
    "collapsed": true
   },
   "outputs": [],
   "source": []
  },
  {
   "cell_type": "code",
   "execution_count": 6,
   "metadata": {
    "collapsed": false
   },
   "outputs": [
    {
     "data": {
      "text/plain": [
       "'\\ndef get_evaluation_stats_for_user(user):\\n  #evaluated_tab_focus_times,evaluated_reconstructed_tab_focus_times = get_evaluated_reference_and_reconstructed_focus_times_for_user(user)\\n  #if len(evaluated_reconstructed_tab_focus_times) == 0 or len(evaluated_tab_focus_times) == 0:\\n  #  return {}\\n  tab_focus_times = get_tab_focus_times_for_user(user)\\n  reconstructed_tab_focus_times = list(get_reconstruct_focus_times_baseline_for_user(user))\\n  if len(tab_focus_times) == 0 or len(reconstructed_tab_focus_times) == 0:\\n    return {}\\n  ref_start_time = max(get_earliest_start_time(tab_focus_times), get_earliest_start_time(reconstructed_tab_focus_times))\\n  ref_end_time = min(get_last_end_time(tab_focus_times), get_last_end_time(reconstructed_tab_focus_times))\\n  evaluated_reconstructed_tab_focus_times = ignore_all_before_start_or_after_end(reconstructed_tab_focus_times, ref_start_time, ref_end_time)\\n  evaluated_tab_focus_times = ignore_all_before_start_or_after_end(tab_focus_times, ref_start_time, ref_end_time)\\n  result_reference = second_to_active_url(evaluated_tab_focus_times, ref_start_time, ref_end_time)\\n  result_reconstructed = second_to_active_url(evaluated_reconstructed_tab_focus_times, ref_start_time, ref_end_time)\\n  return evaluation_stats_for_reconstruction(result_reference, result_reconstructed)\\n  #print tab_focus_times[0].keys()\\n  #print list(reconstructed_tab_focus_times)[0].keys()\\n'"
      ]
     },
     "execution_count": 6,
     "metadata": {},
     "output_type": "execute_result"
    }
   ],
   "source": [
    "def get_evaluated_reference_and_reconstructed_focus_times_for_user(user):\n",
    "  #tab_focus_times = get_tab_focus_times_for_user(user)\n",
    "  #tab_focus_times = get_tab_focus_times_only_tab_updated_for_user(user)\n",
    "  tab_focus_times = get_tab_focus_times_only_tab_updated_urlchanged_for_user(user)\n",
    "  reconstructed_tab_focus_times = list(get_reconstruct_focus_times_baseline_for_user(user))\n",
    "  if len(tab_focus_times) == 0 or len(reconstructed_tab_focus_times) == 0:\n",
    "    return [],[]\n",
    "  ref_start_time = max(get_earliest_start_time(tab_focus_times), get_earliest_start_time(reconstructed_tab_focus_times))\n",
    "  ref_end_time = min(get_last_end_time(tab_focus_times), get_last_end_time(reconstructed_tab_focus_times))\n",
    "  evaluated_reconstructed_tab_focus_times = ignore_all_before_start_or_after_end(reconstructed_tab_focus_times, ref_start_time, ref_end_time)\n",
    "  evaluated_tab_focus_times = ignore_all_before_start_or_after_end(tab_focus_times, ref_start_time, ref_end_time)\n",
    "  return evaluated_tab_focus_times,evaluated_reconstructed_tab_focus_times\n",
    "\n",
    "def get_evaluation_stats_for_user(user):\n",
    "  evaluated_tab_focus_times,evaluated_reconstructed_tab_focus_times = get_evaluated_reference_and_reconstructed_focus_times_for_user(user)\n",
    "  if len(evaluated_reconstructed_tab_focus_times) == 0 or len(evaluated_tab_focus_times) == 0:\n",
    "    return {}\n",
    "  return evalutate_tab_focus_reconstruction(evaluated_tab_focus_times, evaluated_reconstructed_tab_focus_times)\n",
    "\n",
    "'''\n",
    "def get_evaluation_stats_for_user(user):\n",
    "  #evaluated_tab_focus_times,evaluated_reconstructed_tab_focus_times = get_evaluated_reference_and_reconstructed_focus_times_for_user(user)\n",
    "  #if len(evaluated_reconstructed_tab_focus_times) == 0 or len(evaluated_tab_focus_times) == 0:\n",
    "  #  return {}\n",
    "  tab_focus_times = get_tab_focus_times_for_user(user)\n",
    "  reconstructed_tab_focus_times = list(get_reconstruct_focus_times_baseline_for_user(user))\n",
    "  if len(tab_focus_times) == 0 or len(reconstructed_tab_focus_times) == 0:\n",
    "    return {}\n",
    "  ref_start_time = max(get_earliest_start_time(tab_focus_times), get_earliest_start_time(reconstructed_tab_focus_times))\n",
    "  ref_end_time = min(get_last_end_time(tab_focus_times), get_last_end_time(reconstructed_tab_focus_times))\n",
    "  evaluated_reconstructed_tab_focus_times = ignore_all_before_start_or_after_end(reconstructed_tab_focus_times, ref_start_time, ref_end_time)\n",
    "  evaluated_tab_focus_times = ignore_all_before_start_or_after_end(tab_focus_times, ref_start_time, ref_end_time)\n",
    "  result_reference = second_to_active_url(evaluated_tab_focus_times, ref_start_time, ref_end_time)\n",
    "  result_reconstructed = second_to_active_url(evaluated_reconstructed_tab_focus_times, ref_start_time, ref_end_time)\n",
    "  return evaluation_stats_for_reconstruction(result_reference, result_reconstructed)\n",
    "  #print tab_focus_times[0].keys()\n",
    "  #print list(reconstructed_tab_focus_times)[0].keys()\n",
    "'''"
   ]
  },
  {
   "cell_type": "code",
   "execution_count": null,
   "metadata": {
    "collapsed": false
   },
   "outputs": [],
   "source": []
  },
  {
   "cell_type": "code",
   "execution_count": 7,
   "metadata": {
    "collapsed": true
   },
   "outputs": [],
   "source": [
    "class ClosestVisitTimeForUrl:\n",
    "  def __init__(self, tab_focus_times):\n",
    "    self.visits = tab_focus_times\n",
    "    self.url_to_visit_times = {} # url to start of visit\n",
    "    self.visit_time_to_visit = {}\n",
    "    for visit in self.visits: # these visits are time-ordered\n",
    "      start = visit['start']\n",
    "      url = visit['url']\n",
    "      if url not in self.url_to_visit_times:\n",
    "        self.url_to_visit_times[url] = []\n",
    "      self.url_to_visit_times[url].append(start)\n",
    "      self.visit_time_to_visit[start] = visit\n",
    "  def get_visit_from_time(self, target_visit_time):\n",
    "    self.visit_time_to_visit.get(target_visit_time, None)\n",
    "  def find_closest_visit(self, url, target_visit_time):\n",
    "    if url not in self.url_to_visit_times:\n",
    "      return None\n",
    "    all_visits = self.url_to_visit_times[url]\n",
    "    closest_visit = None\n",
    "    for visit in all_visits:\n",
    "      if closest_visit == None:\n",
    "        closest_visit = visit\n",
    "        continue\n",
    "      if abs(visit - target_visit_time) < abs(closest_visit - target_visit_time):\n",
    "        closest_visit = visit\n",
    "    return closest_visit"
   ]
  },
  {
   "cell_type": "code",
   "execution_count": null,
   "metadata": {
    "collapsed": true
   },
   "outputs": [],
   "source": []
  },
  {
   "cell_type": "code",
   "execution_count": 8,
   "metadata": {
    "collapsed": true
   },
   "outputs": [],
   "source": [
    "def get_span_alignment_stats_for_user(user):\n",
    "  evaluated_tab_focus_times,evaluated_reconstructed_tab_focus_times = get_evaluated_reference_and_reconstructed_focus_times_for_user(user)\n",
    "  if len(evaluated_reconstructed_tab_focus_times) == 0 or len(evaluated_tab_focus_times) == 0:\n",
    "    return {}\n",
    "  closest_visit_times_for_reference = ClosestVisitTimeForUrl(evaluated_tab_focus_times)\n",
    "  closest_visit_times_for_reconstructed = ClosestVisitTimeForUrl(evaluated_reconstructed_tab_focus_times)\n",
    "  stats = Counter()\n",
    "  domains_where_reconstructed_has_no_reference = Counter()\n",
    "  domains_where_reference_has_no_reconstructed = Counter()\n",
    "  urls_where_reconstructed_has_no_reference = Counter()\n",
    "  urls_where_reference_has_no_reconstructed = Counter()\n",
    "  reconstructed_transition_types_with_no_corresponding_reference = Counter()\n",
    "  reconstructed_transition_types_total = Counter()\n",
    "  reconstructed_visits_labeled = []\n",
    "  reference_visits_labeled = []\n",
    "  for visit in evaluated_reconstructed_tab_focus_times:\n",
    "    start_time = visit['start']\n",
    "    url = visit['url']\n",
    "    domain = url_to_domain(url)\n",
    "    closest_time = closest_visit_times_for_reference.find_closest_visit(url, start_time)\n",
    "    visit_labeled = {k:v for k,v in visit.items()}\n",
    "    if 'transition' in visit:\n",
    "      transition = visit['transition']\n",
    "      reconstructed_transition_types_total[transition] += 1\n",
    "    if closest_time == None or abs(start_time - closest_time) > 5*1000: # more than 5 seconds off\n",
    "      stats['reconstructed_has_no_corresponding_reference'] += 1\n",
    "      domains_where_reconstructed_has_no_reference[domain] += 1\n",
    "      urls_where_reconstructed_has_no_reference[url] += 1\n",
    "      visit_labeled['have_reference'] = False\n",
    "      if 'transition' in visit:\n",
    "        transition = visit['transition']\n",
    "        reconstructed_transition_types_with_no_corresponding_reference[transition] += 1\n",
    "    else:\n",
    "      stats['reconstructed_has_corresponding_reference'] += 1\n",
    "      visit_labeled['have_reference'] = True\n",
    "    reconstructed_visits_labeled.append(visit_labeled)\n",
    "  for visit in evaluated_tab_focus_times:\n",
    "    start_time = visit['start']\n",
    "    url = visit['url']\n",
    "    closest_time = closest_visit_times_for_reconstructed.find_closest_visit(url, start_time)\n",
    "    visit_labeled = {k:v for k,v in visit.items()}\n",
    "    if closest_time == None or abs(start_time - closest_time) > 5*1000: # more than 5 seconds off\n",
    "      stats['reference_has_no_corresponding_reconstructed'] += 1\n",
    "      domains_where_reference_has_no_reconstructed[domain] += 1\n",
    "      urls_where_reference_has_no_reconstructed[url] += 1\n",
    "      visit_labeled['have_reconstructed'] = False\n",
    "    else:\n",
    "      stats['reference_has_corresponding_reconstructed'] += 1\n",
    "      visit_labeled['have_reconstructed'] = True\n",
    "    reference_visits_labeled.append(visit_labeled)\n",
    "  return {\n",
    "    'stats': stats,\n",
    "    'domains_where_reconstructed_has_no_reference': domains_where_reconstructed_has_no_reference,\n",
    "    'domains_where_reference_has_no_reconstructed': domains_where_reference_has_no_reconstructed,\n",
    "    'urls_where_reconstructed_has_no_reference': urls_where_reconstructed_has_no_reference,\n",
    "    'urls_where_reference_has_no_reconstructed': urls_where_reference_has_no_reconstructed,\n",
    "    'reconstructed_visits_labeled': reconstructed_visits_labeled,\n",
    "    'reference_visits_labeled': reference_visits_labeled,\n",
    "    'reconstructed_transition_types_with_no_corresponding_reference': reconstructed_transition_types_with_no_corresponding_reference,\n",
    "    'reconstructed_transition_types_total': reconstructed_transition_types_total,\n",
    "  }"
   ]
  },
  {
   "cell_type": "code",
   "execution_count": 9,
   "metadata": {
    "collapsed": false
   },
   "outputs": [],
   "source": [
    "user_to_span_alignment_data = {}\n",
    "\n",
    "for user in list_users():\n",
    "  data = get_span_alignment_stats_for_user(user)\n",
    "  if 'stats' not in data:\n",
    "    continue\n",
    "  user_to_span_alignment_data[user] = data\n"
   ]
  },
  {
   "cell_type": "code",
   "execution_count": 10,
   "metadata": {
    "collapsed": false
   },
   "outputs": [
    {
     "name": "stdout",
     "output_type": "stream",
     "text": [
      "reconstructed_has_corresponding_reference 669982\n",
      "reference_has_corresponding_reconstructed 669503\n",
      "reconstructed_has_no_corresponding_reference 199591\n",
      "reference_has_no_corresponding_reconstructed 162384\n"
     ]
    }
   ],
   "source": [
    "overall_span_alignment_stats = Counter()\n",
    "for user,data in user_to_span_alignment_data.items():\n",
    "  stats = data['stats']\n",
    "  for k,v in stats.items():\n",
    "    overall_span_alignment_stats[k] += v\n",
    "\n",
    "print_counter(overall_span_alignment_stats)\n",
    "# 60% of reference have corresponding reconstructed\n",
    "# 84% of reconstructed have corresponding reference"
   ]
  },
  {
   "cell_type": "code",
   "execution_count": 11,
   "metadata": {
    "collapsed": false
   },
   "outputs": [
    {
     "name": "stdout",
     "output_type": "stream",
     "text": [
      "link 153043\n",
      "form_submit 20470\n",
      "reload 10565\n",
      "typed 6226\n",
      "generated 4462\n",
      "auto_bookmark 3377\n",
      "auto_toplevel 1400\n",
      "keyword 43\n",
      "keyword_generated 5\n"
     ]
    }
   ],
   "source": [
    "overall_transitions_with_no_reference = Counter()\n",
    "\n",
    "for user,data in user_to_span_alignment_data.items():\n",
    "  for k,v in data['reconstructed_transition_types_with_no_corresponding_reference'].items():\n",
    "    overall_transitions_with_no_reference[k] += v\n",
    "\n",
    "print_counter(overall_transitions_with_no_reference)"
   ]
  },
  {
   "cell_type": "code",
   "execution_count": 12,
   "metadata": {
    "collapsed": false
   },
   "outputs": [
    {
     "name": "stdout",
     "output_type": "stream",
     "text": [
      "link 669722\n",
      "form_submit 108915\n",
      "reload 31720\n",
      "typed 22748\n",
      "auto_bookmark 17769\n",
      "generated 14964\n",
      "auto_toplevel 3470\n",
      "keyword 259\n",
      "keyword_generated 6\n"
     ]
    }
   ],
   "source": [
    "overall_transitions_total_in_evaluated_reconstruction = Counter()\n",
    "\n",
    "for user,data in user_to_span_alignment_data.items():\n",
    "  for k,v in data['reconstructed_transition_types_total'].items():\n",
    "    overall_transitions_total_in_evaluated_reconstruction[k] += v\n",
    "\n",
    "print_counter(overall_transitions_total_in_evaluated_reconstruction)\n"
   ]
  },
  {
   "cell_type": "code",
   "execution_count": 13,
   "metadata": {
    "collapsed": false
   },
   "outputs": [
    {
     "name": "stdout",
     "output_type": "stream",
     "text": [
      "form_submit 0.18794472754\n",
      "auto_bookmark 0.190050087231\n",
      "keyword 0.166023166023\n",
      "typed 0.273694390716\n",
      "auto_toplevel 0.403458213256\n",
      "reload 0.333070617907\n",
      "generated 0.298182304197\n",
      "link 0.228517205647\n",
      "keyword_generated 0.833333333333\n"
     ]
    }
   ],
   "source": [
    "# history transition types that have highest levels of no-corresponding-reference\n",
    "for k,v in overall_transitions_total_in_evaluated_reconstruction.items():\n",
    "  bad_transitions = overall_transitions_with_no_reference.get(k, 0)\n",
    "  print k, (float(bad_transitions)/v)"
   ]
  },
  {
   "cell_type": "code",
   "execution_count": 14,
   "metadata": {
    "collapsed": false
   },
   "outputs": [
    {
     "name": "stdout",
     "output_type": "stream",
     "text": [
      "link 4996461\n",
      "form_submit 767306\n",
      "reload 269928\n",
      "typed 256299\n",
      "auto_bookmark 135748\n",
      "generated 131291\n",
      "auto_toplevel 99731\n",
      "keyword 2170\n",
      "keyword_generated 20\n"
     ]
    }
   ],
   "source": [
    "overall_transitions_total_in_reconstruction = Counter()\n",
    "\n",
    "for user in list_users_with_hist():\n",
    "  for visit in get_reconstruct_focus_times_baseline_for_user(user):\n",
    "    transition = visit['transition']\n",
    "    overall_transitions_total_in_reconstruction[transition] += 1\n",
    "\n",
    "print_counter(overall_transitions_total_in_reconstruction)"
   ]
  },
  {
   "cell_type": "code",
   "execution_count": 15,
   "metadata": {
    "collapsed": false
   },
   "outputs": [
    {
     "name": "stdout",
     "output_type": "stream",
     "text": [
      "link 6157728\n",
      "form_submit 1099071\n",
      "reload 412746\n",
      "typed 265271\n",
      "auto_bookmark 140369\n",
      "manual_subframe 137829\n",
      "generated 131656\n",
      "auto_toplevel 100801\n",
      "keyword 2173\n",
      "auto_subframe 302\n",
      "keyword_generated 21\n"
     ]
    }
   ],
   "source": [
    "overall_transitions_total = Counter()\n",
    "\n",
    "for user in list_users_with_hist():\n",
    "  for visit in get_history_ordered_visits_for_user(user):\n",
    "    transition = visit['transition']\n",
    "    overall_transitions_total[transition] += 1\n",
    "\n",
    "print_counter(overall_transitions_total)"
   ]
  },
  {
   "cell_type": "code",
   "execution_count": 16,
   "metadata": {
    "collapsed": false
   },
   "outputs": [
    {
     "name": "stdout",
     "output_type": "stream",
     "text": [
      "form_submit 0.0186248204165\n",
      "auto_subframe 0.0\n",
      "auto_bookmark 0.0240580185084\n",
      "keyword 0.0197883110907\n",
      "typed 0.0234703378809\n",
      "auto_toplevel 0.0138887511037\n",
      "reload 0.0255968561779\n",
      "generated 0.0338913532236\n",
      "link 0.0248538097168\n",
      "manual_subframe 0.0\n",
      "keyword_generated 0.238095238095\n"
     ]
    }
   ],
   "source": [
    "for k,v in overall_transitions_total.items():\n",
    "  bad_transitions = overall_transitions_with_no_reference.get(k, 0)\n",
    "  print k, (float(bad_transitions)/v)"
   ]
  },
  {
   "cell_type": "code",
   "execution_count": 17,
   "metadata": {
    "collapsed": false
   },
   "outputs": [
    {
     "name": "stdout",
     "output_type": "stream",
     "text": [
      "form_submit 0.0266777530737\n",
      "auto_bookmark 0.0248769779297\n",
      "keyword 0.0198156682028\n",
      "typed 0.0242919402729\n",
      "auto_toplevel 0.0140377615786\n",
      "reload 0.0391400669808\n",
      "generated 0.0339855740302\n",
      "link 0.0306302801123\n",
      "keyword_generated 0.25\n"
     ]
    }
   ],
   "source": [
    "for k,v in overall_transitions_total_in_reconstruction.items():\n",
    "  bad_transitions = overall_transitions_with_no_reference.get(k, 0)\n",
    "  print k, (float(bad_transitions)/v)\n",
    "\n"
   ]
  },
  {
   "cell_type": "code",
   "execution_count": 18,
   "metadata": {
    "collapsed": true
   },
   "outputs": [],
   "source": [
    "optimal_reconstruction_stats_spans = Counter()\n",
    "optimal_reconstruction_stats_times = Counter()\n",
    "\n",
    "for user,data in user_to_span_alignment_data.items():\n",
    "  for visit in data['reconstructed_visits_labeled']:\n",
    "    if visit['have_reference']:\n",
    "      optimal_reconstruction_stats_spans['reconstructed_has_reference'] += 1\n",
    "    else:\n",
    "      optimal_reconstruction_stats_spans['reconstructed_has_no_reference'] += 1\n",
    "  for visit in data['reference_visits_labeled']:\n",
    "    length = visit['end'] - visit['start']\n",
    "    if visit['have_reconstructed']:\n",
    "      optimal_reconstruction_stats_spans['reference_has_reconstructed'] += 1\n",
    "      optimal_reconstruction_stats_times['seconds_of_reference_that_can_be_reconstructed'] += length\n",
    "    else:\n",
    "      optimal_reconstruction_stats_spans['reference_has_no_reconstructed'] += 1\n",
    "      optimal_reconstruction_stats_times['seconds_of_reference_that_cannot_be_reconstructed'] += length"
   ]
  },
  {
   "cell_type": "code",
   "execution_count": 19,
   "metadata": {
    "collapsed": false
   },
   "outputs": [
    {
     "name": "stdout",
     "output_type": "stream",
     "text": [
      "reconstructed_has_reference 669982\n",
      "reference_has_reconstructed 669503\n",
      "reconstructed_has_no_reference 199591\n",
      "reference_has_no_reconstructed 162384\n"
     ]
    }
   ],
   "source": [
    "print_counter(optimal_reconstruction_stats_spans)\n",
    "# reference has reconstructed 60% = 80332.0 / (80332 + 54018)\n",
    "# reconstructed has reference 84% = 55748.0 / (10948 + 55748)\n",
    "\n",
    "# reference has reconstructed 73% = 574617.0/(574617+207343)\n",
    "# reconstructed has reference 79% = 572765.0/(572765 + 150460)"
   ]
  },
  {
   "cell_type": "code",
   "execution_count": 20,
   "metadata": {
    "collapsed": false
   },
   "outputs": [
    {
     "name": "stdout",
     "output_type": "stream",
     "text": [
      "seconds_of_reference_that_can_be_reconstructed 12425713372.0\n",
      "seconds_of_reference_that_cannot_be_reconstructed 3748728104.0\n"
     ]
    }
   ],
   "source": [
    "print_counter(optimal_reconstruction_stats_times)\n",
    "# seconds of reference that can be reconstructed 57% = 1254885375.005127 / (1254885375.005127 + 947693694.9926758)"
   ]
  },
  {
   "cell_type": "code",
   "execution_count": 21,
   "metadata": {
    "collapsed": true
   },
   "outputs": [],
   "source": [
    "domain_to_seconds_that_cannot_be_reconstructed = Counter()\n",
    "url_to_seconds_that_cannot_be_reconstructed = Counter()\n",
    "domain_to_spans_that_cannot_be_reconstructed = Counter()\n",
    "url_to_spans_that_cannot_be_reconstructed = Counter()\n",
    "\n",
    "for user,data in user_to_span_alignment_data.items():\n",
    "  for visit in data['reference_visits_labeled']:\n",
    "    length = visit['end'] - visit['start']\n",
    "    url = visit['url']\n",
    "    domain = url_to_domain(url)\n",
    "    if not visit['have_reconstructed']:\n",
    "      domain_to_seconds_that_cannot_be_reconstructed[domain] += length\n",
    "      domain_to_spans_that_cannot_be_reconstructed[domain] += 1\n",
    "      url_to_seconds_that_cannot_be_reconstructed[url] += length\n",
    "      url_to_spans_that_cannot_be_reconstructed[url] += 1"
   ]
  },
  {
   "cell_type": "code",
   "execution_count": null,
   "metadata": {
    "collapsed": false
   },
   "outputs": [],
   "source": []
  },
  {
   "cell_type": "code",
   "execution_count": 22,
   "metadata": {
    "collapsed": false
   },
   "outputs": [
    {
     "name": "stdout",
     "output_type": "stream",
     "text": [
      "www.mturk.com 49812\n",
      "newtab 26618\n",
      "www.facebook.com 7653\n",
      "www.youtube.com 5016\n",
      "mail.google.com 5003\n",
      "www.google.com 4764\n",
      "www.reddit.com 3052\n",
      "www.netflix.com 1759\n",
      "hitgrabber.net 1557\n",
      "www.mturkgrind.com 1302\n",
      "docs.google.com 1297\n",
      "apps.facebook.com 993\n",
      "www.amazon.com 934\n",
      "www.classmates.com 890\n",
      "us20.chatzy.com 749\n",
      "www.twitch.tv 731\n",
      "mturkforum.com 712\n",
      "www.trulia.com 669\n",
      "play.pokemonshowdown.com 627\n",
      "klbibkeccnjlkjkiokjodocebajanakg 579\n",
      "www.google.co.in 518\n",
      "www.swagbucks.com 443\n",
      "bookmarks 427\n",
      "www.buzzfeed.com 399\n",
      " 387\n",
      "us-mg5.mail.yahoo.com 379\n",
      "www.tumblr.com 359\n",
      "game.soul-arena.com 354\n",
      "boards.4chan.org 342\n",
      "v2.decipherinc.com 340\n",
      "web.whatsapp.com 307\n",
      "www.surveyjunkie.com 301\n",
      "www.surveymonkey.com 298\n",
      "turkernation.com 298\n",
      "www.mturkcrowd.com 297\n",
      "www.hulu.com 296\n",
      "www.tohosting.tk 291\n",
      "ma.brazzers.com 291\n",
      "play.google.com 285\n",
      "settings 282\n",
      "www.lipstickalley.com 267\n",
      "www.host2inger.com 265\n",
      "www.istreamitall.com 261\n",
      "twitter.com 259\n",
      "www.similarweb.com 259\n",
      "allmyvideos.net 246\n",
      "www.porn.com 245\n",
      "www.linkedin.com 236\n",
      "drive.google.com 231\n",
      "www.ebay.com 229\n",
      "surveys.ipsosinteractive.com 219\n",
      "translate.google.com 216\n",
      "www.hotnewhiphop.com 206\n",
      "turkopticon.ucsd.edu 204\n",
      "forums.somethingawful.com 204\n",
      "www.hbonow.com 197\n",
      "upenn.co1.qualtrics.com 186\n",
      "www.bing.com 186\n",
      "forums.animez.to 185\n",
      "www.livenewschat.eu 185\n",
      "mail.aol.com 184\n",
      "wharton.qualtrics.com 183\n",
      "history 182\n",
      "en.wikipedia.org 181\n",
      "www.yahoo.com 180\n",
      "survey.qualtrics.com 179\n",
      "tmi.stanford.edu 175\n",
      "prod.datacollectionsite.com 173\n",
      "vidbull.com 169\n",
      "extensions 166\n",
      "yalesurvey.qualtrics.com 163\n",
      "www.pinterest.com 161\n",
      "ups.surveyrouter.com 159\n",
      "accounts.google.com 158\n",
      "compstak.slack.com 157\n",
      "hw.reddit.com 156\n",
      "snt151.mail.live.com 153\n",
      "soundcloud.com 153\n",
      "us-mg6.mail.yahoo.com 147\n",
      "bitnmux.com 145\n",
      "downloads 145\n",
      "perk.tv 142\n",
      "ww6.crediblebh.com 140\n",
      "payments.amazon.com 139\n",
      "thewatchseries.to 136\n",
      "cornell.qualtrics.com 136\n",
      "www.messenger.com 127\n",
      "websurvey2.opinionbar.com 126\n",
      "www.yelp.com 125\n",
      "duke.qualtrics.com 124\n",
      "s2.userzoom.com 124\n",
      "www.speechpad.com 122\n",
      "www.surveywriter.net 121\n",
      "outlook.live.com 114\n",
      "ufl.qualtrics.com 113\n",
      "www.ranker.com 111\n",
      "www.imdb.com 106\n",
      "calendar.google.com 106\n",
      "mprlab327.webfactional.com 104\n",
      "www.jcpenney.com 102\n"
     ]
    }
   ],
   "source": [
    "print_counter(domain_to_spans_that_cannot_be_reconstructed)"
   ]
  },
  {
   "cell_type": "code",
   "execution_count": 23,
   "metadata": {
    "collapsed": false
   },
   "outputs": [
    {
     "name": "stdout",
     "output_type": "stream",
     "text": [
      "www.mturk.com 828441266.993\n",
      "www.facebook.com 289283485.997\n",
      "newtab 232157716.01\n",
      "www.youtube.com 196993591.002\n",
      "mail.google.com 117903085.0\n",
      "www.netflix.com 114632094.002\n",
      "www.reddit.com 97440090.9995\n",
      "apps.facebook.com 49416153.9976\n",
      "www.google.com 43381978.0027\n",
      "www.mturkgrind.com 37318936.9976\n",
      "docs.google.com 35249565.0022\n",
      "hitgrabber.net 34587563.0015\n",
      "www.amazon.com 30186048.9998\n",
      "play.pokemonshowdown.com 26162301.9998\n",
      "www.twitch.tv 24438958.9968\n",
      "us20.chatzy.com 24294560.0022\n",
      "mturkforum.com 22611133.0007\n",
      "www.messenger.com 19367432.9988\n",
      "www.surveymonkey.com 15802051.0032\n",
      "boards.4chan.org 15673824.9976\n",
      "turkernation.com 14286315.9978\n",
      "www.buzzfeed.com 14148288.0017\n",
      "us-mg5.mail.yahoo.com 13775991.0015\n",
      "www.lipstickalley.com 13538586.0012\n",
      "allmyvideos.net 13465046.0017\n",
      "www.tumblr.com 12925084.0007\n",
      "web.whatsapp.com 12691765.9993\n",
      "www.crowdcurio.com 11523645.0005\n",
      "www.swagbucks.com 10818555.001\n",
      "game.soul-arena.com 10798456.0012\n",
      "www.livenewschat.eu 10287916.9988\n",
      "www.hulu.com 10262940.9995\n",
      "twitter.com 10041888.9978\n",
      "surveys.ipsosinteractive.com 9859850.99976\n",
      "www.hbonow.com 9592754.99927\n",
      "upenn.co1.qualtrics.com 9013062.99829\n",
      "vidbull.com 8856461.99902\n",
      "www.porn.com 8787176.99829\n",
      "www.ebay.com 8741787.00049\n",
      "survey.qualtrics.com 8737209.99805\n",
      "www.istreamitall.com 8407956.0\n",
      "www.mturkcrowd.com 8368831.00024\n",
      "wharton.qualtrics.com 8244802.99731\n",
      "forums.somethingawful.com 8203134.99976\n",
      "tmi.stanford.edu 8044343.99951\n",
      "ma.brazzers.com 7934829.00024\n",
      "www.speechpad.com 7662787.99927\n",
      "www.linkedin.com 7330962.00024\n",
      "yalesurvey.qualtrics.com 6862561.00146\n",
      "www.tohosting.tk 6285413.00024\n",
      "perk.tv 6269706.00171\n",
      "en.wikipedia.org 6131827.0\n",
      " 6087909.00244\n",
      "www.pinterest.com 5856510.00171\n",
      "www.surveyjunkie.com 5836207.00195\n",
      "forums.animez.to 5827727.99902\n",
      "cornell.qualtrics.com 5804214.00024\n",
      "duke.qualtrics.com 5778794.99951\n",
      "mprlab327.webfactional.com 5710274.00024\n",
      "www.google.co.in 5707369.00024\n",
      "turkopticon.ucsd.edu 5483850.00146\n",
      "play.google.com 5305220.9978\n",
      "www.hotnewhiphop.com 5201048.99951\n",
      "cmu.qualtrics.com 5138064.99829\n",
      "extensions 5116481.99976\n",
      "mail.aol.com 5113455.00073\n",
      "ww6.crediblebh.com 5032141.00024\n",
      "www.host2inger.com 4898619.99854\n",
      "downloads 4830030.99976\n",
      "plinga.com 4824452.00024\n",
      "soundcloud.com 4735664.99902\n",
      "columbia.az1.qualtrics.com 4479624.99927\n",
      "www.surveygizmo.com 4466106.00171\n",
      "www.classmates.com 4386032.99976\n",
      "www.jcpenney.com 4295848.99902\n",
      "bookmarks 4132694.00098\n",
      "www.yahoo.com 4115574.99756\n",
      "bitnmux.com 4082691.0\n",
      "uwmadison.co1.qualtrics.com 4059000.99976\n",
      "dukefuqua.qualtrics.com 4046682.0\n",
      "ufl.qualtrics.com 4032994.00049\n",
      "history 4003037.0022\n",
      "nyu.qualtrics.com 3985493.00024\n",
      "berkeley.qualtrics.com 3961454.00024\n",
      "iu.co1.qualtrics.com 3873684.00049\n",
      "settings 3868712.99902\n",
      "stanfordgsb.qualtrics.com 3847805.00146\n",
      "psychologyuwaterloo.az1.qualtrics.com 3761508.00073\n",
      "listenonrepeat.com 3742750.00122\n",
      "www.pandora.com 3713149.99927\n",
      "washington.co1.qualtrics.com 3669490.00098\n",
      "chicagobooth.az1.qualtrics.com 3656760.99976\n",
      "harvard.az1.qualtrics.com 3647598.00073\n",
      "rotman.az1.qualtrics.com 3589524.99854\n",
      "ust.az1.qualtrics.com 3581087.99976\n",
      "utexas.qualtrics.com 3553183.00049\n",
      "bates.co1.qualtrics.com 3514796.00024\n",
      "stanforduniversity.qualtrics.com 3447011.00073\n",
      "outlook.live.com 3435115.0\n",
      "us-mg6.mail.yahoo.com 3413919.00024\n"
     ]
    }
   ],
   "source": [
    "print_counter(domain_to_seconds_that_cannot_be_reconstructed)"
   ]
  },
  {
   "cell_type": "code",
   "execution_count": 24,
   "metadata": {
    "collapsed": false
   },
   "outputs": [
    {
     "name": "stdout",
     "output_type": "stream",
     "text": [
      "chrome://newtab/ 26616\n",
      "https://www.mturk.com/mturk/dashboard 4921\n",
      "https://www.mturk.com/mturk/findhits?match=true?hit_scraper 4276\n",
      "https://www.facebook.com/ 4148\n",
      "https://www.google.com/webhp?sourceid=chrome-instant&ion=1&espv=2&ie=UTF-8 2260\n",
      "https://www.mturk.com/mturk/findhits?match=false&hit_scraper 1845\n",
      "http://hitgrabber.net/ 1557\n",
      "https://mail.google.com/mail/u/0/#inbox 1151\n",
      "https://us20.chatzy.com/11920092594925 749\n",
      "https://www.mturk.com/mturk/myhits 745\n",
      "https://www.mturk.com/HM 638\n",
      "https://www.mturk.com/mturk/findhits?match=true?hit_scraper-dev 430\n",
      "https://www.facebook.com/messages/jessica.wood.106 421\n",
      "https://www.mturk.com/mturk/findhits?match=false 404\n",
      "http://game.soul-arena.com/ 354\n",
      "https://www.mturk.com/mturk/findhits?match=true 330\n",
      "https://www.reddit.com/ 317\n",
      "https://web.whatsapp.com/ 307\n",
      "https://mail.google.com/mail/u/0/#spam 260\n",
      "https://www.mturk.com/mturk/submit 241\n",
      "https://www.mturk.com/mturk/findhits?match=false&hit_scraper# 221\n",
      "https://surveys.ipsosinteractive.com/surveys/25b6acb2-de68-11e2-a28f-0800200c9a66 219\n",
      " 200\n",
      "http://www.tohosting.tk/ 195\n",
      "https://www.tumblr.com/dashboard 191\n",
      "https://mail.google.com/mail/u/1/#inbox 188\n",
      "chrome://history/ 182\n",
      "chrome://settings/ 178\n",
      "https://www.mturk.com/mturk/welcome 174\n",
      "https://www.reddit.com/r/HITsWorthTurkingFor/new/ 170\n",
      "https://apps.facebook.com/eontictactoe/?fb_source=bookmark&ref=bookmarks&count=0&fb_bmpos=_0 153\n",
      "http://www.host2inger.com/ 152\n",
      "https://www.youtube.com/ 150\n",
      "https://apps.facebook.com/wordbattling/?fb_source=canvas_bookmark 149\n",
      "chrome://extensions/ 146\n",
      "chrome://downloads/ 145\n",
      "http://v2.decipherinc.com/survey/selfserve/e51/160303 140\n",
      "chrome-extension://klbibkeccnjlkjkiokjodocebajanakg/suspended.html#uri=https://www.reddit.com/r/HITsWorthTurkingFor/new/ 132\n",
      "chrome://bookmarks/#1 131\n",
      "http://play.pokemonshowdown.com/ 120\n",
      "https://www.facebook.com/Smoke.And.Ink 120\n",
      "https://apps.facebook.com/puzzlywords/?fb_source=canvas_bookmark 119\n",
      "https://www.yahoo.com/ 117\n",
      "https://www.reddit.com/r/HITsWorthTurkingFor/ 117\n",
      "https://www.facebook.com/?sk=h_chr 110\n",
      "https://forums.animez.to/ 108\n",
      "https://mail.google.com/mail/u/0/?tab=wm#inbox 103\n",
      "https://www.google.co.in/webhp?sourceid=chrome-instant&ion=1&espv=2&ie=UTF-8 101\n",
      "https://snt151.mail.live.com/?fid=flinbox 101\n",
      "https://www.crowdcurio.com/experiments/13/workflow/ 92\n",
      "https://mail.google.com/mail/u/0/#inbox?compose=new 92\n",
      "https://www.netflix.com/watch/70080629?trackId=13589554 91\n",
      "https://www.surveyjunkie.com/member 90\n",
      "about:blank 88\n",
      "https://prod.datacollectionsite.com/mrIWeb/mrIWeb.dll#running 86\n",
      "https://prod.datacollectionsite.com/mrIWeb/mrIWeb.dll 85\n",
      "https://docs.google.com/spreadsheets/d/1ocUh45zWwWVbAThx5GjytyC4rkHx77L5kJyRANuSnnY/edit#gid=0 85\n",
      "https://ww6.crediblebh.com/index.aspx?r=1&domain=SARHC 84\n",
      "https://apps.facebook.com/candycrushsoda/?fb_source=sidebar_bookmark 83\n",
      "https://www.mturk.com/mturk/continue?hitId=3QJOXOW4XJSRL8S1LFYNC98E7XCME8 82\n",
      "https://www.facebook.com/daniel.cozart.52/friends?source_ref=pb_friends_tl 81\n",
      "https://mail.google.com/mail/u/0/ 80\n",
      "http://gmail.com/ 79\n",
      "https://mail.aol.com/webmail-std/en-us/suite 79\n",
      "https://www.mturk.com/mturk/previewandaccept?groupId=3SFJXQ9EG58Y3WRLXCW2QCVUYYDXDX 78\n",
      "chrome://bookmarks/#28964 76\n",
      "https://www.mturk.com/mturk/searchbar?selectedSearchType=hitgroups&searchWords=a9&minReward=0.00&x=0&y=0 74\n",
      "https://www.facebook.com/?ref=tn_tnmn 74\n",
      "https://www.linkedin.com/home?trk=nav_responsive_tab_home 73\n",
      "https://twitter.com/ 73\n",
      "https://payments.amazon.com/overview 72\n",
      "chrome://bookmarks/#28967 72\n",
      "http://plinga.com/play#games/2/playOnline 72\n",
      "https://www.mturk.com/mturk/continue?hitId=3VA45EW49NOG1AJ1M7ILXTEPDON1OJ 70\n",
      "https://www.speechpad.com/worker/transcribe/fe2c82a4-aacf-4853-9d33-33a15e43379b# 70\n",
      "https://www.google.co.in/?gfe_rd=cr&ei=DhuEU9qfL6mViAeEgoHwDQ 69\n",
      "http://www.livenewschat.eu/politics/?ref=fv 69\n",
      "https://www.facebook.com/?q= 68\n",
      "https://www.crediblebh.com/ 67\n",
      "https://www.netflix.com/watch/70152026?trackId=13589554 63\n",
      "https://www.mturk.com/mturk/findhits?*hit_scraper 62\n",
      "https://apps.facebook.com/brainster/?fb_source=canvas_bookmark 61\n",
      "https://www.twitch.tv/lirik 61\n",
      "chrome-search://local-ntp/local-ntp.html 59\n",
      "https://www.mturk.com/mturk/myhits?first 59\n",
      "https://tlk.io/msrcode2 58\n",
      "http://www.car-insurance-quote-fx.com/ 58\n",
      "https://mail.google.com/mail/u/0/?ui=2&shva=1#inbox 57\n",
      "https://www.twitch.tv/directory/following 56\n",
      "http://slickdeals.net/ 56\n",
      "chrome://apps/ 56\n",
      "http://survey.qualtrics.com/SE/?SID=SV_do6qbWRzmmom8G9&Distributor=MTurk&MID=A1640H4RXH8NZE 55\n",
      "https://www.google.com/voice/b/0#inbox 55\n",
      "https://www.youtube.com/feed/subscriptions 55\n",
      "https://ww6.crediblebh.com/index.aspx? 55\n",
      "https://apps.facebook.com/coral-isle/ 55\n",
      "https://www.facebook.com/?ref=logo 53\n",
      "https://drive.google.com/drive/# 53\n",
      "https://www.facebook.com/shaz.ron.12 53\n",
      "https://turkopticon.ucsd.edu/main/php_search 53\n"
     ]
    }
   ],
   "source": [
    "print_counter(url_to_spans_that_cannot_be_reconstructed)"
   ]
  },
  {
   "cell_type": "code",
   "execution_count": 25,
   "metadata": {
    "collapsed": false
   },
   "outputs": [
    {
     "name": "stdout",
     "output_type": "stream",
     "text": [
      "chrome://newtab/ 232083736.01\n",
      "https://www.facebook.com/ 167814394.0\n",
      "https://www.mturk.com/mturk/dashboard 147985049.997\n",
      "https://www.mturk.com/mturk/findhits?match=true?hit_scraper 126401371.995\n",
      "https://www.mturk.com/mturk/findhits?match=false&hit_scraper 48501503.0042\n",
      "http://hitgrabber.net/ 34587563.0015\n",
      "https://mail.google.com/mail/u/0/#inbox 31891672.0012\n",
      "https://us20.chatzy.com/11920092594925 24294560.0022\n",
      "https://www.mturk.com/mturk/findhits?match=true?hit_scraper-dev 18951943.9998\n",
      "https://mail.google.com/mail/u/0/#spam 18405714.9998\n",
      "https://www.facebook.com/messages/jessica.wood.106 17004800.0022\n",
      "https://www.netflix.com/watch/70080629?trackId=13589554 15012666.0002\n",
      "https://www.mturk.com/mturk/myhits 14057454.9993\n",
      "https://www.messenger.com/t/darick.harvey 13665289.0002\n",
      "https://web.whatsapp.com/ 12691765.9993\n",
      "https://www.mturk.com/HM 12032297.0012\n",
      "https://www.facebook.com/?q= 10919770.9998\n",
      "http://game.soul-arena.com/ 10798456.0012\n",
      "https://www.crowdcurio.com/experiments/13/workflow/ 10327648.0005\n",
      "https://www.netflix.com/watch/70152026?trackId=13589554 9961917.99951\n",
      "https://www.reddit.com/ 9956995.99951\n",
      "https://surveys.ipsosinteractive.com/surveys/25b6acb2-de68-11e2-a28f-0800200c9a66 9859850.99976\n",
      "https://www.mturk.com/mturk/findhits?match=true 8906912.0\n",
      "https://mail.google.com/mail/u/1/#inbox 8555413.99951\n",
      "https://www.tumblr.com/dashboard 7663312.00049\n",
      "https://apps.facebook.com/wordbattling/?fb_source=canvas_bookmark 6594218.99976\n",
      "https://www.netflix.com/watch/70069654?trackId=13589554 6480986.99976\n",
      "https://apps.facebook.com/eontictactoe/?fb_source=bookmark&ref=bookmarks&count=0&fb_bmpos=_0 6317449.00024\n",
      "https://apps.facebook.com/puzzlywords/?fb_source=canvas_bookmark 5346381.99927\n",
      "https://www.facebook.com/?sk=h_chr 5156816.99976\n",
      "https://www.mturk.com/mturk/welcome 5087454.99951\n",
      "http://www.tohosting.tk/ 5009618.00049\n",
      "chrome://downloads/ 4830030.99976\n",
      "https://www.speechpad.com/worker/transcribe/fe2c82a4-aacf-4853-9d33-33a15e43379b# 4727864.00073\n",
      "https://apps.facebook.com/candycrushsoda/?fb_source=sidebar_bookmark 4568204.99878\n",
      "chrome://extensions/ 4527681.99951\n",
      "https://www.mturk.com/mturk/findhits?match=false 4511353.99902\n",
      "http://plinga.com/play#games/2/playOnline 4325614.00024\n",
      "https://www.facebook.com/Smoke.And.Ink 4243693.99976\n",
      "http://www.livenewschat.eu/politics/?ref=fv 4166929.99976\n",
      "https://apps.facebook.com/coral-isle/ 4108261.99976\n",
      "https://www.youtube.com/ 4030476.99902\n",
      "chrome://history/ 4003037.0022\n",
      "https://www.mturk.com/mturk/findhits?match=false&hit_scraper# 3922127.99683\n",
      "https://www.mturk.com/mturk/submit 3742123.99756\n",
      "https://ww6.crediblebh.com/index.aspx?r=1&domain=SARHC 3431573.0\n",
      "http://www.host2inger.com/ 3408755.00098\n",
      "https://www.facebook.com/?ref=tn_tnmn 3307895.99927\n",
      "http://www.livenewschat.eu/watch-live-tv/?ref=001 3271623.0\n",
      "https://www.reddit.com/r/TsumTsum/comments/49x7to/lion_king_event_mission_translations/ 3202693.0\n",
      "http://survey.qualtrics.com/SE/?SID=SV_do6qbWRzmmom8G9&Distributor=MTurk&MID=A1640H4RXH8NZE 3051514.99927\n",
      "https://apps.facebook.com/brainster/?fb_source=canvas_bookmark 2985821.99902\n",
      "https://mail.google.com/mail/u/0/?tab=wm#inbox 2973026.99951\n",
      "https://mail.aol.com/webmail-std/en-us/suite 2962398.00024\n",
      "https://www.twitch.tv/lirik 2954337.0\n",
      "https://www.yahoo.com/ 2940967.99731\n",
      "https://twitter.com/ 2918835.0\n",
      "https://www.mturk.com/mturk/previewandaccept?groupId=3AJ89545MPCD90O9UIVEIKRX3UKBEW 2830040.0\n",
      "https://www.crediblebh.com/ 2768043.0\n",
      "https://forums.animez.to/ 2765204.99927\n",
      "https://www.google.com/search?biw=1920&bih=979&tbm=isch&sa=1&q=forget+to+get+coverage+on+your+day+off&oq=forget+to+get+coverage+on+your+day+off&gs_l=img.3...45299.52257.0.52367.40.37.1.2.2.0.159.3140.31j5.36.0....0...1c.1.64.img..1.14.1048.fNPHX5BlOtA 2744503.00024\n",
      "https://www.netflix.com/watch/70189703?trackId=13589554 2728283.0\n",
      "https://www.linkedin.com/home?trk=nav_responsive_tab_home 2638954.99878\n",
      "https://checkout.shopify.com/2574515/checkouts/e071df10c6b70d520262547e6a9648d0/stock_problems?_ga=1.52993888.913846348.1454551429 2634565.00049\n",
      " 2587071.0022\n",
      "https://www.youtube.com/feed/subscriptions 2535267.99951\n",
      "https://gate.aon.com/Candidate/Step/SaveAssessmentAnswer 2418568.00073\n",
      "chrome://settings/ 2400315.99976\n",
      "https://perk.tv/video/248/perk-app-trailers 2293193.0\n",
      "https://www.reddit.com/r/HITsWorthTurkingFor/new/ 2279136.0\n",
      "http://play.pokemonshowdown.com/ 2197503.00024\n",
      "http://www.mturkgrind.com/threads/03-28-martian-monday.29477/page-11 2189554.99902\n",
      "https://www.surveyjunkie.com/member 2156386.00073\n",
      "https://tlk.io/msrcode2 2119940.99976\n",
      "https://uwmadison.co1.qualtrics.com/jfe/form/SV_e8P28m3GL4J3apT 2103172.0\n",
      "http://www.mblaze.home/default.asp 2075991.99951\n",
      "https://mail.google.com/mail/u/1/#search/divergent+realities/1534575253b93a46 2050368.00024\n",
      "http://www.goodway.com/hvac-blog/2009/10/mold-a-common-hvac-complaint-that-is-easy-to-deal-with/ 2000326.0\n",
      "http://turkernation.com/showthread.php?26624-Mills-vs-Spamgirl 1994468.99976\n",
      "https://www.pinterest.com/ 1982095.0\n",
      "https://apps.facebook.com/juicejam/?fb_source=bookmark&ref=bookmarks&count=0&fb_bmpos=_0 1977562.0\n",
      "https://www.netflix.com/watch/70275928?trackId=13752289&tctx=0%2C3%2C1d3ac0f43d58ae5cac9fcd6aac8953113512e37d%3A711518690b488de9f344e336dfbdfaae87214bfc 1973755.00024\n",
      "http://www.swagbucks.com/games/play/114/swagasaurus-run 1965393.99976\n",
      "https://sports.yahoo.com/ 1962872.99951\n",
      "https://www.amazon.com/gp/dmusic/cloudplayer/web?ie=UTF8&ref_=dm_dp_mcn_cp#primePlaylist/asin=B00TYUURDM/name=Putting+the+Baby+to+Bed/list=ATVPDKIKX0DER:B00KSZ9WBU 1959797.00049\n",
      "https://apps.facebook.com/coral-isle/?fb_source=sidebar_bookmark 1947702.00049\n",
      "https://www.twitch.tv/directory/following 1947433.99976\n",
      "http://www.pandora.com/ 1943439.00073\n",
      "http://www.crichd.tv/live-sky-sports-2-uk-stream.php 1943347.0\n",
      "https://www.twitch.tv/mintmaus 1917754.0\n",
      "http://www.livenewschat.eu/top/ 1907481.99927\n",
      "http://tinychat.com/teachturk 1900697.99951\n",
      "http://www.bbc.co.uk/iplayer/episode/b07556vt/the-graham-norton-show-series-19-batman-extra 1894290.00024\n",
      "https://www.twitch.tv/arteezy 1856210.00024\n",
      "https://plus.google.com/hangouts/_/cs.stanford.edu/msb 1842577.99976\n",
      "https://www.facebook.com/?ref=logo 1839945.00024\n",
      "http://mturkforum.com/showthread.php?34235-Finding-Imaginative-Hits-3-21-Monday/page23 1838063.0\n",
      "http://xfinitytv.comcast.net/live/network/tnt?cmpid=livetv_tnt_onnow 1823429.0\n",
      "http://www.1stplayable.com/tfbg/playtest/ 1818085.0\n",
      "https://tweetdeck.twitter.com/ 1811888.00024\n"
     ]
    }
   ],
   "source": [
    "print_counter(url_to_seconds_that_cannot_be_reconstructed)"
   ]
  },
  {
   "cell_type": "code",
   "execution_count": 26,
   "metadata": {
    "collapsed": true
   },
   "outputs": [],
   "source": [
    "overall_domains_where_reconstructed_has_no_reference = Counter()\n",
    "overall_domains_where_reference_has_no_reconstructed = Counter()\n",
    "overall_urls_where_reconstructed_has_no_reference = Counter()\n",
    "overall_urls_where_reference_has_no_reconstructed = Counter()\n",
    "\n",
    "for user,data in user_to_span_alignment_data.items():\n",
    "  for k,v in data['domains_where_reconstructed_has_no_reference'].items():\n",
    "    overall_domains_where_reconstructed_has_no_reference[k] += v\n",
    "  for k,v in data['domains_where_reference_has_no_reconstructed'].items():\n",
    "    overall_domains_where_reference_has_no_reconstructed[k] += v\n",
    "  for k,v in data['urls_where_reconstructed_has_no_reference'].items():\n",
    "    overall_urls_where_reconstructed_has_no_reference[k] += v\n",
    "  for k,v in data['urls_where_reference_has_no_reconstructed'].items():\n",
    "    overall_urls_where_reference_has_no_reconstructed[k] += v\n"
   ]
  },
  {
   "cell_type": "code",
   "execution_count": null,
   "metadata": {
    "collapsed": true
   },
   "outputs": [],
   "source": []
  },
  {
   "cell_type": "code",
   "execution_count": 27,
   "metadata": {
    "collapsed": false
   },
   "outputs": [
    {
     "name": "stdout",
     "output_type": "stream",
     "text": [
      "https://www.mturk.com/mturk/dashboard 4708\n",
      "https://www.google.com/webhp?sourceid=chrome-instant&ion=1&espv=2&ie=UTF-8 3177\n",
      "https://www.facebook.com/ 2090\n",
      "https://www.mturk.com/mturk/myhits 1912\n",
      "https://www.mturk.com/mturk/previewandaccept?groupId=3SFJXQ9EG58Y3WRLXCW2QCVUYYDXDX 1880\n",
      "https://www.mturk.com/mturk/checkregistration 1778\n",
      "https://www.mturk.com/mturk/previewandaccept?groupId=35DGDVUOHKKVOAMD7VZRLQEQ0J7YPA 1216\n",
      "https://www.mturk.com/mturk/previewandaccept?groupId=3NYGPW9OUZ9VT0WI3H1AZXNS6BEZP1 1212\n",
      "https://perk.tv/video/6268/perk-app-trailers 1127\n",
      "https://www.mturk.com/mturk/findhits?match=false 986\n",
      "https://www.mturk.com/mturk/sortmyhits?searchSpec=HITSearch%23T%231%2325%23-1%23T%23%21Status%210%21rO0ABXQACEFzc2lnbmVk%21%23%21Deadline%211%21%23%21 967\n",
      "https://www.mturk.com/mturk/previewandaccept?groupId=3PBTVBPQ9UI5R0A3PW7WXNE8W4CLGC 908\n",
      "https://mail.google.com/mail/u/0/#inbox 894\n",
      "https://perk.tv/video/248/perk-app-trailers 669\n",
      "https://www.mturk.com/mturk/findhits?match=true 661\n",
      "https://www.youtube.com/ 648\n",
      "https://www.tumblr.com/dashboard 588\n",
      "https://www.mturk.com/mturk/endsignin 534\n",
      "https://mail.google.com/mail/u/0/ 423\n",
      "https://www.reddit.com/r/HITsWorthTurkingFor/new/ 417\n",
      "https://mail.aol.com/38947-111/aol-6/en-us/Lite/MessageActions.aspx 397\n",
      "https://www.mturk.com/mturk/submit 379\n",
      "https://www.mturk.com/mturk/previewandaccept?groupId=37Z7ICZ5H99I7X75WVHFALYDSS611I 351\n",
      "https://www.yahoo.com/ 341\n",
      "https://www.mturk.com/mturk/previewandaccept?groupId=36DWM50OGJQWNGWUY157IKGIRLYKEQ 316\n",
      "https://www.mturk.com/mturk/viewhits?searchWords=&pageNumber=2&searchSpec=HITGroupSearch%23T%231%2310%23-1%23T%23%21only_available_hits%210%21rO0ABXQABHRydWU-%21%23%21Reward%211%21%23%21&sortType=Reward%3A1&selectedSearchType=hitgroups 310\n",
      "https://www.google.com/?gws_rd=ssl 308\n",
      "https://www.mturk.com/mturk/welcome 285\n",
      "http://theadvocate.com/ 280\n",
      "https://www.mturk.com/mturk/previewandaccept?groupId=3J26SAFG0SZ7EH1WME868VOWHV40IA 274\n",
      "https://www.mturk.com/mturk/myhits?first 272\n",
      "http://turkernation.com/search.php?do=getnew&contenttype=vBForum_Post 270\n",
      "https://www.mturk.com/mturk/previewandaccept?groupId=3J26SAFG0SX5N4SBHAF9L805JD4I0P 254\n",
      "https://work.crowdsurfwork.com/tasks/14d7b0778f8b480c9261f9241611ee56?work_submitted=1 244\n",
      "https://www.mturk.com/mturk/previewandaccept?groupId=3ZXEP6UEGGA75UPGRQ2UPK3XA4YO8B 239\n",
      "http://www.news.com.au/ 227\n",
      "https://www.reddit.com/ 225\n",
      "https://www.mturk.com/mturk/preview?groupId=3J26SAFG0SX5N4SBHAF9L805JD4I0P 225\n",
      "https://payments.amazon.com/overview 224\n",
      "https://www.mturk.com/mturk/previewandaccept?groupId=3XEPRIQTXG2QV4X67W8SE50B0S06JS 223\n",
      "https://docs.google.com/document/d/1q2s4u1jQ4BUVT16nCr-pkW114mMEDeLiTJztWJxp2Jw/edit 215\n",
      "https://www.amazon.com/ap/signin 187\n",
      "https://www.mturk.com/mturk/findhits?match=true?hit_scraper 182\n",
      "https://www.mturk.com/mturk/previewandaccept?groupId=3PCJO2UJYJQZHYLKXZA79DTJK2DU5D 170\n",
      "https://www.reddit.com/r/HITsWorthTurkingFor/ 167\n",
      "https://docs.google.com/document/d/1qhC05k7ura6BA9oMB_mWEtKFHqxbMHPDLvzDPeDmxYc/edit 166\n",
      "https://www.mturk.com/mturk/statusdetail?encodedDate=03172016 165\n",
      "https://www.mturk.com/mturk/beginsignin 159\n",
      "https://www.mturk.com/mturk/statusdetail?encodedDate=03162016 158\n",
      "http://www.tohosting.tk/2015/10/dedicated-virtual-server-hosting.html 157\n",
      "https://mail.google.com/mail/ 157\n",
      "https://www.mturk.com/mturk/previewandaccept?groupId=3SKITTYVZ4PIRKFZY4VNZ30XWWL366 151\n",
      "https://docs.google.com/document/d/1YS2cWgNie2k1lzZxol-5h0HvBk-4iEwYiXfVBFw244I/edit 148\n",
      "https://www.netflix.com/browse 146\n",
      "http://www.host2inger.com/ 145\n",
      "https://www.mturk.com/mturk/previewandaccept?groupId=301G7MYOAJ7M8GFLTLLI7XMX02335L 145\n",
      "https://www.mturk.com/mturk/previewandaccept?groupId=3ZA8T98ZB59GIVB6M6Y4H1G6XWFTFA 140\n",
      "https://www.google.com/webhp?sourceid=chrome-instant&ion=1&espv=2&es_th=1&ie=UTF-8 140\n",
      "http://www.tohosting.tk/ 139\n",
      "http://www.netflix.com/browse 135\n",
      "https://my.screenname.aol.com/_cqr/login/login.psp 129\n",
      "http://local.cs-int-592.com:5550/companies 129\n",
      "https://www.google.com/ 129\n",
      "https://www.netflix.com/ 129\n",
      "http://www.mblaze.home/default.asp 128\n",
      "http://www.tohosting.tk/2015/08/singapore-web-hosting-effective-choices.html 125\n",
      "https://www.mturk.com/mturk/preview?groupId=3SFJXQ9EG58Y3WRLXCW2QCVUYYDXDX 125\n",
      "https://www.facebook.com/login.php?login_attempt=1&lwv=110 124\n",
      "https://www.mturk.com/mturk/findhits?match=false&hit_scraper 123\n",
      "https://work.crowdsurfwork.com/tasks/14d7b0778f8b480c9261f9241611ee56?skip=1 122\n",
      "https://www.mturk.com/mturk/status 122\n",
      "https://www.mturk.com/mturk/previewandaccept?groupId=3SAOMJ8V4AKRRO4ZIBEJBA6OJROW45 120\n",
      "http://www.amazon.com/ 116\n",
      "https://accounts.google.com/ServiceLoginAuth 116\n",
      "https://www.google.co.in/webhp?sourceid=chrome-instant&ion=1&espv=2&ie=UTF-8 110\n",
      "https://www.mturk.com/mturk/previewandaccept?groupId=3RPY1MM0AHYRFGNHHAD9085N3TUHMC 107\n",
      "https://www.mturk.com/mturk/previewandaccept?groupId=329HSLC9WDXX9F2DN54ARF87CMFHGG 103\n",
      "https://www.twitch.tv/directory/following 100\n",
      "http://www.cashcrate.com/home 100\n",
      "https://accounts.google.com/ServiceLogin?service=mail&passive=true&rm=false&continue=https://mail.google.com/mail/&ss=1&scc=1&ltmpl=default&ltmplcache=2&emr=1&osid=1 100\n",
      "http://local.cs-int-592.com:5550/companies/2511/edit?limit=50&offset=0 98\n",
      "https://docs.google.com/document/d/1qhC05k7ura6BA9oMB_mWEtKFHqxbMHPDLvzDPeDmxYc/edit# 95\n",
      "https://www.mturk.com/mturk/previewandaccept?groupId=3UEL82N5TOJ3OX2YY1MR1XKEVT3NTP 95\n",
      "https://docs.google.com/document/d/1BfQLJTRE8P0INAweQW5YGOMu8WItKWqcA7ooUnQhOKM/edit# 93\n",
      "http://www.irazoo.com/Games/GameCaptcha.aspx?gameUrl=http://www.gamemosh.com/api/game.php?game=1i&width=550&height=500&pubid=irazo&affid=xyz&subid=[subid] 91\n",
      "https://www.mturk.com/mturk/previewandaccept?groupId=3VWJW73CGPCJPMK82IUG99P6QMHZF6 90\n",
      "https://www.mturk.com/mturk/previewandaccept?groupId=345DFELIOAUQDX0C57P1XS6GQX30XL 89\n",
      "https://www.mturk.com/mturk/previewandaccept?groupId=36M7HST2M6WTKOUBDPMHCDJF08O3BD 88\n",
      "http://www.twitch.tv/ 88\n",
      "https://tools.usps.com/go/TrackConfirmAction?tLabels=9400110200828958621435 88\n",
      "https://www.mturk.com/mturk/viewhits?searchWords=&pageNumber=3&searchSpec=HITGroupSearch%23T%232%2310%23-1%23T%23%21only_available_hits%210%21rO0ABXQABHRydWU-%21%23%21Reward%211%21%23%21&sortType=Reward%3A1&selectedSearchType=hitgroups 86\n",
      "http://www.mturkgrind.com/forums/awesome-hits.4/ 85\n",
      "https://www.mturk.com/mturk/previewandaccept?groupId=3TJWA4I73GA74QPH6L7C69PD32O21F 85\n",
      "https://www.mturk.com/mturk/checkrecognition 84\n",
      "https://www.youtube.com/feed/subscriptions 82\n",
      "https://www.mturk.com/mturk/previewandaccept?groupId=3DPZKFEUURHV862RPLAGCJS9JJW4IC 82\n",
      "https://www.amazon.com/ap/signin?openid.ns=http%3A%2F%2Fspecs.openid.net%2Fauth%2F2.0&openid.assoc_handle=amzn_mturk_worker&openid.ns.pape=http%3A%2F%2Fspecs.openid.net%2Fextensions%2Fpape%2F1.0&_encoding=UTF8&openid.mode=checkid_setup&openid.claimed_id=http%3A%2F%2Fspecs.openid.net%2Fauth%2F2.0%2Fidentifier_select&openid.identity=http%3A%2F%2Fspecs.openid.net%2Fauth%2F2.0%2Fidentifier_select&openid.pape.max_auth_age=43200&marketplaceId=A384XSLT9ODACQ&clientContext=3d1c8d8bfa4144e52d22aaa8a77795&openid.return_to=https%3A%2F%2Fwww.mturk.com%2Fmturk%2Fendsignin 82\n",
      "http://www.livenewschat.eu/watch-live-tv/?ref=001 82\n",
      "https://www.mturk.com/mturk/transferearnings 82\n",
      "https://mail.google.com/mail/u/1/#inbox 81\n"
     ]
    }
   ],
   "source": [
    "print_counter(overall_urls_where_reconstructed_has_no_reference)"
   ]
  },
  {
   "cell_type": "code",
   "execution_count": 28,
   "metadata": {
    "collapsed": false
   },
   "outputs": [
    {
     "name": "stdout",
     "output_type": "stream",
     "text": [
      "chrome://newtab/ 26616\n",
      "https://www.mturk.com/mturk/dashboard 4921\n",
      "https://www.mturk.com/mturk/findhits?match=true?hit_scraper 4276\n",
      "https://www.facebook.com/ 4148\n",
      "https://www.google.com/webhp?sourceid=chrome-instant&ion=1&espv=2&ie=UTF-8 2260\n",
      "https://www.mturk.com/mturk/findhits?match=false&hit_scraper 1845\n",
      "http://hitgrabber.net/ 1557\n",
      "https://mail.google.com/mail/u/0/#inbox 1151\n",
      "https://us20.chatzy.com/11920092594925 749\n",
      "https://www.mturk.com/mturk/myhits 745\n",
      "https://www.mturk.com/HM 638\n",
      "https://www.mturk.com/mturk/findhits?match=true?hit_scraper-dev 430\n",
      "https://www.facebook.com/messages/jessica.wood.106 421\n",
      "https://www.mturk.com/mturk/findhits?match=false 404\n",
      "http://game.soul-arena.com/ 354\n",
      "https://www.mturk.com/mturk/findhits?match=true 330\n",
      "https://www.reddit.com/ 317\n",
      "https://web.whatsapp.com/ 307\n",
      "https://mail.google.com/mail/u/0/#spam 260\n",
      "https://www.mturk.com/mturk/submit 241\n",
      "https://www.mturk.com/mturk/findhits?match=false&hit_scraper# 221\n",
      "https://surveys.ipsosinteractive.com/surveys/25b6acb2-de68-11e2-a28f-0800200c9a66 219\n",
      " 200\n",
      "http://www.tohosting.tk/ 195\n",
      "https://www.tumblr.com/dashboard 191\n",
      "https://mail.google.com/mail/u/1/#inbox 188\n",
      "chrome://history/ 182\n",
      "chrome://settings/ 178\n",
      "https://www.mturk.com/mturk/welcome 174\n",
      "https://www.reddit.com/r/HITsWorthTurkingFor/new/ 170\n",
      "https://apps.facebook.com/eontictactoe/?fb_source=bookmark&ref=bookmarks&count=0&fb_bmpos=_0 153\n",
      "http://www.host2inger.com/ 152\n",
      "https://www.youtube.com/ 150\n",
      "https://apps.facebook.com/wordbattling/?fb_source=canvas_bookmark 149\n",
      "chrome://extensions/ 146\n",
      "chrome://downloads/ 145\n",
      "http://v2.decipherinc.com/survey/selfserve/e51/160303 140\n",
      "chrome-extension://klbibkeccnjlkjkiokjodocebajanakg/suspended.html#uri=https://www.reddit.com/r/HITsWorthTurkingFor/new/ 132\n",
      "chrome://bookmarks/#1 131\n",
      "http://play.pokemonshowdown.com/ 120\n",
      "https://www.facebook.com/Smoke.And.Ink 120\n",
      "https://apps.facebook.com/puzzlywords/?fb_source=canvas_bookmark 119\n",
      "https://www.yahoo.com/ 117\n",
      "https://www.reddit.com/r/HITsWorthTurkingFor/ 117\n",
      "https://www.facebook.com/?sk=h_chr 110\n",
      "https://forums.animez.to/ 108\n",
      "https://mail.google.com/mail/u/0/?tab=wm#inbox 103\n",
      "https://www.google.co.in/webhp?sourceid=chrome-instant&ion=1&espv=2&ie=UTF-8 101\n",
      "https://snt151.mail.live.com/?fid=flinbox 101\n",
      "https://www.crowdcurio.com/experiments/13/workflow/ 92\n",
      "https://mail.google.com/mail/u/0/#inbox?compose=new 92\n",
      "https://www.netflix.com/watch/70080629?trackId=13589554 91\n",
      "https://www.surveyjunkie.com/member 90\n",
      "about:blank 88\n",
      "https://prod.datacollectionsite.com/mrIWeb/mrIWeb.dll#running 86\n",
      "https://prod.datacollectionsite.com/mrIWeb/mrIWeb.dll 85\n",
      "https://docs.google.com/spreadsheets/d/1ocUh45zWwWVbAThx5GjytyC4rkHx77L5kJyRANuSnnY/edit#gid=0 85\n",
      "https://ww6.crediblebh.com/index.aspx?r=1&domain=SARHC 84\n",
      "https://apps.facebook.com/candycrushsoda/?fb_source=sidebar_bookmark 83\n",
      "https://www.mturk.com/mturk/continue?hitId=3QJOXOW4XJSRL8S1LFYNC98E7XCME8 82\n",
      "https://www.facebook.com/daniel.cozart.52/friends?source_ref=pb_friends_tl 81\n",
      "https://mail.google.com/mail/u/0/ 80\n",
      "http://gmail.com/ 79\n",
      "https://mail.aol.com/webmail-std/en-us/suite 79\n",
      "https://www.mturk.com/mturk/previewandaccept?groupId=3SFJXQ9EG58Y3WRLXCW2QCVUYYDXDX 78\n",
      "chrome://bookmarks/#28964 76\n",
      "https://www.mturk.com/mturk/searchbar?selectedSearchType=hitgroups&searchWords=a9&minReward=0.00&x=0&y=0 74\n",
      "https://www.facebook.com/?ref=tn_tnmn 74\n",
      "https://www.linkedin.com/home?trk=nav_responsive_tab_home 73\n",
      "https://twitter.com/ 73\n",
      "https://payments.amazon.com/overview 72\n",
      "chrome://bookmarks/#28967 72\n",
      "http://plinga.com/play#games/2/playOnline 72\n",
      "https://www.mturk.com/mturk/continue?hitId=3VA45EW49NOG1AJ1M7ILXTEPDON1OJ 70\n",
      "https://www.speechpad.com/worker/transcribe/fe2c82a4-aacf-4853-9d33-33a15e43379b# 70\n",
      "https://www.google.co.in/?gfe_rd=cr&ei=DhuEU9qfL6mViAeEgoHwDQ 69\n",
      "http://www.livenewschat.eu/politics/?ref=fv 69\n",
      "https://www.facebook.com/?q= 68\n",
      "https://www.crediblebh.com/ 67\n",
      "https://www.netflix.com/watch/70152026?trackId=13589554 63\n",
      "https://www.mturk.com/mturk/findhits?*hit_scraper 62\n",
      "https://apps.facebook.com/brainster/?fb_source=canvas_bookmark 61\n",
      "https://www.twitch.tv/lirik 61\n",
      "chrome-search://local-ntp/local-ntp.html 59\n",
      "https://www.mturk.com/mturk/myhits?first 59\n",
      "https://tlk.io/msrcode2 58\n",
      "http://www.car-insurance-quote-fx.com/ 58\n",
      "https://mail.google.com/mail/u/0/?ui=2&shva=1#inbox 57\n",
      "https://www.twitch.tv/directory/following 56\n",
      "http://slickdeals.net/ 56\n",
      "chrome://apps/ 56\n",
      "http://survey.qualtrics.com/SE/?SID=SV_do6qbWRzmmom8G9&Distributor=MTurk&MID=A1640H4RXH8NZE 55\n",
      "https://www.google.com/voice/b/0#inbox 55\n",
      "https://www.youtube.com/feed/subscriptions 55\n",
      "https://ww6.crediblebh.com/index.aspx? 55\n",
      "https://apps.facebook.com/coral-isle/ 55\n",
      "https://www.facebook.com/?ref=logo 53\n",
      "https://drive.google.com/drive/# 53\n",
      "https://www.facebook.com/shaz.ron.12 53\n",
      "https://turkopticon.ucsd.edu/main/php_search 53\n"
     ]
    }
   ],
   "source": [
    "print_counter(overall_urls_where_reference_has_no_reconstructed)"
   ]
  },
  {
   "cell_type": "code",
   "execution_count": 29,
   "metadata": {
    "collapsed": false
   },
   "outputs": [
    {
     "name": "stdout",
     "output_type": "stream",
     "text": [
      "www.mturk.com 59797\n",
      "www.google.com 13009\n",
      "www.youtube.com 9970\n",
      "www.facebook.com 6408\n",
      "www.reddit.com 5271\n",
      "i.imgur.com 3720\n",
      "docs.google.com 3254\n",
      "perk.tv 2879\n",
      "imgur.com 2814\n",
      "mail.google.com 2652\n",
      "www.amazon.com 2069\n",
      "www.mturkgrind.com 1981\n",
      "mturkforum.com 1697\n",
      "www.host2inger.com 1359\n",
      "earnhoney.com 1289\n",
      "www.tohosting.tk 1203\n",
      "turkopticon.ucsd.edu 1039\n",
      "i.ytimg.com 1013\n",
      "www.surveymonkey.com 996\n",
      "mail.aol.com 970\n",
      "vitals-2.crowdcomputingsystems.com 851\n",
      "work.crowdsurfwork.com 815\n",
      "www.tumblr.com 714\n",
      "local.cs-int-592.com:5550 710\n",
      "www.netflix.com 704\n",
      "www.google.co.in 694\n",
      "turkernation.com 650\n",
      "www.hulu.com 629\n",
      "www.ebay.com 563\n",
      "www.pinterest.com 558\n",
      "www.bing.com 495\n",
      "payments.amazon.com 490\n",
      "www.buzzfeed.com 482\n",
      "www.twitch.tv 479\n",
      "twitter.com 464\n",
      "hw.reddit.com 463\n",
      "www.yelp.com 447\n",
      "www.instagram.com 447\n",
      "personalityfactors.net 402\n",
      "www.yahoo.com 397\n",
      "www.lipstickalley.com 391\n",
      "accounts.google.com 390\n",
      "en.wikipedia.org 389\n",
      "www.swagbucks.com 370\n",
      "thewatchseries.to 362\n",
      "www.car-insurance-quote-fx.com 356\n",
      "ma.brazzers.com 308\n",
      "www.mturkcrowd.com 304\n",
      "www.zulily.com 298\n",
      "www.paypal.com 287\n",
      "theadvocate.com 283\n",
      "apps.facebook.com 278\n",
      "www.earnhoney.com 270\n",
      "www.linkedin.com 269\n",
      "us-mg5.mail.yahoo.com 256\n",
      "s3.amazonaws.com 251\n",
      "news.google.com 250\n",
      "buffer.com 248\n",
      "outlook.live.com 247\n",
      "gfycat.com 239\n",
      "www.news.com.au 237\n",
      "www.imdb.com 227\n",
      "steamcommunity.com 226\n",
      "drive.google.com 223\n",
      "www.surveygizmo.com 222\n",
      "www.playstationtrophies.org 220\n",
      "soundcloud.com 217\n",
      "my.screenname.aol.com 216\n",
      "www.hotnewhiphop.com 216\n",
      "forums.animez.to 190\n",
      "www.google.co.kr 184\n",
      "mdmarch2016.sawtoothsoftware.com 175\n",
      "www.freelancer.com 174\n",
      "upload.wikimedia.org 174\n",
      "www.samplicio.us 173\n",
      "www.irazoo.com 172\n",
      "www.perceptionstudies.com 170\n",
      "chrome.google.com 169\n",
      "workplace.clickworker.com 168\n",
      "www.rackspace.com 164\n",
      "www.lendingclub.com 163\n",
      "www.financial-net.com 160\n",
      "www.jcpenney.com 157\n",
      "www.wikiorgcharts.com 154\n",
      "www.cashcrate.com 150\n",
      "tmi.stanford.edu 149\n",
      "www.master-net.tk 147\n",
      "chicago.craigslist.org 147\n",
      "calendar.google.com 147\n",
      "www.typologycentral.com 144\n",
      "www.predictwallstreet.com 140\n",
      "www.inboxdollars.com 133\n",
      "requester.mturk.com 132\n",
      "wwwsc.ekeystone.com 132\n",
      "gate.aon.com 132\n",
      "s2.userzoom.com 131\n",
      "www.csgodouble.com 130\n",
      "www.etsy.com 130\n",
      "stanfordgsb.qualtrics.com 129\n",
      "www.mblaze.home 128\n"
     ]
    }
   ],
   "source": [
    "print_counter(overall_domains_where_reconstructed_has_no_reference)"
   ]
  },
  {
   "cell_type": "code",
   "execution_count": 30,
   "metadata": {
    "collapsed": false
   },
   "outputs": [
    {
     "name": "stdout",
     "output_type": "stream",
     "text": [
      "www.mturk.com 32890\n",
      "www.facebook.com 17501\n",
      "www.amazon.com 6178\n",
      "turkopticon.ucsd.edu 5653\n",
      "www.mturkcrowd.com 4554\n",
      "my.presonus.com 4519\n",
      "www.google.com 4455\n",
      "www.mturkgrind.com 4400\n",
      "www.nextmuni.com 4313\n",
      "aurafc.guildwork.com 3987\n",
      "prolific.ac 3938\n",
      "www.reddit.com 3890\n",
      "news.google.com 3728\n",
      "mail.google.com 2884\n",
      "www.youtube.com 2681\n",
      "vidzi.tv 2679\n",
      "www.netflix.com 2606\n",
      "us-mg5.mail.yahoo.com 1997\n",
      "www.buzzfeed.com 1863\n",
      "www.hulu.com 1860\n",
      "docs.python.org 1708\n",
      "gate.aon.com 1610\n",
      "armycivilianservice.usajobs.gov 1529\n",
      "www.tumblr.com 1399\n",
      "perk.tv 1353\n",
      "www.txlottery.org 1351\n",
      "secure.bankofamerica.com 1337\n",
      "www.playstationtrophies.org 1187\n",
      "www.kayak.com 1119\n",
      "www.startribune.com 1109\n",
      "klbibkeccnjlkjkiokjodocebajanakg 1104\n",
      "mintvine.com 1096\n",
      "kat.cr 1012\n",
      "68.45.57.129:22362 1008\n",
      "mail.aol.com 990\n",
      "www.toonova.com 925\n",
      "knoxville.craigslist.org 923\n",
      "qbo.intuit.com 896\n",
      "www.insightexpress.com 862\n",
      "stonybrookuniversity.co1.qualtrics.com 860\n",
      "bulletin.uga.edu 840\n",
      "www.michigantrafficcrashfacts.org 790\n",
      "sewg.az1.qualtrics.com 787\n",
      "www.lendingclub.com 742\n",
      "content.schwab.com 730\n",
      "9gag.com 692\n",
      "www.twitch.tv 675\n",
      "imgur.com 643\n",
      "www.simpsonsworld.com 621\n",
      "www.yahoo.com 576\n",
      "missouri.qualtrics.com 566\n",
      "www.etsy.com 553\n",
      "whatismyipaddress.com 541\n",
      "jobs.myflorida.com 534\n",
      "www.google.be 513\n",
      "www.cliffsnotes.com 510\n",
      "raleigh.craigslist.org 499\n",
      "serve.popads.net 459\n",
      "www.zazzle.com 444\n",
      "index.about.com 434\n",
      "www.oregonlive.com 432\n",
      "www.bestbuy.com 427\n",
      "joanakompa.com 384\n",
      "b2b.verizonwireless.com 371\n",
      "www.reliancenetconnect.co.in 368\n",
      "www.netmeds.com 358\n",
      "marketing.hostanalytics.com 340\n",
      "myanimelist.net 337\n",
      "np.reddit.com 337\n",
      "stitesdance.com 332\n",
      "community.babycenter.com 328\n",
      "www.lifeleadership.com 326\n",
      "www.catie.ca 303\n",
      "plinga.com 285\n",
      "login.yahoo.com 274\n",
      "www.messenger.com 274\n",
      "www.fanfiction.net 270\n",
      "hauntedattractiononline.com 255\n",
      "apps.facebook.com 246\n",
      "www.gsn.com 235\n",
      "www.bankofamerica.com 223\n",
      "webcourses.ucf.edu 220\n",
      "www.cnn.com 215\n",
      "www.humanesocietyofnorthernutah.com 215\n",
      "d2l.lcc.edu 204\n",
      "www.ipsy.com 183\n",
      "myfranciscan.franciscan.edu 178\n",
      "ttn.tlinks.com 166\n",
      "mysso.exede.net 161\n",
      "tmi.stanford.edu 151\n",
      "lotto.pch.com 149\n",
      "saveseattleschools.blogspot.com 140\n",
      "www.adn.com 135\n",
      "www.quora.com 134\n",
      "us-mg6.mail.yahoo.com 132\n",
      "wakeforest.qualtrics.com 121\n",
      "www.4research.net 116\n",
      "www.offervault.com 89\n",
      "www.jimmyjohns.com 77\n",
      "sufesiba.au1.qualtrics.com 68\n"
     ]
    }
   ],
   "source": [
    "print_counter(overall_domains_where_reference_has_no_reconstructed)"
   ]
  },
  {
   "cell_type": "code",
   "execution_count": null,
   "metadata": {
    "collapsed": false
   },
   "outputs": [],
   "source": []
  },
  {
   "cell_type": "code",
   "execution_count": null,
   "metadata": {
    "collapsed": false
   },
   "outputs": [],
   "source": []
  },
  {
   "cell_type": "code",
   "execution_count": 31,
   "metadata": {
    "collapsed": false
   },
   "outputs": [],
   "source": [
    "user_to_evaluation_stats = {}\n",
    "\n",
    "for user in list_users():\n",
    "  try:\n",
    "    stats = get_evaluation_stats_for_user(user)\n",
    "  except:\n",
    "    continue\n",
    "  user_to_evaluation_stats[user] = stats\n"
   ]
  },
  {
   "cell_type": "code",
   "execution_count": 32,
   "metadata": {
    "collapsed": false
   },
   "outputs": [
    {
     "name": "stdout",
     "output_type": "stream",
     "text": [
      "Counter({'both_inactive': 168803454, 'correct_url': 11688312, 'ref_inactive_but_rec_active': 2346992, 'ref_active_but_rec_inactive': 2052783, 'incorrect_domain': 1730593, 'correct_domain': 817501})\n"
     ]
    }
   ],
   "source": [
    "overall_evaluation_stats = Counter()\n",
    "for user,stats in user_to_evaluation_stats.items():\n",
    "  for k,v in stats.items():\n",
    "    overall_evaluation_stats[k] += v\n",
    "\n",
    "print overall_evaluation_stats"
   ]
  },
  {
   "cell_type": "code",
   "execution_count": null,
   "metadata": {
    "collapsed": true
   },
   "outputs": [],
   "source": []
  },
  {
   "cell_type": "code",
   "execution_count": null,
   "metadata": {
    "collapsed": true
   },
   "outputs": [],
   "source": []
  },
  {
   "cell_type": "code",
   "execution_count": 33,
   "metadata": {
    "collapsed": false
   },
   "outputs": [
    {
     "data": {
      "text/plain": [
       "\"\\ndef get_users_with_tab_focus_data():\\n  users_with_tab_focus_data = []\\n\\n  for user in list_users():\\n    if not sdir_exists('tab_focus_times_for_user/' + user + '.json'):\\n      continue\\n    tab_focus_times = get_tab_focus_times_for_user(user)\\n    ordered_visits = get_history_ordered_visits_for_user(user)\\n    start_time = tab_focus_times[0]['start']\\n    ordered_visits_after_start = [x for x in ordered_visits if x['visitTime'] > start_time]\\n    #print len(tab_focus_times)\\n    if len(tab_focus_times) > 2000 and len(ordered_visits_after_start) > 400:\\n      users_with_tab_focus_data.append(user)\\n  return users_with_tab_focus_data\\n\""
      ]
     },
     "execution_count": 33,
     "metadata": {},
     "output_type": "execute_result"
    }
   ],
   "source": [
    "'''\n",
    "def get_users_with_tab_focus_data():\n",
    "  users_with_tab_focus_data = []\n",
    "\n",
    "  for user in list_users():\n",
    "    if not sdir_exists('tab_focus_times_for_user/' + user + '.json'):\n",
    "      continue\n",
    "    tab_focus_times = get_tab_focus_times_for_user(user)\n",
    "    ordered_visits = get_history_ordered_visits_for_user(user)\n",
    "    start_time = tab_focus_times[0]['start']\n",
    "    ordered_visits_after_start = [x for x in ordered_visits if x['visitTime'] > start_time]\n",
    "    #print len(tab_focus_times)\n",
    "    if len(tab_focus_times) > 2000 and len(ordered_visits_after_start) > 400:\n",
    "      users_with_tab_focus_data.append(user)\n",
    "  return users_with_tab_focus_data\n",
    "'''\n",
    "#print len(users_with_tab_focus_data)"
   ]
  },
  {
   "cell_type": "code",
   "execution_count": null,
   "metadata": {
    "collapsed": false
   },
   "outputs": [],
   "source": []
  },
  {
   "cell_type": "code",
   "execution_count": null,
   "metadata": {
    "collapsed": true
   },
   "outputs": [],
   "source": []
  },
  {
   "cell_type": "code",
   "execution_count": 34,
   "metadata": {
    "collapsed": false
   },
   "outputs": [],
   "source": [
    "#user = 'dwCCD1uofp' # doing very poorly with this user\n",
    "#user = 'UrZvGUsI8N'\n",
    "#user = users_with_tab_focus_data[0]\n",
    "#print user\n",
    "#url_to_visits = get_history_visits_for_user(user)"
   ]
  },
  {
   "cell_type": "code",
   "execution_count": null,
   "metadata": {
    "collapsed": true
   },
   "outputs": [],
   "source": []
  },
  {
   "cell_type": "code",
   "execution_count": null,
   "metadata": {
    "collapsed": false
   },
   "outputs": [],
   "source": []
  },
  {
   "cell_type": "code",
   "execution_count": 35,
   "metadata": {
    "collapsed": false
   },
   "outputs": [
    {
     "data": {
      "text/plain": [
       "'\\ndef compute_tab_focus_times_with_events_for_user(user):\\n  current_session_tracker = SessionTracker(store_events=True)\\n  for line in get_log_with_mlog_active_times_for_user(user):\\n    current_session_tracker.process_input(uncompress_data_subfields(line))\\n  current_session_tracker.end_input()\\n  return current_session_tracker.get_output()\\n'"
      ]
     },
     "execution_count": 35,
     "metadata": {},
     "output_type": "execute_result"
    }
   ],
   "source": [
    "'''\n",
    "def compute_tab_focus_times_with_events_for_user(user):\n",
    "  current_session_tracker = SessionTracker(store_events=True)\n",
    "  for line in get_log_with_mlog_active_times_for_user(user):\n",
    "    current_session_tracker.process_input(uncompress_data_subfields(line))\n",
    "  current_session_tracker.end_input()\n",
    "  return current_session_tracker.get_output()\n",
    "'''"
   ]
  },
  {
   "cell_type": "code",
   "execution_count": 36,
   "metadata": {
    "collapsed": false
   },
   "outputs": [],
   "source": [
    "#tab_focus_times_with_events = compute_tab_focus_times_with_events_for_user(user)\n"
   ]
  },
  {
   "cell_type": "code",
   "execution_count": 37,
   "metadata": {
    "collapsed": false
   },
   "outputs": [
    {
     "data": {
      "text/plain": [
       "'\\nfor line in get_log_with_mlog_active_times_for_user(user):\\n  data = uncompress_data_subfields(line)\\n  url = get_focused_tab(data)\\n  if url != None:\\n    print url\\n    print data\\n    break\\n'"
      ]
     },
     "execution_count": 37,
     "metadata": {},
     "output_type": "execute_result"
    }
   ],
   "source": [
    "'''\n",
    "for line in get_log_with_mlog_active_times_for_user(user):\n",
    "  data = uncompress_data_subfields(line)\n",
    "  url = get_focused_tab(data)\n",
    "  if url != None:\n",
    "    print url\n",
    "    print data\n",
    "    break\n",
    "'''"
   ]
  },
  {
   "cell_type": "code",
   "execution_count": 38,
   "metadata": {
    "collapsed": false
   },
   "outputs": [],
   "source": [
    "#print len(tab_focus_times_with_events)\n",
    "#tab_focus_times_with_events[0]"
   ]
  },
  {
   "cell_type": "code",
   "execution_count": 39,
   "metadata": {
    "collapsed": false
   },
   "outputs": [],
   "source": [
    "#tab_focus_times = get_tab_focus_times_for_user(user)\n",
    "#print len(tab_focus_times)\n",
    "#print tab_focus_times[0]\n",
    "#print tab_focus_times"
   ]
  },
  {
   "cell_type": "code",
   "execution_count": 40,
   "metadata": {
    "collapsed": false
   },
   "outputs": [],
   "source": [
    "#ordered_visits = get_history_ordered_visits_for_user(user)\n",
    "#first_site = url_to_visits.keys()[0]\n",
    "#print url_to_visits[first_site]"
   ]
  },
  {
   "cell_type": "code",
   "execution_count": 41,
   "metadata": {
    "collapsed": false
   },
   "outputs": [
    {
     "data": {
      "text/plain": [
       "\"\\nordered_visits_after_start = []\\nfor visit in ordered_visits:\\n  time = visit['visitTime']\\n  #if 1458171960840.0 <= time <= 1458172165207.0:\\n  #  print visit\\n  if time >= 1458171960840.0:\\n    ordered_visits_after_start.append(visit)\\n\""
      ]
     },
     "execution_count": 41,
     "metadata": {},
     "output_type": "execute_result"
    }
   ],
   "source": [
    "'''\n",
    "ordered_visits_after_start = []\n",
    "for visit in ordered_visits:\n",
    "  time = visit['visitTime']\n",
    "  #if 1458171960840.0 <= time <= 1458172165207.0:\n",
    "  #  print visit\n",
    "  if time >= 1458171960840.0:\n",
    "    ordered_visits_after_start.append(visit)\n",
    "'''"
   ]
  },
  {
   "cell_type": "code",
   "execution_count": 42,
   "metadata": {
    "collapsed": false,
    "scrolled": true
   },
   "outputs": [],
   "source": [
    "#print len(ordered_visits_after_start)"
   ]
  },
  {
   "cell_type": "code",
   "execution_count": 43,
   "metadata": {
    "collapsed": false
   },
   "outputs": [
    {
     "data": {
      "text/plain": [
       "'\\ndef to_visit_lengths(ordered_visits):\\n  focus_time_reconstructor = ReconstructFocusTimesBaseline()\\n  for visit in ordered_visits:\\n    focus_time_reconstructor.process_history_line(visit)\\n  return focus_time_reconstructor.get_output()\\n\\nreconstructed_visit_lengths = to_visit_lengths(ordered_visits)\\n'"
      ]
     },
     "execution_count": 43,
     "metadata": {},
     "output_type": "execute_result"
    }
   ],
   "source": [
    "'''\n",
    "def to_visit_lengths(ordered_visits):\n",
    "  focus_time_reconstructor = ReconstructFocusTimesBaseline()\n",
    "  for visit in ordered_visits:\n",
    "    focus_time_reconstructor.process_history_line(visit)\n",
    "  return focus_time_reconstructor.get_output()\n",
    "\n",
    "reconstructed_visit_lengths = to_visit_lengths(ordered_visits)\n",
    "'''"
   ]
  },
  {
   "cell_type": "code",
   "execution_count": 44,
   "metadata": {
    "collapsed": false
   },
   "outputs": [],
   "source": [
    "#print len(reconstructed_visit_lengths)"
   ]
  },
  {
   "cell_type": "code",
   "execution_count": null,
   "metadata": {
    "collapsed": false
   },
   "outputs": [],
   "source": []
  },
  {
   "cell_type": "code",
   "execution_count": null,
   "metadata": {
    "collapsed": true
   },
   "outputs": [],
   "source": []
  },
  {
   "cell_type": "code",
   "execution_count": null,
   "metadata": {
    "collapsed": false
   },
   "outputs": [],
   "source": [
    "\n",
    "\n"
   ]
  },
  {
   "cell_type": "code",
   "execution_count": 45,
   "metadata": {
    "collapsed": false
   },
   "outputs": [],
   "source": [
    "#print ref_start_time"
   ]
  },
  {
   "cell_type": "code",
   "execution_count": 46,
   "metadata": {
    "collapsed": false
   },
   "outputs": [],
   "source": [
    "#print evaluated_tab_focus_times[0]"
   ]
  },
  {
   "cell_type": "code",
   "execution_count": 47,
   "metadata": {
    "collapsed": false
   },
   "outputs": [
    {
     "data": {
      "text/plain": [
       "\"\\nfor x in reconstructed_visit_lengths:\\n  url = x['url']\\n  if 'tmi.stanford.edu' in url:\\n    print x\\n    break\\n\""
      ]
     },
     "execution_count": 47,
     "metadata": {},
     "output_type": "execute_result"
    }
   ],
   "source": [
    "'''\n",
    "for x in reconstructed_visit_lengths:\n",
    "  url = x['url']\n",
    "  if 'tmi.stanford.edu' in url:\n",
    "    print x\n",
    "    break\n",
    "'''"
   ]
  },
  {
   "cell_type": "code",
   "execution_count": 48,
   "metadata": {
    "collapsed": false
   },
   "outputs": [],
   "source": [
    "#print len(evaluated_reconstructed_visits)\n",
    "#print len(evaluated_tab_focus_times)"
   ]
  },
  {
   "cell_type": "code",
   "execution_count": 49,
   "metadata": {
    "collapsed": false
   },
   "outputs": [],
   "source": [
    "#def "
   ]
  },
  {
   "cell_type": "code",
   "execution_count": 50,
   "metadata": {
    "collapsed": false
   },
   "outputs": [],
   "source": [
    "#print evaluated_reconstructed_visits[0]\n",
    "#print evaluated_tab_focus_times[2]\n",
    "#print evaluated_reconstructed_visits[-1]\n",
    "#print evaluated_tab_focus_times[-1]"
   ]
  },
  {
   "cell_type": "code",
   "execution_count": null,
   "metadata": {
    "collapsed": false
   },
   "outputs": [],
   "source": [
    "\n",
    "\n"
   ]
  },
  {
   "cell_type": "code",
   "execution_count": 51,
   "metadata": {
    "collapsed": false
   },
   "outputs": [],
   "source": [
    "#print len(result_reference.get_output())\n",
    "#print len(result_reconstructed.get_output())"
   ]
  },
  {
   "cell_type": "code",
   "execution_count": null,
   "metadata": {
    "collapsed": false
   },
   "outputs": [],
   "source": []
  },
  {
   "cell_type": "code",
   "execution_count": null,
   "metadata": {
    "collapsed": false
   },
   "outputs": [],
   "source": []
  },
  {
   "cell_type": "code",
   "execution_count": null,
   "metadata": {
    "collapsed": true
   },
   "outputs": [],
   "source": []
  },
  {
   "cell_type": "code",
   "execution_count": null,
   "metadata": {
    "collapsed": false,
    "scrolled": true
   },
   "outputs": [],
   "source": []
  },
  {
   "cell_type": "code",
   "execution_count": 52,
   "metadata": {
    "collapsed": false
   },
   "outputs": [
    {
     "data": {
      "text/plain": [
       "\"\\nfor ref_answer,rec_answer in zip(result_reference.get_output(), result_reconstructed.get_output())[:1000]:\\n  ref_domain = 'None'\\n  rec_domain = 'None'\\n  if ref_answer != 0:\\n    ref_url = result_reference.get_url_for_index(ref_answer)\\n    ref_domain = url_to_domain(ref_url)\\n  if rec_answer != 0:\\n    rec_url = result_reconstructed.get_url_for_index(rec_answer)\\n    rec_domain = url_to_domain(rec_url)\\n  print ref_domain, rec_domain\\n\""
      ]
     },
     "execution_count": 52,
     "metadata": {},
     "output_type": "execute_result"
    }
   ],
   "source": [
    "'''\n",
    "for ref_answer,rec_answer in zip(result_reference.get_output(), result_reconstructed.get_output())[:1000]:\n",
    "  ref_domain = 'None'\n",
    "  rec_domain = 'None'\n",
    "  if ref_answer != 0:\n",
    "    ref_url = result_reference.get_url_for_index(ref_answer)\n",
    "    ref_domain = url_to_domain(ref_url)\n",
    "  if rec_answer != 0:\n",
    "    rec_url = result_reconstructed.get_url_for_index(rec_answer)\n",
    "    rec_domain = url_to_domain(rec_url)\n",
    "  print ref_domain, rec_domain\n",
    "'''"
   ]
  },
  {
   "cell_type": "code",
   "execution_count": null,
   "metadata": {
    "collapsed": true
   },
   "outputs": [],
   "source": []
  },
  {
   "cell_type": "code",
   "execution_count": 53,
   "metadata": {
    "collapsed": false
   },
   "outputs": [],
   "source": [
    "#for x in evaluated_reconstructed_visits:\n",
    "#  print x"
   ]
  },
  {
   "cell_type": "code",
   "execution_count": 54,
   "metadata": {
    "collapsed": false
   },
   "outputs": [],
   "source": [
    "#for x in evaluated_tab_focus_times:\n",
    "#  print x"
   ]
  },
  {
   "cell_type": "code",
   "execution_count": 55,
   "metadata": {
    "collapsed": false
   },
   "outputs": [],
   "source": [
    "#for x in reconstructed_visit_lengths:\n",
    "#  url = x['url']\n",
    "#  if url == 'https://www.mturk.com/mturk/continue?hitId=3ZY8KE4ISJ42CAV8NVJ18F1PI9SQVJ':\n",
    "#    print x"
   ]
  },
  {
   "cell_type": "code",
   "execution_count": 56,
   "metadata": {
    "collapsed": false
   },
   "outputs": [],
   "source": [
    "#for x in tab_focus_times:\n",
    "#  url = x['url']\n",
    "#  if url == 'https://www.mturk.com/mturk/continue?hitId=3ZY8KE4ISJ42CAV8NVJ18F1PI9SQVJ':\n",
    "#    print x"
   ]
  },
  {
   "cell_type": "code",
   "execution_count": null,
   "metadata": {
    "collapsed": false
   },
   "outputs": [],
   "source": []
  },
  {
   "cell_type": "code",
   "execution_count": 57,
   "metadata": {
    "collapsed": false
   },
   "outputs": [
    {
     "data": {
      "text/plain": [
       "\"\\ndef to_visit_lengths(ordered_visits):\\n  output = []\\n  for item,idx in ordered_visits:\\n    url = item['url']\\n    visit_time = item['visitTime'] # timestamp in milliseconds\\n    result = {'url': url, 'start': visit_time, 'active': visit_time}\\n    visit_duration = 30*1000 # 30 seconds in milliseconds\\n    if idx < len(ordered_visits):\\n      next_item = ordered_visits[idx+1]\\n      next_visit_time = next_item['visitTime']\\n      time_until_next_visit = next_visit_time - visit_time\\n      if visit_duration > time_until_next_visit: # more than 30 minutes until next visit\\n        \\n      visit_duration = min(visit_duration, time_until_next_visit)\\n    output.append({'url': url, 'start': visit_time, })\\n\""
      ]
     },
     "execution_count": 57,
     "metadata": {},
     "output_type": "execute_result"
    }
   ],
   "source": [
    "\n",
    "'''\n",
    "def to_visit_lengths(ordered_visits):\n",
    "  output = []\n",
    "  for item,idx in ordered_visits:\n",
    "    url = item['url']\n",
    "    visit_time = item['visitTime'] # timestamp in milliseconds\n",
    "    result = {'url': url, 'start': visit_time, 'active': visit_time}\n",
    "    visit_duration = 30*1000 # 30 seconds in milliseconds\n",
    "    if idx < len(ordered_visits):\n",
    "      next_item = ordered_visits[idx+1]\n",
    "      next_visit_time = next_item['visitTime']\n",
    "      time_until_next_visit = next_visit_time - visit_time\n",
    "      if visit_duration > time_until_next_visit: # more than 30 minutes until next visit\n",
    "        \n",
    "      visit_duration = min(visit_duration, time_until_next_visit)\n",
    "    output.append({'url': url, 'start': visit_time, })\n",
    "'''"
   ]
  }
 ],
 "metadata": {
  "kernelspec": {
   "display_name": "Python 2",
   "language": "python",
   "name": "python2"
  },
  "language_info": {
   "codemirror_mode": {
    "name": "ipython",
    "version": 2
   },
   "file_extension": ".py",
   "mimetype": "text/x-python",
   "name": "python",
   "nbconvert_exporter": "python",
   "pygments_lexer": "ipython2",
   "version": "2.7.11"
  }
 },
 "nbformat": 4,
 "nbformat_minor": 0
}
