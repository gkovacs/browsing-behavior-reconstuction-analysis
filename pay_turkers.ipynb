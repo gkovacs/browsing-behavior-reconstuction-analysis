{
 "cells": [
  {
   "cell_type": "code",
   "execution_count": 1,
   "metadata": {
    "collapsed": false
   },
   "outputs": [],
   "source": [
    "import boto\n",
    "reload(boto)\n",
    "from boto.mturk.price import Price\n",
    "from boto.mturk.connection import MTurkConnection\n",
    "import ujson as json\n",
    "import time\n",
    "\n",
    "from pymongo import MongoClient\n",
    "import yaml\n",
    "\n",
    "from tmilib import *\n",
    "\n",
    "tmi_overrides['basedir'] = '/home/gkovacs/tmi-data/local_2016-04-06_03:43:54-07:00'"
   ]
  },
  {
   "cell_type": "code",
   "execution_count": 2,
   "metadata": {
    "collapsed": true
   },
   "outputs": [],
   "source": [
    "# made first payday on march 24 at 1:08am pacific time\n",
    "# aka 1458806843.052402\n",
    "# weeknum = 1\n",
    "\n",
    "# made second payday on march 31 at 2:25am pacific time\n",
    "# aka 1459416358.610529\n",
    "#weeknum = 2\n",
    "\n",
    "# made third payday on march 7 at 3:38am pacific time\n",
    "# aka 1460025542.304254\n",
    "weeknum = 3\n",
    "\n",
    "run_test = True"
   ]
  },
  {
   "cell_type": "code",
   "execution_count": 3,
   "metadata": {
    "collapsed": true
   },
   "outputs": [],
   "source": [
    "#precompute_mturkid_to_time_last_active()"
   ]
  },
  {
   "cell_type": "code",
   "execution_count": 4,
   "metadata": {
    "collapsed": true
   },
   "outputs": [],
   "source": [
    "#worker_ids_with_history = set(json.load(open('list_of_worker_ids.json')))\n",
    "mturkid_to_time_last_active = get_mturkid_to_time_last_active()"
   ]
  },
  {
   "cell_type": "code",
   "execution_count": 5,
   "metadata": {
    "collapsed": false
   },
   "outputs": [],
   "source": [
    "# active within the past 4 days\n",
    "active_turkers = {x for x,y in mturkid_to_time_last_active.items() if y + 3600*24*3.5*1000 > 1000.0*time.time()}"
   ]
  },
  {
   "cell_type": "code",
   "execution_count": null,
   "metadata": {
    "collapsed": false
   },
   "outputs": [],
   "source": []
  },
  {
   "cell_type": "code",
   "execution_count": 6,
   "metadata": {
    "collapsed": false
   },
   "outputs": [],
   "source": [
    "\n",
    "\n",
    "secrets = yaml.load(open('.getsecret.yaml'))\n",
    "\n",
    "client = MongoClient(secrets['mongourl'])\n",
    "\n",
    "db = client[secrets['mongodb']]\n",
    "\n",
    "bonus_collection = db.bonus\n",
    "\n",
    "def havepaid(workerid, weeknum):\n",
    "  item = bonus_collection.find_one(workerid)\n",
    "  if item == None:\n",
    "    return False\n",
    "  if ('paidtime'+str(weeknum)) in item:\n",
    "    return True\n",
    "  return False\n",
    "\n",
    "def recordbonus(workerid, weeknum, isactive):\n",
    "  # weeknum: 1 to 5\n",
    "  if weeknum not in [1, 2, 3, 4, 5]:\n",
    "    print 'invalid value of weeknum ' + str(weeknum)\n",
    "    return\n",
    "  curtime = time.time()\n",
    "  paidamount = 1.0\n",
    "  if not isactive:\n",
    "    paidamount = 0.05\n",
    "  bonus_collection.update_one({'_id': workerid}, {'$set': {'numpaid': weeknum, 'lastpaid': curtime, 'active'+str(weeknum): isactive, 'paidtime'+str(weeknum): curtime, 'paidamount'+str(weeknum): paidamount}}, upsert=True)\n",
    "\n",
    "def get_message_active(workerid, weeknum):\n",
    "  return \"Thank you for participating in our study! This $1 bonus is for your continued participation this week (week \" + str(weeknum) + \"). Please keep the extension installed, do not clear your browsing history, and continue using Chrome to browse the web to continue receiving this bonus. If you ever accidentally uninstall the extension or clear your browsing history, please go to https://tmi.stanford.edu/mturk3.html?username=\" + workerid + \" to reinstall it (you do not need to fill out the survey again)\"\n",
    "\n",
    "def get_message_inactive(workerid, weeknum):\n",
    "  return \"Thank you for participating in our study! You seem to have uninstalled our extension, cleared your browsing history, are no longer using Chrome to browse the web, or have not used the internet in the past 3 days, so we are unable to give you your full $1 bonus this week (week \" + str(weeknum) + \"). If you would like to receive the $1 bonus next week, please go to https://tmi.stanford.edu/mturk3.html?username=\" + workerid + \" to reinstall the extension (you just need to install the extension, you do not need to fill out the survey again)\"\n",
    "\n",
    "def get_message(workerid, weeknum, isactive):\n",
    "  if isactive:\n",
    "    return get_message_active(workerid, weeknum)\n",
    "  return get_message_inactive(workerid, weeknum)\n",
    "\n",
    "def pay_worker(workerid, weeknum, isactive):\n",
    "  print 'paying worker ' + workerid + ' for week ' + str(weeknum) + ' isactive ' + str(isactive)\n",
    "  if run_test:\n",
    "    return\n",
    "  message = get_message(workerid, weeknum, isactive)\n",
    "  paidamount = 1.0\n",
    "  if not isactive:\n",
    "    paidamount = 0.05\n",
    "  assignment_id = workerid_to_assignment[workerid]\n",
    "  #print message\n",
    "  mtc.grant_bonus(workerid, assignment_id, Price(paidamount), message)\n",
    "  recordbonus(workerid, weeknum, isactive)"
   ]
  },
  {
   "cell_type": "code",
   "execution_count": null,
   "metadata": {
    "collapsed": true
   },
   "outputs": [],
   "source": []
  },
  {
   "cell_type": "code",
   "execution_count": 7,
   "metadata": {
    "collapsed": false
   },
   "outputs": [],
   "source": [
    "hit_ids = secrets['hit_ids']\n",
    "\n",
    "mtc = MTurkConnection()\n",
    "\n",
    "workerid_to_assignment = {}\n",
    "\n",
    "for hit_id in hit_ids:\n",
    "  for assignment in mtc.get_assignments(hit_id, page_size=100):\n",
    "    assignment_id = assignment.AssignmentId\n",
    "    worker_id = assignment.WorkerId\n",
    "    workerid_to_assignment[worker_id] = assignment_id"
   ]
  },
  {
   "cell_type": "code",
   "execution_count": 8,
   "metadata": {
    "collapsed": false
   },
   "outputs": [],
   "source": [
    "#print len({x for x in workerid_to_assignment if x in active_turkers})"
   ]
  },
  {
   "cell_type": "code",
   "execution_count": 9,
   "metadata": {
    "collapsed": false
   },
   "outputs": [],
   "source": [
    "stats = Counter()\n",
    "for worker_id,assignment_id in workerid_to_assignment.items():\n",
    "  isactive = worker_id in active_turkers\n",
    "  if not havepaid(worker_id, weeknum):\n",
    "    pay_worker(worker_id, weeknum, isactive)\n",
    "    if isactive:\n",
    "      stats['active'] += 1\n",
    "    else:\n",
    "      stats['inactive'] += 1\n",
    "  else:\n",
    "    stats['already_paid'] += 1"
   ]
  },
  {
   "cell_type": "code",
   "execution_count": 10,
   "metadata": {
    "collapsed": false
   },
   "outputs": [
    {
     "name": "stdout",
     "output_type": "stream",
     "text": [
      "Counter({'already_paid': 226})\n"
     ]
    }
   ],
   "source": [
    "print stats"
   ]
  },
  {
   "cell_type": "code",
   "execution_count": 11,
   "metadata": {
    "collapsed": false
   },
   "outputs": [],
   "source": [
    "#print len(workerid_to_assignment)\n",
    "#print len({x for x in workerid_to_assignment if x in worker_ids_with_history})"
   ]
  }
 ],
 "metadata": {
  "kernelspec": {
   "display_name": "Python 2",
   "language": "python",
   "name": "python2"
  },
  "language_info": {
   "codemirror_mode": {
    "name": "ipython",
    "version": 2
   },
   "file_extension": ".py",
   "mimetype": "text/x-python",
   "name": "python",
   "nbconvert_exporter": "python",
   "pygments_lexer": "ipython2",
   "version": "2.7.11"
  }
 },
 "nbformat": 4,
 "nbformat_minor": 0
}
