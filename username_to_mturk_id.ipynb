{
 "cells": [
  {
   "cell_type": "code",
   "execution_count": 7,
   "metadata": {
    "collapsed": true
   },
   "outputs": [],
   "source": [
    "from tmi_base import *"
   ]
  },
  {
   "cell_type": "code",
   "execution_count": 8,
   "metadata": {
    "collapsed": false
   },
   "outputs": [],
   "source": [
    "#backup_dir = '/Users/geza/tmpdir/local_2016-03-17_21:38:43-07:00/'\n",
    "backup_dir = sorted(glob.glob('/home/gkovacs/tmi-data/local_*'), reverse=True)[0]\n",
    "#cutoff_time = 1458256428.119055 # 2016-03-17 16:13:48.119055"
   ]
  },
  {
   "cell_type": "code",
   "execution_count": 9,
   "metadata": {
    "collapsed": false
   },
   "outputs": [],
   "source": [
    "username_to_mturk_id = {}\n",
    "\n",
    "for filename in glob.glob(backup_dir + '/logs_*.json') + glob.glob(backup_dir + '/mlogs_*.json'):\n",
    "  data = json.load(open(filename))\n",
    "  last_item = data[len(data) - 1]\n",
    "  user = last_item['user']\n",
    "  if 'mturkid' not in last_item:\n",
    "    continue\n",
    "  mturkid = last_item['mturkid']\n",
    "  username_to_mturk_id[user] = mturkid"
   ]
  },
  {
   "cell_type": "code",
   "execution_count": 10,
   "metadata": {
    "collapsed": true
   },
   "outputs": [],
   "source": [
    "json.dump(username_to_mturk_id, open('username_to_mturk_id.json', 'w'))"
   ]
  }
 ],
 "metadata": {
  "kernelspec": {
   "display_name": "Python 2",
   "language": "python",
   "name": "python2"
  },
  "language_info": {
   "codemirror_mode": {
    "name": "ipython",
    "version": 2
   },
   "file_extension": ".py",
   "mimetype": "text/x-python",
   "name": "python",
   "nbconvert_exporter": "python",
   "pygments_lexer": "ipython2",
   "version": "2.7.11"
  }
 },
 "nbformat": 4,
 "nbformat_minor": 0
}
