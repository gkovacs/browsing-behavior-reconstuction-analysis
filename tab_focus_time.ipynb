{
 "cells": [
  {
   "cell_type": "code",
   "execution_count": 1,
   "metadata": {
    "collapsed": true
   },
   "outputs": [],
   "source": [
    "import tmilib\n",
    "reload(tmilib)\n",
    "from tmilib import *"
   ]
  },
  {
   "cell_type": "code",
   "execution_count": 13,
   "metadata": {
    "collapsed": false
   },
   "outputs": [],
   "source": [
    "def get_focused_tab(data):\n",
    "  windows = data['windows']\n",
    "  for window in windows:\n",
    "    focused = window['focused']\n",
    "    if not focused:\n",
    "      continue\n",
    "    tabs = window['tabs']\n",
    "    for tab in tabs:\n",
    "      if not tab['highlighted']:\n",
    "        continue\n",
    "      if not tab['selected']:\n",
    "        continue\n",
    "      return tab['url']\n",
    "\n",
    "class SessionTracker:\n",
    "  def __init__(self):\n",
    "    self.output = []\n",
    "    self.curitem = {}\n",
    "  def get_output(self):\n",
    "    self.end_input()\n",
    "    return self.output\n",
    "  def end_input(self):\n",
    "    if 'url' in self.curitem:\n",
    "      last_active = self.curitem['active']\n",
    "      self.curitem['end'] = last_active + 60*1000\n",
    "      self.output.append(self.curitem)\n",
    "      self.curitem = {}\n",
    "  def end_session(self, curtime):\n",
    "    if 'url' in self.curitem:\n",
    "      last_active = self.curitem['active']\n",
    "      # ensures that end < last_active+60 seconds\n",
    "      self.curitem['end'] = min(curtime, last_active + 60*1000)\n",
    "      self.output.append(self.curitem)\n",
    "      self.curitem = {}\n",
    "  def start_session(self, url, curtime):\n",
    "    if url == None:\n",
    "      raise 'start_session should not be called with url==None'\n",
    "    self.end_session(curtime)\n",
    "    # start: first event in the session\n",
    "    # active: last event which was active in the session\n",
    "    # end: when we believe the session ended\n",
    "    self.curitem = {'url': url, 'start': curtime, 'active': curtime}\n",
    "  def continue_session(self, url, curtime):\n",
    "    if url == None:\n",
    "      raise 'continue_session should not be called with url==None'\n",
    "    if 'url' not in self.curitem:\n",
    "      self.start_session(url, curtime)\n",
    "      return\n",
    "    prevurl = self.curitem['url']\n",
    "    if url == prevurl: # still on same site\n",
    "      self.curitem['active'] = curtime\n",
    "      return\n",
    "    # have gone to different site\n",
    "    self.end_session(curtime)\n",
    "    self.start_session(url, curtime)\n",
    "  def process_input(self, data):\n",
    "    evt = data['evt']\n",
    "    curtime = data['time'] # this is timestamp in milliseconds\n",
    "    cururl = get_focused_tab(data)\n",
    "    if cururl == None: # browser is not focused\n",
    "      self.end_session(curtime)\n",
    "      return\n",
    "    if evt == 'idle_changed':\n",
    "      self.process_idle_changed(data)\n",
    "      return\n",
    "    if evt == 'still_browsing': # ignore still_browsing events\n",
    "      return\n",
    "    self.continue_session(cururl, curtime)\n",
    "  def process_idle_changed(self, data):\n",
    "    # idlestate can be either idle, locked, or active\n",
    "    idlestate = data['idlestate']\n",
    "    curtime = data['time']\n",
    "    if idlestate == 'idle' or idlestate == 'locked':\n",
    "      self.end_session(curtime)\n",
    "      return\n",
    "    if idlestate == 'active':\n",
    "      cururl = get_focused_tab(data)\n",
    "      self.start_session(cururl, curtime)\n",
    "\n",
    "for filename in list_logfiles()[:1]:\n",
    "  #print filename\n",
    "  size_bytes = os.stat(filename).st_size\n",
    "  size_megabytes = float(size_bytes) / (1000.0*1000.0)\n",
    "  if size_megabytes > 0.1:\n",
    "    continue\n",
    "  session_tracker = SessionTracker()\n",
    "  for data in iterate_data(filename):\n",
    "    session_tracker.process_input(data)\n",
    "  session_tracker.end_input()\n",
    "  #print session_tracker.get_output()\n",
    "\n"
   ]
  },
  {
   "cell_type": "code",
   "execution_count": null,
   "metadata": {
    "collapsed": true
   },
   "outputs": [],
   "source": [
    "def compute_url_focus"
   ]
  },
  {
   "cell_type": "code",
   "execution_count": 15,
   "metadata": {
    "collapsed": false
   },
   "outputs": [],
   "source": [
    "def compute_for_key_on_data(key, data, name, function):\n",
    "  outfile = name + '/' + key + '.json'\n",
    "  if sdir_exists(outfile):\n",
    "    return\n",
    "  result = function(data)\n",
    "  sdir_dumpjson(outfile, result)\n",
    "\n"
   ]
  },
  {
   "cell_type": "code",
   "execution_count": null,
   "metadata": {
    "collapsed": false
   },
   "outputs": [],
   "source": []
  },
  {
   "cell_type": "code",
   "execution_count": 4,
   "metadata": {
    "collapsed": false
   },
   "outputs": [
    {
     "name": "stdout",
     "output_type": "stream",
     "text": [
      "/home/gkovacs/tmi-data/local_2016-03-23_19:13:45-07:00/logs_Eq7EExfolE.json\n",
      "/home/gkovacs/tmi-data/local_2016-03-23_19:13:45-07:00/logs_3H5aGCb1Km.json\n",
      "/home/gkovacs/tmi-data/local_2016-03-23_19:13:45-07:00/logs_vbZrd5LD5J.json\n",
      "/home/gkovacs/tmi-data/local_2016-03-23_19:13:45-07:00/logs_pQiVSc5Ta5.json\n",
      "/home/gkovacs/tmi-data/local_2016-03-23_19:13:45-07:00/logs_gtg8G9PJk7.json\n",
      "/home/gkovacs/tmi-data/local_2016-03-23_19:13:45-07:00/logs_r9pox860Kx.json\n",
      "/home/gkovacs/tmi-data/local_2016-03-23_19:13:45-07:00/logs_ZIpD1khEqv.json\n",
      "/home/gkovacs/tmi-data/local_2016-03-23_19:13:45-07:00/logs_kEVg7v0LcS.json\n",
      "/home/gkovacs/tmi-data/local_2016-03-23_19:13:45-07:00/logs_cTggWOIxwe.json\n",
      "/home/gkovacs/tmi-data/local_2016-03-23_19:13:45-07:00/logs_epgLZz5GYr.json\n",
      "/home/gkovacs/tmi-data/local_2016-03-23_19:13:45-07:00/logs_NlUyZzFe88.json\n",
      "/home/gkovacs/tmi-data/local_2016-03-23_19:13:45-07:00/logs_uVep19IpQg.json\n",
      "/home/gkovacs/tmi-data/local_2016-03-23_19:13:45-07:00/logs_JgGfKNPVdz.json\n",
      "/home/gkovacs/tmi-data/local_2016-03-23_19:13:45-07:00/logs_KbOHvZyHaZ.json\n",
      "/home/gkovacs/tmi-data/local_2016-03-23_19:13:45-07:00/logs_672FuNpGcG.json\n",
      "/home/gkovacs/tmi-data/local_2016-03-23_19:13:45-07:00/logs_c87PtfL4fZ.json\n",
      "/home/gkovacs/tmi-data/local_2016-03-23_19:13:45-07:00/logs_BDVuS6fgAX.json\n",
      "/home/gkovacs/tmi-data/local_2016-03-23_19:13:45-07:00/logs_gM7bu5okot.json\n",
      "/home/gkovacs/tmi-data/local_2016-03-23_19:13:45-07:00/logs_bs48RMKueo.json\n",
      "/home/gkovacs/tmi-data/local_2016-03-23_19:13:45-07:00/logs_5OzVIGzuls.json\n",
      "/home/gkovacs/tmi-data/local_2016-03-23_19:13:45-07:00/logs_3cbp0gmnJH.json\n",
      "/home/gkovacs/tmi-data/local_2016-03-23_19:13:45-07:00/logs_G0vJqaghYI.json\n",
      "/home/gkovacs/tmi-data/local_2016-03-23_19:13:45-07:00/logs_I7bWhq0wlD.json\n",
      "/home/gkovacs/tmi-data/local_2016-03-23_19:13:45-07:00/logs_EosJwLGr2T.json\n",
      "/home/gkovacs/tmi-data/local_2016-03-23_19:13:45-07:00/logs_rd88uymO5y.json\n",
      "/home/gkovacs/tmi-data/local_2016-03-23_19:13:45-07:00/logs_xoHwbCO57V.json\n",
      "/home/gkovacs/tmi-data/local_2016-03-23_19:13:45-07:00/logs_6Z8LgDNxli.json\n",
      "/home/gkovacs/tmi-data/local_2016-03-23_19:13:45-07:00/logs_KvOx4URxrU.json\n",
      "/home/gkovacs/tmi-data/local_2016-03-23_19:13:45-07:00/logs_Xc1fERxR2q.json\n",
      "/home/gkovacs/tmi-data/local_2016-03-23_19:13:45-07:00/logs_JPuYu0f4cg.json\n",
      "/home/gkovacs/tmi-data/local_2016-03-23_19:13:45-07:00/logs_5a0TSIAKZx.json\n",
      "/home/gkovacs/tmi-data/local_2016-03-23_19:13:45-07:00/logs_bNAaLILEEx.json\n",
      "/home/gkovacs/tmi-data/local_2016-03-23_19:13:45-07:00/logs_tJR2h4Ctwe.json\n",
      "/home/gkovacs/tmi-data/local_2016-03-23_19:13:45-07:00/logs_9lsGK470WJ.json\n",
      "/home/gkovacs/tmi-data/local_2016-03-23_19:13:45-07:00/logs_YhbiGkVus4.json\n",
      "/home/gkovacs/tmi-data/local_2016-03-23_19:13:45-07:00/logs_uSGqsEq9Ei.json\n",
      "/home/gkovacs/tmi-data/local_2016-03-23_19:13:45-07:00/logs_WGK1kxA0Aq.json\n",
      "/home/gkovacs/tmi-data/local_2016-03-23_19:13:45-07:00/logs_fDlKq5XafL.json\n",
      "/home/gkovacs/tmi-data/local_2016-03-23_19:13:45-07:00/logs_Kq90swi7lp.json\n",
      "/home/gkovacs/tmi-data/local_2016-03-23_19:13:45-07:00/logs_5YiO3dMHo1.json\n",
      "/home/gkovacs/tmi-data/local_2016-03-23_19:13:45-07:00/logs_YfxXPMAdN0.json\n",
      "/home/gkovacs/tmi-data/local_2016-03-23_19:13:45-07:00/logs_rlMzRNg4NZ.json\n",
      "/home/gkovacs/tmi-data/local_2016-03-23_19:13:45-07:00/logs_EI4z7E9i6G.json\n",
      "/home/gkovacs/tmi-data/local_2016-03-23_19:13:45-07:00/logs_JN5A3REfBA.json\n",
      "/home/gkovacs/tmi-data/local_2016-03-23_19:13:45-07:00/logs_o0pBXW2Giy.json\n",
      "/home/gkovacs/tmi-data/local_2016-03-23_19:13:45-07:00/logs_8LgPcOdhxr.json\n",
      "/home/gkovacs/tmi-data/local_2016-03-23_19:13:45-07:00/logs_pi5QmUem0A.json\n",
      "/home/gkovacs/tmi-data/local_2016-03-23_19:13:45-07:00/logs_fkaJrvOVHk.json\n",
      "/home/gkovacs/tmi-data/local_2016-03-23_19:13:45-07:00/logs_0OqomIicFz.json\n",
      "/home/gkovacs/tmi-data/local_2016-03-23_19:13:45-07:00/logs_Vn6fzJEcuQ.json\n",
      "/home/gkovacs/tmi-data/local_2016-03-23_19:13:45-07:00/logs_Ldqg5D6xQ4.json\n",
      "/home/gkovacs/tmi-data/local_2016-03-23_19:13:45-07:00/logs_5SY6ZOFYPW.json\n",
      "/home/gkovacs/tmi-data/local_2016-03-23_19:13:45-07:00/logs_mUztzCB5Cp.json\n",
      "/home/gkovacs/tmi-data/local_2016-03-23_19:13:45-07:00/logs_wNSYsBXk7V.json\n",
      "/home/gkovacs/tmi-data/local_2016-03-23_19:13:45-07:00/logs_kBVTgCPK46.json\n",
      "/home/gkovacs/tmi-data/local_2016-03-23_19:13:45-07:00/logs_ZNsh69CZZp.json\n",
      "/home/gkovacs/tmi-data/local_2016-03-23_19:13:45-07:00/logs_AxYL2Keaez.json\n",
      "/home/gkovacs/tmi-data/local_2016-03-23_19:13:45-07:00/logs_T9iWKyr4Yr.json\n",
      "/home/gkovacs/tmi-data/local_2016-03-23_19:13:45-07:00/logs_tiGoU3sSBi.json\n",
      "/home/gkovacs/tmi-data/local_2016-03-23_19:13:45-07:00/logs_JAJRFkIam9.json\n",
      "/home/gkovacs/tmi-data/local_2016-03-23_19:13:45-07:00/logs_WMxX2EZkkS.json\n",
      "/home/gkovacs/tmi-data/local_2016-03-23_19:13:45-07:00/logs_HTJsgfdqdI.json\n",
      "/home/gkovacs/tmi-data/local_2016-03-23_19:13:45-07:00/logs_GCJ8SzCXLu.json\n",
      "/home/gkovacs/tmi-data/local_2016-03-23_19:13:45-07:00/logs_RVp3K6yEKI.json\n",
      "/home/gkovacs/tmi-data/local_2016-03-23_19:13:45-07:00/logs_GIsH2f7gGF.json\n",
      "/home/gkovacs/tmi-data/local_2016-03-23_19:13:45-07:00/logs_Mi4RazxDkL.json\n",
      "/home/gkovacs/tmi-data/local_2016-03-23_19:13:45-07:00/logs_XCugQNaZ2R.json\n",
      "/home/gkovacs/tmi-data/local_2016-03-23_19:13:45-07:00/logs_Xf4IZzPnYs.json\n",
      "/home/gkovacs/tmi-data/local_2016-03-23_19:13:45-07:00/logs_WPqPSnxU2J.json\n",
      "/home/gkovacs/tmi-data/local_2016-03-23_19:13:45-07:00/logs_C1NRDrRxC7.json\n",
      "/home/gkovacs/tmi-data/local_2016-03-23_19:13:45-07:00/logs_eQcdTVvXtc.json\n",
      "/home/gkovacs/tmi-data/local_2016-03-23_19:13:45-07:00/logs_gQnEZCDPqF.json\n",
      "/home/gkovacs/tmi-data/local_2016-03-23_19:13:45-07:00/logs_3k03ZwzqsO.json\n",
      "/home/gkovacs/tmi-data/local_2016-03-23_19:13:45-07:00/logs_JRLIkbh54Q.json\n",
      "/home/gkovacs/tmi-data/local_2016-03-23_19:13:45-07:00/logs_MN1ULTt4Sk.json\n",
      "/home/gkovacs/tmi-data/local_2016-03-23_19:13:45-07:00/logs_sZSRhEzL75.json\n",
      "/home/gkovacs/tmi-data/local_2016-03-23_19:13:45-07:00/logs_HgP6sgt4VU.json\n",
      "/home/gkovacs/tmi-data/local_2016-03-23_19:13:45-07:00/logs_SLahv6QyE0.json\n",
      "/home/gkovacs/tmi-data/local_2016-03-23_19:13:45-07:00/logs_4r9SX4uFpY.json\n",
      "/home/gkovacs/tmi-data/local_2016-03-23_19:13:45-07:00/logs_G1M2LAfu7J.json\n",
      "/home/gkovacs/tmi-data/local_2016-03-23_19:13:45-07:00/logs_MRdTCpVMYk.json\n",
      "/home/gkovacs/tmi-data/local_2016-03-23_19:13:45-07:00/logs_tZYgytONpD.json\n",
      "/home/gkovacs/tmi-data/local_2016-03-23_19:13:45-07:00/logs_731XPvfad6.json\n",
      "/home/gkovacs/tmi-data/local_2016-03-23_19:13:45-07:00/logs_qseI7KNXEz.json\n",
      "/home/gkovacs/tmi-data/local_2016-03-23_19:13:45-07:00/logs_MYf5PSPx7R.json\n",
      "/home/gkovacs/tmi-data/local_2016-03-23_19:13:45-07:00/logs_D3YTxyD1pZ.json\n",
      "/home/gkovacs/tmi-data/local_2016-03-23_19:13:45-07:00/logs_KlbP96nvyD.json\n",
      "/home/gkovacs/tmi-data/local_2016-03-23_19:13:45-07:00/logs_PGBrnCsY0d.json\n",
      "/home/gkovacs/tmi-data/local_2016-03-23_19:13:45-07:00/logs_oyIlS7UD0t.json\n",
      "/home/gkovacs/tmi-data/local_2016-03-23_19:13:45-07:00/logs_RmmZJJwnAJ.json\n",
      "/home/gkovacs/tmi-data/local_2016-03-23_19:13:45-07:00/logs_QLfKcA3QBw.json\n",
      "/home/gkovacs/tmi-data/local_2016-03-23_19:13:45-07:00/logs_qASh0ZoaYb.json\n",
      "/home/gkovacs/tmi-data/local_2016-03-23_19:13:45-07:00/logs_7faXpAlO9J.json\n",
      "/home/gkovacs/tmi-data/local_2016-03-23_19:13:45-07:00/logs_80ao0ca9Mm.json\n",
      "/home/gkovacs/tmi-data/local_2016-03-23_19:13:45-07:00/logs_i8fRWxU6IX.json\n",
      "/home/gkovacs/tmi-data/local_2016-03-23_19:13:45-07:00/logs_lwx9fSaptl.json\n",
      "/home/gkovacs/tmi-data/local_2016-03-23_19:13:45-07:00/logs_ilrEym6V0I.json\n",
      "/home/gkovacs/tmi-data/local_2016-03-23_19:13:45-07:00/logs_VCWgbhInoF.json\n"
     ]
    }
   ],
   "source": [
    "evt_types = set()\n",
    "for filename in list_logfiles():\n",
    "  size_bytes = os.stat(filename).st_size\n",
    "  size_megabytes = float(size_bytes) / (1000.0*1000.0)\n",
    "  if size_megabytes > 0.1:\n",
    "    continue\n",
    "  print filename\n",
    "  for data in iterate_data_compressed(filename):\n",
    "    evt_types.add(data['evt'])\n",
    "  #break\n",
    "  #size_bytes = os.stat(x).st_size\n",
    "  #size_megabytes = float(size_bytes) / (1000.0*1000.0)\n",
    "  #print size_megabytes"
   ]
  },
  {
   "cell_type": "code",
   "execution_count": 15,
   "metadata": {
    "collapsed": false
   },
   "outputs": [
    {
     "name": "stdout",
     "output_type": "stream",
     "text": [
      "set([u'tab_moved', u'tab_replaced', u'tab_zoomchange', u'browser_focus_changed', u'tab_activated', u'tab_created', u'idle_changed', u'tab_updated', u'window_focus_changed', u'tab_attached', u'window_created', u'tab_highlighted', u'window_closed', u'tab_removed', u'still_browsing', u'tab_detached'])\n"
     ]
    }
   ],
   "source": [
    "print evt_types"
   ]
  }
 ],
 "metadata": {
  "kernelspec": {
   "display_name": "Python 2",
   "language": "python",
   "name": "python2"
  },
  "language_info": {
   "codemirror_mode": {
    "name": "ipython",
    "version": 2
   },
   "file_extension": ".py",
   "mimetype": "text/x-python",
   "name": "python",
   "nbconvert_exporter": "python",
   "pygments_lexer": "ipython2",
   "version": "2.7.11"
  }
 },
 "nbformat": 4,
 "nbformat_minor": 0
}
