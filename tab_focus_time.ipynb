{
 "cells": [
  {
   "cell_type": "code",
   "execution_count": 2,
   "metadata": {
    "collapsed": true
   },
   "outputs": [],
   "source": [
    "import tmilib\n",
    "reload(tmilib)\n",
    "from tmilib import *"
   ]
  },
  {
   "cell_type": "code",
   "execution_count": 8,
   "metadata": {
    "collapsed": false
   },
   "outputs": [
    {
     "name": "stdout",
     "output_type": "stream",
     "text": [
      "/home/gkovacs/tmi-data/local_2016-03-23_19:13:45-07:00/logs_Eq7EExfolE.json\n",
      "{u'ver': u'1', u'windows': [{u'tabs': [{u'status': u'complete', u'index': 0, u'title': u'Extensions', u'pinned': False, u'selected': False, u'audible': False, u'highlighted': False, u'mutedInfo': {u'muted': False}, u'width': 1366, u'url': u'chrome://extensions/', u'windowId': 1, u'active': False, u'favIconUrl': u'chrome://theme/IDR_EXTENSIONS_FAVICON@2x', u'height': 667, u'id': 2, u'incognito': False}, {u'status': u'complete', u'index': 1, u'title': u'https://tmi.stanford.edu/mturk3.html?username=A21NRMZFK7QCJW', u'pinned': False, u'selected': True, u'audible': False, u'highlighted': True, u'mutedInfo': {u'muted': False}, u'width': 1366, u'url': u'https://tmi.stanford.edu/mturk3.html?username=A21NRMZFK7QCJW', u'windowId': 1, u'active': True, u'height': 667, u'id': 4, u'incognito': False}, {u'status': u'complete', u'index': 2, u'openerTabId': 4, u'title': u'BrowserLog - Chrome Web Store', u'pinned': False, u'selected': False, u'audible': False, u'highlighted': False, u'mutedInfo': {u'muted': False}, u'width': 1366, u'url': u'https://chrome.google.com/webstore/detail/browserlog/gfbpfpdbpplbgahmeljkmbbmnbplkdif', u'windowId': 1, u'active': False, u'favIconUrl': u'https://www.google.com/images/icons/product/chrome_web_store-32.png', u'height': 667, u'id': 6, u'incognito': False}], u'top': -8, u'height': 744, u'width': 1382, u'state': u'maximized', u'focused': False, u'alwaysOnTop': False, u'incognito': False, u'type': u'normal', u'id': 1, u'left': -8}], u'ip': u'117.221.100.121', u'isfocused': False, u'user': u'Eq7EExfolE', u'time': 1458121172828.0, u'_id': {u'$oid': u'56e929d649a95df57c8ecb85'}, u'evt': u'browser_focus_changed'}\n"
     ]
    }
   ],
   "source": [
    "def get_focused_tab(data):\n",
    "  windows = data['windows']\n",
    "  for window in windows:\n",
    "    focused = window['focused']\n",
    "    if not focused:\n",
    "      continue\n",
    "    tabs = window['tabs']\n",
    "    for tab in tabs:\n",
    "      if not tab['highlighted']:\n",
    "        continue\n",
    "      if not tab['selected']:\n",
    "        continue\n",
    "      return tab['url']\n",
    "\n",
    "for filename in list_logfiles()[:1]:\n",
    "  size_bytes = os.stat(filename).st_size\n",
    "  size_megabytes = float(size_bytes) / (1000.0*1000.0)\n",
    "  if size_megabytes > 0.1:\n",
    "    continue\n",
    "  print filename\n",
    "  output = []\n",
    "  prev_active_site = ''\n",
    "  for data in iterate_data(filename):\n",
    "    #evt_types.add(data['evt'])\n",
    "    #print data\n",
    "    current_active_site = get_focused_tab(data)\n",
    "    # things to handle\n",
    "    # idle_changed (if idlestate == idle or locked), https://developer.chrome.com/extensions/idle#type-IdleState\n",
    "    # default detection interval is 60 seconds for idle\n",
    "    # still_browsing after 30 seconds, or lack thereof\n",
    "    #if current_active_site == None: # no windows focused\n",
    "    #  \n",
    "    if get_focused_tab(data) == None:\n",
    "      print data\n",
    "      break\n",
    "    #break"
   ]
  },
  {
   "cell_type": "code",
   "execution_count": 4,
   "metadata": {
    "collapsed": false
   },
   "outputs": [
    {
     "name": "stdout",
     "output_type": "stream",
     "text": [
      "/home/gkovacs/tmi-data/local_2016-03-23_19:13:45-07:00/logs_Eq7EExfolE.json\n",
      "/home/gkovacs/tmi-data/local_2016-03-23_19:13:45-07:00/logs_3H5aGCb1Km.json\n",
      "/home/gkovacs/tmi-data/local_2016-03-23_19:13:45-07:00/logs_vbZrd5LD5J.json\n",
      "/home/gkovacs/tmi-data/local_2016-03-23_19:13:45-07:00/logs_pQiVSc5Ta5.json\n",
      "/home/gkovacs/tmi-data/local_2016-03-23_19:13:45-07:00/logs_gtg8G9PJk7.json\n",
      "/home/gkovacs/tmi-data/local_2016-03-23_19:13:45-07:00/logs_r9pox860Kx.json\n",
      "/home/gkovacs/tmi-data/local_2016-03-23_19:13:45-07:00/logs_ZIpD1khEqv.json\n",
      "/home/gkovacs/tmi-data/local_2016-03-23_19:13:45-07:00/logs_kEVg7v0LcS.json\n",
      "/home/gkovacs/tmi-data/local_2016-03-23_19:13:45-07:00/logs_cTggWOIxwe.json\n",
      "/home/gkovacs/tmi-data/local_2016-03-23_19:13:45-07:00/logs_epgLZz5GYr.json\n",
      "/home/gkovacs/tmi-data/local_2016-03-23_19:13:45-07:00/logs_NlUyZzFe88.json\n",
      "/home/gkovacs/tmi-data/local_2016-03-23_19:13:45-07:00/logs_uVep19IpQg.json\n",
      "/home/gkovacs/tmi-data/local_2016-03-23_19:13:45-07:00/logs_JgGfKNPVdz.json\n",
      "/home/gkovacs/tmi-data/local_2016-03-23_19:13:45-07:00/logs_KbOHvZyHaZ.json\n",
      "/home/gkovacs/tmi-data/local_2016-03-23_19:13:45-07:00/logs_672FuNpGcG.json\n",
      "/home/gkovacs/tmi-data/local_2016-03-23_19:13:45-07:00/logs_c87PtfL4fZ.json\n",
      "/home/gkovacs/tmi-data/local_2016-03-23_19:13:45-07:00/logs_BDVuS6fgAX.json\n",
      "/home/gkovacs/tmi-data/local_2016-03-23_19:13:45-07:00/logs_gM7bu5okot.json\n",
      "/home/gkovacs/tmi-data/local_2016-03-23_19:13:45-07:00/logs_bs48RMKueo.json\n",
      "/home/gkovacs/tmi-data/local_2016-03-23_19:13:45-07:00/logs_5OzVIGzuls.json\n",
      "/home/gkovacs/tmi-data/local_2016-03-23_19:13:45-07:00/logs_3cbp0gmnJH.json\n",
      "/home/gkovacs/tmi-data/local_2016-03-23_19:13:45-07:00/logs_G0vJqaghYI.json\n",
      "/home/gkovacs/tmi-data/local_2016-03-23_19:13:45-07:00/logs_I7bWhq0wlD.json\n",
      "/home/gkovacs/tmi-data/local_2016-03-23_19:13:45-07:00/logs_EosJwLGr2T.json\n",
      "/home/gkovacs/tmi-data/local_2016-03-23_19:13:45-07:00/logs_rd88uymO5y.json\n",
      "/home/gkovacs/tmi-data/local_2016-03-23_19:13:45-07:00/logs_xoHwbCO57V.json\n",
      "/home/gkovacs/tmi-data/local_2016-03-23_19:13:45-07:00/logs_6Z8LgDNxli.json\n",
      "/home/gkovacs/tmi-data/local_2016-03-23_19:13:45-07:00/logs_KvOx4URxrU.json\n",
      "/home/gkovacs/tmi-data/local_2016-03-23_19:13:45-07:00/logs_Xc1fERxR2q.json\n",
      "/home/gkovacs/tmi-data/local_2016-03-23_19:13:45-07:00/logs_JPuYu0f4cg.json\n",
      "/home/gkovacs/tmi-data/local_2016-03-23_19:13:45-07:00/logs_5a0TSIAKZx.json\n",
      "/home/gkovacs/tmi-data/local_2016-03-23_19:13:45-07:00/logs_bNAaLILEEx.json\n",
      "/home/gkovacs/tmi-data/local_2016-03-23_19:13:45-07:00/logs_tJR2h4Ctwe.json\n",
      "/home/gkovacs/tmi-data/local_2016-03-23_19:13:45-07:00/logs_9lsGK470WJ.json\n",
      "/home/gkovacs/tmi-data/local_2016-03-23_19:13:45-07:00/logs_YhbiGkVus4.json\n",
      "/home/gkovacs/tmi-data/local_2016-03-23_19:13:45-07:00/logs_uSGqsEq9Ei.json\n",
      "/home/gkovacs/tmi-data/local_2016-03-23_19:13:45-07:00/logs_WGK1kxA0Aq.json\n",
      "/home/gkovacs/tmi-data/local_2016-03-23_19:13:45-07:00/logs_fDlKq5XafL.json\n",
      "/home/gkovacs/tmi-data/local_2016-03-23_19:13:45-07:00/logs_Kq90swi7lp.json\n",
      "/home/gkovacs/tmi-data/local_2016-03-23_19:13:45-07:00/logs_5YiO3dMHo1.json\n",
      "/home/gkovacs/tmi-data/local_2016-03-23_19:13:45-07:00/logs_YfxXPMAdN0.json\n",
      "/home/gkovacs/tmi-data/local_2016-03-23_19:13:45-07:00/logs_rlMzRNg4NZ.json\n",
      "/home/gkovacs/tmi-data/local_2016-03-23_19:13:45-07:00/logs_EI4z7E9i6G.json\n",
      "/home/gkovacs/tmi-data/local_2016-03-23_19:13:45-07:00/logs_JN5A3REfBA.json\n",
      "/home/gkovacs/tmi-data/local_2016-03-23_19:13:45-07:00/logs_o0pBXW2Giy.json\n",
      "/home/gkovacs/tmi-data/local_2016-03-23_19:13:45-07:00/logs_8LgPcOdhxr.json\n",
      "/home/gkovacs/tmi-data/local_2016-03-23_19:13:45-07:00/logs_pi5QmUem0A.json\n",
      "/home/gkovacs/tmi-data/local_2016-03-23_19:13:45-07:00/logs_fkaJrvOVHk.json\n",
      "/home/gkovacs/tmi-data/local_2016-03-23_19:13:45-07:00/logs_0OqomIicFz.json\n",
      "/home/gkovacs/tmi-data/local_2016-03-23_19:13:45-07:00/logs_Vn6fzJEcuQ.json\n",
      "/home/gkovacs/tmi-data/local_2016-03-23_19:13:45-07:00/logs_Ldqg5D6xQ4.json\n",
      "/home/gkovacs/tmi-data/local_2016-03-23_19:13:45-07:00/logs_5SY6ZOFYPW.json\n",
      "/home/gkovacs/tmi-data/local_2016-03-23_19:13:45-07:00/logs_mUztzCB5Cp.json\n",
      "/home/gkovacs/tmi-data/local_2016-03-23_19:13:45-07:00/logs_wNSYsBXk7V.json\n",
      "/home/gkovacs/tmi-data/local_2016-03-23_19:13:45-07:00/logs_kBVTgCPK46.json\n",
      "/home/gkovacs/tmi-data/local_2016-03-23_19:13:45-07:00/logs_ZNsh69CZZp.json\n",
      "/home/gkovacs/tmi-data/local_2016-03-23_19:13:45-07:00/logs_AxYL2Keaez.json\n",
      "/home/gkovacs/tmi-data/local_2016-03-23_19:13:45-07:00/logs_T9iWKyr4Yr.json\n",
      "/home/gkovacs/tmi-data/local_2016-03-23_19:13:45-07:00/logs_tiGoU3sSBi.json\n",
      "/home/gkovacs/tmi-data/local_2016-03-23_19:13:45-07:00/logs_JAJRFkIam9.json\n",
      "/home/gkovacs/tmi-data/local_2016-03-23_19:13:45-07:00/logs_WMxX2EZkkS.json\n",
      "/home/gkovacs/tmi-data/local_2016-03-23_19:13:45-07:00/logs_HTJsgfdqdI.json\n",
      "/home/gkovacs/tmi-data/local_2016-03-23_19:13:45-07:00/logs_GCJ8SzCXLu.json\n",
      "/home/gkovacs/tmi-data/local_2016-03-23_19:13:45-07:00/logs_RVp3K6yEKI.json\n",
      "/home/gkovacs/tmi-data/local_2016-03-23_19:13:45-07:00/logs_GIsH2f7gGF.json\n",
      "/home/gkovacs/tmi-data/local_2016-03-23_19:13:45-07:00/logs_Mi4RazxDkL.json\n",
      "/home/gkovacs/tmi-data/local_2016-03-23_19:13:45-07:00/logs_XCugQNaZ2R.json\n",
      "/home/gkovacs/tmi-data/local_2016-03-23_19:13:45-07:00/logs_Xf4IZzPnYs.json\n",
      "/home/gkovacs/tmi-data/local_2016-03-23_19:13:45-07:00/logs_WPqPSnxU2J.json\n",
      "/home/gkovacs/tmi-data/local_2016-03-23_19:13:45-07:00/logs_C1NRDrRxC7.json\n",
      "/home/gkovacs/tmi-data/local_2016-03-23_19:13:45-07:00/logs_eQcdTVvXtc.json\n",
      "/home/gkovacs/tmi-data/local_2016-03-23_19:13:45-07:00/logs_gQnEZCDPqF.json\n",
      "/home/gkovacs/tmi-data/local_2016-03-23_19:13:45-07:00/logs_3k03ZwzqsO.json\n",
      "/home/gkovacs/tmi-data/local_2016-03-23_19:13:45-07:00/logs_JRLIkbh54Q.json\n",
      "/home/gkovacs/tmi-data/local_2016-03-23_19:13:45-07:00/logs_MN1ULTt4Sk.json\n",
      "/home/gkovacs/tmi-data/local_2016-03-23_19:13:45-07:00/logs_sZSRhEzL75.json\n",
      "/home/gkovacs/tmi-data/local_2016-03-23_19:13:45-07:00/logs_HgP6sgt4VU.json\n",
      "/home/gkovacs/tmi-data/local_2016-03-23_19:13:45-07:00/logs_SLahv6QyE0.json\n",
      "/home/gkovacs/tmi-data/local_2016-03-23_19:13:45-07:00/logs_4r9SX4uFpY.json\n",
      "/home/gkovacs/tmi-data/local_2016-03-23_19:13:45-07:00/logs_G1M2LAfu7J.json\n",
      "/home/gkovacs/tmi-data/local_2016-03-23_19:13:45-07:00/logs_MRdTCpVMYk.json\n",
      "/home/gkovacs/tmi-data/local_2016-03-23_19:13:45-07:00/logs_tZYgytONpD.json\n",
      "/home/gkovacs/tmi-data/local_2016-03-23_19:13:45-07:00/logs_731XPvfad6.json\n",
      "/home/gkovacs/tmi-data/local_2016-03-23_19:13:45-07:00/logs_qseI7KNXEz.json\n",
      "/home/gkovacs/tmi-data/local_2016-03-23_19:13:45-07:00/logs_MYf5PSPx7R.json\n",
      "/home/gkovacs/tmi-data/local_2016-03-23_19:13:45-07:00/logs_D3YTxyD1pZ.json\n",
      "/home/gkovacs/tmi-data/local_2016-03-23_19:13:45-07:00/logs_KlbP96nvyD.json\n",
      "/home/gkovacs/tmi-data/local_2016-03-23_19:13:45-07:00/logs_PGBrnCsY0d.json\n",
      "/home/gkovacs/tmi-data/local_2016-03-23_19:13:45-07:00/logs_oyIlS7UD0t.json\n",
      "/home/gkovacs/tmi-data/local_2016-03-23_19:13:45-07:00/logs_RmmZJJwnAJ.json\n",
      "/home/gkovacs/tmi-data/local_2016-03-23_19:13:45-07:00/logs_QLfKcA3QBw.json\n",
      "/home/gkovacs/tmi-data/local_2016-03-23_19:13:45-07:00/logs_qASh0ZoaYb.json\n",
      "/home/gkovacs/tmi-data/local_2016-03-23_19:13:45-07:00/logs_7faXpAlO9J.json\n",
      "/home/gkovacs/tmi-data/local_2016-03-23_19:13:45-07:00/logs_80ao0ca9Mm.json\n",
      "/home/gkovacs/tmi-data/local_2016-03-23_19:13:45-07:00/logs_i8fRWxU6IX.json\n",
      "/home/gkovacs/tmi-data/local_2016-03-23_19:13:45-07:00/logs_lwx9fSaptl.json\n",
      "/home/gkovacs/tmi-data/local_2016-03-23_19:13:45-07:00/logs_ilrEym6V0I.json\n",
      "/home/gkovacs/tmi-data/local_2016-03-23_19:13:45-07:00/logs_VCWgbhInoF.json\n"
     ]
    }
   ],
   "source": [
    "evt_types = set()\n",
    "for filename in list_logfiles():\n",
    "  size_bytes = os.stat(filename).st_size\n",
    "  size_megabytes = float(size_bytes) / (1000.0*1000.0)\n",
    "  if size_megabytes > 0.1:\n",
    "    continue\n",
    "  print filename\n",
    "  for data in iterate_data_compressed(filename):\n",
    "    evt_types.add(data['evt'])\n",
    "  #break\n",
    "  #size_bytes = os.stat(x).st_size\n",
    "  #size_megabytes = float(size_bytes) / (1000.0*1000.0)\n",
    "  #print size_megabytes"
   ]
  },
  {
   "cell_type": "code",
   "execution_count": 15,
   "metadata": {
    "collapsed": false
   },
   "outputs": [
    {
     "name": "stdout",
     "output_type": "stream",
     "text": [
      "set([u'tab_moved', u'tab_replaced', u'tab_zoomchange', u'browser_focus_changed', u'tab_activated', u'tab_created', u'idle_changed', u'tab_updated', u'window_focus_changed', u'tab_attached', u'window_created', u'tab_highlighted', u'window_closed', u'tab_removed', u'still_browsing', u'tab_detached'])\n"
     ]
    }
   ],
   "source": [
    "print evt_types"
   ]
  }
 ],
 "metadata": {
  "kernelspec": {
   "display_name": "Python 2",
   "language": "python",
   "name": "python2"
  },
  "language_info": {
   "codemirror_mode": {
    "name": "ipython",
    "version": 2
   },
   "file_extension": ".py",
   "mimetype": "text/x-python",
   "name": "python",
   "nbconvert_exporter": "python",
   "pygments_lexer": "ipython2",
   "version": "2.7.11"
  }
 },
 "nbformat": 4,
 "nbformat_minor": 0
}
