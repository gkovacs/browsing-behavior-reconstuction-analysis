{
 "cells": [
  {
   "cell_type": "code",
   "execution_count": 1,
   "metadata": {
    "collapsed": true
   },
   "outputs": [],
   "source": [
    "from tmilib import *\n",
    "\n",
    "tmi_overrides['basedir'] = '/home/gkovacs/tmi-data/local_2016-03-27_19:25:47-07:00'"
   ]
  },
  {
   "cell_type": "code",
   "execution_count": 1,
   "metadata": {
    "collapsed": false
   },
   "outputs": [
    {
     "data": {
      "text/plain": [
       "0"
      ]
     },
     "execution_count": 1,
     "metadata": {},
     "output_type": "execute_result"
    }
   ],
   "source": [
    "import os\n",
    "\n",
    "os.system('ls /home/gkovacs/tmi-sdir')"
   ]
  },
  {
   "cell_type": "code",
   "execution_count": 5,
   "metadata": {
    "collapsed": false
   },
   "outputs": [],
   "source": [
    "compute_history_valid_hids_for_all_users_randomized()"
   ]
  },
  {
   "cell_type": "code",
   "execution_count": 3,
   "metadata": {
    "collapsed": false
   },
   "outputs": [
    {
     "data": {
      "text/plain": [
       "'\\nfor user in list_users_with_hist():\\n  history_pages_for_user = get_history_pages_for_user(user)\\n  if history_pages_for_user == None:\\n    print user\\n'"
      ]
     },
     "execution_count": 3,
     "metadata": {},
     "output_type": "execute_result"
    }
   ],
   "source": [
    "'''\n",
    "for user in list_users_with_hist():\n",
    "  history_pages_for_user = get_history_pages_for_user(user)\n",
    "  if history_pages_for_user == None:\n",
    "    print user\n",
    "'''\n",
    "#precompute_domains_list()"
   ]
  },
  {
   "cell_type": "code",
   "execution_count": 4,
   "metadata": {
    "collapsed": false
   },
   "outputs": [
    {
     "data": {
      "text/plain": [
       "\"\\n#user = '3Kd4L1WyRf'\\nuser = 'VCWgbhInoF'\\n\\nfor line in get_history_pages_for_user(user):\\n  print line\\n  break\\n  #evt = line['evt']\\n  #if evt == 'mlog':\\n  #  print line\\n  #  break\\n  pass\\n\""
      ]
     },
     "execution_count": 4,
     "metadata": {},
     "output_type": "execute_result"
    }
   ],
   "source": [
    "'''\n",
    "#user = '3Kd4L1WyRf'\n",
    "user = 'VCWgbhInoF'\n",
    "\n",
    "for line in get_history_pages_for_user(user):\n",
    "  print line\n",
    "  break\n",
    "  #evt = line['evt']\n",
    "  #if evt == 'mlog':\n",
    "  #  print line\n",
    "  #  break\n",
    "  pass\n",
    "'''"
   ]
  }
 ],
 "metadata": {
  "kernelspec": {
   "display_name": "Python 2",
   "language": "python",
   "name": "python2"
  },
  "language_info": {
   "codemirror_mode": {
    "name": "ipython",
    "version": 2
   },
   "file_extension": ".py",
   "mimetype": "text/x-python",
   "name": "python",
   "nbconvert_exporter": "python",
   "pygments_lexer": "ipython2",
   "version": "2.7.11"
  }
 },
 "nbformat": 4,
 "nbformat_minor": 0
}
