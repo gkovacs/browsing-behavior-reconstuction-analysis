{
 "cells": [
  {
   "cell_type": "code",
   "execution_count": 2,
   "metadata": {
    "collapsed": true
   },
   "outputs": [],
   "source": [
    "from tmilib import *\n",
    "\n",
    "#tmi_overrides['basedir'] = '/home/gkovacs/tmi-data/local_2016-03-27_19:25:47-07:00'\n",
    "#tmi_overrides['basedir'] = '/home/gkovacs/tmi-data/local_2016-03-29_14:32:48-07:00'"
   ]
  },
  {
   "cell_type": "code",
   "execution_count": null,
   "metadata": {
    "collapsed": true
   },
   "outputs": [],
   "source": []
  },
  {
   "cell_type": "code",
   "execution_count": 1,
   "metadata": {
    "collapsed": false
   },
   "outputs": [],
   "source": [
    "user = '3a3FX1s9S6'\n",
    "#user = 'MLancLTOqE'\n",
    "#print get_history_valid_hids('NKOBmZnaq5')\n",
    "#for line in iterate_hist_for_user_compressed('NKOBmZnaq5'):\n",
    "#  print line.keys()"
   ]
  },
  {
   "cell_type": "code",
   "execution_count": 3,
   "metadata": {
    "collapsed": false
   },
   "outputs": [
    {
     "name": "stdout",
     "output_type": "stream",
     "text": [
      "{u'url': u'https://tmi.stanford.edu/mturk3.html?username=A3UKDMW1CSJLZN', u'start': 1458313616360.0, u'end': 1458313804017.0, u'active': 1458313803344.0}\n"
     ]
    }
   ],
   "source": [
    "tab_focus_times = get_tab_focus_times_for_user(user)\n",
    "print tab_focus_times[0]"
   ]
  },
  {
   "cell_type": "code",
   "execution_count": 1,
   "metadata": {
    "collapsed": false
   },
   "outputs": [
    {
     "data": {
      "text/plain": [
       "0"
      ]
     },
     "execution_count": 1,
     "metadata": {},
     "output_type": "execute_result"
    }
   ],
   "source": [
    "import os\n",
    "\n",
    "os.system('ls /home/gkovacs/tmi-sdir')"
   ]
  },
  {
   "cell_type": "code",
   "execution_count": 5,
   "metadata": {
    "collapsed": false
   },
   "outputs": [],
   "source": [
    "compute_history_valid_hids_for_all_users_randomized()"
   ]
  },
  {
   "cell_type": "code",
   "execution_count": 3,
   "metadata": {
    "collapsed": false
   },
   "outputs": [
    {
     "data": {
      "text/plain": [
       "'\\nfor user in list_users_with_hist():\\n  history_pages_for_user = get_history_pages_for_user(user)\\n  if history_pages_for_user == None:\\n    print user\\n'"
      ]
     },
     "execution_count": 3,
     "metadata": {},
     "output_type": "execute_result"
    }
   ],
   "source": [
    "'''\n",
    "for user in list_users_with_hist():\n",
    "  history_pages_for_user = get_history_pages_for_user(user)\n",
    "  if history_pages_for_user == None:\n",
    "    print user\n",
    "'''\n",
    "#precompute_domains_list()"
   ]
  },
  {
   "cell_type": "code",
   "execution_count": 4,
   "metadata": {
    "collapsed": false
   },
   "outputs": [
    {
     "data": {
      "text/plain": [
       "\"\\n#user = '3Kd4L1WyRf'\\nuser = 'VCWgbhInoF'\\n\\nfor line in get_history_pages_for_user(user):\\n  print line\\n  break\\n  #evt = line['evt']\\n  #if evt == 'mlog':\\n  #  print line\\n  #  break\\n  pass\\n\""
      ]
     },
     "execution_count": 4,
     "metadata": {},
     "output_type": "execute_result"
    }
   ],
   "source": [
    "'''\n",
    "#user = '3Kd4L1WyRf'\n",
    "user = 'VCWgbhInoF'\n",
    "\n",
    "for line in get_history_pages_for_user(user):\n",
    "  print line\n",
    "  break\n",
    "  #evt = line['evt']\n",
    "  #if evt == 'mlog':\n",
    "  #  print line\n",
    "  #  break\n",
    "  pass\n",
    "'''"
   ]
  }
 ],
 "metadata": {
  "kernelspec": {
   "display_name": "Python 2",
   "language": "python",
   "name": "python2"
  },
  "language_info": {
   "codemirror_mode": {
    "name": "ipython",
    "version": 2
   },
   "file_extension": ".py",
   "mimetype": "text/x-python",
   "name": "python",
   "nbconvert_exporter": "python",
   "pygments_lexer": "ipython2",
   "version": "2.7.11"
  }
 },
 "nbformat": 4,
 "nbformat_minor": 0
}
