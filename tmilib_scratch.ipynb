{
 "cells": [
  {
   "cell_type": "code",
   "execution_count": 8,
   "metadata": {
    "collapsed": false
   },
   "outputs": [
    {
     "data": {
      "text/plain": [
       "0"
      ]
     },
     "execution_count": 8,
     "metadata": {},
     "output_type": "execute_result"
    }
   ],
   "source": [
    "# noexport\n",
    "\n",
    "import os\n",
    "os.system('export_notebook tmilib_scratch.ipynb')"
   ]
  },
  {
   "cell_type": "code",
   "execution_count": 1,
   "metadata": {
    "collapsed": true
   },
   "outputs": [],
   "source": [
    "from tmilib import *\n",
    "\n",
    "#tmi_overrides['basedir'] = '/home/gkovacs/tmi-data/local_2016-03-27_19:25:47-07:00'\n",
    "#tmi_overrides['basedir'] = '/home/gkovacs/tmi-data/local_2016-03-29_14:32:48-07:00'"
   ]
  },
  {
   "cell_type": "code",
   "execution_count": 3,
   "metadata": {
    "collapsed": false
   },
   "outputs": [
    {
     "name": "stdout",
     "output_type": "stream",
     "text": [
      "feature_vector_for_tensecondlevel_insession_threefeatures_for_user/JTlk5hA4Qp.json\n"
     ]
    },
    {
     "ename": "IndexError",
     "evalue": "Out of bounds on buffer access (axis 0)",
     "output_type": "error",
     "traceback": [
      "\u001b[1;31m---------------------------------------------------------------------------\u001b[0m",
      "\u001b[1;31mIndexError\u001b[0m                                Traceback (most recent call last)",
      "\u001b[1;32m<ipython-input-3-e1d77bc7d3a8>\u001b[0m in \u001b[0;36m<module>\u001b[1;34m()\u001b[0m\n\u001b[0;32m     30\u001b[0m \u001b[1;31m#precompute_labels_for_tensecondlevel_insession_train()\u001b[0m\u001b[1;33m\u001b[0m\u001b[1;33m\u001b[0m\u001b[0m\n\u001b[0;32m     31\u001b[0m \u001b[1;31m#precompute_labels_for_tensecondlevel_insession_test()\u001b[0m\u001b[1;33m\u001b[0m\u001b[1;33m\u001b[0m\u001b[0m\n\u001b[1;32m---> 32\u001b[1;33m \u001b[0mcompute_feature_vector_for_tensecondlevel_insession_threefeatures_for_all_users_randomized\u001b[0m\u001b[1;33m(\u001b[0m\u001b[1;33m)\u001b[0m\u001b[1;33m\u001b[0m\u001b[0m\n\u001b[0m\u001b[0;32m     33\u001b[0m \u001b[0mcompute_feature_vector_for_tensecondlevel_insession_allfeatures_for_all_users_randomized\u001b[0m\u001b[1;33m(\u001b[0m\u001b[1;33m)\u001b[0m\u001b[1;33m\u001b[0m\u001b[0m\n",
      "\u001b[1;32m/share/PI/mbernst/tmi-results/tmilib.pyc\u001b[0m in \u001b[0;36mcompute_feature_vector_for_tensecondlevel_insession_threefeatures_for_all_users_randomized\u001b[1;34m()\u001b[0m\n\u001b[0;32m   1502\u001b[0m \u001b[1;32mdef\u001b[0m \u001b[0mcompute_feature_vector_for_tensecondlevel_insession_threefeatures_for_all_users_randomized\u001b[0m\u001b[1;33m(\u001b[0m\u001b[1;33m)\u001b[0m\u001b[1;33m:\u001b[0m\u001b[1;33m\u001b[0m\u001b[0m\n\u001b[0;32m   1503\u001b[0m   \u001b[1;32mfor\u001b[0m \u001b[0muser\u001b[0m \u001b[1;32min\u001b[0m \u001b[0mshuffled\u001b[0m\u001b[1;33m(\u001b[0m\u001b[0mlist_users_with_log_and_mlog_and_hist\u001b[0m\u001b[1;33m(\u001b[0m\u001b[1;33m)\u001b[0m\u001b[1;33m)\u001b[0m\u001b[1;33m:\u001b[0m\u001b[1;33m\u001b[0m\u001b[0m\n\u001b[1;32m-> 1504\u001b[1;33m     \u001b[0mcompute_function_for_key\u001b[0m\u001b[1;33m(\u001b[0m\u001b[0muser\u001b[0m\u001b[1;33m,\u001b[0m \u001b[1;34m'feature_vector_for_tensecondlevel_insession_threefeatures_for_user'\u001b[0m\u001b[1;33m)\u001b[0m\u001b[1;33m\u001b[0m\u001b[0m\n\u001b[0m\u001b[0;32m   1505\u001b[0m \u001b[1;33m\u001b[0m\u001b[0m\n\u001b[0;32m   1506\u001b[0m \u001b[1;33m\u001b[0m\u001b[0m\n",
      "\u001b[1;32m/share/PI/mbernst/tmi-results/tmilib.pyc\u001b[0m in \u001b[0;36mcompute_function_for_key\u001b[1;34m(key, name, function)\u001b[0m\n\u001b[0;32m     93\u001b[0m   \u001b[1;32mprint\u001b[0m \u001b[0moutfile\u001b[0m\u001b[1;33m\u001b[0m\u001b[0m\n\u001b[0;32m     94\u001b[0m   \u001b[0mensure_sdir_subdir_exists\u001b[0m\u001b[1;33m(\u001b[0m\u001b[0mname\u001b[0m\u001b[1;33m)\u001b[0m\u001b[1;33m\u001b[0m\u001b[0m\n\u001b[1;32m---> 95\u001b[1;33m   \u001b[0mresult\u001b[0m \u001b[1;33m=\u001b[0m \u001b[0mfunction\u001b[0m\u001b[1;33m(\u001b[0m\u001b[0mkey\u001b[0m\u001b[1;33m)\u001b[0m\u001b[1;33m\u001b[0m\u001b[0m\n\u001b[0m\u001b[0;32m     96\u001b[0m   \u001b[1;32mif\u001b[0m \u001b[0msdir_exists\u001b[0m\u001b[1;33m(\u001b[0m\u001b[0moutfile\u001b[0m\u001b[1;33m)\u001b[0m\u001b[1;33m:\u001b[0m\u001b[1;33m\u001b[0m\u001b[0m\n\u001b[0;32m     97\u001b[0m     \u001b[1;32mreturn\u001b[0m\u001b[1;33m\u001b[0m\u001b[0m\n",
      "\u001b[1;32m/share/PI/mbernst/tmi-results/tmilib.pyc\u001b[0m in \u001b[0;36mcompute_feature_vector_for_tensecondlevel_insession_threefeatures_for_user\u001b[1;34m(user)\u001b[0m\n\u001b[0;32m   1495\u001b[0m \u001b[1;33m\u001b[0m\u001b[0m\n\u001b[0;32m   1496\u001b[0m \u001b[1;32mdef\u001b[0m \u001b[0mcompute_feature_vector_for_tensecondlevel_insession_threefeatures_for_user\u001b[0m\u001b[1;33m(\u001b[0m\u001b[0muser\u001b[0m\u001b[1;33m)\u001b[0m\u001b[1;33m:\u001b[0m\u001b[1;33m\u001b[0m\u001b[0m\n\u001b[1;32m-> 1497\u001b[1;33m   \u001b[1;32mreturn\u001b[0m \u001b[0mtmilib_cython\u001b[0m\u001b[1;33m.\u001b[0m\u001b[0mdataset_to_feature_vectors\u001b[0m\u001b[1;33m(\u001b[0m\u001b[0mnumpy\u001b[0m\u001b[1;33m.\u001b[0m\u001b[0masarray\u001b[0m\u001b[1;33m(\u001b[0m\u001b[0mget_tensecondlevel_activespan_dataset_insession_for_user\u001b[0m\u001b[1;33m(\u001b[0m\u001b[0muser\u001b[0m\u001b[1;33m)\u001b[0m\u001b[1;33m,\u001b[0m \u001b[0mdtype\u001b[0m\u001b[1;33m=\u001b[0m\u001b[0mfloat\u001b[0m\u001b[1;33m)\u001b[0m\u001b[1;33m,\u001b[0m \u001b[1;34m'1'\u001b[0m \u001b[1;33m+\u001b[0m \u001b[1;33m(\u001b[0m\u001b[1;34m'0'\u001b[0m\u001b[1;33m*\u001b[0m\u001b[1;36m50\u001b[0m\u001b[1;33m)\u001b[0m\u001b[1;33m)\u001b[0m\u001b[1;33m\u001b[0m\u001b[0m\n\u001b[0m\u001b[0;32m   1498\u001b[0m \u001b[1;33m\u001b[0m\u001b[0m\n\u001b[0;32m   1499\u001b[0m \u001b[1;32mdef\u001b[0m \u001b[0mget_feature_vector_for_tensecondlevel_insession_threefeatures_for_user\u001b[0m\u001b[1;33m(\u001b[0m\u001b[0muser\u001b[0m\u001b[1;33m)\u001b[0m\u001b[1;33m:\u001b[0m\u001b[1;33m\u001b[0m\u001b[0m\n",
      "\u001b[1;32m/share/PI/mbernst/tmi-results/tmilib_cython.pyx\u001b[0m in \u001b[0;36mtmilib_cython.dataset_to_feature_vectors (/home/gkovacs/.pyxbld/temp.linux-x86_64-2.7/pyrex/tmilib_cython.c:3268)\u001b[1;34m()\u001b[0m\n\u001b[0;32m     75\u001b[0m     \u001b[0mfeature_num\u001b[0m \u001b[1;33m+=\u001b[0m \u001b[0mnum_rescuetime_productivity_levels\u001b[0m\u001b[1;33m\u001b[0m\u001b[0m\n\u001b[0;32m     76\u001b[0m     \u001b[1;32mfor\u001b[0m \u001b[0mproductivity_idx\u001b[0m \u001b[1;32min\u001b[0m \u001b[0mrange\u001b[0m\u001b[1;33m(\u001b[0m\u001b[0mnum_rescuetime_productivity_levels\u001b[0m\u001b[1;33m)\u001b[0m\u001b[1;33m:\u001b[0m\u001b[1;33m\u001b[0m\u001b[0m\n\u001b[1;32m---> 77\u001b[1;33m       \u001b[1;32mif\u001b[0m \u001b[0menabled_features\u001b[0m\u001b[1;33m[\u001b[0m\u001b[0mfeature_num\u001b[0m\u001b[1;33m+\u001b[0m\u001b[0mproductivity_idx\u001b[0m\u001b[1;33m]\u001b[0m\u001b[1;33m:\u001b[0m\u001b[1;33m\u001b[0m\u001b[0m\n\u001b[0m\u001b[0;32m     78\u001b[0m         \u001b[0moutput\u001b[0m\u001b[1;33m[\u001b[0m\u001b[0moutput_idx\u001b[0m\u001b[1;33m,\u001b[0m\u001b[0mcur_idx\u001b[0m\u001b[1;33m]\u001b[0m \u001b[1;33m=\u001b[0m \u001b[0mtodomain_productivity\u001b[0m \u001b[1;33m==\u001b[0m \u001b[0mrescuetime_productivity_levels\u001b[0m\u001b[1;33m[\u001b[0m\u001b[0mproductivity_idx\u001b[0m\u001b[1;33m]\u001b[0m\u001b[1;33m\u001b[0m\u001b[0m\n\u001b[0;32m     79\u001b[0m         \u001b[0mcur_idx\u001b[0m \u001b[1;33m+=\u001b[0m \u001b[1;36m1\u001b[0m\u001b[1;33m\u001b[0m\u001b[0m\n",
      "\u001b[1;31mIndexError\u001b[0m: Out of bounds on buffer access (axis 0)"
     ]
    }
   ],
   "source": [
    "#compute_tensecondlevel_activespan_dataset_for_all_users_randomized()\n",
    "#precompute_tensecondlevel_activespan_dataset()\n",
    "#precompute_tensecondlevel_activespan_dataset_train()\n",
    "#precompute_tensecondlevel_activespan_dataset_test()\n",
    "#compute_feature_vector_for_tensecondlevel_train()\n",
    "#a=get_feature_vector_for_tensecondlevel_train('1'*53)\n",
    "#a=get_feature_vector_for_tensecondlevel_test('1'*53)\n",
    "#compute_history_ordered_visits_corrected_for_all_users_randomized()\n",
    "#compute_tensecondlevel_activespan_dataset_for_all_users_randomized()\n",
    "#precompute_tensecondlevel_activespan_dataset_train()\n",
    "#precompute_tensecondlevel_activespan_dataset_test()\n",
    "#a=get_feature_vector_for_secondlevel_train('11' + ('0'*51))\n",
    "#a=get_feature_vector_for_secondlevel_test('11' + ('0'*51))\n",
    "#a=get_feature_vector_for_secondlevel_train('111' + ('0'*50))\n",
    "#a=get_feature_vector_for_secondlevel_test('111' + ('0'*50))\n",
    "#a=get_feature_vector_for_secondlevel_train('1'*53)\n",
    "#a=get_feature_vector_for_secondlevel_test('1'*53)\n",
    "#compute_insession_seconds_for_all_users_randomized()\n",
    "#compute_history_ordered_visits_corrected_for_all_users_randomized()\n",
    "#a=get_feature_vector_for_tensecondlevel_train('111' + ('0'*50))\n",
    "#a=get_feature_vector_for_tensecondlevel_test('111' + ('0'*50))\n",
    "#a=get_feature_vector_for_tensecondlevel_train('1'*53)\n",
    "#a=get_feature_vector_for_tensecondlevel_test('1'*53)\n",
    "#compute_secondlevel_activespan_dataset_insession_for_all_users_randomized()\n",
    "#get_feature_vector_for_tensecondlevel_insession_train('111' + ('0'*50))\n",
    "#get_feature_vector_for_tensecondlevel_insession_test('111' + ('0'*50))\n",
    "#get_feature_vector_for_tensecondlevel_insession_train('1'*53)\n",
    "#get_feature_vector_for_tensecondlevel_insession_test('1'*53)\n",
    "#compute_tensecondlevel_activespan_dataset_insession_labels_for_all_users_randomized()\n",
    "#precompute_labels_for_tensecondlevel_insession_train()\n",
    "#precompute_labels_for_tensecondlevel_insession_test()\n",
    "#precompute_tensecondlevel_activespan_dataset_insession_test()\n",
    "#compute_feature_vector_for_tensecondlevel_insession_threefeatures_for_all_users_randomized()\n",
    "#compute_feature_vector_for_tensecondlevel_insession_allfeatures_for_all_users_randomized()\n",
    "#compute_feature_vector_for_tensecondlevel_threefeatures_for_all_users_randomized()\n",
    "#compute_feature_vector_for_tensecondlevel_allfeatures_for_all_users_randomized()\n",
    "compute_feature_vector_for_secondlevel_insession_allfeatures_for_all_users_randomized()\n",
    "compute_feature_vector_for_secondlevel_allfeatures_for_all_users_randomized()\n",
    "compute_feature_vector_for_secondlevel_insession_threefeatures_for_all_users_randomized()\n",
    "compute_feature_vector_for_secondlevel_threefeatures_for_all_users_randomized()\n"
   ]
  }
 ],
 "metadata": {
  "kernelspec": {
   "display_name": "Python 2",
   "language": "python",
   "name": "python2"
  },
  "language_info": {
   "codemirror_mode": {
    "name": "ipython",
    "version": 2
   },
   "file_extension": ".py",
   "mimetype": "text/x-python",
   "name": "python",
   "nbconvert_exporter": "python",
   "pygments_lexer": "ipython2",
   "version": "2.7.11"
  }
 },
 "nbformat": 4,
 "nbformat_minor": 0
}
