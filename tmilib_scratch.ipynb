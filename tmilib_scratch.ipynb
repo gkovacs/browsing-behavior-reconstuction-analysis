{
 "cells": [
  {
   "cell_type": "code",
   "execution_count": 1,
   "metadata": {
    "collapsed": false
   },
   "outputs": [
    {
     "data": {
      "text/plain": [
       "0"
      ]
     },
     "execution_count": 1,
     "metadata": {},
     "output_type": "execute_result"
    }
   ],
   "source": [
    "# noexport\n",
    "\n",
    "import os\n",
    "os.system('export_notebook tmilib_scratch.ipynb')"
   ]
  },
  {
   "cell_type": "code",
   "execution_count": 2,
   "metadata": {
    "collapsed": true
   },
   "outputs": [],
   "source": [
    "from tmilib import *\n",
    "\n",
    "#tmi_overrides['basedir'] = '/home/gkovacs/tmi-data/local_2016-03-27_19:25:47-07:00'\n",
    "#tmi_overrides['basedir'] = '/home/gkovacs/tmi-data/local_2016-03-29_14:32:48-07:00'"
   ]
  },
  {
   "cell_type": "code",
   "execution_count": 4,
   "metadata": {
    "collapsed": false
   },
   "outputs": [],
   "source": [
    "#compute_tensecondlevel_activespan_dataset_for_all_users_randomized()\n",
    "#precompute_tensecondlevel_activespan_dataset()\n",
    "#precompute_tensecondlevel_activespan_dataset_train()\n",
    "#precompute_tensecondlevel_activespan_dataset_test()\n",
    "#compute_feature_vector_for_tensecondlevel_train()\n",
    "#a=get_feature_vector_for_tensecondlevel_train('1'*53)\n",
    "#a=get_feature_vector_for_tensecondlevel_test('1'*53)\n",
    "#compute_history_ordered_visits_corrected_for_all_users_randomized()\n",
    "#compute_tensecondlevel_activespan_dataset_for_all_users_randomized()\n",
    "#precompute_tensecondlevel_activespan_dataset_train()\n",
    "#precompute_tensecondlevel_activespan_dataset_test()\n",
    "#a=get_feature_vector_for_secondlevel_train('11' + ('0'*51))\n",
    "#a=get_feature_vector_for_secondlevel_test('11' + ('0'*51))\n",
    "#a=get_feature_vector_for_secondlevel_train('111' + ('0'*50))\n",
    "#a=get_feature_vector_for_secondlevel_test('111' + ('0'*50))\n",
    "#a=get_feature_vector_for_secondlevel_train('1'*53)\n",
    "#a=get_feature_vector_for_secondlevel_test('1'*53)\n",
    "compute_insession_seconds_for_all_users_randomized()"
   ]
  }
 ],
 "metadata": {
  "kernelspec": {
   "display_name": "Python 2",
   "language": "python",
   "name": "python2"
  },
  "language_info": {
   "codemirror_mode": {
    "name": "ipython",
    "version": 2
   },
   "file_extension": ".py",
   "mimetype": "text/x-python",
   "name": "python",
   "nbconvert_exporter": "python",
   "pygments_lexer": "ipython2",
   "version": "2.7.11"
  }
 },
 "nbformat": 4,
 "nbformat_minor": 0
}
