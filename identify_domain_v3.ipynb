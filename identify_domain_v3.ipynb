{
 "cells": [
  {
   "cell_type": "code",
   "execution_count": 1,
   "metadata": {
    "collapsed": false
   },
   "outputs": [
    {
     "data": {
      "text/plain": [
       "0"
      ]
     },
     "execution_count": 1,
     "metadata": {},
     "output_type": "execute_result"
    }
   ],
   "source": [
    "# noexport\n",
    "\n",
    "import os\n",
    "os.system('export_notebook identify_domain_v3.ipynb')"
   ]
  },
  {
   "cell_type": "code",
   "execution_count": null,
   "metadata": {
    "collapsed": true
   },
   "outputs": [],
   "source": []
  },
  {
   "cell_type": "code",
   "execution_count": 2,
   "metadata": {
    "collapsed": true
   },
   "outputs": [],
   "source": [
    "from tmilib import *"
   ]
  },
  {
   "cell_type": "code",
   "execution_count": 3,
   "metadata": {
    "collapsed": false
   },
   "outputs": [],
   "source": [
    "#user = get_test_users()[0]\n",
    "#print user"
   ]
  },
  {
   "cell_type": "code",
   "execution_count": null,
   "metadata": {
    "collapsed": true
   },
   "outputs": [],
   "source": []
  },
  {
   "cell_type": "code",
   "execution_count": null,
   "metadata": {
    "collapsed": false
   },
   "outputs": [],
   "source": []
  },
  {
   "cell_type": "code",
   "execution_count": null,
   "metadata": {
    "collapsed": false
   },
   "outputs": [],
   "source": []
  },
  {
   "cell_type": "code",
   "execution_count": 4,
   "metadata": {
    "collapsed": false
   },
   "outputs": [],
   "source": [
    "#tab_focus_times = get_tab_focus_times_for_user(user)\n",
    "#print tab_focus_times[0].keys()"
   ]
  },
  {
   "cell_type": "code",
   "execution_count": 5,
   "metadata": {
    "collapsed": false
   },
   "outputs": [],
   "source": [
    "#print active_second_to_domain_id.keys()[:10]"
   ]
  },
  {
   "cell_type": "code",
   "execution_count": null,
   "metadata": {
    "collapsed": true
   },
   "outputs": [],
   "source": []
  },
  {
   "cell_type": "code",
   "execution_count": 6,
   "metadata": {
    "collapsed": false
   },
   "outputs": [],
   "source": [
    "#seen_domains_only_real = get_seen_urls_and_domains_real_and_history()['seen_domains_only_real']"
   ]
  },
  {
   "cell_type": "code",
   "execution_count": null,
   "metadata": {
    "collapsed": false
   },
   "outputs": [],
   "source": []
  },
  {
   "cell_type": "code",
   "execution_count": null,
   "metadata": {
    "collapsed": false
   },
   "outputs": [],
   "source": []
  },
  {
   "cell_type": "code",
   "execution_count": null,
   "metadata": {
    "collapsed": false
   },
   "outputs": [],
   "source": []
  },
  {
   "cell_type": "code",
   "execution_count": null,
   "metadata": {
    "collapsed": false
   },
   "outputs": [],
   "source": []
  },
  {
   "cell_type": "code",
   "execution_count": null,
   "metadata": {
    "collapsed": false
   },
   "outputs": [],
   "source": []
  },
  {
   "cell_type": "code",
   "execution_count": null,
   "metadata": {
    "collapsed": false
   },
   "outputs": [],
   "source": []
  },
  {
   "cell_type": "code",
   "execution_count": null,
   "metadata": {
    "collapsed": false
   },
   "outputs": [],
   "source": []
  },
  {
   "cell_type": "code",
   "execution_count": null,
   "metadata": {
    "collapsed": false
   },
   "outputs": [],
   "source": []
  },
  {
   "cell_type": "code",
   "execution_count": null,
   "metadata": {
    "collapsed": false
   },
   "outputs": [],
   "source": []
  },
  {
   "cell_type": "code",
   "execution_count": 7,
   "metadata": {
    "collapsed": false
   },
   "outputs": [],
   "source": [
    "#[domain_to_id(x) for x in ['www.mturk.com', 'apps.facebook.com', 'www.facebook.com', 'www.reddit.com', 'www.youtube.com']]"
   ]
  },
  {
   "cell_type": "code",
   "execution_count": 8,
   "metadata": {
    "collapsed": false
   },
   "outputs": [],
   "source": [
    "#sumkeys(total_tabbed_back_domains_all, 'www.mturk.com', 'apps.facebook.com', 'www.facebook.com', 'www.reddit.com', 'www.youtube.com')"
   ]
  },
  {
   "cell_type": "code",
   "execution_count": null,
   "metadata": {
    "collapsed": false
   },
   "outputs": [],
   "source": []
  },
  {
   "cell_type": "code",
   "execution_count": 9,
   "metadata": {
    "collapsed": false
   },
   "outputs": [],
   "source": [
    "#728458.0/2382221"
   ]
  },
  {
   "cell_type": "code",
   "execution_count": null,
   "metadata": {
    "collapsed": false
   },
   "outputs": [],
   "source": []
  },
  {
   "cell_type": "code",
   "execution_count": null,
   "metadata": {
    "collapsed": true
   },
   "outputs": [],
   "source": []
  },
  {
   "cell_type": "code",
   "execution_count": 10,
   "metadata": {
    "collapsed": false,
    "scrolled": true
   },
   "outputs": [],
   "source": [
    "#print_counter(total_tabbed_back_domains_first)"
   ]
  },
  {
   "cell_type": "code",
   "execution_count": null,
   "metadata": {
    "collapsed": true
   },
   "outputs": [],
   "source": []
  },
  {
   "cell_type": "code",
   "execution_count": null,
   "metadata": {
    "collapsed": true
   },
   "outputs": [],
   "source": []
  },
  {
   "cell_type": "code",
   "execution_count": 11,
   "metadata": {
    "collapsed": false
   },
   "outputs": [
    {
     "data": {
      "text/plain": [
       "'\\ntotal_active_seconds = 0\\n\\nfor user in get_test_users():\\n  total_active_seconds += len(get_active_seconds_for_user(user))\\n  #for span in get_active_seconds_for_user(user)\\nprint total_active_seconds\\n'"
      ]
     },
     "execution_count": 11,
     "metadata": {},
     "output_type": "execute_result"
    }
   ],
   "source": [
    "'''\n",
    "total_active_seconds = 0\n",
    "\n",
    "for user in get_test_users():\n",
    "  total_active_seconds += len(get_active_seconds_for_user(user))\n",
    "  #for span in get_active_seconds_for_user(user)\n",
    "print total_active_seconds\n",
    "'''"
   ]
  },
  {
   "cell_type": "code",
   "execution_count": 12,
   "metadata": {
    "collapsed": false
   },
   "outputs": [],
   "source": [
    "#for user in get_test_users():\n",
    "#  print user\n",
    "#  print (get_recently_seen_domain_stats_for_user(user)['stats'])"
   ]
  },
  {
   "cell_type": "code",
   "execution_count": 19,
   "metadata": {
    "collapsed": true
   },
   "outputs": [],
   "source": [
    "@memoized\n",
    "def get_recently_seen_domain_stats_for_user_v3(user):\n",
    "  ordered_visits = get_history_ordered_visits_corrected_for_user(user)\n",
    "  ordered_visits = exclude_bad_visits(ordered_visits)\n",
    "  active_domain_at_time = get_active_domain_at_time_for_user(user)\n",
    "  active_seconds_set = set(get_active_insession_seconds_for_user(user))\n",
    "  #active_second_to_domain_id = get_active_second_to_domain_id_for_user(user)\n",
    "  active_second_to_domain_id = {int(k):v for k,v in get_active_second_to_domain_id_for_user(user).viewitems()}\n",
    "  recently_seen_domain_ids = [-1]*100\n",
    "  seen_domain_ids_set = set()\n",
    "  stats = Counter()\n",
    "  nomatch_domains = Counter()\n",
    "  tabbed_back_domains_first = Counter()\n",
    "  tabbed_back_domains_second = Counter()\n",
    "  tabbed_back_domains_all = Counter()\n",
    "  distractors_list = [domain_to_id(x) for x in ['www.mturk.com', 'apps.facebook.com', 'www.facebook.com', 'www.reddit.com', 'www.youtube.com']]\n",
    "  distractors = set(distractors_list)\n",
    "  most_recent_distractor = distractors_list[0]\n",
    "  for idx,visit in enumerate(ordered_visits):\n",
    "    if idx+1 >= len(ordered_visits):\n",
    "      break\n",
    "    next_visit = ordered_visits[idx+1]\n",
    "    cur_domain = url_to_domain(visit['url'])\n",
    "    cur_domain_id = domain_to_id(cur_domain)\n",
    "    if cur_domain_id in distractors:\n",
    "      most_recent_distractor = cur_domain_id\n",
    "    recently_seen_domain_ids.append(cur_domain_id)\n",
    "    #if cur_domain_id != recently_seen_domain_ids[-1]:\n",
    "    #  if cur_domain_id in seen_domain_ids_set:\n",
    "    #    recently_seen_domain_ids.remove(cur_domain_id)\n",
    "    #  seen_domain_ids_set.add(cur_domain_id)\n",
    "    #  recently_seen_domain_ids.append(cur_domain_id)\n",
    "    #if cur_domain_id != recently_seen_domain_ids[-1]:\n",
    "    #  if cur_domain_id in seen_domain_ids_set:\n",
    "    #    recently_seen_domain_ids.remove(cur_domain_id)\n",
    "    #  seen_domain_ids_set.add(cur_domain_id)\n",
    "    #  recently_seen_domain_ids.append(cur_domain_id)\n",
    "    next_domain = url_to_domain(next_visit['url'])\n",
    "    next_domain_id = domain_to_id(next_domain)\n",
    "    cur_time_sec = int(round(visit['visitTime'] / 1000.0))\n",
    "    next_time_sec = int(round(next_visit['visitTime'] / 1000.0))\n",
    "    \n",
    "    if cur_time_sec > next_time_sec:\n",
    "      continue\n",
    "    \n",
    "    for time_sec in xrange(cur_time_sec, next_time_sec+1):\n",
    "      if time_sec not in active_seconds_set:\n",
    "        continue\n",
    "      ref_domain_id = active_second_to_domain_id[time_sec]\n",
    "      stats['total'] += 1\n",
    "      if most_recent_distractor == ref_domain_id:\n",
    "        stats['most_recent_distractor_total'] += 1\n",
    "        if cur_domain_id == ref_domain_id:\n",
    "          stats['most_recent_distractor_curdomain'] += 1\n",
    "        elif cur_domain_id == next_domain_id:\n",
    "          stats['most_recent_distractor_nextdomain'] += 1\n",
    "        else:\n",
    "          stats['most_recent_distractor_some_prev_domain'] += 1\n",
    "      if cur_domain_id == ref_domain_id:\n",
    "        if next_domain_id == cur_domain_id:\n",
    "          stats['first and next equal and correct'] += 1\n",
    "        else:\n",
    "          stats['first correct only'] += 1\n",
    "        continue\n",
    "      if next_domain_id == ref_domain_id:\n",
    "        stats['next correct only'] += 1\n",
    "        continue\n",
    "      stats['both incorrect'] += 1\n",
    "      found_match = False\n",
    "      ref_domain = id_to_domain(ref_domain_id)\n",
    "      for i in range(1,101):\n",
    "        if recently_seen_domain_ids[-1-i] == ref_domain_id:\n",
    "          stats['nth previous correct ' + str(abs(i))] += 1\n",
    "          stats['some previous among past 100 correct'] += 1\n",
    "          found_match = True\n",
    "          tabbed_back_domains_all[ref_domain] += 1\n",
    "          if i == 1:\n",
    "            tabbed_back_domains_first[ref_domain] += 1\n",
    "          if i == 2:\n",
    "            tabbed_back_domains_second[ref_domain] += 1\n",
    "          break\n",
    "      if not found_match:\n",
    "        ref_domain = id_to_domain(ref_domain_id)\n",
    "        #if ref_domain == 'newtab':\n",
    "        #  stats['newtab'] += 1\n",
    "        #  continue\n",
    "        stats['no match found'] += 1\n",
    "        nomatch_domains[id_to_domain(ref_domain_id)] += 1\n",
    "      '''\n",
    "      if cur_domain_id == ref_domain_id:\n",
    "        if next_domain_id == cur_domain_id:\n",
    "          stats['first and next equal and correct'] += 1\n",
    "          continue\n",
    "        else:\n",
    "          stats['first correct only'] += 1\n",
    "          continue\n",
    "      else:\n",
    "        if next_domain_id == cur_domain_id:\n",
    "          stats['both incorrect'] += 1\n",
    "          found_match = False\n",
    "          for i in range(1,101):\n",
    "            if recently_seen_domain_ids[-1-i] == ref_domain_id:\n",
    "              stats['nth previous correct ' + str(abs(i))] += 1\n",
    "              stats['some previous among past 100 correct'] += 1\n",
    "              found_match = True\n",
    "              break\n",
    "          if not found_match:\n",
    "            ref_domain = id_to_domain(ref_domain_id)\n",
    "            if ref_domain == 'newtab':\n",
    "              stats['newtab'] += 1\n",
    "              continue\n",
    "            stats['no match found'] += 1\n",
    "            nomatch_domains[id_to_domain(ref_domain_id)] += 1\n",
    "          continue\n",
    "        if next_domain_id == ref_domain_id:\n",
    "          stats['next correct only'] += 1\n",
    "          continue\n",
    "      '''\n",
    "  return {\n",
    "    'stats': stats,\n",
    "    'nomatch_domains': nomatch_domains,\n",
    "    'tabbed_back_domains_all': tabbed_back_domains_all,\n",
    "    'tabbed_back_domains_first': tabbed_back_domains_first,\n",
    "    'tabbed_back_domains_second': tabbed_back_domains_second,\n",
    "  }"
   ]
  },
  {
   "cell_type": "code",
   "execution_count": 20,
   "metadata": {
    "collapsed": false
   },
   "outputs": [],
   "source": [
    "#total_stats = Counter({'total': 544544, 'first and next equal and correct': 351081, 'first correct only': 88522, 'both incorrect': 51663, 'some previous among past 20 correct': 41231, 'nth previous correct 1': 31202, 'next correct only': 23569, 'no match found': 10432, 'nth previous correct 2': 3311, 'nth previous correct 3': 1635, 'nth previous correct 4': 905, 'nth previous correct 5': 862, 'nth previous correct 6': 545, 'nth previous correct 7': 412, 'nth previous correct 8': 357, 'nth previous correct 9': 269, 'nth previous correct 10': 259, 'nth previous correct 13': 234, 'nth previous correct 11': 229, 'nth previous correct 12': 190, 'nth previous correct 15': 183, 'nth previous correct 14': 140, 'nth previous correct 17': 139, 'nth previous correct 20': 95, 'nth previous correct 16': 90, 'nth previous correct 19': 88, 'nth previous correct 18': 86})\n",
    "\n",
    "total_stats = Counter()\n",
    "\n",
    "for user in get_test_users():\n",
    "  for k,v in get_recently_seen_domain_stats_for_user_v3(user)['stats'].viewitems():\n",
    "    total_stats[k] += v\n",
    "#total_stats = Counter({'total': 544544, 'first and next equal and correct': 351081, 'first correct only': 88522, 'both incorrect': 51663, 'some previous among past 20 correct': 41136, 'nth previous correct 2': 31202, 'next correct only': 23569, 'no match found': 10527, 'nth previous correct 3': 3311, 'nth previous correct 4': 1635, 'nth previous correct 5': 905, 'nth previous correct 6': 862, 'nth previous correct 7': 545, 'nth previous correct 8': 412, 'nth previous correct 9': 357, 'nth previous correct 10': 269, 'nth previous correct 11': 259, 'nth previous correct 14': 234, 'nth previous correct 12': 229, 'nth previous correct 13': 190, 'nth previous correct 16': 183, 'nth previous correct 15': 140, 'nth previous correct 18': 139, 'nth previous correct 17': 90, 'nth previous correct 20': 88, 'nth previous correct 19': 86})"
   ]
  },
  {
   "cell_type": "code",
   "execution_count": 21,
   "metadata": {
    "collapsed": false
   },
   "outputs": [
    {
     "name": "stdout",
     "output_type": "stream",
     "text": [
      "total 14806666\n",
      "first and next equal and correct 6588587\n",
      "most_recent_distractor_total 4978110\n",
      "first correct only 4430669\n",
      "most_recent_distractor_curdomain 4226119\n",
      "both incorrect 2692997\n",
      "some previous among past 100 correct 2366817\n",
      "next correct only 1094413\n",
      "most_recent_distractor_some_prev_domain 621347\n",
      "nth previous correct 1 547695\n",
      "no match found 326180\n",
      "nth previous correct 2 298404\n",
      "nth previous correct 3 196462\n",
      "nth previous correct 4 143826\n",
      "most_recent_distractor_nextdomain 130644\n",
      "nth previous correct 5 109180\n",
      "nth previous correct 6 91930\n",
      "nth previous correct 7 83033\n",
      "nth previous correct 8 63701\n",
      "nth previous correct 9 59038\n",
      "nth previous correct 10 47744\n",
      "nth previous correct 11 47014\n",
      "nth previous correct 12 39476\n",
      "nth previous correct 13 36503\n",
      "nth previous correct 14 31132\n",
      "nth previous correct 15 30979\n",
      "nth previous correct 16 27317\n",
      "nth previous correct 17 24380\n",
      "nth previous correct 20 23592\n",
      "nth previous correct 19 23271\n",
      "nth previous correct 18 22857\n",
      "nth previous correct 22 17208\n",
      "nth previous correct 25 16918\n",
      "nth previous correct 21 15581\n",
      "nth previous correct 24 14861\n",
      "nth previous correct 28 13763\n",
      "nth previous correct 23 13104\n",
      "nth previous correct 27 12360\n",
      "nth previous correct 26 12342\n",
      "nth previous correct 30 11646\n",
      "nth previous correct 35 11378\n",
      "nth previous correct 29 10810\n",
      "nth previous correct 32 10775\n",
      "nth previous correct 40 10083\n",
      "nth previous correct 34 9847\n",
      "nth previous correct 31 8696\n",
      "nth previous correct 44 8303\n",
      "nth previous correct 36 8286\n",
      "nth previous correct 38 8098\n",
      "nth previous correct 39 7525\n",
      "nth previous correct 33 7508\n",
      "nth previous correct 42 7224\n",
      "nth previous correct 41 7214\n",
      "nth previous correct 46 7064\n",
      "nth previous correct 37 6859\n",
      "nth previous correct 57 6353\n",
      "nth previous correct 48 6087\n",
      "nth previous correct 43 5675\n",
      "nth previous correct 55 5313\n",
      "nth previous correct 50 5169\n",
      "nth previous correct 45 5032\n",
      "nth previous correct 47 4866\n",
      "nth previous correct 59 4677\n",
      "nth previous correct 53 4644\n",
      "nth previous correct 58 4621\n",
      "nth previous correct 54 4557\n",
      "nth previous correct 65 4315\n",
      "nth previous correct 52 4303\n",
      "nth previous correct 49 4146\n",
      "nth previous correct 51 3887\n",
      "nth previous correct 63 3680\n",
      "nth previous correct 56 3331\n",
      "nth previous correct 92 3313\n",
      "nth previous correct 69 2968\n",
      "nth previous correct 67 2953\n",
      "nth previous correct 77 2786\n",
      "nth previous correct 66 2667\n",
      "nth previous correct 90 2656\n",
      "nth previous correct 82 2619\n",
      "nth previous correct 62 2610\n",
      "nth previous correct 78 2599\n",
      "nth previous correct 74 2580\n",
      "nth previous correct 87 2540\n",
      "nth previous correct 70 2483\n",
      "nth previous correct 80 2398\n",
      "nth previous correct 60 2396\n",
      "nth previous correct 98 2335\n",
      "nth previous correct 72 2324\n",
      "nth previous correct 94 2319\n",
      "nth previous correct 89 2220\n",
      "nth previous correct 83 2178\n",
      "nth previous correct 61 2172\n",
      "nth previous correct 85 1973\n",
      "nth previous correct 68 1962\n",
      "nth previous correct 71 1946\n",
      "nth previous correct 96 1894\n",
      "nth previous correct 88 1886\n",
      "nth previous correct 64 1832\n",
      "nth previous correct 97 1831\n",
      "nth previous correct 84 1769\n"
     ]
    }
   ],
   "source": [
    "print_counter(total_stats)"
   ]
  },
  {
   "cell_type": "code",
   "execution_count": 15,
   "metadata": {
    "collapsed": false
   },
   "outputs": [
    {
     "name": "stdout",
     "output_type": "stream",
     "text": [
      "total 14806666\n",
      "first and next equal and correct 6588587\n",
      "most_recent_distractor_total 4978110\n",
      "first correct only 4430669\n",
      "most_recent_distractor_curdomain 4226119\n",
      "both incorrect 3787410\n",
      "some previous among past 100 correct 3418250\n",
      "nth previous correct 1 854163\n",
      "most_recent_distractor_some_prev_domain 621347\n",
      "nth previous correct 2 465501\n",
      "no match found 369160\n",
      "nth previous correct 3 287350\n",
      "nth previous correct 4 216630\n",
      "nth previous correct 5 160815\n",
      "nth previous correct 6 137290\n",
      "most_recent_distractor_nextdomain 130644\n",
      "nth previous correct 7 110543\n",
      "nth previous correct 8 90950\n",
      "nth previous correct 9 78637\n",
      "nth previous correct 10 66622\n",
      "nth previous correct 11 59158\n",
      "nth previous correct 12 56612\n",
      "nth previous correct 13 47655\n",
      "nth previous correct 14 42790\n",
      "nth previous correct 15 40318\n",
      "nth previous correct 16 39216\n",
      "nth previous correct 18 31599\n",
      "nth previous correct 20 30248\n",
      "nth previous correct 17 30108\n",
      "nth previous correct 19 30054\n",
      "nth previous correct 21 25372\n",
      "nth previous correct 22 22374\n",
      "nth previous correct 25 21180\n",
      "nth previous correct 24 19734\n",
      "nth previous correct 23 19063\n",
      "nth previous correct 28 18013\n",
      "nth previous correct 26 17472\n",
      "nth previous correct 27 16271\n",
      "nth previous correct 30 14731\n",
      "nth previous correct 35 13763\n",
      "nth previous correct 32 13632\n",
      "nth previous correct 31 13453\n",
      "nth previous correct 40 13334\n",
      "nth previous correct 29 13006\n",
      "nth previous correct 34 10956\n",
      "nth previous correct 33 10534\n",
      "nth previous correct 36 10222\n",
      "nth previous correct 39 9821\n",
      "nth previous correct 41 9656\n",
      "nth previous correct 38 9263\n",
      "nth previous correct 44 9235\n",
      "nth previous correct 37 8929\n",
      "nth previous correct 46 8461\n",
      "nth previous correct 42 8193\n",
      "nth previous correct 45 7634\n",
      "nth previous correct 48 7174\n",
      "nth previous correct 57 6946\n",
      "nth previous correct 43 6865\n",
      "nth previous correct 50 6776\n",
      "nth previous correct 53 6547\n",
      "nth previous correct 47 6514\n",
      "nth previous correct 55 6176\n",
      "nth previous correct 52 5947\n",
      "nth previous correct 58 5844\n",
      "nth previous correct 49 5820\n",
      "nth previous correct 54 5817\n",
      "nth previous correct 51 5566\n",
      "nth previous correct 59 5518\n",
      "nth previous correct 65 4833\n",
      "nth previous correct 56 4462\n",
      "nth previous correct 63 4460\n",
      "nth previous correct 67 3702\n",
      "nth previous correct 60 3619\n",
      "nth previous correct 74 3533\n",
      "nth previous correct 69 3485\n",
      "nth previous correct 92 3420\n",
      "nth previous correct 66 3402\n",
      "nth previous correct 62 3371\n",
      "nth previous correct 77 3242\n",
      "nth previous correct 80 3199\n",
      "nth previous correct 61 3169\n",
      "nth previous correct 89 3158\n",
      "nth previous correct 78 3044\n",
      "nth previous correct 70 3032\n",
      "nth previous correct 85 3029\n",
      "nth previous correct 64 3021\n",
      "nth previous correct 87 2985\n",
      "nth previous correct 90 2945\n",
      "nth previous correct 98 2882\n",
      "nth previous correct 82 2833\n",
      "nth previous correct 68 2604\n",
      "nth previous correct 72 2575\n",
      "nth previous correct 97 2565\n",
      "nth previous correct 94 2545\n",
      "nth previous correct 71 2521\n",
      "nth previous correct 83 2403\n",
      "nth previous correct 95 2247\n",
      "nth previous correct 88 2171\n",
      "nth previous correct 75 2159\n",
      "nth previous correct 96 2095\n"
     ]
    }
   ],
   "source": [
    "print_counter(total_stats)"
   ]
  },
  {
   "cell_type": "code",
   "execution_count": null,
   "metadata": {
    "collapsed": true
   },
   "outputs": [],
   "source": []
  },
  {
   "cell_type": "code",
   "execution_count": 16,
   "metadata": {
    "collapsed": false
   },
   "outputs": [],
   "source": [
    "def sumkeys(d, *args):\n",
    "  return sum(d.get(x, 0.0) for x in args)"
   ]
  },
  {
   "cell_type": "code",
   "execution_count": null,
   "metadata": {
    "collapsed": false
   },
   "outputs": [],
   "source": []
  },
  {
   "cell_type": "code",
   "execution_count": 22,
   "metadata": {
    "collapsed": false
   },
   "outputs": [
    {
     "name": "stdout",
     "output_type": "stream",
     "text": [
      "select prev gets answer correct 0.74420912851\n",
      "prev or next gets answer correct 0.818122661779\n",
      "prev or next or newtab gets answer correct 0.818122661779\n",
      "prev or next or past 1 0.855112420311\n",
      "prev or next or past 2 0.875265775564\n",
      "prev or next or past 3 0.888534258826\n",
      "prev or next or past 4 0.898247856742\n",
      "prev or next or past 5 0.905621562612\n",
      "prev or next or past 6 0.911830252671\n",
      "prev or next or past 7 0.91743806472\n",
      "prev or next or past 8 0.921740248615\n",
      "prev or next or past 9 0.925727506786\n",
      "prev or next or past 10 0.928952000403\n",
      "prev or next or past 11 0.932127191901\n",
      "prev or next or past 12 0.934793288374\n",
      "prev or next or past 13 0.937258596905\n",
      "prev or next or past 14 0.939361163411\n",
      "prev or next or past 15 0.941453396734\n",
      "prev or next or past 16 0.943298309018\n",
      "prev or next or past 17 0.944944864698\n",
      "prev or next or past 18 0.946488561301\n",
      "prev or next or past 19 0.948060218283\n",
      "prev or next or past 20 0.949653554689\n",
      "prev or next or past 21 0.950705851\n",
      "prev or next or past 22 0.951868030251\n",
      "prev or next or past 23 0.952753037044\n",
      "prev or next or past 24 0.953756706608\n",
      "prev or next or past 25 0.954899300086\n",
      "prev or next or past 26 0.955732843572\n",
      "prev or next or past 27 0.956567602727\n",
      "prev or next or past 28 0.957497116501\n",
      "prev or next or past 29 0.958227193076\n",
      "prev or next or past 30 0.959013730708\n",
      "prev or next or past 31 0.959601033751\n",
      "prev or next or past 32 0.960328746525\n",
      "prev or next or past 33 0.960835815436\n",
      "prev or next or past 34 0.961500853737\n",
      "prev or next or past 35 0.962269291412\n",
      "prev or next or past 36 0.962828904225\n",
      "prev or next or past 37 0.963292141526\n",
      "prev or next or past 38 0.963839057354\n",
      "prev or next or past 39 0.964347274397\n",
      "prev or next or past 40 0.965028251465\n",
      "prev or next or past 41 0.965515464454\n",
      "prev or next or past 42 0.966003352814\n",
      "prev or next or past 43 0.966386626132\n",
      "prev or next or past 44 0.966947387076\n",
      "prev or next or past 45 0.967287234007\n",
      "prev or next or past 46 0.967764316423\n",
      "prev or next or past 47 0.968092952188\n",
      "prev or next or past 48 0.968504050811\n",
      "prev or next or past 49 0.968784059828\n",
      "prev or next or past 50 0.969133159349\n",
      "prev or next or past 51 0.969395676245\n",
      "prev or next or past 52 0.969686288595\n",
      "prev or next or past 53 0.969999931112\n",
      "prev or next or past 54 0.970307697898\n",
      "prev or next or past 55 0.970666522768\n",
      "prev or next or past 56 0.970891489009\n",
      "prev or next or past 57 0.971320552513\n",
      "prev or next or past 58 0.971632641676\n",
      "prev or next or past 59 0.97194851292\n",
      "prev or next or past 60 0.972110331928\n",
      "prev or next or past 61 0.972257022614\n",
      "prev or next or past 62 0.972433294572\n",
      "prev or next or past 63 0.972681831278\n",
      "prev or next or past 64 0.972805559334\n",
      "prev or next or past 65 0.97309698213\n",
      "prev or next or past 66 0.973277103705\n",
      "prev or next or past 67 0.973476540904\n",
      "prev or next or past 68 0.973609048789\n",
      "prev or next or past 69 0.973809499046\n",
      "prev or next or past 70 0.973977193786\n",
      "prev or next or past 71 0.974108621076\n",
      "prev or next or past 72 0.97426557741\n",
      "prev or next or past 73 0.974375527887\n",
      "prev or next or past 74 0.97454977373\n",
      "prev or next or past 75 0.974660737265\n",
      "prev or next or past 76 0.974761772839\n",
      "prev or next or past 77 0.974949931335\n",
      "prev or next or past 78 0.975125460384\n",
      "prev or next or past 79 0.975217648592\n",
      "prev or next or past 80 0.975379602674\n",
      "prev or next or past 81 0.975463416275\n",
      "prev or next or past 82 0.975640296067\n",
      "prev or next or past 83 0.975787391976\n",
      "prev or next or past 84 0.975906865192\n",
      "prev or next or past 85 0.976040115986\n",
      "prev or next or past 86 0.976140341114\n",
      "prev or next or past 87 0.976311885471\n",
      "prev or next or past 88 0.976439260533\n",
      "prev or next or past 89 0.976589193003\n",
      "prev or next or past 90 0.976768571669\n",
      "prev or next or past 91 0.976837864783\n",
      "prev or next or past 92 0.977061615356\n",
      "prev or next or past 93 0.977147049849\n",
      "prev or next or past 94 0.977303668496\n",
      "prev or next or past 95 0.977401327213\n",
      "prev or next or past 96 0.977529242572\n",
      "prev or next or past 97 0.977652903091\n",
      "prev or next or past 98 0.977810602333\n",
      "prev or next or past 99 0.977871318229\n",
      "prev or next or past 100 0.977970732912\n"
     ]
    }
   ],
   "source": [
    "norm = {k:float(v)/total_stats['total'] for k,v in total_stats.viewitems()}\n",
    "print 'select prev gets answer correct', sumkeys(norm, 'first and next equal and correct', 'first correct only')\n",
    "print 'prev or next gets answer correct', sumkeys(norm, 'first and next equal and correct', 'first correct only', 'next correct only')\n",
    "print 'prev or next or newtab gets answer correct', sumkeys(norm, 'first and next equal and correct', 'first correct only', 'next correct only', 'newtab')\n",
    "for i in range(1, 101):\n",
    "  sumprev = sum([norm.get('nth previous correct '+str(x),0.0) for x in range(i+1)])\n",
    "  print 'prev or next or past ' + str(i), sumkeys(norm, 'first and next equal and correct', 'first correct only', 'next correct only', 'newtab')+sumprev"
   ]
  },
  {
   "cell_type": "code",
   "execution_count": 17,
   "metadata": {
    "collapsed": false
   },
   "outputs": [
    {
     "name": "stdout",
     "output_type": "stream",
     "text": [
      "select prev gets answer correct 0.74420912851\n",
      "prev or next gets answer correct 0.74420912851\n",
      "prev or next or newtab gets answer correct 0.74420912851\n",
      "prev or next or past 1 0.801896861859\n",
      "prev or next or past 2 0.83333547201\n",
      "prev or next or past 3 0.852742271623\n",
      "prev or next or past 4 0.867372844096\n",
      "prev or next or past 5 0.878233830627\n",
      "prev or next or past 6 0.887506005741\n",
      "prev or next or past 7 0.894971764744\n",
      "prev or next or past 8 0.901114268398\n",
      "prev or next or past 9 0.906425187142\n",
      "prev or next or past 10 0.910924647047\n",
      "prev or next or past 11 0.914920009677\n",
      "prev or next or past 12 0.918743422726\n",
      "prev or next or past 13 0.921961905536\n",
      "prev or next or past 14 0.924851820119\n",
      "prev or next or past 15 0.927574782871\n",
      "prev or next or past 16 0.930223319686\n",
      "prev or next or past 17 0.932256728152\n",
      "prev or next or past 18 0.934390834507\n",
      "prev or next or past 19 0.936420595967\n",
      "prev or next or past 20 0.938463459634\n",
      "prev or next or past 21 0.940177012165\n",
      "prev or next or past 22 0.941688088325\n",
      "prev or next or past 23 0.942975548986\n",
      "prev or next or past 24 0.944308327074\n",
      "prev or next or past 25 0.945738763878\n",
      "prev or next or past 26 0.946918772936\n",
      "prev or next or past 27 0.948017669879\n",
      "prev or next or past 28 0.949234216535\n",
      "prev or next or past 29 0.950112604688\n",
      "prev or next or past 30 0.951107494422\n",
      "prev or next or past 31 0.95201607168\n",
      "prev or next or past 32 0.952936738088\n",
      "prev or next or past 33 0.95364817441\n",
      "prev or next or past 34 0.954388111409\n",
      "prev or next or past 35 0.955317625183\n",
      "prev or next or past 36 0.956007989915\n",
      "prev or next or past 37 0.956611029114\n",
      "prev or next or past 38 0.95723662572\n",
      "prev or next or past 39 0.957899908055\n",
      "prev or next or past 40 0.958800448393\n",
      "prev or next or past 41 0.959452587098\n",
      "prev or next or past 42 0.960005918956\n",
      "prev or next or past 43 0.96046956148\n",
      "prev or next or past 44 0.961093267046\n",
      "prev or next or past 45 0.961608845637\n",
      "prev or next or past 46 0.962180277451\n",
      "prev or next or past 47 0.962620214436\n",
      "prev or next or past 48 0.963104725939\n",
      "prev or next or past 49 0.963497792143\n",
      "prev or next or past 50 0.963955423861\n",
      "prev or next or past 51 0.96433133563\n",
      "prev or next or past 52 0.964732979051\n",
      "prev or next or past 53 0.965175144763\n",
      "prev or next or past 54 0.965568008355\n",
      "prev or next or past 55 0.965985117784\n",
      "prev or next or past 56 0.966286468541\n",
      "prev or next or past 57 0.966755581574\n",
      "prev or next or past 58 0.96715026867\n",
      "prev or next or past 59 0.967522938655\n",
      "prev or next or past 60 0.967767355595\n",
      "prev or next or past 61 0.967981380819\n",
      "prev or next or past 62 0.968209048546\n",
      "prev or next or past 63 0.968510264228\n",
      "prev or next or past 64 0.968714293954\n",
      "prev or next or past 65 0.969040700992\n",
      "prev or next or past 66 0.969270462371\n",
      "prev or next or past 67 0.969520484895\n",
      "prev or next or past 68 0.96969635163\n",
      "prev or next or past 69 0.969931718592\n",
      "prev or next or past 70 0.970136491226\n",
      "prev or next or past 71 0.970306752378\n",
      "prev or next or past 72 0.970480660535\n",
      "prev or next or past 73 0.970619044152\n",
      "prev or next or past 74 0.970857652898\n",
      "prev or next or past 75 0.971003465601\n",
      "prev or next or past 76 0.971133136926\n",
      "prev or next or past 77 0.971352092362\n",
      "prev or next or past 78 0.971557675442\n",
      "prev or next or past 79 0.971680660589\n",
      "prev or next or past 80 0.971896711927\n",
      "prev or next or past 81 0.972023614229\n",
      "prev or next or past 82 0.972214946971\n",
      "prev or next or past 83 0.972377238738\n",
      "prev or next or past 84 0.97251670295\n",
      "prev or next or past 85 0.972721272973\n",
      "prev or next or past 86 0.972832439119\n",
      "prev or next or past 87 0.973034037507\n",
      "prev or next or past 88 0.973180660656\n",
      "prev or next or past 89 0.973393942971\n",
      "prev or next or past 90 0.973592839874\n",
      "prev or next or past 91 0.97367131804\n",
      "prev or next or past 92 0.973902295088\n",
      "prev or next or past 93 0.974019607115\n",
      "prev or next or past 94 0.974191489158\n",
      "prev or next or past 95 0.97434324513\n",
      "prev or next or past 96 0.974484735456\n",
      "prev or next or past 97 0.974657968242\n",
      "prev or next or past 98 0.974852610304\n",
      "prev or next or past 99 0.974942637323\n",
      "prev or next or past 100 0.975067986271\n"
     ]
    }
   ],
   "source": [
    "norm = {k:float(v)/total_stats['total'] for k,v in total_stats.viewitems()}\n",
    "print 'select prev gets answer correct', sumkeys(norm, 'first and next equal and correct', 'first correct only')\n",
    "print 'prev or next gets answer correct', sumkeys(norm, 'first and next equal and correct', 'first correct only', 'next correct only')\n",
    "print 'prev or next or newtab gets answer correct', sumkeys(norm, 'first and next equal and correct', 'first correct only', 'next correct only', 'newtab')\n",
    "for i in range(1, 101):\n",
    "  sumprev = sum([norm.get('nth previous correct '+str(x),0.0) for x in range(i+1)])\n",
    "  print 'prev or next or past ' + str(i), sumkeys(norm, 'first and next equal and correct', 'first correct only', 'next correct only', 'newtab')+sumprev"
   ]
  },
  {
   "cell_type": "code",
   "execution_count": 18,
   "metadata": {
    "collapsed": false
   },
   "outputs": [],
   "source": [
    "#print norm['most_recent_distractor_total']\n",
    "#print norm['most_recent_distractor_curdomain']\n",
    "#print norm['most_recent_distractor_nextdomain']\n",
    "#print norm['most_recent_distractor_some_prev_domain']"
   ]
  }
 ],
 "metadata": {
  "kernelspec": {
   "display_name": "Python 2",
   "language": "python",
   "name": "python2"
  },
  "language_info": {
   "codemirror_mode": {
    "name": "ipython",
    "version": 2
   },
   "file_extension": ".py",
   "mimetype": "text/x-python",
   "name": "python",
   "nbconvert_exporter": "python",
   "pygments_lexer": "ipython2",
   "version": "2.7.11"
  }
 },
 "nbformat": 4,
 "nbformat_minor": 0
}
