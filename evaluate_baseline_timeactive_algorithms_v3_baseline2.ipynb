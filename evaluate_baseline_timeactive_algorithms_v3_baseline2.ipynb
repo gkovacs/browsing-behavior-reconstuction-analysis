{
 "cells": [
  {
   "cell_type": "code",
   "execution_count": 1,
   "metadata": {
    "collapsed": true
   },
   "outputs": [],
   "source": [
    "from tmilib import *"
   ]
  },
  {
   "cell_type": "code",
   "execution_count": 2,
   "metadata": {
    "collapsed": true
   },
   "outputs": [],
   "source": [
    "import csv\n",
    "import math"
   ]
  },
  {
   "cell_type": "code",
   "execution_count": 3,
   "metadata": {
    "collapsed": false
   },
   "outputs": [],
   "source": [
    "def get_baseline2_accuracy(insession_only):\n",
    "  testdata_filename = 'catdata_test_second_evaluation_v4.csv'\n",
    "  #log_threshold = log(60*threshold_minutes)\n",
    "  if insession_only:\n",
    "    testdata_filename = 'catdata_test_insession_second_evaluation_v4.csv'\n",
    "  #for line in csv.DictReader(sdir_open(testdata_filename)):\n",
    "  csv_reader = csv.reader(sdir_open(testdata_filename))\n",
    "  headers = next(csv_reader)\n",
    "  assert headers[0] == 'user'\n",
    "  assert headers[2] == 'label'\n",
    "  #assert headers[1] == 'time_sec'\n",
    "  assert headers[3] == 'sinceprev'\n",
    "  tp = 0\n",
    "  fn = 0\n",
    "  fp = 0\n",
    "  tn = 0\n",
    "  user_to_is_active_in_majority_of_sessions = get_username_to_is_active_in_majority_of_sessions()\n",
    "  for line in csv_reader:\n",
    "    user = line[0]\n",
    "    label = line[2]\n",
    "    ref = label == 'T'\n",
    "    sinceprev = float(line[4]) # this is in log-seconds\n",
    "    rec = user_to_is_active_in_majority_of_sessions[user]\n",
    "    #rec = sinceprev < log_threshold\n",
    "    if ref == True and rec == True:\n",
    "      tp += 1\n",
    "    elif ref == True and rec == False:\n",
    "      fn += 1\n",
    "    elif ref == False and rec == True:\n",
    "      fp += 1\n",
    "    elif ref == False and rec == False:\n",
    "      tn += 1\n",
    "  return {\n",
    "    'tp': tp,\n",
    "    'fn': fn,\n",
    "    'fp': fp,\n",
    "    'tn': tn\n",
    "  }\n",
    "      "
   ]
  },
  {
   "cell_type": "code",
   "execution_count": 4,
   "metadata": {
    "collapsed": true
   },
   "outputs": [],
   "source": [
    "def print_binary_classification_stats(stats):\n",
    "  tp = float(stats['tp'])\n",
    "  fp = float(stats['fp'])\n",
    "  fn = float(stats['fn'])\n",
    "  tn = float(stats['tn'])\n",
    "  precision = tp / (tp + fp)\n",
    "  recall = tp / (tp + fn)\n",
    "  f1 = 2*precision*recall / (precision+recall)\n",
    "  accuracy = (tp + tn) / (tp + fp + fn + tn)\n",
    "  print 'tp', tp\n",
    "  print 'tn', tn\n",
    "  print 'fp', fp\n",
    "  print 'fn', fn\n",
    "  print 'precision', precision\n",
    "  print 'recall', recall\n",
    "  print 'f1', f1\n",
    "  print 'accuracy', accuracy"
   ]
  },
  {
   "cell_type": "code",
   "execution_count": 5,
   "metadata": {
    "collapsed": false
   },
   "outputs": [
    {
     "name": "stdout",
     "output_type": "stream",
     "text": [
      "insession stats for baseline2\n",
      "tp 11315222.0\n",
      "tn 3414785.0\n",
      "fp 6091069.0\n",
      "fn 2512555.0\n",
      "precision 0.650065082791\n",
      "recall 0.818296534577\n",
      "f1 0.724543597715\n",
      "accuracy 0.631277960983\n"
     ]
    }
   ],
   "source": [
    "print 'insession stats for baseline2'\n",
    "cur_stats = get_baseline2_accuracy(True)\n",
    "print_binary_classification_stats(cur_stats)"
   ]
  },
  {
   "cell_type": "code",
   "execution_count": 6,
   "metadata": {
    "collapsed": false
   },
   "outputs": [
    {
     "name": "stdout",
     "output_type": "stream",
     "text": [
      "all stats for baseline2\n",
      "tp 11315222.0\n",
      "tn 33034816.0\n",
      "fp 69401363.0\n",
      "fn 2512555.0\n",
      "precision 0.14018459775\n",
      "recall 0.818296534577\n",
      "f1 0.239363231411\n",
      "accuracy 0.381459908349\n"
     ]
    }
   ],
   "source": [
    "print 'all stats for baseline2'\n",
    "cur_stats = get_baseline2_accuracy(False)\n",
    "print_binary_classification_stats(cur_stats)"
   ]
  },
  {
   "cell_type": "code",
   "execution_count": null,
   "metadata": {
    "collapsed": true
   },
   "outputs": [],
   "source": []
  },
  {
   "cell_type": "code",
   "execution_count": null,
   "metadata": {
    "collapsed": true
   },
   "outputs": [],
   "source": []
  },
  {
   "cell_type": "code",
   "execution_count": null,
   "metadata": {
    "collapsed": true
   },
   "outputs": [],
   "source": []
  }
 ],
 "metadata": {
  "kernelspec": {
   "display_name": "Python 2",
   "language": "python",
   "name": "python2"
  },
  "language_info": {
   "codemirror_mode": {
    "name": "ipython",
    "version": 2
   },
   "file_extension": ".py",
   "mimetype": "text/x-python",
   "name": "python",
   "nbconvert_exporter": "python",
   "pygments_lexer": "ipython2",
   "version": "2.7.6"
  }
 },
 "nbformat": 4,
 "nbformat_minor": 0
}
