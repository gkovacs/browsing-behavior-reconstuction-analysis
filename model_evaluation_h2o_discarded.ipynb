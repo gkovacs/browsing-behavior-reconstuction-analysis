{
 "cells": [
  {
   "cell_type": "code",
   "execution_count": 1,
   "metadata": {
    "collapsed": false
   },
   "outputs": [
    {
     "data": {
      "text/plain": [
       "0"
      ]
     },
     "execution_count": 1,
     "metadata": {},
     "output_type": "execute_result"
    }
   ],
   "source": [
    "# noexport\n",
    "\n",
    "import os\n",
    "os.system('export_notebook model_evaluation_h2o.ipynb')"
   ]
  },
  {
   "cell_type": "code",
   "execution_count": 1,
   "metadata": {
    "collapsed": true
   },
   "outputs": [],
   "source": [
    "import csv"
   ]
  },
  {
   "cell_type": "code",
   "execution_count": 2,
   "metadata": {
    "collapsed": false
   },
   "outputs": [],
   "source": [
    "from tmilib import *\n",
    "\n",
    "#import h2o\n",
    "#h2o.init()"
   ]
  },
  {
   "cell_type": "code",
   "execution_count": 3,
   "metadata": {
    "collapsed": true
   },
   "outputs": [],
   "source": [
    "def to_h2o_dataframe_csv_file(outpath, features, labels):\n",
    "  outfile = csv.writer(open(outpath, 'w'))\n",
    "  num_features = len(features[0])\n",
    "  outfile.writerow(['label', 'sinceprev', 'tonext', 'samedomain'])\n",
    "  for idx in range(len(features)):\n",
    "    label = 'T' if labels[idx] else 'F'\n",
    "    sinceprev = features[idx][0]\n",
    "    tonext = features[idx][1]\n",
    "    #samedomain = 'T' if features[idx][2] == features[idx][3] else 'F'\n",
    "    samedomain = 'T' if features[idx][2] else 'F'\n",
    "    outfile.writerow([label, sinceprev, tonext, samedomain])\n",
    "\n"
   ]
  },
  {
   "cell_type": "code",
   "execution_count": 4,
   "metadata": {
    "collapsed": false
   },
   "outputs": [
    {
     "name": "stdout",
     "output_type": "stream",
     "text": [
      "train tensecond\n"
     ]
    }
   ],
   "source": [
    "print 'train tensecond'"
   ]
  },
  {
   "cell_type": "code",
   "execution_count": 2,
   "metadata": {
    "collapsed": false
   },
   "outputs": [
    {
     "ename": "NameError",
     "evalue": "name 'sdir_exists' is not defined",
     "output_type": "error",
     "traceback": [
      "\u001b[1;31m---------------------------------------------------------------------------\u001b[0m",
      "\u001b[1;31mNameError\u001b[0m                                 Traceback (most recent call last)",
      "\u001b[1;32m<ipython-input-2-c3538f05e555>\u001b[0m in \u001b[0;36m<module>\u001b[1;34m()\u001b[0m\n\u001b[1;32m----> 1\u001b[1;33m \u001b[1;32mif\u001b[0m \u001b[1;32mnot\u001b[0m \u001b[0msdir_exists\u001b[0m\u001b[1;33m(\u001b[0m\u001b[1;34m'h2odata_train_threefeatures_insession.csv'\u001b[0m\u001b[1;33m)\u001b[0m\u001b[1;33m:\u001b[0m\u001b[1;33m\u001b[0m\u001b[0m\n\u001b[0m\u001b[0;32m      2\u001b[0m   \u001b[0mto_h2o_dataframe_csv_file\u001b[0m\u001b[1;33m(\u001b[0m\u001b[0msdir_path\u001b[0m\u001b[1;33m(\u001b[0m\u001b[1;34m'h2odata_train_threefeatures_insession.csv'\u001b[0m\u001b[1;33m)\u001b[0m\u001b[1;33m,\u001b[0m \u001b[0mget_feature_vector_for_tensecondlevel_insession_train\u001b[0m\u001b[1;33m(\u001b[0m\u001b[1;34m'111'\u001b[0m \u001b[1;33m+\u001b[0m \u001b[1;34m'0'\u001b[0m\u001b[1;33m*\u001b[0m\u001b[1;36m50\u001b[0m\u001b[1;33m)\u001b[0m\u001b[1;33m,\u001b[0m \u001b[0mget_labels_for_tensecondlevel_insession_train\u001b[0m\u001b[1;33m(\u001b[0m\u001b[1;33m)\u001b[0m\u001b[1;33m)\u001b[0m\u001b[1;33m\u001b[0m\u001b[0m\n",
      "\u001b[1;31mNameError\u001b[0m: name 'sdir_exists' is not defined"
     ]
    }
   ],
   "source": [
    "if not sdir_exists('h2odata_train_threefeatures_insession.csv'):\n",
    "  to_h2o_dataframe_csv_file(sdir_path('h2odata_train_threefeatures_insession.csv'), get_feature_vector_for_tensecondlevel_insession_train('111' + '0'*50), get_labels_for_tensecondlevel_insession_train())"
   ]
  },
  {
   "cell_type": "code",
   "execution_count": null,
   "metadata": {
    "collapsed": false
   },
   "outputs": [],
   "source": [
    "if not sdir_exists('h2odata_train_threefeatures.csv'):\n",
    "  to_h2o_dataframe_csv_file(sdir_path('h2odata_train_threefeatures.csv'), get_feature_vector_for_tensecondlevel_train('111' + '0'*50), get_labels_for_tensecondlevel_train())"
   ]
  },
  {
   "cell_type": "code",
   "execution_count": null,
   "metadata": {
    "collapsed": true
   },
   "outputs": [],
   "source": [
    "if not sdir_exists('h2odata_train_allfeatures_insession.csv'):\n",
    "  to_h2o_dataframe_csv_file(sdir_path('h2odata_train_allfeatures_insession.csv'), get_feature_vector_for_tensecondlevel_insession_train('1'*53), get_labels_for_tensecondlevel_insession_train())"
   ]
  },
  {
   "cell_type": "code",
   "execution_count": null,
   "metadata": {
    "collapsed": true
   },
   "outputs": [],
   "source": [
    "if not sdir_exists('h2odata_train_allfeatures.csv'):\n",
    "  to_h2o_dataframe_csv_file(sdir_path('h2odata_train_allfeatures.csv'), get_feature_vector_for_tensecondlevel_train('1'*53), get_labels_for_tensecondlevel_train())"
   ]
  },
  {
   "cell_type": "code",
   "execution_count": null,
   "metadata": {
    "collapsed": true
   },
   "outputs": [],
   "source": [
    "print 'test tensecond'"
   ]
  },
  {
   "cell_type": "code",
   "execution_count": null,
   "metadata": {
    "collapsed": true
   },
   "outputs": [],
   "source": [
    "if not sdir_exists('h2odata_test_threefeatures_insession.csv'):\n",
    "  to_h2o_dataframe_csv_file(sdir_path('h2odata_test_threefeatures_insession.csv'), get_feature_vector_for_tensecondlevel_insession_test('111' + '0'*50), get_labels_for_tensecondlevel_insession_test())"
   ]
  },
  {
   "cell_type": "code",
   "execution_count": null,
   "metadata": {
    "collapsed": false
   },
   "outputs": [],
   "source": [
    "if not sdir_exists('h2odata_test_threefeatures.csv'):\n",
    "  to_h2o_dataframe_csv_file(sdir_path('h2odata_test_threefeatures.csv'), get_feature_vector_for_tensecondlevel_test('111' + '0'*50), get_labels_for_tensecondlevel_test())"
   ]
  },
  {
   "cell_type": "code",
   "execution_count": null,
   "metadata": {
    "collapsed": true
   },
   "outputs": [],
   "source": [
    "if not sdir_exists('h2odata_test_allfeatures_insession.csv'):\n",
    "  to_h2o_dataframe_csv_file(sdir_path('h2odata_test_allfeatures_insession.csv'), get_feature_vector_for_tensecondlevel_insession_test('1'*53), get_labels_for_tensecondlevel_insession_test())"
   ]
  },
  {
   "cell_type": "code",
   "execution_count": null,
   "metadata": {
    "collapsed": true
   },
   "outputs": [],
   "source": [
    "if not sdir_exists('h2odata_test_allfeatures.csv'):\n",
    "  to_h2o_dataframe_csv_file(sdir_path('h2odata_test_allfeatures.csv'), get_feature_vector_for_tensecondlevel_test('1'*53), get_labels_for_tensecondlevel_test())"
   ]
  },
  {
   "cell_type": "code",
   "execution_count": null,
   "metadata": {
    "collapsed": true
   },
   "outputs": [],
   "source": [
    "print 'train second'"
   ]
  },
  {
   "cell_type": "code",
   "execution_count": null,
   "metadata": {
    "collapsed": false
   },
   "outputs": [],
   "source": [
    "if not sdir_exists('h2odata_train_threefeatures_insession_second.csv'):\n",
    "  to_h2o_dataframe_csv_file(sdir_path('h2odata_train_threefeatures_insession.csv'), get_feature_vector_for_secondlevel_insession_train('111' + '0'*50), get_labels_for_secondlevel_insession_train())"
   ]
  },
  {
   "cell_type": "code",
   "execution_count": null,
   "metadata": {
    "collapsed": false
   },
   "outputs": [],
   "source": [
    "if not sdir_exists('h2odata_train_threefeatures_second.csv'):\n",
    "  to_h2o_dataframe_csv_file(sdir_path('h2odata_train_threefeatures.csv'), get_feature_vector_for_secondlevel_train('111' + '0'*50), get_labels_for_secondlevel_train())"
   ]
  },
  {
   "cell_type": "code",
   "execution_count": null,
   "metadata": {
    "collapsed": true
   },
   "outputs": [],
   "source": [
    "if not sdir_exists('h2odata_train_allfeatures_insession_second.csv'):\n",
    "  to_h2o_dataframe_csv_file(sdir_path('h2odata_train_threefeatures_insession.csv'), get_feature_vector_for_secondlevel_insession_train('1'*53), get_labels_for_secondlevel_insession_train())"
   ]
  },
  {
   "cell_type": "code",
   "execution_count": null,
   "metadata": {
    "collapsed": true
   },
   "outputs": [],
   "source": [
    "if not sdir_exists('h2odata_train_allfeatures_second.csv'):\n",
    "  to_h2o_dataframe_csv_file(sdir_path('h2odata_train_allfeatures.csv'), get_feature_vector_for_secondlevel_train('1'*53), get_labels_for_secondlevel_train())"
   ]
  },
  {
   "cell_type": "code",
   "execution_count": null,
   "metadata": {
    "collapsed": true
   },
   "outputs": [],
   "source": [
    "print 'test second'"
   ]
  },
  {
   "cell_type": "code",
   "execution_count": null,
   "metadata": {
    "collapsed": true
   },
   "outputs": [],
   "source": [
    "if not sdir_exists('h2odata_test_threefeatures_insession_second.csv'):\n",
    "  to_h2o_dataframe_csv_file(sdir_path('h2odata_test_threefeatures_insession.csv'), get_feature_vector_for_secondlevel_insession_test('111' + '0'*50), get_labels_for_secondlevel_insession_test())"
   ]
  },
  {
   "cell_type": "code",
   "execution_count": null,
   "metadata": {
    "collapsed": true
   },
   "outputs": [],
   "source": [
    "if not sdir_exists('h2odata_test_threefeatures_second.csv'):\n",
    "  to_h2o_dataframe_csv_file(sdir_path('h2odata_test_threefeatures.csv'), get_feature_vector_for_secondlevel_test('111' + '0'*50), get_labels_for_secondlevel_test())"
   ]
  },
  {
   "cell_type": "code",
   "execution_count": null,
   "metadata": {
    "collapsed": true
   },
   "outputs": [],
   "source": [
    "if not sdir_exists('h2odata_test_allfeatures_insession_second.csv'):\n",
    "  to_h2o_dataframe_csv_file(sdir_path('h2odata_test_threefeatures_insession.csv'), get_feature_vector_for_secondlevel_insession_test('1'*53), get_labels_for_secondlevel_insession_test())"
   ]
  },
  {
   "cell_type": "code",
   "execution_count": null,
   "metadata": {
    "collapsed": true
   },
   "outputs": [],
   "source": [
    "if not sdir_exists('h2odata_test_allfeatures_second.csv'):\n",
    "  to_h2o_dataframe_csv_file(sdir_path('h2odata_test_allfeatures.csv'), get_feature_vector_for_secondlevel_test('1'*53), get_labels_for_secondlevel_test())"
   ]
  }
 ],
 "metadata": {
  "kernelspec": {
   "display_name": "Python 2",
   "language": "python",
   "name": "python2"
  },
  "language_info": {
   "codemirror_mode": {
    "name": "ipython",
    "version": 2
   },
   "file_extension": ".py",
   "mimetype": "text/x-python",
   "name": "python",
   "nbconvert_exporter": "python",
   "pygments_lexer": "ipython2",
   "version": "2.7.11"
  }
 },
 "nbformat": 4,
 "nbformat_minor": 0
}
