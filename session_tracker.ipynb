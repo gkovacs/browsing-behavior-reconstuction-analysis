{
 "cells": [
  {
   "cell_type": "code",
   "execution_count": 2,
   "metadata": {
    "collapsed": false
   },
   "outputs": [
    {
     "data": {
      "text/plain": [
       "0"
      ]
     },
     "execution_count": 2,
     "metadata": {},
     "output_type": "execute_result"
    }
   ],
   "source": [
    "# noexport\n",
    "\n",
    "import os\n",
    "os.system('export_notebook session_tracker.ipynb')"
   ]
  },
  {
   "cell_type": "code",
   "execution_count": 6,
   "metadata": {
    "collapsed": false
   },
   "outputs": [],
   "source": [
    "def get_focused_tab(data):\n",
    "  windows = data['windows']\n",
    "  for window in windows:\n",
    "    focused = window['focused']\n",
    "    if not focused:\n",
    "      continue\n",
    "    tabs = window['tabs']\n",
    "    for tab in tabs:\n",
    "      if not tab['highlighted']:\n",
    "        continue\n",
    "      if not tab['selected']:\n",
    "        continue\n",
    "      return tab['url']\n",
    "\n",
    "class SessionTracker:\n",
    "  def __init__(self):\n",
    "    self.output = []\n",
    "    self.curitem = {}\n",
    "  def get_output(self):\n",
    "    self.end_input()\n",
    "    return self.output\n",
    "  def end_input(self):\n",
    "    if 'url' in self.curitem:\n",
    "      last_active = self.curitem['active']\n",
    "      self.curitem['end'] = last_active + 60*1000\n",
    "      self.output.append(self.curitem)\n",
    "      self.curitem = {}\n",
    "  def end_session(self, curtime):\n",
    "    if 'url' in self.curitem:\n",
    "      last_active = self.curitem['active']\n",
    "      # ensures that end < last_active+30 minutes=1800 secs (we would normally expect that an idle event would have caught this)\n",
    "      self.curitem['end'] = min(curtime, last_active + 1800*1000)\n",
    "      self.output.append(self.curitem)\n",
    "      self.curitem = {}\n",
    "  def start_session(self, url, curtime):\n",
    "    if url == None:\n",
    "      raise Exception('start_session should not be called with url==None')\n",
    "    self.end_session(curtime)\n",
    "    # start: first event in the session\n",
    "    # active: last event which was active in the session\n",
    "    # end: when we believe the session ended\n",
    "    self.curitem = {'url': url, 'start': curtime, 'active': curtime}\n",
    "  def continue_session(self, url, curtime):\n",
    "    if url == None:\n",
    "      raise Exception('continue_session should not be called with url==None')\n",
    "    if 'url' not in self.curitem:\n",
    "      self.start_session(url, curtime)\n",
    "      return\n",
    "    prevurl = self.curitem['url']\n",
    "    if url == prevurl: # still on same site\n",
    "      # has it been less than 60 seconds since last activity?\n",
    "      prev_active_time = self.curitem['active']\n",
    "      if curtime < prev_active_time + 60*1000:\n",
    "        self.curitem['active'] = curtime\n",
    "        return\n",
    "    # have gone to different site\n",
    "    self.end_session(curtime)\n",
    "    self.start_session(url, curtime)\n",
    "  def process_input(self, data):\n",
    "    evt = data['evt']\n",
    "    curtime = data['time'] # this is timestamp in milliseconds\n",
    "    cururl = get_focused_tab(data)\n",
    "    if cururl == None: # browser is not focused\n",
    "      self.end_session(curtime)\n",
    "      return\n",
    "    if evt == 'idle_changed':\n",
    "      self.process_idle_changed(data)\n",
    "      return\n",
    "    if evt == 'still_browsing': # ignore still_browsing events\n",
    "      return\n",
    "    self.continue_session(cururl, curtime)\n",
    "  def process_idle_changed(self, data):\n",
    "    # idlestate can be either idle, locked, or active\n",
    "    idlestate = data['idlestate']\n",
    "    curtime = data['time']\n",
    "    if idlestate == 'idle' or idlestate == 'locked':\n",
    "      self.end_session(curtime)\n",
    "      return\n",
    "    if idlestate == 'active':\n",
    "      cururl = get_focused_tab(data)\n",
    "      self.start_session(cururl, curtime)\n"
   ]
  },
  {
   "cell_type": "code",
   "execution_count": 3,
   "metadata": {
    "collapsed": true
   },
   "outputs": [],
   "source": []
  },
  {
   "cell_type": "code",
   "execution_count": 4,
   "metadata": {
    "collapsed": false
   },
   "outputs": [],
   "source": []
  },
  {
   "cell_type": "code",
   "execution_count": null,
   "metadata": {
    "collapsed": true
   },
   "outputs": [],
   "source": []
  },
  {
   "cell_type": "code",
   "execution_count": null,
   "metadata": {
    "collapsed": false
   },
   "outputs": [],
   "source": []
  },
  {
   "cell_type": "code",
   "execution_count": null,
   "metadata": {
    "collapsed": false
   },
   "outputs": [],
   "source": []
  },
  {
   "cell_type": "code",
   "execution_count": null,
   "metadata": {
    "collapsed": false
   },
   "outputs": [],
   "source": []
  }
 ],
 "metadata": {
  "kernelspec": {
   "display_name": "Python 2",
   "language": "python",
   "name": "python2"
  },
  "language_info": {
   "codemirror_mode": {
    "name": "ipython",
    "version": 2
   },
   "file_extension": ".py",
   "mimetype": "text/x-python",
   "name": "python",
   "nbconvert_exporter": "python",
   "pygments_lexer": "ipython2",
   "version": "2.7.11"
  }
 },
 "nbformat": 4,
 "nbformat_minor": 0
}
