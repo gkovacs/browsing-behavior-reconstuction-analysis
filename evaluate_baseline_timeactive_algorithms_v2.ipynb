{
 "cells": [
  {
   "cell_type": "code",
   "execution_count": 1,
   "metadata": {
    "collapsed": true
   },
   "outputs": [],
   "source": [
    "from tmilib import *"
   ]
  },
  {
   "cell_type": "code",
   "execution_count": 2,
   "metadata": {
    "collapsed": true
   },
   "outputs": [],
   "source": [
    "import csv\n",
    "import math"
   ]
  },
  {
   "cell_type": "code",
   "execution_count": 3,
   "metadata": {
    "collapsed": false
   },
   "outputs": [],
   "source": [
    "def get_baseline_accuracy(threshold_minutes, insession_only):\n",
    "  testdata_filename = 'catdata_test_second_evaluation.csv'\n",
    "  log_threshold = log(60*threshold_minutes)\n",
    "  if insession_only:\n",
    "    testdata_filename = 'catdata_test_insession_second_evaluation.csv'\n",
    "  #for line in csv.DictReader(sdir_open(testdata_filename)):\n",
    "  csv_reader = csv.reader(sdir_open(testdata_filename))\n",
    "  headers = next(csv_reader)\n",
    "  assert headers[2] == 'label'\n",
    "  #assert headers[1] == 'time_sec'\n",
    "  assert headers[3] == 'sinceprev'\n",
    "  tp = 0\n",
    "  fn = 0\n",
    "  fp = 0\n",
    "  tn = 0\n",
    "  for line in csv_reader:\n",
    "    label = line[2]\n",
    "    ref = label == 'T'\n",
    "    sinceprev = float(line[4]) # this is in log-seconds\n",
    "    rec = sinceprev < log_threshold\n",
    "    if ref == True and rec == True:\n",
    "      tp += 1\n",
    "    elif ref == True and rec == False:\n",
    "      fn += 1\n",
    "    elif ref == False and rec == True:\n",
    "      fp += 1\n",
    "    elif ref == False and rec == False:\n",
    "      tn += 1\n",
    "  return {\n",
    "    'tp': tp,\n",
    "    'fn': fn,\n",
    "    'fp': fp,\n",
    "    'tn': tn\n",
    "  }\n",
    "      "
   ]
  },
  {
   "cell_type": "code",
   "execution_count": 4,
   "metadata": {
    "collapsed": true
   },
   "outputs": [],
   "source": [
    "def print_binary_classification_stats(stats):\n",
    "  tp = float(stats['tp'])\n",
    "  fp = float(stats['fp'])\n",
    "  fn = float(stats['fn'])\n",
    "  tn = float(stats['tn'])\n",
    "  precision = tp / (tp + fp)\n",
    "  recall = tp / (tp + fn)\n",
    "  f1 = 2*precision*recall / (precision+recall)\n",
    "  accuracy = (tp + tn) / (tp + fp + fn + tn)\n",
    "  print 'tp', tp\n",
    "  print 'tn', tn\n",
    "  print 'fp', fp\n",
    "  print 'fn', fn\n",
    "  print 'precision', precision\n",
    "  print 'recall', recall\n",
    "  print 'f1', f1\n",
    "  print 'accuracy', accuracy"
   ]
  },
  {
   "cell_type": "code",
   "execution_count": 5,
   "metadata": {
    "collapsed": false
   },
   "outputs": [
    {
     "name": "stdout",
     "output_type": "stream",
     "text": [
      "insession stats for threshold 1\n",
      "tp 7031130.0\n",
      "tn 8805057.0\n",
      "fp 700797.0\n",
      "fn 7266435.0\n",
      "precision 0.909363215664\n",
      "recall 0.491771151241\n",
      "f1 0.638337915373\n",
      "accuracy 0.665290435798\n",
      "insession stats for threshold 2\n",
      "tp 8812708.0\n",
      "tn 8199035.0\n",
      "fp 1306819.0\n",
      "fn 5484857.0\n",
      "precision 0.870861651933\n",
      "recall 0.616378243428\n",
      "f1 0.721847466521\n",
      "accuracy 0.714676450471\n",
      "insession stats for threshold 3\n",
      "tp 9844065.0\n",
      "tn 7720940.0\n",
      "fp 1784914.0\n",
      "fn 4453500.0\n",
      "precision 0.846511546714\n",
      "recall 0.688513393714\n",
      "f1 0.759381196352\n",
      "accuracy 0.737919414014\n",
      "insession stats for threshold 4\n",
      "tp 10523386.0\n",
      "tn 7326109.0\n",
      "fp 2179745.0\n",
      "fn 3774179.0\n",
      "precision 0.828408838734\n",
      "recall 0.736026449259\n",
      "f1 0.779489980555\n",
      "accuracy 0.749871058439\n",
      "insession stats for threshold 5\n",
      "tp 11006782.0\n",
      "tn 6986509.0\n",
      "fp 2519345.0\n",
      "fn 3290783.0\n",
      "precision 0.813742322544\n",
      "recall 0.769836122445\n",
      "f1 0.791180552171\n",
      "accuracy 0.755912039359\n",
      "insession stats for threshold 6\n",
      "tp 11378432.0\n",
      "tn 6694271.0\n",
      "fp 2811583.0\n",
      "fn 2919133.0\n",
      "precision 0.801861872591\n",
      "recall 0.795830059174\n",
      "f1 0.798834579841\n",
      "accuracy 0.759248198757\n",
      "insession stats for threshold 7\n",
      "tp 11673142.0\n",
      "tn 6436274.0\n",
      "fp 3069580.0\n",
      "fn 2624423.0\n",
      "precision 0.791790145673\n",
      "recall 0.816442659991\n",
      "f1 0.803927454298\n",
      "accuracy 0.760790540216\n",
      "insession stats for threshold 8\n",
      "tp 11907702.0\n",
      "tn 6201064.0\n",
      "fp 3304790.0\n",
      "fn 2389863.0\n",
      "precision 0.782758143768\n",
      "recall 0.832848250734\n",
      "f1 0.807026702795\n",
      "accuracy 0.760763233215\n",
      "insession stats for threshold 9\n",
      "tp 12102877.0\n",
      "tn 5987026.0\n",
      "fp 3518828.0\n",
      "fn 2194688.0\n",
      "precision 0.774747506754\n",
      "recall 0.846499176608\n",
      "f1 0.809035581416\n",
      "accuracy 0.759970784029\n",
      "insession stats for threshold 10\n",
      "tp 12266670.0\n",
      "tn 5790537.0\n",
      "fp 3715317.0\n",
      "fn 2030895.0\n",
      "precision 0.767530970961\n",
      "recall 0.857955183278\n",
      "f1 0.810227971669\n",
      "accuracy 0.758597199839\n"
     ]
    }
   ],
   "source": [
    "for i in range(1, 11):\n",
    "  print 'insession stats for threshold', i\n",
    "  cur_stats = get_baseline_accuracy(i, True)\n",
    "  print_binary_classification_stats(cur_stats)"
   ]
  },
  {
   "cell_type": "code",
   "execution_count": 6,
   "metadata": {
    "collapsed": false
   },
   "outputs": [
    {
     "name": "stdout",
     "output_type": "stream",
     "text": [
      "all stats for threshold 1\n",
      "tp 7031206.0\n",
      "tn 101376519.0\n",
      "fp 1059660.0\n",
      "fn 7266439.0\n",
      "precision 0.869030088992\n",
      "recall 0.491773715182\n",
      "f1 0.628108407924\n",
      "accuracy 0.928674494549\n",
      "all stats for threshold 2\n",
      "tp 8812787.0\n",
      "tn 100420290.0\n",
      "fp 2015889.0\n",
      "fn 5484858.0\n",
      "precision 0.813837905945\n",
      "recall 0.616380319976\n",
      "f1 0.701478501369\n",
      "accuracy 0.935744870313\n",
      "all stats for threshold 3\n",
      "tp 9844144.0\n",
      "tn 99606493.0\n",
      "fp 2829686.0\n",
      "fn 4453501.0\n",
      "precision 0.776730001902\n",
      "recall 0.688515066642\n",
      "f1 0.729967048521\n",
      "accuracy 0.937608597488\n",
      "all stats for threshold 4\n",
      "tp 10523465.0\n",
      "tn 98886859.0\n",
      "fp 3549320.0\n",
      "fn 3774180.0\n",
      "precision 0.74778837309\n",
      "recall 0.736027856336\n",
      "f1 0.74186150862\n",
      "accuracy 0.937263256278\n",
      "all stats for threshold 5\n",
      "tp 11006861.0\n",
      "tn 98231493.0\n",
      "fp 4204686.0\n",
      "fn 3290784.0\n",
      "precision 0.723585904839\n",
      "recall 0.769837340345\n",
      "f1 0.745995417292\n",
      "accuracy 0.93579007572\n",
      "all stats for threshold 6\n",
      "tp 11378511.0\n",
      "tn 97631960.0\n",
      "fp 4804219.0\n",
      "fn 2919134.0\n",
      "precision 0.703126790103\n",
      "recall 0.79583113163\n",
      "f1 0.74661227101\n",
      "accuracy 0.933837916592\n",
      "all stats for threshold 7\n",
      "tp 11673221.0\n",
      "tn 97074668.0\n",
      "fp 5361511.0\n",
      "fn 2624424.0\n",
      "precision 0.685260032268\n",
      "recall 0.816443617113\n",
      "f1 0.745121954839\n",
      "accuracy 0.931588508571\n",
      "all stats for threshold 8\n",
      "tp 11907781.0\n",
      "tn 96547407.0\n",
      "fp 5888772.0\n",
      "fn 2389864.0\n",
      "precision 0.669106034185\n",
      "recall 0.832849116061\n",
      "f1 0.74205194347\n",
      "accuracy 0.929081086215\n",
      "all stats for threshold 9\n",
      "tp 12102956.0\n",
      "tn 96048294.0\n",
      "fp 6387885.0\n",
      "fn 2194689.0\n",
      "precision 0.654537887163\n",
      "recall 0.846499965554\n",
      "f1 0.7382442727\n",
      "accuracy 0.926477402128\n",
      "all stats for threshold 10\n",
      "tp 12266750.0\n",
      "tn 95573963.0\n",
      "fp 6862216.0\n",
      "fn 2030895.0\n",
      "precision 0.641265711905\n",
      "recall 0.857955978065\n",
      "f1 0.733951162444\n",
      "accuracy 0.923817187724\n"
     ]
    }
   ],
   "source": [
    "for i in range(1, 11):\n",
    "  print 'all stats for threshold', i\n",
    "  cur_stats = get_baseline_accuracy(i, False)\n",
    "  print_binary_classification_stats(cur_stats)"
   ]
  },
  {
   "cell_type": "code",
   "execution_count": null,
   "metadata": {
    "collapsed": true
   },
   "outputs": [],
   "source": []
  },
  {
   "cell_type": "code",
   "execution_count": null,
   "metadata": {
    "collapsed": true
   },
   "outputs": [],
   "source": []
  },
  {
   "cell_type": "code",
   "execution_count": null,
   "metadata": {
    "collapsed": true
   },
   "outputs": [],
   "source": []
  }
 ],
 "metadata": {
  "kernelspec": {
   "display_name": "Python 2",
   "language": "python",
   "name": "python2"
  },
  "language_info": {
   "codemirror_mode": {
    "name": "ipython",
    "version": 2
   },
   "file_extension": ".py",
   "mimetype": "text/x-python",
   "name": "python",
   "nbconvert_exporter": "python",
   "pygments_lexer": "ipython2",
   "version": "2.7.6"
  }
 },
 "nbformat": 4,
 "nbformat_minor": 0
}
