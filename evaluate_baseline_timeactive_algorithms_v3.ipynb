{
 "cells": [
  {
   "cell_type": "code",
   "execution_count": 1,
   "metadata": {
    "collapsed": true
   },
   "outputs": [],
   "source": [
    "from tmilib import *"
   ]
  },
  {
   "cell_type": "code",
   "execution_count": 2,
   "metadata": {
    "collapsed": true
   },
   "outputs": [],
   "source": [
    "import csv\n",
    "import math"
   ]
  },
  {
   "cell_type": "code",
   "execution_count": 3,
   "metadata": {
    "collapsed": false
   },
   "outputs": [],
   "source": [
    "def get_baseline_accuracy(threshold_minutes, insession_only):\n",
    "  testdata_filename = 'catdata_test_second_evaluation_v4.csv'\n",
    "  log_threshold = log(60*threshold_minutes)\n",
    "  if insession_only:\n",
    "    testdata_filename = 'catdata_test_insession_second_evaluation_v4.csv'\n",
    "  #for line in csv.DictReader(sdir_open(testdata_filename)):\n",
    "  csv_reader = csv.reader(sdir_open(testdata_filename))\n",
    "  headers = next(csv_reader)\n",
    "  assert headers[2] == 'label'\n",
    "  #assert headers[1] == 'time_sec'\n",
    "  assert headers[3] == 'sinceprev'\n",
    "  tp = 0\n",
    "  fn = 0\n",
    "  fp = 0\n",
    "  tn = 0\n",
    "  for line in csv_reader:\n",
    "    label = line[2]\n",
    "    ref = label == 'T'\n",
    "    sinceprev = float(line[4]) # this is in log-seconds\n",
    "    rec = sinceprev < log_threshold\n",
    "    if ref == True and rec == True:\n",
    "      tp += 1\n",
    "    elif ref == True and rec == False:\n",
    "      fn += 1\n",
    "    elif ref == False and rec == True:\n",
    "      fp += 1\n",
    "    elif ref == False and rec == False:\n",
    "      tn += 1\n",
    "  return {\n",
    "    'tp': tp,\n",
    "    'fn': fn,\n",
    "    'fp': fp,\n",
    "    'tn': tn\n",
    "  }\n",
    "      "
   ]
  },
  {
   "cell_type": "code",
   "execution_count": 4,
   "metadata": {
    "collapsed": true
   },
   "outputs": [],
   "source": [
    "def print_binary_classification_stats(stats):\n",
    "  tp = float(stats['tp'])\n",
    "  fp = float(stats['fp'])\n",
    "  fn = float(stats['fn'])\n",
    "  tn = float(stats['tn'])\n",
    "  precision = tp / (tp + fp)\n",
    "  recall = tp / (tp + fn)\n",
    "  f1 = 2*precision*recall / (precision+recall)\n",
    "  accuracy = (tp + tn) / (tp + fp + fn + tn)\n",
    "  print 'tp', tp\n",
    "  print 'tn', tn\n",
    "  print 'fp', fp\n",
    "  print 'fn', fn\n",
    "  print 'precision', precision\n",
    "  print 'recall', recall\n",
    "  print 'f1', f1\n",
    "  print 'accuracy', accuracy"
   ]
  },
  {
   "cell_type": "code",
   "execution_count": 5,
   "metadata": {
    "collapsed": false
   },
   "outputs": [
    {
     "name": "stdout",
     "output_type": "stream",
     "text": [
      "insession stats for threshold 1\n",
      "tp 6621029.0\n",
      "tn 8805057.0\n",
      "fp 700797.0\n",
      "fn 7206748.0\n",
      "precision 0.90428658097\n",
      "recall 0.478820926892\n",
      "f1 0.626113785682\n",
      "accuracy 0.66110953756\n",
      "insession stats for threshold 2\n",
      "tp 8378835.0\n",
      "tn 8199035.0\n",
      "fp 1306819.0\n",
      "fn 5448942.0\n",
      "precision 0.865076844579\n",
      "recall 0.605942300053\n",
      "f1 0.712685018192\n",
      "accuracy 0.710471079276\n",
      "insession stats for threshold 3\n",
      "tp 9400687.0\n",
      "tn 7720940.0\n",
      "fp 1784914.0\n",
      "fn 4427090.0\n",
      "precision 0.840427528212\n",
      "recall 0.679840801598\n",
      "f1 0.751652735588\n",
      "accuracy 0.733774653418\n",
      "insession stats for threshold 4\n",
      "tp 10074331.0\n",
      "tn 7326109.0\n",
      "fp 2179745.0\n",
      "fn 3753446.0\n",
      "precision 0.822120819228\n",
      "recall 0.728557525913\n",
      "f1 0.772516507934\n",
      "accuracy 0.745723629554\n",
      "insession stats for threshold 5\n",
      "tp 10554423.0\n",
      "tn 6986509.0\n",
      "fp 2519345.0\n",
      "fn 3273354.0\n",
      "precision 0.807297712488\n",
      "recall 0.763276917179\n",
      "f1 0.784670397184\n",
      "accuracy 0.751744638458\n",
      "insession stats for threshold 6\n",
      "tp 10923729.0\n",
      "tn 6694271.0\n",
      "fp 2811583.0\n",
      "fn 2904048.0\n",
      "precision 0.795302574852\n",
      "recall 0.78998446388\n",
      "f1 0.792634599119\n",
      "accuracy 0.755047510608\n",
      "insession stats for threshold 7\n",
      "tp 11216691.0\n",
      "tn 6436274.0\n",
      "fp 3069580.0\n",
      "fn 2611086.0\n",
      "precision 0.785137773181\n",
      "recall 0.811170949604\n",
      "f1 0.797942082193\n",
      "accuracy 0.756545991492\n",
      "insession stats for threshold 8\n",
      "tp 11449994.0\n",
      "tn 6201064.0\n",
      "fp 3304790.0\n",
      "fn 2377783.0\n",
      "precision 0.77601908642\n",
      "recall 0.828043003586\n",
      "f1 0.801187409344\n",
      "accuracy 0.756464263963\n",
      "insession stats for threshold 9\n",
      "tp 11644151.0\n",
      "tn 5987026.0\n",
      "fp 3518828.0\n",
      "fn 2183626.0\n",
      "precision 0.767932937189\n",
      "recall 0.842084089149\n",
      "f1 0.803300955656\n",
      "accuracy 0.755612231975\n",
      "insession stats for threshold 10\n",
      "tp 11807098.0\n",
      "tn 5790537.0\n",
      "fp 3715317.0\n",
      "fn 2020679.0\n",
      "precision 0.760648262529\n",
      "recall 0.85386812356\n",
      "f1 0.804567002492\n",
      "accuracy 0.754174736028\n"
     ]
    }
   ],
   "source": [
    "for i in range(1, 11):\n",
    "  print 'insession stats for threshold', i\n",
    "  cur_stats = get_baseline_accuracy(i, True)\n",
    "  print_binary_classification_stats(cur_stats)"
   ]
  },
  {
   "cell_type": "code",
   "execution_count": 6,
   "metadata": {
    "collapsed": false
   },
   "outputs": [
    {
     "name": "stdout",
     "output_type": "stream",
     "text": [
      "all stats for threshold 1\n",
      "tp 6621029.0\n",
      "tn 101376519.0\n",
      "fp 1059660.0\n",
      "fn 7206748.0\n",
      "precision 0.862035814756\n",
      "recall 0.478820926892\n",
      "f1 0.615667244703\n",
      "accuracy 0.92889964969\n",
      "all stats for threshold 2\n",
      "tp 8378835.0\n",
      "tn 100420290.0\n",
      "fp 2015889.0\n",
      "fn 5448942.0\n",
      "precision 0.806066135089\n",
      "recall 0.605942300053\n",
      "f1 0.691822450539\n",
      "accuracy 0.935794108021\n",
      "all stats for threshold 3\n",
      "tp 9400687.0\n",
      "tn 99606493.0\n",
      "fp 2829686.0\n",
      "fn 4427090.0\n",
      "precision 0.768634529789\n",
      "recall 0.679840801598\n",
      "f1 0.721516070788\n",
      "accuracy 0.937583613618\n",
      "all stats for threshold 4\n",
      "tp 10074331.0\n",
      "tn 98886859.0\n",
      "fp 3549320.0\n",
      "fn 3753446.0\n",
      "precision 0.739473655043\n",
      "recall 0.728557525913\n",
      "f1 0.73397500487\n",
      "accuracy 0.937188048203\n",
      "all stats for threshold 5\n",
      "tp 10554423.0\n",
      "tn 98231493.0\n",
      "fp 4204686.0\n",
      "fn 3273354.0\n",
      "precision 0.715112477318\n",
      "recall 0.763276917179\n",
      "f1 0.738410122739\n",
      "accuracy 0.935680495854\n",
      "all stats for threshold 6\n",
      "tp 10923729.0\n",
      "tn 97631960.0\n",
      "fp 4804219.0\n",
      "fn 2904048.0\n",
      "precision 0.694542542994\n",
      "recall 0.78998446388\n",
      "f1 0.739195468898\n",
      "accuracy 0.933700286269\n",
      "all stats for threshold 7\n",
      "tp 11216691.0\n",
      "tn 97074668.0\n",
      "fp 5361511.0\n",
      "fn 2611086.0\n",
      "precision 0.676592733036\n",
      "recall 0.811170949604\n",
      "f1 0.737795089578\n",
      "accuracy 0.931426752759\n",
      "all stats for threshold 8\n",
      "tp 11449994.0\n",
      "tn 96547407.0\n",
      "fp 5888772.0\n",
      "fn 2377783.0\n",
      "precision 0.660369601851\n",
      "recall 0.828043003586\n",
      "f1 0.734761888734\n",
      "accuracy 0.928898385326\n",
      "all stats for threshold 9\n",
      "tp 11644151.0\n",
      "tn 96048294.0\n",
      "fp 6387885.0\n",
      "fn 2183626.0\n",
      "precision 0.645747989855\n",
      "recall 0.842084089149\n",
      "f1 0.730961666348\n",
      "accuracy 0.926275422797\n",
      "all stats for threshold 10\n",
      "tp 11807098.0\n",
      "tn 95573963.0\n",
      "fp 6862216.0\n",
      "fn 2020679.0\n",
      "precision 0.632433414533\n",
      "recall 0.85386812356\n",
      "f1 0.726655687428\n",
      "accuracy 0.923597172283\n"
     ]
    }
   ],
   "source": [
    "for i in range(1, 11):\n",
    "  print 'all stats for threshold', i\n",
    "  cur_stats = get_baseline_accuracy(i, False)\n",
    "  print_binary_classification_stats(cur_stats)"
   ]
  },
  {
   "cell_type": "code",
   "execution_count": null,
   "metadata": {
    "collapsed": true
   },
   "outputs": [],
   "source": []
  },
  {
   "cell_type": "code",
   "execution_count": null,
   "metadata": {
    "collapsed": true
   },
   "outputs": [],
   "source": []
  },
  {
   "cell_type": "code",
   "execution_count": null,
   "metadata": {
    "collapsed": true
   },
   "outputs": [],
   "source": []
  }
 ],
 "metadata": {
  "kernelspec": {
   "display_name": "Python 2",
   "language": "python",
   "name": "python2"
  },
  "language_info": {
   "codemirror_mode": {
    "name": "ipython",
    "version": 2
   },
   "file_extension": ".py",
   "mimetype": "text/x-python",
   "name": "python",
   "nbconvert_exporter": "python",
   "pygments_lexer": "ipython2",
   "version": "2.7.6"
  }
 },
 "nbformat": 4,
 "nbformat_minor": 0
}
