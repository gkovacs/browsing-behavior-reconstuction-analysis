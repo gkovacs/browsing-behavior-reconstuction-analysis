{
 "cells": [
  {
   "cell_type": "code",
   "execution_count": 1,
   "metadata": {
    "collapsed": false
   },
   "outputs": [
    {
     "data": {
      "text/plain": [
       "0"
      ]
     },
     "execution_count": 1,
     "metadata": {},
     "output_type": "execute_result"
    }
   ],
   "source": [
    "# noexport\n",
    "\n",
    "import os\n",
    "os.system('export_notebook rescuetime_utils.ipynb')"
   ]
  },
  {
   "cell_type": "code",
   "execution_count": 2,
   "metadata": {
    "collapsed": true
   },
   "outputs": [],
   "source": [
    "from pymongo import MongoClient\n",
    "import yaml\n",
    "from memoized import memoized\n",
    "from jsonmemoized import jsonmemoized"
   ]
  },
  {
   "cell_type": "code",
   "execution_count": 9,
   "metadata": {
    "collapsed": false
   },
   "outputs": [],
   "source": [
    "@memoized\n",
    "def get_secrets():\n",
    "  return yaml.load(open('.getsecret.yaml'))\n",
    "\n",
    "@memoized\n",
    "def get_mongoclient():\n",
    "  return MongoClient(get_secrets()['mongourl'])\n",
    "\n",
    "@memoized\n",
    "def get_rescuetime_mongodb():\n",
    "  return get_mongoclient()[get_secrets()['mongodb']]\n",
    "\n",
    "@memoized\n",
    "def get_category_mongodb_collection():\n",
    "  return get_rescuetime_mongodb().category\n",
    "\n",
    "@memoized\n",
    "def get_productivity_mongodb_collection():\n",
    "  return get_rescuetime_mongodb().productivity\n",
    "\n",
    "@jsonmemoized\n",
    "def get_domain_to_category_real():\n",
    "  output = {}\n",
    "  for x in get_category_mongodb_collection().find():\n",
    "    domain = x['_id']\n",
    "    category = x['val']\n",
    "    output[domain] = category\n",
    "  return output\n",
    "\n",
    "@memoized\n",
    "def get_domain_to_category():\n",
    "  return get_domain_to_category_real()\n",
    "\n",
    "def domain_to_category(domain):\n",
    "  return get_domain_to_category().get(domain, None)\n",
    "\n",
    "@jsonmemoized\n",
    "def get_domain_to_productivity_real():\n",
    "  output = {}\n",
    "  for x in get_productivity_mongodb_collection().find():\n",
    "    domain = x['_id']\n",
    "    productivity = x['val']\n",
    "    output[domain] = productivity\n",
    "  return output\n",
    "\n",
    "@memoized\n",
    "def get_domain_to_productivity():\n",
    "  return get_domain_to_productivity_real()\n",
    "\n",
    "def domain_to_productivity(domain):\n",
    "  return get_domain_to_productivity().get(domain, 0)\n",
    "\n",
    "@jsonmemoized\n",
    "def get_rescuetime_productivity_levels_real():\n",
    "  output = set()\n",
    "  for x in get_productivity_mongodb_collection().find():\n",
    "    domain = x['_id']\n",
    "    productivity = x['val']\n",
    "    output.add(productivity)\n",
    "  return sorted(list(output))\n",
    "\n",
    "@memoized\n",
    "def get_rescuetime_productivity_levels():\n",
    "  return get_rescuetime_productivity_levels_real()\n",
    "\n",
    "@jsonmemoized\n",
    "def get_rescuetime_categories_real():\n",
    "  output = set()\n",
    "  for x in get_category_mongodb_collection().find():\n",
    "    domain = x['_id']\n",
    "    category = x['val']\n",
    "    output.add(category)\n",
    "  return sorted(list(output))\n",
    "\n",
    "@memoized\n",
    "def get_rescuetime_categories():\n",
    "  return get_rescuetime_categories_real()"
   ]
  },
  {
   "cell_type": "code",
   "execution_count": 11,
   "metadata": {
    "collapsed": false
   },
   "outputs": [],
   "source": [
    "#print get_rescuetime_categories()\n",
    "#print get_rescuetime_productivity_levels()"
   ]
  },
  {
   "cell_type": "code",
   "execution_count": 5,
   "metadata": {
    "collapsed": false
   },
   "outputs": [],
   "source": [
    "#print domain_to_productivity('mturk.com')\n",
    "#print domain_to_category('mturk.com')"
   ]
  }
 ],
 "metadata": {
  "kernelspec": {
   "display_name": "Python 2",
   "language": "python",
   "name": "python2"
  },
  "language_info": {
   "codemirror_mode": {
    "name": "ipython",
    "version": 2
   },
   "file_extension": ".py",
   "mimetype": "text/x-python",
   "name": "python",
   "nbconvert_exporter": "python",
   "pygments_lexer": "ipython2",
   "version": "2.7.11"
  }
 },
 "nbformat": 4,
 "nbformat_minor": 0
}
