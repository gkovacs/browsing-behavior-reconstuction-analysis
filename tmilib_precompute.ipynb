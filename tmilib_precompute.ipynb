{
 "cells": [
  {
   "cell_type": "code",
   "execution_count": 1,
   "metadata": {
    "collapsed": false
   },
   "outputs": [
    {
     "data": {
      "text/plain": [
       "0"
      ]
     },
     "execution_count": 1,
     "metadata": {},
     "output_type": "execute_result"
    }
   ],
   "source": [
    "# noexport\n",
    "\n",
    "import os\n",
    "os.system('export_notebook tmilib_precompute.ipynb')"
   ]
  },
  {
   "cell_type": "code",
   "execution_count": 2,
   "metadata": {
    "collapsed": true
   },
   "outputs": [],
   "source": [
    "from tmilib import *\n",
    "\n",
    "#tmi_overrides['basedir'] = '/home/gkovacs/tmi-data/local_2016-03-27_19:25:47-07:00'\n",
    "#tmi_overrides['basedir'] = '/home/gkovacs/tmi-data/local_2016-03-29_00:05:42-07:00'\n",
    "#tmi_overrides['basedir'] = '/home/gkovacs/tmi-data/local_2016-03-29_14:32:48-07:00'\n",
    "tmi_overrides['basedir'] = '/home/gkovacs/tmi-data/local_2016-03-30_16:39:38-07:00'"
   ]
  },
  {
   "cell_type": "code",
   "execution_count": 3,
   "metadata": {
    "collapsed": false
   },
   "outputs": [
    {
     "data": {
      "text/plain": [
       "\"\\nprint 'get_mturkid_to_time_last_active'\\nget_mturkid_to_time_last_active()\\nprint 'get_username_to_mturk_id'\\nget_username_to_mturk_id()\\nprint 'get_mturkid_to_history_pages'\\nget_mturkid_to_history_pages()\\nprint 'get_mturkid_to_history_visits'\\nget_mturkid_to_history_visits()\\nprint 'get_domains_list'\\nget_domains_list()\\n\""
      ]
     },
     "execution_count": 3,
     "metadata": {},
     "output_type": "execute_result"
    }
   ],
   "source": [
    "'''\n",
    "print 'get_mturkid_to_time_last_active'\n",
    "get_mturkid_to_time_last_active()\n",
    "print 'get_username_to_mturk_id'\n",
    "get_username_to_mturk_id()\n",
    "print 'get_mturkid_to_history_pages'\n",
    "get_mturkid_to_history_pages()\n",
    "print 'get_mturkid_to_history_visits'\n",
    "get_mturkid_to_history_visits()\n",
    "print 'get_domains_list'\n",
    "get_domains_list()\n",
    "'''"
   ]
  },
  {
   "cell_type": "code",
   "execution_count": 4,
   "metadata": {
    "collapsed": false
   },
   "outputs": [],
   "source": [
    "'''\n",
    "if random.random() > 0.5:\n",
    "  print 'history_pages_for_all_users_randomized'\n",
    "  compute_history_pages_for_all_users_randomized()\n",
    "else:\n",
    "  print 'history_visits_for_all_users_randomized'\n",
    "  compute_history_visits_for_all_users_randomized()\n",
    "'''\n",
    "\n",
    "#print 'history_ordered_visits_for_all_users_randomized'\n",
    "#compute_history_ordered_visits_for_all_users_randomized()\n",
    "\n",
    "task_list = [\n",
    "  compute_hist_timesorted_lines_for_all_users_randomized,\n",
    "  compute_log_timesorted_lines_for_all_users_randomized,\n",
    "  compute_mlog_timesorted_lines_for_all_users_randomized,\n",
    "]\n",
    "\n",
    "for fn in shuffled(task_list):\n",
    "  fn()\n",
    "\n",
    "task_list = [\n",
    "  compute_history_valid_hids_for_all_users_randomized,\n",
    "  compute_mlog_active_times_for_all_users_randomized, # depends on mlog_timesorted_lines\n",
    "]\n",
    "\n",
    "for fn in shuffled(task_list):\n",
    "  fn()\n",
    "\n",
    "task_list = [\n",
    "  compute_history_pages_for_all_users_randomized, # depends on history_valid_hids\n",
    "  compute_history_visits_for_all_users_randomized, # depends on history_valid_hids\n",
    "  compute_log_with_mlog_active_times_for_all_users_randomized, # depends on mlog_active_times\n",
    "]\n",
    "\n",
    "for fn in shuffled(task_list):\n",
    "  fn()\n",
    "\n",
    "task_list = [\n",
    "  compute_history_ordered_visits_for_all_users_randomized, # depends on history_visits\n",
    "  compute_tab_focus_times_for_all_users_randomized, # depends on log_with_mlog_active_times\n",
    "  compute_tab_focus_times_only_tab_updated_for_all_users_randomized, # depends on log_with_mlog_active_times\n",
    "  compute_tab_focus_times_only_tab_updated_urlchanged_for_all_users_randomized, # depends on log_with_mlog_active_times\n",
    "  compute_idealized_history_from_logs_for_all_users_randomized, # depends on log_with_mlog_active_times\n",
    "]\n",
    "\n",
    "for fn in shuffled(task_list):\n",
    "  fn()\n",
    "\n",
    "task_list = [\n",
    "  precompute_mturkid_to_time_last_active, # depends on log_timesorted_lines\n",
    "  precompute_domains_list,\n",
    "  precompute_username_to_mturk_id,\n",
    "  compute_domain_to_tab_focus_times_for_all_users_randomized, # depends on tab_focus_times\n",
    "  compute_url_to_tab_focus_times_for_all_users_randomized, # depends on tab_focus_times\n",
    "  compute_reconstruct_focus_times_baseline_for_all_users_randomized, # depends on history_ordered_visits\n",
    "]\n",
    "\n",
    "for fn in shuffled(task_list):\n",
    "  fn()\n"
   ]
  },
  {
   "cell_type": "code",
   "execution_count": null,
   "metadata": {
    "collapsed": true
   },
   "outputs": [],
   "source": []
  },
  {
   "cell_type": "code",
   "execution_count": 5,
   "metadata": {
    "collapsed": false
   },
   "outputs": [],
   "source": [
    "#print 'compute_tab_focus_times_for_all_users'\n",
    "#compute_tab_focus_times_for_all_users()"
   ]
  }
 ],
 "metadata": {
  "kernelspec": {
   "display_name": "Python 2",
   "language": "python",
   "name": "python2"
  },
  "language_info": {
   "codemirror_mode": {
    "name": "ipython",
    "version": 2
   },
   "file_extension": ".py",
   "mimetype": "text/x-python",
   "name": "python",
   "nbconvert_exporter": "python",
   "pygments_lexer": "ipython2",
   "version": "2.7.11"
  }
 },
 "nbformat": 4,
 "nbformat_minor": 0
}
