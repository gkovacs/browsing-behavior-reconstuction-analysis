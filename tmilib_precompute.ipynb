{
 "cells": [
  {
   "cell_type": "code",
   "execution_count": 2,
   "metadata": {
    "collapsed": false
   },
   "outputs": [
    {
     "data": {
      "text/plain": [
       "0"
      ]
     },
     "execution_count": 2,
     "metadata": {},
     "output_type": "execute_result"
    }
   ],
   "source": [
    "# noexport\n",
    "\n",
    "import os\n",
    "os.system('export_notebook tmilib_precompute.ipynb')"
   ]
  },
  {
   "cell_type": "code",
   "execution_count": 2,
   "metadata": {
    "collapsed": true
   },
   "outputs": [],
   "source": [
    "from tmilib import *"
   ]
  },
  {
   "cell_type": "code",
   "execution_count": null,
   "metadata": {
    "collapsed": true
   },
   "outputs": [],
   "source": [
    "'''\n",
    "print 'get_mturkid_to_time_last_active'\n",
    "get_mturkid_to_time_last_active()\n",
    "print 'get_username_to_mturk_id'\n",
    "get_username_to_mturk_id()\n",
    "print 'get_mturkid_to_history_pages'\n",
    "get_mturkid_to_history_pages()\n",
    "print 'get_mturkid_to_history_visits'\n",
    "get_mturkid_to_history_visits()\n",
    "print 'get_domains_list'\n",
    "get_domains_list()\n",
    "'''"
   ]
  },
  {
   "cell_type": "code",
   "execution_count": null,
   "metadata": {
    "collapsed": false
   },
   "outputs": [
    {
     "name": "stdout",
     "output_type": "stream",
     "text": [
      "tab_focus_times_for_all_users_randomized\n",
      "XWw6NNg5qM\n",
      "xWnTSZDfdJ\n",
      "sOoDeIv7mc\n",
      "3H5aGCb1Km\n",
      "89Sr72dIqU\n",
      "KTJOgTS6K4\n",
      "SLahv6QyE0\n",
      "E8C1Wm3Bwu\n",
      "KvOx4URxrU\n",
      "xvDz3vTO80\n"
     ]
    }
   ],
   "source": [
    "'''\n",
    "if random.random() > 0.5:\n",
    "  print 'history_pages_for_all_users_randomized'\n",
    "  compute_history_pages_for_all_users_randomized()\n",
    "else:\n",
    "  print 'history_visits_for_all_users_randomized'\n",
    "  compute_history_visits_for_all_users_randomized()\n",
    "'''\n",
    "\n",
    "#print 'history_ordered_visits_for_all_users_randomized'\n",
    "#compute_history_ordered_visits_for_all_users_randomized()\n",
    "\n",
    "print 'mlog_active_times_for_all_users'\n",
    "compute_mlog_active_times_for_all_users_randomized()\n",
    "\n",
    "#print 'tab_focus_times_for_all_users_randomized'\n",
    "#compute_tab_focus_times_for_all_users_randomized()"
   ]
  },
  {
   "cell_type": "code",
   "execution_count": 5,
   "metadata": {
    "collapsed": false
   },
   "outputs": [],
   "source": [
    "#print 'compute_tab_focus_times_for_all_users'\n",
    "#compute_tab_focus_times_for_all_users()"
   ]
  }
 ],
 "metadata": {
  "kernelspec": {
   "display_name": "Python 2",
   "language": "python",
   "name": "python2"
  },
  "language_info": {
   "codemirror_mode": {
    "name": "ipython",
    "version": 2
   },
   "file_extension": ".py",
   "mimetype": "text/x-python",
   "name": "python",
   "nbconvert_exporter": "python",
   "pygments_lexer": "ipython2",
   "version": "2.7.11"
  }
 },
 "nbformat": 4,
 "nbformat_minor": 0
}
