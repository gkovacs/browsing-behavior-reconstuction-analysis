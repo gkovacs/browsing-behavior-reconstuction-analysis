{
 "cells": [
  {
   "cell_type": "code",
   "execution_count": 1,
   "metadata": {
    "collapsed": false
   },
   "outputs": [
    {
     "data": {
      "text/plain": [
       "0"
      ]
     },
     "execution_count": 1,
     "metadata": {},
     "output_type": "execute_result"
    }
   ],
   "source": [
    "# noexport\n",
    "\n",
    "import os\n",
    "os.system('export_notebook tmilib_precompute.ipynb')"
   ]
  },
  {
   "cell_type": "code",
   "execution_count": 2,
   "metadata": {
    "collapsed": true
   },
   "outputs": [],
   "source": [
    "from tmilib import *"
   ]
  },
  {
   "cell_type": "code",
   "execution_count": 3,
   "metadata": {
    "collapsed": false
   },
   "outputs": [
    {
     "data": {
      "text/plain": [
       "\"\\nprint 'get_mturkid_to_time_last_active'\\nget_mturkid_to_time_last_active()\\nprint 'get_username_to_mturk_id'\\nget_username_to_mturk_id()\\nprint 'get_mturkid_to_history_pages'\\nget_mturkid_to_history_pages()\\nprint 'get_mturkid_to_history_visits'\\nget_mturkid_to_history_visits()\\nprint 'get_domains_list'\\nget_domains_list()\\n\""
      ]
     },
     "execution_count": 3,
     "metadata": {},
     "output_type": "execute_result"
    }
   ],
   "source": [
    "'''\n",
    "print 'get_mturkid_to_time_last_active'\n",
    "get_mturkid_to_time_last_active()\n",
    "print 'get_username_to_mturk_id'\n",
    "get_username_to_mturk_id()\n",
    "print 'get_mturkid_to_history_pages'\n",
    "get_mturkid_to_history_pages()\n",
    "print 'get_mturkid_to_history_visits'\n",
    "get_mturkid_to_history_visits()\n",
    "print 'get_domains_list'\n",
    "get_domains_list()\n",
    "'''"
   ]
  },
  {
   "cell_type": "code",
   "execution_count": 4,
   "metadata": {
    "collapsed": false
   },
   "outputs": [
    {
     "name": "stdout",
     "output_type": "stream",
     "text": [
      "tab_focus_times_for_user/7faXpAlO9J.json\n",
      "tab_focus_times_for_user/eS9Wc6ZZ6g.json\n",
      "tab_focus_times_for_user/aMoAdTi22n.json\n",
      "tab_focus_times_for_user/osSau9lkJs.json\n",
      "tab_focus_times_for_user/E53DGPZ188.json\n",
      "tab_focus_times_for_user/9Jr41dzuga.json\n",
      "tab_focus_times_for_user/c87PtfL4fZ.json\n",
      "tab_focus_times_for_user/WsyFPHJlkJ.json\n",
      "tab_focus_times_for_user/TlQBcJ1rAM.json\n",
      "tab_focus_times_for_user/cLsK8oQYmZ.json\n",
      "tab_focus_times_for_user/XFH3VkbR3W.json\n",
      "tab_focus_times_for_user/g34wuNJgSm.json\n",
      "tab_focus_times_for_user/xm5QxnavEp.json\n"
     ]
    }
   ],
   "source": [
    "'''\n",
    "if random.random() > 0.5:\n",
    "  print 'history_pages_for_all_users_randomized'\n",
    "  compute_history_pages_for_all_users_randomized()\n",
    "else:\n",
    "  print 'history_visits_for_all_users_randomized'\n",
    "  compute_history_visits_for_all_users_randomized()\n",
    "'''\n",
    "\n",
    "#print 'history_ordered_visits_for_all_users_randomized'\n",
    "#compute_history_ordered_visits_for_all_users_randomized()\n",
    "\n",
    "compute_mlog_timesorted_lines_for_all_users_randomized()\n",
    "compute_hist_timesorted_lines_for_all_users_randomized()\n",
    "compute_log_timesorted_lines_for_all_users_randomized()\n",
    "compute_mlog_active_times_for_all_users_randomized()\n",
    "compute_log_with_mlog_active_times_for_all_users_randomized()\n",
    "\n",
    "#print 'mlog_active_times_for_all_users'\n",
    "#compute_mlog_active_times_for_all_users_randomized()\n",
    "\n",
    "#print 'tab_focus_times_for_all_users_randomized'\n",
    "compute_tab_focus_times_for_all_users_randomized()"
   ]
  },
  {
   "cell_type": "code",
   "execution_count": 5,
   "metadata": {
    "collapsed": false
   },
   "outputs": [],
   "source": [
    "#print 'compute_tab_focus_times_for_all_users'\n",
    "#compute_tab_focus_times_for_all_users()"
   ]
  }
 ],
 "metadata": {
  "kernelspec": {
   "display_name": "Python 2",
   "language": "python",
   "name": "python2"
  },
  "language_info": {
   "codemirror_mode": {
    "name": "ipython",
    "version": 2
   },
   "file_extension": ".py",
   "mimetype": "text/x-python",
   "name": "python",
   "nbconvert_exporter": "python",
   "pygments_lexer": "ipython2",
   "version": "2.7.11"
  }
 },
 "nbformat": 4,
 "nbformat_minor": 0
}
