{
 "cells": [
  {
   "cell_type": "code",
   "execution_count": 5,
   "metadata": {
    "collapsed": false
   },
   "outputs": [
    {
     "data": {
      "text/plain": [
       "0"
      ]
     },
     "execution_count": 5,
     "metadata": {},
     "output_type": "execute_result"
    }
   ],
   "source": [
    "# noexport\n",
    "\n",
    "import os\n",
    "os.system('export_notebook h2o_utils.ipynb')"
   ]
  },
  {
   "cell_type": "code",
   "execution_count": 1,
   "metadata": {
    "collapsed": true
   },
   "outputs": [],
   "source": [
    "import h2o\n",
    "from glob import glob\n",
    "from os import path\n",
    "from tmilib_base import *"
   ]
  },
  {
   "cell_type": "code",
   "execution_count": null,
   "metadata": {
    "collapsed": true
   },
   "outputs": [],
   "source": [
    "def load_h2o_model(model_path):\n",
    "  if not path.exists(model_path):\n",
    "    model_path = sdir_path(model_path)\n",
    "  return h2o.load_model(glob(model_path + '/*')[0])\n",
    "\n",
    "def load_h2o_data(csv_file):\n",
    "  if not path.exists(csv_file):\n",
    "    csv_file = sdir_path(csv_file)\n",
    "  return h2o.import_file(csv_file)"
   ]
  },
  {
   "cell_type": "code",
   "execution_count": null,
   "metadata": {
    "collapsed": true
   },
   "outputs": [],
   "source": [
    "def make_predictions_and_save(classifier, test_data, output_file, columns_offset):\n",
    "  if path.exists(output_file) or sdir_exists(output_file):\n",
    "    print 'already exists', output_file\n",
    "    return\n",
    "  if type(classifier) == str:\n",
    "    classifier = load_h2o_model(classifier)\n",
    "  if type(test_data) == str:\n",
    "    test_data = load_h2o_data(test_data)\n",
    "  predictions = classifier.predict(test_data[:,columns_offset:])\n",
    "  if '/' not in output_file:\n",
    "    output_file = sdir_path(output_file)\n",
    "  h2o.download_csv(predictions, output_file)\n"
   ]
  },
  {
   "cell_type": "code",
   "execution_count": 5,
   "metadata": {
    "collapsed": true
   },
   "outputs": [],
   "source": [
    "def clear_h2o_memory():\n",
    "  h2o.remove_all()\n",
    "  #for x in h2o.ls():\n",
    "  #  try:\n",
    "  #    if x[0] == 'key':\n",
    "  #      continue\n",
    "  #    h2o.remove(x[0])\n",
    "  #  except:\n",
    "  #    continue"
   ]
  }
 ],
 "metadata": {
  "kernelspec": {
   "display_name": "Python 2",
   "language": "python",
   "name": "python2"
  },
  "language_info": {
   "codemirror_mode": {
    "name": "ipython",
    "version": 2
   },
   "file_extension": ".py",
   "mimetype": "text/x-python",
   "name": "python",
   "nbconvert_exporter": "python",
   "pygments_lexer": "ipython2",
   "version": "2.7.6"
  }
 },
 "nbformat": 4,
 "nbformat_minor": 0
}
