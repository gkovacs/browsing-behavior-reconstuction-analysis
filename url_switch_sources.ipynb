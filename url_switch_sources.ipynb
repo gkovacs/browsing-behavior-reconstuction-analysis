{
 "cells": [
  {
   "cell_type": "code",
   "execution_count": 1,
   "metadata": {
    "collapsed": false
   },
   "outputs": [
    {
     "data": {
      "text/plain": [
       "0"
      ]
     },
     "execution_count": 1,
     "metadata": {},
     "output_type": "execute_result"
    }
   ],
   "source": [
    "# noexport\n",
    "\n",
    "import os\n",
    "os.system('export_notebook url_switch_sources.ipynb')"
   ]
  },
  {
   "cell_type": "code",
   "execution_count": 2,
   "metadata": {
    "collapsed": true
   },
   "outputs": [],
   "source": [
    "from tmilib import *"
   ]
  },
  {
   "cell_type": "raw",
   "metadata": {
    "collapsed": false
   },
   "source": [
    "#compute_url_switch_sources_for_all_users_randomized()"
   ]
  },
  {
   "cell_type": "code",
   "execution_count": 3,
   "metadata": {
    "collapsed": true
   },
   "outputs": [],
   "source": [
    "overall_user_switch_sources = Counter()\n",
    "\n",
    "for user in list_users_with_log_and_mlog():\n",
    "  for data in get_url_switch_sources_for_user(user):\n",
    "    evt = data['evt']\n",
    "    overall_user_switch_sources[evt] += 1"
   ]
  },
  {
   "cell_type": "code",
   "execution_count": 4,
   "metadata": {
    "collapsed": false
   },
   "outputs": [
    {
     "name": "stdout",
     "output_type": "stream",
     "text": [
      "tab_updated 705824\n",
      "tab_activated 438033\n",
      "mlog 436628\n",
      "tab_created 185179\n",
      "window_focus_changed 125927\n",
      "browser_focus_changed 120121\n",
      "tab_removed 113063\n",
      "tab_replaced 8788\n",
      "window_created 5581\n",
      "idle_changed 4684\n",
      "still_browsing 3150\n",
      "tab_zoomchange 1462\n",
      "tab_detached 1457\n",
      "tab_highlighted 407\n",
      "tab_moved 334\n",
      "window_closed 331\n"
     ]
    }
   ],
   "source": [
    "print_counter(overall_user_switch_sources)"
   ]
  },
  {
   "cell_type": "code",
   "execution_count": 5,
   "metadata": {
    "collapsed": false
   },
   "outputs": [],
   "source": [
    "urls_transitioned_to_via_mlog = Counter()\n",
    "urls_transitioned_from_via_mlog = Counter()\n",
    "url_transitions_via_mlog = Counter()\n",
    "\n",
    "for user in list_users_with_log_and_mlog():\n",
    "  for data in get_url_switch_sources_for_user(user):\n",
    "    evt = data['evt']\n",
    "    url = data['url']\n",
    "    prev = data['prev']\n",
    "    transition = unicode(prev) + ' to ' + unicode(url)\n",
    "    if evt == 'mlog':\n",
    "      urls_transitioned_to_via_mlog[url] += 1\n",
    "      urls_transitioned_from_via_mlog[prev] += 1\n",
    "      url_transitions_via_mlog[transition] += 1"
   ]
  },
  {
   "cell_type": "code",
   "execution_count": 6,
   "metadata": {
    "collapsed": false
   },
   "outputs": [
    {
     "name": "stdout",
     "output_type": "stream",
     "text": [
      "https://www.mturk.com/mturk/dashboard 24494\n",
      "https://www.mturk.com/mturk/findhits?match=true?hit_scraper 14149\n",
      "https://www.google.com/_/chrome/newtab?espv=2&ie=UTF-8 11737\n",
      "https://www.facebook.com/ 9754\n",
      "https://www.mturk.com/mturk/findhits?match=false&hit_scraper 8699\n",
      "https://mail.google.com/mail/u/0/#inbox 7774\n",
      "http://hitgrabber.net/ 4006\n",
      "https://www.mturk.com/mturk/myhits 2921\n",
      "https://www.mturk.com/mturk/submit 1910\n",
      "http://game.soul-arena.com/ 1851\n",
      "https://mail.google.com/mail/u/1/#inbox 1761\n",
      "https://www.mturk.com/mturk/findhits?match=true 1714\n",
      "https://www.google.co.in/_/chrome/newtab?espv=2&ie=UTF-8 1403\n",
      "https://www.tumblr.com/dashboard 1148\n",
      "https://www.mturk.com/HM 1018\n",
      "https://us20.chatzy.com/11920092594925 849\n",
      "http://www.swagbucks.com/ 802\n",
      "https://www.mturk.com/mturk/findhits?match=false 765\n",
      "http://www.swagbucks.com/account/summary 675\n",
      "https://www.youtube.com/ 665\n",
      "http://www.csgodouble.com/withdraw.php 627\n",
      "https://calendar.google.com/calendar/render??pli=1&pli=1#main_7 626\n",
      "http://hhgregg.needle.com/login 626\n",
      "http://sbcodez.com/ 603\n",
      "https://www.reddit.com/ 601\n",
      "https://kiwiirc.com/client/irc.snoonet.org/mturk 571\n",
      "http://www.host2inger.com/ 565\n",
      "https://www.mturk.com/mturk/findhits?match=true?hit_scraper-dev 555\n",
      "http://www.swagbucks.com/games/play/114/swagasaurus-run 514\n",
      "https://www.mturk.com/mturk/findhits?match=false&hit_scraper# 504\n",
      "https://www.mturk.com/mturk/searchbar?selectedSearchType=hitgroups&searchWords=a9&minReward=0.00&x=0&y=0 502\n",
      "http://www.gifthulk.com/# 502\n",
      "https://ttn.tlinks.com/Reservations/Itinerary.aspx 499\n",
      "http://www.tohosting.tk/ 475\n",
      "https://docs.google.com/document/d/1q2s4u1jQ4BUVT16nCr-pkW114mMEDeLiTJztWJxp2Jw/edit 442\n",
      "https://www.mturk.com/mturk/searchbar?selectedSearchType=hitgroups&searchWords=Find+the+wikipedia+URL+for+this+place&minReward=0.00&x=0&y=0 431\n",
      "http://gcat.dot.state.oh.us/CrashWebHome.aspx 425\n",
      "https://web.whatsapp.com/ 424\n",
      "http://player.ngage-media.com/s/?u=55135366b3d50f595d08e074&f=3&s=d2ebnzbap7ji# 416\n",
      "https://www.google.com/_/chrome/newtab?rlz=1C1CHWL_enUS650US650&espv=2&{google:ntpIsThemedParameter}ie=UTF-8 406\n",
      "https://www.facebook.com/messages/jessica.wood.106 400\n",
      "http://www.tomatoville.com/usercp.php 380\n",
      "https://www.mturk.com/mturk/searchbar?selectedSearchType=hitgroups&requesterId=A3HV8QI42N179B 373\n",
      "https://qbo.intuit.com/app/check 372\n",
      "https://www.mturk.com/mturk/viewhits?searchWords=&pageNumber=2&searchSpec=HITGroupSearch%23T%231%2310%23-1%23T%23%21only_available_hits%210%21rO0ABXQABHRydWU-%21%23%21Reward%211%21%23%21&sortType=Reward%3A1&selectedSearchType=hitgroups 370\n",
      "https://www.mturk.com/mturk/status 369\n",
      "https://www.skydivetemple.com/buy/admin/ 363\n",
      "https://www.mturk.com/mturk/viewsearchbar?searchWords=&pageNumber=1&searchSpec=HITGroupSearch%23T%232%23100%23-1%23T%23%21Reward%216%21rO0ABXQAAzAuNA--%21only_available_hits%210%21rO0ABXQABHRydWU-%21keyword_list%212%21rO0ABXQAAA--%21%23%21LastUpdatedTime%211%21%23%21&sortType=LastUpdatedTime%3A1&selectedSearchType=hitgroups 351\n",
      "http://www.freejinger.org/chat/?_popup=1 335\n",
      "https://mail.google.com/mail/u/0/?tab=wm#inbox 327\n",
      "https://www.youtube.com/feed/subscriptions 324\n",
      "https://hillsdale.co1.qualtrics.com/SE/?SID=SV_8cA272YydggUX41 316\n",
      "https://www.mturk.com/mturk/previewandaccept?groupId=3SFJXQ9EG58Y3WRLXCW2QCVUYYDXDX 314\n",
      "https://www.rewardshopping.com/slb 312\n",
      "https://inbox.google.com/u/0/?pli=1 308\n",
      "http://www.sbforumz.com/t611-sbcodez-backup-location 303\n",
      "https://www.google.com/_/chrome/newtab?espv=2&es_th=1&ie=UTF-8 300\n",
      "https://forums.somethingawful.com/showthread.php?threadid=3722319&userid=0&perpage=40&pagenumber=101 299\n",
      "https://www.mturk.com/mturk/preview?groupId=3SFJXQ9EG58Y3WRLXCW2QCVUYYDXDX 284\n",
      "https://hw.reddit.com/r/HITsWorthTurkingFor/new/ 282\n",
      "http://play.pokemonshowdown.com/ 282\n",
      "https://spacing.psy.ohio-state.edu/spacing/learn.php?a_id=3Z4GS9HPNW9KZDJG37CDBOHXNWA77Q&s_id=A1640H4RXH8NZE&s_num=1 282\n",
      "https://www.mturk.com/mturk/findhits?*hit_scraper 281\n",
      "http://www.crichd.tv/live-sky-sports-2-uk-stream.php 276\n",
      "https://www.mturk.com/mturk/statusdetail?encodedDate=03222016 272\n",
      "http://hhgregg.needle.com/login# 271\n",
      "http://player.ngage-media.com/s/?u=55135366b3d50f595d08e074&f=3&s=3bffm8dynmk21# 262\n",
      "https://turkopticon.ucsd.edu/main/php_search 260\n",
      "https://www.yahoo.com/ 259\n",
      "https://www.mturk.com/mturk/checkregistration 259\n",
      "https://www.mturk.com/mturk/myhits?first 257\n",
      "https://apps.facebook.com/wordbattling/?fb_source=canvas_bookmark 257\n",
      "http://www.zoombucks.com/members.php 243\n",
      "https://www.mturk.com/mturk/statusdetail?encodedDate=03182016 240\n",
      "https://www.twitch.tv/directory/following 240\n",
      "https://docs.google.com/spreadsheets/d/1ihyozZLhHAqdC7VOFHLA91eF2UzT_lqOKFhSnYlVdJ8/edit#gid=1666989740 240\n",
      "https://mail.google.com/mail/u/0/#spam 240\n",
      "https://docs.google.com/spreadsheets/d/1UYiOaoctvReBTOZIZuEY5_BQjEWzuBJ13Fwn82UO_qY/edit#gid=0 239\n",
      "https://www.reddit.com/r/HITsWorthTurkingFor/new/ 237\n",
      "https://www.facebook.com/daniel.cozart.52/friends?source_ref=pb_friends_tl 237\n",
      "https://apps.facebook.com/puzzlywords/?fb_source=canvas_bookmark 235\n",
      "http://econusyd.az1.qualtrics.com/jfe/form/SV_7ZKTrSg22NJ12WF 230\n",
      "https://www.mturk.com/mturk/previewandaccept?groupId=3AJ89545MPCD90O9UIVEIKRX3UKBEW 228\n",
      "https://www.sharelatex.com/project/56f6248ad63196fe60ef3677 226\n",
      "http://vocaroo.com/ 224\n",
      "https://www.facebook.com/?sk=h_chr 219\n",
      "https://www.mturk.com/mturk/preview?groupId=3J26SAFG0SX5N4SBHAF9L805JD4I0P 217\n",
      "https://tweetdeck.twitter.com/# 217\n",
      "https://www.mturk.com/mturk/transferearnings 214\n",
      "https://docs.google.com/spreadsheets/d/1tfh_CE8PYaiqLISwuE3T7xVbYKNyvmFALKtF1sBdPIQ/edit#gid=0 213\n",
      "https://snt151.mail.live.com/?fid=flinbox 212\n",
      "https://www.reddit.com/r/fatlogic/comments/4bhqx7/fat_rant_tuesday/ 208\n",
      "https://docs.google.com/document/d/1BfQLJTRE8P0INAweQW5YGOMu8WItKWqcA7ooUnQhOKM/edit# 208\n",
      "https://www.twitch.tv/teamsp00ky 207\n",
      "http://www.bbc.co.uk/iplayer/episode/b07556vt/the-graham-norton-show-series-19-batman-extra 207\n",
      "http://player.ngage-media.com/s/?u=55135366b3d50f595d08e074&f=3&s=2l1z87ok64224# 205\n",
      "https://pro.listreports.com/dashboard 204\n",
      "https://www.bing.com/rewards/dashboard 202\n",
      "https://www.mturk.com/mturk/continue?hitId=38BQUHLA9XDWM25DNIJBFD75F6XOMX 201\n",
      "https://www.twitch.tv/tehjamjar 199\n"
     ]
    }
   ],
   "source": [
    "print_counter(urls_transitioned_to_via_mlog)"
   ]
  },
  {
   "cell_type": "code",
   "execution_count": 7,
   "metadata": {
    "collapsed": false
   },
   "outputs": [
    {
     "name": "stdout",
     "output_type": "stream",
     "text": [
      "None 71793\n",
      "https://www.mturk.com/mturk/dashboard 16427\n",
      "chrome://newtab/ 15529\n",
      "https://www.mturk.com/mturk/findhits?match=true?hit_scraper 8069\n",
      "https://www.facebook.com/ 6453\n",
      "https://www.mturk.com/mturk/findhits?match=false&hit_scraper 4964\n",
      "https://mail.google.com/mail/u/0/#inbox 4777\n",
      "http://hitgrabber.net/ 2768\n",
      "https://www.mturk.com/mturk/myhits 2534\n",
      "http://game.soul-arena.com/ 2312\n",
      "chrome-extension://gngocbkfmikdgphklgmmehbjjlfgdemm/popup.html 1491\n",
      "https://www.mturk.com/mturk/submit 1339\n",
      "https://www.mturk.com/mturk/findhits?match=true 1339\n",
      " 785\n",
      "https://us20.chatzy.com/11920092594925 726\n",
      "http://www.swagbucks.com/games/play/114/swagasaurus-run 718\n",
      "https://www.mturk.com/HM 653\n",
      "https://www.mturk.com/mturk/findhits?match=false 629\n",
      "https://www.google.com/_/chrome/newtab?espv=2&ie=UTF-8 626\n",
      "http://sbcodez.com/ 611\n",
      "https://www.mturk.com/mturk/searchbar?selectedSearchType=hitgroups&searchWords=survey&minReward=0.75&qualifiedFor=on&x=13&y=10 554\n",
      "https://www.reddit.com/r/HITsWorthTurkingFor/new/ 536\n",
      "http://www.gifthulk.com/# 500\n",
      "https://apps.facebook.com/wordbattling/?fb_source=canvas_bookmark 497\n",
      "http://www.swagbucks.com/account/summary 494\n",
      "https://calendar.google.com/calendar/render??pli=1&pli=1#main_7 485\n",
      "https://www.mturk.com/mturk/searchbar?selectedSearchType=hitgroups&searchWords=a9&minReward=0.00&x=0&y=0 484\n",
      "https://kiwiirc.com/client/irc.snoonet.org/mturk 481\n",
      "https://www.youtube.com/ 453\n",
      "http://hhgregg.needle.com/login 434\n",
      "http://www.host2inger.com/ 413\n",
      "http://www.freejinger.org/chat/?_popup=1 413\n",
      "https://apps.facebook.com/puzzlywords/?fb_source=canvas_bookmark 407\n",
      "https://www.mturk.com/mturk/searchbar?selectedSearchType=hitgroups&searchWords=Find+the+wikipedia+URL+for+this+place&minReward=0.00&x=0&y=0 389\n",
      "http://www.tohosting.tk/ 385\n",
      "http://www.swagbucks.com/ 377\n",
      "https://www.tumblr.com/dashboard 356\n",
      "https://web.whatsapp.com/ 356\n",
      "https://hillsdale.co1.qualtrics.com/SE/?SID=SV_8cA272YydggUX41 345\n",
      "http://www.tomatoville.com/usercp.php 343\n",
      "https://www.skydivetemple.com/buy/admin/ 341\n",
      "https://www.rewardshopping.com/slb 339\n",
      "https://docs.google.com/document/d/1q2s4u1jQ4BUVT16nCr-pkW114mMEDeLiTJztWJxp2Jw/edit 332\n",
      "https://www.mturk.com/mturk/searchbar?selectedSearchType=hitgroups&requesterId=A3HV8QI42N179B 324\n",
      "http://www.crichd.tv/live-sky-sports-2-uk-stream.php 310\n",
      "https://www.mturk.com/mturk/searchbar?selectedSearchType=hitgroups&searchWords=survey&minReward=0.25&qualifiedFor=on&x=13&y=10 307\n",
      "https://www.facebook.com/messages/jessica.wood.106 306\n",
      "https://www.mturk.com/mturk/previewandaccept?groupId=3SFJXQ9EG58Y3WRLXCW2QCVUYYDXDX 303\n",
      "https://spacing.psy.ohio-state.edu/spacing/learn.php?a_id=3Z4GS9HPNW9KZDJG37CDBOHXNWA77Q&s_id=A1640H4RXH8NZE&s_num=1 297\n",
      "https://mail.google.com/mail/u/0/?tab=wm#inbox 278\n",
      "http://www.crackle.com/10-items-or-less?cmpid=4333&utm_source=jungroup&utm_medium=cpv&utm_content=ten-items-or-less&utm_campaign=cpv 277\n",
      "http://www.sbforumz.com/t611-sbcodez-backup-location 277\n",
      "https://www.mturk.com/mturk/viewhits?searchWords=&pageNumber=2&searchSpec=HITGroupSearch%23T%231%2310%23-1%23T%23%21only_available_hits%210%21rO0ABXQABHRydWU-%21%23%21Reward%211%21%23%21&sortType=Reward%3A1&selectedSearchType=hitgroups 268\n",
      "https://www.mturk.com/mturk/previewandaccept?groupId=3AJ89545MPCD90O9UIVEIKRX3UKBEW 263\n",
      "https://www.mturk.com/mturk/findhits?match=false&hit_scraper# 262\n",
      "https://www.mturk.com/mturk/preview?groupId=315D2CYS02YMYX81NFR5RTKSL3DX7L 258\n",
      "https://mail.google.com/mail/u/1/#inbox 255\n",
      "http://www.irazoo.com/Games/PlayGame2.aspx?gameUrl=http%3a%2f%2fwww.gamemosh.com%2fapi%2fgame.php%3fgame%3d1i&width=550&height=500&pubid=irazo&affid=xyz&subid=%5bsubid%5d 249\n",
      "https://www.youtube.com/feed/subscriptions 241\n",
      "https://www.reddit.com/ 238\n",
      "https://www.mturk.com/mturk/preview?groupId=3SFJXQ9EG58Y3WRLXCW2QCVUYYDXDX 232\n",
      "http://www.crackle.com/sports-jeopardy/?cmpid=4330&utm_source=jungroup&utm_medium=cpv&utm_content=sportsjeopardy&utm_campaign=cpv 230\n",
      "https://docs.google.com/spreadsheets/d/1UYiOaoctvReBTOZIZuEY5_BQjEWzuBJ13Fwn82UO_qY/edit#gid=0 228\n",
      "https://docs.google.com/spreadsheets/d/1tfh_CE8PYaiqLISwuE3T7xVbYKNyvmFALKtF1sBdPIQ/edit#gid=0 225\n",
      "https://www.facebook.com/daniel.cozart.52/friends?source_ref=pb_friends_tl 223\n",
      "http://www.bbc.co.uk/iplayer/episode/b07556vt/the-graham-norton-show-series-19-batman-extra 220\n",
      "https://turkopticon.ucsd.edu/main/php_search 217\n",
      "https://docs.google.com/spreadsheets/d/1ihyozZLhHAqdC7VOFHLA91eF2UzT_lqOKFhSnYlVdJ8/edit#gid=1666989740 212\n",
      "https://www.mturk.com/mturk/findhits?match=true?hit_scraper-dev 210\n",
      "https://www.mturk.com/mturk/statusdetail?encodedDate=03182016 199\n",
      "https://www.mturk.com/mturk/previewandaccept?groupId=3TCGLRK8ZG9BHK11B2DJ4OC92SQQZ6 197\n",
      "https://www.mturk.com/mturk/statusdetail?encodedDate=03222016 193\n",
      "http://hhgregg.needle.com/login# 193\n",
      "http://www.springer.com/computer/theoretical+computer+science/journal/11075?detailsPage=editorialBoard 190\n",
      "http://play.pokemonshowdown.com/ 189\n",
      "https://hw.reddit.com/r/HITsWorthTurkingFor/new/ 188\n",
      "http://www.csgodouble.com/withdraw.php 187\n",
      "https://apps.facebook.com/juicejam/?fb_source=bookmark&ref=bookmarks&count=0&fb_bmpos=_0 187\n",
      "https://www.mturk.com/mturk/accept?hitId=3N3WJQXELS3WMT0TA6FXK3TTPY62L3&prevHitSubmitted=false&prevRequester=NavVis&requesterId=AKNVO08WR9QD4&prevReward=USD0.40&hitAutoAppDelayInSeconds=3600&groupId=3AJ89545MPCD90O9UIVEIKRX3UKBEW&signature=pQtbGncLGIg93qfk68bcFbGTf50%3D&%2Faccept.x=68&%2Faccept.y=19 187\n",
      "https://www.mturk.com/mturk/accept?hitId=30Z7M1Q8UYXQCPBETWZ8LGQLHLM8AF&prevHitSubmitted=false&prevRequester=NavVis&requesterId=AKNVO08WR9QD4&prevReward=USD0.40&hitAutoAppDelayInSeconds=3600&groupId=3AJ89545MPCD90O9UIVEIKRX3UKBEW&signature=5UFBSWAQGszaNr7E56%2F6jEdi1Bs%3D&%2Faccept.x=48&%2Faccept.y=7 187\n",
      "https://www.mturk.com/mturk/continue?hitId=38BQUHLA9XDWM25DNIJBFD75F6XOMX 186\n",
      "https://www.mturk.com/mturk/continue?hitId=379J5II41OG9O6F3MDTW34FY0B9EL7 184\n",
      "https://pro.listreports.com/dashboard 184\n",
      "https://www.mturk.com/mturk/continue?hitId=34T446B1C0EHUC631T1IFWN7C1LC03 183\n",
      "https://www.netflix.com/watch/80058979?trackId=14183373&tctx=0%2C0%2C659c761a-3c71-4d3e-94a6-d7f94aa6d1f6-337149813 180\n",
      "https://www.mturk.com/mturk/previewandaccept?groupId=329HSLC9WDXX9F2DN54ARF87CMFHGG 179\n",
      "https://work.onespace.com/tasks/026f68f2-362e-0000-057c-08d3522b05f3?job=c996aaef-fb62-0000-75bd-08d2d59ce956 177\n",
      "http://www.crackle.com/seinfeld/?cmpid=4331&utm_source=jungroup&utm_medium=cpv&utm_content=seinfeld&utm_campaign=cpv 177\n",
      "https://www.mturk.com/mturk/sortmyhits?searchSpec=HITSearch%23T%231%2325%23-1%23T%23%21Status%210%21rO0ABXQACEFzc2lnbmVk%21%23%21Deadline%211%21%23%21 177\n",
      "https://www.mturk.com/mturk/myhits?first 175\n",
      "http://econusyd.az1.qualtrics.com/jfe/form/SV_7ZKTrSg22NJ12WF 175\n",
      "https://www.twitch.tv/tehjamjar 174\n",
      "https://www.mturk.com/mturk/accept?hitId=3IQ9O0AYW6COGRM08I2GTAAR87VTIE&prevHitSubmitted=false&prevRequester=NavVis&requesterId=AKNVO08WR9QD4&prevReward=USD0.40&captcha=VnFmYU8xN1oyNGFhZUJLZDFRZUhvU3BIYmdXNGdpUk1xRUtVY1puV1VZWTV2VmJlYWIzZlEzamtMdzV6ZEZLZUM5azBxdEhzUCxUcmlyWHVGS2EsTFBlbHZNMmdwX3JNbmFHb1dOS011aVEjLHFGMjlDY0ZKY1hseGNhY0NBRTliYUZqWVI4MDAwMDAwMDAwMDAwMDAwMDAwMDAwMDAwMDAwMDAwMDAwMDAwMDAwMDAwMDAwMDAwMDAwMDAwMDAwMDQ-&hitAutoAppDelayInSeconds=3600&groupId=3AJ89545MPCD90O9UIVEIKRX3UKBEW&signature=pOcUSF5c5CXKVM2DhxzEpnQNgZY%3D&userCaptchaResponse=3bcawk&%2Faccept.x=0&%2Faccept.y=0 173\n",
      "https://www.mturk.com/mturk/accept?hitId=3Y3CZJSZ9K6ZOOETX9ER4M54FZ95RI&prevHitSubmitted=false&prevRequester=NavVis&requesterId=AKNVO08WR9QD4&prevReward=USD0.40&hitAutoAppDelayInSeconds=3600&groupId=3AJ89545MPCD90O9UIVEIKRX3UKBEW&signature=r7u2opW1465wdDBz7Cq13gww1u8%3D&%2Faccept.x=26&%2Faccept.y=6 172\n",
      "http://www.predictwallstreet.com/35/MechanicalTurk/Default.aspx 171\n",
      "https://payments.amazon.com/overview 171\n",
      "https://mail.google.com/mail/u/0/#spam 170\n",
      "https://www.mturk.com/mturk/checkregistration 169\n",
      "https://www.quora.com/ 168\n",
      "https://snt151.mail.live.com/?fid=flinbox 167\n"
     ]
    }
   ],
   "source": [
    "print_counter(urls_transitioned_from_via_mlog)"
   ]
  },
  {
   "cell_type": "code",
   "execution_count": 8,
   "metadata": {
    "collapsed": false
   },
   "outputs": [
    {
     "name": "stdout",
     "output_type": "stream",
     "text": [
      "chrome://newtab/ to https://www.google.com/_/chrome/newtab?espv=2&ie=UTF-8 8547\n",
      "None to https://www.mturk.com/mturk/dashboard 3839\n",
      "None to https://mail.google.com/mail/u/0/#inbox 3073\n",
      "None to https://www.facebook.com/ 1943\n",
      "None to https://mail.google.com/mail/u/1/#inbox 1470\n",
      "None to https://www.mturk.com/mturk/findhits?match=false&hit_scraper 1296\n",
      "None to https://www.mturk.com/mturk/findhits?match=true?hit_scraper 1241\n",
      "chrome://newtab/ to https://www.google.co.in/_/chrome/newtab?espv=2&ie=UTF-8 977\n",
      "https://www.mturk.com/mturk/findhits?match=true?hit_scraper to https://www.mturk.com/mturk/dashboard 892\n",
      "https://www.mturk.com/mturk/dashboard to https://www.mturk.com/mturk/findhits?match=true?hit_scraper 884\n",
      "None to https://www.google.com/_/chrome/newtab?espv=2&ie=UTF-8 749\n",
      "None to https://www.tumblr.com/dashboard 603\n",
      "https://www.mturk.com/mturk/findhits?match=false&hit_scraper to https://www.mturk.com/mturk/dashboard 593\n",
      "https://www.mturk.com/mturk/dashboard to https://www.mturk.com/mturk/findhits?match=false&hit_scraper 593\n",
      "https://www.mturk.com/mturk/dashboard to https://www.facebook.com/ 581\n",
      "https://www.facebook.com/ to https://www.mturk.com/mturk/dashboard 561\n",
      "https://www.mturk.com/mturk/searchbar?selectedSearchType=hitgroups&searchWords=survey&minReward=0.75&qualifiedFor=on&x=13&y=10 to https://www.mturk.com/mturk/dashboard 537\n",
      "None to https://ttn.tlinks.com/Reservations/Itinerary.aspx 467\n",
      "None to http://www.csgodouble.com/withdraw.php 403\n",
      "None to http://gcat.dot.state.oh.us/CrashWebHome.aspx 395\n",
      "https://www.mturk.com/mturk/dashboard to https://www.mturk.com/mturk/findhits?match=true 386\n",
      "https://www.mturk.com/mturk/findhits?match=true to https://www.mturk.com/mturk/dashboard 376\n",
      "None to https://www.mturk.com/mturk/myhits 356\n",
      "https://www.mturk.com/mturk/myhits to https://www.mturk.com/mturk/dashboard 350\n",
      "https://www.mturk.com/mturk/dashboard to https://www.mturk.com/mturk/myhits 345\n",
      "https://mail.google.com/mail/u/0/#inbox to https://www.mturk.com/mturk/dashboard 340\n",
      "https://www.mturk.com/mturk/dashboard to https://mail.google.com/mail/u/0/#inbox 311\n",
      "https://www.mturk.com/mturk/searchbar?selectedSearchType=hitgroups&searchWords=survey&minReward=0.25&qualifiedFor=on&x=13&y=10 to https://www.mturk.com/mturk/dashboard 270\n",
      "None to https://qbo.intuit.com/app/check 264\n",
      "None to https://www.mturk.com/HM 259\n",
      "https://www.mturk.com/mturk/findhits?match=false&hit_scraper to https://www.mturk.com/mturk/myhits 256\n",
      "chrome://newtab/ to https://www.mturk.com/mturk/dashboard 251\n",
      "https://www.mturk.com/mturk/myhits to https://www.mturk.com/mturk/findhits?match=false&hit_scraper 249\n",
      "http://hitgrabber.net/ to https://www.mturk.com/mturk/dashboard 244\n",
      "https://www.mturk.com/mturk/findhits?match=true?hit_scraper to https://us20.chatzy.com/11920092594925 241\n",
      "https://www.mturk.com/mturk/dashboard to http://hitgrabber.net/ 236\n",
      "chrome://newtab/ to https://www.google.com/_/chrome/newtab?rlz=1C1CHWL_enUS650US650&espv=2&{google:ntpIsThemedParameter}ie=UTF-8 235\n",
      "https://us20.chatzy.com/11920092594925 to https://www.mturk.com/mturk/findhits?match=true?hit_scraper 235\n",
      "https://www.mturk.com/mturk/findhits?match=true?hit_scraper to https://www.facebook.com/ 234\n",
      "http://www.crichd.tv/live-sky-sports-2-uk-stream.php to https://www.facebook.com/ 220\n",
      "None to https://www.mturk.com/mturk/findhits?match=true 218\n",
      "None to https://us20.chatzy.com/11920092594925 212\n",
      "None to https://www.mturk.com/mturk/status 211\n",
      "None to https://www.reddit.com/r/fatlogic/comments/4bhqx7/fat_rant_tuesday/ 208\n",
      "https://spacing.psy.ohio-state.edu/spacing/learn.php?a_id=3Z4GS9HPNW9KZDJG37CDBOHXNWA77Q&s_id=A1640H4RXH8NZE&s_num=1 to http://econusyd.az1.qualtrics.com/jfe/form/SV_7ZKTrSg22NJ12WF 199\n",
      "chrome://newtab/ to https://www.facebook.com/ 197\n",
      "https://www.mturk.com/mturk/previewandaccept?groupId=3TCGLRK8ZG9BHK11B2DJ4OC92SQQZ6 to http://www.springer.com/computer/theoretical+computer+science/journal/11075?detailsPage=editorialBoard 193\n",
      "None to https://www.youtube.com/ 188\n",
      "http://www.springer.com/computer/theoretical+computer+science/journal/11075?detailsPage=editorialBoard to https://www.mturk.com/mturk/previewandaccept?groupId=3TCGLRK8ZG9BHK11B2DJ4OC92SQQZ6 188\n",
      "https://www.facebook.com/ to https://www.mturk.com/mturk/findhits?match=true?hit_scraper 186\n",
      "https://www.mturk.com/mturk/accept?hitId=30Z7M1Q8UYXQCPBETWZ8LGQLHLM8AF&prevHitSubmitted=false&prevRequester=NavVis&requesterId=AKNVO08WR9QD4&prevReward=USD0.40&hitAutoAppDelayInSeconds=3600&groupId=3AJ89545MPCD90O9UIVEIKRX3UKBEW&signature=5UFBSWAQGszaNr7E56%2F6jEdi1Bs%3D&%2Faccept.x=48&%2Faccept.y=7 to https://www.mturk.com/mturk/accept?hitId=3Y3CZJSZ9K6ZOOETX9ER4M54FZ95RI&prevHitSubmitted=false&prevRequester=NavVis&requesterId=AKNVO08WR9QD4&prevReward=USD0.40&hitAutoAppDelayInSeconds=3600&groupId=3AJ89545MPCD90O9UIVEIKRX3UKBEW&signature=r7u2opW1465wdDBz7Cq13gww1u8%3D&%2Faccept.x=26&%2Faccept.y=6 186\n",
      "None to https://inbox.google.com/u/0/?pli=1 185\n",
      "https://www.facebook.com/ to http://www.crichd.tv/live-sky-sports-2-uk-stream.php 185\n",
      "None to http://hhgregg.needle.com/login 184\n",
      "https://mail.google.com/mail/u/0/#inbox to https://calendar.google.com/calendar/render??pli=1&pli=1#main_7 182\n",
      "None to http://hitgrabber.net/ 180\n",
      "None to https://drive.google.com/file/d/0B_SrjJRoVhZJd3ZoV2ZNaTVIclJOYmhxdlBqdUhCYmM2SDlV/view 173\n",
      "https://www.facebook.com/ to https://www.google.com/_/chrome/newtab?espv=2&ie=UTF-8 172\n",
      "https://www.mturk.com/mturk/findhits?match=false to https://www.mturk.com/mturk/dashboard 171\n",
      "https://www.mturk.com/mturk/accept?hitId=3Y3CZJSZ9K6ZOOETX9ER4M54FZ95RI&prevHitSubmitted=false&prevRequester=NavVis&requesterId=AKNVO08WR9QD4&prevReward=USD0.40&hitAutoAppDelayInSeconds=3600&groupId=3AJ89545MPCD90O9UIVEIKRX3UKBEW&signature=r7u2opW1465wdDBz7Cq13gww1u8%3D&%2Faccept.x=26&%2Faccept.y=6 to https://www.mturk.com/mturk/accept?hitId=30Z7M1Q8UYXQCPBETWZ8LGQLHLM8AF&prevHitSubmitted=false&prevRequester=NavVis&requesterId=AKNVO08WR9QD4&prevReward=USD0.40&hitAutoAppDelayInSeconds=3600&groupId=3AJ89545MPCD90O9UIVEIKRX3UKBEW&signature=5UFBSWAQGszaNr7E56%2F6jEdi1Bs%3D&%2Faccept.x=48&%2Faccept.y=7 170\n",
      "http://econusyd.az1.qualtrics.com/jfe/form/SV_7ZKTrSg22NJ12WF to https://spacing.psy.ohio-state.edu/spacing/learn.php?a_id=3Z4GS9HPNW9KZDJG37CDBOHXNWA77Q&s_id=A1640H4RXH8NZE&s_num=1 168\n",
      "None to http://www.swagbucks.com/ 166\n",
      "None to http://thewatchseries.to/episode/dc_s_legends_of_tomorrow_s1_e2.html 161\n",
      "https://www.mturk.com/HM to https://www.mturk.com/mturk/findhits?match=false&hit_scraper 161\n",
      "None to http://www.michigantrafficcrashfacts.org/datatool/build.php 160\n",
      "https://mail.google.com/mail/u/0/#inbox to https://www.facebook.com/ 160\n",
      "https://www.mturk.com/mturk/dashboard to https://www.google.com/_/chrome/newtab?espv=2&ie=UTF-8 157\n",
      "chrome://newtab/ to https://www.google.com/_/chrome/newtab?espv=2&es_th=1&ie=UTF-8 156\n",
      "https://www.mturk.com/mturk/continue?hitId=3TVRFO09GLSZAT1KOX5SYDJ9RDKLXL to https://www.mturk.com/mturk/continue?hitId=38F71OA9GU92GPSKOF0LSJYRNDFFMR 156\n",
      "https://www.mturk.com/mturk/accept?hitId=3N3WJQXELS3WMT0TA6FXK3TTPY62L3&prevHitSubmitted=false&prevRequester=NavVis&requesterId=AKNVO08WR9QD4&prevReward=USD0.40&hitAutoAppDelayInSeconds=3600&groupId=3AJ89545MPCD90O9UIVEIKRX3UKBEW&signature=pQtbGncLGIg93qfk68bcFbGTf50%3D&%2Faccept.x=68&%2Faccept.y=19 to https://www.mturk.com/mturk/continue?hitId=38BQUHLA9XDWM25DNIJBFD75F6XOMX 155\n",
      "chrome://newtab/ to https://mail.google.com/mail/u/0/#inbox 155\n",
      "https://www.mturk.com/mturk/previewandaccept?groupId=3AJ89545MPCD90O9UIVEIKRX3UKBEW to https://www.mturk.com/mturk/accept?hitId=30EV7DWJTV844TQTGNGQ4OC1EH4Y6Y&prevHitSubmitted=false&prevRequester=NavVis&requesterId=AKNVO08WR9QD4&prevReward=USD0.40&hitAutoAppDelayInSeconds=3600&groupId=3AJ89545MPCD90O9UIVEIKRX3UKBEW&signature=dNsEYpi2tERbPjH2TNOWXEVxWck%3D&%2Faccept.x=35&%2Faccept.y=8 151\n",
      "https://www.mturk.com/mturk/continue?hitId=38F71OA9GU92GPSKOF0LSJYRNDFFMR to https://www.mturk.com/mturk/continue?hitId=3TVRFO09GLSZAT1KOX5SYDJ9RDKLXL 149\n",
      "None to https://www.twitch.tv/teamsp00ky 145\n",
      "https://www.mturk.com/mturk/accept?hitId=3PR3LXCWSFC2M72H9YX05KWU2DQ9XO&prevHitSubmitted=false&prevRequester=NavVis&requesterId=AKNVO08WR9QD4&prevReward=USD0.40&hitAutoAppDelayInSeconds=3600&groupId=3AJ89545MPCD90O9UIVEIKRX3UKBEW&signature=rODKhTrm2RKtPEAukJ7xB8BL3Ro%3D&%2Faccept.x=39&%2Faccept.y=9 to https://www.mturk.com/mturk/accept?hitId=3RZS0FBRWKNZBW7TZRXADXBZ6ZKCPK&prevHitSubmitted=false&prevRequester=NavVis&requesterId=AKNVO08WR9QD4&prevReward=USD0.40&hitAutoAppDelayInSeconds=3600&groupId=3AJ89545MPCD90O9UIVEIKRX3UKBEW&signature=wLU3%2BGW6K6c6AcCmVVaY8rS8mfY%3D&%2Faccept.x=27&%2Faccept.y=15 144\n",
      "https://www.facebook.com/ to https://mail.google.com/mail/u/0/#inbox 144\n",
      "https://calendar.google.com/calendar/render??pli=1&pli=1#main_7 to https://mail.google.com/mail/u/0/#inbox 143\n",
      "https://www.mturk.com/mturk/accept?hitId=3BC9H1KCYUP2Y85Z75TU2IBE2JWWYW&prevHitSubmitted=false&prevRequester=NavVis&requesterId=AKNVO08WR9QD4&prevReward=USD0.40&hitAutoAppDelayInSeconds=3600&groupId=3AJ89545MPCD90O9UIVEIKRX3UKBEW&signature=Xyc2yH%2FRyeb%2FQckt2fvydosFunM%3D&%2Faccept.x=19&%2Faccept.y=6 to https://www.mturk.com/mturk/accept?hitId=3IQ9O0AYW6COGRM08I2GTAAR86HITN&prevHitSubmitted=false&prevRequester=NavVis&requesterId=AKNVO08WR9QD4&prevReward=USD0.40&hitAutoAppDelayInSeconds=3600&groupId=3AJ89545MPCD90O9UIVEIKRX3UKBEW&signature=rROHtzPrvEBoiF6HC5GnAKPiGb8%3D&%2Faccept.x=53&%2Faccept.y=15 141\n",
      "https://www.mturk.com/mturk/accept?hitId=3IQ9O0AYW6COGRM08I2GTAAR87VTIE&prevHitSubmitted=false&prevRequester=NavVis&requesterId=AKNVO08WR9QD4&prevReward=USD0.40&captcha=VnFmYU8xN1oyNGFhZUJLZDFRZUhvU3BIYmdXNGdpUk1xRUtVY1puV1VZWTV2VmJlYWIzZlEzamtMdzV6ZEZLZUM5azBxdEhzUCxUcmlyWHVGS2EsTFBlbHZNMmdwX3JNbmFHb1dOS011aVEjLHFGMjlDY0ZKY1hseGNhY0NBRTliYUZqWVI4MDAwMDAwMDAwMDAwMDAwMDAwMDAwMDAwMDAwMDAwMDAwMDAwMDAwMDAwMDAwMDAwMDAwMDAwMDAwMDQ-&hitAutoAppDelayInSeconds=3600&groupId=3AJ89545MPCD90O9UIVEIKRX3UKBEW&signature=pOcUSF5c5CXKVM2DhxzEpnQNgZY%3D&userCaptchaResponse=3bcawk&%2Faccept.x=0&%2Faccept.y=0 to https://www.mturk.com/mturk/accept?hitId=3OEWW2KGQJORVO16KNF683ORHU7ODM&prevHitSubmitted=false&prevRequester=NavVis&requesterId=AKNVO08WR9QD4&prevReward=USD0.40&hitAutoAppDelayInSeconds=3600&groupId=3AJ89545MPCD90O9UIVEIKRX3UKBEW&signature=YTgeDFQOh1HL3PNSJMDOmeJqeXs%3D&%2Faccept.x=65&%2Faccept.y=12 138\n",
      "https://www.mturk.com/mturk/findhits?match=false&hit_scraper to https://www.mturk.com/HM 138\n",
      "None to https://www.mturk.com/mturk/viewsearchbar?searchWords=&pageNumber=1&searchSpec=HITGroupSearch%23T%232%23100%23-1%23T%23%21Reward%216%21rO0ABXQAAzAuNA--%21only_available_hits%210%21rO0ABXQABHRydWU-%21keyword_list%212%21rO0ABXQAAA--%21%23%21LastUpdatedTime%211%21%23%21&sortType=LastUpdatedTime%3A1&selectedSearchType=hitgroups 138\n",
      "https://www.mturk.com/mturk/continue?hitId=38BQUHLA9XDWM25DNIJBFD75F6XOMX to https://www.mturk.com/mturk/accept?hitId=3N3WJQXELS3WMT0TA6FXK3TTPY62L3&prevHitSubmitted=false&prevRequester=NavVis&requesterId=AKNVO08WR9QD4&prevReward=USD0.40&hitAutoAppDelayInSeconds=3600&groupId=3AJ89545MPCD90O9UIVEIKRX3UKBEW&signature=pQtbGncLGIg93qfk68bcFbGTf50%3D&%2Faccept.x=68&%2Faccept.y=19 137\n",
      "https://www.mturk.com/mturk/accept?hitId=3IQ9O0AYW6COGRM08I2GTAAR86HITN&prevHitSubmitted=false&prevRequester=NavVis&requesterId=AKNVO08WR9QD4&prevReward=USD0.40&hitAutoAppDelayInSeconds=3600&groupId=3AJ89545MPCD90O9UIVEIKRX3UKBEW&signature=rROHtzPrvEBoiF6HC5GnAKPiGb8%3D&%2Faccept.x=53&%2Faccept.y=15 to https://www.mturk.com/mturk/accept?hitId=3BC9H1KCYUP2Y85Z75TU2IBE2JWWYW&prevHitSubmitted=false&prevRequester=NavVis&requesterId=AKNVO08WR9QD4&prevReward=USD0.40&hitAutoAppDelayInSeconds=3600&groupId=3AJ89545MPCD90O9UIVEIKRX3UKBEW&signature=Xyc2yH%2FRyeb%2FQckt2fvydosFunM%3D&%2Faccept.x=19&%2Faccept.y=6 137\n",
      "https://www.mturk.com/mturk/searchbar?selectedSearchType=hitgroups&searchWords=&minReward=1.00&qualifiedFor=on&x=12&y=13 to https://www.mturk.com/mturk/dashboard 134\n",
      "https://www.mturk.com/mturk/myhits to https://www.mturk.com/mturk/findhits?match=true?hit_scraper 133\n",
      "None to https://www.mturk.com/mturk/findhits?match=false 128\n",
      "https://www.mturk.com/mturk/findhits?match=true?hit_scraper to https://www.mturk.com/mturk/myhits 128\n",
      "https://www.mturk.com/mturk/continue?hitId=3XC1O3LBOTZSTCS0JN4V9AY3EE6TLE to https://www.mturk.com/mturk/continue?hitId=3DY46V3X3QVC6LEPQ46QP5WSCLL55C 128\n",
      "None to https://www.twitch.tv/mintmaus 128\n",
      "http://www.converse.edu/directory/ to https://www.netflix.com/watch/80057459?trackId=200257859 127\n",
      "https://www.reddit.com/r/HITsWorthTurkingFor/new/ to https://www.mturk.com/mturk/dashboard 127\n",
      "https://www.mturk.com/mturk/accept?hitId=30EV7DWJTV844TQTGNGQ4OC1EH4Y6Y&prevHitSubmitted=false&prevRequester=NavVis&requesterId=AKNVO08WR9QD4&prevReward=USD0.40&hitAutoAppDelayInSeconds=3600&groupId=3AJ89545MPCD90O9UIVEIKRX3UKBEW&signature=dNsEYpi2tERbPjH2TNOWXEVxWck%3D&%2Faccept.x=35&%2Faccept.y=8 to https://www.mturk.com/mturk/previewandaccept?groupId=3AJ89545MPCD90O9UIVEIKRX3UKBEW 126\n",
      "None to https://www.twitch.tv/a_l_o_h_a 126\n",
      "None to https://www.twitch.tv/directory/following 122\n",
      "https://www.mturk.com/mturk/accept?hitId=3G9UA71JVVUFXHEZ6IYCSVE6MMN7JE&prevHitSubmitted=false&prevRequester=Amanda+Jacklin&requesterId=A3U6DRN4HH5HGO&prevReward=USD2.20&hitAutoAppDelayInSeconds=172800&groupId=333IBSSEKJ6T0UELKCE9W4F0EW8TZW&signature=Qv1sVR9tELNBVz%2BVeki2gXMTOeY%3D&%2Faccept.x=40&%2Faccept.y=9 to http://www.converse.edu/directory/ 119\n",
      "http://dpo.print.avery.com/dpo7-us/app/US_en/dpo.jsp?sku=DVD%20Case to https://docs.google.com/spreadsheets/d/1ihyozZLhHAqdC7VOFHLA91eF2UzT_lqOKFhSnYlVdJ8/edit#gid=1666989740 118\n",
      "https://www.mturk.com/mturk/continue?hitId=3DY46V3X3QVC6LEPQ46QP5WSCLL55C to https://www.mturk.com/mturk/continue?hitId=3XC1O3LBOTZSTCS0JN4V9AY3EE6TLE 118\n",
      "http://ec2-52-32-147-4.us-west-2.compute.amazonaws.com:3000/intstruction to http://ec2-52-32-147-4.us-west-2.compute.amazonaws.com:3000/ 116\n",
      "https://www.mturk.com/mturk/preview?groupId=315D2CYS02YMYX81NFR5RTKSL3DX7L to https://www.mturk.com/mturk/searchbar?selectedSearchType=hitgroups&searchWords=p9r&minReward=0.00&x=8&y=14 115\n",
      "None to http://www.amazon.com/dp/B019FXKNUE/ref=atv_hm_hom_1_c_s9obwan_2_1?_encoding=UTF8&pf_rd_i=home&pf_rd_m=ATVPDKIKX0DER&pf_rd_p=2437278902&pf_rd_r=1HCX4PVNB37C4822BV8S&pf_rd_s=center-4&pf_rd_t=12401 115\n"
     ]
    }
   ],
   "source": [
    "print_counter(url_transitions_via_mlog)"
   ]
  },
  {
   "cell_type": "code",
   "execution_count": 9,
   "metadata": {
    "collapsed": false
   },
   "outputs": [
    {
     "data": {
      "text/plain": [
       "\"\\ndef compute_url_switch_sources_for_user(user):\\n  output = [] # {url, prev, evt}\\n  prevurl = None\\n  for data in get_log_with_mlog_active_times_for_user(user):\\n    data = uncompress_data_subfields(data)\\n    cururl = get_focused_tab(data)\\n    if cururl != prevurl:\\n      output.append({'evt': evt, 'url': cururl, 'prev': prevurl})\\n      prevurl = cururl\\n  return output\\n\""
      ]
     },
     "execution_count": 9,
     "metadata": {},
     "output_type": "execute_result"
    }
   ],
   "source": [
    "'''\n",
    "def compute_url_switch_sources_for_user(user):\n",
    "  output = [] # {url, prev, evt}\n",
    "  prevurl = None\n",
    "  for data in get_log_with_mlog_active_times_for_user(user):\n",
    "    data = uncompress_data_subfields(data)\n",
    "    cururl = get_focused_tab(data)\n",
    "    if cururl != prevurl:\n",
    "      output.append({'evt': evt, 'url': cururl, 'prev': prevurl})\n",
    "      prevurl = cururl\n",
    "  return output\n",
    "'''"
   ]
  },
  {
   "cell_type": "code",
   "execution_count": 10,
   "metadata": {
    "collapsed": false
   },
   "outputs": [],
   "source": [
    "#print list_users()[0]\n",
    "#for x in compute_url_switch_sources_for_user('Eq7EExfolE'):\n",
    "#  print x\n"
   ]
  }
 ],
 "metadata": {
  "kernelspec": {
   "display_name": "Python 2",
   "language": "python",
   "name": "python2"
  },
  "language_info": {
   "codemirror_mode": {
    "name": "ipython",
    "version": 2
   },
   "file_extension": ".py",
   "mimetype": "text/x-python",
   "name": "python",
   "nbconvert_exporter": "python",
   "pygments_lexer": "ipython2",
   "version": "2.7.11"
  }
 },
 "nbformat": 4,
 "nbformat_minor": 0
}
