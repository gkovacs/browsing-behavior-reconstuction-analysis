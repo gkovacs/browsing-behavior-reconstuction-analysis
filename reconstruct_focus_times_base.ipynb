{
 "cells": [
  {
   "cell_type": "code",
   "execution_count": 1,
   "metadata": {
    "collapsed": false
   },
   "outputs": [
    {
     "data": {
      "text/plain": [
       "0"
      ]
     },
     "execution_count": 1,
     "metadata": {},
     "output_type": "execute_result"
    }
   ],
   "source": [
    "# noexport\n",
    "\n",
    "import os\n",
    "os.system('export_notebook_pyx reconstruct_focus_times_base.ipynb')"
   ]
  },
  {
   "cell_type": "code",
   "execution_count": 2,
   "metadata": {
    "collapsed": true
   },
   "outputs": [],
   "source": [
    "from tmilib_base import *"
   ]
  },
  {
   "cell_type": "code",
   "execution_count": 3,
   "metadata": {
    "collapsed": true
   },
   "outputs": [],
   "source": [
    "def exclude_bad_visits(ordered_visits):\n",
    "  output = []\n",
    "  for visit in ordered_visits:\n",
    "    transition = visit['transition']\n",
    "    if transition in ['auto_subframe', 'manual_subframe']:\n",
    "      continue\n",
    "    output.append(visit)\n",
    "  return output\n"
   ]
  },
  {
   "cell_type": "code",
   "execution_count": 4,
   "metadata": {
    "collapsed": true
   },
   "outputs": [],
   "source": [
    "def get_earliest_start_time(visits):\n",
    "  if len(visits) < 1:\n",
    "    raise Exception('get_earliest_time called with empty list')\n",
    "  first_visit = visits[0]\n",
    "  if 'start' in first_visit:\n",
    "    return first_visit['start']\n",
    "  return first_visit['visitTime']\n",
    "\n",
    "def get_last_end_time(visits):\n",
    "  if len(visits) < 1:\n",
    "    raise Exception('get_last_visit_time called with empty list')\n",
    "  last_visit = visits[-1]\n",
    "  if 'end' in last_visit:\n",
    "    return last_visit['end']\n",
    "  return last_visit['visitTime']\n"
   ]
  }
 ],
 "metadata": {
  "kernelspec": {
   "display_name": "Python 2",
   "language": "python",
   "name": "python2"
  },
  "language_info": {
   "codemirror_mode": {
    "name": "ipython",
    "version": 2
   },
   "file_extension": ".py",
   "mimetype": "text/x-python",
   "name": "python",
   "nbconvert_exporter": "python",
   "pygments_lexer": "ipython2",
   "version": "2.7.11"
  }
 },
 "nbformat": 4,
 "nbformat_minor": 0
}
