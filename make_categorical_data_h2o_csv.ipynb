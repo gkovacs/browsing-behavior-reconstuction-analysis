{
 "cells": [
  {
   "cell_type": "code",
   "execution_count": 1,
   "metadata": {
    "collapsed": false
   },
   "outputs": [
    {
     "data": {
      "text/plain": [
       "0"
      ]
     },
     "execution_count": 1,
     "metadata": {},
     "output_type": "execute_result"
    }
   ],
   "source": [
    "# noexport\n",
    "\n",
    "import os\n",
    "os.system('export_notebook make_categorical_data_h2o_csv.ipynb')"
   ]
  },
  {
   "cell_type": "code",
   "execution_count": 2,
   "metadata": {
    "collapsed": true
   },
   "outputs": [],
   "source": [
    "import csv"
   ]
  },
  {
   "cell_type": "code",
   "execution_count": 3,
   "metadata": {
    "collapsed": true
   },
   "outputs": [],
   "source": [
    "from tmilib import *"
   ]
  },
  {
   "cell_type": "code",
   "execution_count": 4,
   "metadata": {
    "collapsed": false
   },
   "outputs": [],
   "source": [
    "#user = get_training_users()[0]\n",
    "#print user"
   ]
  },
  {
   "cell_type": "code",
   "execution_count": 5,
   "metadata": {
    "collapsed": true
   },
   "outputs": [],
   "source": [
    "#dataset = get_secondlevel_activespan_dataset_for_user(user)"
   ]
  },
  {
   "cell_type": "code",
   "execution_count": 6,
   "metadata": {
    "collapsed": true
   },
   "outputs": [],
   "source": [
    "#top_domains = top_n_domains_by_visits(20)"
   ]
  },
  {
   "cell_type": "code",
   "execution_count": 7,
   "metadata": {
    "collapsed": false
   },
   "outputs": [],
   "source": [
    "#print top_domains"
   ]
  },
  {
   "cell_type": "code",
   "execution_count": 8,
   "metadata": {
    "collapsed": false,
    "scrolled": true
   },
   "outputs": [],
   "source": [
    "twenty_letters = [\"a\",\"b\",\"c\",\"d\",\"e\",\"f\",\"g\",\"h\",\"i\",\"j\",\"k\",\"l\",\"m\",\"n\",\"o\",\"p\",\"q\",\"r\",\"s\",\"t\"]\n",
    "#domain_to_letter = {x:twenty_letters[i] for i,x in enumerate(top_domains)}\n",
    "domain_id_to_letter = {domain_to_id(x):twenty_letters[i] for i,x in enumerate(top_n_domains_by_visits(20))}\n",
    "#print domain_id_to_letter\n",
    "#print domain_to_letter"
   ]
  },
  {
   "cell_type": "code",
   "execution_count": 9,
   "metadata": {
    "collapsed": false
   },
   "outputs": [],
   "source": [
    "productivity_letters = {-2: 'v', -1: 'w', 0: 'x', 1: 'y', 2: 'z'}\n",
    "domain_id_to_productivity_letter = [productivity_letters[x] for x in get_domain_id_to_productivity()]\n",
    "#print domain_id_to_productivity[:10]\n",
    "#print domain_id_to_productivity_letter[:10]"
   ]
  },
  {
   "cell_type": "code",
   "execution_count": 10,
   "metadata": {
    "collapsed": false
   },
   "outputs": [],
   "source": [
    "def user_data_to_csv(outpath, users, get_data_func):\n",
    "  full_outpath = sdir_path(outpath)\n",
    "  if sdir_exists(outpath):\n",
    "    print 'already exists', full_outpath\n",
    "    return\n",
    "  print outpath\n",
    "  outfile = csv.writer(open(full_outpath, 'w'))\n",
    "  outfile.writerow(['label', 'sinceprev', 'tonext', 'samedomain', 'fromdomain', 'todomain', 'fromprod', 'toprod'])\n",
    "  for user in users:\n",
    "    for line in get_data_func(user):\n",
    "      label = 'T' if line[0] else 'F'\n",
    "      f1 = line[1]\n",
    "      f2 = line[2]\n",
    "      samedomain = 'T' if (line[3] == line[4]) else 'F'\n",
    "      fromdomain = domain_id_to_letter.get(line[3], 'u')\n",
    "      todomain = domain_id_to_letter.get(line[4], 'u')\n",
    "      fromdomain_prod = domain_id_to_productivity_letter[line[3]]\n",
    "      todomain_prod = domain_id_to_productivity_letter[line[4]]\n",
    "      outfile.writerow([label, f1, f2, samedomain, fromdomain, todomain, fromdomain_prod, todomain_prod])\n",
    "\n"
   ]
  },
  {
   "cell_type": "code",
   "execution_count": 13,
   "metadata": {
    "collapsed": false
   },
   "outputs": [
    {
     "name": "stdout",
     "output_type": "stream",
     "text": [
      "already exists /home/gkovacs/tmi-sdir/sdir_2016-04-03_01:58:55-07:00/catdata_train_tensecond.csv\n",
      "already exists /home/gkovacs/tmi-sdir/sdir_2016-04-03_01:58:55-07:00/catdata_test_tensecond.csv\n",
      "catdata_train_insession_tensecond.csv\n",
      "already exists /home/gkovacs/tmi-sdir/sdir_2016-04-03_01:58:55-07:00/catdata_test_insession_tensecond.csv\n"
     ]
    }
   ],
   "source": [
    "training_users = get_training_users()\n",
    "test_users = get_test_users()\n",
    "\n",
    "user_data_to_csv('catdata_train_tensecond.csv', training_users, get_tensecondlevel_activespan_dataset_for_user)\n",
    "user_data_to_csv('catdata_test_tensecond.csv', test_users, get_tensecondlevel_activespan_dataset_for_user)\n",
    "user_data_to_csv('catdata_train_insession_tensecond.csv', training_users, get_tensecondlevel_activespan_dataset_insession_for_user)\n",
    "user_data_to_csv('catdata_test_insession_tensecond.csv', test_users, get_tensecondlevel_activespan_dataset_insession_for_user)\n",
    "user_data_to_csv('catdata_train_second.csv', training_users, get_secondlevel_activespan_dataset_for_user)\n",
    "user_data_to_csv('catdata_test_second.csv', test_users, get_secondlevel_activespan_dataset_for_user)\n",
    "user_data_to_csv('catdata_train_insession_second.csv', training_users, get_secondlevel_activespan_dataset_insession_for_user)\n",
    "user_data_to_csv('catdata_test_insession_second.csv', test_users, get_secondlevel_activespan_dataset_insession_for_user)\n"
   ]
  }
 ],
 "metadata": {
  "kernelspec": {
   "display_name": "Python 2",
   "language": "python",
   "name": "python2"
  },
  "language_info": {
   "codemirror_mode": {
    "name": "ipython",
    "version": 2
   },
   "file_extension": ".py",
   "mimetype": "text/x-python",
   "name": "python",
   "nbconvert_exporter": "python",
   "pygments_lexer": "ipython2",
   "version": "2.7.11"
  }
 },
 "nbformat": 4,
 "nbformat_minor": 0
}
