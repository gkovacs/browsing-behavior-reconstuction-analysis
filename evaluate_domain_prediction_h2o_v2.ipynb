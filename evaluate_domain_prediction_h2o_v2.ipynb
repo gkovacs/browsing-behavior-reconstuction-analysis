{
 "cells": [
  {
   "cell_type": "code",
   "execution_count": 1,
   "metadata": {
    "collapsed": true
   },
   "outputs": [],
   "source": [
    "import csv"
   ]
  },
  {
   "cell_type": "code",
   "execution_count": 2,
   "metadata": {
    "collapsed": false
   },
   "outputs": [
    {
     "name": "stderr",
     "output_type": "stream",
     "text": [
      "/afs/.ir.stanford.edu/users/g/k/gkovacs/ve/local/lib/python2.7/site-packages/IPython/core/formatters.py:92: DeprecationWarning: DisplayFormatter._ipython_display_formatter_default is deprecated: use @default decorator instead.\n",
      "  def _ipython_display_formatter_default(self):\n",
      "/afs/.ir.stanford.edu/users/g/k/gkovacs/ve/local/lib/python2.7/site-packages/IPython/core/formatters.py:98: DeprecationWarning: DisplayFormatter._formatters_default is deprecated: use @default decorator instead.\n",
      "  def _formatters_default(self):\n",
      "/afs/.ir.stanford.edu/users/g/k/gkovacs/ve/local/lib/python2.7/site-packages/IPython/core/formatters.py:677: DeprecationWarning: PlainTextFormatter._deferred_printers_default is deprecated: use @default decorator instead.\n",
      "  def _deferred_printers_default(self):\n",
      "/afs/.ir.stanford.edu/users/g/k/gkovacs/ve/local/lib/python2.7/site-packages/IPython/core/formatters.py:669: DeprecationWarning: PlainTextFormatter._singleton_printers_default is deprecated: use @default decorator instead.\n",
      "  def _singleton_printers_default(self):\n",
      "/afs/.ir.stanford.edu/users/g/k/gkovacs/ve/local/lib/python2.7/site-packages/IPython/core/formatters.py:672: DeprecationWarning: PlainTextFormatter._type_printers_default is deprecated: use @default decorator instead.\n",
      "  def _type_printers_default(self):\n",
      "/afs/.ir.stanford.edu/users/g/k/gkovacs/ve/local/lib/python2.7/site-packages/IPython/core/formatters.py:669: DeprecationWarning: PlainTextFormatter._singleton_printers_default is deprecated: use @default decorator instead.\n",
      "  def _singleton_printers_default(self):\n",
      "/afs/.ir.stanford.edu/users/g/k/gkovacs/ve/local/lib/python2.7/site-packages/IPython/core/formatters.py:672: DeprecationWarning: PlainTextFormatter._type_printers_default is deprecated: use @default decorator instead.\n",
      "  def _type_printers_default(self):\n",
      "/afs/.ir.stanford.edu/users/g/k/gkovacs/ve/local/lib/python2.7/site-packages/IPython/core/formatters.py:677: DeprecationWarning: PlainTextFormatter._deferred_printers_default is deprecated: use @default decorator instead.\n",
      "  def _deferred_printers_default(self):\n"
     ]
    },
    {
     "data": {
      "text/html": [
       "<div style=\"overflow:auto\"><table style=\"width:50%\"><tr><td>H2O cluster uptime: </td>\n",
       "<td>14 hours 19 minutes 34 seconds 456 milliseconds </td></tr>\n",
       "<tr><td>H2O cluster version: </td>\n",
       "<td>3.8.1.4</td></tr>\n",
       "<tr><td>H2O cluster name: </td>\n",
       "<td>gkovacs</td></tr>\n",
       "<tr><td>H2O cluster total nodes: </td>\n",
       "<td>1</td></tr>\n",
       "<tr><td>H2O cluster total free memory: </td>\n",
       "<td>43.79 GB</td></tr>\n",
       "<tr><td>H2O cluster total cores: </td>\n",
       "<td>48</td></tr>\n",
       "<tr><td>H2O cluster allowed cores: </td>\n",
       "<td>16</td></tr>\n",
       "<tr><td>H2O cluster healthy: </td>\n",
       "<td>True</td></tr>\n",
       "<tr><td>H2O Connection ip: </td>\n",
       "<td>127.0.0.1</td></tr>\n",
       "<tr><td>H2O Connection port: </td>\n",
       "<td>54321</td></tr>\n",
       "<tr><td>H2O Connection proxy: </td>\n",
       "<td>None</td></tr>\n",
       "<tr><td>Python Version: </td>\n",
       "<td>2.7.6</td></tr></table></div>"
      ],
      "text/plain": [
       "------------------------------  -----------------------------------------------\n",
       "H2O cluster uptime:             14 hours 19 minutes 34 seconds 456 milliseconds\n",
       "H2O cluster version:            3.8.1.4\n",
       "H2O cluster name:               gkovacs\n",
       "H2O cluster total nodes:        1\n",
       "H2O cluster total free memory:  43.79 GB\n",
       "H2O cluster total cores:        48\n",
       "H2O cluster allowed cores:      16\n",
       "H2O cluster healthy:            True\n",
       "H2O Connection ip:              127.0.0.1\n",
       "H2O Connection port:            54321\n",
       "H2O Connection proxy:\n",
       "Python Version:                 2.7.6\n",
       "------------------------------  -----------------------------------------------"
      ]
     },
     "metadata": {},
     "output_type": "display_data"
    }
   ],
   "source": [
    "from tmilib import *\n",
    "from h2o_utils import *\n",
    "\n",
    "import h2o\n",
    "h2o.init()"
   ]
  },
  {
   "cell_type": "code",
   "execution_count": 3,
   "metadata": {
    "collapsed": true
   },
   "outputs": [],
   "source": [
    "import traceback"
   ]
  },
  {
   "cell_type": "code",
   "execution_count": 6,
   "metadata": {
    "collapsed": false
   },
   "outputs": [],
   "source": [
    "#classifier = load_h2o_model(sdir_path('domainclass_cpn_v77_randomforest_v1.h2o'))"
   ]
  },
  {
   "cell_type": "code",
   "execution_count": 4,
   "metadata": {
    "collapsed": false
   },
   "outputs": [
    {
     "name": "stdout",
     "output_type": "stream",
     "text": [
      "Model Details\n",
      "=============\n",
      "H2ORandomForestEstimator :  Distributed Random Forest\n",
      "Model Key:  DRF_model_python_1460419545971_1\n",
      "\n",
      "Model Summary: \n"
     ]
    },
    {
     "data": {
      "text/html": [
       "<div style=\"overflow:auto\"><table style=\"width:50%\"><tr><td><b></b></td>\n",
       "<td><b>number_of_trees</b></td>\n",
       "<td><b>model_size_in_bytes</b></td>\n",
       "<td><b>min_depth</b></td>\n",
       "<td><b>max_depth</b></td>\n",
       "<td><b>mean_depth</b></td>\n",
       "<td><b>min_leaves</b></td>\n",
       "<td><b>max_leaves</b></td>\n",
       "<td><b>mean_leaves</b></td></tr>\n",
       "<tr><td></td>\n",
       "<td>150.0</td>\n",
       "<td>61200348.0000000</td>\n",
       "<td>20.0</td>\n",
       "<td>20.0</td>\n",
       "<td>20.0</td>\n",
       "<td>20428.0</td>\n",
       "<td>59382.0</td>\n",
       "<td>35186.727</td></tr></table></div>"
      ],
      "text/plain": [
       "    number_of_trees    model_size_in_bytes    min_depth    max_depth    mean_depth    min_leaves    max_leaves    mean_leaves\n",
       "--  -----------------  ---------------------  -----------  -----------  ------------  ------------  ------------  -------------\n",
       "    150                6.12003e+07            20           20           20            20428         59382         35186.7"
      ]
     },
     "metadata": {},
     "output_type": "display_data"
    },
    {
     "name": "stdout",
     "output_type": "stream",
     "text": [
      "\n",
      "\n",
      "ModelMetricsMultinomial: drf\n",
      "** Reported on train data. **\n",
      "\n",
      "MSE: 0.0669369897716\n",
      "R^2: 0.828619874655\n",
      "LogLoss: 0.226175161319\n",
      "\n",
      "Confusion Matrix: vertical: actual; across: predicted\n",
      "\n"
     ]
    },
    {
     "data": {
      "text/html": [
       "<div style=\"overflow:auto\"><table style=\"width:50%\"><tr><td><b>c</b></td>\n",
       "<td><b>n</b></td>\n",
       "<td><b>p1</b></td>\n",
       "<td><b>Error</b></td>\n",
       "<td><b>Rate</b></td></tr>\n",
       "<tr><td>11627112.0000000</td>\n",
       "<td>77091.0</td>\n",
       "<td>26161.0</td>\n",
       "<td>0.0088021</td>\n",
       "<td>103,252 / 11,730,364</td></tr>\n",
       "<tr><td>471848.0</td>\n",
       "<td>812793.0</td>\n",
       "<td>3820.0</td>\n",
       "<td>0.3691753</td>\n",
       "<td>475,668 / 1,288,461</td></tr>\n",
       "<tr><td>584719.0</td>\n",
       "<td>7166.0</td>\n",
       "<td>770069.0</td>\n",
       "<td>0.4345852</td>\n",
       "<td>591,885 / 1,361,954</td></tr>\n",
       "<tr><td>12683679.0000000</td>\n",
       "<td>897050.0</td>\n",
       "<td>800050.0</td>\n",
       "<td>0.0814146</td>\n",
       "<td>1,170,805 / 14,380,779</td></tr></table></div>"
      ],
      "text/plain": [
       "c            n       p1      Error       Rate\n",
       "-----------  ------  ------  ----------  ----------------------\n",
       "1.16271e+07  77091   26161   0.00880211  103,252 / 11,730,364\n",
       "471848       812793  3820    0.369175    475,668 / 1,288,461\n",
       "584719       7166    770069  0.434585    591,885 / 1,361,954\n",
       "1.26837e+07  897050  800050  0.0814146   1,170,805 / 14,380,779"
      ]
     },
     "metadata": {},
     "output_type": "display_data"
    },
    {
     "name": "stdout",
     "output_type": "stream",
     "text": [
      "\n",
      "Top-3 Hit Ratios: \n"
     ]
    },
    {
     "data": {
      "text/html": [
       "<div style=\"overflow:auto\"><table style=\"width:50%\"><tr><td><b>k</b></td>\n",
       "<td><b>hit_ratio</b></td></tr>\n",
       "<tr><td>1</td>\n",
       "<td>0.9185854</td></tr>\n",
       "<tr><td>2</td>\n",
       "<td>0.9939668</td></tr>\n",
       "<tr><td>3</td>\n",
       "<td>1.0</td></tr></table></div>"
      ],
      "text/plain": [
       "k    hit_ratio\n",
       "---  -----------\n",
       "1    0.918585\n",
       "2    0.993967\n",
       "3    1"
      ]
     },
     "metadata": {},
     "output_type": "display_data"
    },
    {
     "name": "stdout",
     "output_type": "stream",
     "text": [
      "\n",
      "ModelMetricsMultinomial: drf\n",
      "** Reported on validation data. **\n",
      "\n",
      "MSE: 0.116727392146\n",
      "R^2: 0.672375419679\n",
      "LogLoss: 0.371221450925\n",
      "\n",
      "Confusion Matrix: vertical: actual; across: predicted\n",
      "\n"
     ]
    },
    {
     "data": {
      "text/html": [
       "<div style=\"overflow:auto\"><table style=\"width:50%\"><tr><td><b>c</b></td>\n",
       "<td><b>n</b></td>\n",
       "<td><b>p1</b></td>\n",
       "<td><b>Error</b></td>\n",
       "<td><b>Rate</b></td></tr>\n",
       "<tr><td>10044348.0000000</td>\n",
       "<td>157456.0</td>\n",
       "<td>53272.0</td>\n",
       "<td>0.0205487</td>\n",
       "<td>210,728 / 10,255,076</td></tr>\n",
       "<tr><td>709980.0</td>\n",
       "<td>289974.0</td>\n",
       "<td>13117.0</td>\n",
       "<td>0.7137673</td>\n",
       "<td>723,097 / 1,013,071</td></tr>\n",
       "<tr><td>863977.0</td>\n",
       "<td>10551.0</td>\n",
       "<td>161558.0</td>\n",
       "<td>0.8440689</td>\n",
       "<td>874,528 / 1,036,086</td></tr>\n",
       "<tr><td>11618305.0000000</td>\n",
       "<td>457981.0</td>\n",
       "<td>227947.0</td>\n",
       "<td>0.1469700</td>\n",
       "<td>1,808,353 / 12,304,233</td></tr></table></div>"
      ],
      "text/plain": [
       "c            n       p1      Error      Rate\n",
       "-----------  ------  ------  ---------  ----------------------\n",
       "1.00443e+07  157456  53272   0.0205487  210,728 / 10,255,076\n",
       "709980       289974  13117   0.713767   723,097 / 1,013,071\n",
       "863977       10551   161558  0.844069   874,528 / 1,036,086\n",
       "1.16183e+07  457981  227947  0.14697    1,808,353 / 12,304,233"
      ]
     },
     "metadata": {},
     "output_type": "display_data"
    },
    {
     "name": "stdout",
     "output_type": "stream",
     "text": [
      "\n",
      "Top-3 Hit Ratios: \n"
     ]
    },
    {
     "data": {
      "text/html": [
       "<div style=\"overflow:auto\"><table style=\"width:50%\"><tr><td><b>k</b></td>\n",
       "<td><b>hit_ratio</b></td></tr>\n",
       "<tr><td>1</td>\n",
       "<td>0.85303</td></tr>\n",
       "<tr><td>2</td>\n",
       "<td>0.9784825</td></tr>\n",
       "<tr><td>3</td>\n",
       "<td>1.0</td></tr></table></div>"
      ],
      "text/plain": [
       "k    hit_ratio\n",
       "---  -----------\n",
       "1    0.85303\n",
       "2    0.978483\n",
       "3    1"
      ]
     },
     "metadata": {},
     "output_type": "display_data"
    },
    {
     "name": "stdout",
     "output_type": "stream",
     "text": [
      "\n",
      "Scoring History: \n"
     ]
    },
    {
     "data": {
      "text/html": [
       "<div style=\"overflow:auto\"><table style=\"width:50%\"><tr><td><b></b></td>\n",
       "<td><b>timestamp</b></td>\n",
       "<td><b>duration</b></td>\n",
       "<td><b>number_of_trees</b></td>\n",
       "<td><b>training_MSE</b></td>\n",
       "<td><b>training_logloss</b></td>\n",
       "<td><b>training_classification_error</b></td>\n",
       "<td><b>validation_MSE</b></td>\n",
       "<td><b>validation_logloss</b></td>\n",
       "<td><b>validation_classification_error</b></td></tr>\n",
       "<tr><td></td>\n",
       "<td>2016-04-11 17:07:39</td>\n",
       "<td> 0.327 sec</td>\n",
       "<td>0.0</td>\n",
       "<td>nan</td>\n",
       "<td>nan</td>\n",
       "<td>nan</td>\n",
       "<td>1.0</td>\n",
       "<td>34.5387764</td>\n",
       "<td>0.3046656</td></tr>\n",
       "<tr><td></td>\n",
       "<td>2016-04-11 17:08:26</td>\n",
       "<td>46.469 sec</td>\n",
       "<td>1.0</td>\n",
       "<td>0.0860679</td>\n",
       "<td>0.8821326</td>\n",
       "<td>0.0990620</td>\n",
       "<td>0.1599328</td>\n",
       "<td>2.5820382</td>\n",
       "<td>0.1814308</td></tr>\n",
       "<tr><td></td>\n",
       "<td>2016-04-11 17:11:47</td>\n",
       "<td> 4 min  8.105 sec</td>\n",
       "<td>6.0</td>\n",
       "<td>0.0761640</td>\n",
       "<td>0.4276875</td>\n",
       "<td>0.0905591</td>\n",
       "<td>0.1199500</td>\n",
       "<td>0.4232461</td>\n",
       "<td>0.1502809</td></tr>\n",
       "<tr><td></td>\n",
       "<td>2016-04-11 17:20:13</td>\n",
       "<td>12 min 33.616 sec</td>\n",
       "<td>20.0</td>\n",
       "<td>0.0687847</td>\n",
       "<td>0.2325163</td>\n",
       "<td>0.0835068</td>\n",
       "<td>0.1172634</td>\n",
       "<td>0.3751527</td>\n",
       "<td>0.1474109</td></tr>\n",
       "<tr><td></td>\n",
       "<td>2016-04-11 17:39:44</td>\n",
       "<td>32 min  5.143 sec</td>\n",
       "<td>50.0</td>\n",
       "<td>0.0669370</td>\n",
       "<td>0.2261752</td>\n",
       "<td>0.0814146</td>\n",
       "<td>0.1167274</td>\n",
       "<td>0.3712215</td>\n",
       "<td>0.1469700</td></tr></table></div>"
      ],
      "text/plain": [
       "    timestamp            duration           number_of_trees    training_MSE    training_logloss    training_classification_error    validation_MSE    validation_logloss    validation_classification_error\n",
       "--  -------------------  -----------------  -----------------  --------------  ------------------  -------------------------------  ----------------  --------------------  ---------------------------------\n",
       "    2016-04-11 17:07:39  0.327 sec          0                  nan             nan                 nan                              1                 34.5388               0.304666\n",
       "    2016-04-11 17:08:26  46.469 sec         1                  0.0860679       0.882133            0.099062                         0.159933          2.58204               0.181431\n",
       "    2016-04-11 17:11:47  4 min  8.105 sec   6                  0.076164        0.427687            0.0905591                        0.11995           0.423246              0.150281\n",
       "    2016-04-11 17:20:13  12 min 33.616 sec  20                 0.0687847       0.232516            0.0835068                        0.117263          0.375153              0.147411\n",
       "    2016-04-11 17:39:44  32 min  5.143 sec  50                 0.066937        0.226175            0.0814146                        0.116727          0.371221              0.14697"
      ]
     },
     "metadata": {},
     "output_type": "display_data"
    },
    {
     "name": "stdout",
     "output_type": "stream",
     "text": [
      "\n",
      "Variable Importances: \n"
     ]
    },
    {
     "data": {
      "text/html": [
       "<div style=\"overflow:auto\"><table style=\"width:50%\"><tr><td><b>variable</b></td>\n",
       "<td><b>relative_importance</b></td>\n",
       "<td><b>scaled_importance</b></td>\n",
       "<td><b>percentage</b></td></tr>\n",
       "<tr><td>cur_domain_letter</td>\n",
       "<td>8618380.0</td>\n",
       "<td>1.0</td>\n",
       "<td>0.1046887</td></tr>\n",
       "<tr><td>prev1_domain_letter</td>\n",
       "<td>7996469.0</td>\n",
       "<td>0.9278390</td>\n",
       "<td>0.0971343</td></tr>\n",
       "<tr><td>next_domain_letter</td>\n",
       "<td>7416616.5</td>\n",
       "<td>0.8605581</td>\n",
       "<td>0.0900907</td></tr>\n",
       "<tr><td>spanlen</td>\n",
       "<td>7415409.5</td>\n",
       "<td>0.8604180</td>\n",
       "<td>0.0900760</td></tr>\n",
       "<tr><td>n_eq_c</td>\n",
       "<td>6866991.5</td>\n",
       "<td>0.7967845</td>\n",
       "<td>0.0834143</td></tr>\n",
       "<tr><td>to_next</td>\n",
       "<td>5061256.0</td>\n",
       "<td>0.5872630</td>\n",
       "<td>0.0614798</td></tr>\n",
       "<tr><td>since_prev1</td>\n",
       "<td>4958816.0</td>\n",
       "<td>0.5753768</td>\n",
       "<td>0.0602354</td></tr>\n",
       "<tr><td>since_cur</td>\n",
       "<td>4621475.5</td>\n",
       "<td>0.5362348</td>\n",
       "<td>0.0561377</td></tr>\n",
       "<tr><td>switchto_in_session_next</td>\n",
       "<td>4566792.5</td>\n",
       "<td>0.5298899</td>\n",
       "<td>0.0554735</td></tr>\n",
       "<tr><td>visits_since_p1</td>\n",
       "<td>4535775.0</td>\n",
       "<td>0.5262909</td>\n",
       "<td>0.0550967</td></tr>\n",
       "<tr><td>switchto_in_session_cur</td>\n",
       "<td>4177031.7500000</td>\n",
       "<td>0.4846655</td>\n",
       "<td>0.0507390</td></tr>\n",
       "<tr><td>switchto_in_session_prev1</td>\n",
       "<td>3851781.7500000</td>\n",
       "<td>0.4469264</td>\n",
       "<td>0.0467881</td></tr>\n",
       "<tr><td>n_eq_p1</td>\n",
       "<td>3733078.2500000</td>\n",
       "<td>0.4331531</td>\n",
       "<td>0.0453462</td></tr>\n",
       "<tr><td>cref_eq_n</td>\n",
       "<td>1611173.0</td>\n",
       "<td>0.1869462</td>\n",
       "<td>0.0195711</td></tr>\n",
       "<tr><td>cref_eq_zero</td>\n",
       "<td>1491886.0</td>\n",
       "<td>0.1731052</td>\n",
       "<td>0.0181222</td></tr>\n",
       "<tr><td>nref_eq_p1</td>\n",
       "<td>1465738.3750000</td>\n",
       "<td>0.1700712</td>\n",
       "<td>0.0178045</td></tr>\n",
       "<tr><td>nref_eq_c</td>\n",
       "<td>1415219.1250000</td>\n",
       "<td>0.1642094</td>\n",
       "<td>0.0171909</td></tr>\n",
       "<tr><td>nref_eq_zero</td>\n",
       "<td>1167819.3750000</td>\n",
       "<td>0.1355034</td>\n",
       "<td>0.0141857</td></tr>\n",
       "<tr><td>cref_eq_c</td>\n",
       "<td>958756.0</td>\n",
       "<td>0.1112455</td>\n",
       "<td>0.0116461</td></tr>\n",
       "<tr><td>cref_eq_p1</td>\n",
       "<td>393418.1875000</td>\n",
       "<td>0.0456487</td>\n",
       "<td>0.0047789</td></tr></table></div>"
      ],
      "text/plain": [
       "variable                   relative_importance    scaled_importance    percentage\n",
       "-------------------------  ---------------------  -------------------  ------------\n",
       "cur_domain_letter          8.61838e+06            1                    0.104689\n",
       "prev1_domain_letter        7.99647e+06            0.927839             0.0971343\n",
       "next_domain_letter         7.41662e+06            0.860558             0.0900907\n",
       "spanlen                    7.41541e+06            0.860418             0.090076\n",
       "n_eq_c                     6.86699e+06            0.796784             0.0834143\n",
       "to_next                    5.06126e+06            0.587263             0.0614798\n",
       "since_prev1                4.95882e+06            0.575377             0.0602354\n",
       "since_cur                  4.62148e+06            0.536235             0.0561377\n",
       "switchto_in_session_next   4.56679e+06            0.52989              0.0554735\n",
       "visits_since_p1            4.53578e+06            0.526291             0.0550967\n",
       "switchto_in_session_cur    4.17703e+06            0.484666             0.050739\n",
       "switchto_in_session_prev1  3.85178e+06            0.446926             0.0467881\n",
       "n_eq_p1                    3.73308e+06            0.433153             0.0453462\n",
       "cref_eq_n                  1.61117e+06            0.186946             0.0195711\n",
       "cref_eq_zero               1.49189e+06            0.173105             0.0181222\n",
       "nref_eq_p1                 1.46574e+06            0.170071             0.0178045\n",
       "nref_eq_c                  1.41522e+06            0.164209             0.0171909\n",
       "nref_eq_zero               1.16782e+06            0.135503             0.0141857\n",
       "cref_eq_c                  958756                 0.111246             0.0116461\n",
       "cref_eq_p1                 393418                 0.0456487            0.00477891"
      ]
     },
     "metadata": {},
     "output_type": "display_data"
    },
    {
     "name": "stdout",
     "output_type": "stream",
     "text": [
      "\n"
     ]
    }
   ],
   "source": [
    "#print classifier"
   ]
  },
  {
   "cell_type": "code",
   "execution_count": 9,
   "metadata": {
    "collapsed": false
   },
   "outputs": [],
   "source": [
    "classifier = load_h2o_model(sdir_path('domainclass_cpn_v78_randomforest_v1.h2o'))"
   ]
  },
  {
   "cell_type": "code",
   "execution_count": 5,
   "metadata": {
    "collapsed": false
   },
   "outputs": [
    {
     "name": "stdout",
     "output_type": "stream",
     "text": [
      "Model Details\n",
      "=============\n",
      "H2ORandomForestEstimator :  Distributed Random Forest\n",
      "Model Key:  DRF_model_python_1460419545971_2\n",
      "\n",
      "Model Summary: \n"
     ]
    },
    {
     "data": {
      "text/html": [
       "<div style=\"overflow:auto\"><table style=\"width:50%\"><tr><td><b></b></td>\n",
       "<td><b>number_of_trees</b></td>\n",
       "<td><b>model_size_in_bytes</b></td>\n",
       "<td><b>min_depth</b></td>\n",
       "<td><b>max_depth</b></td>\n",
       "<td><b>mean_depth</b></td>\n",
       "<td><b>min_leaves</b></td>\n",
       "<td><b>max_leaves</b></td>\n",
       "<td><b>mean_leaves</b></td></tr>\n",
       "<tr><td></td>\n",
       "<td>200.0</td>\n",
       "<td>71921915.0000000</td>\n",
       "<td>20.0</td>\n",
       "<td>20.0</td>\n",
       "<td>20.0</td>\n",
       "<td>15381.0</td>\n",
       "<td>58445.0</td>\n",
       "<td>31037.93</td></tr></table></div>"
      ],
      "text/plain": [
       "    number_of_trees    model_size_in_bytes    min_depth    max_depth    mean_depth    min_leaves    max_leaves    mean_leaves\n",
       "--  -----------------  ---------------------  -----------  -----------  ------------  ------------  ------------  -------------\n",
       "    200                7.19219e+07            20           20           20            15381         58445         31037.9"
      ]
     },
     "metadata": {},
     "output_type": "display_data"
    },
    {
     "name": "stdout",
     "output_type": "stream",
     "text": [
      "\n",
      "\n",
      "ModelMetricsMultinomial: drf\n",
      "** Reported on train data. **\n",
      "\n",
      "MSE: 0.0782211287594\n",
      "R^2: 0.881493319628\n",
      "LogLoss: 0.262965106904\n",
      "\n",
      "Confusion Matrix: vertical: actual; across: predicted\n",
      "\n"
     ]
    },
    {
     "data": {
      "text/html": [
       "<div style=\"overflow:auto\"><table style=\"width:50%\"><tr><td><b>c</b></td>\n",
       "<td><b>n</b></td>\n",
       "<td><b>p1</b></td>\n",
       "<td><b>p2</b></td>\n",
       "<td><b>Error</b></td>\n",
       "<td><b>Rate</b></td></tr>\n",
       "<tr><td>11642672.0000000</td>\n",
       "<td>64185.0</td>\n",
       "<td>19958.0</td>\n",
       "<td>3549.0</td>\n",
       "<td>0.0074756</td>\n",
       "<td>87,692 / 11,730,364</td></tr>\n",
       "<tr><td>411819.0</td>\n",
       "<td>871436.0</td>\n",
       "<td>3464.0</td>\n",
       "<td>1742.0</td>\n",
       "<td>0.3236613</td>\n",
       "<td>417,025 / 1,288,461</td></tr>\n",
       "<tr><td>534197.0</td>\n",
       "<td>6788.0</td>\n",
       "<td>819682.0</td>\n",
       "<td>1287.0</td>\n",
       "<td>0.3981574</td>\n",
       "<td>542,272 / 1,361,954</td></tr>\n",
       "<tr><td>257227.0</td>\n",
       "<td>10458.0</td>\n",
       "<td>9692.0</td>\n",
       "<td>323762.0</td>\n",
       "<td>0.4614191</td>\n",
       "<td>277,377 / 601,139</td></tr>\n",
       "<tr><td>12845915.0000000</td>\n",
       "<td>952867.0</td>\n",
       "<td>852796.0</td>\n",
       "<td>330340.0</td>\n",
       "<td>0.0883976</td>\n",
       "<td>1,324,366 / 14,981,918</td></tr></table></div>"
      ],
      "text/plain": [
       "c            n       p1      p2      Error       Rate\n",
       "-----------  ------  ------  ------  ----------  ----------------------\n",
       "1.16427e+07  64185   19958   3549    0.00747564  87,692 / 11,730,364\n",
       "411819       871436  3464    1742    0.323661    417,025 / 1,288,461\n",
       "534197       6788    819682  1287    0.398157    542,272 / 1,361,954\n",
       "257227       10458   9692    323762  0.461419    277,377 / 601,139\n",
       "1.28459e+07  952867  852796  330340  0.0883976   1,324,366 / 14,981,918"
      ]
     },
     "metadata": {},
     "output_type": "display_data"
    },
    {
     "name": "stdout",
     "output_type": "stream",
     "text": [
      "\n",
      "Top-4 Hit Ratios: \n"
     ]
    },
    {
     "data": {
      "text/html": [
       "<div style=\"overflow:auto\"><table style=\"width:50%\"><tr><td><b>k</b></td>\n",
       "<td><b>hit_ratio</b></td></tr>\n",
       "<tr><td>1</td>\n",
       "<td>0.9116024</td></tr>\n",
       "<tr><td>2</td>\n",
       "<td>0.9890041</td></tr>\n",
       "<tr><td>3</td>\n",
       "<td>0.998328</td></tr>\n",
       "<tr><td>4</td>\n",
       "<td>1.0</td></tr></table></div>"
      ],
      "text/plain": [
       "k    hit_ratio\n",
       "---  -----------\n",
       "1    0.911602\n",
       "2    0.989004\n",
       "3    0.998328\n",
       "4    1"
      ]
     },
     "metadata": {},
     "output_type": "display_data"
    },
    {
     "name": "stdout",
     "output_type": "stream",
     "text": [
      "\n",
      "ModelMetricsMultinomial: drf\n",
      "** Reported on validation data. **\n",
      "\n",
      "MSE: 0.150280495356\n",
      "R^2: 0.750711584281\n",
      "LogLoss: 0.486483021392\n",
      "\n",
      "Confusion Matrix: vertical: actual; across: predicted\n",
      "\n"
     ]
    },
    {
     "data": {
      "text/html": [
       "<div style=\"overflow:auto\"><table style=\"width:50%\"><tr><td><b>c</b></td>\n",
       "<td><b>n</b></td>\n",
       "<td><b>p1</b></td>\n",
       "<td><b>p2</b></td>\n",
       "<td><b>Error</b></td>\n",
       "<td><b>Rate</b></td></tr>\n",
       "<tr><td>10063434.0000000</td>\n",
       "<td>143656.0</td>\n",
       "<td>42045.0</td>\n",
       "<td>5941.0</td>\n",
       "<td>0.0186875</td>\n",
       "<td>191,642 / 10,255,076</td></tr>\n",
       "<tr><td>707542.0</td>\n",
       "<td>293849.0</td>\n",
       "<td>9250.0</td>\n",
       "<td>2430.0</td>\n",
       "<td>0.7099423</td>\n",
       "<td>719,222 / 1,013,071</td></tr>\n",
       "<tr><td>862924.0</td>\n",
       "<td>12486.0</td>\n",
       "<td>158344.0</td>\n",
       "<td>2332.0</td>\n",
       "<td>0.8471710</td>\n",
       "<td>877,742 / 1,036,086</td></tr>\n",
       "<tr><td>407935.0</td>\n",
       "<td>20881.0</td>\n",
       "<td>11268.0</td>\n",
       "<td>13596.0</td>\n",
       "<td>0.9700317</td>\n",
       "<td>440,084 / 453,680</td></tr>\n",
       "<tr><td>12041835.0000000</td>\n",
       "<td>470872.0</td>\n",
       "<td>220907.0</td>\n",
       "<td>24299.0</td>\n",
       "<td>0.1746908</td>\n",
       "<td>2,228,690 / 12,757,913</td></tr></table></div>"
      ],
      "text/plain": [
       "c            n       p1      p2     Error      Rate\n",
       "-----------  ------  ------  -----  ---------  ----------------------\n",
       "1.00634e+07  143656  42045   5941   0.0186875  191,642 / 10,255,076\n",
       "707542       293849  9250    2430   0.709942   719,222 / 1,013,071\n",
       "862924       12486   158344  2332   0.847171   877,742 / 1,036,086\n",
       "407935       20881   11268   13596  0.970032   440,084 / 453,680\n",
       "1.20418e+07  470872  220907  24299  0.174691   2,228,690 / 12,757,913"
      ]
     },
     "metadata": {},
     "output_type": "display_data"
    },
    {
     "name": "stdout",
     "output_type": "stream",
     "text": [
      "\n",
      "Top-4 Hit Ratios: \n"
     ]
    },
    {
     "data": {
      "text/html": [
       "<div style=\"overflow:auto\"><table style=\"width:50%\"><tr><td><b>k</b></td>\n",
       "<td><b>hit_ratio</b></td></tr>\n",
       "<tr><td>1</td>\n",
       "<td>0.8253092</td></tr>\n",
       "<tr><td>2</td>\n",
       "<td>0.9480619</td></tr>\n",
       "<tr><td>3</td>\n",
       "<td>0.9903827</td></tr>\n",
       "<tr><td>4</td>\n",
       "<td>1.0</td></tr></table></div>"
      ],
      "text/plain": [
       "k    hit_ratio\n",
       "---  -----------\n",
       "1    0.825309\n",
       "2    0.948062\n",
       "3    0.990383\n",
       "4    1"
      ]
     },
     "metadata": {},
     "output_type": "display_data"
    },
    {
     "name": "stdout",
     "output_type": "stream",
     "text": [
      "\n",
      "Scoring History: \n"
     ]
    },
    {
     "data": {
      "text/html": [
       "<div style=\"overflow:auto\"><table style=\"width:50%\"><tr><td><b></b></td>\n",
       "<td><b>timestamp</b></td>\n",
       "<td><b>duration</b></td>\n",
       "<td><b>number_of_trees</b></td>\n",
       "<td><b>training_MSE</b></td>\n",
       "<td><b>training_logloss</b></td>\n",
       "<td><b>training_classification_error</b></td>\n",
       "<td><b>validation_MSE</b></td>\n",
       "<td><b>validation_logloss</b></td>\n",
       "<td><b>validation_classification_error</b></td></tr>\n",
       "<tr><td></td>\n",
       "<td>2016-04-11 17:53:28</td>\n",
       "<td> 0.061 sec</td>\n",
       "<td>0.0</td>\n",
       "<td>nan</td>\n",
       "<td>nan</td>\n",
       "<td>nan</td>\n",
       "<td>1.0</td>\n",
       "<td>34.5387764</td>\n",
       "<td>0.3549737</td></tr>\n",
       "<tr><td></td>\n",
       "<td>2016-04-11 17:54:39</td>\n",
       "<td> 1 min 10.668 sec</td>\n",
       "<td>1.0</td>\n",
       "<td>0.1062941</td>\n",
       "<td>1.0394665</td>\n",
       "<td>0.1162346</td>\n",
       "<td>0.1945589</td>\n",
       "<td>2.8798296</td>\n",
       "<td>0.2180245</td></tr>\n",
       "<tr><td></td>\n",
       "<td>2016-04-11 17:58:54</td>\n",
       "<td> 5 min 25.725 sec</td>\n",
       "<td>5.0</td>\n",
       "<td>0.0957386</td>\n",
       "<td>0.5631885</td>\n",
       "<td>0.1074589</td>\n",
       "<td>0.1551917</td>\n",
       "<td>0.5798543</td>\n",
       "<td>0.1805556</td></tr>\n",
       "<tr><td></td>\n",
       "<td>2016-04-11 18:08:58</td>\n",
       "<td>15 min 29.117 sec</td>\n",
       "<td>14.0</td>\n",
       "<td>0.0832787</td>\n",
       "<td>0.2899711</td>\n",
       "<td>0.0940798</td>\n",
       "<td>0.1517542</td>\n",
       "<td>0.5009007</td>\n",
       "<td>0.1762968</td></tr>\n",
       "<tr><td></td>\n",
       "<td>2016-04-11 18:35:34</td>\n",
       "<td>42 min  5.116 sec</td>\n",
       "<td>39.0</td>\n",
       "<td>0.0785275</td>\n",
       "<td>0.2639451</td>\n",
       "<td>0.0886154</td>\n",
       "<td>0.1504130</td>\n",
       "<td>0.4878886</td>\n",
       "<td>0.1749810</td></tr>\n",
       "<tr><td></td>\n",
       "<td>2016-04-11 18:54:06</td>\n",
       "<td> 1:00:37.137</td>\n",
       "<td>50.0</td>\n",
       "<td>0.0782211</td>\n",
       "<td>0.2629651</td>\n",
       "<td>0.0883976</td>\n",
       "<td>0.1502805</td>\n",
       "<td>0.4864830</td>\n",
       "<td>0.1746908</td></tr></table></div>"
      ],
      "text/plain": [
       "    timestamp            duration           number_of_trees    training_MSE    training_logloss    training_classification_error    validation_MSE    validation_logloss    validation_classification_error\n",
       "--  -------------------  -----------------  -----------------  --------------  ------------------  -------------------------------  ----------------  --------------------  ---------------------------------\n",
       "    2016-04-11 17:53:28  0.061 sec          0                  nan             nan                 nan                              1                 34.5388               0.354974\n",
       "    2016-04-11 17:54:39  1 min 10.668 sec   1                  0.106294        1.03947             0.116235                         0.194559          2.87983               0.218025\n",
       "    2016-04-11 17:58:54  5 min 25.725 sec   5                  0.0957386       0.563189            0.107459                         0.155192          0.579854              0.180556\n",
       "    2016-04-11 18:08:58  15 min 29.117 sec  14                 0.0832787       0.289971            0.0940798                        0.151754          0.500901              0.176297\n",
       "    2016-04-11 18:35:34  42 min  5.116 sec  39                 0.0785275       0.263945            0.0886154                        0.150413          0.487889              0.174981\n",
       "    2016-04-11 18:54:06  1:00:37.137        50                 0.0782211       0.262965            0.0883976                        0.15028           0.486483              0.174691"
      ]
     },
     "metadata": {},
     "output_type": "display_data"
    },
    {
     "name": "stdout",
     "output_type": "stream",
     "text": [
      "\n",
      "Variable Importances: \n"
     ]
    },
    {
     "data": {
      "text/html": [
       "<div style=\"overflow:auto\"><table style=\"width:50%\"><tr><td><b>variable</b></td>\n",
       "<td><b>relative_importance</b></td>\n",
       "<td><b>scaled_importance</b></td>\n",
       "<td><b>percentage</b></td></tr>\n",
       "<tr><td>cur_domain_letter</td>\n",
       "<td>9510330.0</td>\n",
       "<td>1.0</td>\n",
       "<td>0.0945520</td></tr>\n",
       "<tr><td>prev1_domain_letter</td>\n",
       "<td>8392055.0</td>\n",
       "<td>0.8824147</td>\n",
       "<td>0.0834341</td></tr>\n",
       "<tr><td>next_domain_letter</td>\n",
       "<td>7633569.5</td>\n",
       "<td>0.8026608</td>\n",
       "<td>0.0758932</td></tr>\n",
       "<tr><td>spanlen</td>\n",
       "<td>7452972.5</td>\n",
       "<td>0.7836713</td>\n",
       "<td>0.0740977</td></tr>\n",
       "<tr><td>prev2_domain_letter</td>\n",
       "<td>7020345.5</td>\n",
       "<td>0.7381811</td>\n",
       "<td>0.0697965</td></tr>\n",
       "<tr><td>---</td>\n",
       "<td>---</td>\n",
       "<td>---</td>\n",
       "<td>---</td></tr>\n",
       "<tr><td>n_eq_p2</td>\n",
       "<td>1089774.3750000</td>\n",
       "<td>0.1145885</td>\n",
       "<td>0.0108346</td></tr>\n",
       "<tr><td>cref_eq_c</td>\n",
       "<td>1012878.6250000</td>\n",
       "<td>0.1065030</td>\n",
       "<td>0.0100701</td></tr>\n",
       "<tr><td>nref_eq_p2</td>\n",
       "<td>640573.9375000</td>\n",
       "<td>0.0673556</td>\n",
       "<td>0.0063686</td></tr>\n",
       "<tr><td>cref_eq_p1</td>\n",
       "<td>413341.9375000</td>\n",
       "<td>0.0434624</td>\n",
       "<td>0.0041095</td></tr>\n",
       "<tr><td>cref_eq_p2</td>\n",
       "<td>102584.1875000</td>\n",
       "<td>0.0107866</td>\n",
       "<td>0.0010199</td></tr></table></div>"
      ],
      "text/plain": [
       "variable             relative_importance    scaled_importance    percentage\n",
       "-------------------  ---------------------  -------------------  ----------------\n",
       "cur_domain_letter    9510330.0              1.0                  0.0945520443846\n",
       "prev1_domain_letter  8392055.0              0.882414700647       0.0834341139411\n",
       "next_domain_letter   7633569.5              0.802660843525       0.0758932237027\n",
       "spanlen              7452972.5              0.783671281648       0.0740977218054\n",
       "prev2_domain_letter  7020345.5              0.738181062066       0.0697965285443\n",
       "---                  ---                    ---                  ---\n",
       "n_eq_p2              1089774.375            0.114588492197       0.0108345762002\n",
       "cref_eq_c            1012878.625            0.106502994638       0.0100700758761\n",
       "nref_eq_p2           640573.9375            0.0673555951791      0.00636860922493\n",
       "cref_eq_p1           413341.9375            0.0434624179708      0.00410946047303\n",
       "cref_eq_p2           102584.1875            0.010786606511       0.00101989569759"
      ]
     },
     "metadata": {},
     "output_type": "display_data"
    },
    {
     "name": "stdout",
     "output_type": "stream",
     "text": [
      "\n"
     ]
    }
   ],
   "source": [
    "print classifier"
   ]
  },
  {
   "cell_type": "code",
   "execution_count": 11,
   "metadata": {
    "collapsed": false
   },
   "outputs": [
    {
     "name": "stdout",
     "output_type": "stream",
     "text": [
      "[(u'cur_domain_letter', 9510330.0, 1.0, 0.0945520443845848), (u'prev1_domain_letter', 8392055.0, 0.8824147006465601, 0.08343411394114365), (u'next_domain_letter', 7633569.5, 0.802660843524883, 0.075893223702733), (u'spanlen', 7452972.5, 0.7836712816484812, 0.07409772180535165), (u'prev2_domain_letter', 7020345.5, 0.7381810620661954, 0.06979652854434286), (u'n_eq_c', 6193563.5, 0.6512459083964489, 0.06157663203598028), (u'to_next', 5242589.5, 0.5512521121769697, 0.052122014177652956), (u'since_cur', 5113725.0, 0.5377021617546395, 0.05084083866391186), (u'since_prev2', 4348893.5, 0.4572810302061022, 0.043236856264276036), (u'since_prev1', 4203444.0, 0.4419871865645041, 0.04179079208146475), (u'visits_since_p1', 4150081.5, 0.43637618252994376, 0.04126026017894692), (u'switchto_in_session_next', 3941879.25, 0.4144839611243774, 0.03919030588893065), (u'switchto_in_session_cur', 3844495.5, 0.40424417449236777, 0.0382221131288122), (u'visits_since_p2', 3485527.5, 0.36649911201819496, 0.03465324030645529), (u'n_eq_p1', 3402651.0, 0.3577847456397412, 0.033829279149856194), (u'switchto_in_session_prev1', 3174608.5, 0.3338063453108357, 0.03156207237768618), (u'switchto_in_session_prev2', 2427411.0, 0.255239408096249, 0.02413340784301169), (u'nref_eq_c', 2034084.625, 0.21388160295173775, 0.02022294281533885), (u'cref_eq_zero', 1712448.25, 0.18006191688406187, 0.017025222357195235), (u'cref_eq_n', 1441450.625, 0.15156683574597307, 0.014330954180684318), (u'nref_eq_p1', 1439698.0, 0.1513825492911392, 0.014313529519627392), (u'nref_eq_zero', 1158041.375, 0.12176668685524056, 0.011513289180100545), (u'n_eq_p2', 1089774.375, 0.11458849219743164, 0.010834576200214205), (u'cref_eq_c', 1012878.625, 0.10650299463846155, 0.010070075876147012), (u'nref_eq_p2', 640573.9375, 0.06735559517913679, 0.006368609224927868), (u'cref_eq_p1', 413341.9375, 0.043462417970774936, 0.004109460473034088), (u'cref_eq_p2', 102584.1875, 0.010786606511025379, 0.001019895697589523)]\n"
     ]
    }
   ],
   "source": [
    "print classifier.varimp()"
   ]
  },
  {
   "cell_type": "code",
   "execution_count": 14,
   "metadata": {
    "collapsed": true
   },
   "outputs": [],
   "source": [
    "def get_total_items_actual():\n",
    "  return 13836775\n",
    "\n",
    "def get_total_items_attempted(classifier):\n",
    "  output = 0\n",
    "  m = classifier.confusion_matrix().to_list()\n",
    "  for i in range(len(m)):\n",
    "    output += sum(m[i])\n",
    "  return output\n",
    "\n",
    "def get_num_correctly_classified(classifier):\n",
    "  output = 0\n",
    "  m = classifier.confusion_matrix().to_list()\n",
    "  for i in range(len(m)):\n",
    "    output += m[i][i]\n",
    "  return output"
   ]
  },
  {
   "cell_type": "code",
   "execution_count": 95,
   "metadata": {
    "collapsed": true
   },
   "outputs": [],
   "source": [
    "def obj_recursive_search(obj, v):\n",
    "  try:\n",
    "    for k in dir(obj):\n",
    "      try:\n",
    "        if getattr(obj, k) == v:\n",
    "          print 'Found'\n",
    "          return True\n",
    "      except:\n",
    "        continue\n",
    "    for k in dir(obj):\n",
    "      nv = getattr(obj, k)\n",
    "      if obj_recursive_search(nv, v):\n",
    "        return True\n",
    "    return False\n",
    "  except:\n",
    "    return False"
   ]
  },
  {
   "cell_type": "code",
   "execution_count": null,
   "metadata": {
    "collapsed": false
   },
   "outputs": [],
   "source": [
    "print obj_recursive_search(classifier, 'model_performance')"
   ]
  },
  {
   "cell_type": "code",
   "execution_count": 5,
   "metadata": {
    "collapsed": false
   },
   "outputs": [],
   "source": [
    "#a=repr(classifier)\n",
    "\n",
    "#print dir(classifier.score_history)\n",
    "#print classifier.score_history\n",
    "#print (classifier.model_performance)"
   ]
  },
  {
   "cell_type": "code",
   "execution_count": 89,
   "metadata": {
    "collapsed": false
   },
   "outputs": [
    {
     "name": "stdout",
     "output_type": "stream",
     "text": [
      "\n"
     ]
    }
   ],
   "source": [
    "print a"
   ]
  },
  {
   "cell_type": "code",
   "execution_count": 66,
   "metadata": {
    "collapsed": false
   },
   "outputs": [
    {
     "name": "stdout",
     "output_type": "stream",
     "text": [
      "13014539\n",
      "13784643\n",
      "13836775\n",
      "0.940576037408\n",
      "0.944133192278\n",
      "0.996232359058\n"
     ]
    }
   ],
   "source": [
    "#print classifier.confusion_matrix().to_list()\n",
    "print get_num_correctly_classified(classifier)\n",
    "print get_total_items_attempted(classifier)\n",
    "print get_total_items_actual()\n",
    "print get_num_correctly_classified(classifier) / float(get_total_items_actual())\n",
    "print get_num_correctly_classified(classifier) / float(get_total_items_attempted(classifier))\n",
    "print get_total_items_attempted(classifier) / float(get_total_items_actual())"
   ]
  },
  {
   "cell_type": "code",
   "execution_count": 69,
   "metadata": {
    "collapsed": false
   },
   "outputs": [
    {
     "data": {
      "text/plain": [
       "0.7309243664076347"
      ]
     },
     "execution_count": 69,
     "metadata": {},
     "output_type": "execute_result"
    }
   ],
   "source": [
    "(9298518.0+815118.0)/13836775"
   ]
  },
  {
   "cell_type": "code",
   "execution_count": 12,
   "metadata": {
    "collapsed": false
   },
   "outputs": [],
   "source": [
    "baseline_correct = 0\n",
    "first_line = True\n",
    "for line in csv.reader(sdir_open('domainclass_cpn_test_all_withdomain_v12.csv')):\n",
    "  if first_line:\n",
    "    first_line = False\n",
    "    continue\n",
    "  if line[3] == 'c':\n",
    "    baseline_correct += 1\n"
   ]
  },
  {
   "cell_type": "code",
   "execution_count": 15,
   "metadata": {
    "collapsed": false
   },
   "outputs": [
    {
     "name": "stdout",
     "output_type": "stream",
     "text": [
      "0.741146401528\n"
     ]
    }
   ],
   "source": [
    "print baseline_correct / float(get_total_items_actual())"
   ]
  },
  {
   "cell_type": "code",
   "execution_count": 5,
   "metadata": {
    "collapsed": false
   },
   "outputs": [
    {
     "name": "stdout",
     "output_type": "stream",
     "text": [
      "\n",
      "Parse Progress: [##################################################] 100%\n"
     ]
    }
   ],
   "source": [
    "test_data = h2o.import_file(sdir_path('domainclass_cpn_test_v1.csv'))\n"
   ]
  },
  {
   "cell_type": "code",
   "execution_count": 6,
   "metadata": {
    "collapsed": false
   },
   "outputs": [
    {
     "name": "stdout",
     "output_type": "stream",
     "text": [
      "\n",
      "drf prediction Progress: [##################################################] 100%\n"
     ]
    }
   ],
   "source": [
    "test_predictions = classifier.predict(test_data)"
   ]
  },
  {
   "cell_type": "code",
   "execution_count": 1,
   "metadata": {
    "collapsed": false
   },
   "outputs": [
    {
     "ename": "NameError",
     "evalue": "name 'test_predictions' is not defined",
     "output_type": "error",
     "traceback": [
      "\u001b[1;31m---------------------------------------------------------------------------\u001b[0m",
      "\u001b[1;31mNameError\u001b[0m                                 Traceback (most recent call last)",
      "\u001b[1;32m<ipython-input-1-ef4dc90a6c21>\u001b[0m in \u001b[0;36m<module>\u001b[1;34m()\u001b[0m\n\u001b[1;32m----> 1\u001b[1;33m \u001b[1;32mprint\u001b[0m \u001b[0mtest_predictions\u001b[0m\u001b[1;33m\u001b[0m\u001b[0m\n\u001b[0m",
      "\u001b[1;31mNameError\u001b[0m: name 'test_predictions' is not defined"
     ]
    }
   ],
   "source": [
    "print test_predictions"
   ]
  }
 ],
 "metadata": {
  "kernelspec": {
   "display_name": "Python 2",
   "language": "python",
   "name": "python2"
  },
  "language_info": {
   "codemirror_mode": {
    "name": "ipython",
    "version": 2
   },
   "file_extension": ".py",
   "mimetype": "text/x-python",
   "name": "python",
   "nbconvert_exporter": "python",
   "pygments_lexer": "ipython2",
   "version": "2.7.6"
  }
 },
 "nbformat": 4,
 "nbformat_minor": 0
}
