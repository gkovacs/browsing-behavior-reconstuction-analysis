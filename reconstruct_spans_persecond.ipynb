{
 "cells": [
  {
   "cell_type": "code",
   "execution_count": 4,
   "metadata": {
    "collapsed": false
   },
   "outputs": [
    {
     "data": {
      "text/plain": [
       "0"
      ]
     },
     "execution_count": 4,
     "metadata": {},
     "output_type": "execute_result"
    }
   ],
   "source": [
    "# noexport\n",
    "\n",
    "import os\n",
    "os.system('export_notebook reconstruct_spans_persecond.ipynb')"
   ]
  },
  {
   "cell_type": "code",
   "execution_count": 2,
   "metadata": {
    "collapsed": false
   },
   "outputs": [],
   "source": [
    "from tmilib import *\n",
    "\n",
    "from reconstruct_focus_times_common import *\n",
    "from sorted_collection import SortedCollection\n",
    "from rescuetime_utils import *\n",
    "\n",
    "import sklearn\n",
    "import sklearn.svm\n",
    "import sklearn.linear_model\n",
    "import sklearn.ensemble\n",
    "import sklearn.naive_bayes\n",
    "import sklearn.tree\n",
    "\n",
    "from math import log\n",
    "\n",
    "import datetime\n",
    "import time\n",
    "\n",
    "import cPickle as pickle"
   ]
  },
  {
   "cell_type": "code",
   "execution_count": null,
   "metadata": {
    "collapsed": true
   },
   "outputs": [],
   "source": [
    "import sys"
   ]
  },
  {
   "cell_type": "code",
   "execution_count": 3,
   "metadata": {
    "collapsed": true
   },
   "outputs": [],
   "source": [
    "training_users = get_training_users()\n",
    "test_users = get_test_users()"
   ]
  },
  {
   "cell_type": "code",
   "execution_count": 4,
   "metadata": {
    "collapsed": false
   },
   "outputs": [],
   "source": [
    "#print domain_to_id('www.facebook.com')\n",
    "#print id_to_domain(29708)"
   ]
  },
  {
   "cell_type": "code",
   "execution_count": null,
   "metadata": {
    "collapsed": true
   },
   "outputs": [],
   "source": []
  },
  {
   "cell_type": "code",
   "execution_count": 5,
   "metadata": {
    "collapsed": true
   },
   "outputs": [],
   "source": [
    "\n",
    "\n",
    "def extract_secondlevel_dataset_from_users(users):\n",
    "  all_labels = []\n",
    "  all_sinceprev = []\n",
    "  all_tonext = []\n",
    "  all_fromdomain = []\n",
    "  all_todomain = []\n",
    "  for user in users:\n",
    "    data = extract_secondlevel_dataset_from_user(user)\n",
    "    all_labels.extend(data['label'])\n",
    "    all_sinceprev.extend(data['sinceprev'])\n",
    "    all_tonext.extend(data['tonext'])\n",
    "    all_fromdomain.extend(data['fromdomain'])\n",
    "    all_todomain.extend(data['todomain'])\n",
    "  return {\n",
    "    'label': all_labels,\n",
    "    'sinceprev': all_sinceprev,\n",
    "    'tonext': all_tonext,\n",
    "    'fromdomain': all_fromdomain,\n",
    "    'todomain': all_todomain,\n",
    "  }\n",
    "\n",
    "@jsonmemoized\n",
    "def extract_secondlevel_dataset_for_training():\n",
    "  return extract_secondlevel_dataset_from_users(training_users)\n",
    "\n",
    "@jsonmemoized\n",
    "def extract_secondlevel_dataset_for_test():\n",
    "  return extract_secondlevel_dataset_from_users(test_users)\n"
   ]
  },
  {
   "cell_type": "code",
   "execution_count": 6,
   "metadata": {
    "collapsed": true
   },
   "outputs": [],
   "source": [
    "def extract_tensecondlevel_dataset_from_users(users):\n",
    "  all_labels = []\n",
    "  all_sinceprev = []\n",
    "  all_tonext = []\n",
    "  all_fromdomain = []\n",
    "  all_todomain = []\n",
    "  for user in users:\n",
    "    data = extract_secondlevel_dataset_from_user(user, True)\n",
    "    all_labels.extend(data['label'])\n",
    "    all_sinceprev.extend(data['sinceprev'])\n",
    "    all_tonext.extend(data['tonext'])\n",
    "    all_fromdomain.extend(data['fromdomain'])\n",
    "    all_todomain.extend(data['todomain'])\n",
    "  return {\n",
    "    'label': all_labels,\n",
    "    'sinceprev': all_sinceprev,\n",
    "    'tonext': all_tonext,\n",
    "    'fromdomain': all_fromdomain,\n",
    "    'todomain': all_todomain,\n",
    "  }\n",
    "\n",
    "@jsonmemoized\n",
    "def extract_tensecondlevel_dataset_for_training():\n",
    "  return extract_tensecondlevel_dataset_from_users(training_users)\n",
    "\n",
    "@jsonmemoized\n",
    "def extract_tensecondlevel_dataset_for_test():\n",
    "  return extract_tensecondlevel_dataset_from_users(test_users)\n"
   ]
  },
  {
   "cell_type": "code",
   "execution_count": null,
   "metadata": {
    "collapsed": true
   },
   "outputs": [],
   "source": []
  },
  {
   "cell_type": "code",
   "execution_count": 7,
   "metadata": {
    "collapsed": false
   },
   "outputs": [],
   "source": [
    "#a=extract_secondlevel_training_data_from_user(training_users[0])\n",
    "#print 'extracting dataset for training'\n",
    "#extract_secondlevel_dataset_for_training()\n",
    "#extract_tensecondlevel_dataset_for_training()\n",
    "#print 'extracting dataset for test'\n",
    "#extract_secondlevel_dataset_for_test()\n",
    "#extract_tensecondlevel_dataset_for_test()\n",
    "#print 'extraction done'"
   ]
  },
  {
   "cell_type": "code",
   "execution_count": 8,
   "metadata": {
    "collapsed": false
   },
   "outputs": [],
   "source": [
    "#print zipkeys({'a':[3,4,5], 'b':[6,7,8]}, 'a', 'b')"
   ]
  },
  {
   "cell_type": "code",
   "execution_count": 9,
   "metadata": {
    "collapsed": false
   },
   "outputs": [
    {
     "data": {
      "text/plain": [
       "'\\n@memoized\\ndef total_usage_of_domains_in_training():\\n  return sum_values_in_list_of_dict([get_domain_to_time_spent_for_user(user)for user in training_users])\\n\\n@memoized\\ndef top_n_domains_by_usage(n=10):\\n  domain_to_usage = total_usage_of_domains_in_training()\\n  return [x[0] for x in sorted(domain_to_usage.items(), key=itemgetter(1), reverse=True)[:n]]\\n'"
      ]
     },
     "execution_count": 9,
     "metadata": {},
     "output_type": "execute_result"
    }
   ],
   "source": [
    "'''\n",
    "@memoized\n",
    "def total_usage_of_domains_in_training():\n",
    "  return sum_values_in_list_of_dict([get_domain_to_time_spent_for_user(user)for user in training_users])\n",
    "\n",
    "@memoized\n",
    "def top_n_domains_by_usage(n=10):\n",
    "  domain_to_usage = total_usage_of_domains_in_training()\n",
    "  return [x[0] for x in sorted(domain_to_usage.items(), key=itemgetter(1), reverse=True)[:n]]\n",
    "'''\n"
   ]
  },
  {
   "cell_type": "code",
   "execution_count": 10,
   "metadata": {
    "collapsed": false
   },
   "outputs": [],
   "source": [
    "#print top_n_domains_by_visits()"
   ]
  },
  {
   "cell_type": "code",
   "execution_count": 11,
   "metadata": {
    "collapsed": false
   },
   "outputs": [],
   "source": [
    "#print top_n_domains_by_usage(10)\n",
    "#print top_n_domains_by_usage(5)"
   ]
  },
  {
   "cell_type": "code",
   "execution_count": 12,
   "metadata": {
    "collapsed": false
   },
   "outputs": [],
   "source": [
    "#print domain_to_id('newtab')"
   ]
  },
  {
   "cell_type": "code",
   "execution_count": 13,
   "metadata": {
    "collapsed": false
   },
   "outputs": [],
   "source": [
    "'''\n",
    "def dataset_to_feature_vectors(dataset):\n",
    "  topdomains = numpy.array([domain_to_id(x) for x in top_n_domains_by_visits(20)])\n",
    "  num_features = 3 + 2*len(topdomains) + 2*len(get_rescuetime_productivity_levels())\n",
    "  output = [[0]*num_features for x in xrange(len(dataset['sinceprev']))]\n",
    "  #output = numpy.zeros((len(dataset['sinceprev']), num_features), dtype=object) # object instead of float, so we can have floats and ints\n",
    "  for idx,sinceprev,tonext,fromdomain,todomain in zipkeys_idx(dataset, 'sinceprev', 'tonext', 'fromdomain', 'todomain'):\n",
    "    cur = output[idx]\n",
    "    cur[0] = sinceprev\n",
    "    cur[1] = tonext\n",
    "    cur[2] = int(fromdomain == todomain)\n",
    "    feature_num = 3\n",
    "    for domain_idx,domain in enumerate(topdomains):\n",
    "      cur[feature_num+domain_idx] = int(fromdomain == domain)\n",
    "    feature_num += len(topdomains)\n",
    "    for domain_idx,domain in enumerate(topdomains):\n",
    "      cur[feature_num+domain_idx] = int(todomain == domain)\n",
    "    feature_num += len(topdomains)\n",
    "    fromdomain_name = id_to_domain(fromdomain)\n",
    "    todomain_name = id_to_domain(todomain)\n",
    "    fromdomain_productivity = domain_to_productivity(fromdomain_name)\n",
    "    todomain_productivity = domain_to_productivity(todomain_name)\n",
    "    for productivity_idx,productivity in enumerate(get_rescuetime_productivity_levels()):\n",
    "      cur[feature_num+productivity_idx] = int(fromdomain_productivity == productivity)\n",
    "    feature_num += len(get_rescuetime_productivity_levels())\n",
    "    for productivity_idx,productivity in enumerate(get_rescuetime_productivity_levels()):\n",
    "      cur[feature_num+productivity_idx] = int(todomain_productivity == productivity)\n",
    "    feature_num += len(get_rescuetime_productivity_levels())\n",
    "  return output\n",
    "'''\n",
    "\n",
    "def remove_cached_features():\n",
    "  os.remove('get_test_feature_vector.msgpack')\n",
    "  os.remove('get_training_feature_vector.msgpack')\n",
    "  #os.remove('get_test_labels.msgpack')\n",
    "  #os.remove('get_training_labels.msgpack')\n"
   ]
  },
  {
   "cell_type": "code",
   "execution_count": 14,
   "metadata": {
    "collapsed": true
   },
   "outputs": [],
   "source": [
    "#remove_cached_features()"
   ]
  },
  {
   "cell_type": "code",
   "execution_count": 15,
   "metadata": {
    "collapsed": false
   },
   "outputs": [
    {
     "data": {
      "text/plain": [
       "\"\\n@msgpackmemoized\\ndef get_training_feature_vector():\\n  return dataset_to_feature_vectors(extract_tensecondlevel_dataset_for_training())\\n\\n@msgpackmemoized\\ndef get_training_labels():\\n  return extract_tensecondlevel_dataset_for_training()['label']\\n\\n@msgpackmemoized\\ndef get_test_feature_vector():\\n  return dataset_to_feature_vectors(extract_tensecondlevel_dataset_for_test())\\n\\n@msgpackmemoized\\ndef get_test_labels():\\n  return extract_tensecondlevel_dataset_for_test()['label']\\n\""
      ]
     },
     "execution_count": 15,
     "metadata": {},
     "output_type": "execute_result"
    }
   ],
   "source": [
    "'''\n",
    "@msgpackmemoized\n",
    "def get_training_feature_vector():\n",
    "  return dataset_to_feature_vectors(extract_tensecondlevel_dataset_for_training())\n",
    "\n",
    "@msgpackmemoized\n",
    "def get_training_labels():\n",
    "  return extract_tensecondlevel_dataset_for_training()['label']\n",
    "\n",
    "@msgpackmemoized\n",
    "def get_test_feature_vector():\n",
    "  return dataset_to_feature_vectors(extract_tensecondlevel_dataset_for_test())\n",
    "\n",
    "@msgpackmemoized\n",
    "def get_test_labels():\n",
    "  return extract_tensecondlevel_dataset_for_test()['label']\n",
    "'''"
   ]
  },
  {
   "cell_type": "code",
   "execution_count": 16,
   "metadata": {
    "collapsed": true
   },
   "outputs": [],
   "source": [
    "'''\n",
    "def train_classifier_on_data(training_data):\n",
    "  #classifier = sklearn.tree.DecisionTreeClassifier(max_depth=2) # .71 on test\n",
    "  #classifier = sklearn.tree.DecisionTreeClassifier(max_depth=1)\n",
    "  #classifier = sklearn.tree.DecisionTreeClassifier()\n",
    "  #classifier = sklearn.naive_bayes.GaussianNB() # .73 on test\n",
    "  #classifier = sklearn.svm.LinearSVC()\n",
    "  #classifier = sklearn.linear_model.SGDClassifier(class_weight='balanced')\n",
    "  classifier = sklearn.linear_model.SGDClassifier(loss='modified_huber') # .73 on test\n",
    "  classifier.fit(dataset_to_feature_vectors(training_data), numpy.array(training_data['label']))\n",
    "  return classifier\n",
    "\n",
    "def get_classifier():\n",
    "  return train_classifier_on_data(extract_tensecondlevel_dataset_for_training())\n",
    "'''\n",
    "\n",
    "#global_feature_filter = '11100000000000000000000000000000000000000000000000000'\n",
    "global_feature_filter = '1'*53\n",
    "\n",
    "def get_feature_filter():\n",
    "  return global_feature_filter\n",
    "  #return '11000000000000000000000000000000000000000000000000000'\n",
    "  #return '11111111111111111111111111111111111111111111111111111'\n",
    "  #return '11100000000000000000000000000000000000000000000000000'\n",
    "  #selected_features = [1, 1, 1, 0, 0, 0, 0, 0, 0, 0, 0, 0, 0, 0, 0, 0, 0, 0, 0, 0, 0, 0, 0, 0, 0, 0, 0, 0, 0, 0, 0, 0, 0, 0, 0, 0, 0, 0, 0, 0, 0, 0, 0, 0, 0, 0, 0, 0, 0, 0, 0, 0, 0]\n",
    "  #selected_features = [1, 1, 1, 0, 0, 0, 0, 0, 0, 0, 0, 0, 0, 0, 0, 0, 0, 0, 0, 0, 0, 0, 0, 0, 0, 0, 0, 0, 0, 0, 0, 0, 0, 0, 0, 0, 0, 0, 0, 0, 0, 0, 0, 0, 0, 0, 0, 0, 0, 0, 0, 0, 0]\n",
    "  #selected_features = [1, 1, 1, 0, 0, 0, 0, 0, 0, 0, 0, 0, 0, 0, 0, 0, 0, 0, 0, 0, 0, 0, 0, 0, 0, 0, 0, 0, 0, 0, 0, 0, 0, 0, 0, 0, 0, 0, 0, 0, 0, 0, 0, 0, 0, 0, 0, 0, 0, 0, 0, 0, 0]\n",
    "  #selected_features = [1, 1, 0, 0, 0, 0, 0, 0, 0, 0, 0, 0, 0, 0, 0, 0, 0, 0, 0, 0, 0, 0, 0, 0, 0, 0, 0, 0, 0, 0, 0, 0, 0, 0, 0, 0, 0, 0, 0, 0, 0, 0, 0, 0, 0, 0, 0, 0, 0, 0, 0, 0, 0]\n",
    "  #selected_features = [1, 0, 0, 0, 0, 0, 1, 0, 0, 0, 0, 0, 0, 1, 0, 0, 1, 0, 0, 0, 0, 1, 0, 0, 0, 0, 1, 0, 0, 0, 1, 1, 1, 0, 0, 0, 0, 0, 0, 1, 0, 0, 0, 0, 0, 0, 0, 0, 0, 0, 0, 0, 0]\n",
    "  #selected_features = [1, 1, 1, 0, 0, 0, 0, 0, 0, 0, 0, 0, 0, 0, 0, 0, 0, 0, 0, 0, 0, 0, 0, 0, 0, 0, 0, 0, 0, 0, 0, 0, 0, 0, 0, 0, 0, 0, 0, 0, 0, 0, 0]\n",
    "  #selected_features = [1, 0, 0, 0, 0, 0, 1, 0, 0, 0, 0, 1, 0, 1, 0, 0, 1, 0, 0, 0, 0, 1, 0, 0, 0, 0, 1, 0, 0, 0, 1, 0, 1, 0, 0, 0, 0, 0, 0, 1, 0, 0, 0]\n",
    "  #selected_features = [1, 1, 1, 0, 0, 0, 0, 0, 0, 0, 0, 0, 0, 0, 0, 0, 0, 0, 0, 0, 0, 0, 0, 1, 0, 0, 0, 0, 0, 0, 0, 0, 0, 0, 0, 0, 0, 0, 0, 0, 0, 0, 0]\n",
    "  #selected_features = [1, 1, 1, 0, 0, 0, 0, 0, 0, 0, 0, 0, 0, 0, 0, 0, 0, 0, 0, 1, 0, 1, 0, 1, 1, 0, 0, 0, 1, 1, 0, 0, 0, 0, 0, 1, 0, 0, 0, 1, 0, 0, 0]\n",
    "  #selected_features = [1, 1, 1, 0, 0, 0, 0, 0, 0, 0, 0, 0, 0, 0, 0, 0, 0, 0, 0, 0, 0, 0, 0, 0, 0, 0, 0, 0, 0, 0, 0, 0, 0, 0, 0, 0, 1, 1, 1, 1, 1, 1, 1]\n",
    "  #selected_features = [True,False,True,False,False,False,False,True,True,False,True,False]\n",
    "  return ''.join(map(str, selected_features))\n",
    "\n",
    "'''\n",
    "def get_filtered_features():\n",
    "  selected_features = get_feature_filter()\n",
    "  selected_features_str = ''.join(map(str, selected_features))\n",
    "  selected_features_filename = 'filtered_features_' + selected_features_str + '.msgpack'\n",
    "  if path.exists(selected_features_filename):\n",
    "    #return numpy.loadtxt()\n",
    "    #return json.load(open(selected_features_filename))\n",
    "    return msgpack.load(open(selected_features_filename))\n",
    "  output = filter_features(get_training_feature_vector())\n",
    "  msgpack.dump(output, open(selected_features_filename, 'w'))\n",
    "  #json.dump(output, open(selected_features_filename, 'w'))\n",
    "  return output\n",
    "'''\n",
    "\n",
    "'''\n",
    "def get_filtered_features_train():\n",
    "  selected_features = get_feature_filter()\n",
    "  selected_features_str = ''.join(map(str, selected_features))\n",
    "  selected_features_filename = 'features_train_' + selected_features_str + '.msgpack'\n",
    "  if path.exists(selected_features_filename):\n",
    "    return msgpack.load(open(selected_features_filename))\n",
    "  output = dataset_to_feature_vectors(extract_tensecondlevel_dataset_for_training(), selected_features)\n",
    "  msgpack.dump(output, open(selected_features_filename, 'w'))\n",
    "  return output\n",
    "\n",
    "def get_filtered_features_test():\n",
    "  selected_features = get_feature_filter()\n",
    "  selected_features_str = ''.join(map(str, selected_features))\n",
    "  selected_features_filename = 'features_test_' + selected_features_str + '.msgpack'\n",
    "  if path.exists(selected_features_filename):\n",
    "    return msgpack.load(open(selected_features_filename))\n",
    "  output = dataset_to_feature_vectors(extract_tensecondlevel_dataset_for_test(), selected_features)\n",
    "  msgpack.dump(output, open(selected_features_filename, 'w'))\n",
    "  return output\n",
    "'''\n",
    "\n",
    "is_second = len(sys.argv) > 1 and sys.argv[1] == 'second'\n",
    "print 'is_second: ' + str(is_second)\n",
    "\n",
    "@memoized\n",
    "def get_filtered_features_train():\n",
    "  selected_features = get_feature_filter()\n",
    "  if is_second:\n",
    "    return numpy.array(get_feature_vector_for_secondlevel_train(selected_features))\n",
    "  return numpy.array(get_feature_vector_for_tensecondlevel_train(selected_features))\n",
    "\n",
    "@memoized\n",
    "def get_filtered_features_test():\n",
    "  selected_features = get_feature_filter()\n",
    "  if is_second:\n",
    "    return numpy.array(get_feature_vector_for_secondlevel_test(selected_features))\n",
    "  return numpy.array(get_feature_vector_for_tensecondlevel_test(selected_features))\n",
    "\n",
    "@memoized\n",
    "def get_test_labels():\n",
    "  if is_second:\n",
    "    return numpy.array(get_labels_for_secondlevel_test())\n",
    "  return numpy.array(get_labels_for_tensecondlevel_test())\n",
    "\n",
    "@memoized\n",
    "def get_training_labels():\n",
    "  if is_second:\n",
    "    return numpy.array(get_labels_for_secondlevel_train())\n",
    "  return numpy.array(get_labels_for_tensecondlevel_train())\n",
    "\n",
    "#def get_labels_for_user(user):\n",
    "#  return get_tensecondlevel_activespan_labels_for_user(user)\n",
    "\n",
    "'''\n",
    "# we normally want to use the tensecond level ones\n",
    "def get_filtered_features_train():\n",
    "  selected_features = get_feature_filter()\n",
    "  return get_feature_vector_for_secondlevel_train(selected_features)\n",
    "\n",
    "def get_filtered_features_test():\n",
    "  selected_features = get_feature_filter()\n",
    "  return get_feature_vector_for_secondlevel_test(selected_features)\n",
    "\n",
    "def get_test_labels():\n",
    "  return get_labels_for_secondlevel_test()\n",
    "\n",
    "def get_training_labels():\n",
    "  return get_labels_for_secondlevel_train()\n",
    "\n",
    "def get_labels_for_user(user):\n",
    "  return get_secondlevel_activespan_labels_for_user(user)\n",
    "'''\n",
    "\n",
    "\n",
    "'''\n",
    "def filter_features(arr):\n",
    "  # from get_selected_features()\n",
    "  selected_features = get_feature_filter()\n",
    "  #selected_feature_idx = [i for i,x in enumerate(selected_features) if x]\n",
    "  #return arr[:,selected_feature_idx]\n",
    "  output = []\n",
    "  for line in arr:\n",
    "    output.append([line[i] for i,x in enumerate(selected_features) if x])\n",
    "    #output.append([x for i,x in enumerate(line) if selected_features[i]])\n",
    "  return output\n",
    "'''\n",
    "\n",
    "#classifier_algorithm = sklearn.ensemble.AdaBoostClassifier\n",
    "\n",
    "def get_classifier():\n",
    "  #classifier = sklearn.naive_bayes.GaussianNB()\n",
    "  #classifier = sklearn.linear_model.SGDClassifier(loss='modified_huber') # .73 on test\n",
    "  #classifier = sklearn.linear_model.SGDClassifier()\n",
    "  #classifier = sklearn.ensemble.RandomForestClassifier()\n",
    "  #classifier = sklearn.ensemble.AdaBoostClassifier()\n",
    "  #classifier = sklearn.ensemble.GradientBoostingClassifier()\n",
    "  classifier = classifier_algorithm()\n",
    "  classifier.fit(get_filtered_features_train(), get_training_labels())\n",
    "  return classifier"
   ]
  },
  {
   "cell_type": "code",
   "execution_count": 17,
   "metadata": {
    "collapsed": false
   },
   "outputs": [
    {
     "name": "stdout",
     "output_type": "stream",
     "text": [
      "feature_vector_for_tensecondlevel_insession_train/11100000000000000000000000000000000000000000000000000.json\n",
      "tensecondlevel_activespan_dataset_insession_for_user/g34wuNJgSm.json\n",
      "insession_seconds_for_user/g34wuNJgSm.json\n",
      "tensecondlevel_activespan_dataset_insession_for_user/qM6L9Z5Ss9.json\n",
      "insession_seconds_for_user/qM6L9Z5Ss9.json\n",
      "tensecondlevel_activespan_dataset_insession_for_user/8QkC8G5H2H.json\n",
      "insession_seconds_for_user/8QkC8G5H2H.json\n",
      "tensecondlevel_activespan_dataset_insession_for_user/qsSxPV131T.json\n",
      "insession_seconds_for_user/qsSxPV131T.json\n",
      "tensecondlevel_activespan_dataset_insession_for_user/3aWG01QnPf.json\n",
      "insession_seconds_for_user/3aWG01QnPf.json\n",
      "tensecondlevel_activespan_dataset_insession_for_user/xtOJXxtOqe.json\n",
      "insession_seconds_for_user/xtOJXxtOqe.json\n",
      "tensecondlevel_activespan_dataset_insession_for_user/apytwOyBle.json\n",
      "insession_seconds_for_user/apytwOyBle.json\n",
      "tensecondlevel_activespan_dataset_insession_for_user/fx8NZArV8y.json\n",
      "insession_seconds_for_user/fx8NZArV8y.json\n",
      "tensecondlevel_activespan_dataset_insession_for_user/sEFFqggDAp.json\n",
      "insession_seconds_for_user/sEFFqggDAp.json\n",
      "tensecondlevel_activespan_dataset_insession_for_user/q589WvazlK.json\n",
      "insession_seconds_for_user/q589WvazlK.json\n",
      "tensecondlevel_activespan_dataset_insession_for_user/nYeXJLKoUm.json\n",
      "insession_seconds_for_user/nYeXJLKoUm.json\n",
      "tensecondlevel_activespan_dataset_insession_for_user/89uAYhqXqL.json\n",
      "insession_seconds_for_user/89uAYhqXqL.json\n",
      "tensecondlevel_activespan_dataset_insession_for_user/b3NWn44W69.json\n",
      "insession_seconds_for_user/b3NWn44W69.json\n",
      "tensecondlevel_activespan_dataset_insession_for_user/V8VCDqL7Sm.json\n",
      "insession_seconds_for_user/V8VCDqL7Sm.json\n",
      "tensecondlevel_activespan_dataset_insession_for_user/QM7GFqLIYB.json\n",
      "insession_seconds_for_user/QM7GFqLIYB.json\n",
      "tensecondlevel_activespan_dataset_insession_for_user/OQZ2XlXq2F.json\n",
      "insession_seconds_for_user/OQZ2XlXq2F.json\n",
      "tensecondlevel_activespan_dataset_insession_for_user/Re25RopoXx.json\n",
      "insession_seconds_for_user/Re25RopoXx.json\n",
      "tensecondlevel_activespan_dataset_insession_for_user/XqdAvyooV5.json\n",
      "insession_seconds_for_user/XqdAvyooV5.json\n",
      "tensecondlevel_activespan_dataset_insession_for_user/NPrpJqWMkb.json\n",
      "insession_seconds_for_user/NPrpJqWMkb.json\n",
      "tensecondlevel_activespan_dataset_insession_for_user/XHyA0IcHIX.json\n",
      "insession_seconds_for_user/XHyA0IcHIX.json\n",
      "tensecondlevel_activespan_dataset_insession_for_user/fblHu0OZkZ.json\n",
      "insession_seconds_for_user/fblHu0OZkZ.json\n",
      "tensecondlevel_activespan_dataset_insession_for_user/o30E6A3d3o.json\n",
      "insession_seconds_for_user/o30E6A3d3o.json\n",
      "tensecondlevel_activespan_dataset_insession_for_user/Oc1iqDqhTN.json\n",
      "insession_seconds_for_user/Oc1iqDqhTN.json\n",
      "tensecondlevel_activespan_dataset_insession_for_user/sXuYR7xPL2.json\n",
      "insession_seconds_for_user/sXuYR7xPL2.json\n",
      "tensecondlevel_activespan_dataset_insession_for_user/pOYN6mJH0T.json\n",
      "insession_seconds_for_user/pOYN6mJH0T.json\n",
      "tensecondlevel_activespan_dataset_insession_for_user/qVpbz10wnQ.json\n",
      "insession_seconds_for_user/qVpbz10wnQ.json\n",
      "tensecondlevel_activespan_dataset_insession_for_user/PwBfIrHd8Z.json\n",
      "insession_seconds_for_user/PwBfIrHd8Z.json\n",
      "tensecondlevel_activespan_dataset_insession_for_user/q9TQALCrVo.json\n",
      "insession_seconds_for_user/q9TQALCrVo.json\n",
      "tensecondlevel_activespan_dataset_insession_for_user/0sDxoGSuf6.json\n",
      "insession_seconds_for_user/0sDxoGSuf6.json\n",
      "tensecondlevel_activespan_dataset_insession_for_user/I7pqdKa4NJ.json\n",
      "insession_seconds_for_user/I7pqdKa4NJ.json\n",
      "tensecondlevel_activespan_dataset_insession_for_user/qYSuZxSVNC.json\n",
      "insession_seconds_for_user/qYSuZxSVNC.json\n",
      "tensecondlevel_activespan_dataset_insession_for_user/fmFkk3ur1N.json\n",
      "insession_seconds_for_user/fmFkk3ur1N.json\n",
      "tensecondlevel_activespan_dataset_insession_for_user/8c3d0IF3zD.json\n",
      "insession_seconds_for_user/8c3d0IF3zD.json\n",
      "tensecondlevel_activespan_dataset_insession_for_user/E53DGPZ188.json\n",
      "insession_seconds_for_user/E53DGPZ188.json\n",
      "tensecondlevel_activespan_dataset_insession_for_user/8ngKlSW0Wv.json\n",
      "insession_seconds_for_user/8ngKlSW0Wv.json\n",
      "tensecondlevel_activespan_dataset_insession_for_user/qVSOPmVR59.json\n",
      "insession_seconds_for_user/qVSOPmVR59.json\n",
      "tensecondlevel_activespan_dataset_insession_for_user/NHtxolRPTS.json\n",
      "insession_seconds_for_user/NHtxolRPTS.json\n",
      "tensecondlevel_activespan_dataset_insession_for_user/4546ZN0A5f.json\n",
      "insession_seconds_for_user/4546ZN0A5f.json\n",
      "tensecondlevel_activespan_dataset_insession_for_user/rlWaaPKvSX.json\n",
      "insession_seconds_for_user/rlWaaPKvSX.json\n",
      "tensecondlevel_activespan_dataset_insession_for_user/LvC0lAqsGl.json\n",
      "insession_seconds_for_user/LvC0lAqsGl.json\n",
      "tensecondlevel_activespan_dataset_insession_for_user/VYfLv7b8hg.json\n",
      "insession_seconds_for_user/VYfLv7b8hg.json\n",
      "tensecondlevel_activespan_dataset_insession_for_user/dwCCD1uofp.json\n",
      "insession_seconds_for_user/dwCCD1uofp.json\n",
      "tensecondlevel_activespan_dataset_insession_for_user/ehkM3inRFq.json\n",
      "insession_seconds_for_user/ehkM3inRFq.json\n",
      "tensecondlevel_activespan_dataset_insession_for_user/oHo0KJayR3.json\n",
      "insession_seconds_for_user/oHo0KJayR3.json\n",
      "tensecondlevel_activespan_dataset_insession_for_user/TfAZTnnzST.json\n",
      "insession_seconds_for_user/TfAZTnnzST.json\n",
      "tensecondlevel_activespan_dataset_insession_for_user/xDhU4lHDlP.json\n",
      "insession_seconds_for_user/xDhU4lHDlP.json\n",
      "tensecondlevel_activespan_dataset_insession_for_user/KS6zl4omuv.json\n",
      "insession_seconds_for_user/KS6zl4omuv.json\n",
      "tensecondlevel_activespan_dataset_insession_for_user/aMoAdTi22n.json\n",
      "insession_seconds_for_user/aMoAdTi22n.json\n",
      "tensecondlevel_activespan_dataset_insession_for_user/pEUnqUDtBT.json\n",
      "insession_seconds_for_user/pEUnqUDtBT.json\n",
      "tensecondlevel_activespan_dataset_insession_for_user/THH9Ar2ypm.json\n",
      "insession_seconds_for_user/THH9Ar2ypm.json\n",
      "tensecondlevel_activespan_dataset_insession_for_user/Nf91QP2i7x.json\n",
      "insession_seconds_for_user/Nf91QP2i7x.json\n",
      "tensecondlevel_activespan_dataset_insession_for_user/4ZbDxUSz5z.json\n",
      "insession_seconds_for_user/4ZbDxUSz5z.json\n",
      "tensecondlevel_activespan_dataset_insession_for_user/b8DDWibd85.json\n",
      "insession_seconds_for_user/b8DDWibd85.json\n",
      "tensecondlevel_activespan_dataset_insession_for_user/PfcYy82N2O.json\n",
      "insession_seconds_for_user/PfcYy82N2O.json\n",
      "tensecondlevel_activespan_dataset_insession_for_user/EU6AdYpVvP.json\n",
      "insession_seconds_for_user/EU6AdYpVvP.json\n",
      "tensecondlevel_activespan_dataset_insession_for_user/O3Zx6P958u.json\n",
      "insession_seconds_for_user/O3Zx6P958u.json\n",
      "tensecondlevel_activespan_dataset_insession_for_user/yrH3HQNrho.json\n",
      "insession_seconds_for_user/yrH3HQNrho.json\n",
      "tensecondlevel_activespan_dataset_insession_for_user/hGCJGBh8Ah.json\n",
      "insession_seconds_for_user/hGCJGBh8Ah.json\n",
      "tensecondlevel_activespan_dataset_insession_for_user/KTJOgTS6K4.json\n",
      "insession_seconds_for_user/KTJOgTS6K4.json\n",
      "tensecondlevel_activespan_dataset_insession_for_user/MLancLTOqE.json\n",
      "insession_seconds_for_user/MLancLTOqE.json\n",
      "tensecondlevel_activespan_dataset_insession_for_user/Y0KTMpMY6x.json\n",
      "insession_seconds_for_user/Y0KTMpMY6x.json\n",
      "tensecondlevel_activespan_dataset_insession_for_user/pNiXtUQkEz.json\n",
      "insession_seconds_for_user/pNiXtUQkEz.json\n",
      "tensecondlevel_activespan_dataset_insession_for_user/9NMeyGG4Dc.json\n",
      "insession_seconds_for_user/9NMeyGG4Dc.json\n",
      "tensecondlevel_activespan_dataset_insession_for_user/DGhdRc6hcE.json\n",
      "insession_seconds_for_user/DGhdRc6hcE.json\n",
      "tensecondlevel_activespan_dataset_insession_for_user/2bK78oKaW6.json\n",
      "insession_seconds_for_user/2bK78oKaW6.json\n",
      "tensecondlevel_activespan_dataset_insession_for_user/6lkHBDiou2.json\n",
      "insession_seconds_for_user/6lkHBDiou2.json\n",
      "tensecondlevel_activespan_dataset_insession_for_user/ZqYweFWTDB.json\n",
      "insession_seconds_for_user/ZqYweFWTDB.json\n",
      "tensecondlevel_activespan_dataset_insession_for_user/XyJ4fbLuxp.json\n",
      "insession_seconds_for_user/XyJ4fbLuxp.json\n",
      "tensecondlevel_activespan_dataset_insession_for_user/7fg6XHTfAp.json\n",
      "insession_seconds_for_user/7fg6XHTfAp.json\n",
      "tensecondlevel_activespan_dataset_insession_for_user/HfLuMki1JN.json\n",
      "insession_seconds_for_user/HfLuMki1JN.json\n",
      "tensecondlevel_activespan_dataset_insession_for_user/4qWTb2hyaL.json\n",
      "insession_seconds_for_user/4qWTb2hyaL.json\n",
      "tensecondlevel_activespan_dataset_insession_for_user/RHPAsraTxD.json\n",
      "insession_seconds_for_user/RHPAsraTxD.json\n",
      "tensecondlevel_activespan_dataset_insession_for_user/XasdQ0RMDo.json\n",
      "insession_seconds_for_user/XasdQ0RMDo.json\n",
      "tensecondlevel_activespan_dataset_insession_for_user/LkAJvBy8fA.json\n",
      "insession_seconds_for_user/LkAJvBy8fA.json\n",
      "tensecondlevel_activespan_dataset_insession_for_user/CpkJ8L4Xwg.json\n",
      "insession_seconds_for_user/CpkJ8L4Xwg.json\n",
      "tensecondlevel_activespan_dataset_insession_for_user/XFH3VkbR3W.json\n",
      "insession_seconds_for_user/XFH3VkbR3W.json\n",
      "tensecondlevel_activespan_dataset_insession_for_user/i1VbZ3etn4.json\n",
      "insession_seconds_for_user/i1VbZ3etn4.json\n",
      "tensecondlevel_activespan_dataset_insession_for_user/yvAg28ridg.json\n",
      "insession_seconds_for_user/yvAg28ridg.json\n",
      "tensecondlevel_activespan_dataset_insession_for_user/QUgoBB7Rp4.json\n",
      "insession_seconds_for_user/QUgoBB7Rp4.json\n",
      "tensecondlevel_activespan_dataset_insession_for_user/HUduBl984Q.json\n",
      "insession_seconds_for_user/HUduBl984Q.json\n",
      "tensecondlevel_activespan_dataset_insession_for_user/OtHgO83x97.json\n",
      "insession_seconds_for_user/OtHgO83x97.json\n",
      "tensecondlevel_activespan_dataset_insession_for_user/VXKLcUCkFv.json\n",
      "insession_seconds_for_user/VXKLcUCkFv.json\n",
      "tensecondlevel_activespan_dataset_insession_for_user/7JOMMv7Kqf.json\n",
      "insession_seconds_for_user/7JOMMv7Kqf.json\n",
      "tensecondlevel_activespan_dataset_insession_for_user/XepiGGFf3W.json\n",
      "insession_seconds_for_user/XepiGGFf3W.json\n",
      "tensecondlevel_activespan_dataset_insession_for_user/hDDqPeyL7R.json\n",
      "insession_seconds_for_user/hDDqPeyL7R.json\n",
      "tensecondlevel_activespan_dataset_insession_for_user/2JilVuENVz.json\n",
      "insession_seconds_for_user/2JilVuENVz.json\n",
      "tensecondlevel_activespan_dataset_insession_for_user/khps2gAfwV.json\n",
      "insession_seconds_for_user/khps2gAfwV.json\n",
      "tensecondlevel_activespan_dataset_insession_for_user/y9QE4DHHJN.json\n",
      "insession_seconds_for_user/y9QE4DHHJN.json\n",
      "tensecondlevel_activespan_dataset_insession_for_user/nRansgMcBn.json\n",
      "insession_seconds_for_user/nRansgMcBn.json\n",
      "tensecondlevel_activespan_dataset_insession_for_user/GXaxkQQNgE.json\n",
      "insession_seconds_for_user/GXaxkQQNgE.json\n",
      "tensecondlevel_activespan_dataset_insession_for_user/kT7S3wmYZO.json\n",
      "insession_seconds_for_user/kT7S3wmYZO.json\n",
      "tensecondlevel_activespan_dataset_insession_for_user/cLsK8oQYmZ.json\n",
      "insession_seconds_for_user/cLsK8oQYmZ.json\n",
      "tensecondlevel_activespan_dataset_insession_for_user/00LnQeq1SQ.json\n",
      "insession_seconds_for_user/00LnQeq1SQ.json\n",
      "2969217\n",
      "tensecondlevel_activespan_dataset_insession_labels_for_user/g34wuNJgSm.json\n",
      "tensecondlevel_activespan_dataset_insession_labels_for_user/qM6L9Z5Ss9.json\n",
      "tensecondlevel_activespan_dataset_insession_labels_for_user/8QkC8G5H2H.json\n",
      "tensecondlevel_activespan_dataset_insession_labels_for_user/qsSxPV131T.json\n",
      "tensecondlevel_activespan_dataset_insession_labels_for_user/3aWG01QnPf.json\n",
      "tensecondlevel_activespan_dataset_insession_labels_for_user/xtOJXxtOqe.json\n",
      "tensecondlevel_activespan_dataset_insession_labels_for_user/apytwOyBle.json\n",
      "tensecondlevel_activespan_dataset_insession_labels_for_user/fx8NZArV8y.json\n",
      "tensecondlevel_activespan_dataset_insession_labels_for_user/sEFFqggDAp.json\n",
      "tensecondlevel_activespan_dataset_insession_labels_for_user/q589WvazlK.json\n",
      "tensecondlevel_activespan_dataset_insession_labels_for_user/nYeXJLKoUm.json\n",
      "tensecondlevel_activespan_dataset_insession_labels_for_user/89uAYhqXqL.json\n",
      "tensecondlevel_activespan_dataset_insession_labels_for_user/b3NWn44W69.json\n",
      "tensecondlevel_activespan_dataset_insession_labels_for_user/V8VCDqL7Sm.json\n",
      "tensecondlevel_activespan_dataset_insession_labels_for_user/QM7GFqLIYB.json\n",
      "tensecondlevel_activespan_dataset_insession_labels_for_user/OQZ2XlXq2F.json\n",
      "tensecondlevel_activespan_dataset_insession_labels_for_user/Re25RopoXx.json\n",
      "tensecondlevel_activespan_dataset_insession_labels_for_user/XqdAvyooV5.json\n",
      "tensecondlevel_activespan_dataset_insession_labels_for_user/NPrpJqWMkb.json\n",
      "tensecondlevel_activespan_dataset_insession_labels_for_user/XHyA0IcHIX.json\n",
      "tensecondlevel_activespan_dataset_insession_labels_for_user/fblHu0OZkZ.json\n",
      "tensecondlevel_activespan_dataset_insession_labels_for_user/o30E6A3d3o.json\n",
      "tensecondlevel_activespan_dataset_insession_labels_for_user/Oc1iqDqhTN.json\n",
      "tensecondlevel_activespan_dataset_insession_labels_for_user/sXuYR7xPL2.json\n",
      "tensecondlevel_activespan_dataset_insession_labels_for_user/pOYN6mJH0T.json\n",
      "tensecondlevel_activespan_dataset_insession_labels_for_user/qVpbz10wnQ.json\n",
      "tensecondlevel_activespan_dataset_insession_labels_for_user/PwBfIrHd8Z.json\n",
      "tensecondlevel_activespan_dataset_insession_labels_for_user/q9TQALCrVo.json\n",
      "tensecondlevel_activespan_dataset_insession_labels_for_user/0sDxoGSuf6.json\n",
      "tensecondlevel_activespan_dataset_insession_labels_for_user/I7pqdKa4NJ.json\n",
      "tensecondlevel_activespan_dataset_insession_labels_for_user/qYSuZxSVNC.json\n",
      "tensecondlevel_activespan_dataset_insession_labels_for_user/fmFkk3ur1N.json\n",
      "tensecondlevel_activespan_dataset_insession_labels_for_user/8c3d0IF3zD.json\n",
      "tensecondlevel_activespan_dataset_insession_labels_for_user/E53DGPZ188.json\n",
      "tensecondlevel_activespan_dataset_insession_labels_for_user/8ngKlSW0Wv.json\n",
      "tensecondlevel_activespan_dataset_insession_labels_for_user/qVSOPmVR59.json\n",
      "tensecondlevel_activespan_dataset_insession_labels_for_user/NHtxolRPTS.json\n",
      "tensecondlevel_activespan_dataset_insession_labels_for_user/4546ZN0A5f.json\n",
      "tensecondlevel_activespan_dataset_insession_labels_for_user/rlWaaPKvSX.json\n",
      "tensecondlevel_activespan_dataset_insession_labels_for_user/LvC0lAqsGl.json\n",
      "tensecondlevel_activespan_dataset_insession_labels_for_user/VYfLv7b8hg.json\n",
      "tensecondlevel_activespan_dataset_insession_labels_for_user/dwCCD1uofp.json\n",
      "tensecondlevel_activespan_dataset_insession_labels_for_user/ehkM3inRFq.json\n",
      "tensecondlevel_activespan_dataset_insession_labels_for_user/oHo0KJayR3.json\n",
      "tensecondlevel_activespan_dataset_insession_labels_for_user/TfAZTnnzST.json\n",
      "tensecondlevel_activespan_dataset_insession_labels_for_user/xDhU4lHDlP.json\n",
      "tensecondlevel_activespan_dataset_insession_labels_for_user/KS6zl4omuv.json\n",
      "tensecondlevel_activespan_dataset_insession_labels_for_user/aMoAdTi22n.json\n",
      "tensecondlevel_activespan_dataset_insession_labels_for_user/pEUnqUDtBT.json\n",
      "tensecondlevel_activespan_dataset_insession_labels_for_user/THH9Ar2ypm.json\n",
      "tensecondlevel_activespan_dataset_insession_labels_for_user/Nf91QP2i7x.json\n",
      "tensecondlevel_activespan_dataset_insession_labels_for_user/4ZbDxUSz5z.json\n",
      "tensecondlevel_activespan_dataset_insession_labels_for_user/b8DDWibd85.json\n",
      "tensecondlevel_activespan_dataset_insession_labels_for_user/PfcYy82N2O.json\n",
      "tensecondlevel_activespan_dataset_insession_labels_for_user/EU6AdYpVvP.json\n",
      "tensecondlevel_activespan_dataset_insession_labels_for_user/O3Zx6P958u.json\n",
      "tensecondlevel_activespan_dataset_insession_labels_for_user/yrH3HQNrho.json\n",
      "tensecondlevel_activespan_dataset_insession_labels_for_user/hGCJGBh8Ah.json\n",
      "tensecondlevel_activespan_dataset_insession_labels_for_user/KTJOgTS6K4.json\n",
      "tensecondlevel_activespan_dataset_insession_labels_for_user/MLancLTOqE.json\n",
      "tensecondlevel_activespan_dataset_insession_labels_for_user/Y0KTMpMY6x.json\n",
      "tensecondlevel_activespan_dataset_insession_labels_for_user/pNiXtUQkEz.json\n",
      "tensecondlevel_activespan_dataset_insession_labels_for_user/9NMeyGG4Dc.json\n",
      "tensecondlevel_activespan_dataset_insession_labels_for_user/DGhdRc6hcE.json\n",
      "tensecondlevel_activespan_dataset_insession_labels_for_user/2bK78oKaW6.json\n",
      "tensecondlevel_activespan_dataset_insession_labels_for_user/6lkHBDiou2.json\n",
      "tensecondlevel_activespan_dataset_insession_labels_for_user/ZqYweFWTDB.json\n",
      "tensecondlevel_activespan_dataset_insession_labels_for_user/XyJ4fbLuxp.json\n",
      "tensecondlevel_activespan_dataset_insession_labels_for_user/7fg6XHTfAp.json\n",
      "tensecondlevel_activespan_dataset_insession_labels_for_user/HfLuMki1JN.json\n",
      "tensecondlevel_activespan_dataset_insession_labels_for_user/4qWTb2hyaL.json\n",
      "tensecondlevel_activespan_dataset_insession_labels_for_user/RHPAsraTxD.json\n",
      "tensecondlevel_activespan_dataset_insession_labels_for_user/XasdQ0RMDo.json\n",
      "tensecondlevel_activespan_dataset_insession_labels_for_user/LkAJvBy8fA.json\n",
      "tensecondlevel_activespan_dataset_insession_labels_for_user/CpkJ8L4Xwg.json\n",
      "tensecondlevel_activespan_dataset_insession_labels_for_user/XFH3VkbR3W.json\n",
      "tensecondlevel_activespan_dataset_insession_labels_for_user/i1VbZ3etn4.json\n",
      "tensecondlevel_activespan_dataset_insession_labels_for_user/yvAg28ridg.json\n",
      "tensecondlevel_activespan_dataset_insession_labels_for_user/QUgoBB7Rp4.json\n",
      "tensecondlevel_activespan_dataset_insession_labels_for_user/HUduBl984Q.json\n",
      "tensecondlevel_activespan_dataset_insession_labels_for_user/OtHgO83x97.json\n",
      "tensecondlevel_activespan_dataset_insession_labels_for_user/VXKLcUCkFv.json\n",
      "tensecondlevel_activespan_dataset_insession_labels_for_user/7JOMMv7Kqf.json\n",
      "tensecondlevel_activespan_dataset_insession_labels_for_user/XepiGGFf3W.json\n",
      "tensecondlevel_activespan_dataset_insession_labels_for_user/hDDqPeyL7R.json\n",
      "tensecondlevel_activespan_dataset_insession_labels_for_user/2JilVuENVz.json\n",
      "tensecondlevel_activespan_dataset_insession_labels_for_user/khps2gAfwV.json\n",
      "tensecondlevel_activespan_dataset_insession_labels_for_user/y9QE4DHHJN.json\n",
      "tensecondlevel_activespan_dataset_insession_labels_for_user/nRansgMcBn.json\n",
      "tensecondlevel_activespan_dataset_insession_labels_for_user/GXaxkQQNgE.json\n",
      "tensecondlevel_activespan_dataset_insession_labels_for_user/kT7S3wmYZO.json\n",
      "tensecondlevel_activespan_dataset_insession_labels_for_user/cLsK8oQYmZ.json\n",
      "tensecondlevel_activespan_dataset_insession_labels_for_user/00LnQeq1SQ.json\n",
      "2969217\n",
      "feature_vector_for_tensecondlevel_insession_test/11100000000000000000000000000000000000000000000000000.json\n",
      "tensecondlevel_activespan_dataset_insession_for_user/UrZvGUsI8N.json\n",
      "insession_seconds_for_user/UrZvGUsI8N.json\n",
      "tensecondlevel_activespan_dataset_insession_for_user/3a3FX1s9S6.json\n",
      "insession_seconds_for_user/3a3FX1s9S6.json\n",
      "tensecondlevel_activespan_dataset_insession_for_user/N3buswFgSO.json\n",
      "insession_seconds_for_user/N3buswFgSO.json\n",
      "tensecondlevel_activespan_dataset_insession_for_user/IAm4ofgNKb.json\n",
      "insession_seconds_for_user/IAm4ofgNKb.json\n",
      "tensecondlevel_activespan_dataset_insession_for_user/r6qiC7PoI1.json\n",
      "insession_seconds_for_user/r6qiC7PoI1.json\n",
      "tensecondlevel_activespan_dataset_insession_for_user/dwBGfodTyh.json\n",
      "insession_seconds_for_user/dwBGfodTyh.json\n",
      "tensecondlevel_activespan_dataset_insession_for_user/2e7ex5t0MT.json\n",
      "insession_seconds_for_user/2e7ex5t0MT.json\n",
      "tensecondlevel_activespan_dataset_insession_for_user/MUHeUeRBTJ.json\n",
      "insession_seconds_for_user/MUHeUeRBTJ.json\n",
      "tensecondlevel_activespan_dataset_insession_for_user/qgV6lFlkSa.json\n",
      "insession_seconds_for_user/qgV6lFlkSa.json\n",
      "tensecondlevel_activespan_dataset_insession_for_user/ZiXJx6z1Rl.json\n",
      "insession_seconds_for_user/ZiXJx6z1Rl.json\n",
      "tensecondlevel_activespan_dataset_insession_for_user/60qS4pDWkC.json\n",
      "insession_seconds_for_user/60qS4pDWkC.json\n",
      "tensecondlevel_activespan_dataset_insession_for_user/S6XIUa9DJ8.json\n",
      "insession_seconds_for_user/S6XIUa9DJ8.json\n",
      "tensecondlevel_activespan_dataset_insession_for_user/ZXWhHg9RZG.json\n",
      "insession_seconds_for_user/ZXWhHg9RZG.json\n",
      "tensecondlevel_activespan_dataset_insession_for_user/YV8FroJtoa.json\n",
      "insession_seconds_for_user/YV8FroJtoa.json\n",
      "tensecondlevel_activespan_dataset_insession_for_user/BuBH95V40k.json\n",
      "insession_seconds_for_user/BuBH95V40k.json\n",
      "tensecondlevel_activespan_dataset_insession_for_user/ol9VMVbVHN.json\n",
      "insession_seconds_for_user/ol9VMVbVHN.json\n",
      "tensecondlevel_activespan_dataset_insession_for_user/c4se1PqOgx.json\n",
      "insession_seconds_for_user/c4se1PqOgx.json\n",
      "tensecondlevel_activespan_dataset_insession_for_user/ZHflKVDwN1.json\n",
      "insession_seconds_for_user/ZHflKVDwN1.json\n",
      "tensecondlevel_activespan_dataset_insession_for_user/ZewScTWpQH.json\n",
      "insession_seconds_for_user/ZewScTWpQH.json\n",
      "tensecondlevel_activespan_dataset_insession_for_user/Hdx9yNR4un.json\n",
      "insession_seconds_for_user/Hdx9yNR4un.json\n",
      "tensecondlevel_activespan_dataset_insession_for_user/Hi2YFQFFRX.json\n",
      "insession_seconds_for_user/Hi2YFQFFRX.json\n",
      "tensecondlevel_activespan_dataset_insession_for_user/4KS43rsxAD.json\n",
      "insession_seconds_for_user/4KS43rsxAD.json\n",
      "tensecondlevel_activespan_dataset_insession_for_user/XkKl68D8WC.json\n",
      "insession_seconds_for_user/XkKl68D8WC.json\n",
      "tensecondlevel_activespan_dataset_insession_for_user/qFfhJueo4f.json\n",
      "insession_seconds_for_user/qFfhJueo4f.json\n",
      "tensecondlevel_activespan_dataset_insession_for_user/Cfu7zsLzxH.json\n",
      "insession_seconds_for_user/Cfu7zsLzxH.json\n",
      "tensecondlevel_activespan_dataset_insession_for_user/CUkQIMI9zA.json\n",
      "insession_seconds_for_user/CUkQIMI9zA.json\n",
      "tensecondlevel_activespan_dataset_insession_for_user/CTm8XotZoZ.json\n",
      "insession_seconds_for_user/CTm8XotZoZ.json\n",
      "tensecondlevel_activespan_dataset_insession_for_user/gVvfiSW3is.json\n",
      "insession_seconds_for_user/gVvfiSW3is.json\n",
      "tensecondlevel_activespan_dataset_insession_for_user/3JDp0OuLv4.json\n",
      "insession_seconds_for_user/3JDp0OuLv4.json\n",
      "tensecondlevel_activespan_dataset_insession_for_user/iYLwIL7JHg.json\n",
      "insession_seconds_for_user/iYLwIL7JHg.json\n",
      "tensecondlevel_activespan_dataset_insession_for_user/20ciww1zVP.json\n",
      "insession_seconds_for_user/20ciww1zVP.json\n",
      "tensecondlevel_activespan_dataset_insession_for_user/7pFGxVObu6.json\n",
      "insession_seconds_for_user/7pFGxVObu6.json\n",
      "tensecondlevel_activespan_dataset_insession_for_user/slQSVAoKw9.json\n",
      "insession_seconds_for_user/slQSVAoKw9.json\n",
      "tensecondlevel_activespan_dataset_insession_for_user/3Kd4L1WyRf.json\n",
      "insession_seconds_for_user/3Kd4L1WyRf.json\n",
      "tensecondlevel_activespan_dataset_insession_for_user/OJPaC9ChXY.json\n",
      "insession_seconds_for_user/OJPaC9ChXY.json\n",
      "tensecondlevel_activespan_dataset_insession_for_user/WlQR9c3gxB.json\n",
      "insession_seconds_for_user/WlQR9c3gxB.json\n",
      "tensecondlevel_activespan_dataset_insession_for_user/5aAWsn30FO.json\n",
      "insession_seconds_for_user/5aAWsn30FO.json\n",
      "tensecondlevel_activespan_dataset_insession_for_user/yFENbIeERx.json\n",
      "insession_seconds_for_user/yFENbIeERx.json\n",
      "tensecondlevel_activespan_dataset_insession_for_user/batItsva2s.json\n",
      "insession_seconds_for_user/batItsva2s.json\n",
      "2679439\n",
      "tensecondlevel_activespan_dataset_insession_labels_for_user/UrZvGUsI8N.json\n",
      "tensecondlevel_activespan_dataset_insession_labels_for_user/3a3FX1s9S6.json\n",
      "tensecondlevel_activespan_dataset_insession_labels_for_user/N3buswFgSO.json\n",
      "tensecondlevel_activespan_dataset_insession_labels_for_user/IAm4ofgNKb.json\n",
      "tensecondlevel_activespan_dataset_insession_labels_for_user/r6qiC7PoI1.json\n",
      "tensecondlevel_activespan_dataset_insession_labels_for_user/dwBGfodTyh.json\n",
      "tensecondlevel_activespan_dataset_insession_labels_for_user/2e7ex5t0MT.json\n",
      "tensecondlevel_activespan_dataset_insession_labels_for_user/MUHeUeRBTJ.json\n",
      "tensecondlevel_activespan_dataset_insession_labels_for_user/qgV6lFlkSa.json\n",
      "tensecondlevel_activespan_dataset_insession_labels_for_user/ZiXJx6z1Rl.json\n",
      "tensecondlevel_activespan_dataset_insession_labels_for_user/60qS4pDWkC.json\n",
      "tensecondlevel_activespan_dataset_insession_labels_for_user/S6XIUa9DJ8.json\n",
      "tensecondlevel_activespan_dataset_insession_labels_for_user/ZXWhHg9RZG.json\n",
      "tensecondlevel_activespan_dataset_insession_labels_for_user/YV8FroJtoa.json\n",
      "tensecondlevel_activespan_dataset_insession_labels_for_user/BuBH95V40k.json\n",
      "tensecondlevel_activespan_dataset_insession_labels_for_user/ol9VMVbVHN.json\n",
      "tensecondlevel_activespan_dataset_insession_labels_for_user/c4se1PqOgx.json\n",
      "tensecondlevel_activespan_dataset_insession_labels_for_user/ZHflKVDwN1.json\n",
      "tensecondlevel_activespan_dataset_insession_labels_for_user/ZewScTWpQH.json\n",
      "tensecondlevel_activespan_dataset_insession_labels_for_user/Hdx9yNR4un.json\n",
      "tensecondlevel_activespan_dataset_insession_labels_for_user/Hi2YFQFFRX.json\n",
      "tensecondlevel_activespan_dataset_insession_labels_for_user/4KS43rsxAD.json\n",
      "tensecondlevel_activespan_dataset_insession_labels_for_user/XkKl68D8WC.json\n",
      "tensecondlevel_activespan_dataset_insession_labels_for_user/qFfhJueo4f.json\n",
      "tensecondlevel_activespan_dataset_insession_labels_for_user/Cfu7zsLzxH.json\n",
      "tensecondlevel_activespan_dataset_insession_labels_for_user/CUkQIMI9zA.json\n",
      "tensecondlevel_activespan_dataset_insession_labels_for_user/CTm8XotZoZ.json\n",
      "tensecondlevel_activespan_dataset_insession_labels_for_user/gVvfiSW3is.json\n",
      "tensecondlevel_activespan_dataset_insession_labels_for_user/3JDp0OuLv4.json\n",
      "tensecondlevel_activespan_dataset_insession_labels_for_user/iYLwIL7JHg.json\n",
      "tensecondlevel_activespan_dataset_insession_labels_for_user/20ciww1zVP.json\n",
      "tensecondlevel_activespan_dataset_insession_labels_for_user/7pFGxVObu6.json\n",
      "tensecondlevel_activespan_dataset_insession_labels_for_user/slQSVAoKw9.json\n",
      "tensecondlevel_activespan_dataset_insession_labels_for_user/3Kd4L1WyRf.json\n",
      "tensecondlevel_activespan_dataset_insession_labels_for_user/OJPaC9ChXY.json\n",
      "tensecondlevel_activespan_dataset_insession_labels_for_user/WlQR9c3gxB.json\n",
      "tensecondlevel_activespan_dataset_insession_labels_for_user/5aAWsn30FO.json\n",
      "tensecondlevel_activespan_dataset_insession_labels_for_user/yFENbIeERx.json\n",
      "tensecondlevel_activespan_dataset_insession_labels_for_user/batItsva2s.json\n",
      "2679439\n"
     ]
    }
   ],
   "source": []
  },
  {
   "cell_type": "code",
   "execution_count": null,
   "metadata": {
    "collapsed": false
   },
   "outputs": [],
   "source": []
  },
  {
   "cell_type": "code",
   "execution_count": 18,
   "metadata": {
    "collapsed": false
   },
   "outputs": [],
   "source": [
    "#a=get_filtered_features_test()"
   ]
  },
  {
   "cell_type": "code",
   "execution_count": 19,
   "metadata": {
    "collapsed": false
   },
   "outputs": [],
   "source": [
    "#print len(a)"
   ]
  },
  {
   "cell_type": "code",
   "execution_count": 20,
   "metadata": {
    "collapsed": true
   },
   "outputs": [],
   "source": [
    "#b=get_test_labels()"
   ]
  },
  {
   "cell_type": "code",
   "execution_count": 21,
   "metadata": {
    "collapsed": false
   },
   "outputs": [],
   "source": [
    "#print len(b)"
   ]
  },
  {
   "cell_type": "code",
   "execution_count": 22,
   "metadata": {
    "collapsed": false
   },
   "outputs": [],
   "source": [
    "#print len(get_feature_filter())"
   ]
  },
  {
   "cell_type": "code",
   "execution_count": 23,
   "metadata": {
    "collapsed": false
   },
   "outputs": [],
   "source": [
    "#print len(get_training_feature_vector()[0])"
   ]
  },
  {
   "cell_type": "code",
   "execution_count": 24,
   "metadata": {
    "collapsed": false
   },
   "outputs": [],
   "source": [
    "'''\n",
    "def make_predictions_with_classifier_on_dataset(classifier, dataset):\n",
    "  return classifier.predict(dataset_to_feature_vectors(dataset))\n",
    "\n",
    "def make_proba_predictions_with_classifier_on_dataset(classifier, dataset):\n",
    "  return [x[1] for x in classifier.predict_proba(dataset_to_feature_vectors(dataset))]\n",
    "\n",
    "def evaluate_classifier(classifier):\n",
    "  test_predictions = make_predictions_with_classifier_on_dataset(classifier, test_data)\n",
    "  print sklearn.metrics.classification_report(test_data['label'], test_predictions)\n",
    "'''\n",
    "\n",
    "def make_predictions_with_classifier_on_test(classifier):\n",
    "  #return classifier.predict(filter_features(numpy.array(get_test_feature_vector())))\n",
    "  return classifier.predict(get_filtered_features_test())\n",
    "\n",
    "def evaluate_classifier(classifier):\n",
    "  test_predictions = make_predictions_with_classifier_on_test(classifier)\n",
    "  print sklearn.metrics.classification_report(get_test_labels(), test_predictions)\n",
    "\n",
    "def evaluate_classifier_for_user(classifier, user):\n",
    "  dataset = extract_secondlevel_dataset_from_user(user, True)\n",
    "  test_labels = get_labels_for_user(user)\n",
    "  "
   ]
  },
  {
   "cell_type": "code",
   "execution_count": null,
   "metadata": {
    "collapsed": true
   },
   "outputs": [],
   "source": []
  },
  {
   "cell_type": "code",
   "execution_count": 25,
   "metadata": {
    "collapsed": false
   },
   "outputs": [],
   "source": [
    "#a= get_training_feature_vector()"
   ]
  },
  {
   "cell_type": "code",
   "execution_count": 26,
   "metadata": {
    "collapsed": false
   },
   "outputs": [],
   "source": [
    "def get_selected_features_rfe():\n",
    "  classifier = sklearn.linear_model.SGDClassifier()\n",
    "  selector = sklearn.feature_selection.RFE(classifier, 10, step=1)\n",
    "  selector = selector.fit(numpy.array(get_training_feature_vector()), numpy.array(get_training_labels()))\n",
    "  return {\n",
    "    'n_features': selector.n_features_,\n",
    "    'support': map(int, selector.support_),\n",
    "    'ranking': map(int, selector.ranking_),\n",
    "  }\n",
    "  # return selector.ranking_\n",
    "\n",
    "def get_selected_features_rfecv():\n",
    "  classifier = sklearn.linear_model.SGDClassifier()\n",
    "  selector = sklearn.feature_selection.RFECV(classifier, step=1)\n",
    "  selector = selector.fit(numpy.array(get_training_feature_vector()), numpy.array(get_training_labels()))\n",
    "  return {\n",
    "    'n_features': selector.n_features_,\n",
    "    'support': map(int, selector.support_),\n",
    "    'ranking': map(int, selector.ranking_),\n",
    "  }\n",
    "\n",
    "def get_selected_features_chi2():\n",
    "  selector = sklearn.feature_selection.chi2(numpy.array(get_training_feature_vector()), numpy.array(get_training_labels()))\n",
    "  return {\n",
    "    'chi2': selector[0],\n",
    "    'pval': selector[1],\n",
    "  }"
   ]
  },
  {
   "cell_type": "code",
   "execution_count": 27,
   "metadata": {
    "collapsed": false
   },
   "outputs": [
    {
     "data": {
      "text/plain": [
       "\"\\npickle_file = 'classifier_threefeatures_randomforest.pickle'\\nif path.exists(pickle_file):\\n  classifier = pickle.load(open(pickle_file))\\nelse:\\n  classifier = get_classifier()\\n  pickle.dump(classifier, open(pickle_file, 'w'), pickle.HIGHEST_PROTOCOL)\\n\\nevaluate_classifier(classifier)\\n\""
      ]
     },
     "execution_count": 27,
     "metadata": {},
     "output_type": "execute_result"
    }
   ],
   "source": [
    "'''\n",
    "pickle_file = 'classifier_threefeatures_randomforest.pickle'\n",
    "if path.exists(pickle_file):\n",
    "  classifier = pickle.load(open(pickle_file))\n",
    "else:\n",
    "  classifier = get_classifier()\n",
    "  pickle.dump(classifier, open(pickle_file, 'w'), pickle.HIGHEST_PROTOCOL)\n",
    "\n",
    "evaluate_classifier(classifier)\n",
    "'''"
   ]
  },
  {
   "cell_type": "code",
   "execution_count": null,
   "metadata": {
    "collapsed": true
   },
   "outputs": [],
   "source": []
  },
  {
   "cell_type": "code",
   "execution_count": 28,
   "metadata": {
    "collapsed": false
   },
   "outputs": [
    {
     "name": "stdout",
     "output_type": "stream",
     "text": [
      "             precision    recall  f1-score   support\n",
      "\n",
      "      False       0.83      0.81      0.82   1295568\n",
      "       True       0.83      0.84      0.83   1383871\n",
      "\n",
      "avg / total       0.83      0.83      0.83   2679439\n",
      "\n"
     ]
    }
   ],
   "source": [
    "if is_second:\n",
    "  global_feature_filter = '1'*53\n",
    "  #classifier_algorithm = sklearn.ensemble.RandomForestClassifier\n",
    "\n",
    "  pickle_file = 'classifier_allfeatures_randomforest_second_v5.pickle'\n",
    "  if path.exists(pickle_file):\n",
    "    classifier = pickle.load(open(pickle_file))\n",
    "  else:\n",
    "    classifier = get_classifier()\n",
    "    pickle.dump(classifier, open(pickle_file, 'w'), pickle.HIGHEST_PROTOCOL)\n",
    "\n",
    "  evaluate_classifier(classifier)\n",
    "else:\n",
    "  for criterion,min_samples_split,min_samples_leaf in shuffled(list(itertools.product(\n",
    "    ['gini', 'entropy'],\n",
    "    [1, 2, 3, 4],\n",
    "    [1, 2, 3],\n",
    "  ))):\n",
    "    features_string = '_'.join(map(str, ['criterion', criterion, 'min_samples_split', min_samples_split, 'min_samples_leaf', min_samples_leaf]))\n",
    "    if is_second:\n",
    "      model_path = sdir_path('scikit_randomforest_allfeatures_second_v5_' + features_string + '.pickle')\n",
    "    else:\n",
    "      model_path = sdir_path('scikit_randomforest_allfeatures_tensecond_v5_' + features_string + '.pickle')\n",
    "    if path.exists(model_path):\n",
    "      continue\n",
    "    try:\n",
    "      print model_path\n",
    "      classifier_algorithm = lambda: sklearn.ensemble.RandomForestClassifier(criterion=criterion, min_samples_split=min_samples_split, min_samples_leaf=min_samples_leaf)\n",
    "      classifier = get_classifier()\n",
    "      pickle.dump(classifier, open(model_path, 'w'), pickle.HIGHEST_PROTOCOL)\n",
    "      evaluate_classifier(classifier)\n",
    "    except:\n",
    "      traceback.print_exc()\n",
    "      continue"
   ]
  },
  {
   "cell_type": "code",
   "execution_count": 29,
   "metadata": {
    "collapsed": false
   },
   "outputs": [
    {
     "name": "stdout",
     "output_type": "stream",
     "text": [
      "feature_vector_for_tensecondlevel_insession_train/11111111111111111111111111111111111111111111111111111.json\n",
      "feature_vector_for_tensecondlevel_insession_test/11111111111111111111111111111111111111111111111111111.json\n",
      "             precision    recall  f1-score   support\n",
      "\n",
      "      False       0.84      0.85      0.85   1295568\n",
      "       True       0.86      0.85      0.85   1383871\n",
      "\n",
      "avg / total       0.85      0.85      0.85   2679439\n",
      "\n"
     ]
    }
   ],
   "source": []
  },
  {
   "cell_type": "code",
   "execution_count": null,
   "metadata": {
    "collapsed": false
   },
   "outputs": [],
   "source": []
  },
  {
   "cell_type": "code",
   "execution_count": null,
   "metadata": {
    "collapsed": false
   },
   "outputs": [],
   "source": []
  },
  {
   "cell_type": "code",
   "execution_count": null,
   "metadata": {
    "collapsed": false
   },
   "outputs": [],
   "source": []
  },
  {
   "cell_type": "code",
   "execution_count": null,
   "metadata": {
    "collapsed": false
   },
   "outputs": [],
   "source": []
  },
  {
   "cell_type": "code",
   "execution_count": null,
   "metadata": {
    "collapsed": true
   },
   "outputs": [],
   "source": []
  },
  {
   "cell_type": "code",
   "execution_count": 30,
   "metadata": {
    "collapsed": false
   },
   "outputs": [
    {
     "data": {
      "text/plain": [
       "\"\\npickle_file = 'classifier_threefeatures_randomforest_v2.pickle'\\nif path.exists(pickle_file):\\n  classifier = pickle.load(open(pickle_file))\\nelse:\\n  classifier = get_classifier()\\n  pickle.dump(classifier, open(pickle_file, 'w'), pickle.HIGHEST_PROTOCOL)\\n\\nevaluate_classifier(classifier)\\n\""
      ]
     },
     "execution_count": 30,
     "metadata": {},
     "output_type": "execute_result"
    }
   ],
   "source": [
    "'''\n",
    "pickle_file = 'classifier_threefeatures_randomforest_v2.pickle'\n",
    "if path.exists(pickle_file):\n",
    "  classifier = pickle.load(open(pickle_file))\n",
    "else:\n",
    "  classifier = get_classifier()\n",
    "  pickle.dump(classifier, open(pickle_file, 'w'), pickle.HIGHEST_PROTOCOL)\n",
    "\n",
    "evaluate_classifier(classifier)\n",
    "'''"
   ]
  },
  {
   "cell_type": "code",
   "execution_count": null,
   "metadata": {
    "collapsed": false
   },
   "outputs": [],
   "source": []
  },
  {
   "cell_type": "code",
   "execution_count": null,
   "metadata": {
    "collapsed": true
   },
   "outputs": [],
   "source": []
  },
  {
   "cell_type": "code",
   "execution_count": 31,
   "metadata": {
    "collapsed": false
   },
   "outputs": [
    {
     "data": {
      "text/plain": [
       "\"\\npickle_file = 'classifier_allfeatures_randomforest.pickle'\\nif path.exists(pickle_file):\\n  classifier = pickle.load(open(pickle_file))\\nelse:\\n  classifier = get_classifier()\\n  pickle.dump(classifier, open(pickle_file, 'w'), pickle.HIGHEST_PROTOCOL)\\n\\nevaluate_classifier(classifier)\\n\""
      ]
     },
     "execution_count": 31,
     "metadata": {},
     "output_type": "execute_result"
    }
   ],
   "source": [
    "'''\n",
    "pickle_file = 'classifier_allfeatures_randomforest.pickle'\n",
    "if path.exists(pickle_file):\n",
    "  classifier = pickle.load(open(pickle_file))\n",
    "else:\n",
    "  classifier = get_classifier()\n",
    "  pickle.dump(classifier, open(pickle_file, 'w'), pickle.HIGHEST_PROTOCOL)\n",
    "\n",
    "evaluate_classifier(classifier)\n",
    "'''"
   ]
  },
  {
   "cell_type": "code",
   "execution_count": null,
   "metadata": {
    "collapsed": false
   },
   "outputs": [],
   "source": []
  },
  {
   "cell_type": "code",
   "execution_count": 32,
   "metadata": {
    "collapsed": false
   },
   "outputs": [
    {
     "data": {
      "text/plain": [
       "\"\\npickle_file = 'classifier_allfeatures_randomforest_v2.pickle'\\nif path.exists(pickle_file):\\n  classifier = pickle.load(open(pickle_file))\\nelse:\\n  classifier = get_classifier()\\n  pickle.dump(classifier, open(pickle_file, 'w'), pickle.HIGHEST_PROTOCOL)\\n\\nevaluate_classifier(classifier)\\n\""
      ]
     },
     "execution_count": 32,
     "metadata": {},
     "output_type": "execute_result"
    }
   ],
   "source": [
    "'''\n",
    "pickle_file = 'classifier_allfeatures_randomforest_v2.pickle'\n",
    "if path.exists(pickle_file):\n",
    "  classifier = pickle.load(open(pickle_file))\n",
    "else:\n",
    "  classifier = get_classifier()\n",
    "  pickle.dump(classifier, open(pickle_file, 'w'), pickle.HIGHEST_PROTOCOL)\n",
    "\n",
    "evaluate_classifier(classifier)\n",
    "'''"
   ]
  },
  {
   "cell_type": "code",
   "execution_count": null,
   "metadata": {
    "collapsed": false
   },
   "outputs": [],
   "source": []
  },
  {
   "cell_type": "code",
   "execution_count": 33,
   "metadata": {
    "collapsed": false
   },
   "outputs": [],
   "source": [
    "#training_features = get_training_feature_vector()"
   ]
  },
  {
   "cell_type": "code",
   "execution_count": 34,
   "metadata": {
    "collapsed": false
   },
   "outputs": [],
   "source": [
    "#for line in training_features:\n",
    "#  if line[4] == 1:\n",
    "#    print line\n",
    "#    break"
   ]
  },
  {
   "cell_type": "code",
   "execution_count": 35,
   "metadata": {
    "collapsed": true
   },
   "outputs": [],
   "source": [
    "#dataset = extract_secondlevel_dataset_from_user(training_users[0], True)"
   ]
  },
  {
   "cell_type": "code",
   "execution_count": 36,
   "metadata": {
    "collapsed": true
   },
   "outputs": [],
   "source": [
    "#feature_vectors = dataset_to_feature_vectors(dataset)"
   ]
  },
  {
   "cell_type": "code",
   "execution_count": 37,
   "metadata": {
    "collapsed": false
   },
   "outputs": [],
   "source": [
    "#for line in feature_vectors:\n",
    "#  if line[5] == 1:\n",
    "#    print line\n",
    "#    break"
   ]
  },
  {
   "cell_type": "code",
   "execution_count": 38,
   "metadata": {
    "collapsed": false
   },
   "outputs": [],
   "source": [
    "#fromdomain_set = set(dataset['fromdomain'])"
   ]
  },
  {
   "cell_type": "code",
   "execution_count": 39,
   "metadata": {
    "collapsed": false
   },
   "outputs": [],
   "source": [
    "#print domain_to_id(top_n_domains_by_visits()[0])"
   ]
  },
  {
   "cell_type": "code",
   "execution_count": 40,
   "metadata": {
    "collapsed": false
   },
   "outputs": [],
   "source": [
    "#print [x for x in fromdomain_set if id_to_domain(x) == 'www.mturk.com']"
   ]
  },
  {
   "cell_type": "code",
   "execution_count": 41,
   "metadata": {
    "collapsed": false
   },
   "outputs": [
    {
     "data": {
      "text/plain": [
       "\"\\nprint 'get_selected_features_chi2'\\nprint datetime.datetime.fromtimestamp(time.time())\\nprint get_selected_features_chi2()\\nprint 'get_selected_features_rfe'\\nprint datetime.datetime.fromtimestamp(time.time())\\nprint get_selected_features_rfe()\\nprint 'get_selected_features_rfecv'\\nprint datetime.datetime.fromtimestamp(time.time())\\nprint get_selected_features_rfecv()\\n#print get_selected_features_rfe()\\n\""
      ]
     },
     "execution_count": 41,
     "metadata": {},
     "output_type": "execute_result"
    }
   ],
   "source": [
    "'''\n",
    "print 'get_selected_features_chi2'\n",
    "print datetime.datetime.fromtimestamp(time.time())\n",
    "print get_selected_features_chi2()\n",
    "print 'get_selected_features_rfe'\n",
    "print datetime.datetime.fromtimestamp(time.time())\n",
    "print get_selected_features_rfe()\n",
    "print 'get_selected_features_rfecv'\n",
    "print datetime.datetime.fromtimestamp(time.time())\n",
    "print get_selected_features_rfecv()\n",
    "#print get_selected_features_rfe()\n",
    "'''"
   ]
  },
  {
   "cell_type": "code",
   "execution_count": 42,
   "metadata": {
    "collapsed": false
   },
   "outputs": [],
   "source": [
    "#print selector.support_\n",
    "#print selector.ranking_"
   ]
  },
  {
   "cell_type": "code",
   "execution_count": 43,
   "metadata": {
    "collapsed": false,
    "scrolled": true
   },
   "outputs": [
    {
     "data": {
      "text/plain": [
       "'\\nprecision_all,recall_all,_ = sklearn.metrics.precision_recall_curve(get_test_labels(), test_predictions)\\n\\nbest_f1 = 0.0\\nprecision = 0.0\\nrecall = 0.0\\nfor x,y in zip(precision_all,recall_all):\\n  f1 = 2*(x*y)/(x+y)\\n  if f1 > best_f1:\\n    best_f1 = f1\\n    precision = x\\n    recall = y\\nprint best_f1, precision, recall\\n'"
      ]
     },
     "execution_count": 43,
     "metadata": {},
     "output_type": "execute_result"
    }
   ],
   "source": [
    "#classifier = get_classifier()\n",
    "#evaluate_classifier(classifier)\n",
    "#evaluate_classifier(get_classifier())\n",
    "#classifier = get_classifier()\n",
    "#test_predictions = make_predictions_with_classifier_on_test(classifier)\n",
    "'''\n",
    "precision_all,recall_all,_ = sklearn.metrics.precision_recall_curve(get_test_labels(), test_predictions)\n",
    "\n",
    "best_f1 = 0.0\n",
    "precision = 0.0\n",
    "recall = 0.0\n",
    "for x,y in zip(precision_all,recall_all):\n",
    "  f1 = 2*(x*y)/(x+y)\n",
    "  if f1 > best_f1:\n",
    "    best_f1 = f1\n",
    "    precision = x\n",
    "    recall = y\n",
    "print best_f1, precision, recall\n",
    "'''"
   ]
  },
  {
   "cell_type": "code",
   "execution_count": null,
   "metadata": {
    "collapsed": false
   },
   "outputs": [],
   "source": []
  },
  {
   "cell_type": "code",
   "execution_count": null,
   "metadata": {
    "collapsed": false
   },
   "outputs": [],
   "source": []
  },
  {
   "cell_type": "code",
   "execution_count": null,
   "metadata": {
    "collapsed": false
   },
   "outputs": [],
   "source": []
  },
  {
   "cell_type": "code",
   "execution_count": null,
   "metadata": {
    "collapsed": false
   },
   "outputs": [],
   "source": []
  }
 ],
 "metadata": {
  "kernelspec": {
   "display_name": "Python 2",
   "language": "python",
   "name": "python2"
  },
  "language_info": {
   "codemirror_mode": {
    "name": "ipython",
    "version": 2
   },
   "file_extension": ".py",
   "mimetype": "text/x-python",
   "name": "python",
   "nbconvert_exporter": "python",
   "pygments_lexer": "ipython2",
   "version": "2.7.11"
  }
 },
 "nbformat": 4,
 "nbformat_minor": 0
}
