{
 "cells": [
  {
   "cell_type": "code",
   "execution_count": 1,
   "metadata": {
    "collapsed": false
   },
   "outputs": [
    {
     "data": {
      "text/plain": [
       "0"
      ]
     },
     "execution_count": 1,
     "metadata": {},
     "output_type": "execute_result"
    }
   ],
   "source": [
    "# noexport\n",
    "\n",
    "import os\n",
    "os.system('export_notebook_pyx tmilib_cython.ipynb')"
   ]
  },
  {
   "cell_type": "code",
   "execution_count": null,
   "metadata": {
    "collapsed": true
   },
   "outputs": [],
   "source": [
    "import numpy\n",
    "cimport numpy\n",
    "import tmilib"
   ]
  },
  {
   "cell_type": "code",
   "execution_count": null,
   "metadata": {
    "collapsed": true
   },
   "outputs": [],
   "source": [
    "def dataset_to_feature_vectors(dataset, enabled_feat=None):\n",
    "  cdef long[:] topdomains = numpy.array([tmilib.domain_to_id(x) for x in tmilib.top_n_domains_by_visits(20)], dtype=int)\n",
    "  cdef long num_topdomains = len(topdomains)\n",
    "  cdef long[:] domain_id_to_productivity = numpy.array(tmilib.get_domain_id_to_productivity(), dtype=numpy.int64)\n",
    "  cdef long[:] rescuetime_productivity_levels = numpy.array(tmilib.get_rescuetime_productivity_levels(), dtype=int)\n",
    "  cdef long num_rescuetime_productivity_levels = len(rescuetime_productivity_levels)\n",
    "  cdef long num_features = 3 + 2*num_topdomains + 2*num_rescuetime_productivity_levels\n",
    "  cdef long[:] enabled_features\n",
    "  if type(enabled_feat) == str:\n",
    "    enabled_features = numpy.array(map(int, enabled_feat), dtype=int)\n",
    "  elif enabled_feat == None:\n",
    "    enabled_features = numpy.array([1]*num_features, dtype=int)\n",
    "  else:\n",
    "    enabled_features = numpy.array(enabled_feat, dtype=int)\n",
    "  #cdef list output = [[0]*num_features for x in range(len(dataset['sinceprev']))]\n",
    "  cdef float[:,:] output = numpy.zeros((len(dataset['sinceprev']), num_features), dtype=float)\n",
    "  #cdef list output = []\n",
    "  #output = numpy.zeros((len(dataset['sinceprev']), num_features), dtype=object) # object instead of float, so we can have floats and ints\n",
    "  #for idx,sinceprev,tonext,fromdomain,todomain in zipkeys_idx(dataset, 'sinceprev', 'tonext', 'fromdomain', 'todomain'):\n",
    "  #cdef list cur\n",
    "  cdef long feature_num, fromdomain_productivity, todomain_productivity\n",
    "  cdef long label, fromdomain, todomain\n",
    "  cdef float sinceprev, tonext\n",
    "  cdef long productivity_idx, productivity, domain_idx, domain\n",
    "  cdef long output_idx = 0\n",
    "  cdef long cur_idx = 0\n",
    "  for label,sinceprev,tonext,fromdomain,todomain in dataset:\n",
    "    #cur = output[output_idx]\n",
    "    output_idx += 1\n",
    "    cur_idx = 0\n",
    "    if enabled_features[0]:\n",
    "      output[output_idx,cur_idx] = sinceprev\n",
    "      cur_idx += 1\n",
    "    if enabled_features[1]:\n",
    "      output[output_idx,cur_idx] = tonext\n",
    "      cur_idx += 1\n",
    "    if enabled_features[2]:\n",
    "      output[output_idx,cur_idx] = fromdomain == todomain\n",
    "      cur_idx += 1\n",
    "    feature_num = 3\n",
    "    for domain_idx in range(num_topdomains):\n",
    "      if enabled_features[feature_num+domain_idx]:\n",
    "        output[output_idx,cur_idx] = fromdomain == topdomains[domain_idx]\n",
    "        cur_idx += 1\n",
    "    feature_num += num_topdomains\n",
    "    for domain_idx in range(num_topdomains):\n",
    "      if enabled_features[feature_num+domain_idx]:\n",
    "        output[output_idx,cur_idx] = todomain == topdomains[domain_idx]\n",
    "        cur_idx += 1\n",
    "    feature_num += num_topdomains\n",
    "    fromdomain_productivity = domain_id_to_productivity[fromdomain]\n",
    "    todomain_productivity = domain_id_to_productivity[todomain]\n",
    "    for productivity_idx in range(num_rescuetime_productivity_levels):\n",
    "      if enabled_features[feature_num+productivity_idx]:\n",
    "        output[output_idx,cur_idx] = fromdomain_productivity == rescuetime_productivity_levels[productivity_idx]\n",
    "        cur_idx += 1\n",
    "    feature_num += num_rescuetime_productivity_levels\n",
    "    for productivity_idx in range(num_rescuetime_productivity_levels):\n",
    "      if enabled_features[feature_num+productivity_idx]:\n",
    "        output[output_idx,cur_idx] = todomain_productivity == rescuetime_productivity_levels[productivity_idx]\n",
    "        cur_idx += 1\n",
    "    #feature_num += len(get_rescuetime_productivity_levels())\n",
    "  return output\n",
    "\n"
   ]
  }
 ],
 "metadata": {
  "kernelspec": {
   "display_name": "Python 2",
   "language": "python",
   "name": "python2"
  },
  "language_info": {
   "codemirror_mode": {
    "name": "ipython",
    "version": 2
   },
   "file_extension": ".py",
   "mimetype": "text/x-python",
   "name": "python",
   "nbconvert_exporter": "python",
   "pygments_lexer": "ipython2",
   "version": "2.7.11"
  }
 },
 "nbformat": 4,
 "nbformat_minor": 0
}
