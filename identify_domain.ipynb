{
 "cells": [
  {
   "cell_type": "code",
   "execution_count": 1,
   "metadata": {
    "collapsed": false
   },
   "outputs": [
    {
     "data": {
      "text/plain": [
       "0"
      ]
     },
     "execution_count": 1,
     "metadata": {},
     "output_type": "execute_result"
    }
   ],
   "source": [
    "# noexport\n",
    "\n",
    "import os\n",
    "os.system('export_notebook identify_domain.ipynb')"
   ]
  },
  {
   "cell_type": "code",
   "execution_count": null,
   "metadata": {
    "collapsed": true
   },
   "outputs": [],
   "source": []
  },
  {
   "cell_type": "code",
   "execution_count": 2,
   "metadata": {
    "collapsed": true
   },
   "outputs": [],
   "source": [
    "from tmilib import *"
   ]
  },
  {
   "cell_type": "code",
   "execution_count": 3,
   "metadata": {
    "collapsed": false
   },
   "outputs": [],
   "source": [
    "#user = get_test_users()[0]\n",
    "#print user"
   ]
  },
  {
   "cell_type": "code",
   "execution_count": null,
   "metadata": {
    "collapsed": true
   },
   "outputs": [],
   "source": []
  },
  {
   "cell_type": "code",
   "execution_count": null,
   "metadata": {
    "collapsed": false
   },
   "outputs": [],
   "source": []
  },
  {
   "cell_type": "code",
   "execution_count": null,
   "metadata": {
    "collapsed": false
   },
   "outputs": [],
   "source": []
  },
  {
   "cell_type": "code",
   "execution_count": 4,
   "metadata": {
    "collapsed": false
   },
   "outputs": [],
   "source": [
    "#tab_focus_times = get_tab_focus_times_for_user(user)\n",
    "#print tab_focus_times[0].keys()"
   ]
  },
  {
   "cell_type": "code",
   "execution_count": 5,
   "metadata": {
    "collapsed": false
   },
   "outputs": [],
   "source": [
    "#print active_second_to_domain_id.keys()[:10]"
   ]
  },
  {
   "cell_type": "code",
   "execution_count": 6,
   "metadata": {
    "collapsed": true
   },
   "outputs": [],
   "source": [
    "@memoized\n",
    "def get_seen_urls_and_domains_real_and_history():\n",
    "  seen_urls_history = Counter()\n",
    "  seen_domains_history = Counter()\n",
    "  for user in get_test_users():\n",
    "    active_seconds_set = set(get_active_insession_seconds_for_user(user))\n",
    "    ordered_visits = get_history_ordered_visits_corrected_for_user(user)\n",
    "    ordered_visits = exclude_bad_visits(ordered_visits)\n",
    "    for visit in ordered_visits:\n",
    "      url = visit['url']\n",
    "      visit_time = visit['visitTime']\n",
    "      if visit_time not in active_seconds_set:\n",
    "        continue\n",
    "      #if 'chrome://' in url:\n",
    "      #  chrome_urls[url] += 1\n",
    "      seen_urls_history[url] += 1\n",
    "      seen_domains_history[url_to_domain(url)] += 1\n",
    "\n",
    "  seen_urls_real = Counter()\n",
    "  seen_domains_real = Counter()\n",
    "  for user in get_test_users():\n",
    "    active_seconds_set = set(get_active_insession_seconds_for_user(user))\n",
    "    for time,url in get_active_url_at_time_for_user(user).viewitems():\n",
    "      if time not in active_seconds_set:\n",
    "        continue\n",
    "      seen_urls_real[url] += 1\n",
    "      seen_domains_real[url_to_domain(url)] += 1\n",
    "      #if url.startswith('chrome://'):\n",
    "      #  chrome_urls[url] += 1\n",
    "  \n",
    "  seen_domains_only_real = {k:v for k,v in seen_domains_real.viewitems() if k not in seen_domains_history}\n",
    "  #print_counter(seen_domains_only_real)\n",
    "\n",
    "  seen_domains_only_history = {k:v for k,v in seen_domains_history.viewitems() if k not in seen_domains_real}\n",
    "  #print_counter(seen_domains_only_history)\n",
    "  return {\n",
    "    'seen_urls_history': seen_urls_history,\n",
    "    'seen_domains_history': seen_domains_history,\n",
    "    'seen_urls_real': seen_urls_real,\n",
    "    'seen_domains_real': seen_domains_real,\n",
    "    'seen_domains_only_real': seen_domains_only_real,\n",
    "    'seen_domains_only_history': seen_domains_only_history,\n",
    "  }"
   ]
  },
  {
   "cell_type": "code",
   "execution_count": 7,
   "metadata": {
    "collapsed": false
   },
   "outputs": [],
   "source": [
    "#seen_domains_only_real = get_seen_urls_and_domains_real_and_history()['seen_domains_only_real']"
   ]
  },
  {
   "cell_type": "code",
   "execution_count": 8,
   "metadata": {
    "collapsed": false
   },
   "outputs": [],
   "source": [
    "print_counter(get_seen_urls_and_domains_real_and_history()['seen_domains_only_real'])"
   ]
  },
  {
   "cell_type": "code",
   "execution_count": 9,
   "metadata": {
    "collapsed": false
   },
   "outputs": [],
   "source": [
    "print_counter(get_seen_urls_and_domains_real_and_history()['seen_domains_only_history'])"
   ]
  },
  {
   "cell_type": "code",
   "execution_count": null,
   "metadata": {
    "collapsed": false
   },
   "outputs": [],
   "source": []
  },
  {
   "cell_type": "code",
   "execution_count": null,
   "metadata": {
    "collapsed": false
   },
   "outputs": [],
   "source": []
  },
  {
   "cell_type": "code",
   "execution_count": 10,
   "metadata": {
    "collapsed": false
   },
   "outputs": [],
   "source": [
    "@memoized\n",
    "def get_recently_seen_domain_stats_for_user(user):\n",
    "  ordered_visits = get_history_ordered_visits_corrected_for_user(user)\n",
    "  ordered_visits = exclude_bad_visits(ordered_visits)\n",
    "  active_domain_at_time = get_active_domain_at_time_for_user(user)\n",
    "  active_seconds_set = set(get_active_insession_seconds_for_user(user))\n",
    "  #active_second_to_domain_id = get_active_second_to_domain_id_for_user(user)\n",
    "  active_second_to_domain_id = {int(k):v for k,v in get_active_second_to_domain_id_for_user(user).viewitems()}\n",
    "  recently_seen_domain_ids = [-1]*100\n",
    "  seen_domain_ids_set = set()\n",
    "  stats = Counter()\n",
    "  nomatch_domains = Counter()\n",
    "  tabbed_back_domains_first = Counter()\n",
    "  tabbed_back_domains_second = Counter()\n",
    "  tabbed_back_domains_all = Counter()\n",
    "  distractors_list = [domain_to_id(x) for x in ['www.mturk.com', 'apps.facebook.com', 'www.facebook.com', 'www.reddit.com', 'www.youtube.com']]\n",
    "  distractors = set(distractors_list)\n",
    "  most_recent_distractor = distractors_list[0]\n",
    "  for idx,visit in enumerate(ordered_visits):\n",
    "    if idx+1 >= len(ordered_visits):\n",
    "      break\n",
    "    next_visit = ordered_visits[idx+1]\n",
    "    cur_domain = url_to_domain(visit['url'])\n",
    "    cur_domain_id = domain_to_id(cur_domain)\n",
    "    if cur_domain_id in distractors:\n",
    "      most_recent_distractor = cur_domain_id\n",
    "    if cur_domain_id != recently_seen_domain_ids[-1]:\n",
    "      if cur_domain_id in seen_domain_ids_set:\n",
    "        recently_seen_domain_ids.remove(cur_domain_id)\n",
    "      seen_domain_ids_set.add(cur_domain_id)\n",
    "      recently_seen_domain_ids.append(cur_domain_id)\n",
    "    next_domain = url_to_domain(next_visit['url'])\n",
    "    next_domain_id = domain_to_id(next_domain)\n",
    "    cur_time_sec = int(round(visit['visitTime'] / 1000.0))\n",
    "    next_time_sec = int(round(next_visit['visitTime'] / 1000.0))\n",
    "    \n",
    "    if cur_time_sec > next_time_sec:\n",
    "      continue\n",
    "    \n",
    "    for time_sec in xrange(cur_time_sec, next_time_sec+1):\n",
    "      if time_sec not in active_seconds_set:\n",
    "        continue\n",
    "      ref_domain_id = active_second_to_domain_id[time_sec]\n",
    "      stats['total'] += 1\n",
    "      if most_recent_distractor == ref_domain_id:\n",
    "        stats['most_recent_distractor_total'] += 1\n",
    "        if cur_domain_id == ref_domain_id:\n",
    "          stats['most_recent_distractor_curdomain'] += 1\n",
    "        elif cur_domain_id == next_domain_id:\n",
    "          stats['most_recent_distractor_nextdomain'] += 1\n",
    "        else:\n",
    "          stats['most_recent_distractor_some_prev_domain'] += 1\n",
    "      if cur_domain_id == ref_domain_id:\n",
    "        if next_domain_id == cur_domain_id:\n",
    "          stats['first and next equal and correct'] += 1\n",
    "        else:\n",
    "          stats['first correct only'] += 1\n",
    "        continue\n",
    "      if next_domain_id == ref_domain_id:\n",
    "        stats['next correct only'] += 1\n",
    "        continue\n",
    "      stats['both incorrect'] += 1\n",
    "      found_match = False\n",
    "      ref_domain = id_to_domain(ref_domain_id)\n",
    "      for i in range(1,101):\n",
    "        if recently_seen_domain_ids[-1-i] == ref_domain_id:\n",
    "          stats['nth previous correct ' + str(abs(i))] += 1\n",
    "          stats['some previous among past 100 correct'] += 1\n",
    "          found_match = True\n",
    "          tabbed_back_domains_all[ref_domain] += 1\n",
    "          if i == 1:\n",
    "            tabbed_back_domains_first[ref_domain] += 1\n",
    "          if i == 2:\n",
    "            tabbed_back_domains_second[ref_domain] += 1\n",
    "          break\n",
    "      if not found_match:\n",
    "        ref_domain = id_to_domain(ref_domain_id)\n",
    "        if ref_domain == 'newtab':\n",
    "          stats['newtab'] += 1\n",
    "          continue\n",
    "        stats['no match found'] += 1\n",
    "        nomatch_domains[id_to_domain(ref_domain_id)] += 1\n",
    "      '''\n",
    "      if cur_domain_id == ref_domain_id:\n",
    "        if next_domain_id == cur_domain_id:\n",
    "          stats['first and next equal and correct'] += 1\n",
    "          continue\n",
    "        else:\n",
    "          stats['first correct only'] += 1\n",
    "          continue\n",
    "      else:\n",
    "        if next_domain_id == cur_domain_id:\n",
    "          stats['both incorrect'] += 1\n",
    "          found_match = False\n",
    "          for i in range(1,101):\n",
    "            if recently_seen_domain_ids[-1-i] == ref_domain_id:\n",
    "              stats['nth previous correct ' + str(abs(i))] += 1\n",
    "              stats['some previous among past 100 correct'] += 1\n",
    "              found_match = True\n",
    "              break\n",
    "          if not found_match:\n",
    "            ref_domain = id_to_domain(ref_domain_id)\n",
    "            if ref_domain == 'newtab':\n",
    "              stats['newtab'] += 1\n",
    "              continue\n",
    "            stats['no match found'] += 1\n",
    "            nomatch_domains[id_to_domain(ref_domain_id)] += 1\n",
    "          continue\n",
    "        if next_domain_id == ref_domain_id:\n",
    "          stats['next correct only'] += 1\n",
    "          continue\n",
    "      '''\n",
    "  return {\n",
    "    'stats': stats,\n",
    "    'nomatch_domains': nomatch_domains,\n",
    "    'tabbed_back_domains_all': tabbed_back_domains_all,\n",
    "    'tabbed_back_domains_first': tabbed_back_domains_first,\n",
    "    'tabbed_back_domains_second': tabbed_back_domains_second,\n",
    "  }"
   ]
  },
  {
   "cell_type": "code",
   "execution_count": 11,
   "metadata": {
    "collapsed": false
   },
   "outputs": [],
   "source": [
    "total_nomatch_domains = Counter()\n",
    "\n",
    "for user in get_test_users():\n",
    "  for k,v in get_recently_seen_domain_stats_for_user(user)['nomatch_domains'].viewitems():\n",
    "    total_nomatch_domains[k] += v\n"
   ]
  },
  {
   "cell_type": "code",
   "execution_count": 12,
   "metadata": {
    "collapsed": false
   },
   "outputs": [
    {
     "name": "stdout",
     "output_type": "stream",
     "text": [
      "bookmarks 8379\n",
      "tmi.stanford.edu 5134\n",
      "www.mturk.com 4215\n",
      "www.nwanime.com 3841\n",
      " 2640\n",
      "www.youtube.com 2366\n",
      "www.facebook.com 2341\n",
      "www.amazon.com 2017\n",
      "klbibkeccnjlkjkiokjodocebajanakg 1750\n",
      "downloads 1714\n",
      "history 1680\n",
      "settings 1583\n",
      "www.googleadservices.com 1314\n",
      "www.google.com 1105\n",
      "ww2.unipark.de 1038\n",
      "survey18.toluna.com 995\n",
      "extensions 961\n",
      "survey.theacsi.org 954\n",
      "plinga.com 947\n",
      "templates.textbroker.com 918\n",
      "adclick.g.doubleclick.net 883\n",
      "gsu.qualtrics.com 803\n",
      "mail.google.com 800\n",
      "survey.az1.qualtrics.com 780\n",
      "ups.surveyrouter.com 768\n",
      "www.heatherridley.com 712\n",
      "survey13.toluna.com 687\n",
      "www.clearvoicesurveys.com 685\n",
      "features.texasmonthly.com 633\n",
      "www.iheart.com 596\n",
      "www.reddit.com 595\n",
      "usccmcis.az1.qualtrics.com 586\n",
      "www.surveymonkey.com 530\n",
      "vassarpsych.az1.qualtrics.com 511\n",
      "armorgames.com 491\n",
      "www.gamestop.com 486\n",
      "usccollege.qualtrics.com 484\n",
      "uky.az1.qualtrics.com 472\n",
      "uwmadison.co1.qualtrics.com 465\n",
      "drive.google.com 450\n",
      "hbs.qualtrics.com 429\n",
      "www.pandaresearch.com 423\n",
      "gngocbkfmikdgphklgmmehbjjlfgdemm 411\n",
      "www.hulu.com 401\n",
      "www.flashx.host 400\n",
      "www.myrealgames.com 383\n",
      "spellout.net 376\n",
      "www.mtsindia.in 376\n",
      "rnd-testing.wonderliconline.com 369\n",
      "www.mysurvey.com 351\n",
      "uscpharmacy.az1.qualtrics.com 345\n",
      "koreabus.az1.qualtrics.com 317\n",
      "128.151.170.70:22362 311\n",
      "umich.qualtrics.com 310\n",
      "pamplin.qualtrics.com 310\n",
      "dmsurvey.ugamsolutions.com 308\n",
      "www.motherjones.com 306\n",
      "www.ow.ly 302\n",
      "theconcourse.deadspin.com 294\n",
      "forums.somethingawful.com 282\n",
      "web.roblox.com 274\n",
      "laccpsych.co1.qualtrics.com 271\n",
      "academymortgage.service-now.com 264\n",
      "goo.gl 257\n",
      "local-ntp 257\n",
      "umbc.co1.qualtrics.com 255\n",
      "mbuy.ebay.com 251\n",
      "en.wikipedia.org 251\n",
      "dise-online.net 250\n",
      "us-mg6.mail.yahoo.com 245\n",
      "yournationnews.com 244\n",
      "www.goodreads.com 239\n",
      "bit.ly 235\n",
      "yale.qualtrics.com 232\n",
      "gmail.com 229\n",
      "gate.aon.com 226\n",
      "vidzi.tv 223\n",
      "hwcdn.libsyn.com 218\n",
      "www.sextvx.com 208\n",
      "flashbak.com 200\n",
      "survey.confirmit.com 197\n",
      "fox.az1.qualtrics.com 188\n",
      "www.gmail.com 187\n",
      "www.play-asia.com 187\n",
      "yalesurvey.qualtrics.com 185\n",
      "cornell.qualtrics.com 181\n",
      "www.ebay.com 181\n",
      "ubcarts.co1.qualtrics.com 176\n",
      "www.screenwisetrends.com 174\n",
      "surveys.globaltestmarket.com 160\n",
      "survey12.decisionvelocity.com 159\n",
      "www.stitchfix.com 158\n",
      "deep-bass-nine.tumblr.com 154\n",
      "unf.co1.qualtrics.com 153\n",
      "yahoo.com 147\n",
      "d.adroll.com 142\n",
      "sbcodez.com 137\n",
      "www.addictinggames.com 136\n",
      "mythicspoiler.com 133\n",
      "hitgrabber.net 132\n"
     ]
    }
   ],
   "source": [
    "#print total_nomatch_domains\n",
    "print_counter(total_nomatch_domains)"
   ]
  },
  {
   "cell_type": "code",
   "execution_count": 13,
   "metadata": {
    "collapsed": false
   },
   "outputs": [],
   "source": [
    "total_tabbed_back_domains_all = Counter()\n",
    "\n",
    "for user in get_test_users():\n",
    "  for k,v in get_recently_seen_domain_stats_for_user(user)['tabbed_back_domains_all'].viewitems():\n",
    "    total_tabbed_back_domains_all[k] += v"
   ]
  },
  {
   "cell_type": "code",
   "execution_count": 14,
   "metadata": {
    "collapsed": false
   },
   "outputs": [],
   "source": [
    "#[domain_to_id(x) for x in ['www.mturk.com', 'apps.facebook.com', 'www.facebook.com', 'www.reddit.com', 'www.youtube.com']]"
   ]
  },
  {
   "cell_type": "code",
   "execution_count": 15,
   "metadata": {
    "collapsed": false
   },
   "outputs": [],
   "source": [
    "#sumkeys(total_tabbed_back_domains_all, 'www.mturk.com', 'apps.facebook.com', 'www.facebook.com', 'www.reddit.com', 'www.youtube.com')"
   ]
  },
  {
   "cell_type": "code",
   "execution_count": 16,
   "metadata": {
    "collapsed": false
   },
   "outputs": [
    {
     "name": "stdout",
     "output_type": "stream",
     "text": [
      "2515898\n"
     ]
    }
   ],
   "source": [
    "print sum(total_tabbed_back_domains_all.values())"
   ]
  },
  {
   "cell_type": "code",
   "execution_count": 17,
   "metadata": {
    "collapsed": false
   },
   "outputs": [],
   "source": [
    "#728458.0/2382221"
   ]
  },
  {
   "cell_type": "code",
   "execution_count": 18,
   "metadata": {
    "collapsed": false
   },
   "outputs": [
    {
     "name": "stdout",
     "output_type": "stream",
     "text": [
      "www.mturk.com 203806\n",
      "www.facebook.com 192141\n",
      "www.youtube.com 97316\n",
      "www.reddit.com 83404\n",
      "forums.somethingawful.com 81583\n",
      "mail.google.com 58793\n",
      "www.google.com 51957\n",
      "allmyvideos.net 31371\n",
      "templates.textbroker.com 28956\n",
      "www.tumblr.com 28808\n",
      "www.amazon.com 28626\n",
      "hitgrabber.net 24706\n",
      "apps.facebook.com 21464\n",
      "vidbull.com 21069\n",
      "www.netflix.com 19499\n",
      "docs.google.com 17526\n",
      "www.amzreviewtrader.com 16451\n",
      "wharton.qualtrics.com 15865\n",
      "www.arconaitv.me 15677\n",
      "www.speechpad.com 14804\n",
      "upenn.co1.qualtrics.com 14668\n",
      "kellogg.qualtrics.com 14310\n",
      "www.swagbucks.com 13185\n",
      "us-mg5.mail.yahoo.com 12925\n",
      "www.allmyvideos.net 12324\n",
      "mprlab327.webfactional.com 11675\n",
      "drive.google.com 11542\n",
      "intern.textbroker.com 11485\n",
      "armorgames.com 11310\n",
      "mturkforum.com 10963\n",
      "plinga.com 10764\n",
      "forums.animez.to 10633\n",
      "mail.aol.com 10632\n",
      "yalesurvey.qualtrics.com 10279\n",
      "www.addictinggames.com 10234\n",
      "tweetdeck.twitter.com 9909\n",
      "iu.co1.qualtrics.com 9237\n",
      "washington.co1.qualtrics.com 8963\n",
      "myanimelist.net 8556\n",
      "stanfordgsb.qualtrics.com 8555\n",
      "www.crichd.tv 8384\n",
      "en.wikipedia.org 8301\n",
      "vidzi.tv 8277\n",
      "columbia.az1.qualtrics.com 7710\n",
      "saintleo.learningstudio.com 7694\n",
      "unc.az1.qualtrics.com 7462\n",
      "princetonsurvey.az1.qualtrics.com 7409\n",
      "www.hulu.com 7352\n",
      "ufl.qualtrics.com 6770\n",
      "nyu.qualtrics.com 6710\n",
      "byu.az1.qualtrics.com 6479\n",
      "utexas.qualtrics.com 6324\n",
      "soundcloud.com 6278\n",
      "harvard.az1.qualtrics.com 6227\n",
      "hbs.qualtrics.com 5914\n",
      " 5826\n",
      "ssd.az1.qualtrics.com 5810\n",
      "umn.qualtrics.com 5801\n",
      "turkopticon.ucsd.edu 5597\n",
      "www.buzzfeed.com 5596\n",
      "psychologyuwaterloo.az1.qualtrics.com 5596\n",
      "twitter.com 5587\n",
      "blackboard.cornell.edu 5557\n",
      "sports.yahoo.com 5506\n",
      "www.linkedin.com 5384\n",
      "www.bing.com 5365\n",
      "duke.qualtrics.com 5336\n",
      "sbcodez.com 5336\n",
      "cornell.qualtrics.com 5183\n",
      "ucbpsych.qualtrics.com 4929\n",
      "kuclas.qualtrics.com 4851\n",
      "haverford.co1.qualtrics.com 4784\n",
      "www.financial-net.com 4717\n",
      "www.nytimes.com 4716\n",
      "dukefuqua.qualtrics.com 4711\n",
      "ust.az1.qualtrics.com 4660\n",
      "bostoncollege.co1.qualtrics.com 4604\n",
      "uclinnovation.eu.qualtrics.com 4602\n",
      "tinychat.com 4560\n",
      "www.livenewschat.eu 4552\n",
      "rotman.az1.qualtrics.com 4503\n",
      "blab.im 4501\n",
      "listenonrepeat.com 4437\n",
      "www.yahoo.com 4380\n",
      "hw.reddit.com 4363\n",
      "us-mg6.mail.yahoo.com 4350\n",
      "www.stream2watch.co 4323\n",
      "thewatchseries.to 4301\n",
      "media.ahc.ufl.edu 4291\n",
      "wlupsych.co1.qualtrics.com 4275\n",
      "www.flashx.host 4245\n",
      "umntobaccoresearch.az1.qualtrics.com 4187\n",
      "yalepsych.qualtrics.com 4164\n",
      "gwu.qualtrics.com 4159\n",
      "www.flashx.space 4116\n",
      "academymortgage.service-now.com 4091\n",
      "cornell.mediasite.com 3839\n",
      "asuclas.qualtrics.com 3837\n",
      "usc.qualtrics.com 3749\n",
      "212.71.245.173:8080 3712\n"
     ]
    }
   ],
   "source": [
    "print_counter(total_tabbed_back_domains_all)"
   ]
  },
  {
   "cell_type": "code",
   "execution_count": null,
   "metadata": {
    "collapsed": true
   },
   "outputs": [],
   "source": []
  },
  {
   "cell_type": "code",
   "execution_count": 19,
   "metadata": {
    "collapsed": false,
    "scrolled": true
   },
   "outputs": [],
   "source": [
    "#print_counter(total_tabbed_back_domains_first)"
   ]
  },
  {
   "cell_type": "code",
   "execution_count": null,
   "metadata": {
    "collapsed": true
   },
   "outputs": [],
   "source": []
  },
  {
   "cell_type": "code",
   "execution_count": null,
   "metadata": {
    "collapsed": true
   },
   "outputs": [],
   "source": []
  },
  {
   "cell_type": "code",
   "execution_count": 20,
   "metadata": {
    "collapsed": false
   },
   "outputs": [
    {
     "data": {
      "text/plain": [
       "'\\ntotal_active_seconds = 0\\n\\nfor user in get_test_users():\\n  total_active_seconds += len(get_active_seconds_for_user(user))\\n  #for span in get_active_seconds_for_user(user)\\nprint total_active_seconds\\n'"
      ]
     },
     "execution_count": 20,
     "metadata": {},
     "output_type": "execute_result"
    }
   ],
   "source": [
    "'''\n",
    "total_active_seconds = 0\n",
    "\n",
    "for user in get_test_users():\n",
    "  total_active_seconds += len(get_active_seconds_for_user(user))\n",
    "  #for span in get_active_seconds_for_user(user)\n",
    "print total_active_seconds\n",
    "'''"
   ]
  },
  {
   "cell_type": "code",
   "execution_count": 21,
   "metadata": {
    "collapsed": false
   },
   "outputs": [],
   "source": [
    "#for user in get_test_users():\n",
    "#  print user\n",
    "#  print (get_recently_seen_domain_stats_for_user(user)['stats'])"
   ]
  },
  {
   "cell_type": "code",
   "execution_count": null,
   "metadata": {
    "collapsed": false
   },
   "outputs": [],
   "source": []
  },
  {
   "cell_type": "code",
   "execution_count": 22,
   "metadata": {
    "collapsed": false
   },
   "outputs": [],
   "source": [
    "#total_stats = Counter({'total': 544544, 'first and next equal and correct': 351081, 'first correct only': 88522, 'both incorrect': 51663, 'some previous among past 20 correct': 41231, 'nth previous correct 1': 31202, 'next correct only': 23569, 'no match found': 10432, 'nth previous correct 2': 3311, 'nth previous correct 3': 1635, 'nth previous correct 4': 905, 'nth previous correct 5': 862, 'nth previous correct 6': 545, 'nth previous correct 7': 412, 'nth previous correct 8': 357, 'nth previous correct 9': 269, 'nth previous correct 10': 259, 'nth previous correct 13': 234, 'nth previous correct 11': 229, 'nth previous correct 12': 190, 'nth previous correct 15': 183, 'nth previous correct 14': 140, 'nth previous correct 17': 139, 'nth previous correct 20': 95, 'nth previous correct 16': 90, 'nth previous correct 19': 88, 'nth previous correct 18': 86})\n",
    "\n",
    "total_stats = Counter()\n",
    "\n",
    "for user in get_test_users():\n",
    "  for k,v in get_recently_seen_domain_stats_for_user(user)['stats'].viewitems():\n",
    "    total_stats[k] += v\n",
    "#total_stats = Counter({'total': 544544, 'first and next equal and correct': 351081, 'first correct only': 88522, 'both incorrect': 51663, 'some previous among past 20 correct': 41136, 'nth previous correct 2': 31202, 'next correct only': 23569, 'no match found': 10527, 'nth previous correct 3': 3311, 'nth previous correct 4': 1635, 'nth previous correct 5': 905, 'nth previous correct 6': 862, 'nth previous correct 7': 545, 'nth previous correct 8': 412, 'nth previous correct 9': 357, 'nth previous correct 10': 269, 'nth previous correct 11': 259, 'nth previous correct 14': 234, 'nth previous correct 12': 229, 'nth previous correct 13': 190, 'nth previous correct 16': 183, 'nth previous correct 15': 140, 'nth previous correct 18': 139, 'nth previous correct 17': 90, 'nth previous correct 20': 88, 'nth previous correct 19': 86})"
   ]
  },
  {
   "cell_type": "code",
   "execution_count": 23,
   "metadata": {
    "collapsed": false
   },
   "outputs": [
    {
     "name": "stdout",
     "output_type": "stream",
     "text": [
      "total 14806666\n",
      "first and next equal and correct 6588587\n",
      "most_recent_distractor_total 4978110\n",
      "first correct only 4430669\n",
      "most_recent_distractor_curdomain 4226119\n",
      "both incorrect 2692997\n",
      "some previous among past 100 correct 2515898\n",
      "nth previous correct 1 1096993\n",
      "next correct only 1094413\n",
      "most_recent_distractor_some_prev_domain 621347\n",
      "nth previous correct 2 465806\n",
      "nth previous correct 3 264611\n",
      "nth previous correct 4 160500\n",
      "most_recent_distractor_nextdomain 130644\n",
      "nth previous correct 5 94361\n",
      "no match found 89836\n",
      "newtab 87263\n",
      "nth previous correct 6 80847\n",
      "nth previous correct 7 54738\n",
      "nth previous correct 8 44045\n",
      "nth previous correct 9 32883\n",
      "nth previous correct 10 32032\n",
      "nth previous correct 11 21896\n",
      "nth previous correct 13 18950\n",
      "nth previous correct 12 18078\n",
      "nth previous correct 15 11197\n",
      "nth previous correct 18 10402\n",
      "nth previous correct 17 9417\n",
      "nth previous correct 14 9087\n",
      "nth previous correct 16 8940\n",
      "nth previous correct 19 6453\n",
      "nth previous correct 21 6121\n",
      "nth previous correct 20 5679\n",
      "nth previous correct 22 4835\n",
      "nth previous correct 24 4406\n",
      "nth previous correct 29 4233\n",
      "nth previous correct 27 4045\n",
      "nth previous correct 25 3870\n",
      "nth previous correct 30 3663\n",
      "nth previous correct 23 3252\n",
      "nth previous correct 26 2727\n",
      "nth previous correct 28 2657\n",
      "nth previous correct 31 1796\n",
      "nth previous correct 39 1468\n",
      "nth previous correct 32 1417\n",
      "nth previous correct 37 1407\n",
      "nth previous correct 34 1367\n",
      "nth previous correct 33 1357\n",
      "nth previous correct 41 1042\n",
      "nth previous correct 62 1041\n",
      "nth previous correct 42 928\n",
      "nth previous correct 35 923\n",
      "nth previous correct 47 894\n",
      "nth previous correct 40 882\n",
      "nth previous correct 36 843\n",
      "nth previous correct 67 831\n",
      "nth previous correct 44 821\n",
      "nth previous correct 43 780\n",
      "nth previous correct 38 747\n",
      "nth previous correct 55 744\n",
      "nth previous correct 54 589\n",
      "nth previous correct 53 540\n",
      "nth previous correct 52 537\n",
      "nth previous correct 72 525\n",
      "nth previous correct 50 510\n",
      "nth previous correct 46 495\n",
      "nth previous correct 76 494\n",
      "nth previous correct 57 451\n",
      "nth previous correct 65 448\n",
      "nth previous correct 64 433\n",
      "nth previous correct 45 375\n",
      "nth previous correct 48 357\n",
      "nth previous correct 49 320\n",
      "nth previous correct 61 282\n",
      "nth previous correct 58 279\n",
      "nth previous correct 51 271\n",
      "nth previous correct 56 265\n",
      "nth previous correct 73 227\n",
      "nth previous correct 66 210\n",
      "nth previous correct 68 208\n",
      "nth previous correct 60 172\n",
      "nth previous correct 59 167\n",
      "nth previous correct 70 165\n",
      "nth previous correct 63 143\n",
      "nth previous correct 98 132\n",
      "nth previous correct 82 112\n",
      "nth previous correct 92 110\n",
      "nth previous correct 74 105\n",
      "nth previous correct 69 99\n",
      "nth previous correct 71 96\n",
      "nth previous correct 94 79\n",
      "nth previous correct 81 75\n",
      "nth previous correct 93 71\n",
      "nth previous correct 84 56\n",
      "nth previous correct 75 55\n",
      "nth previous correct 78 54\n",
      "nth previous correct 85 52\n",
      "nth previous correct 95 46\n",
      "nth previous correct 80 44\n",
      "nth previous correct 83 42\n"
     ]
    }
   ],
   "source": [
    "print_counter(total_stats)"
   ]
  },
  {
   "cell_type": "code",
   "execution_count": 24,
   "metadata": {
    "collapsed": false
   },
   "outputs": [],
   "source": [
    "def sumkeys(d, *args):\n",
    "  return sum(d.get(x, 0.0) for x in args)"
   ]
  },
  {
   "cell_type": "code",
   "execution_count": null,
   "metadata": {
    "collapsed": false
   },
   "outputs": [],
   "source": []
  },
  {
   "cell_type": "code",
   "execution_count": 25,
   "metadata": {
    "collapsed": false
   },
   "outputs": [
    {
     "name": "stdout",
     "output_type": "stream",
     "text": [
      "select prev gets answer correct 0.74420912851\n",
      "prev or next gets answer correct 0.818122661779\n",
      "prev or next or newtab gets answer correct 0.824016155967\n",
      "prev or next or past 1 0.898103935079\n",
      "prev or next or past 2 0.92956314406\n",
      "prev or next or past 3 0.947434216454\n",
      "prev or next or past 4 0.958273928783\n",
      "prev or next or past 5 0.96464680165\n",
      "prev or next or past 6 0.970106977492\n",
      "prev or next or past 7 0.973803825925\n",
      "prev or next or past 8 0.97677849963\n",
      "prev or next or past 9 0.978999323683\n",
      "prev or next or past 10 0.981162673623\n",
      "prev or next or past 11 0.982641467026\n",
      "prev or next or past 12 0.983862403596\n",
      "prev or next or past 13 0.985142232559\n",
      "prev or next or past 14 0.985755942627\n",
      "prev or next or past 15 0.986512156079\n",
      "prev or next or past 16 0.987115938186\n",
      "prev or next or past 17 0.987751935513\n",
      "prev or next or past 18 0.988454456932\n",
      "prev or next or past 19 0.988890274151\n",
      "prev or next or past 20 0.989273817617\n",
      "prev or next or past 21 0.989687212503\n",
      "prev or next or past 22 0.990013754616\n",
      "prev or next or past 23 0.990233385422\n",
      "prev or next or past 24 0.990530954099\n",
      "prev or next or past 25 0.990792322863\n",
      "prev or next or past 26 0.990976496667\n",
      "prev or next or past 27 0.991249684433\n",
      "prev or next or past 28 0.991429130636\n",
      "prev or next or past 29 0.991715015386\n",
      "prev or next or past 30 0.99196240396\n",
      "prev or next or past 31 0.992083700679\n",
      "prev or next or past 32 0.992179400819\n",
      "prev or next or past 33 0.992271048729\n",
      "prev or next or past 34 0.992363372011\n",
      "prev or next or past 35 0.992425708799\n",
      "prev or next or past 36 0.992482642615\n",
      "prev or next or past 37 0.992577667383\n",
      "prev or next or past 38 0.992628117633\n",
      "prev or next or past 39 0.992727262167\n",
      "prev or next or past 40 0.992786829932\n",
      "prev or next or past 41 0.992857203641\n",
      "prev or next or past 42 0.992919878114\n",
      "prev or next or past 43 0.99297255709\n",
      "prev or next or past 44 0.993028005089\n",
      "prev or next or past 45 0.99305333152\n",
      "prev or next or past 46 0.993086762408\n",
      "prev or next or past 47 0.993147140619\n",
      "prev or next or past 48 0.993171251381\n",
      "prev or next or past 49 0.993192863268\n",
      "prev or next or past 50 0.993227307214\n",
      "prev or next or past 51 0.993245609781\n",
      "prev or next or past 52 0.99328187723\n",
      "prev or next or past 53 0.99331834729\n",
      "prev or next or past 54 0.993358126671\n",
      "prev or next or past 55 0.993408374309\n",
      "prev or next or past 56 0.993426271654\n",
      "prev or next or past 57 0.993456730908\n",
      "prev or next or past 58 0.993475573772\n",
      "prev or next or past 59 0.993486852476\n",
      "prev or next or past 60 0.993498468865\n",
      "prev or next or past 61 0.993517514341\n",
      "prev or next or past 62 0.993587820513\n",
      "prev or next or past 63 0.993597478325\n",
      "prev or next or past 64 0.99362672191\n",
      "prev or next or past 65 0.993656978553\n",
      "prev or next or past 66 0.993671161354\n",
      "prev or next or past 67 0.993727284724\n",
      "prev or next or past 68 0.993741332451\n",
      "prev or next or past 69 0.993748018629\n",
      "prev or next or past 70 0.993759162258\n",
      "prev or next or past 71 0.993765645825\n",
      "prev or next or past 72 0.993801102828\n",
      "prev or next or past 73 0.99381643376\n",
      "prev or next or past 74 0.993823525161\n",
      "prev or next or past 75 0.993827239704\n",
      "prev or next or past 76 0.993860603055\n",
      "prev or next or past 77 0.993862966856\n",
      "prev or next or past 78 0.993866613862\n",
      "prev or next or past 79 0.99386735677\n",
      "prev or next or past 80 0.993870328405\n",
      "prev or next or past 81 0.993875393691\n",
      "prev or next or past 82 0.993882957852\n",
      "prev or next or past 83 0.993885794412\n",
      "prev or next or past 84 0.993889576492\n",
      "prev or next or past 85 0.993893088424\n",
      "prev or next or past 86 0.99389342611\n",
      "prev or next or past 87 0.993894506704\n",
      "prev or next or past 88 0.993895114538\n",
      "prev or next or past 89 0.993896330207\n",
      "prev or next or past 90 0.993897073116\n",
      "prev or next or past 91 0.993897275727\n",
      "prev or next or past 92 0.993904704813\n",
      "prev or next or past 93 0.993909499951\n",
      "prev or next or past 94 0.993914835386\n",
      "prev or next or past 95 0.993917942094\n",
      "prev or next or past 96 0.993920508506\n",
      "prev or next or past 97 0.99392111634\n",
      "prev or next or past 98 0.993930031244\n",
      "prev or next or past 99 0.993931449524\n",
      "prev or next or past 100 0.99393273273\n"
     ]
    }
   ],
   "source": [
    "norm = {k:float(v)/total_stats['total'] for k,v in total_stats.viewitems()}\n",
    "print 'select prev gets answer correct', sumkeys(norm, 'first and next equal and correct', 'first correct only')\n",
    "print 'prev or next gets answer correct', sumkeys(norm, 'first and next equal and correct', 'first correct only', 'next correct only')\n",
    "print 'prev or next or newtab gets answer correct', sumkeys(norm, 'first and next equal and correct', 'first correct only', 'next correct only', 'newtab')\n",
    "for i in range(1, 101):\n",
    "  sumprev = sum([norm.get('nth previous correct '+str(x),0.0) for x in range(i+1)])\n",
    "  print 'prev or next or past ' + str(i), sumkeys(norm, 'first and next equal and correct', 'first correct only', 'next correct only', 'newtab')+sumprev"
   ]
  },
  {
   "cell_type": "code",
   "execution_count": 26,
   "metadata": {
    "collapsed": false
   },
   "outputs": [],
   "source": [
    "#print norm['most_recent_distractor_total']\n",
    "#print norm['most_recent_distractor_curdomain']\n",
    "#print norm['most_recent_distractor_nextdomain']\n",
    "#print norm['most_recent_distractor_some_prev_domain']"
   ]
  }
 ],
 "metadata": {
  "kernelspec": {
   "display_name": "Python 2",
   "language": "python",
   "name": "python2"
  },
  "language_info": {
   "codemirror_mode": {
    "name": "ipython",
    "version": 2
   },
   "file_extension": ".py",
   "mimetype": "text/x-python",
   "name": "python",
   "nbconvert_exporter": "python",
   "pygments_lexer": "ipython2",
   "version": "2.7.11"
  }
 },
 "nbformat": 4,
 "nbformat_minor": 0
}
