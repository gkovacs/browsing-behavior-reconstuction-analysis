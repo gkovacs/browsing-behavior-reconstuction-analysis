{
 "cells": [
  {
   "cell_type": "code",
   "execution_count": 25,
   "metadata": {
    "collapsed": false
   },
   "outputs": [
    {
     "data": {
      "text/plain": [
       "0"
      ]
     },
     "execution_count": 25,
     "metadata": {},
     "output_type": "execute_result"
    }
   ],
   "source": [
    "# noexport\n",
    "\n",
    "import os\n",
    "os.system('export_notebook identify_domain.ipynb')"
   ]
  },
  {
   "cell_type": "code",
   "execution_count": null,
   "metadata": {
    "collapsed": true
   },
   "outputs": [],
   "source": []
  },
  {
   "cell_type": "code",
   "execution_count": 1,
   "metadata": {
    "collapsed": true
   },
   "outputs": [],
   "source": [
    "from tmilib import *"
   ]
  },
  {
   "cell_type": "code",
   "execution_count": 3,
   "metadata": {
    "collapsed": false
   },
   "outputs": [],
   "source": [
    "#user = get_test_users()[0]\n",
    "#print user"
   ]
  },
  {
   "cell_type": "code",
   "execution_count": null,
   "metadata": {
    "collapsed": true
   },
   "outputs": [],
   "source": []
  },
  {
   "cell_type": "code",
   "execution_count": null,
   "metadata": {
    "collapsed": false
   },
   "outputs": [],
   "source": []
  },
  {
   "cell_type": "code",
   "execution_count": null,
   "metadata": {
    "collapsed": false
   },
   "outputs": [],
   "source": []
  },
  {
   "cell_type": "code",
   "execution_count": 4,
   "metadata": {
    "collapsed": false
   },
   "outputs": [],
   "source": [
    "#tab_focus_times = get_tab_focus_times_for_user(user)\n",
    "#print tab_focus_times[0].keys()"
   ]
  },
  {
   "cell_type": "code",
   "execution_count": 5,
   "metadata": {
    "collapsed": false
   },
   "outputs": [],
   "source": [
    "#print active_second_to_domain_id.keys()[:10]"
   ]
  },
  {
   "cell_type": "code",
   "execution_count": 2,
   "metadata": {
    "collapsed": false
   },
   "outputs": [],
   "source": [
    "def get_recently_seen_domain_stats_for_user(user):\n",
    "  ordered_visits = get_history_ordered_visits_corrected_for_user(user)\n",
    "  ordered_visits = exclude_bad_visits(ordered_visits)\n",
    "  active_domain_at_time = get_active_domain_at_time_for_user(user)\n",
    "  active_seconds_set = set(get_active_seconds_for_user(user))\n",
    "  active_second_to_domain_id = get_active_second_to_domain_id_for_user(user)\n",
    "  recently_seen_domain_ids = [-1]*100\n",
    "  stats = Counter()\n",
    "  nomatch_domains = Counter()\n",
    "  for idx,visit in enumerate(ordered_visits):\n",
    "    if idx+1 >= len(ordered_visits):\n",
    "      break\n",
    "    next_visit = ordered_visits[idx+1]\n",
    "    cur_domain = url_to_domain(visit['url'])\n",
    "    cur_domain_id = domain_to_id(cur_domain)\n",
    "    if cur_domain_id != recently_seen_domain_ids[-1]:\n",
    "      recently_seen_domain_ids.append(cur_domain_id)\n",
    "    next_domain = url_to_domain(next_visit['url'])\n",
    "    next_domain_id = domain_to_id(next_domain)\n",
    "    cur_time_sec = int(round(visit['visitTime'] / 1000.0))\n",
    "    next_time_sec = int(round(visit['visitTime'] / 1000.0))\n",
    "    for time_sec in xrange(cur_time_sec, next_time_sec+1):\n",
    "      if time_sec not in active_seconds_set:\n",
    "        continue\n",
    "      ref_domain_id = active_second_to_domain_id[str(time_sec)]\n",
    "      stats['total'] += 1\n",
    "      if cur_domain_id == ref_domain_id:\n",
    "        if next_domain_id == cur_domain_id:\n",
    "          stats['first and next equal and correct'] += 1\n",
    "          continue\n",
    "        else:\n",
    "          stats['first correct only'] += 1\n",
    "          continue\n",
    "      else:\n",
    "        if next_domain_id == cur_domain_id:\n",
    "          stats['both incorrect'] += 1\n",
    "          found_match = False\n",
    "          for i in range(1,101):\n",
    "            if recently_seen_domain_ids[-1-i] == ref_domain_id:\n",
    "              stats['nth previous correct ' + str(abs(i))] += 1\n",
    "              stats['some previous among past 100 correct'] += 1\n",
    "              found_match = True\n",
    "              break\n",
    "          if not found_match:\n",
    "            ref_domain = id_to_domain(ref_domain_id)\n",
    "            if ref_domain == \n",
    "            stats['no match found'] += 1\n",
    "            nomatch_domains[id_to_domain(ref_domain_id)] += 1\n",
    "          continue\n",
    "        if next_domain_id == ref_domain_id:\n",
    "          stats['next correct only'] += 1\n",
    "          continue\n",
    "  return {\n",
    "    'stats': stats,\n",
    "    'nomatch_domains': nomatch_domains,\n",
    "  }"
   ]
  },
  {
   "cell_type": "code",
   "execution_count": 3,
   "metadata": {
    "collapsed": true
   },
   "outputs": [],
   "source": [
    "total_nomatch_domains = Counter()\n",
    "\n",
    "for user in get_test_users():\n",
    "  for k,v in get_recently_seen_domain_stats_for_user(user)['nomatch_domains'].viewitems():\n",
    "    total_nomatch_domains[k] += v\n"
   ]
  },
  {
   "cell_type": "code",
   "execution_count": 4,
   "metadata": {
    "collapsed": false
   },
   "outputs": [
    {
     "name": "stdout",
     "output_type": "stream",
     "text": [
      "newtab 6069\n",
      "klbibkeccnjlkjkiokjodocebajanakg 582\n",
      "bookmarks 246\n",
      "www.google.com 199\n",
      " 178\n",
      "hitgrabber.net 54\n",
      "history 41\n",
      "goo.gl 41\n",
      "local-ntp 41\n",
      "gmail.com 35\n",
      "www.ow.ly 34\n",
      "uts.saintleo.edu 28\n",
      "maps.google.com 24\n",
      "www.gmail.com 23\n",
      "www.fhb.com 21\n",
      "www.hotmail.com 20\n",
      "docs.google.com 20\n",
      "yahoo.com 19\n",
      "bit.ly 19\n",
      "tmi.stanford.edu 18\n",
      "www.facebook.com 17\n",
      "elliman.com 16\n",
      "mail.yahoo.com 16\n",
      "click.messages.webmd.com 15\n",
      "www.google.co.in 15\n",
      "click.harrispollonline.com 15\n",
      "www.techpowerup.com 14\n",
      "apps 14\n",
      "www.amazon.com 13\n",
      "www.bit.ly 12\n",
      "www.bigcattracks.com 12\n",
      "extensions 12\n",
      "amazon.com 11\n",
      "www.instructables.com 11\n",
      "youtu.be 10\n",
      "yhoo.it 10\n",
      "www.pandora.com 10\n",
      "www.google.com.tr 10\n",
      "mturk.com 10\n",
      "www.reddit.com 10\n",
      "movies.netflix.com 10\n",
      "www.financial-net.com 9\n",
      "tinyurl.com 9\n",
      "click.email.time.com 9\n",
      "www.turkitron.com 9\n",
      "paypal.com 8\n",
      "www.stream2watch.co 8\n",
      "adclick.g.doubleclick.net 8\n",
      "ws.surveymyopinion.com 7\n",
      "instagram.com 7\n",
      "lifeleadership.com 7\n",
      "erlibird.com 6\n",
      "link.digg.com 6\n",
      "www.surveymyopinion.com 6\n",
      "gvsupsychology.qualtrics.com 6\n",
      "facebook.com 6\n",
      "ezproxy.vccs.edu:2048 5\n",
      "greasyfork.org 5\n",
      "tiny.cc 5\n",
      "qtrial2013.qualtrics.com 5\n",
      "settings 5\n",
      "criny.com 5\n",
      "l.facebook.com 5\n",
      "sprint.com 5\n",
      "www.jcpcreditcard.com 5\n",
      "ugapsych.az1.qualtrics.com 5\n",
      "www.mturkgrind.com 5\n",
      "www.youtube.com 5\n",
      "samplify.peanutlabs.com 5\n",
      "apps.facebook.com 5\n",
      "www.bing.com 5\n",
      "adstract.adk2x.com 4\n",
      "loyolaquinlan.qualtrics.com 4\n",
      "netflix.com 4\n",
      "go.microsoft.com 4\n",
      "mandrillapp.com 4\n",
      "pinterest.com 4\n",
      "www.premieramerica.com 4\n",
      "netspend.com 4\n",
      "op.gg 4\n",
      "prolificacademic.co.uk 4\n",
      "drive.google.com 4\n",
      "fppvu.qualtrics.com 4\n",
      "downloads 4\n",
      "ebay.com 4\n",
      "qklnk.co 4\n",
      "www.mturk.com 3\n",
      "www.netflix.com 3\n",
      "my.smccd.edu 3\n",
      "market8e9dlq.intengoresearch.com 3\n",
      "solutions.brother.com 3\n",
      "cl.exct.net 3\n",
      "lbs.qualtrics.com 3\n",
      "hotmail.com 3\n",
      "brazzerz.com 3\n",
      "www.google.lv 3\n",
      "youtube.com 3\n",
      "uat1.admin.cs-int-592.com 3\n",
      "informationrx.com 3\n",
      "e.jcpenney.com 3\n"
     ]
    }
   ],
   "source": [
    "#print total_nomatch_domains\n",
    "print_counter(total_nomatch_domains)"
   ]
  },
  {
   "cell_type": "code",
   "execution_count": 16,
   "metadata": {
    "collapsed": false
   },
   "outputs": [],
   "source": [
    "#total_stats = Counter({'total': 544544, 'first and next equal and correct': 351081, 'first correct only': 88522, 'both incorrect': 51663, 'some previous among past 20 correct': 41231, 'nth previous correct 1': 31202, 'next correct only': 23569, 'no match found': 10432, 'nth previous correct 2': 3311, 'nth previous correct 3': 1635, 'nth previous correct 4': 905, 'nth previous correct 5': 862, 'nth previous correct 6': 545, 'nth previous correct 7': 412, 'nth previous correct 8': 357, 'nth previous correct 9': 269, 'nth previous correct 10': 259, 'nth previous correct 13': 234, 'nth previous correct 11': 229, 'nth previous correct 12': 190, 'nth previous correct 15': 183, 'nth previous correct 14': 140, 'nth previous correct 17': 139, 'nth previous correct 20': 95, 'nth previous correct 16': 90, 'nth previous correct 19': 88, 'nth previous correct 18': 86})\n",
    "\n",
    "total_stats = Counter()\n",
    "\n",
    "for user in get_test_users():\n",
    "  for k,v in get_recently_seen_domain_stats_for_user(user).viewitems():\n",
    "    total_stats[k] += v\n",
    "\n",
    "#total_stats = Counter({'total': 544544, 'first and next equal and correct': 351081, 'first correct only': 88522, 'both incorrect': 51663, 'some previous among past 20 correct': 41136, 'nth previous correct 2': 31202, 'next correct only': 23569, 'no match found': 10527, 'nth previous correct 3': 3311, 'nth previous correct 4': 1635, 'nth previous correct 5': 905, 'nth previous correct 6': 862, 'nth previous correct 7': 545, 'nth previous correct 8': 412, 'nth previous correct 9': 357, 'nth previous correct 10': 269, 'nth previous correct 11': 259, 'nth previous correct 14': 234, 'nth previous correct 12': 229, 'nth previous correct 13': 190, 'nth previous correct 16': 183, 'nth previous correct 15': 140, 'nth previous correct 18': 139, 'nth previous correct 17': 90, 'nth previous correct 20': 88, 'nth previous correct 19': 86})"
   ]
  },
  {
   "cell_type": "code",
   "execution_count": 17,
   "metadata": {
    "collapsed": false
   },
   "outputs": [
    {
     "name": "stdout",
     "output_type": "stream",
     "text": [
      "Counter({'total': 544544, 'first and next equal and correct': 351081, 'first correct only': 88522, 'both incorrect': 51663, 'some previous among past 20 correct': 41231, 'nth previous correct 1': 31202, 'next correct only': 23569, 'no match found': 10432, 'nth previous correct 2': 3311, 'nth previous correct 3': 1635, 'nth previous correct 4': 905, 'nth previous correct 5': 862, 'nth previous correct 6': 545, 'nth previous correct 7': 412, 'nth previous correct 8': 357, 'nth previous correct 9': 269, 'nth previous correct 10': 259, 'nth previous correct 13': 234, 'nth previous correct 11': 229, 'nth previous correct 12': 190, 'nth previous correct 15': 183, 'nth previous correct 14': 140, 'nth previous correct 17': 139, 'nth previous correct 20': 95, 'nth previous correct 16': 90, 'nth previous correct 19': 88, 'nth previous correct 18': 86})\n"
     ]
    }
   ],
   "source": [
    "print total_stats"
   ]
  },
  {
   "cell_type": "code",
   "execution_count": 18,
   "metadata": {
    "collapsed": false
   },
   "outputs": [],
   "source": [
    "def sumkeys(d, *args):\n",
    "  return sum(d.get(x, 0.0) for x in args)"
   ]
  },
  {
   "cell_type": "code",
   "execution_count": 21,
   "metadata": {
    "collapsed": false
   },
   "outputs": [
    {
     "name": "stdout",
     "output_type": "stream",
     "text": [
      "select prev gets answer correct 0.807286463536\n",
      "prev or next gets answer correct 0.850568549098\n",
      "prev or next or past 1 0.907867867427\n",
      "prev or next or past 2 0.913948184169\n",
      "prev or next or past 3 0.916950696362\n",
      "prev or next or past 4 0.918612637363\n",
      "prev or next or past 5 0.92019561321\n",
      "prev or next or past 6 0.921196450608\n",
      "prev or next or past 7 0.921953046953\n",
      "prev or next or past 8 0.922608641359\n",
      "prev or next or past 9 0.923102632661\n",
      "prev or next or past 10 0.923578259975\n",
      "prev or next or past 11 0.923998795322\n",
      "prev or next or past 12 0.924347711112\n",
      "prev or next or past 13 0.924777428454\n",
      "prev or next or past 14 0.925034524299\n",
      "prev or next or past 15 0.925370585297\n",
      "prev or next or past 16 0.925535861198\n",
      "prev or next or past 17 0.925791120644\n",
      "prev or next or past 18 0.925949050949\n",
      "prev or next or past 19 0.926110654052\n",
      "prev or next or past 20 0.926285111947\n"
     ]
    }
   ],
   "source": [
    "norm = {k:float(v)/total_stats['total'] for k,v in total_stats.viewitems()}\n",
    "print 'select prev gets answer correct', sumkeys(norm, 'first and next equal and correct', 'first correct only')\n",
    "print 'prev or next gets answer correct', sumkeys(norm, 'first and next equal and correct', 'first correct only', 'next correct only')\n",
    "for i in range(1, 101):\n",
    "  sumprev = sum([norm.get('nth previous correct '+str(x),0.0) for x in range(i+1)])\n",
    "  print 'prev or next or past ' + str(i), sumkeys(norm, 'first and next equal and correct', 'first correct only', 'next correct only')+sumprev"
   ]
  }
 ],
 "metadata": {
  "kernelspec": {
   "display_name": "Python 2",
   "language": "python",
   "name": "python2"
  },
  "language_info": {
   "codemirror_mode": {
    "name": "ipython",
    "version": 2
   },
   "file_extension": ".py",
   "mimetype": "text/x-python",
   "name": "python",
   "nbconvert_exporter": "python",
   "pygments_lexer": "ipython2",
   "version": "2.7.11"
  }
 },
 "nbformat": 4,
 "nbformat_minor": 0
}
