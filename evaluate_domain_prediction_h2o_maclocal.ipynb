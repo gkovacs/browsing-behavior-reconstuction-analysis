{
 "cells": [
  {
   "cell_type": "code",
   "execution_count": 8,
   "metadata": {
    "collapsed": true
   },
   "outputs": [],
   "source": [
    "import csv"
   ]
  },
  {
   "cell_type": "code",
   "execution_count": 1,
   "metadata": {
    "collapsed": false
   },
   "outputs": [
    {
     "name": "stdout",
     "output_type": "stream",
     "text": [
      "\n",
      "\n",
      "No instance found at ip and port: localhost:54321. Trying to start local jar...\n",
      "\n",
      "\n",
      "JVM stdout: /var/folders/9y/khkqwm9n23nfx4m794l7n90r0000gn/T/tmp4Mr4zm/h2o_geza_started_from_python.out\n",
      "JVM stderr: /var/folders/9y/khkqwm9n23nfx4m794l7n90r0000gn/T/tmpagbuD6/h2o_geza_started_from_python.err\n",
      "Using ice_root: /var/folders/9y/khkqwm9n23nfx4m794l7n90r0000gn/T/tmpt_nRuH\n",
      "\n",
      "\n",
      "Java Version: java version \"1.8.0_31\"\n",
      "Java(TM) SE Runtime Environment (build 1.8.0_31-b13)\n",
      "Java HotSpot(TM) 64-Bit Server VM (build 25.31-b07, mixed mode)\n",
      "\n",
      "\n",
      "Starting H2O JVM and connecting: .................. Connection successful!\n"
     ]
    },
    {
     "name": "stderr",
     "output_type": "stream",
     "text": [
      "/Library/Frameworks/Python.framework/Versions/2.7/lib/python2.7/site-packages/IPython/core/formatters.py:92: DeprecationWarning: DisplayFormatter._ipython_display_formatter_default is deprecated: use @default decorator instead.\n",
      "  def _ipython_display_formatter_default(self):\n",
      "/Library/Frameworks/Python.framework/Versions/2.7/lib/python2.7/site-packages/IPython/core/formatters.py:98: DeprecationWarning: DisplayFormatter._formatters_default is deprecated: use @default decorator instead.\n",
      "  def _formatters_default(self):\n",
      "/Library/Frameworks/Python.framework/Versions/2.7/lib/python2.7/site-packages/IPython/core/formatters.py:677: DeprecationWarning: PlainTextFormatter._deferred_printers_default is deprecated: use @default decorator instead.\n",
      "  def _deferred_printers_default(self):\n",
      "/Library/Frameworks/Python.framework/Versions/2.7/lib/python2.7/site-packages/IPython/core/formatters.py:669: DeprecationWarning: PlainTextFormatter._singleton_printers_default is deprecated: use @default decorator instead.\n",
      "  def _singleton_printers_default(self):\n",
      "/Library/Frameworks/Python.framework/Versions/2.7/lib/python2.7/site-packages/IPython/core/formatters.py:672: DeprecationWarning: PlainTextFormatter._type_printers_default is deprecated: use @default decorator instead.\n",
      "  def _type_printers_default(self):\n",
      "/Library/Frameworks/Python.framework/Versions/2.7/lib/python2.7/site-packages/IPython/core/formatters.py:669: DeprecationWarning: PlainTextFormatter._singleton_printers_default is deprecated: use @default decorator instead.\n",
      "  def _singleton_printers_default(self):\n",
      "/Library/Frameworks/Python.framework/Versions/2.7/lib/python2.7/site-packages/IPython/core/formatters.py:672: DeprecationWarning: PlainTextFormatter._type_printers_default is deprecated: use @default decorator instead.\n",
      "  def _type_printers_default(self):\n",
      "/Library/Frameworks/Python.framework/Versions/2.7/lib/python2.7/site-packages/IPython/core/formatters.py:677: DeprecationWarning: PlainTextFormatter._deferred_printers_default is deprecated: use @default decorator instead.\n",
      "  def _deferred_printers_default(self):\n"
     ]
    },
    {
     "data": {
      "text/html": [
       "<div style=\"overflow:auto\"><table style=\"width:50%\"><tr><td>H2O cluster uptime: </td>\n",
       "<td>2 seconds 108 milliseconds </td></tr>\n",
       "<tr><td>H2O cluster version: </td>\n",
       "<td>3.8.1.4</td></tr>\n",
       "<tr><td>H2O cluster name: </td>\n",
       "<td>H2O_started_from_python_geza_sqq369</td></tr>\n",
       "<tr><td>H2O cluster total nodes: </td>\n",
       "<td>1</td></tr>\n",
       "<tr><td>H2O cluster total free memory: </td>\n",
       "<td>1.78 GB</td></tr>\n",
       "<tr><td>H2O cluster total cores: </td>\n",
       "<td>4</td></tr>\n",
       "<tr><td>H2O cluster allowed cores: </td>\n",
       "<td>4</td></tr>\n",
       "<tr><td>H2O cluster healthy: </td>\n",
       "<td>True</td></tr>\n",
       "<tr><td>H2O Connection ip: </td>\n",
       "<td>127.0.0.1</td></tr>\n",
       "<tr><td>H2O Connection port: </td>\n",
       "<td>54321</td></tr>\n",
       "<tr><td>H2O Connection proxy: </td>\n",
       "<td>None</td></tr>\n",
       "<tr><td>Python Version: </td>\n",
       "<td>2.7.11</td></tr></table></div>"
      ],
      "text/plain": [
       "------------------------------  -----------------------------------\n",
       "H2O cluster uptime:             2 seconds 108 milliseconds\n",
       "H2O cluster version:            3.8.1.4\n",
       "H2O cluster name:               H2O_started_from_python_geza_sqq369\n",
       "H2O cluster total nodes:        1\n",
       "H2O cluster total free memory:  1.78 GB\n",
       "H2O cluster total cores:        4\n",
       "H2O cluster allowed cores:      4\n",
       "H2O cluster healthy:            True\n",
       "H2O Connection ip:              127.0.0.1\n",
       "H2O Connection port:            54321\n",
       "H2O Connection proxy:\n",
       "Python Version:                 2.7.11\n",
       "------------------------------  -----------------------------------"
      ]
     },
     "metadata": {},
     "output_type": "display_data"
    }
   ],
   "source": [
    "from tmilib import *\n",
    "from h2o_utils import *\n",
    "\n",
    "import h2o\n",
    "h2o.init()"
   ]
  },
  {
   "cell_type": "code",
   "execution_count": 2,
   "metadata": {
    "collapsed": true
   },
   "outputs": [],
   "source": [
    "import traceback"
   ]
  },
  {
   "cell_type": "code",
   "execution_count": 39,
   "metadata": {
    "collapsed": false
   },
   "outputs": [],
   "source": [
    "classifier = load_h2o_model(sdir_path('domainclass_cpn_v80_randomforest_v1.h2o'))"
   ]
  },
  {
   "cell_type": "code",
   "execution_count": 40,
   "metadata": {
    "collapsed": false
   },
   "outputs": [
    {
     "name": "stdout",
     "output_type": "stream",
     "text": [
      "Model Details\n",
      "=============\n",
      "H2ORandomForestEstimator :  Distributed Random Forest\n",
      "Model Key:  DRF_model_python_1460423233828_3\n",
      "\n",
      "Model Summary: \n"
     ]
    },
    {
     "data": {
      "text/html": [
       "<div style=\"overflow:auto\"><table style=\"width:50%\"><tr><td><b></b></td>\n",
       "<td><b>number_of_trees</b></td>\n",
       "<td><b>model_size_in_bytes</b></td>\n",
       "<td><b>min_depth</b></td>\n",
       "<td><b>max_depth</b></td>\n",
       "<td><b>mean_depth</b></td>\n",
       "<td><b>min_leaves</b></td>\n",
       "<td><b>max_leaves</b></td>\n",
       "<td><b>mean_leaves</b></td></tr>\n",
       "<tr><td></td>\n",
       "<td>300.0</td>\n",
       "<td>83240624.0000000</td>\n",
       "<td>20.0</td>\n",
       "<td>20.0</td>\n",
       "<td>20.0</td>\n",
       "<td>9434.0</td>\n",
       "<td>59144.0</td>\n",
       "<td>23976.723</td></tr></table></div>"
      ],
      "text/plain": [
       "    number_of_trees    model_size_in_bytes    min_depth    max_depth    mean_depth    min_leaves    max_leaves    mean_leaves\n",
       "--  -----------------  ---------------------  -----------  -----------  ------------  ------------  ------------  -------------\n",
       "    300                8.32406e+07            20           20           20            9434          59144         23976.7"
      ]
     },
     "metadata": {},
     "output_type": "display_data"
    },
    {
     "name": "stdout",
     "output_type": "stream",
     "text": [
      "\n",
      "\n",
      "ModelMetricsMultinomial: drf\n",
      "** Reported on train data. **\n",
      "\n",
      "MSE: 0.0888208915824\n",
      "R^2: 0.926516294218\n",
      "LogLoss: 0.29837480807\n",
      "\n",
      "Confusion Matrix: vertical: actual; across: predicted\n",
      "\n"
     ]
    },
    {
     "data": {
      "text/html": [
       "<div style=\"overflow:auto\"><table style=\"width:50%\"><tr><td><b>c</b></td>\n",
       "<td><b>n</b></td>\n",
       "<td><b>p1</b></td>\n",
       "<td><b>p2</b></td>\n",
       "<td><b>p3</b></td>\n",
       "<td><b>p4</b></td>\n",
       "<td><b>Error</b></td>\n",
       "<td><b>Rate</b></td></tr>\n",
       "<tr><td>11651877.0000000</td>\n",
       "<td>52782.0</td>\n",
       "<td>17657.0</td>\n",
       "<td>4129.0</td>\n",
       "<td>1855.0</td>\n",
       "<td>2064.0</td>\n",
       "<td>0.0066909</td>\n",
       "<td>78,487 / 11,730,364</td></tr>\n",
       "<tr><td>378486.0</td>\n",
       "<td>902845.0</td>\n",
       "<td>3145.0</td>\n",
       "<td>1766.0</td>\n",
       "<td>1267.0</td>\n",
       "<td>952.0</td>\n",
       "<td>0.2992842</td>\n",
       "<td>385,616 / 1,288,461</td></tr>\n",
       "<tr><td>502771.0</td>\n",
       "<td>6217.0</td>\n",
       "<td>849929.0</td>\n",
       "<td>1419.0</td>\n",
       "<td>1233.0</td>\n",
       "<td>385.0</td>\n",
       "<td>0.3759488</td>\n",
       "<td>512,025 / 1,361,954</td></tr>\n",
       "<tr><td>235626.0</td>\n",
       "<td>9820.0</td>\n",
       "<td>5682.0</td>\n",
       "<td>348909.0</td>\n",
       "<td>695.0</td>\n",
       "<td>407.0</td>\n",
       "<td>0.4195868</td>\n",
       "<td>252,230 / 601,139</td></tr>\n",
       "<tr><td>140213.0</td>\n",
       "<td>5879.0</td>\n",
       "<td>2255.0</td>\n",
       "<td>866.0</td>\n",
       "<td>175538.0</td>\n",
       "<td>395.0</td>\n",
       "<td>0.4601256</td>\n",
       "<td>149,608 / 325,146</td></tr>\n",
       "<tr><td>82474.0</td>\n",
       "<td>3075.0</td>\n",
       "<td>1554.0</td>\n",
       "<td>227.0</td>\n",
       "<td>254.0</td>\n",
       "<td>146634.0</td>\n",
       "<td>0.3739422</td>\n",
       "<td>87,584 / 234,218</td></tr>\n",
       "<tr><td>12991447.0000000</td>\n",
       "<td>980618.0</td>\n",
       "<td>880222.0</td>\n",
       "<td>357316.0</td>\n",
       "<td>180842.0</td>\n",
       "<td>150837.0</td>\n",
       "<td>0.0943005</td>\n",
       "<td>1,465,550 / 15,541,282</td></tr></table></div>"
      ],
      "text/plain": [
       "c            n       p1      p2      p3      p4      Error       Rate\n",
       "-----------  ------  ------  ------  ------  ------  ----------  ----------------------\n",
       "1.16519e+07  52782   17657   4129    1855    2064    0.00669093  78,487 / 11,730,364\n",
       "378486       902845  3145    1766    1267    952     0.299284    385,616 / 1,288,461\n",
       "502771       6217    849929  1419    1233    385     0.375949    512,025 / 1,361,954\n",
       "235626       9820    5682    348909  695     407     0.419587    252,230 / 601,139\n",
       "140213       5879    2255    866     175538  395     0.460126    149,608 / 325,146\n",
       "82474        3075    1554    227     254     146634  0.373942    87,584 / 234,218\n",
       "1.29914e+07  980618  880222  357316  180842  150837  0.0943005   1,465,550 / 15,541,282"
      ]
     },
     "metadata": {},
     "output_type": "display_data"
    },
    {
     "name": "stdout",
     "output_type": "stream",
     "text": [
      "\n",
      "Top-6 Hit Ratios: \n"
     ]
    },
    {
     "data": {
      "text/html": [
       "<div style=\"overflow:auto\"><table style=\"width:50%\"><tr><td><b>k</b></td>\n",
       "<td><b>hit_ratio</b></td></tr>\n",
       "<tr><td>1</td>\n",
       "<td>0.9056996</td></tr>\n",
       "<tr><td>2</td>\n",
       "<td>0.9860793</td></tr>\n",
       "<tr><td>3</td>\n",
       "<td>0.9964336</td></tr>\n",
       "<tr><td>4</td>\n",
       "<td>0.998958</td></tr>\n",
       "<tr><td>5</td>\n",
       "<td>0.9997779</td></tr>\n",
       "<tr><td>6</td>\n",
       "<td>0.9999999</td></tr></table></div>"
      ],
      "text/plain": [
       "k    hit_ratio\n",
       "---  -----------\n",
       "1    0.9057\n",
       "2    0.986079\n",
       "3    0.996434\n",
       "4    0.998958\n",
       "5    0.999778\n",
       "6    1"
      ]
     },
     "metadata": {},
     "output_type": "display_data"
    },
    {
     "name": "stdout",
     "output_type": "stream",
     "text": [
      "\n",
      "ModelMetricsMultinomial: drf\n",
      "** Reported on validation data. **\n",
      "\n",
      "MSE: 0.185070339788\n",
      "R^2: 0.829721323709\n",
      "LogLoss: 0.627757455284\n",
      "\n",
      "Confusion Matrix: vertical: actual; across: predicted\n",
      "\n"
     ]
    },
    {
     "data": {
      "text/html": [
       "<div style=\"overflow:auto\"><table style=\"width:50%\"><tr><td><b>c</b></td>\n",
       "<td><b>n</b></td>\n",
       "<td><b>p1</b></td>\n",
       "<td><b>p2</b></td>\n",
       "<td><b>p3</b></td>\n",
       "<td><b>p4</b></td>\n",
       "<td><b>Error</b></td>\n",
       "<td><b>Rate</b></td></tr>\n",
       "<tr><td>10117880.0000000</td>\n",
       "<td>104177.0</td>\n",
       "<td>28069.0</td>\n",
       "<td>3844.0</td>\n",
       "<td>1018.0</td>\n",
       "<td>88.0</td>\n",
       "<td>0.0133784</td>\n",
       "<td>137,196 / 10,255,076</td></tr>\n",
       "<tr><td>744903.0</td>\n",
       "<td>260703.0</td>\n",
       "<td>4854.0</td>\n",
       "<td>2268.0</td>\n",
       "<td>332.0</td>\n",
       "<td>11.0</td>\n",
       "<td>0.7426607</td>\n",
       "<td>752,368 / 1,013,071</td></tr>\n",
       "<tr><td>903767.0</td>\n",
       "<td>11363.0</td>\n",
       "<td>119175.0</td>\n",
       "<td>1446.0</td>\n",
       "<td>310.0</td>\n",
       "<td>25.0</td>\n",
       "<td>0.8849758</td>\n",
       "<td>916,911 / 1,036,086</td></tr>\n",
       "<tr><td>414438.0</td>\n",
       "<td>19649.0</td>\n",
       "<td>8137.0</td>\n",
       "<td>11374.0</td>\n",
       "<td>15.0</td>\n",
       "<td>67.0</td>\n",
       "<td>0.9749295</td>\n",
       "<td>442,306 / 453,680</td></tr>\n",
       "<tr><td>244718.0</td>\n",
       "<td>8404.0</td>\n",
       "<td>3664.0</td>\n",
       "<td>407.0</td>\n",
       "<td>1361.0</td>\n",
       "<td>42.0</td>\n",
       "<td>0.9947370</td>\n",
       "<td>257,235 / 258,596</td></tr>\n",
       "<tr><td>148092.0</td>\n",
       "<td>5602.0</td>\n",
       "<td>1388.0</td>\n",
       "<td>1015.0</td>\n",
       "<td>0.0</td>\n",
       "<td>640.0</td>\n",
       "<td>0.9959167</td>\n",
       "<td>156,097 / 156,737</td></tr>\n",
       "<tr><td>12573798.0000000</td>\n",
       "<td>409898.0</td>\n",
       "<td>165287.0</td>\n",
       "<td>20354.0</td>\n",
       "<td>3036.0</td>\n",
       "<td>873.0</td>\n",
       "<td>0.2020848</td>\n",
       "<td>2,662,113 / 13,173,246</td></tr></table></div>"
      ],
      "text/plain": [
       "c            n       p1      p2     p3    p4    Error      Rate\n",
       "-----------  ------  ------  -----  ----  ----  ---------  ----------------------\n",
       "1.01179e+07  104177  28069   3844   1018  88    0.0133784  137,196 / 10,255,076\n",
       "744903       260703  4854    2268   332   11    0.742661   752,368 / 1,013,071\n",
       "903767       11363   119175  1446   310   25    0.884976   916,911 / 1,036,086\n",
       "414438       19649   8137    11374  15    67    0.974929   442,306 / 453,680\n",
       "244718       8404    3664    407    1361  42    0.994737   257,235 / 258,596\n",
       "148092       5602    1388    1015   0     640   0.995917   156,097 / 156,737\n",
       "1.25738e+07  409898  165287  20354  3036  873   0.202085   2,662,113 / 13,173,246"
      ]
     },
     "metadata": {},
     "output_type": "display_data"
    },
    {
     "name": "stdout",
     "output_type": "stream",
     "text": [
      "\n",
      "Top-6 Hit Ratios: \n"
     ]
    },
    {
     "data": {
      "text/html": [
       "<div style=\"overflow:auto\"><table style=\"width:50%\"><tr><td><b>k</b></td>\n",
       "<td><b>hit_ratio</b></td></tr>\n",
       "<tr><td>1</td>\n",
       "<td>0.7979152</td></tr>\n",
       "<tr><td>2</td>\n",
       "<td>0.9189072</td></tr>\n",
       "<tr><td>3</td>\n",
       "<td>0.9607231</td></tr>\n",
       "<tr><td>4</td>\n",
       "<td>0.9825429</td></tr>\n",
       "<tr><td>5</td>\n",
       "<td>0.9959276</td></tr>\n",
       "<tr><td>6</td>\n",
       "<td>1.0</td></tr></table></div>"
      ],
      "text/plain": [
       "k    hit_ratio\n",
       "---  -----------\n",
       "1    0.797915\n",
       "2    0.918907\n",
       "3    0.960723\n",
       "4    0.982543\n",
       "5    0.995928\n",
       "6    1"
      ]
     },
     "metadata": {},
     "output_type": "display_data"
    },
    {
     "name": "stdout",
     "output_type": "stream",
     "text": [
      "\n",
      "Scoring History: \n"
     ]
    },
    {
     "data": {
      "text/html": [
       "<div style=\"overflow:auto\"><table style=\"width:50%\"><tr><td><b></b></td>\n",
       "<td><b>timestamp</b></td>\n",
       "<td><b>duration</b></td>\n",
       "<td><b>number_of_trees</b></td>\n",
       "<td><b>training_MSE</b></td>\n",
       "<td><b>training_logloss</b></td>\n",
       "<td><b>training_classification_error</b></td>\n",
       "<td><b>validation_MSE</b></td>\n",
       "<td><b>validation_logloss</b></td>\n",
       "<td><b>validation_classification_error</b></td></tr>\n",
       "<tr><td></td>\n",
       "<td>2016-04-11 19:17:29</td>\n",
       "<td> 0.046 sec</td>\n",
       "<td>0.0</td>\n",
       "<td>nan</td>\n",
       "<td>nan</td>\n",
       "<td>nan</td>\n",
       "<td>1.0</td>\n",
       "<td>34.5387764</td>\n",
       "<td>0.3973518</td></tr>\n",
       "<tr><td></td>\n",
       "<td>2016-04-11 19:18:02</td>\n",
       "<td>32.665 sec</td>\n",
       "<td>1.0</td>\n",
       "<td>0.1130990</td>\n",
       "<td>0.8552151</td>\n",
       "<td>0.1209240</td>\n",
       "<td>0.2370387</td>\n",
       "<td>3.5248915</td>\n",
       "<td>0.2604591</td></tr>\n",
       "<tr><td></td>\n",
       "<td>2016-04-11 19:19:34</td>\n",
       "<td> 2 min  4.422 sec</td>\n",
       "<td>4.0</td>\n",
       "<td>0.1054614</td>\n",
       "<td>0.6201524</td>\n",
       "<td>0.1123036</td>\n",
       "<td>0.1923432</td>\n",
       "<td>0.8763546</td>\n",
       "<td>0.2102241</td></tr>\n",
       "<tr><td></td>\n",
       "<td>2016-04-11 19:23:28</td>\n",
       "<td> 5 min 59.142 sec</td>\n",
       "<td>12.0</td>\n",
       "<td>0.0934324</td>\n",
       "<td>0.3350760</td>\n",
       "<td>0.0992780</td>\n",
       "<td>0.1870835</td>\n",
       "<td>0.6961991</td>\n",
       "<td>0.2034086</td></tr>\n",
       "<tr><td></td>\n",
       "<td>2016-04-11 19:32:52</td>\n",
       "<td>15 min 22.616 sec</td>\n",
       "<td>31.0</td>\n",
       "<td>0.0901945</td>\n",
       "<td>0.3030561</td>\n",
       "<td>0.0958810</td>\n",
       "<td>0.1854710</td>\n",
       "<td>0.6378183</td>\n",
       "<td>0.2025162</td></tr>\n",
       "<tr><td></td>\n",
       "<td>2016-04-11 19:44:09</td>\n",
       "<td>26 min 40.368 sec</td>\n",
       "<td>50.0</td>\n",
       "<td>0.0888209</td>\n",
       "<td>0.2983748</td>\n",
       "<td>0.0943005</td>\n",
       "<td>0.1850703</td>\n",
       "<td>0.6277575</td>\n",
       "<td>0.2020848</td></tr></table></div>"
      ],
      "text/plain": [
       "    timestamp            duration           number_of_trees    training_MSE    training_logloss    training_classification_error    validation_MSE    validation_logloss    validation_classification_error\n",
       "--  -------------------  -----------------  -----------------  --------------  ------------------  -------------------------------  ----------------  --------------------  ---------------------------------\n",
       "    2016-04-11 19:17:29  0.046 sec          0                  nan             nan                 nan                              1                 34.5388               0.397352\n",
       "    2016-04-11 19:18:02  32.665 sec         1                  0.113099        0.855215            0.120924                         0.237039          3.52489               0.260459\n",
       "    2016-04-11 19:19:34  2 min  4.422 sec   4                  0.105461        0.620152            0.112304                         0.192343          0.876355              0.210224\n",
       "    2016-04-11 19:23:28  5 min 59.142 sec   12                 0.0934324       0.335076            0.099278                         0.187083          0.696199              0.203409\n",
       "    2016-04-11 19:32:52  15 min 22.616 sec  31                 0.0901945       0.303056            0.095881                         0.185471          0.637818              0.202516\n",
       "    2016-04-11 19:44:09  26 min 40.368 sec  50                 0.0888209       0.298375            0.0943005                        0.18507           0.627757              0.202085"
      ]
     },
     "metadata": {},
     "output_type": "display_data"
    },
    {
     "name": "stdout",
     "output_type": "stream",
     "text": [
      "\n",
      "Variable Importances: \n"
     ]
    },
    {
     "data": {
      "text/html": [
       "<div style=\"overflow:auto\"><table style=\"width:50%\"><tr><td><b>variable</b></td>\n",
       "<td><b>relative_importance</b></td>\n",
       "<td><b>scaled_importance</b></td>\n",
       "<td><b>percentage</b></td></tr>\n",
       "<tr><td>cur_domain_letter</td>\n",
       "<td>8937751.0</td>\n",
       "<td>1.0</td>\n",
       "<td>0.0787553</td></tr>\n",
       "<tr><td>prev1_domain_letter</td>\n",
       "<td>7432535.5</td>\n",
       "<td>0.8315890</td>\n",
       "<td>0.0654920</td></tr>\n",
       "<tr><td>next_domain_letter</td>\n",
       "<td>7052040.0</td>\n",
       "<td>0.7890173</td>\n",
       "<td>0.0621393</td></tr>\n",
       "<tr><td>spanlen</td>\n",
       "<td>6418416.5</td>\n",
       "<td>0.7181243</td>\n",
       "<td>0.0565561</td></tr>\n",
       "<tr><td>prev2_domain_letter</td>\n",
       "<td>6166042.0</td>\n",
       "<td>0.6898874</td>\n",
       "<td>0.0543323</td></tr>\n",
       "<tr><td>---</td>\n",
       "<td>---</td>\n",
       "<td>---</td>\n",
       "<td>---</td></tr>\n",
       "<tr><td>n_eq_p4</td>\n",
       "<td>243682.8437500</td>\n",
       "<td>0.0272644</td>\n",
       "<td>0.0021472</td></tr>\n",
       "<tr><td>nref_eq_p4</td>\n",
       "<td>154077.1406250</td>\n",
       "<td>0.0172389</td>\n",
       "<td>0.0013577</td></tr>\n",
       "<tr><td>cref_eq_p2</td>\n",
       "<td>108163.9921880</td>\n",
       "<td>0.0121019</td>\n",
       "<td>0.0009531</td></tr>\n",
       "<tr><td>cref_eq_p3</td>\n",
       "<td>43349.9101562</td>\n",
       "<td>0.0048502</td>\n",
       "<td>0.0003820</td></tr>\n",
       "<tr><td>cref_eq_p4</td>\n",
       "<td>31358.0585938</td>\n",
       "<td>0.0035085</td>\n",
       "<td>0.0002763</td></tr></table></div>"
      ],
      "text/plain": [
       "variable             relative_importance    scaled_importance    percentage\n",
       "-------------------  ---------------------  -------------------  -----------------\n",
       "cur_domain_letter    8937751.0              1.0                  0.0787552605413\n",
       "prev1_domain_letter  7432535.5              0.83158900936        0.0654920090954\n",
       "next_domain_letter   7052040.0              0.789017281864       0.0621392616048\n",
       "spanlen              6418416.5              0.718124335753       0.0565560691633\n",
       "prev2_domain_letter  6166042.0              0.689887422462       0.0543322637002\n",
       "---                  ---                    ---                  ---\n",
       "n_eq_p4              243682.84375           0.0272644475943      0.0021472186738\n",
       "nref_eq_p4           154077.140625          0.0172389162134      0.00135765533783\n",
       "cref_eq_p2           108163.992188          0.0121019249907      0.000953090255693\n",
       "cref_eq_p3           43349.9101562          0.0048502033852      0.000381979031279\n",
       "cref_eq_p4           31358.0585938          0.00350849543624     0.000276312472189"
      ]
     },
     "metadata": {},
     "output_type": "display_data"
    },
    {
     "name": "stdout",
     "output_type": "stream",
     "text": [
      "\n"
     ]
    }
   ],
   "source": [
    "print classifier"
   ]
  },
  {
   "cell_type": "code",
   "execution_count": 14,
   "metadata": {
    "collapsed": true
   },
   "outputs": [],
   "source": [
    "def get_total_items_actual():\n",
    "  return 13836775\n",
    "\n",
    "def get_total_items_attempted(classifier):\n",
    "  output = 0\n",
    "  m = classifier.confusion_matrix().to_list()\n",
    "  for i in range(len(m)):\n",
    "    output += sum(m[i])\n",
    "  return output\n",
    "\n",
    "def get_num_correctly_classified(classifier):\n",
    "  output = 0\n",
    "  m = classifier.confusion_matrix().to_list()\n",
    "  for i in range(len(m)):\n",
    "    output += m[i][i]\n",
    "  return output"
   ]
  },
  {
   "cell_type": "code",
   "execution_count": 95,
   "metadata": {
    "collapsed": true
   },
   "outputs": [],
   "source": [
    "def obj_recursive_search(obj, v):\n",
    "  try:\n",
    "    for k in dir(obj):\n",
    "      try:\n",
    "        if getattr(obj, k) == v:\n",
    "          print 'Found'\n",
    "          return True\n",
    "      except:\n",
    "        continue\n",
    "    for k in dir(obj):\n",
    "      nv = getattr(obj, k)\n",
    "      if obj_recursive_search(nv, v):\n",
    "        return True\n",
    "    return False\n",
    "  except:\n",
    "    return False"
   ]
  },
  {
   "cell_type": "code",
   "execution_count": null,
   "metadata": {
    "collapsed": false
   },
   "outputs": [],
   "source": [
    "print obj_recursive_search(classifier, 'model_performance')"
   ]
  },
  {
   "cell_type": "code",
   "execution_count": 5,
   "metadata": {
    "collapsed": false
   },
   "outputs": [],
   "source": [
    "#a=repr(classifier)\n",
    "\n",
    "#print dir(classifier.score_history)\n",
    "#print classifier.score_history\n",
    "#print (classifier.model_performance)"
   ]
  },
  {
   "cell_type": "code",
   "execution_count": 89,
   "metadata": {
    "collapsed": false
   },
   "outputs": [
    {
     "name": "stdout",
     "output_type": "stream",
     "text": [
      "\n"
     ]
    }
   ],
   "source": [
    "print a"
   ]
  },
  {
   "cell_type": "code",
   "execution_count": 66,
   "metadata": {
    "collapsed": false
   },
   "outputs": [
    {
     "name": "stdout",
     "output_type": "stream",
     "text": [
      "13014539\n",
      "13784643\n",
      "13836775\n",
      "0.940576037408\n",
      "0.944133192278\n",
      "0.996232359058\n"
     ]
    }
   ],
   "source": [
    "#print classifier.confusion_matrix().to_list()\n",
    "print get_num_correctly_classified(classifier)\n",
    "print get_total_items_attempted(classifier)\n",
    "print get_total_items_actual()\n",
    "print get_num_correctly_classified(classifier) / float(get_total_items_actual())\n",
    "print get_num_correctly_classified(classifier) / float(get_total_items_attempted(classifier))\n",
    "print get_total_items_attempted(classifier) / float(get_total_items_actual())"
   ]
  },
  {
   "cell_type": "code",
   "execution_count": 69,
   "metadata": {
    "collapsed": false
   },
   "outputs": [
    {
     "data": {
      "text/plain": [
       "0.7309243664076347"
      ]
     },
     "execution_count": 69,
     "metadata": {},
     "output_type": "execute_result"
    }
   ],
   "source": [
    "(9298518.0+815118.0)/13836775"
   ]
  },
  {
   "cell_type": "code",
   "execution_count": 12,
   "metadata": {
    "collapsed": false
   },
   "outputs": [],
   "source": [
    "baseline_correct = 0\n",
    "first_line = True\n",
    "for line in csv.reader(sdir_open('domainclass_cpn_test_all_withdomain_v12.csv')):\n",
    "  if first_line:\n",
    "    first_line = False\n",
    "    continue\n",
    "  if line[3] == 'c':\n",
    "    baseline_correct += 1\n"
   ]
  },
  {
   "cell_type": "code",
   "execution_count": 15,
   "metadata": {
    "collapsed": false
   },
   "outputs": [
    {
     "name": "stdout",
     "output_type": "stream",
     "text": [
      "0.741146401528\n"
     ]
    }
   ],
   "source": [
    "print baseline_correct / float(get_total_items_actual())"
   ]
  },
  {
   "cell_type": "code",
   "execution_count": 5,
   "metadata": {
    "collapsed": false
   },
   "outputs": [
    {
     "name": "stdout",
     "output_type": "stream",
     "text": [
      "\n",
      "Parse Progress: [##################################################] 100%\n"
     ]
    }
   ],
   "source": [
    "test_data = h2o.import_file(sdir_path('domainclass_cpn_test_v1.csv'))\n"
   ]
  },
  {
   "cell_type": "code",
   "execution_count": 6,
   "metadata": {
    "collapsed": false
   },
   "outputs": [
    {
     "name": "stdout",
     "output_type": "stream",
     "text": [
      "\n",
      "drf prediction Progress: [##################################################] 100%\n"
     ]
    }
   ],
   "source": [
    "test_predictions = classifier.predict(test_data)"
   ]
  },
  {
   "cell_type": "code",
   "execution_count": 1,
   "metadata": {
    "collapsed": false
   },
   "outputs": [
    {
     "ename": "NameError",
     "evalue": "name 'test_predictions' is not defined",
     "output_type": "error",
     "traceback": [
      "\u001b[1;31m---------------------------------------------------------------------------\u001b[0m",
      "\u001b[1;31mNameError\u001b[0m                                 Traceback (most recent call last)",
      "\u001b[1;32m<ipython-input-1-ef4dc90a6c21>\u001b[0m in \u001b[0;36m<module>\u001b[1;34m()\u001b[0m\n\u001b[1;32m----> 1\u001b[1;33m \u001b[1;32mprint\u001b[0m \u001b[0mtest_predictions\u001b[0m\u001b[1;33m\u001b[0m\u001b[0m\n\u001b[0m",
      "\u001b[1;31mNameError\u001b[0m: name 'test_predictions' is not defined"
     ]
    }
   ],
   "source": [
    "print test_predictions"
   ]
  }
 ],
 "metadata": {
  "kernelspec": {
   "display_name": "Python 2",
   "language": "python",
   "name": "python2"
  },
  "language_info": {
   "codemirror_mode": {
    "name": "ipython",
    "version": 2
   },
   "file_extension": ".py",
   "mimetype": "text/x-python",
   "name": "python",
   "nbconvert_exporter": "python",
   "pygments_lexer": "ipython2",
   "version": "2.7.11"
  }
 },
 "nbformat": 4,
 "nbformat_minor": 0
}
