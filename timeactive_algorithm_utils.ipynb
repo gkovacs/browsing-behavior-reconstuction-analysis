{
 "cells": [
  {
   "cell_type": "code",
   "execution_count": 1,
   "metadata": {
    "collapsed": false
   },
   "outputs": [
    {
     "data": {
      "text/plain": [
       "0"
      ]
     },
     "execution_count": 1,
     "metadata": {},
     "output_type": "execute_result"
    }
   ],
   "source": [
    "# noexport\n",
    "\n",
    "import os\n",
    "os.system('export_notebook timeactive_algorithm_utils.ipynb')"
   ]
  },
  {
   "cell_type": "code",
   "execution_count": 2,
   "metadata": {
    "collapsed": true
   },
   "outputs": [],
   "source": [
    "from tmilib import *\n",
    "import csv\n",
    "from itertools import izip"
   ]
  },
  {
   "cell_type": "code",
   "execution_count": 3,
   "metadata": {
    "collapsed": true
   },
   "outputs": [],
   "source": [
    "@jsonmemoized\n",
    "def get_user_to_predicted_times_active_our_algorithm():\n",
    "  predictions_csv = csv.reader(sdir_open('catdata_test_insession_second_evaluation_predictions_datav4_modelv6.csv'))\n",
    "  predictions_header = next(predictions_csv)\n",
    "  print predictions_header\n",
    "\n",
    "  test_data_csv = csv.reader(sdir_open('catdata_test_insession_second_evaluation_v4.csv'))\n",
    "  test_data_header = next(test_data_csv)\n",
    "  print test_data_header\n",
    "  \n",
    "  assert test_data_header[0] == 'user'\n",
    "  assert predictions_header[0] == 'predict'\n",
    "  \n",
    "  output = {}\n",
    "  \n",
    "  for predictions_line,test_line in izip(predictions_csv, test_data_csv):\n",
    "    predict = predictions_line[0] == 'T'\n",
    "    if predict:\n",
    "      user = test_line[0]\n",
    "      time_sec = int(test_line[1])\n",
    "      if user not in output:\n",
    "        output[user] = []\n",
    "      output[user].append(time_sec)\n",
    "  for k in output.keys():\n",
    "    output[k].sort()\n",
    "  return output"
   ]
  },
  {
   "cell_type": "code",
   "execution_count": 4,
   "metadata": {
    "collapsed": true
   },
   "outputs": [],
   "source": [
    "@jsonmemoized\n",
    "def get_user_to_predicted_times_active_baseline_algorithm():\n",
    "  predictions_csv = csv.reader(sdir_open('catdata_test_insession_second_evaluation_predictions_datav4_modelv6.csv'))\n",
    "  predictions_header = next(predictions_csv)\n",
    "  print predictions_header\n",
    "\n",
    "  test_data_csv = csv.reader(sdir_open('catdata_test_insession_second_evaluation_v4.csv'))\n",
    "  test_data_header = next(test_data_csv)\n",
    "  print test_data_header\n",
    "  \n",
    "  assert test_data_header[0] == 'user'\n",
    "  assert predictions_header[0] == 'predict'\n",
    "  \n",
    "  log_fivemin = log(5*60)\n",
    "  \n",
    "  output = {}\n",
    "  \n",
    "  for predictions_line,test_line in izip(predictions_csv, test_data_csv):\n",
    "    sinceprev = float(test_line[3])\n",
    "    predict = sinceprev < log_fivemin\n",
    "    if predict:\n",
    "      user = test_line[0]\n",
    "      time_sec = int(test_line[1])\n",
    "      if user not in output:\n",
    "        output[user] = []\n",
    "      output[user].append(time_sec)\n",
    "  for k in output.keys():\n",
    "    output[k].sort()\n",
    "  return output"
   ]
  },
  {
   "cell_type": "code",
   "execution_count": 5,
   "metadata": {
    "collapsed": true
   },
   "outputs": [],
   "source": [
    "@jsonmemoized\n",
    "def get_user_to_predicted_times_active_baseline3_algorithm():\n",
    "  predictions_csv = csv.reader(sdir_open('catdata_test_insession_second_evaluation_predictions_datav4_modelv6.csv'))\n",
    "  predictions_header = next(predictions_csv)\n",
    "  print predictions_header\n",
    "\n",
    "  test_data_csv = csv.reader(sdir_open('catdata_test_insession_second_evaluation_v4.csv'))\n",
    "  test_data_header = next(test_data_csv)\n",
    "  print test_data_header\n",
    "  \n",
    "  assert test_data_header[0] == 'user'\n",
    "  assert predictions_header[0] == 'predict'\n",
    "  \n",
    "  log_onemin = log(1*60)\n",
    "  \n",
    "  output = {}\n",
    "  \n",
    "  for predictions_line,test_line in izip(predictions_csv, test_data_csv):\n",
    "    sinceprev = float(test_line[3])\n",
    "    predict = sinceprev < log_onemin\n",
    "    if predict:\n",
    "      user = test_line[0]\n",
    "      time_sec = int(test_line[1])\n",
    "      if user not in output:\n",
    "        output[user] = []\n",
    "      output[user].append(time_sec)\n",
    "  for k in output.keys():\n",
    "    output[k].sort()\n",
    "  return output"
   ]
  },
  {
   "cell_type": "code",
   "execution_count": 6,
   "metadata": {
    "collapsed": true
   },
   "outputs": [],
   "source": [
    "@jsonmemoized\n",
    "def get_user_to_predicted_times_active_baseline2_algorithm():\n",
    "  predictions_csv = csv.reader(sdir_open('catdata_test_insession_second_evaluation_predictions_datav4_modelv6.csv'))\n",
    "  predictions_header = next(predictions_csv)\n",
    "  print predictions_header\n",
    "\n",
    "  test_data_csv = csv.reader(sdir_open('catdata_test_insession_second_evaluation_v4.csv'))\n",
    "  test_data_header = next(test_data_csv)\n",
    "  print test_data_header\n",
    "  \n",
    "  assert test_data_header[0] == 'user'\n",
    "  assert predictions_header[0] == 'predict'\n",
    "  \n",
    "  log_onemin = log(1*60)\n",
    "  \n",
    "  output = {}\n",
    "  \n",
    "  user_to_is_active_in_majority_of_sessions = get_username_to_is_active_in_majority_of_sessions()\n",
    "  \n",
    "  for predictions_line,test_line in izip(predictions_csv, test_data_csv):\n",
    "    user = test_line[0]\n",
    "    predict = user_to_is_active_in_majority_of_sessions[user]\n",
    "    if predict:\n",
    "      time_sec = int(test_line[1])\n",
    "      if user not in output:\n",
    "        output[user] = []\n",
    "      output[user].append(time_sec)\n",
    "  for k in output.keys():\n",
    "    output[k].sort()\n",
    "  return output"
   ]
  },
  {
   "cell_type": "code",
   "execution_count": 7,
   "metadata": {
    "collapsed": false
   },
   "outputs": [
    {
     "name": "stdout",
     "output_type": "stream",
     "text": [
      "['predict', 'F', 'T']\n",
      "['user', 'time_sec', 'label', 'sinceprev', 'tonext', 'spanlen', 'samedomain', 'fromdomain', 'todomain', 'fromprod', 'toprod']\n"
     ]
    }
   ],
   "source": [
    "a=get_user_to_predicted_times_active_baseline_algorithm()\n",
    "a=get_user_to_predicted_times_active_baseline3_algorithm()\n",
    "a=get_user_to_predicted_times_active_baseline2_algorithm()"
   ]
  }
 ],
 "metadata": {
  "kernelspec": {
   "display_name": "Python 2",
   "language": "python",
   "name": "python2"
  },
  "language_info": {
   "codemirror_mode": {
    "name": "ipython",
    "version": 2
   },
   "file_extension": ".py",
   "mimetype": "text/x-python",
   "name": "python",
   "nbconvert_exporter": "python",
   "pygments_lexer": "ipython2",
   "version": "2.7.6"
  }
 },
 "nbformat": 4,
 "nbformat_minor": 0
}
