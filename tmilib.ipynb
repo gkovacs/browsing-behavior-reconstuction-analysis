{
 "cells": [
  {
   "cell_type": "code",
   "execution_count": 2,
   "metadata": {
    "collapsed": false
   },
   "outputs": [
    {
     "data": {
      "text/plain": [
       "0"
      ]
     },
     "execution_count": 2,
     "metadata": {},
     "output_type": "execute_result"
    }
   ],
   "source": [
    "# noexport\n",
    "\n",
    "import os\n",
    "os.system('export_notebook tmilib.ipynb')"
   ]
  },
  {
   "cell_type": "code",
   "execution_count": 6,
   "metadata": {
    "collapsed": true
   },
   "outputs": [],
   "source": [
    "from tmilib_base import *"
   ]
  },
  {
   "cell_type": "code",
   "execution_count": 7,
   "metadata": {
    "collapsed": true
   },
   "outputs": [],
   "source": [
    "def create_if_doesnt_exist(filename, function):\n",
    "  if sdir_exists(filename):\n",
    "    return\n",
    "  data = function()\n",
    "  sdir_dumpjson(filename, data)\n",
    "\n",
    "def create_and_get(filename, function):\n",
    "  create_if_doesnt_exist(filename, function)\n",
    "  return sdir_loadjson(filename)"
   ]
  },
  {
   "cell_type": "code",
   "execution_count": 8,
   "metadata": {
    "collapsed": true
   },
   "outputs": [],
   "source": [
    "def compute_username_to_mturk_id():\n",
    "  username_to_mturk_id = {}\n",
    "  #for filename in (list_logfiles() + list_mlogfiles()):\n",
    "  for filename in list_logfiles():\n",
    "    print filename\n",
    "    data = json.load(open(filename))\n",
    "    last_item = data[len(data) - 1]\n",
    "    user = last_item['user']\n",
    "    if 'mturkid' not in last_item:\n",
    "      continue\n",
    "    mturkid = last_item['mturkid']\n",
    "    username_to_mturk_id[user] = mturkid\n",
    "  return username_to_mturk_id\n",
    "\n",
    "def get_username_to_mturk_id():\n",
    "  return create_and_get('username_to_mturk_id.json', compute_username_to_mturk_id)\n"
   ]
  },
  {
   "cell_type": "code",
   "execution_count": 9,
   "metadata": {
    "collapsed": false
   },
   "outputs": [],
   "source": [
    "@memoized\n",
    "def compute_mturkid_to_history_pages_and_visits():\n",
    "  username_to_mturk_id = get_username_to_mturk_id()\n",
    "  mturkid_to_history_pages = {}\n",
    "  mturkid_to_history_visits = {}\n",
    "  mturkid_to_hid = {}\n",
    "  for filename in list_histfiles():\n",
    "    print filename\n",
    "    all_lines = json.load(open(filename))\n",
    "    for line in reversed(all_lines):\n",
    "      evt = line['evt']\n",
    "      hid = line['hid']\n",
    "      user = line.get('user', None)\n",
    "      mturkid = line.get('mturkid', None)\n",
    "      if mturkid == None:\n",
    "        if user == None:\n",
    "          continue\n",
    "        mturkid = username_to_mturk_id.get(user, None)\n",
    "        if mturkid == None:\n",
    "          continue\n",
    "      orig_hid = mturkid_to_hid.get(mturkid, 0)\n",
    "      if orig_hid > hid:\n",
    "        continue\n",
    "      if hid > orig_hid:\n",
    "        mturkid_to_hid[mturkid] = hid\n",
    "        mturkid_to_history_pages[mturkid] = []\n",
    "        mturkid_to_history_visits[mturkid] = {}\n",
    "      data = json.loads(decompress_lzstring.decompressFromBase64(line['data']))\n",
    "      if evt == 'history_pages':\n",
    "        mturkid_to_history_pages[mturkid] = data\n",
    "      if evt == 'history_visits':\n",
    "        for k,v in data.items():\n",
    "          mturkid_to_history_visits[mturkid][k] = v\n",
    "  return mturkid_to_history_pages,mturkid_to_history_visits\n",
    "\n",
    "def compute_mturkid_to_history_pages():\n",
    "  return compute_mturkid_to_history_pages_and_visits()[0]\n",
    "\n",
    "def compute_mturkid_to_history_visits():\n",
    "  return compute_mturkid_to_history_pages_and_visits()[1]\n",
    "\n",
    "def get_mturkid_to_history_pages():\n",
    "  return create_and_get('mturkid_to_history_pages.json', compute_mturkid_to_history_pages)\n",
    "\n",
    "def get_mturkid_to_history_visits():\n",
    "  return create_and_get('mturkid_to_history_visits.json', compute_mturkid_to_history_visits)\n"
   ]
  },
  {
   "cell_type": "code",
   "execution_count": 4,
   "metadata": {
    "collapsed": true
   },
   "outputs": [],
   "source": [
    "def compute_mturkid_to_time_last_active():\n",
    "  mturkid_to_time_last_active = {}\n",
    "  for logfile in list_logfiles():\n",
    "    print logfile\n",
    "    for data in iterate_data_compressed_reverse(logfile):\n",
    "      if 'mturkid' not in data:\n",
    "        break\n",
    "      mturkid = data['mturkid']\n",
    "      time = data['time']\n",
    "      mturkid_to_time_last_active[mturkid] = time\n",
    "      break\n",
    "  return mturkid_to_time_last_active\n",
    "\n",
    "def get_mturkid_to_time_last_active():\n",
    "  return create_and_get('mturkid_to_time_last_active.json', compute_mturkid_to_time_last_active)\n"
   ]
  },
  {
   "cell_type": "code",
   "execution_count": 1,
   "metadata": {
    "collapsed": true
   },
   "outputs": [],
   "source": [
    "def compute_domains_list():\n",
    "  mturkid_to_history_pages = get_mturkid_to_history_pages()\n",
    "  alldomains = set()\n",
    "  for k,v in mturkid_to_history_pages.items():\n",
    "    for pageinfo in v:\n",
    "      url = pageinfo['url']\n",
    "      domain = url_to_domain(url)\n",
    "      alldomains.add(domain)\n",
    "  return list(alldomains)\n",
    "\n",
    "def get_domains_list():\n",
    "  return create_and_get('domains_list.json', compute_domains_list)"
   ]
  }
 ],
 "metadata": {
  "kernelspec": {
   "display_name": "Python 2",
   "language": "python",
   "name": "python2"
  },
  "language_info": {
   "codemirror_mode": {
    "name": "ipython",
    "version": 2
   },
   "file_extension": ".py",
   "mimetype": "text/x-python",
   "name": "python",
   "nbconvert_exporter": "python",
   "pygments_lexer": "ipython2",
   "version": "2.7.11"
  }
 },
 "nbformat": 4,
 "nbformat_minor": 0
}
