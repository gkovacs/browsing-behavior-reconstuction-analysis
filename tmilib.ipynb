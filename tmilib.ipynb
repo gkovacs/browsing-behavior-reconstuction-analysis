{
 "cells": [
  {
   "cell_type": "code",
   "execution_count": 1,
   "metadata": {
    "collapsed": false
   },
   "outputs": [
    {
     "data": {
      "text/plain": [
       "0"
      ]
     },
     "execution_count": 1,
     "metadata": {},
     "output_type": "execute_result"
    }
   ],
   "source": [
    "# noexport\n",
    "\n",
    "import os\n",
    "os.system('export_notebook tmilib.ipynb')"
   ]
  },
  {
   "cell_type": "code",
   "execution_count": 2,
   "metadata": {
    "collapsed": false
   },
   "outputs": [],
   "source": [
    "from tmilib_base import *\n",
    "from session_tracker import SessionTracker, get_focused_tab\n",
    "from reconstruct_focus_times import ReconstructFocusTimesBaseline\n",
    "from reconstruct_focus_times_base import *\n",
    "from jsonmemoized import *\n",
    "from msgpackmemoized import *\n",
    "#from bloscmemoized import *\n",
    "\n",
    "from rescuetime_utils import *\n",
    "\n",
    "import tmilib_cython"
   ]
  },
  {
   "cell_type": "code",
   "execution_count": null,
   "metadata": {
    "collapsed": false
   },
   "outputs": [],
   "source": []
  },
  {
   "cell_type": "code",
   "execution_count": 3,
   "metadata": {
    "collapsed": true
   },
   "outputs": [],
   "source": [
    "function_name_to_function_mapping = {\n",
    "  # single json files\n",
    "  \n",
    "  #'username_to_mturk_id': compute_username_to_mturk_id,\n",
    "  #'mturkid_to_history_pages': compute_mturkid_to_history_pages,\n",
    "  #'mturkid_to_history_visits': compute_mturkid_to_history_visits,\n",
    "  #'mturkid_to_time_last_active': compute_mturkid_to_time_last_active,\n",
    "  #'domains_list': compute_domains_list,\n",
    "  \n",
    "  # multiuser directories\n",
    "  \n",
    "  #'tab_focus_times_for_user': compute_tab_focus_times_for_user,\n",
    "  #'history_pages_for_user': compute_history_pages_for_user,\n",
    "  #'history_visits_for_user': compute_history_visits_for_user,\n",
    "  #'history_ordered_visits_for_user': compute_history_ordered_visits_for_user,\n",
    "}\n",
    "\n",
    "def get_compute_function_from_name(name):\n",
    "  if name.endswith('.json'):\n",
    "    name = name[:-5] # removes .json\n",
    "  elif name.endswith('.jsonlines'):\n",
    "    name = name[:-10]\n",
    "  elif name.endswith('.msgpack'):\n",
    "    name = name[:-8]\n",
    "  if name in function_name_to_function_mapping:\n",
    "    return function_name_to_function_mapping[name]\n",
    "  compute_function = globals().get('compute_' + name, None)\n",
    "  if compute_function != None:\n",
    "    function_name_to_function_mapping[name] = compute_function\n",
    "    return compute_function\n",
    "  raise Exception('get_function_for_name failed for ' + name)\n",
    "\n"
   ]
  },
  {
   "cell_type": "code",
   "execution_count": null,
   "metadata": {
    "collapsed": true
   },
   "outputs": [],
   "source": []
  },
  {
   "cell_type": "code",
   "execution_count": 4,
   "metadata": {
    "collapsed": true
   },
   "outputs": [],
   "source": [
    "def create_if_doesnt_exist(filename, function=None):\n",
    "  if function == None:\n",
    "    function = get_compute_function_from_name(filename)\n",
    "  if sdir_exists(filename):\n",
    "    return\n",
    "  data = function()\n",
    "  if sdir_exists(filename):\n",
    "    return\n",
    "  sdir_dumpjson(filename, data)\n",
    "\n",
    "def create_and_get(filename, function=None):\n",
    "  create_if_doesnt_exist(filename, function)\n",
    "  return sdir_loadjson(filename)\n",
    "\n",
    "def create_if_doesnt_exist_msgpack(filename, function=None):\n",
    "  if function == None:\n",
    "    function = get_compute_function_from_name(filename)\n",
    "  if sdir_exists(filename):\n",
    "    return\n",
    "  data = function()\n",
    "  if sdir_exists(filename):\n",
    "    return\n",
    "  sdir_dumpmsgpack(filename, data)\n",
    "\n",
    "def create_and_get_msgpack(filename, function=None):\n",
    "  create_if_doesnt_exist_msgpack(filename, function)\n",
    "  return sdir_loadmsgpack(filename)"
   ]
  },
  {
   "cell_type": "code",
   "execution_count": 5,
   "metadata": {
    "collapsed": true
   },
   "outputs": [],
   "source": [
    "def compute_function_for_key(key, name, function=None):\n",
    "  if function == None:\n",
    "    function = get_compute_function_from_name(name)\n",
    "  outfile = name + '/' + key + '.json'\n",
    "  if sdir_exists(outfile):\n",
    "    return\n",
    "  print outfile\n",
    "  ensure_sdir_subdir_exists(name)\n",
    "  result = function(key)\n",
    "  if sdir_exists(outfile):\n",
    "    return\n",
    "  sdir_dumpjson(outfile, result)\n",
    "\n",
    "def get_function_for_key(key, name, function=None):\n",
    "  compute_function_for_key(key, name, function)\n",
    "  outfile = name + '/' + key + '.json'\n",
    "  return sdir_loadjson(outfile)\n",
    "\n",
    "def compute_function_for_key_msgpack(key, name, function=None):\n",
    "  if function == None:\n",
    "    function = get_compute_function_from_name(name)\n",
    "  outfile = name + '/' + key + '.msgpack'\n",
    "  if sdir_exists(outfile):\n",
    "    return\n",
    "  print outfile\n",
    "  ensure_sdir_subdir_exists(name)\n",
    "  result = function(key)\n",
    "  if sdir_exists(outfile):\n",
    "    return\n",
    "  sdir_dumpmsgpack(outfile, result)\n",
    "\n",
    "def get_function_for_key_msgpack(key, name, function=None):\n",
    "  compute_function_for_key_msgpack(key, name, function)\n",
    "  outfile = name + '/' + key + '.msgpack'\n",
    "  return sdir_loadmsgpack(outfile)\n",
    "\n",
    "\n",
    "def compute_function_for_key_lines(key, name, function=None):\n",
    "  if function == None:\n",
    "    function = get_compute_function_from_name(name)\n",
    "  outfile = name + '/' + key + '.jsonlines'\n",
    "  if sdir_exists(outfile):\n",
    "    return\n",
    "  print outfile\n",
    "  ensure_sdir_subdir_exists(name)\n",
    "  result = function(key)\n",
    "  if sdir_exists(outfile):\n",
    "    return\n",
    "  sdir_dumpjsonlines(outfile, result)  \n",
    "\n",
    "def get_function_for_key_lines(key, name, function=None):\n",
    "  compute_function_for_key_lines(key, name, function)\n",
    "  outfile = name + '/' + key + '.jsonlines'\n",
    "  return sdir_loadjsonlines(outfile)"
   ]
  },
  {
   "cell_type": "code",
   "execution_count": null,
   "metadata": {
    "collapsed": false
   },
   "outputs": [],
   "source": []
  },
  {
   "cell_type": "code",
   "execution_count": 6,
   "metadata": {
    "collapsed": true
   },
   "outputs": [],
   "source": [
    "'''\n",
    "def compute_username_to_mturk_id():\n",
    "  username_to_mturk_id = {}\n",
    "  #for filename in (list_logfiles() + list_mlogfiles()):\n",
    "  for filename in list_logfiles():\n",
    "    print filename\n",
    "    data = json.load(open(filename))\n",
    "    last_item = data[len(data) - 1]\n",
    "    user = last_item['user']\n",
    "    if 'mturkid' not in last_item:\n",
    "      continue\n",
    "    mturkid = last_item['mturkid']\n",
    "    username_to_mturk_id[user] = mturkid\n",
    "  return username_to_mturk_id\n",
    "'''\n",
    "\n",
    "def compute_username_to_mturk_id():\n",
    "  output = {}\n",
    "  for user in list_users_with_log():\n",
    "    for line in iterate_logs_for_user_compressed(user):\n",
    "      if 'mturkid' in line:\n",
    "        mturkid = line['mturkid']\n",
    "        output[user] = mturkid\n",
    "        break\n",
    "  return output\n",
    "\n",
    "def get_username_to_mturk_id():\n",
    "  #return create_and_get('username_to_mturk_id.json', compute_username_to_mturk_id)\n",
    "  return create_and_get('username_to_mturk_id.json')\n",
    "\n",
    "def precompute_username_to_mturk_id():\n",
    "  create_if_doesnt_exist('username_to_mturk_id.json')\n"
   ]
  },
  {
   "cell_type": "code",
   "execution_count": 7,
   "metadata": {
    "collapsed": false
   },
   "outputs": [],
   "source": [
    "@memoized\n",
    "def compute_mturkid_to_history_pages_and_visits():\n",
    "  username_to_mturk_id = get_username_to_mturk_id()\n",
    "  mturkid_to_history_pages = {}\n",
    "  mturkid_to_history_visits = {}\n",
    "  mturkid_to_hid = {}\n",
    "  for filename in list_histfiles():\n",
    "    print filename\n",
    "    all_lines = json.load(open(filename))\n",
    "    for line in reversed(all_lines):\n",
    "      evt = line['evt']\n",
    "      hid = line['hid']\n",
    "      user = line.get('user', None)\n",
    "      mturkid = line.get('mturkid', None)\n",
    "      if mturkid == None:\n",
    "        if user == None:\n",
    "          continue\n",
    "        mturkid = username_to_mturk_id.get(user, None)\n",
    "        if mturkid == None:\n",
    "          continue\n",
    "      orig_hid = mturkid_to_hid.get(mturkid, 0)\n",
    "      if orig_hid > hid:\n",
    "        continue\n",
    "      if hid > orig_hid:\n",
    "        mturkid_to_hid[mturkid] = hid\n",
    "        mturkid_to_history_pages[mturkid] = []\n",
    "        mturkid_to_history_visits[mturkid] = {}\n",
    "      data = json.loads(decompressFromBase64(line['data']))\n",
    "      if evt == 'history_pages':\n",
    "        mturkid_to_history_pages[mturkid] = data\n",
    "      if evt == 'history_visits':\n",
    "        for k,v in data.viewitems():\n",
    "          mturkid_to_history_visits[mturkid][k] = v\n",
    "  return mturkid_to_history_pages,mturkid_to_history_visits\n",
    "\n",
    "def compute_mturkid_to_history_pages():\n",
    "  return compute_mturkid_to_history_pages_and_visits()[0]\n",
    "\n",
    "def compute_mturkid_to_history_visits():\n",
    "  return compute_mturkid_to_history_pages_and_visits()[1]\n",
    "\n",
    "def get_mturkid_to_history_pages():\n",
    "  #return create_and_get('mturkid_to_history_pages.json', compute_mturkid_to_history_pages)\n",
    "  return create_and_get('mturkid_to_history_pages.json')\n",
    "\n",
    "def get_mturkid_to_history_visits():\n",
    "  #return create_and_get('mturkid_to_history_visits.json', compute_mturkid_to_history_visits)\n",
    "  return create_and_get('mturkid_to_history_visits.json')\n"
   ]
  },
  {
   "cell_type": "code",
   "execution_count": 8,
   "metadata": {
    "collapsed": true
   },
   "outputs": [],
   "source": [
    "'''\n",
    "def compute_mturkid_to_time_last_active():\n",
    "  mturkid_to_time_last_active = {}\n",
    "  for logfile in list_logfiles():\n",
    "    print logfile\n",
    "    for data in iterate_data_compressed_reverse(logfile):\n",
    "      if 'mturkid' not in data:\n",
    "        break\n",
    "      mturkid = data['mturkid']\n",
    "      time = data['time']\n",
    "      mturkid_to_time_last_active[mturkid] = time\n",
    "      break\n",
    "  return mturkid_to_time_last_active\n",
    "'''\n",
    "\n",
    "def compute_mturkid_to_time_last_active():\n",
    "  mturkid_to_time_last_active = {}\n",
    "  for user in list_users_with_log():\n",
    "    for data in iterate_logs_for_user_compressed(user):\n",
    "      if 'mturkid' not in data:\n",
    "        continue\n",
    "      mturkid = data['mturkid']\n",
    "      time = data['time']\n",
    "      if mturkid not in mturkid_to_time_last_active:\n",
    "        mturkid_to_time_last_active[mturkid] = time\n",
    "      else:\n",
    "        mturkid_to_time_last_active[mturkid] = max(time, mturkid_to_time_last_active[mturkid])\n",
    "  return mturkid_to_time_last_active\n",
    "\n",
    "def get_mturkid_to_time_last_active():\n",
    "  #return create_and_get('mturkid_to_time_last_active.json', compute_mturkid_to_time_last_active)\n",
    "  return create_and_get('mturkid_to_time_last_active.json')\n",
    "\n",
    "def precompute_mturkid_to_time_last_active():\n",
    "  create_if_doesnt_exist('mturkid_to_time_last_active.json')"
   ]
  },
  {
   "cell_type": "code",
   "execution_count": 9,
   "metadata": {
    "collapsed": false
   },
   "outputs": [],
   "source": [
    "'''\n",
    "def compute_domains_list():\n",
    "  mturkid_to_history_pages = get_mturkid_to_history_pages()\n",
    "  alldomains = set()\n",
    "  for k,v in mturkid_to_history_pages.items():\n",
    "    for pageinfo in v:\n",
    "      url = pageinfo['url']\n",
    "      domain = url_to_domain(url)\n",
    "      alldomains.add(domain)\n",
    "  return list(alldomains)\n",
    "'''\n",
    "\n",
    "def compute_domains_list():\n",
    "  alldomains = set()\n",
    "  for user in list_users_with_hist():\n",
    "    for pageinfo in get_history_pages_for_user(user):\n",
    "      url = pageinfo['url']\n",
    "      domain = url_to_domain(url)\n",
    "      alldomains.add(domain)\n",
    "    # this part is technically redundant but seems things slip through?\n",
    "    for url in get_history_visits_for_user(user).viewkeys(): \n",
    "      domain = url_to_domain(url)\n",
    "      alldomains.add(domain)\n",
    "  for user in list_users_with_log_and_mlog():\n",
    "    for visit in get_tab_focus_times_for_user(user):\n",
    "      domain = url_to_domain(visit['url'])\n",
    "      alldomains.add(domain)\n",
    "  return list(alldomains)\n",
    "\n",
    "def get_domains_list():\n",
    "  #return create_and_get('domains_list.json', compute_domains_list)\n",
    "  return create_and_get('domains_list.json')\n",
    "\n",
    "@memoized\n",
    "def get_domains_list_memoized():\n",
    "  return create_and_get('domains_list.json')\n",
    "\n",
    "def precompute_domains_list():\n",
    "  create_if_doesnt_exist('domains_list.json')"
   ]
  },
  {
   "cell_type": "code",
   "execution_count": null,
   "metadata": {
    "collapsed": false
   },
   "outputs": [],
   "source": []
  },
  {
   "cell_type": "code",
   "execution_count": 10,
   "metadata": {
    "collapsed": true
   },
   "outputs": [],
   "source": [
    "def compute_domains_to_id():\n",
    "  output = {}\n",
    "  for idx,domain in enumerate(get_domains_list()):\n",
    "    output[domain] = idx\n",
    "  return output\n",
    "\n",
    "def get_domains_to_id():\n",
    "  return create_and_get('domains_to_id.json')\n",
    "\n",
    "@memoized\n",
    "def get_domains_to_id_memoized():\n",
    "  return create_and_get('domains_to_id.json')\n",
    "\n",
    "def precompute_domains_to_id():\n",
    "  create_if_doesnt_exist('domains_to_id.json')"
   ]
  },
  {
   "cell_type": "code",
   "execution_count": 11,
   "metadata": {
    "collapsed": false
   },
   "outputs": [],
   "source": [
    "def id_to_domain(domain_id):\n",
    "  return get_domains_list_memoized()[domain_id]\n",
    "\n",
    "def domain_to_id(domain):\n",
    "  return get_domains_to_id_memoized()[domain]"
   ]
  },
  {
   "cell_type": "code",
   "execution_count": 12,
   "metadata": {
    "collapsed": false
   },
   "outputs": [],
   "source": [
    "'''\n",
    "def compute_tab_focus_times_for_user(user):\n",
    "  logfile = get_logfile_for_user(user)\n",
    "  current_session_tracker = SessionTracker()\n",
    "  for line in iterate_data(logfile):\n",
    "    current_session_tracker.process_input(line)\n",
    "  current_session_tracker.end_input()\n",
    "  return current_session_tracker.get_output()\n",
    "'''\n",
    "\n",
    "'''\n",
    "def compute_tab_focus_times_for_user(user):\n",
    "  logfile = get_logfile_for_user(user)\n",
    "  current_session_tracker = SessionTracker()\n",
    "  for line in iterate_data_timesorted(logfile):\n",
    "    current_session_tracker.process_input(line)\n",
    "  current_session_tracker.end_input()\n",
    "  return current_session_tracker.get_output()\n",
    "'''\n",
    "\n",
    "'''\n",
    "def compute_tab_focus_times_for_user(user):\n",
    "  current_session_tracker = SessionTracker()\n",
    "  for line in iterate_logs_for_user(user):\n",
    "    current_session_tracker.process_input(line)\n",
    "  current_session_tracker.end_input()\n",
    "  return current_session_tracker.get_output()\n",
    "'''\n",
    "\n",
    "def compute_tab_focus_times_for_user(user):\n",
    "  current_session_tracker = SessionTracker()\n",
    "  for line in get_log_with_mlog_active_times_for_user(user):\n",
    "    current_session_tracker.process_input(uncompress_data_subfields(line))\n",
    "  current_session_tracker.end_input()\n",
    "  return current_session_tracker.get_output()\n",
    "\n",
    "def get_tab_focus_times_for_user(user):\n",
    "  return get_function_for_key(user, 'tab_focus_times_for_user')\n",
    "\n",
    "def compute_tab_focus_times_for_all_users():\n",
    "  for user in list_users_with_log_and_mlog():\n",
    "    compute_function_for_key(user, 'tab_focus_times_for_user')\n",
    "\n",
    "def compute_tab_focus_times_for_all_users_randomized():\n",
    "  for user in shuffled(list_users_with_log_and_mlog()):\n",
    "    compute_function_for_key(user, 'tab_focus_times_for_user')\n"
   ]
  },
  {
   "cell_type": "code",
   "execution_count": null,
   "metadata": {
    "collapsed": true
   },
   "outputs": [],
   "source": [
    "'''\n",
    "def compute_domain_switchfrom_within_session():\n",
    "  domain_to_num_stay = Counter()\n",
    "  domain_to_num_switch = Counter()\n",
    "  for user in get_training_users():\n",
    "    ordered_visits = get_history_ordered_visits_corrected_for_user(user)\n",
    "    prev_visit = None\n",
    "    for visit in ordered_visits:\n",
    "      if prev_visit == None:\n",
    "        prev_visit = visit\n",
    "        continue\n",
    "      visit_time = visit['visitTime'] # milliseconds\n",
    "      prev_visit_time = prev_visit['visitTime']\n",
    "      url = visit['url']\n",
    "      prev_url = prev_visit['url']\n",
    "      domain = url_to_domain(url)\n",
    "      domain_id = domain_to_id(domain)\n",
    "      prev_domain = url_to_domain(prev_url)\n",
    "      prev_domain_id = domain_to_id(prev_domain)\n",
    "      prev_visit = visit\n",
    "      new_session = False\n",
    "      if visit_time > prev_visit_time + 1000*60*20:\n",
    "        new_session = True\n",
    "      if new_session:\n",
    "        continue\n",
    "'''"
   ]
  },
  {
   "cell_type": "code",
   "execution_count": 13,
   "metadata": {
    "collapsed": true
   },
   "outputs": [],
   "source": [
    "def compute_active_seconds_for_user(user):\n",
    "  # this is in unix SECONDS timestamp, not in milliseconds!\n",
    "  output = []\n",
    "  last_output = None\n",
    "  for item in get_tab_focus_times_for_user(user):\n",
    "    start_seconds = int(round(item['start']/1000.0))\n",
    "    end_seconds = int(round(item['end']/1000.0))\n",
    "    for timestep in xrange(start_seconds, end_seconds+1):\n",
    "      if timestep > last_output:\n",
    "        last_output = timestep\n",
    "        output.append(timestep)\n",
    "  return output\n",
    "\n",
    "def get_active_seconds_for_user(user):\n",
    "  # will probably want to convert this into a set after returning\n",
    "  # this is in unix SECONDS timestamp, not in milliseconds!\n",
    "  return get_function_for_key(user, 'active_seconds_for_user')\n",
    "\n",
    "def compute_active_seconds_for_all_users():\n",
    "  for user in list_users_with_log_and_mlog():\n",
    "    compute_function_for_key(user, 'active_seconds_for_user')\n",
    "\n",
    "def compute_active_seconds_for_all_users_randomized():\n",
    "  for user in shuffled(list_users_with_log_and_mlog()):\n",
    "    compute_function_for_key(user, 'active_seconds_for_user')"
   ]
  },
  {
   "cell_type": "code",
   "execution_count": 14,
   "metadata": {
    "collapsed": true
   },
   "outputs": [],
   "source": [
    "def compute_active_second_to_domain_id_for_user(user):\n",
    "  # this is in unix SECONDS timestamp, not in milliseconds!\n",
    "  # note that the keys are string in JSON\n",
    "  output = {}\n",
    "  last_output = None\n",
    "  for item in get_tab_focus_times_for_user(user):\n",
    "    url = item['url']\n",
    "    domain = url_to_domain(url)\n",
    "    domain_id = domain_to_id(domain)\n",
    "    start_seconds = int(round(item['start']/1000.0))\n",
    "    end_seconds = int(round(item['end']/1000.0))\n",
    "    for timestep in xrange(start_seconds, end_seconds+1):\n",
    "      if timestep > last_output:\n",
    "        last_output = timestep\n",
    "        output[timestep] = domain_id\n",
    "  return output\n",
    "\n",
    "def get_active_second_to_domain_id_for_user(user):\n",
    "  # will probably want to convert this into a set after returning\n",
    "  # this is in unix SECONDS timestamp, not in milliseconds!\n",
    "  # note that the keys are string in JSON\n",
    "  return get_function_for_key(user, 'active_second_to_domain_id_for_user')\n",
    "\n",
    "def compute_active_second_to_domain_id_for_all_users():\n",
    "  for user in list_users_with_log_and_mlog():\n",
    "    compute_function_for_key(user, 'active_second_to_domain_id_for_user')\n",
    "\n",
    "def compute_active_second_to_domain_id_for_all_users_randomized():\n",
    "  for user in shuffled(list_users_with_log_and_mlog()):\n",
    "    compute_function_for_key(user, 'active_second_to_domain_id_for_user')"
   ]
  },
  {
   "cell_type": "code",
   "execution_count": 15,
   "metadata": {
    "collapsed": true
   },
   "outputs": [],
   "source": [
    "def compute_insession_seconds_for_user(user):\n",
    "  # this is in unix SECONDS timestamp, not in milliseconds!\n",
    "  output = set()\n",
    "  max_already_covered = 0\n",
    "  for active_second in get_active_seconds_for_user(user):\n",
    "    for session_second in xrange(max(active_second, max_already_covered), active_second + 20*60): # 20 minutes after last activity\n",
    "      output.add(session_second)\n",
    "    max_already_covered = max(max_already_covered, active_second + 20*60)\n",
    "  output = list(output)\n",
    "  output.sort()\n",
    "  return output\n",
    "\n",
    "def get_insession_seconds_for_user(user):\n",
    "  # will probably want to convert this into a set after returning\n",
    "  # this is in unix SECONDS timestamp, not in milliseconds!\n",
    "  return get_function_for_key(user, 'insession_seconds_for_user')\n",
    "\n",
    "def compute_insession_seconds_for_all_users():\n",
    "  for user in list_users_with_log_and_mlog():\n",
    "    compute_function_for_key(user, 'insession_seconds_for_user')\n",
    "\n",
    "def compute_insession_seconds_for_all_users_randomized():\n",
    "  for user in shuffled(list_users_with_log_and_mlog()):\n",
    "    compute_function_for_key(user, 'insession_seconds_for_user')\n",
    "\n"
   ]
  },
  {
   "cell_type": "code",
   "execution_count": 1,
   "metadata": {
    "collapsed": true
   },
   "outputs": [],
   "source": [
    "def compute_insession_history_seconds_for_user(user):\n",
    "  # this is in unix SECONDS timestamp, not in milliseconds!\n",
    "  output = set()\n",
    "  max_already_covered = 0\n",
    "  for visit in get_history_ordered_visits_corrected_for_user(user):\n",
    "    active_second = int(round(visit['visitTime'] / 1000.0))\n",
    "    for session_second in xrange(max(active_second, max_already_covered), active_second + 20*60): # 20 minutes after last activity\n",
    "      output.add(session_second)\n",
    "    max_already_covered = max(max_already_covered, active_second + 20*60)\n",
    "  output = list(output)\n",
    "  output.sort()\n",
    "  return output\n",
    "\n",
    "def get_insession_history_seconds_for_user(user):\n",
    "  # will probably want to convert this into a set after returning\n",
    "  # this is in unix SECONDS timestamp, not in milliseconds!\n",
    "  return get_function_for_key(user, 'insession_history_seconds_for_user')\n",
    "\n",
    "def compute_insession_history_seconds_for_all_users():\n",
    "  for user in list_users_with_log_and_mlog_and_hist():\n",
    "    compute_function_for_key(user, 'insession_history_seconds_for_user')\n",
    "\n",
    "def compute_insession_history_seconds_for_all_users_randomized():\n",
    "  for user in shuffled(list_users_with_log_and_mlog_and_hist()):\n",
    "    compute_function_for_key(user, 'insession_history_seconds_for_user')\n",
    "\n"
   ]
  },
  {
   "cell_type": "code",
   "execution_count": 2,
   "metadata": {
    "collapsed": true
   },
   "outputs": [],
   "source": [
    "def compute_insession_both_seconds_for_user(user):\n",
    "  output = []\n",
    "  insession_history_seconds_set = set(get_insession_history_seconds_for_user(user))\n",
    "  for second in get_insession_seconds_for_user(user):\n",
    "    if second in insession_history_seconds_set:\n",
    "      output.append(second)\n",
    "  return output\n",
    "\n",
    "def get_insession_both_seconds_for_user(user):\n",
    "  # will probably want to convert this into a set after returning\n",
    "  # this is in unix SECONDS timestamp, not in milliseconds!\n",
    "  return get_function_for_key(user, 'insession_both_seconds_for_user')\n",
    "\n",
    "def compute_insession_both_seconds_for_all_users_randomized():\n",
    "  for user in shuffled(list_users_with_log_and_mlog_and_hist()):\n",
    "    compute_function_for_key(user, 'insession_both_seconds_for_user')\n"
   ]
  },
  {
   "cell_type": "code",
   "execution_count": null,
   "metadata": {
    "collapsed": true
   },
   "outputs": [],
   "source": [
    "def compute_active_insession_seconds_for_user(user):\n",
    "  output = []\n",
    "  insession_seconds = set(get_insession_both_seconds_for_user(user))\n",
    "  for second in get_active_seconds_for_user(user):\n",
    "    if second in insession_seconds:\n",
    "      output.append(second)\n",
    "  return output\n",
    "\n",
    "def get_active_insession_seconds_for_user(user):\n",
    "  # will probably want to convert this into a set after returning\n",
    "  # this is in unix SECONDS timestamp, not in milliseconds!\n",
    "  return get_function_for_key(user, 'active_insession_seconds_for_user')\n",
    "\n",
    "def compute_active_insession_seconds_for_all_users_randomized():\n",
    "  for user in shuffled(list_users_with_log_and_mlog_and_hist()):\n",
    "    compute_function_for_key(user, 'active_insession_seconds_for_user')\n"
   ]
  },
  {
   "cell_type": "code",
   "execution_count": 16,
   "metadata": {
    "collapsed": true
   },
   "outputs": [],
   "source": [
    "def compute_tab_focus_times_only_tab_updated_for_user(user):\n",
    "  current_session_tracker = SessionTracker()\n",
    "  for line in get_log_with_mlog_active_times_for_user(user):\n",
    "    if line['evt'] != 'tab_updated':\n",
    "      continue\n",
    "    current_session_tracker.process_input(uncompress_data_subfields(line))\n",
    "  current_session_tracker.end_input()\n",
    "  return current_session_tracker.get_output()\n",
    "\n",
    "def get_tab_focus_times_only_tab_updated_for_user(user):\n",
    "  return get_function_for_key(user, 'tab_focus_times_only_tab_updated_for_user')\n",
    "\n",
    "def compute_tab_focus_times_only_tab_updated_for_all_users():\n",
    "  for user in list_users_with_log_and_mlog():\n",
    "    #filesize = path.getsize(filename)\n",
    "    #filesize_megabytes = filesize / (1000.0*1000.0)\n",
    "    #if filesize_megabytes > 0.1:\n",
    "    #  continue\n",
    "    compute_function_for_key(user, 'tab_focus_times_only_tab_updated_for_user')\n",
    "\n",
    "def compute_tab_focus_times_only_tab_updated_for_all_users_randomized():\n",
    "  for user in shuffled(list_users_with_log_and_mlog()):\n",
    "    compute_function_for_key(user, 'tab_focus_times_only_tab_updated_for_user')\n"
   ]
  },
  {
   "cell_type": "code",
   "execution_count": null,
   "metadata": {
    "collapsed": true
   },
   "outputs": [],
   "source": [
    "def compute_next_domain_at_seconds_for_user(user):\n",
    "  output = {}\n",
    "  ordered_visits = get_history_ordered_visits_corrected_for_user(user)\n",
    "  ordered_visits = exclude_bad_visits(ordered_visits)\n",
    "  active_seconds_set = set(get_active_insession_seconds_for_user(user))\n",
    "  for idx,visit in enumerate(ordered_visits):\n",
    "    if idx+1 >= len(ordered_visits):\n",
    "      break\n",
    "    next_visit = ordered_visits[idx+1]\n",
    "    cur_time_sec = int(round(visit['visitTime'] / 1000.0))\n",
    "    next_time_sec = int(round(next_visit['visitTime'] / 1000.0))\n",
    "    if cur_time_sec > next_time_sec:\n",
    "      continue\n",
    "    for time_sec in xrange(cur_time_sec, next_time_sec+1):\n",
    "      if time_sec not in active_seconds_set:\n",
    "        continue\n",
    "      output[time_sec] = url_to_domain(next_visit['url'])\n",
    "  return output\n",
    "\n",
    "def get_next_domain_at_seconds_for_user(user):\n",
    "  return get_function_for_key(user, 'next_domain_at_seconds_for_user')\n",
    "\n",
    "def compute_next_domain_at_seconds_for_all_users():\n",
    "  for user in shuffled(list_users_with_log_and_mlog_and_hist()):\n",
    "    compute_function_for_key(user, 'next_domain_at_seconds_for_user')"
   ]
  },
  {
   "cell_type": "code",
   "execution_count": null,
   "metadata": {
    "collapsed": true
   },
   "outputs": [],
   "source": [
    "def compute_prev7_domains_at_seconds_for_user(user):\n",
    "  # returns a length 8 array for each second. first element of that array is current, second and onwards are the previous ones. not immediate previous, but unique previous\n",
    "  output = {}\n",
    "  ordered_visits = get_history_ordered_visits_corrected_for_user(user)\n",
    "  ordered_visits = exclude_bad_visits(ordered_visits)\n",
    "  active_seconds_set = set(get_active_insession_seconds_for_user(user))\n",
    "  prev_domain_ids = [-1]*8\n",
    "  for idx,visit in enumerate(ordered_visits):\n",
    "    if idx+1 >= len(ordered_visits):\n",
    "      break\n",
    "    next_visit = ordered_visits[idx+1]\n",
    "    cur_time_sec = int(round(visit['visitTime'] / 1000.0))\n",
    "    next_time_sec = int(round(next_visit['visitTime'] / 1000.0))\n",
    "    if cur_time_sec > next_time_sec:\n",
    "      continue\n",
    "    cur_domain_id = domain_to_id(url_to_domain(visit['url']))\n",
    "    if prev_domain_ids[0] != cur_domain_id:\n",
    "      #prev_domain_ids = ([cur_domain_id] + [x for x in prev_domain_ids if x != cur_domain_id])[:4]\n",
    "      if cur_domain_id in prev_domain_ids:\n",
    "        prev_domain_ids.remove(cur_domain_id)\n",
    "      prev_domain_ids.insert(0, cur_domain_id)\n",
    "      while len(prev_domain_ids) > 8:\n",
    "        prev_domain_ids.pop()\n",
    "    prev_domains = [id_to_domain(x) for x in prev_domain_ids]\n",
    "    for time_sec in xrange(cur_time_sec, next_time_sec+1):\n",
    "      if time_sec not in active_seconds_set:\n",
    "        continue\n",
    "      output[time_sec] = prev_domains\n",
    "  return output\n",
    "\n",
    "def get_prev7_domains_at_seconds_for_user(user):\n",
    "  return get_function_for_key(user, 'prev7_domains_at_seconds_for_user')\n",
    "\n",
    "def compute_prev7_domains_at_seconds_for_all_users():\n",
    "  for user in shuffled(list_users_with_log_and_mlog_and_hist()):\n",
    "    compute_function_for_key(user, 'prev7_domains_at_seconds_for_user')"
   ]
  },
  {
   "cell_type": "code",
   "execution_count": null,
   "metadata": {
    "collapsed": true
   },
   "outputs": [],
   "source": [
    "def compute_immediate_prev7_domains_at_seconds_for_user(user):\n",
    "  # returns a length 8 array for each second. first element of that array is current, second and onwards are the previous ones. not immediate previous, but unique previous\n",
    "  output = {}\n",
    "  ordered_visits = get_history_ordered_visits_corrected_for_user(user)\n",
    "  ordered_visits = exclude_bad_visits(ordered_visits)\n",
    "  active_seconds_set = set(get_active_insession_seconds_for_user(user))\n",
    "  prev_domain_ids = [-1]*8\n",
    "  for idx,visit in enumerate(ordered_visits):\n",
    "    if idx+1 >= len(ordered_visits):\n",
    "      break\n",
    "    next_visit = ordered_visits[idx+1]\n",
    "    cur_time_sec = int(round(visit['visitTime'] / 1000.0))\n",
    "    next_time_sec = int(round(next_visit['visitTime'] / 1000.0))\n",
    "    if cur_time_sec > next_time_sec:\n",
    "      continue\n",
    "    cur_domain_id = domain_to_id(url_to_domain(visit['url']))\n",
    "    prev_domain_ids.insert(0, cur_domain_id)\n",
    "    while len(prev_domain_ids) > 8:\n",
    "      prev_domain_ids.pop()\n",
    "    prev_domains = [id_to_domain(x) for x in prev_domain_ids]\n",
    "    for time_sec in xrange(cur_time_sec, next_time_sec+1):\n",
    "      if time_sec not in active_seconds_set:\n",
    "        continue\n",
    "      output[time_sec] = prev_domains\n",
    "  return output\n",
    "\n",
    "def get_immediate_prev7_domains_at_seconds_for_user(user):\n",
    "  return get_function_for_key(user, 'immediate_prev7_domains_at_seconds_for_user')\n",
    "\n",
    "def compute_immediate_prev7_domains_at_seconds_for_all_users():\n",
    "  for user in shuffled(list_users_with_log_and_mlog_and_hist()):\n",
    "    compute_function_for_key(user, 'immediate_prev7_domains_at_seconds_for_user')"
   ]
  },
  {
   "cell_type": "code",
   "execution_count": 17,
   "metadata": {
    "collapsed": true
   },
   "outputs": [],
   "source": [
    "def compute_tab_focus_times_only_tab_updated_urlchanged_for_user(user):\n",
    "  current_session_tracker = SessionTracker()\n",
    "  prev_url = None\n",
    "  for line in get_log_with_mlog_active_times_for_user(user):\n",
    "    if line['evt'] != 'tab_updated':\n",
    "      continue\n",
    "    url = line['tab']['url']\n",
    "    if url == prev_url:\n",
    "      continue\n",
    "    prev_url = url\n",
    "    current_session_tracker.process_input(uncompress_data_subfields(line))\n",
    "  current_session_tracker.end_input()\n",
    "  return current_session_tracker.get_output()\n",
    "\n",
    "def get_tab_focus_times_only_tab_updated_urlchanged_for_user(user):\n",
    "  return get_function_for_key(user, 'tab_focus_times_only_tab_updated_urlchanged_for_user')\n",
    "\n",
    "def compute_tab_focus_times_only_tab_updated_urlchanged_for_all_users():\n",
    "  for user in list_users_with_log_and_mlog():\n",
    "    compute_function_for_key(user, 'tab_focus_times_only_tab_updated_urlchanged_for_user')\n",
    "\n",
    "def compute_tab_focus_times_only_tab_updated_urlchanged_for_all_users_randomized():\n",
    "  for user in shuffled(list_users_with_log_and_mlog()):\n",
    "    compute_function_for_key(user, 'tab_focus_times_only_tab_updated_urlchanged_for_user')\n"
   ]
  },
  {
   "cell_type": "code",
   "execution_count": 18,
   "metadata": {
    "collapsed": true
   },
   "outputs": [],
   "source": [
    "def compute_idealized_history_from_logs_for_user(user):\n",
    "  output = []\n",
    "  for line in get_log_with_mlog_active_times_for_user(user):\n",
    "    if line['evt'] != 'tab_updated':\n",
    "      continue\n",
    "    url = line['tab']['url']\n",
    "    time = line['time']\n",
    "    output.append({'url': url, 'visitTime': time, 'transition': 'link'})\n",
    "  return output\n",
    "\n",
    "def get_idealized_history_from_logs_for_user(user):\n",
    "  return get_function_for_key(user, 'idealized_history_from_logs_for_user')\n",
    "\n",
    "def compute_idealized_history_from_logs_for_all_users():\n",
    "  for user in list_users_with_log_and_mlog():\n",
    "    compute_function_for_key(user, 'idealized_history_from_logs_for_user')\n",
    "\n",
    "def compute_idealized_history_from_logs_for_all_users_randomized():\n",
    "  for user in shuffled(list_users_with_log_and_mlog()):\n",
    "    compute_function_for_key(user, 'idealized_history_from_logs_for_user')\n"
   ]
  },
  {
   "cell_type": "code",
   "execution_count": 19,
   "metadata": {
    "collapsed": true
   },
   "outputs": [],
   "source": [
    "def compute_idealized_history_from_logs_urlchanged_for_user(user):\n",
    "  output = []\n",
    "  prev_url = None\n",
    "  for line in get_log_with_mlog_active_times_for_user(user):\n",
    "    if line['evt'] != 'tab_updated':\n",
    "      continue\n",
    "    url = line['tab']['url']\n",
    "    if url != prev_url:\n",
    "      prev_url = url\n",
    "      time = line['time']\n",
    "      output.append({'url': url, 'visitTime': time, 'transition': 'link'})\n",
    "  return output\n",
    "\n",
    "def get_idealized_history_from_logs_urlchanged_for_user(user):\n",
    "  return get_function_for_key(user, 'idealized_history_from_logs_urlchanged_for_user')\n",
    "\n",
    "def compute_idealized_history_from_logs_urlchanged_for_all_users():\n",
    "  for user in list_users_with_log_and_mlog():\n",
    "    compute_function_for_key(user, 'idealized_history_from_logs_urlchanged_for_user')\n",
    "\n",
    "def compute_idealized_history_from_logs_urlchanged_for_all_users_randomized():\n",
    "  for user in shuffled(list_users_with_log_and_mlog()):\n",
    "    compute_function_for_key(user, 'idealized_history_from_logs_urlchanged_for_user')\n"
   ]
  },
  {
   "cell_type": "code",
   "execution_count": 20,
   "metadata": {
    "collapsed": true
   },
   "outputs": [],
   "source": [
    "def compute_url_to_tab_focus_times_for_user(user):\n",
    "  tab_focus_times = get_tab_focus_times_for_user(user)\n",
    "  output = {}\n",
    "  for visit in tab_focus_times:\n",
    "    url = visit['url']\n",
    "    if url not in output:\n",
    "      output[url] = []\n",
    "    output[url].append(visit)\n",
    "  return output\n",
    "\n",
    "def get_url_to_tab_focus_times_for_user(user):\n",
    "  return get_function_for_key(user, 'url_to_tab_focus_times_for_user')\n",
    "\n",
    "def compute_url_to_tab_focus_times_for_all_users():\n",
    "  for user in list_users_with_log_and_mlog():\n",
    "    compute_function_for_key(user, 'url_to_tab_focus_times_for_user')\n",
    "\n",
    "def compute_url_to_tab_focus_times_for_all_users_randomized():\n",
    "  for user in shuffled(list_users_with_log_and_mlog()):\n",
    "    compute_function_for_key(user, 'url_to_tab_focus_times_for_user')\n"
   ]
  },
  {
   "cell_type": "code",
   "execution_count": 21,
   "metadata": {
    "collapsed": true
   },
   "outputs": [],
   "source": [
    "def compute_domain_to_tab_focus_times_for_user(user):\n",
    "  tab_focus_times = get_tab_focus_times_for_user(user)\n",
    "  output = {}\n",
    "  for visit in tab_focus_times:\n",
    "    url = visit['url']\n",
    "    domain = url_to_domain(url)\n",
    "    if domain not in output:\n",
    "      output[domain] = []\n",
    "    output[domain].append(visit)\n",
    "  return output\n",
    "\n",
    "def get_domain_to_tab_focus_times_for_user(user):\n",
    "  return get_function_for_key(user, 'domain_to_tab_focus_times_for_user')\n",
    "\n",
    "def compute_domain_to_tab_focus_times_for_all_users():\n",
    "  for user in list_users_with_log_and_mlog():\n",
    "    compute_function_for_key(user, 'domain_to_tab_focus_times_for_user')\n",
    "\n",
    "def compute_domain_to_tab_focus_times_for_all_users_randomized():\n",
    "  for user in shuffled(list_users_with_log_and_mlog()):\n",
    "    compute_function_for_key(user, 'domain_to_tab_focus_times_for_user')\n"
   ]
  },
  {
   "cell_type": "code",
   "execution_count": 22,
   "metadata": {
    "collapsed": true
   },
   "outputs": [],
   "source": [
    "def compute_domain_to_time_spent_for_user(user):\n",
    "  output = {}\n",
    "  for domain,tab_focus_times in get_domain_to_tab_focus_times_for_user(user).viewitems():\n",
    "    time_spent = 0\n",
    "    for item in tab_focus_times:\n",
    "      start = item['start']\n",
    "      end = item['end']\n",
    "      if start >= end:\n",
    "        continue\n",
    "      time_spent += end - start\n",
    "    output[domain] = time_spent\n",
    "  return output\n",
    "\n",
    "def get_domain_to_time_spent_for_user(user):\n",
    "  return get_function_for_key(user, 'domain_to_time_spent_for_user')\n",
    "\n",
    "def compute_domain_to_time_spent_for_all_users():\n",
    "  for user in list_users_with_log_and_mlog():\n",
    "    compute_function_for_key(user, 'domain_to_time_spent_for_user')\n",
    "\n",
    "def compute_domain_to_time_spent_for_all_users_randomized():\n",
    "  for user in shuffled(list_users_with_log_and_mlog()):\n",
    "    compute_function_for_key(user, 'domain_to_time_spent_for_user')\n"
   ]
  },
  {
   "cell_type": "code",
   "execution_count": 23,
   "metadata": {
    "collapsed": true
   },
   "outputs": [],
   "source": [
    "def compute_domain_to_num_history_visits_for_user(user):\n",
    "  output = Counter()\n",
    "  for url,visits in get_history_visits_for_user(user).viewitems():\n",
    "    domain = url_to_domain(url)\n",
    "    output[domain] += len(visits)\n",
    "  return output\n",
    "\n",
    "def get_domain_to_num_history_visits_for_user(user):\n",
    "  return get_function_for_key(user, 'domain_to_num_history_visits_for_user')\n",
    "\n",
    "def compute_domain_to_num_history_visits_for_all_users():\n",
    "  for user in list_users_with_hist():\n",
    "    compute_function_for_key(user, 'domain_to_num_history_visits_for_user')\n",
    "\n",
    "def compute_domain_to_num_history_visits_for_all_users_randomized():\n",
    "  for user in shuffled(list_users_with_hist()):\n",
    "    compute_function_for_key(user, 'domain_to_num_history_visits_for_user')\n"
   ]
  },
  {
   "cell_type": "code",
   "execution_count": null,
   "metadata": {
    "collapsed": true
   },
   "outputs": [],
   "source": []
  },
  {
   "cell_type": "code",
   "execution_count": 24,
   "metadata": {
    "collapsed": true
   },
   "outputs": [],
   "source": [
    "'''\n",
    "def compute_history_pages_for_user(user):\n",
    "  filename = get_histfile_for_user(user)\n",
    "  all_lines = json.load(open(filename))\n",
    "  max_hid = 0\n",
    "  for line in all_lines:\n",
    "    hid = line['hid']\n",
    "    max_hid = max(hid, max_hid)\n",
    "  for line in all_lines:\n",
    "    hid = line['hid']\n",
    "    if hid < max_hid:\n",
    "      continue\n",
    "    evt = line['evt']\n",
    "    if evt == 'history_pages':\n",
    "      data = decompress_data_lzstring_base64(line['data'])\n",
    "      return data\n",
    "\n",
    "def compute_history_visits_for_user(user):\n",
    "  filename = get_histfile_for_user(user)\n",
    "  all_lines = json.load(open(filename))\n",
    "  max_hid = 0\n",
    "  for line in all_lines:\n",
    "    hid = line['hid']\n",
    "    max_hid = max(hid, max_hid)\n",
    "  output = {}\n",
    "  for line in all_lines:\n",
    "    hid = line['hid']\n",
    "    if hid < max_hid:\n",
    "      continue\n",
    "    evt = line['evt']\n",
    "    if evt == 'history_visits':\n",
    "      data = decompress_data_lzstring_base64(line['data'])\n",
    "      for k,v in data.items():\n",
    "        output[k] = v\n",
    "  return output\n",
    "'''\n",
    "\n",
    "'''\n",
    "def compute_history_pages_for_user(user):\n",
    "  max_hid = 0\n",
    "  for line in iterate_hist_for_user_compressed(user):\n",
    "    hid = line['hid']\n",
    "    max_hid = max(hid, max_hid)\n",
    "  for line in iterate_hist_for_user_compressed(user):\n",
    "    hid = line['hid']\n",
    "    if hid < max_hid:\n",
    "      continue\n",
    "    evt = line['evt']\n",
    "    if evt == 'history_pages':\n",
    "      data = decompress_data_lzstring_base64(line['data'])\n",
    "      return data\n",
    "  return []\n",
    "\n",
    "def compute_history_visits_for_user(user):\n",
    "  max_hid = 0\n",
    "  for line in iterate_hist_for_user_compressed(user):\n",
    "    hid = line['hid']\n",
    "    max_hid = max(hid, max_hid)\n",
    "  output = {}\n",
    "  for line in iterate_hist_for_user_compressed(user):\n",
    "    hid = line['hid']\n",
    "    if hid < max_hid:\n",
    "      continue\n",
    "    evt = line['evt']\n",
    "    if evt == 'history_visits':\n",
    "      data = decompress_data_lzstring_base64(line['data'])\n",
    "      for k,v in data.items():\n",
    "        output[k] = v\n",
    "  return output\n",
    "'''\n",
    "\n",
    "def compute_history_valid_hids_for_user(user):\n",
    "  hid_with_history_pages = set()\n",
    "  hid_to_totalparts = {}\n",
    "  hid_to_seenparts = {}\n",
    "  hid_with_complete_history_visits = set()\n",
    "  for line in iterate_hist_for_user_compressed(user):\n",
    "    hid = line['hid']\n",
    "    evt = line['evt']\n",
    "    if evt == 'history_pages':\n",
    "      hid_with_history_pages.add(hid)\n",
    "      continue\n",
    "    if evt == 'history_visits':\n",
    "      totalparts = line['totalparts']\n",
    "      idx = line['idx']\n",
    "      if totalparts < 1:\n",
    "        raise 'have totalparts value less than one of ' + str(totalparts) + ' for user ' + user\n",
    "      if hid not in hid_to_totalparts:\n",
    "        hid_to_totalparts[hid] = totalparts\n",
    "      else:\n",
    "        if hid_to_totalparts[hid] != totalparts:\n",
    "          raise 'inconsistent totalparts for user ' + user + ' on hid ' + str(hid) + ' with values ' + str(totalparts) + ' and ' + str(hid_to_totalparts[hid])\n",
    "      if hid not in hid_to_seenparts:\n",
    "        hid_to_seenparts[hid] = set()\n",
    "      hid_to_seenparts[hid].add(idx)\n",
    "      num_parts_seen_so_far = len(hid_to_seenparts[hid])\n",
    "      if num_parts_seen_so_far > totalparts:\n",
    "        raise 'num parts seen so far ' + str(num_parts_seen_so_far) + ' is greater than totalparts ' + str(totalparts) + ' for user ' + user\n",
    "      if num_parts_seen_so_far == totalparts:\n",
    "        hid_with_complete_history_visits.add(hid)        \n",
    "  output = [hid for hid in hid_with_complete_history_visits if hid in hid_with_history_pages]\n",
    "  output.sort()\n",
    "  return output\n",
    "\n",
    "def get_history_valid_hids(user):\n",
    "  return get_function_for_key(user, 'history_valid_hids_for_user')\n",
    "\n",
    "def compute_history_valid_hids_for_all_users():\n",
    "  for user in list_users_with_hist():\n",
    "    compute_function_for_key(user, 'history_valid_hids_for_user')\n",
    "\n",
    "def compute_history_valid_hids_for_all_users_randomized():\n",
    "  for user in shuffled(list_users_with_hist()):\n",
    "    compute_function_for_key(user, 'history_valid_hids_for_user')\n",
    "\n",
    "def compute_history_pages_for_user(user):\n",
    "  valid_hids = get_history_valid_hids(user)\n",
    "  if len(valid_hids) == 0:\n",
    "    return []\n",
    "  target_hid = max(valid_hids)\n",
    "  for line in iterate_hist_for_user_compressed(user):\n",
    "    hid = line['hid']\n",
    "    if hid != target_hid:\n",
    "      continue\n",
    "    evt = line['evt']\n",
    "    if evt == 'history_pages':\n",
    "      data = decompress_data_lzstring_base64(line['data'])\n",
    "      return data\n",
    "  return []\n",
    "\n",
    "def compute_history_visits_for_user(user):\n",
    "  valid_hids = get_history_valid_hids(user)\n",
    "  if len(valid_hids) == 0:\n",
    "    return {}\n",
    "  target_hid = max(valid_hids)\n",
    "  output = {}\n",
    "  for line in iterate_hist_for_user_compressed(user):\n",
    "    hid = line['hid']\n",
    "    if hid < target_hid:\n",
    "      continue\n",
    "    evt = line['evt']\n",
    "    if evt == 'history_visits':\n",
    "      data = decompress_data_lzstring_base64(line['data'])\n",
    "      for k,v in data.viewitems():\n",
    "        output[k] = v\n",
    "  return output\n",
    "\n",
    "\n",
    "def get_history_pages_for_user(user):\n",
    "  return get_function_for_key(user, 'history_pages_for_user')\n",
    "\n",
    "def get_history_visits_for_user(user):\n",
    "  return get_function_for_key(user, 'history_visits_for_user')\n",
    "\n",
    "def compute_history_pages_for_all_users():\n",
    "  for user in list_users_with_hist():\n",
    "    compute_function_for_key(user, 'history_pages_for_user')\n",
    "\n",
    "def compute_history_pages_for_all_users_randomized():\n",
    "  for user in shuffled(list_users_with_hist()):\n",
    "    compute_function_for_key(user, 'history_pages_for_user')\n",
    "\n",
    "def compute_history_visits_for_all_users():\n",
    "  for user in list_users_with_hist():\n",
    "    compute_function_for_key(user, 'history_visits_for_user')\n",
    "\n",
    "def compute_history_visits_for_all_users_randomized():\n",
    "  for user in shuffled(list_users_with_hist()):\n",
    "    compute_function_for_key(user, 'history_visits_for_user')\n",
    "\n",
    "#compute_tab_focus_times_for_all_users()"
   ]
  },
  {
   "cell_type": "code",
   "execution_count": 25,
   "metadata": {
    "collapsed": true
   },
   "outputs": [],
   "source": [
    "def compute_history_ordered_visits_for_user(user):\n",
    "  url_to_visits = get_history_visits_for_user(user)\n",
    "  ordered_visits = []\n",
    "  for url,visits in url_to_visits.viewitems():\n",
    "    for visit in visits:\n",
    "      visit['url'] = url\n",
    "    ordered_visits.extend(visits)\n",
    "  ordered_visits.sort(key=itemgetter('visitTime'))\n",
    "  return ordered_visits\n",
    "\n",
    "def get_history_ordered_visits_for_user(user):\n",
    "  return get_function_for_key(user, 'history_ordered_visits_for_user')\n",
    "\n",
    "def compute_history_ordered_visits_for_all_users():\n",
    "  for user in list_users_with_hist():\n",
    "    compute_function_for_key(user, 'history_ordered_visits_for_user')\n",
    "\n",
    "def compute_history_ordered_visits_for_all_users_randomized():\n",
    "  for user in shuffled(list_users_with_hist()):\n",
    "    compute_function_for_key(user, 'history_ordered_visits_for_user')"
   ]
  },
  {
   "cell_type": "code",
   "execution_count": 26,
   "metadata": {
    "collapsed": false
   },
   "outputs": [
    {
     "data": {
      "text/plain": [
       "\"\\ndef compute_history_ordered_visits_corrected_for_user(user):\\n  output = []\\n  active_seconds_set = set(get_active_seconds_for_user(user))\\n  for visit in get_history_ordered_visits_for_user(user):\\n    visit_time = visit['visitTime']\\n    visit_time_seconds = int(round(visit_time/1000.0))\\n    if visit_time_seconds not in active_seconds_set:\\n      continue\\n    output.append(visit)\\n  return output\\n\\ndef get_history_ordered_visits_corrected_for_user(user):\\n  return get_function_for_key(user, 'history_ordered_visits_corrected_for_user')\\n\\ndef compute_history_ordered_visits_corrected_for_all_users():\\n  for user in list_users_with_log_and_mlog_and_hist():\\n    compute_function_for_key(user, 'history_ordered_visits_corrected_for_user')\\n\\ndef compute_history_ordered_visits_corrected_for_all_users_randomized():\\n  for user in shuffled(list_users_with_log_and_mlog_and_hist()):\\n    compute_function_for_key(user, 'history_ordered_visits_corrected_for_user')\\n\""
      ]
     },
     "execution_count": 26,
     "metadata": {},
     "output_type": "execute_result"
    }
   ],
   "source": [
    "'''\n",
    "def compute_history_ordered_visits_corrected_for_user(user):\n",
    "  output = []\n",
    "  active_seconds_set = set(get_active_seconds_for_user(user))\n",
    "  for visit in get_history_ordered_visits_for_user(user):\n",
    "    visit_time = visit['visitTime']\n",
    "    visit_time_seconds = int(round(visit_time/1000.0))\n",
    "    if visit_time_seconds not in active_seconds_set:\n",
    "      continue\n",
    "    output.append(visit)\n",
    "  return output\n",
    "\n",
    "def get_history_ordered_visits_corrected_for_user(user):\n",
    "  return get_function_for_key(user, 'history_ordered_visits_corrected_for_user')\n",
    "\n",
    "def compute_history_ordered_visits_corrected_for_all_users():\n",
    "  for user in list_users_with_log_and_mlog_and_hist():\n",
    "    compute_function_for_key(user, 'history_ordered_visits_corrected_for_user')\n",
    "\n",
    "def compute_history_ordered_visits_corrected_for_all_users_randomized():\n",
    "  for user in shuffled(list_users_with_log_and_mlog_and_hist()):\n",
    "    compute_function_for_key(user, 'history_ordered_visits_corrected_for_user')\n",
    "'''"
   ]
  },
  {
   "cell_type": "code",
   "execution_count": 27,
   "metadata": {
    "collapsed": true
   },
   "outputs": [],
   "source": [
    "def compute_history_ordered_visits_corrected_for_user(user):\n",
    "  output = []\n",
    "  active_seconds_set = set(get_active_seconds_for_user(user))\n",
    "  for visit in get_history_ordered_visits_for_user(user):\n",
    "    visit_time = visit['visitTime']\n",
    "    visit_time_seconds = int(round(visit_time/1000.0))\n",
    "    if visit_time_seconds not in active_seconds_set:\n",
    "      if visit_time_seconds+1 in active_seconds_set:\n",
    "        visit['visitTime'] += 500\n",
    "      else:\n",
    "        continue\n",
    "    output.append(visit)\n",
    "  return output\n",
    "\n",
    "def get_history_ordered_visits_corrected_for_user(user):\n",
    "  return get_function_for_key(user, 'history_ordered_visits_corrected_for_user')\n",
    "\n",
    "def compute_history_ordered_visits_corrected_for_all_users():\n",
    "  for user in list_users_with_log_and_mlog_and_hist():\n",
    "    compute_function_for_key(user, 'history_ordered_visits_corrected_for_user')\n",
    "\n",
    "def compute_history_ordered_visits_corrected_for_all_users_randomized():\n",
    "  for user in shuffled(list_users_with_log_and_mlog_and_hist()):\n",
    "    compute_function_for_key(user, 'history_ordered_visits_corrected_for_user')\n"
   ]
  },
  {
   "cell_type": "code",
   "execution_count": 28,
   "metadata": {
    "collapsed": false
   },
   "outputs": [],
   "source": [
    "'''\n",
    "def compute_mlog_active_times_for_user(user):\n",
    "  mlogfile = get_mlogfile_for_user(user)\n",
    "  output = []\n",
    "  for line in iterate_data_timesorted(mlogfile):\n",
    "    if 'data' in line:\n",
    "      curitem = {'url': line['data']['location'], 'time': line['time']}\n",
    "    else:\n",
    "      curitem = {'url': line['location'], 'time': line['time']}\n",
    "    output.append(curitem)\n",
    "  return output\n",
    "'''\n",
    "\n",
    "def compute_mlog_active_times_for_user(user):\n",
    "  output = []\n",
    "  for line in iterate_mlogs_for_user(user):\n",
    "    if 'data' in line:\n",
    "      curitem = {'url': line['data']['location'], 'time': line['time']}\n",
    "    else:\n",
    "      curitem = {'url': line['location'], 'time': line['time']}\n",
    "    output.append(curitem)\n",
    "  return output\n",
    "\n",
    "def get_mlog_active_times_for_user(user):\n",
    "  return get_function_for_key(user, 'mlog_active_times_for_user')\n",
    "\n",
    "def compute_mlog_active_times_for_all_users():\n",
    "  for user in list_users_with_mlog():\n",
    "    compute_function_for_key(user, 'mlog_active_times_for_user')\n",
    "\n",
    "def compute_mlog_active_times_for_all_users_randomized():\n",
    "  for user in shuffled(list_users_with_mlog()):\n",
    "    compute_function_for_key(user, 'mlog_active_times_for_user')\n",
    "\n",
    "#print compute_mlog_active_times_for_user('ZDMgTG3hUx')\n",
    "#compute_function_for_key('ZDMgTG3hUx', 'mlog_active_times_for_user')"
   ]
  },
  {
   "cell_type": "code",
   "execution_count": 29,
   "metadata": {
    "collapsed": true
   },
   "outputs": [],
   "source": [
    "def compute_history_visit_times_for_user(user):\n",
    "  output = set()\n",
    "  for visit in get_history_ordered_visits_for_user(user):\n",
    "    output.add(visit['visitTime'])\n",
    "  return sorted(list(output))\n",
    "\n",
    "def get_history_visit_times_for_user(user):\n",
    "  return get_function_for_key(user, 'history_visit_times_for_user')\n",
    "\n",
    "def compute_history_visit_times_for_all_users():\n",
    "  for user in list_users_with_hist():\n",
    "    compute_function_for_key(user, 'history_visit_times_for_user')\n",
    "\n",
    "def compute_history_visit_times_for_all_users_randomized():\n",
    "  for user in shuffled(list_users_with_hist()):\n",
    "    compute_function_for_key(user, 'history_visit_times_for_user')\n"
   ]
  },
  {
   "cell_type": "code",
   "execution_count": 30,
   "metadata": {
    "collapsed": false
   },
   "outputs": [],
   "source": [
    "def compute_windows_at_time_for_user(user):\n",
    "  output = {}\n",
    "  history_visit_times = get_history_visit_times_for_user(user)\n",
    "  hidx = 0\n",
    "  for line in iterate_logs_for_user(user):\n",
    "    curtime = line['time']\n",
    "    windows = line['windows']\n",
    "    while hidx < len(history_visit_times): # still have visit times that need to be labeled\n",
    "      next_history_visit_time = history_visit_times[hidx]\n",
    "      if curtime < next_history_visit_time:\n",
    "        break\n",
    "      else: # next_history_visit_time <= curtime\n",
    "        output[curtime] = windows\n",
    "        hidx += 1\n",
    "  return output\n",
    "\n",
    "def get_windows_at_time_for_user(user):\n",
    "  return get_function_for_key(user, 'windows_at_time_for_user')\n",
    "\n",
    "def compute_windows_at_time_for_all_users():\n",
    "  for user in list_users_with_log_and_hist():\n",
    "    compute_function_for_key(user, 'windows_at_time_for_user')\n",
    "\n",
    "def compute_windows_at_time_for_all_users_randomized():\n",
    "  for user in shuffled(list_users_with_log_and_hist()):\n",
    "    compute_function_for_key(user, 'windows_at_time_for_user')\n",
    "\n"
   ]
  },
  {
   "cell_type": "code",
   "execution_count": 31,
   "metadata": {
    "collapsed": true
   },
   "outputs": [],
   "source": [
    "def compute_active_url_at_time_for_user(user):\n",
    "  output = {}\n",
    "  for time,windows in get_windows_at_time_for_user(user).viewitems():\n",
    "    isdone = False\n",
    "    for window in windows:\n",
    "      if isdone:\n",
    "        break\n",
    "      focused = window['focused']\n",
    "      if not focused:\n",
    "        continue\n",
    "      tabs = window['tabs']\n",
    "      for tab in tabs:\n",
    "        if not tab['highlighted']:\n",
    "          continue\n",
    "        if not tab['selected']:\n",
    "          continue\n",
    "        output[time] = tab['url']\n",
    "        isdone = True\n",
    "        break\n",
    "  return output\n",
    "\n",
    "def get_active_url_at_time_for_user(user):\n",
    "  return get_function_for_key(user, 'active_url_at_time_for_user')\n",
    "\n",
    "def compute_active_url_at_time_for_all_users():\n",
    "  for user in list_users_with_log_and_hist():\n",
    "    compute_function_for_key(user, 'active_url_at_time_for_user')\n",
    "\n",
    "def compute_active_url_at_time_for_all_users_randomized():\n",
    "  for user in shuffled(list_users_with_log_and_hist()):\n",
    "    compute_function_for_key(user, 'active_url_at_time_for_user')\n",
    "\n"
   ]
  },
  {
   "cell_type": "code",
   "execution_count": 32,
   "metadata": {
    "collapsed": true
   },
   "outputs": [],
   "source": [
    "def compute_active_domain_at_time_for_user(user):\n",
    "  output = {}\n",
    "  for time,url in get_active_url_at_time_for_user(user).viewitems():\n",
    "    output[time] = url_to_domain(url)\n",
    "  return output\n",
    "\n",
    "def get_active_domain_at_time_for_user(user):\n",
    "  return get_function_for_key(user, 'active_domain_at_time_for_user')\n",
    "\n",
    "def compute_active_domain_at_time_for_all_users():\n",
    "  for user in list_users_with_log_and_hist():\n",
    "    compute_function_for_key(user, 'active_domain_at_time_for_user')\n",
    "\n",
    "def compute_active_domain_at_time_for_all_users_randomized():\n",
    "  for user in shuffled(list_users_with_log_and_hist()):\n",
    "    compute_function_for_key(user, 'active_domain_at_time_for_user')\n"
   ]
  },
  {
   "cell_type": "code",
   "execution_count": 33,
   "metadata": {
    "collapsed": true
   },
   "outputs": [],
   "source": [
    "def compute_active_domain_id_at_time_for_user(user):\n",
    "  output = {}\n",
    "  for time,url in get_active_domain_at_time_for_user(user).viewitems():\n",
    "    output[time] = domain_to_id(url)\n",
    "  return output\n",
    "\n",
    "def get_active_domain_id_at_time_for_user(user):\n",
    "  return get_function_for_key(user, 'active_domain_id_at_time_for_user')\n",
    "\n",
    "def compute_active_domain_id_at_time_for_all_users():\n",
    "  for user in list_users_with_log_and_hist():\n",
    "    compute_function_for_key(user, 'active_domain_id_at_time_for_user')\n",
    "\n",
    "def compute_active_domain_id_at_time_for_all_users_randomized():\n",
    "  for user in shuffled(list_users_with_log_and_hist()):\n",
    "    compute_function_for_key(user, 'active_domain_id_at_time_for_user')\n"
   ]
  },
  {
   "cell_type": "code",
   "execution_count": 34,
   "metadata": {
    "collapsed": false
   },
   "outputs": [],
   "source": [
    "def compute_allurls_at_time_for_user(user):\n",
    "  output = {}\n",
    "  for time,windows in get_windows_at_time_for_user(user).viewitems():\n",
    "    output[time] = []\n",
    "    for window in windows:\n",
    "      for tab in window['tabs']:\n",
    "        url = tab['url']\n",
    "        output[time].append(url)\n",
    "  return output\n",
    "\n",
    "def get_allurls_at_time_for_user(user):\n",
    "  return get_function_for_key(user, 'allurls_at_time_for_user')\n",
    "\n",
    "def compute_allurls_at_time_for_all_users():\n",
    "  for user in list_users_with_log_and_hist():\n",
    "    compute_function_for_key(user, 'allurls_at_time_for_user')\n",
    "\n",
    "def compute_allurls_at_time_for_all_users_randomized():\n",
    "  for user in shuffled(list_users_with_hist()):\n",
    "    compute_function_for_key(user, 'allurls_at_time_for_user')\n",
    "\n",
    "  "
   ]
  },
  {
   "cell_type": "code",
   "execution_count": 35,
   "metadata": {
    "collapsed": true
   },
   "outputs": [],
   "source": [
    "def compute_alldomains_at_time_for_user(user):\n",
    "  output = {}\n",
    "  for time,urls in get_allurls_at_time_for_user(user).viewitems():\n",
    "    output[time] = [url_to_domain(url) for url in urls]\n",
    "  return output\n",
    "\n",
    "def get_alldomains_at_time_for_user(user):\n",
    "  return get_function_for_key(user, 'alldomains_at_time_for_user')\n",
    "\n",
    "def compute_alldomains_at_time_for_all_users():\n",
    "  for user in list_users_with_log_and_hist():\n",
    "    compute_function_for_key(user, 'alldomains_at_time_for_user')\n",
    "\n",
    "def compute_alldomains_at_time_for_all_users_randomized():\n",
    "  for user in shuffled(list_users_with_hist()):\n",
    "    compute_function_for_key(user, 'alldomains_at_time_for_user')\n",
    "\n",
    "  "
   ]
  },
  {
   "cell_type": "code",
   "execution_count": 36,
   "metadata": {
    "collapsed": true
   },
   "outputs": [],
   "source": [
    "def compute_log_with_mlog_active_times_for_user(user):\n",
    "  mlog_active_times_for_user_raw = get_mlog_active_times_for_user(user)\n",
    "  def add_evt_mlog_to_generator(gen):\n",
    "    for x in gen:\n",
    "      x['evt'] = 'mlog'\n",
    "      yield x\n",
    "  mlog_active_times_for_user = add_evt_mlog_to_generator(mlog_active_times_for_user_raw)\n",
    "  logs_for_user = get_log_timesorted_lines_for_user(user)\n",
    "  return orderedMerge(logs_for_user, mlog_active_times_for_user, key=itemgetter('time'))\n",
    "\n",
    "def get_log_with_mlog_active_times_for_user(user):\n",
    "  return get_function_for_key_lines(user, 'log_with_mlog_active_times_for_user')\n",
    "\n",
    "def compute_log_with_mlog_active_times_for_all_users():\n",
    "  for user in list_users_with_log_and_mlog():\n",
    "    compute_function_for_key_lines(user, 'log_with_mlog_active_times_for_user')\n",
    "\n",
    "def compute_log_with_mlog_active_times_for_all_users_randomized():\n",
    "  for user in shuffled(list_users_with_log_and_mlog()):\n",
    "    compute_function_for_key_lines(user, 'log_with_mlog_active_times_for_user')\n"
   ]
  },
  {
   "cell_type": "code",
   "execution_count": 37,
   "metadata": {
    "collapsed": true
   },
   "outputs": [],
   "source": [
    "def compute_mlog_timesorted_lines_for_user(user):\n",
    "  mlogfile = get_mlogfile_for_user(user)\n",
    "  alldata = json.load(open(mlogfile))\n",
    "  alldata.sort(key=itemgetter('time'))\n",
    "  return alldata\n",
    "\n",
    "def get_mlog_timesorted_lines_for_user(user):\n",
    "  return get_function_for_key_lines(user, 'mlog_timesorted_lines_for_user')\n",
    "\n",
    "def compute_mlog_timesorted_lines_for_all_users():\n",
    "  for user in list_users_with_mlog():\n",
    "    compute_function_for_key_lines(user, 'mlog_timesorted_lines_for_user')\n",
    "\n",
    "def compute_mlog_timesorted_lines_for_all_users_randomized():\n",
    "  for user in shuffled(list_users_with_mlog()):\n",
    "    compute_function_for_key_lines(user, 'mlog_timesorted_lines_for_user')\n"
   ]
  },
  {
   "cell_type": "code",
   "execution_count": 38,
   "metadata": {
    "collapsed": true
   },
   "outputs": [],
   "source": [
    "def compute_log_timesorted_lines_for_user(user):\n",
    "  logfile = get_logfile_for_user(user)\n",
    "  alldata = json.load(open(logfile))\n",
    "  alldata.sort(key=itemgetter('time'))\n",
    "  return alldata\n",
    "\n",
    "def get_log_timesorted_lines_for_user(user):\n",
    "  return get_function_for_key_lines(user, 'log_timesorted_lines_for_user')\n",
    "\n",
    "def compute_log_timesorted_lines_for_all_users():\n",
    "  for user in list_users_with_log():\n",
    "    compute_function_for_key_lines(user, 'log_timesorted_lines_for_user')\n",
    "\n",
    "def compute_log_timesorted_lines_for_all_users_randomized():\n",
    "  for user in shuffled(list_users_with_log()):\n",
    "    compute_function_for_key_lines(user, 'log_timesorted_lines_for_user')\n"
   ]
  },
  {
   "cell_type": "code",
   "execution_count": 39,
   "metadata": {
    "collapsed": true
   },
   "outputs": [],
   "source": [
    "def compute_hist_timesorted_lines_for_user(user):\n",
    "  histfile = get_histfile_for_user(user)\n",
    "  alldata = json.load(open(histfile))\n",
    "  alldata.sort(key=itemgetter('time'))\n",
    "  return alldata\n",
    "\n",
    "def get_hist_timesorted_lines_for_user(user):\n",
    "  return get_function_for_key_lines(user, 'hist_timesorted_lines_for_user')\n",
    "\n",
    "def compute_hist_timesorted_lines_for_all_users():\n",
    "  for user in list_users_with_hist():\n",
    "    compute_function_for_key_lines(user, 'hist_timesorted_lines_for_user')\n",
    "\n",
    "def compute_hist_timesorted_lines_for_all_users_randomized():\n",
    "  for user in shuffled(list_users_with_hist()):\n",
    "    compute_function_for_key_lines(user, 'hist_timesorted_lines_for_user')\n"
   ]
  },
  {
   "cell_type": "code",
   "execution_count": 40,
   "metadata": {
    "collapsed": true
   },
   "outputs": [],
   "source": [
    "def compute_reconstruct_focus_times_baseline_for_user(user):\n",
    "  # baseline algorithm = 60 seconds idle time assumed\n",
    "  reconstructor = ReconstructFocusTimesBaseline()\n",
    "  for visit in get_history_ordered_visits_for_user(user):\n",
    "    reconstructor.process_history_line(visit)\n",
    "  return reconstructor.get_output()\n",
    "\n",
    "def get_reconstruct_focus_times_baseline_for_user(user):\n",
    "  return get_function_for_key_lines(user, 'reconstruct_focus_times_baseline_for_user')\n",
    "\n",
    "def compute_reconstruct_focus_times_baseline_for_all_users():\n",
    "  for user in list_users_with_hist():\n",
    "    compute_function_for_key_lines(user, 'reconstruct_focus_times_baseline_for_user')\n",
    "\n",
    "def compute_reconstruct_focus_times_baseline_for_all_users_randomized():\n",
    "  for user in shuffled(list_users_with_hist()):\n",
    "    compute_function_for_key_lines(user, 'reconstruct_focus_times_baseline_for_user')\n"
   ]
  },
  {
   "cell_type": "code",
   "execution_count": 41,
   "metadata": {
    "collapsed": true
   },
   "outputs": [],
   "source": [
    "def compute_url_switch_sources_for_user(user):\n",
    "  output = [] # {url, prev, evt}\n",
    "  prevurl = None\n",
    "  for data in get_log_with_mlog_active_times_for_user(user):\n",
    "    data = uncompress_data_subfields(data)\n",
    "    cururl = get_focused_tab(data)\n",
    "    evt = data['evt']\n",
    "    if cururl != prevurl:\n",
    "      output.append({'evt': evt, 'url': cururl, 'prev': prevurl})\n",
    "      prevurl = cururl\n",
    "  return output\n",
    "\n",
    "def get_url_switch_sources_for_user(user):\n",
    "  return get_function_for_key_lines(user, 'url_switch_sources_for_user')\n",
    "\n",
    "def compute_url_switch_sources_for_all_users():\n",
    "  for user in list_users_with_log_and_mlog():\n",
    "    compute_function_for_key_lines(user, 'url_switch_sources_for_user')\n",
    "\n",
    "def compute_url_switch_sources_for_all_users_randomized():\n",
    "  for user in shuffled(list_users_with_log_and_mlog()):\n",
    "    compute_function_for_key_lines(user, 'url_switch_sources_for_user')\n"
   ]
  },
  {
   "cell_type": "code",
   "execution_count": 42,
   "metadata": {
    "collapsed": false
   },
   "outputs": [],
   "source": [
    "def extract_secondlevel_activespan_dataset_for_user(user, only_tenseconds=False, only_insession=False):\n",
    "  ordered_visits = get_history_ordered_visits_corrected_for_user(user)\n",
    "  #ordered_visits = get_history_ordered_visits_for_user(user)\n",
    "  ordered_visits = exclude_bad_visits(ordered_visits)\n",
    "  ordered_visits_len = len(ordered_visits)\n",
    "  tab_focus_times = get_tab_focus_times_for_user(user)\n",
    "  if len(tab_focus_times) == 0:\n",
    "    return\n",
    "  if len(ordered_visits) == 0:\n",
    "    return\n",
    "  active_seconds_set = set(get_active_seconds_for_user(user))\n",
    "  insession_seconds_set = None\n",
    "  if only_insession:\n",
    "    insession_seconds_set = set(get_insession_seconds_for_user(user))\n",
    "  ref_start_time = max(get_earliest_start_time(tab_focus_times), get_earliest_start_time(ordered_visits))\n",
    "  ref_end_time = min(get_last_end_time(tab_focus_times), get_last_end_time(ordered_visits))\n",
    "  ref_start_time = max(ref_start_time, 1458371950000) # march 19th. may have had some data loss prior to that\n",
    "  ref_end_time = max(ref_end_time, 1458371950000)\n",
    "  ref_start_time_seconds = ref_start_time/1000.0\n",
    "  ref_end_time_seconds = ref_end_time/1000.0\n",
    "  tab_focus_times_sortedcollection = SortedCollection(tab_focus_times, key=itemgetter('start'))\n",
    "  for idx,visit in enumerate(ordered_visits):\n",
    "    if idx+1 == ordered_visits_len: # last visit, we probably should reconstruct this TODO\n",
    "      continue\n",
    "    next_visit = ordered_visits[idx + 1]\n",
    "    visit_time_seconds = int(round(visit['visitTime']/1000.0))\n",
    "    next_visit_time_seconds = int(round(next_visit['visitTime']/1000.0))\n",
    "    if visit_time_seconds < ref_start_time_seconds:\n",
    "      continue\n",
    "    if next_visit_time_seconds > ref_end_time_seconds:\n",
    "      continue\n",
    "    if visit_time_seconds >= next_visit_time_seconds:\n",
    "      continue\n",
    "    from_domain_id = domain_to_id(url_to_domain(visit['url']))\n",
    "    to_domain_id = domain_to_id(url_to_domain(next_visit['url']))\n",
    "    # we actually want to do this per second, not per millisecond! so want to actually round to nearest 1000 milliseconds\n",
    "    for timestep in xrange(visit_time_seconds, next_visit_time_seconds+1):\n",
    "      if not visit_time_seconds < timestep < next_visit_time_seconds:\n",
    "        continue\n",
    "      if only_tenseconds:\n",
    "        if timestep % 10 != 0:\n",
    "          continue\n",
    "      if only_insession:\n",
    "        if timestep not in insession_seconds_set:\n",
    "          continue\n",
    "      sinceprev = timestep - visit_time_seconds\n",
    "      tonext = next_visit_time_seconds - timestep\n",
    "      #label = int((sinceprev <= 60) or (timestep in active_seconds_set))\n",
    "      #label = int((sinceprev <= 60) or (timestep in active_seconds_set))\n",
    "      label = timestep in active_seconds_set\n",
    "      yield [label, log(sinceprev), log(tonext), from_domain_id, to_domain_id]\n",
    "\n",
    "def compute_secondlevel_activespan_dataset_for_user(user):\n",
    "  return extract_secondlevel_activespan_dataset_for_user(user, False)\n",
    "\n",
    "def get_secondlevel_activespan_dataset_for_user(user):\n",
    "  return get_function_for_key(user, 'secondlevel_activespan_dataset_for_user')\n",
    "\n",
    "def compute_secondlevel_activespan_dataset_for_all_users():\n",
    "  for user in list_users_with_log_and_mlog_and_hist():\n",
    "    compute_function_for_key(user, 'secondlevel_activespan_dataset_for_user')\n",
    "\n",
    "def compute_secondlevel_activespan_dataset_for_all_users_randomized():\n",
    "  for user in shuffled(list_users_with_log_and_mlog_and_hist()):\n",
    "    compute_function_for_key(user, 'secondlevel_activespan_dataset_for_user')\n",
    "\n",
    "def compute_tensecondlevel_activespan_dataset_for_user(user):\n",
    "  return extract_secondlevel_activespan_dataset_for_user(user, True) # not a typo. it handles both\n",
    "\n",
    "def get_tensecondlevel_activespan_dataset_for_user(user):\n",
    "  return get_function_for_key(user, 'tensecondlevel_activespan_dataset_for_user')\n",
    "\n",
    "def compute_tensecondlevel_activespan_dataset_for_all_users():\n",
    "  for user in list_users_with_log_and_mlog_and_hist():\n",
    "    compute_function_for_key(user, 'tensecondlevel_activespan_dataset_for_user')\n",
    "\n",
    "def compute_tensecondlevel_activespan_dataset_for_all_users_randomized():\n",
    "  for user in shuffled(list_users_with_log_and_mlog_and_hist()):\n",
    "    compute_function_for_key(user, 'tensecondlevel_activespan_dataset_for_user')\n"
   ]
  },
  {
   "cell_type": "code",
   "execution_count": 43,
   "metadata": {
    "collapsed": true
   },
   "outputs": [],
   "source": [
    "def compute_tensecondlevel_activespan_dataset_insession_for_user(user):\n",
    "  return extract_secondlevel_activespan_dataset_for_user(user, True, True) # not a typo. it handles both\n",
    "\n",
    "def get_tensecondlevel_activespan_dataset_insession_for_user(user):\n",
    "  return get_function_for_key(user, 'tensecondlevel_activespan_dataset_insession_for_user')\n",
    "\n",
    "def compute_tensecondlevel_activespan_dataset_insession_for_all_users():\n",
    "  for user in list_users_with_log_and_mlog_and_hist():\n",
    "    compute_function_for_key(user, 'tensecondlevel_activespan_dataset_insession_for_user')\n",
    "\n",
    "def compute_tensecondlevel_activespan_dataset_insession_for_all_users_randomized():\n",
    "  for user in shuffled(list_users_with_log_and_mlog_and_hist()):\n",
    "    compute_function_for_key(user, 'tensecondlevel_activespan_dataset_insession_for_user')\n"
   ]
  },
  {
   "cell_type": "code",
   "execution_count": 44,
   "metadata": {
    "collapsed": true
   },
   "outputs": [],
   "source": [
    "def compute_secondlevel_activespan_dataset_insession_for_user(user):\n",
    "  return extract_secondlevel_activespan_dataset_for_user(user, False, True) # not a typo. it handles both\n",
    "\n",
    "def get_secondlevel_activespan_dataset_insession_for_user(user):\n",
    "  return get_function_for_key(user, 'secondlevel_activespan_dataset_insession_for_user')\n",
    "\n",
    "def compute_secondlevel_activespan_dataset_insession_for_all_users():\n",
    "  for user in list_users_with_log_and_mlog_and_hist():\n",
    "    compute_function_for_key(user, 'secondlevel_activespan_dataset_insession_for_user')\n",
    "\n",
    "def compute_secondlevel_activespan_dataset_insession_for_all_users_randomized():\n",
    "  for user in shuffled(list_users_with_log_and_mlog_and_hist()):\n",
    "    compute_function_for_key(user, 'secondlevel_activespan_dataset_insession_for_user')\n"
   ]
  },
  {
   "cell_type": "code",
   "execution_count": 45,
   "metadata": {
    "collapsed": true
   },
   "outputs": [],
   "source": [
    "def compute_tensecondlevel_activespan_dataset_for_user(user):\n",
    "  return extract_secondlevel_activespan_dataset_for_user(user, True) # not a typo. it handles both\n",
    "\n",
    "def get_tensecondlevel_activespan_dataset_for_user(user):\n",
    "  return get_function_for_key(user, 'tensecondlevel_activespan_dataset_for_user')\n",
    "\n",
    "def compute_tensecondlevel_activespan_dataset_for_all_users():\n",
    "  for user in list_users_with_log_and_mlog_and_hist():\n",
    "    compute_function_for_key(user, 'tensecondlevel_activespan_dataset_for_user')\n",
    "\n",
    "def compute_tensecondlevel_activespan_dataset_for_all_users_randomized():\n",
    "  for user in shuffled(list_users_with_log_and_mlog_and_hist()):\n",
    "    compute_function_for_key(user, 'tensecondlevel_activespan_dataset_for_user')\n"
   ]
  },
  {
   "cell_type": "code",
   "execution_count": 46,
   "metadata": {
    "collapsed": true
   },
   "outputs": [],
   "source": [
    "def compute_tensecondlevel_activespan_dataset():\n",
    "  output = []\n",
    "  for user in list_users_with_log_and_mlog_and_hist():\n",
    "    output.extend(get_tensecondlevel_activespan_dataset_for_user(user))\n",
    "  return output\n",
    "\n",
    "def get_tensecondlevel_activespan_dataset():\n",
    "  return create_and_get_msgpack('tensecondlevel_activespan_dataset.msgpack')\n",
    "\n",
    "def precompute_tensecondlevel_activespan_dataset():\n",
    "  create_if_doesnt_exist_msgpack('tensecondlevel_activespan_dataset.msgpack')"
   ]
  },
  {
   "cell_type": "code",
   "execution_count": 47,
   "metadata": {
    "collapsed": true
   },
   "outputs": [],
   "source": [
    "def compute_tensecondlevel_activespan_dataset_labels_for_user(user):\n",
    "  for line in get_tensecondlevel_activespan_dataset_for_user(user):\n",
    "    yield line[0]\n",
    "\n",
    "def get_tensecondlevel_activespan_dataset_labels_for_user(user):\n",
    "  return get_function_for_key(user, 'tensecondlevel_activespan_dataset_labels_for_user')\n",
    "\n",
    "def compute_tensecondlevel_activespan_dataset_labels_for_all_users():\n",
    "  for user in list_users_with_log_and_mlog_and_hist():\n",
    "    compute_function_for_key(user, 'tensecondlevel_activespan_dataset_labels_for_user')\n",
    "\n",
    "def compute_tensecondlevel_activespan_dataset_labels_for_all_users_randomized():\n",
    "  for user in shuffled(list_users_with_log_and_mlog_and_hist()):\n",
    "    compute_function_for_key(user, 'tensecondlevel_activespan_dataset_labels_for_user')\n"
   ]
  },
  {
   "cell_type": "code",
   "execution_count": 48,
   "metadata": {
    "collapsed": true
   },
   "outputs": [],
   "source": [
    "def compute_tensecondlevel_activespan_dataset_insession_labels_for_user(user):\n",
    "  for line in get_tensecondlevel_activespan_dataset_insession_for_user(user):\n",
    "    yield line[0]\n",
    "\n",
    "def get_tensecondlevel_activespan_dataset_insession_labels_for_user(user):\n",
    "  return get_function_for_key(user, 'tensecondlevel_activespan_dataset_insession_labels_for_user')\n",
    "\n",
    "def compute_tensecondlevel_activespan_dataset_insession_labels_for_all_users():\n",
    "  for user in list_users_with_log_and_mlog_and_hist():\n",
    "    compute_function_for_key(user, 'tensecondlevel_activespan_dataset_insession_labels_for_user')\n",
    "\n",
    "def compute_tensecondlevel_activespan_dataset_insession_labels_for_all_users_randomized():\n",
    "  for user in shuffled(list_users_with_log_and_mlog_and_hist()):\n",
    "    compute_function_for_key(user, 'tensecondlevel_activespan_dataset_insession_labels_for_user')\n"
   ]
  },
  {
   "cell_type": "code",
   "execution_count": 49,
   "metadata": {
    "collapsed": false
   },
   "outputs": [],
   "source": [
    "def compute_secondlevel_activespan_dataset_insession_labels_for_user(user):\n",
    "  for line in get_secondlevel_activespan_dataset_insession_for_user(user):\n",
    "    yield line[0]\n",
    "\n",
    "def get_secondlevel_activespan_dataset_insession_labels_for_user(user):\n",
    "  return get_function_for_key(user, 'secondlevel_activespan_dataset_insession_labels_for_user')\n",
    "\n",
    "def compute_secondlevel_activespan_dataset_insession_labels_for_all_users():\n",
    "  for user in list_users_with_log_and_mlog_and_hist():\n",
    "    compute_function_for_key(user, 'secondlevel_activespan_dataset_insession_labels_for_user')\n",
    "\n",
    "def compute_secondlevel_activespan_dataset_insession_labels_for_all_users_randomized():\n",
    "  for user in shuffled(list_users_with_log_and_mlog_and_hist()):\n",
    "    compute_function_for_key(user, 'secondlevel_activespan_dataset_insession_labels_for_user')\n"
   ]
  },
  {
   "cell_type": "code",
   "execution_count": null,
   "metadata": {
    "collapsed": true
   },
   "outputs": [],
   "source": [
    "def compute_secondlevel_activespan_dataset_labels_for_user(user):\n",
    "  for line in get_secondlevel_activespan_dataset_for_user(user):\n",
    "    yield line[0]\n",
    "\n",
    "def get_secondlevel_activespan_dataset_labels_for_user(user):\n",
    "  return get_function_for_key(user, 'secondlevel_activespan_dataset_labels_for_user')\n",
    "\n",
    "def compute_secondlevel_activespan_dataset_labels_for_all_users():\n",
    "  for user in list_users_with_log_and_mlog_and_hist():\n",
    "    compute_function_for_key(user, 'secondlevel_activespan_dataset_labels_for_user')\n",
    "\n",
    "def compute_secondlevel_activespan_dataset_labels_for_all_users_randomized():\n",
    "  for user in shuffled(list_users_with_log_and_mlog_and_hist()):\n",
    "    compute_function_for_key(user, 'secondlevel_activespan_dataset_labels_for_user')\n"
   ]
  },
  {
   "cell_type": "code",
   "execution_count": 50,
   "metadata": {
    "collapsed": false
   },
   "outputs": [],
   "source": [
    "def compute_secondlevel_activespan_dataset_labels_for_user(user):\n",
    "  for line in get_secondlevel_activespan_dataset_for_user(user):\n",
    "    yield line[0]\n",
    "\n",
    "def get_secondlevel_activespan_labels_for_user(user):\n",
    "  return get_function_for_key(user, 'secondlevel_activespan_dataset_labels_for_user')\n",
    "\n",
    "def compute_secondlevel_activespan_dataset_labels_for_all_users():\n",
    "  for user in list_users_with_log_and_mlog_and_hist():\n",
    "    compute_function_for_key(user, 'secondlevel_activespan_dataset_labels_for_user')\n",
    "\n",
    "def compute_secondlevel_activespan_dataset_labels_for_all_users_randomized():\n",
    "  for user in shuffled(list_users_with_log_and_mlog_and_hist()):\n",
    "    compute_function_for_key(user, 'secondlevel_activespan_dataset_labels_for_user')\n"
   ]
  },
  {
   "cell_type": "code",
   "execution_count": 51,
   "metadata": {
    "collapsed": true
   },
   "outputs": [],
   "source": [
    "@memoized\n",
    "def total_visits_of_domains_in_training():\n",
    "  return sum_values_in_list_of_dict([get_domain_to_num_history_visits_for_user(user)for user in get_training_users()])\n",
    "\n",
    "@memoized\n",
    "def top_n_domains_by_visits(n=10):\n",
    "  domain_to_usage = total_visits_of_domains_in_training()\n",
    "  return [x[0] for x in sorted(domain_to_usage.items(), key=itemgetter(1), reverse=True)[:n]]\n"
   ]
  },
  {
   "cell_type": "code",
   "execution_count": null,
   "metadata": {
    "collapsed": false
   },
   "outputs": [],
   "source": []
  },
  {
   "cell_type": "code",
   "execution_count": null,
   "metadata": {
    "collapsed": true
   },
   "outputs": [],
   "source": []
  },
  {
   "cell_type": "code",
   "execution_count": 52,
   "metadata": {
    "collapsed": true
   },
   "outputs": [],
   "source": [
    "def get_users_with_data():\n",
    "  users_with_data = []\n",
    "  for user in list_users_with_log_and_mlog_and_hist():\n",
    "    ordered_visits = get_history_ordered_visits_corrected_for_user(user)\n",
    "    if len(ordered_visits) == 0:\n",
    "      continue\n",
    "    tab_focus_times = get_tab_focus_times_for_user(user)\n",
    "    if len(tab_focus_times) == 0:\n",
    "      continue\n",
    "    first_visit = tab_focus_times[0]\n",
    "    first_visit_time = first_visit['start']\n",
    "    first_visit_time = max(first_visit_time, ordered_visits[0]['visitTime']) / 1000.0\n",
    "    last_visit = ordered_visits[-1]\n",
    "    last_visit_time = float(last_visit['visitTime'])\n",
    "    last_visit_time = min(last_visit_time, tab_focus_times[-1]) / 1000.0\n",
    "    time_spent = last_visit_time - first_visit_time # seconds\n",
    "    #print user, time_spent/(3600.0*24)\n",
    "    if time_spent/(3600.0*24) > 10: # have at least 10 days of data\n",
    "      users_with_data.append(user)\n",
    "    #print user, datetime.datetime.fromtimestamp(last_visit_time)\n",
    "  return users_with_data\n"
   ]
  },
  {
   "cell_type": "code",
   "execution_count": 53,
   "metadata": {
    "collapsed": true
   },
   "outputs": [],
   "source": [
    "@memoized\n",
    "def get_training_and_test_users():\n",
    "  all_available_users = get_users_with_data()\n",
    "  half_of_all = (len(all_available_users)+1) / 2\n",
    "  training_users = random.sample(all_available_users, half_of_all)\n",
    "  training_users_set = set(training_users)\n",
    "  test_users = [x for x in all_available_users if x not in training_users_set]\n",
    "  return training_users,test_users\n",
    "\n",
    "@jsonmemoized\n",
    "def get_training_users():\n",
    "  return get_training_and_test_users()[0]\n",
    "\n",
    "@jsonmemoized\n",
    "def get_test_users():\n",
    "  return get_training_and_test_users()[1]\n"
   ]
  },
  {
   "cell_type": "code",
   "execution_count": 54,
   "metadata": {
    "collapsed": true
   },
   "outputs": [],
   "source": [
    "def compute_tensecondlevel_activespan_dataset_insession_train():\n",
    "  output = []\n",
    "  for user in get_training_users():\n",
    "    output.extend(get_tensecondlevel_activespan_dataset_insession_for_user(user))\n",
    "  return output\n",
    "\n",
    "def get_tensecondlevel_activespan_dataset_insession_train():\n",
    "  return create_and_get_msgpack('tensecondlevel_activespan_dataset_insession_train.msgpack')\n",
    "\n",
    "def precompute_tensecondlevel_activespan_dataset_insession_train():\n",
    "  create_if_doesnt_exist_msgpack('tensecondlevel_activespan_dataset_insession_train.msgpack')\n",
    "\n",
    "def compute_tensecondlevel_activespan_dataset_insession_test():\n",
    "  output = []\n",
    "  for user in get_test_users():\n",
    "    output.extend(get_tensecondlevel_activespan_dataset_insession_for_user(user))\n",
    "  return output\n",
    "\n",
    "def get_tensecondlevel_activespan_dataset_insession_test():\n",
    "  return create_and_get_msgpack('tensecondlevel_activespan_dataset_insession_test.msgpack')\n",
    "\n",
    "def precompute_tensecondlevel_activespan_dataset_insession_test():\n",
    "  create_if_doesnt_exist_msgpack('tensecondlevel_activespan_dataset_insession_test.msgpack')"
   ]
  },
  {
   "cell_type": "code",
   "execution_count": 55,
   "metadata": {
    "collapsed": true
   },
   "outputs": [],
   "source": [
    "def compute_secondlevel_activespan_dataset_insession_train():\n",
    "  output = []\n",
    "  for user in get_training_users():\n",
    "    output.extend(get_secondlevel_activespan_dataset_insession_for_user(user))\n",
    "  return output\n",
    "\n",
    "def get_secondlevel_activespan_dataset_insession_train():\n",
    "  return create_and_get_msgpack('secondlevel_activespan_dataset_insession_train.msgpack')\n",
    "\n",
    "def precompute_secondlevel_activespan_dataset_insession_train():\n",
    "  create_if_doesnt_exist_msgpack('secondlevel_activespan_dataset_insession_train.msgpack')\n",
    "\n",
    "def compute_secondlevel_activespan_dataset_insession_test():\n",
    "  output = []\n",
    "  for user in get_test_users():\n",
    "    output.extend(get_secondlevel_activespan_dataset_insession_for_user(user))\n",
    "  return output\n",
    "\n",
    "def get_secondlevel_activespan_dataset_insession_test():\n",
    "  return create_and_get_msgpack('secondlevel_activespan_dataset_insession_test.msgpack')\n",
    "\n",
    "def precompute_secondlevel_activespan_dataset_insession_test():\n",
    "  create_if_doesnt_exist_msgpack('secondlevel_activespan_dataset_insession_test.msgpack')"
   ]
  },
  {
   "cell_type": "code",
   "execution_count": 56,
   "metadata": {
    "collapsed": true
   },
   "outputs": [],
   "source": [
    "def compute_tensecondlevel_activespan_dataset_train():\n",
    "  output = []\n",
    "  for user in get_training_users():\n",
    "    output.extend(get_tensecondlevel_activespan_dataset_for_user(user))\n",
    "  return output\n",
    "\n",
    "def get_tensecondlevel_activespan_dataset_train():\n",
    "  return create_and_get_msgpack('tensecondlevel_activespan_dataset_train.msgpack')\n",
    "\n",
    "def precompute_tensecondlevel_activespan_dataset_train():\n",
    "  create_if_doesnt_exist_msgpack('tensecondlevel_activespan_dataset_train.msgpack')\n",
    "\n",
    "def compute_tensecondlevel_activespan_dataset_test():\n",
    "  output = []\n",
    "  for user in get_test_users():\n",
    "    output.extend(get_tensecondlevel_activespan_dataset_for_user(user))\n",
    "  return output\n",
    "\n",
    "def get_tensecondlevel_activespan_dataset_test():\n",
    "  return create_and_get_msgpack('tensecondlevel_activespan_dataset_test.msgpack')\n",
    "\n",
    "def precompute_tensecondlevel_activespan_dataset_test():\n",
    "  create_if_doesnt_exist_msgpack('tensecondlevel_activespan_dataset_test.msgpack')"
   ]
  },
  {
   "cell_type": "code",
   "execution_count": 57,
   "metadata": {
    "collapsed": true
   },
   "outputs": [],
   "source": [
    "def compute_secondlevel_activespan_dataset_train():\n",
    "  output = []\n",
    "  for user in get_training_users():\n",
    "    output.extend(get_secondlevel_activespan_dataset_for_user(user))\n",
    "  return output\n",
    "\n",
    "def get_secondlevel_activespan_dataset_train():\n",
    "  return create_and_get_msgpack('secondlevel_activespan_dataset_train.msgpack')\n",
    "\n",
    "def precompute_secondlevel_activespan_dataset_train():\n",
    "  create_if_doesnt_exist_msgpack('secondlevel_activespan_dataset_train.msgpack')\n",
    "\n",
    "def compute_secondlevel_activespan_dataset_test():\n",
    "  output = []\n",
    "  for user in get_test_users():\n",
    "    output.extend(get_secondlevel_activespan_dataset_for_user(user))\n",
    "  return output\n",
    "\n",
    "def get_secondlevel_activespan_dataset_test():\n",
    "  return create_and_get_msgpack('secondlevel_activespan_dataset_test.msgpack')\n",
    "\n",
    "def precompute_secondlevel_activespan_dataset_test():\n",
    "  create_if_doesnt_exist_msgpack('secondlevel_activespan_dataset_test.msgpack')"
   ]
  },
  {
   "cell_type": "code",
   "execution_count": 58,
   "metadata": {
    "collapsed": true
   },
   "outputs": [],
   "source": [
    "def compute_labels_for_tensecondlevel_train():\n",
    "  for user in get_training_users():\n",
    "    for x in get_tensecondlevel_activespan_dataset_labels_for_user(user):\n",
    "      yield x\n",
    "\n",
    "def get_labels_for_tensecondlevel_train():\n",
    "  return create_and_get('labels_for_tensecondlevel_train.json')\n",
    "\n",
    "def precompute_labels_for_tensecondlevel_train():\n",
    "  create_if_doesnt_exist('labels_for_tensecondlevel_train.json')\n",
    "\n",
    "def compute_labels_for_tensecondlevel_test():\n",
    "  for user in get_test_users():\n",
    "    for x in get_tensecondlevel_activespan_dataset_labels_for_user(user):\n",
    "      yield x\n",
    "\n",
    "def get_labels_for_tensecondlevel_test():\n",
    "  return create_and_get('labels_for_tensecondlevel_test.json')\n",
    "\n",
    "def precompute_labels_for_tensecondlevel_test():\n",
    "  create_if_doesnt_exist('labels_for_tensecondlevel_test.json')"
   ]
  },
  {
   "cell_type": "code",
   "execution_count": 59,
   "metadata": {
    "collapsed": true
   },
   "outputs": [],
   "source": [
    "def compute_labels_for_tensecondlevel_insession_train():\n",
    "  for user in get_training_users():\n",
    "    for x in get_tensecondlevel_activespan_dataset_insession_labels_for_user(user):\n",
    "      yield x\n",
    "\n",
    "def get_labels_for_tensecondlevel_insession_train():\n",
    "  return create_and_get('labels_for_tensecondlevel_insession_train.json')\n",
    "\n",
    "def precompute_labels_for_tensecondlevel_insession_train():\n",
    "  create_if_doesnt_exist('labels_for_tensecondlevel_insession_train.json')\n",
    "\n",
    "def compute_labels_for_tensecondlevel_insession_test():\n",
    "  for user in get_test_users():\n",
    "    for x in get_tensecondlevel_activespan_dataset_insession_labels_for_user(user):\n",
    "      yield x\n",
    "\n",
    "def get_labels_for_tensecondlevel_insession_test():\n",
    "  return create_and_get('labels_for_tensecondlevel_insession_test.json')\n",
    "\n",
    "def precompute_labels_for_tensecondlevel_insession_test():\n",
    "  create_if_doesnt_exist('labels_for_tensecondlevel_insession_test.json')"
   ]
  },
  {
   "cell_type": "code",
   "execution_count": 60,
   "metadata": {
    "collapsed": true
   },
   "outputs": [],
   "source": [
    "def compute_labels_for_secondlevel_insession_train():\n",
    "  for user in get_training_users():\n",
    "    for x in get_secondlevel_activespan_dataset_insession_labels_for_user(user):\n",
    "      yield x\n",
    "\n",
    "def get_labels_for_secondlevel_insession_train():\n",
    "  return create_and_get('labels_for_secondlevel_insession_train.json')\n",
    "\n",
    "def precompute_labels_for_secondlevel_insession_train():\n",
    "  create_if_doesnt_exist('labels_for_secondlevel_insession_train.json')\n",
    "\n",
    "def compute_labels_for_secondlevel_insession_test():\n",
    "  for user in get_test_users():\n",
    "    for x in get_secondlevel_activespan_dataset_insession_labels_for_user(user):\n",
    "      yield x\n",
    "\n",
    "def get_labels_for_secondlevel_insession_test():\n",
    "  return create_and_get('labels_for_secondlevel_insession_test.json')\n",
    "\n",
    "def precompute_labels_for_secondlevel_insession_test():\n",
    "  create_if_doesnt_exist('labels_for_secondlevel_insession_test.json')"
   ]
  },
  {
   "cell_type": "code",
   "execution_count": 61,
   "metadata": {
    "collapsed": true
   },
   "outputs": [],
   "source": [
    "def compute_feature_vector_for_tensecondlevel_insession_train(enabled_features):\n",
    "  return tmilib_cython.dataset_to_feature_vectors(numpy.asarray(get_tensecondlevel_activespan_dataset_insession_train(), dtype=float), enabled_features)\n",
    "\n",
    "def get_feature_vector_for_tensecondlevel_insession_train(enabled_features):\n",
    "  return get_function_for_key(enabled_features, 'feature_vector_for_tensecondlevel_insession_train')\n"
   ]
  },
  {
   "cell_type": "code",
   "execution_count": 62,
   "metadata": {
    "collapsed": true
   },
   "outputs": [],
   "source": [
    "def compute_feature_vector_for_secondlevel_insession_train(enabled_features):\n",
    "  return tmilib_cython.dataset_to_feature_vectors(numpy.asarray(get_secondlevel_activespan_dataset_insession_train(), dtype=float), enabled_features)\n",
    "\n",
    "def get_feature_vector_for_secondlevel_insession_train(enabled_features):\n",
    "  return get_function_for_key(enabled_features, 'feature_vector_for_secondlevel_insession_train')\n"
   ]
  },
  {
   "cell_type": "code",
   "execution_count": 63,
   "metadata": {
    "collapsed": true
   },
   "outputs": [],
   "source": [
    "def compute_feature_vector_for_tensecondlevel_insession_threefeatures_for_user(user):\n",
    "  dataset = numpy.asarray(get_tensecondlevel_activespan_dataset_insession_for_user(user), dtype=float)\n",
    "  if len(dataset) == 0:\n",
    "    return []\n",
    "  return tmilib_cython.dataset_to_feature_vectors(dataset, '111' + ('0'*50))\n",
    "\n",
    "def get_feature_vector_for_tensecondlevel_insession_threefeatures_for_user(user):\n",
    "  return get_function_for_key(user, 'feature_vector_for_tensecondlevel_insession_threefeatures_for_user')\n",
    "\n",
    "def compute_feature_vector_for_tensecondlevel_insession_threefeatures_for_all_users_randomized():\n",
    "  #for user in shuffled(get_training_users() + get_test_users()):\n",
    "  for user in shuffled(list_users_with_log_and_mlog_and_hist()):\n",
    "    compute_function_for_key(user, 'feature_vector_for_tensecondlevel_insession_threefeatures_for_user')\n"
   ]
  },
  {
   "cell_type": "code",
   "execution_count": 64,
   "metadata": {
    "collapsed": true
   },
   "outputs": [],
   "source": [
    "def compute_feature_vector_for_secondlevel_insession_threefeatures_for_user(user):\n",
    "  dataset = numpy.asarray(get_secondlevel_activespan_dataset_insession_for_user(user), dtype=float)\n",
    "  if len(dataset) == 0:\n",
    "    return []\n",
    "  return tmilib_cython.dataset_to_feature_vectors(dataset, '111' + ('0'*50))\n",
    "\n",
    "def get_feature_vector_for_secondlevel_insession_threefeatures_for_user(user):\n",
    "  return get_function_for_key(user, 'feature_vector_for_secondlevel_insession_threefeatures_for_user')\n",
    "\n",
    "def compute_feature_vector_for_secondlevel_insession_threefeatures_for_all_users_randomized():\n",
    "  #for user in shuffled(get_training_users() + get_test_users()):\n",
    "  for user in shuffled(list_users_with_log_and_mlog_and_hist()):\n",
    "    compute_function_for_key(user, 'feature_vector_for_secondlevel_insession_threefeatures_for_user')\n"
   ]
  },
  {
   "cell_type": "code",
   "execution_count": 65,
   "metadata": {
    "collapsed": true
   },
   "outputs": [],
   "source": [
    "def compute_feature_vector_for_tensecondlevel_threefeatures_for_user(user):\n",
    "  dataset = numpy.asarray(get_tensecondlevel_activespan_dataset_for_user(user), dtype=float)\n",
    "  if len(dataset) == 0:\n",
    "    return []\n",
    "  return tmilib_cython.dataset_to_feature_vectors(dataset, '111' + ('0'*50))\n",
    "\n",
    "def get_feature_vector_for_tensecondlevel_threefeatures_for_user(user):\n",
    "  return get_function_for_key(user, 'feature_vector_for_tensecondlevel_threefeatures_for_user')\n",
    "\n",
    "def compute_feature_vector_for_tensecondlevel_threefeatures_for_all_users_randomized():\n",
    "  #for user in shuffled(get_training_users() + get_test_users()):\n",
    "  for user in shuffled(list_users_with_log_and_mlog_and_hist()):\n",
    "    compute_function_for_key(user, 'feature_vector_for_tensecondlevel_threefeatures_for_user')\n"
   ]
  },
  {
   "cell_type": "code",
   "execution_count": 66,
   "metadata": {
    "collapsed": true
   },
   "outputs": [],
   "source": [
    "def compute_feature_vector_for_secondlevel_threefeatures_for_user(user):\n",
    "  dataset = numpy.asarray(get_secondlevel_activespan_dataset_for_user(user), dtype=float)\n",
    "  if len(dataset) == 0:\n",
    "    return []\n",
    "  return tmilib_cython.dataset_to_feature_vectors(dataset, '111' + ('0'*50))\n",
    "\n",
    "def get_feature_vector_for_secondlevel_threefeatures_for_user(user):\n",
    "  return get_function_for_key(user, 'feature_vector_for_secondlevel_threefeatures_for_user')\n",
    "\n",
    "def compute_feature_vector_for_secondlevel_threefeatures_for_all_users_randomized():\n",
    "  #for user in shuffled(get_training_users() + get_test_users()):\n",
    "  for user in shuffled(list_users_with_log_and_mlog_and_hist()):\n",
    "    compute_function_for_key(user, 'feature_vector_for_secondlevel_threefeatures_for_user')\n"
   ]
  },
  {
   "cell_type": "code",
   "execution_count": 67,
   "metadata": {
    "collapsed": true
   },
   "outputs": [],
   "source": [
    "def compute_feature_vector_for_tensecondlevel_insession_allfeatures_for_user(user):\n",
    "  dataset = numpy.asarray(get_tensecondlevel_activespan_dataset_insession_for_user(user), dtype=float)\n",
    "  if len(dataset) == 0:\n",
    "    return []\n",
    "  return tmilib_cython.dataset_to_feature_vectors(dataset, '1'*53)\n",
    "\n",
    "def get_feature_vector_for_tensecondlevel_insession_allfeatures_for_user(user):\n",
    "  return get_function_for_key(user, 'feature_vector_for_tensecondlevel_insession_allfeatures_for_user')\n",
    "\n",
    "def compute_feature_vector_for_tensecondlevel_insession_allfeatures_for_all_users_randomized():\n",
    "  #for user in shuffled(get_training_users() + get_test_users()):\n",
    "  for user in shuffled(list_users_with_log_and_mlog_and_hist()):\n",
    "    compute_function_for_key(user, 'feature_vector_for_tensecondlevel_insession_allfeatures_for_user')\n"
   ]
  },
  {
   "cell_type": "code",
   "execution_count": 68,
   "metadata": {
    "collapsed": true
   },
   "outputs": [],
   "source": [
    "def compute_feature_vector_for_secondlevel_insession_allfeatures_for_user(user):\n",
    "  dataset = numpy.asarray(get_secondlevel_activespan_dataset_insession_for_user(user), dtype=float)\n",
    "  if len(dataset) == 0:\n",
    "    return []\n",
    "  return tmilib_cython.dataset_to_feature_vectors(dataset, '1'*53)\n",
    "\n",
    "def get_feature_vector_for_secondlevel_insession_allfeatures_for_user(user):\n",
    "  return get_function_for_key(user, 'feature_vector_for_secondlevel_insession_allfeatures_for_user')\n",
    "\n",
    "def compute_feature_vector_for_secondlevel_insession_allfeatures_for_all_users_randomized():\n",
    "  #for user in shuffled(get_training_users() + get_test_users()):\n",
    "  for user in shuffled(list_users_with_log_and_mlog_and_hist()):\n",
    "    compute_function_for_key(user, 'feature_vector_for_secondlevel_insession_allfeatures_for_user')\n"
   ]
  },
  {
   "cell_type": "code",
   "execution_count": 69,
   "metadata": {
    "collapsed": true
   },
   "outputs": [],
   "source": [
    "def compute_feature_vector_for_tensecondlevel_allfeatures_for_user(user):\n",
    "  dataset = numpy.asarray(get_tensecondlevel_activespan_dataset_for_user(user), dtype=float)\n",
    "  if len(dataset) == 0:\n",
    "    return []\n",
    "  return tmilib_cython.dataset_to_feature_vectors(dataset, '1'*53)\n",
    "\n",
    "def get_feature_vector_for_tensecondlevel_allfeatures_for_user(user):\n",
    "  return get_function_for_key(user, 'feature_vector_for_tensecondlevel_allfeatures_for_user')\n",
    "\n",
    "def compute_feature_vector_for_tensecondlevel_allfeatures_for_all_users_randomized():\n",
    "  #for user in shuffled(get_training_users() + get_test_users()):\n",
    "  for user in shuffled(list_users_with_log_and_mlog_and_hist()):\n",
    "    compute_function_for_key(user, 'feature_vector_for_tensecondlevel_allfeatures_for_user')\n"
   ]
  },
  {
   "cell_type": "code",
   "execution_count": 70,
   "metadata": {
    "collapsed": true
   },
   "outputs": [],
   "source": [
    "def compute_feature_vector_for_secondlevel_allfeatures_for_user(user):\n",
    "  dataset = numpy.asarray(get_secondlevel_activespan_dataset_for_user(user), dtype=float)\n",
    "  if len(dataset) == 0:\n",
    "    return []\n",
    "  return tmilib_cython.dataset_to_feature_vectors(dataset, '1'*53)\n",
    "\n",
    "def get_feature_vector_for_secondlevel_allfeatures_for_user(user):\n",
    "  return get_function_for_key(user, 'feature_vector_for_secondlevel_allfeatures_for_user')\n",
    "\n",
    "def compute_feature_vector_for_secondlevel_allfeatures_for_all_users_randomized():\n",
    "  #for user in shuffled(get_training_users() + get_test_users()):\n",
    "  for user in shuffled(list_users_with_log_and_mlog_and_hist()):\n",
    "    compute_function_for_key(user, 'feature_vector_for_secondlevel_allfeatures_for_user')\n"
   ]
  },
  {
   "cell_type": "code",
   "execution_count": 71,
   "metadata": {
    "collapsed": true
   },
   "outputs": [],
   "source": [
    "def compute_feature_vector_for_tensecondlevel_train(enabled_features):\n",
    "  return tmilib_cython.dataset_to_feature_vectors(numpy.asarray(get_tensecondlevel_activespan_dataset_train(), dtype=float), enabled_features)\n",
    "\n",
    "def get_feature_vector_for_tensecondlevel_train(enabled_features):\n",
    "  return get_function_for_key(enabled_features, 'feature_vector_for_tensecondlevel_train')\n"
   ]
  },
  {
   "cell_type": "code",
   "execution_count": 72,
   "metadata": {
    "collapsed": true
   },
   "outputs": [],
   "source": [
    "def compute_feature_vector_for_secondlevel_train(enabled_features):\n",
    "  return tmilib_cython.dataset_to_feature_vectors(numpy.asarray(get_secondlevel_activespan_dataset_train(), dtype=float), enabled_features)\n",
    "\n",
    "def get_feature_vector_for_secondlevel_train(enabled_features):\n",
    "  return get_function_for_key(enabled_features, 'feature_vector_for_secondlevel_train')\n"
   ]
  },
  {
   "cell_type": "code",
   "execution_count": 73,
   "metadata": {
    "collapsed": true
   },
   "outputs": [],
   "source": [
    "def compute_feature_vector_for_tensecondlevel_insession_test(enabled_features):\n",
    "  return tmilib_cython.dataset_to_feature_vectors(numpy.asarray(get_tensecondlevel_activespan_dataset_insession_test(), dtype=float), enabled_features)\n",
    "\n",
    "def get_feature_vector_for_tensecondlevel_insession_test(enabled_features):\n",
    "  return get_function_for_key(enabled_features, 'feature_vector_for_tensecondlevel_insession_test')\n"
   ]
  },
  {
   "cell_type": "code",
   "execution_count": 74,
   "metadata": {
    "collapsed": true
   },
   "outputs": [],
   "source": [
    "def compute_feature_vector_for_secondlevel_insession_test(enabled_features):\n",
    "  return tmilib_cython.dataset_to_feature_vectors(numpy.asarray(get_secondlevel_activespan_dataset_insession_test(), dtype=float), enabled_features)\n",
    "\n",
    "def get_feature_vector_for_secondlevel_insession_test(enabled_features):\n",
    "  return get_function_for_key(enabled_features, 'feature_vector_for_secondlevel_insession_test')\n"
   ]
  },
  {
   "cell_type": "code",
   "execution_count": 75,
   "metadata": {
    "collapsed": true
   },
   "outputs": [],
   "source": [
    "def compute_feature_vector_for_tensecondlevel_test(enabled_features):\n",
    "  return tmilib_cython.dataset_to_feature_vectors(numpy.asarray(get_tensecondlevel_activespan_dataset_test(), dtype=float), enabled_features)\n",
    "\n",
    "def get_feature_vector_for_tensecondlevel_test(enabled_features):\n",
    "  return get_function_for_key(enabled_features, 'feature_vector_for_tensecondlevel_test')\n"
   ]
  },
  {
   "cell_type": "code",
   "execution_count": 76,
   "metadata": {
    "collapsed": true
   },
   "outputs": [],
   "source": [
    "def compute_feature_vector_for_secondlevel_test(enabled_features):\n",
    "  return tmilib_cython.dataset_to_feature_vectors(numpy.asarray(get_secondlevel_activespan_dataset_test(), dtype=float), enabled_features)\n",
    "\n",
    "def get_feature_vector_for_secondlevel_test(enabled_features):\n",
    "  return get_function_for_key(enabled_features, 'feature_vector_for_secondlevel_test')\n"
   ]
  },
  {
   "cell_type": "code",
   "execution_count": 77,
   "metadata": {
    "collapsed": false
   },
   "outputs": [],
   "source": [
    "def compute_domain_id_to_productivity():\n",
    "  max_domain_id = max(get_domains_to_id().viewvalues())\n",
    "  output = [0 for i in xrange(max_domain_id+1)]\n",
    "  for domain,productivity in get_domain_to_productivity().viewitems():\n",
    "    try:\n",
    "      domain_id = domain_to_id(domain)\n",
    "    except:\n",
    "      continue\n",
    "    output[domain_id] = productivity\n",
    "  return output\n",
    "\n",
    "def get_domain_id_to_productivity():\n",
    "  return create_and_get('domain_id_to_productivity.json')\n",
    "\n",
    "def precompute_domain_id_to_productivity():\n",
    "  create_if_doesnt_exist('domain_id_to_productivity.json')\n",
    "\n",
    "def compute_domain_id_to_category():\n",
    "  max_domain_id = max(get_domains_to_id().viewvalues())\n",
    "  output = ['' for i in xrange(max_domain_id+1)]\n",
    "  for domain,category in get_domain_to_category().viewitems():\n",
    "    try:\n",
    "      domain_id = domain_to_id(domain)\n",
    "    except:\n",
    "      continue\n",
    "    output[domain_id] = category\n",
    "  return output\n",
    "\n",
    "def get_domain_id_to_category():\n",
    "  return create_and_get('domain_id_to_category.json')\n",
    "\n",
    "def precompute_domain_id_to_category():\n",
    "  create_if_doesnt_exist('domain_id_to_category.json')\n"
   ]
  },
  {
   "cell_type": "code",
   "execution_count": null,
   "metadata": {
    "collapsed": false
   },
   "outputs": [],
   "source": []
  },
  {
   "cell_type": "code",
   "execution_count": 78,
   "metadata": {
    "collapsed": true
   },
   "outputs": [],
   "source": [
    "def iterate_mlogs_for_user(user):\n",
    "  for line in get_mlog_timesorted_lines_for_user(user):\n",
    "    yield uncompress_data_subfields(line)\n",
    "\n",
    "def iterate_mlogs_for_user_compressed(user):\n",
    "  return get_mlog_timesorted_lines_for_user(user)\n",
    "\n",
    "def iterate_logs_for_user(user):\n",
    "  for line in get_log_timesorted_lines_for_user(user):\n",
    "    yield uncompress_data_subfields(line)\n",
    "\n",
    "def iterate_logs_for_user_compressed(user):\n",
    "  return get_log_timesorted_lines_for_user(user)\n",
    "\n",
    "def iterate_hist_for_user(user):\n",
    "  for line in get_hist_timesorted_lines_for_user(user):\n",
    "    yield uncompress_data_subfields(line)\n",
    "\n",
    "def iterate_hist_for_user_compressed(user):\n",
    "  return get_hist_timesorted_lines_for_user(user)\n"
   ]
  },
  {
   "cell_type": "code",
   "execution_count": null,
   "metadata": {
    "collapsed": true
   },
   "outputs": [],
   "source": []
  }
 ],
 "metadata": {
  "kernelspec": {
   "display_name": "Python 2",
   "language": "python",
   "name": "python2"
  },
  "language_info": {
   "codemirror_mode": {
    "name": "ipython",
    "version": 2
   },
   "file_extension": ".py",
   "mimetype": "text/x-python",
   "name": "python",
   "nbconvert_exporter": "python",
   "pygments_lexer": "ipython2",
   "version": "2.7.11"
  }
 },
 "nbformat": 4,
 "nbformat_minor": 0
}
