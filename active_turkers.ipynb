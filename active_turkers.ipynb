{
 "cells": [
  {
   "cell_type": "code",
   "execution_count": 10,
   "metadata": {
    "collapsed": true
   },
   "outputs": [],
   "source": [
    "import tmilib\n",
    "reload(tmilib)\n",
    "from tmilib import *"
   ]
  },
  {
   "cell_type": "code",
   "execution_count": 11,
   "metadata": {
    "collapsed": false
   },
   "outputs": [],
   "source": [
    "mturkid_to_time = {}\n",
    "\n",
    "for logfile in list_logfiles():\n",
    "  for data in iterate_data_compressed_reverse(logfile):\n",
    "    if 'mturkid' not in data:\n",
    "      break\n",
    "    mturkid = data['mturkid']\n",
    "    time = data['time']\n",
    "    mturkid_to_time[mturkid] = time\n",
    "    break\n"
   ]
  },
  {
   "cell_type": "code",
   "execution_count": 12,
   "metadata": {
    "collapsed": true
   },
   "outputs": [],
   "source": [
    "json.dump(mturkid_to_time, open('mturkid_to_time.json', 'w'))"
   ]
  }
 ],
 "metadata": {
  "kernelspec": {
   "display_name": "Python 2",
   "language": "python",
   "name": "python2"
  },
  "language_info": {
   "codemirror_mode": {
    "name": "ipython",
    "version": 2
   },
   "file_extension": ".py",
   "mimetype": "text/x-python",
   "name": "python",
   "nbconvert_exporter": "python",
   "pygments_lexer": "ipython2",
   "version": "2.7.11"
  }
 },
 "nbformat": 4,
 "nbformat_minor": 0
}
