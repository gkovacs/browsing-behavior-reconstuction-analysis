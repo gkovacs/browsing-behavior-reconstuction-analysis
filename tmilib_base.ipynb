{
 "cells": [
  {
   "cell_type": "code",
   "execution_count": 1,
   "metadata": {
    "collapsed": false
   },
   "outputs": [
    {
     "data": {
      "text/plain": [
       "0"
      ]
     },
     "execution_count": 1,
     "metadata": {},
     "output_type": "execute_result"
    }
   ],
   "source": [
    "# noexport\n",
    "\n",
    "import os\n",
    "os.system('export_notebook tmilib_base.ipynb')"
   ]
  },
  {
   "cell_type": "code",
   "execution_count": 39,
   "metadata": {
    "collapsed": true
   },
   "outputs": [],
   "source": [
    "import urlparse\n",
    "from glob import glob\n",
    "\n",
    "import os\n",
    "from os import path\n",
    "\n",
    "import decompress_lzstring\n",
    "\n",
    "from memoized import memoized\n",
    "\n",
    "try:\n",
    "  import ujson as json\n",
    "except:\n",
    "  import json\n",
    "\n",
    "from collections import Counter\n",
    "import numpy\n",
    "import time\n",
    "import datetime"
   ]
  },
  {
   "cell_type": "code",
   "execution_count": 36,
   "metadata": {
    "collapsed": false
   },
   "outputs": [],
   "source": [
    "@memoized\n",
    "def get_basedir():\n",
    "  return sorted([x for x in glob('/home/gkovacs/tmi-data/local_*') if path.isfile(x + '/active')], reverse=True)[0]\n",
    "  #return '/home/gkovacs/tmi-data/latest'\n",
    "\n",
    "@memoized\n",
    "def list_logfiles():\n",
    "  return glob(get_basedir() + '/logs_*.json')\n",
    "\n",
    "@memoized\n",
    "def list_mlogfiles():\n",
    "  return glob(get_basedir() + '/mlogs_*.json')\n",
    "\n",
    "@memoized\n",
    "def list_histfiles():\n",
    "  return glob(get_basedir() + '/hist_*.json')"
   ]
  },
  {
   "cell_type": "code",
   "execution_count": null,
   "metadata": {
    "collapsed": false
   },
   "outputs": [],
   "source": [
    "@memoized\n",
    "def get_sdir():\n",
    "  return get_basedir().replace('local_', 'sdir_')\n",
    "\n",
    "def ensure_sdir_exists():\n",
    "  sdir = get_sdir()\n",
    "  if path.exists(sdir):\n",
    "    return\n",
    "  os.makedirs(sdir)\n",
    "\n",
    "def sdir_path(filename):\n",
    "  return get_sdir() + '/' + filename\n",
    "\n",
    "def sdir_exists(filename):\n",
    "  return path.exists(sdir_path(filename))\n",
    "\n",
    "def sdir_open(filename, mode='r'):\n",
    "  return open(sdir_path(filename), mode)\n",
    "\n",
    "def sdir_loadjson(filename):\n",
    "  return json.load(sdir_open(filename))\n",
    "\n",
    "def sdir_dumpjson(filename, data):\n",
    "  ensure_sdir_exists()\n",
    "  return json.dump(data, sdir_open(filename, 'w'))\n"
   ]
  },
  {
   "cell_type": "code",
   "execution_count": 25,
   "metadata": {
    "collapsed": false
   },
   "outputs": [],
   "source": [
    "def iterate_data(filename):\n",
    "  for x in json.load(open(filename)):\n",
    "    if 'windows' in x:\n",
    "      x['windows'] = json.loads(decompress_lzstring.decompressFromBase64(x['windows']))\n",
    "    if 'data' in x:\n",
    "      x['data'] = json.loads(decompress_lzstring.decompressFromBase64(x['data']))\n",
    "    yield x\n",
    "\n",
    "def iterate_data_compressed(filename):\n",
    "  for x in json.load(open(filename)):\n",
    "    yield x\n",
    "\n",
    "def iterate_data_reverse(filename):\n",
    "  for x in reversed(json.load(open(filename))):\n",
    "    if 'windows' in x:\n",
    "      x['windows'] = json.loads(decompress_lzstring.decompressFromBase64(x['windows']))\n",
    "    if 'data' in x:\n",
    "      x['data'] = json.loads(decompress_lzstring.decompressFromBase64(x['data']))\n",
    "    yield x\n",
    "\n",
    "def iterate_data_compressed_reverse(filename):\n",
    "  for x in reversed(json.load(open(filename))):\n",
    "    yield x"
   ]
  },
  {
   "cell_type": "code",
   "execution_count": 2,
   "metadata": {
    "collapsed": true
   },
   "outputs": [],
   "source": [
    "def url_to_domain(url):\n",
    "  return urlparse.urlparse(url).netloc\n"
   ]
  }
 ],
 "metadata": {
  "kernelspec": {
   "display_name": "Python 2",
   "language": "python",
   "name": "python2"
  },
  "language_info": {
   "codemirror_mode": {
    "name": "ipython",
    "version": 2
   },
   "file_extension": ".py",
   "mimetype": "text/x-python",
   "name": "python",
   "nbconvert_exporter": "python",
   "pygments_lexer": "ipython2",
   "version": "2.7.11"
  }
 },
 "nbformat": 4,
 "nbformat_minor": 0
}
