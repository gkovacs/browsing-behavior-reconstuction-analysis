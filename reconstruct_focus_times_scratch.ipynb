{
 "cells": [
  {
   "cell_type": "code",
   "execution_count": 1,
   "metadata": {
    "collapsed": true
   },
   "outputs": [],
   "source": [
    "from tmilib import *"
   ]
  },
  {
   "cell_type": "code",
   "execution_count": 2,
   "metadata": {
    "collapsed": false
   },
   "outputs": [],
   "source": [
    "from reconstruct_focus_times import ReconstructFocusTimesBaseline\n",
    "from session_tracker import get_focused_tab"
   ]
  },
  {
   "cell_type": "code",
   "execution_count": 54,
   "metadata": {
    "collapsed": false
   },
   "outputs": [
    {
     "name": "stdout",
     "output_type": "stream",
     "text": [
      "Eq7EExfolE 2016-03-16 02:39:09.222316\n",
      "UrZvGUsI8N 2016-03-17 18:53:16.070418\n",
      "nO1x7w10Yh 2016-03-19 15:48:14.430603\n",
      "ZDMgTG3hUx 2016-03-19 09:23:49.886797\n",
      "3H5aGCb1Km 2016-03-19 17:00:52.580188\n",
      "dwCCD1uofp 2016-03-17 10:28:40.954489\n",
      "VYfLv7b8hg 2016-03-19 08:42:40.150913\n",
      "3a3FX1s9S6 2016-03-28 17:45:30.892850\n",
      "XtIUv7JMHJ 2016-03-16 02:43:02.374703\n",
      "vbZrd5LD5J 2016-03-16 05:16:58.705542\n",
      "YLTi7tc27l 2016-03-19 21:06:44.868826\n",
      "pQiVSc5Ta5 2016-03-20 08:41:39.505303\n",
      "eS9Wc6ZZ6g 2016-03-17 21:19:22.918957\n",
      "0Tz22oh1uA 2016-03-28 19:46:03.887097\n",
      "A7U99GwttI 2016-03-17 21:16:46.360291\n",
      "7JOMMv7Kqf 2016-03-28 20:49:51.024370\n",
      "fmFkk3ur1N 2016-03-19 08:45:42.209013\n",
      "OLAxlg2B3v 2016-03-20 03:40:24.593239\n",
      "R0JlUdZBdX 2016-03-27 20:02:27.671242\n",
      "r9pox860Kx 2016-03-16 13:36:44.831024\n",
      "TfAZTnnzST 2016-03-17 10:58:35.268458\n",
      "N3buswFgSO 2016-03-16 07:59:38.120257\n",
      "K6qfMWKpF8 2016-03-16 01:56:49.901559\n",
      "ZIpD1khEqv 2016-03-18 19:23:48.641418\n",
      "dIypJPnWfA 2016-03-16 16:11:49.420236\n",
      "kEVg7v0LcS 2016-03-19 20:18:05.468604\n",
      "sEFFqggDAp 2016-03-28 17:37:50.381977\n",
      "fx8NZArV8y 2016-03-28 18:00:01.013615\n",
      "LvC0lAqsGl 2016-03-28 20:58:14.239405\n",
      "XHyA0IcHIX 2016-03-16 11:43:35.989386\n",
      "qsSxPV131T 2016-03-28 15:36:26.126286\n",
      "R94ECca22b 2016-03-24 15:24:28.480923\n",
      "pOYN6mJH0T 2016-03-28 20:17:45.122179\n",
      "PPOkDQaiTe 2016-03-16 04:30:00.013340\n",
      "Dka7sLfVw7 2016-03-16 03:27:43.157598\n",
      "9ICTkQLHNA 2016-03-18 21:03:50.039627\n",
      "sXuYR7xPL2 2016-03-28 18:11:46.958508\n",
      "Fwz3VbbaMw 2016-03-16 16:38:16.541875\n",
      "JrqWEEKYXE 2016-03-18 12:13:22.723401\n",
      "TiqhgFIyJ1 2016-03-28 20:00:18.003647\n",
      "NlUyZzFe88 2016-03-19 16:02:05.886640\n",
      "XFH3VkbR3W 2016-03-28 19:26:30.749398\n",
      "b3NWn44W69 2016-03-18 11:01:09.383665\n",
      "IAm4ofgNKb 2016-03-28 20:56:27.137853\n",
      "hibR4WLadK 2016-03-19 14:12:24.989299\n",
      "zo3iz8CgPk 2016-03-26 09:56:43.669362\n",
      "JgGfKNPVdz 2016-03-19 11:47:43.296728\n",
      "g8CGiq1HnA 2016-03-28 16:35:22.523957\n",
      "lf5XFrmFFO 2016-03-17 15:51:23.957446\n",
      "KbOHvZyHaZ 2016-03-18 21:14:46.244437\n",
      "nSYonIe9gv 2016-03-28 20:49:42.949795\n",
      "HfLuMki1JN 2016-03-16 15:55:19.356289\n",
      "672FuNpGcG 2016-03-16 05:45:51.788549\n",
      "8ngKlSW0Wv 2016-03-16 05:02:57.861637\n",
      "CC6GKOyB7A 2016-03-20 13:34:17.346618\n",
      "c87PtfL4fZ 2016-03-16 16:02:58.621000\n",
      "NvwJJvMJ5r 2016-03-20 07:27:19.950388\n",
      "BDVuS6fgAX 2016-03-18 07:52:41.510568\n",
      "r6qiC7PoI1 2016-03-28 18:26:19.363735\n",
      "JTlk5hA4Qp 2016-03-16 01:48:10.668594\n",
      "pYrOUiNOZm 2016-03-18 16:26:28.880718\n",
      "Y0KTMpMY6x 2016-03-16 17:49:49.610041\n",
      "nYeXJLKoUm 2016-03-28 21:33:00.673112\n",
      "cf6aIClnNn 2016-03-18 13:55:07.476731\n",
      "dwBGfodTyh 2016-03-28 18:47:32.691204\n",
      "TdQQ46kn9k 2016-03-28 19:37:49.594753\n",
      "5OzVIGzuls 2016-03-16 06:42:28.127486\n",
      "9JC1divPQs 2016-03-16 02:40:24.568168\n",
      "9Jr41dzuga 2016-03-16 08:21:42.751680\n",
      "WT2PknEYmZ 2016-03-19 00:53:21.109224\n",
      "r5dvrqPsJn 2016-03-16 15:22:45.141242\n",
      "rdGKpGiqF8 2016-03-16 05:23:12.043927\n",
      "KS6zl4omuv 2016-03-28 17:40:51.778593\n",
      "2e7ex5t0MT 2016-03-25 12:38:09.457281\n",
      "4Mq2s72PT7 2016-03-20 13:43:37.946179\n",
      "XWw6NNg5qM 2016-03-28 19:24:25.834766\n",
      "TBZ4VfXoz7 2016-03-16 03:26:44.658133\n",
      "pNiXtUQkEz 2016-03-28 21:26:20.019526\n",
      "MUHeUeRBTJ 2016-03-16 17:13:52.639751\n",
      "khps2gAfwV 2016-03-28 18:18:48.061152\n",
      "3cbp0gmnJH 2016-03-16 13:27:20.007403\n",
      "qgV6lFlkSa 2016-03-28 18:21:54.602140\n",
      "Nf91QP2i7x 2016-03-18 07:42:07.749065\n",
      "HUduBl984Q 2016-03-28 17:20:52.964419\n",
      "I7bWhq0wlD 2016-03-16 15:05:11.825186\n",
      "EosJwLGr2T 2016-03-16 13:28:45.724561\n",
      "s7XQzAc3IZ 2016-03-17 19:39:17.972416\n",
      "tLCG5bEWyh 2016-03-19 09:55:07.655978\n",
      "96WMw6IJ3p 2016-03-16 18:42:27.771056\n",
      "RkaCyLxpBn 2016-03-28 20:42:28.805091\n",
      "4ZbDxUSz5z 2016-03-28 22:21:27.808596\n",
      "rd88uymO5y 2016-03-16 04:06:47.318886\n",
      "ZiXJx6z1Rl 2016-03-19 12:25:12.410782\n",
      "60qS4pDWkC 2016-03-28 17:37:43.545138\n",
      "xoHwbCO57V 2016-03-16 03:00:12.181614\n",
      "6Z8LgDNxli 2016-03-16 13:54:07.677647\n",
      "XFiC3Rtth9 2016-03-28 21:29:36.742165\n",
      "S6XIUa9DJ8 2016-03-28 09:00:47.154077\n",
      "Yi9RrP5rgz 2016-03-22 19:42:09.404646\n",
      "TPvLJ24vRv 2016-03-28 19:01:10.282958\n",
      "PwBfIrHd8Z 2016-03-16 08:34:50.053755\n",
      "TlQBcJ1rAM 2016-03-19 11:50:21.666416\n",
      "SxVAeaFe4H 2016-03-16 16:54:38.267852\n",
      "ZXWhHg9RZG 2016-03-28 16:13:06.728669\n",
      "MGXn3zbrQX 2016-03-16 03:49:35.338677\n",
      "YV8FroJtoa 2016-03-19 07:43:25.687328\n",
      "LkAJvBy8fA 2016-03-28 20:00:04.564034\n",
      "lrsubaIIQ0 2016-03-28 17:27:16.703982\n",
      "Xc1fERxR2q 2016-03-16 06:48:43.349932\n",
      "4qWTb2hyaL 2016-03-28 18:26:01.889369\n",
      "JPuYu0f4cg 2016-03-16 03:35:06.840447\n",
      "dvi2exM01v 2016-03-28 22:24:58.873900\n",
      "iRBTKKaJxw 2016-03-16 02:07:38.227500\n",
      "XyJ4fbLuxp 2016-03-19 17:59:56.300952\n",
      "IuQRRqFF49 2016-03-19 12:23:39.294473\n",
      "VXKLcUCkFv 2016-03-28 18:33:59.389851\n",
      "Re25RopoXx 2016-03-28 09:08:49.800714\n",
      "z0KsGls8wc 2016-03-28 16:06:10.816883\n",
      "bNAaLILEEx 2016-03-16 00:42:09.551141\n",
      "BuBH95V40k 2016-03-28 20:53:03.535006\n",
      "ZxdM0yMOYw 2016-03-25 20:17:40.416935\n",
      "HVskHWXaqH 2016-03-24 01:47:38.747087\n",
      "Oc1iqDqhTN 2016-03-18 12:23:22.378275\n",
      "9lsGK470WJ 2016-03-18 08:10:57.274755\n",
      "MFyO1RILay 2016-03-16 22:39:15.830199\n",
      "ZB5uoxftER 2016-03-28 17:46:20.569345\n",
      "YhbiGkVus4 2016-03-18 20:35:45.982000\n",
      "WGK1kxA0Aq 2016-03-18 09:03:33.418741\n",
      "GT0BCAYKT4 2016-03-16 15:50:33.306254\n",
      "ol9VMVbVHN 2016-03-16 15:51:36.943200\n",
      "nGfVtTH9kv 2016-03-23 07:44:51.181000\n",
      "8iFVWwCLYm 2016-03-18 08:30:32.985587\n",
      "illbTYz4Ok 2016-03-28 18:36:31.345845\n",
      "c4se1PqOgx 2016-03-27 07:50:09.322682\n",
      "YfxXPMAdN0 2016-03-16 13:56:37.689682\n",
      "2JilVuENVz 2016-03-28 15:51:00.982878\n",
      "ZHflKVDwN1 2016-03-28 18:47:13.344818\n",
      "gsBei7shny 2016-03-16 17:46:16.406842\n",
      "I7pqdKa4NJ 2016-03-28 19:12:37.006529\n",
      "8V5WPBaSuS 2016-03-22 08:44:51.898988\n",
      "ZewScTWpQH 2016-03-16 16:51:16.531597\n",
      "3uIpErpWE4 2016-03-16 14:40:51.844278\n",
      "Hdx9yNR4un 2016-03-28 21:24:19.398924\n",
      "EI4z7E9i6G 2016-03-20 02:42:37.456622\n",
      "JN5A3REfBA 2016-03-16 02:45:30.239160\n",
      "9Vqq06muHA 2016-03-16 01:12:05.568544\n",
      "E9zNYL4euA 2016-03-16 00:37:52.355990\n",
      "o0pBXW2Giy 2016-03-18 12:13:47.214235\n",
      "8LgPcOdhxr 2016-03-19 10:44:46.916304\n",
      "fvINI3S2YT 2016-03-18 16:09:32.221192\n",
      "E8C1Wm3Bwu 2016-03-17 11:40:14.542250\n",
      "pi5QmUem0A 2016-03-19 08:03:16.502460\n",
      "Hi2YFQFFRX 2016-03-28 19:52:36.474091\n",
      "LW44KGc81O 2016-03-16 03:57:09.888015\n",
      "1vIwFgW4gC 2016-03-15 20:42:14.237043\n",
      "C7sGDaHmln 2016-03-16 04:55:35.775016\n",
      "cosPenSuHp 2016-03-20 02:54:52.224884\n",
      "YfphsphFL3 2016-03-15 23:53:38.187661\n",
      "5eyad94x6N 2016-03-19 07:58:05.792193\n",
      "GXaxkQQNgE 2016-03-18 09:28:10.802494\n",
      "DGhdRc6hcE 2016-03-28 18:29:21.314975\n",
      "aMoAdTi22n 2016-03-28 15:17:24.979099\n",
      "yponQbzQqQ 2016-03-26 15:22:06.996009\n",
      "zYcc5eiLAZ 2016-03-20 09:28:07.827633\n",
      "1ckvpr5bC8 2016-03-16 04:22:38.313549\n",
      "xvDz3vTO80 2016-03-16 17:45:23.177322\n",
      "Ldqg5D6xQ4 2016-03-16 02:57:37.182319\n",
      "FdteNh2gP6 2016-03-28 17:39:55.939728\n",
      "5SY6ZOFYPW 2016-03-18 10:47:37.707267\n",
      "VARFgdrG0W 2016-03-16 03:43:37.240500\n",
      "MyKcCgOlQ2 2016-03-16 07:54:39.447042\n",
      "pyIJD096c8 2016-03-20 08:58:52.537684\n",
      "6lkHBDiou2 2016-03-19 10:07:09.963246\n",
      "KiN6rykvv7 2016-03-16 03:35:13.365013\n",
      "4KS43rsxAD 2016-03-19 11:51:48.699688\n",
      "6dD811RitI 2016-03-28 21:16:53.010869\n",
      "THH9Ar2ypm 2016-03-16 00:53:25.953338\n",
      "b8DDWibd85 2016-03-16 03:03:55.939498\n",
      "kBVTgCPK46 2016-03-18 09:32:16.386812\n",
      "ZNsh69CZZp 2016-03-19 07:55:36.011014\n",
      "kT7S3wmYZO 2016-03-28 06:55:32.290878\n",
      "AxYL2Keaez 2016-03-16 05:06:07.922405\n",
      "Iox6gnN71r 2016-03-18 08:37:15.240003\n",
      "cLsK8oQYmZ 2016-03-27 22:10:42.359414\n",
      "ZqYweFWTDB 2016-03-16 04:25:06.291610\n",
      "vLuQGu2wAU 2016-03-18 07:43:13.087713\n",
      "oHo0KJayR3 2016-03-28 17:38:14.460171\n",
      "yrH3HQNrho 2016-03-19 21:20:07.858431\n",
      "XkKl68D8WC 2016-03-28 17:55:01.157133\n",
      "qFfhJueo4f 2016-03-28 18:54:25.019668\n",
      "hGCJGBh8Ah 2016-03-16 17:40:07.102000\n",
      "hDDqPeyL7R 2016-03-18 22:19:45.971748\n",
      "O3Zx6P958u 2016-03-28 18:12:11.215698\n",
      "yR3bTUaKD1 2016-03-16 16:25:51.706619\n",
      "zWT9pLSyvZ 2016-03-28 18:13:15.919078\n",
      "xm5QxnavEp 2016-03-18 02:35:26.526417\n",
      "9r8ElmtsRz 2016-03-19 12:07:07.377156\n",
      "DpIQGYzSGh 2016-03-16 09:34:59.878236\n",
      "WMxX2EZkkS 2016-03-16 00:50:53.367203\n",
      "qM6L9Z5Ss9 2016-03-28 19:33:33.065628\n",
      "6gHeJSIs0h 2016-03-16 02:32:44.006116\n",
      "KVAJTZpEH4 2016-03-16 04:24:03.468652\n",
      "Na4UOevins 2016-03-20 04:47:27.544959\n",
      "Gfh6X2wJMF 2016-03-26 13:04:38.810650\n",
      "li1pSOHDD4 2016-03-28 22:23:06.986571\n",
      "XgfMwdeGh3 2016-03-16 00:49:11.007754\n",
      "IDhbzh7Ni3 2016-03-21 07:42:03.393522\n",
      "7S1AAARwuw 2016-03-16 15:53:34.236353\n",
      "xaenzw2BRS 2016-03-17 18:58:06.390376\n",
      "ucq2Qsu6HG 2016-03-28 19:56:24.770432\n",
      "RVp3K6yEKI 2016-03-19 17:09:29.968951\n",
      "Cfu7zsLzxH 2016-03-28 22:49:15.436092\n",
      "2daQE8SAfo 2016-03-16 05:28:42.829265\n",
      "zAFs9HBGQ4 2016-03-16 08:24:10.261376\n",
      "bU3XK7po0k 2016-03-18 07:42:30.957742\n",
      "g34wuNJgSm 2016-03-19 11:26:07.703770\n",
      "wiqgM2rSAA 2016-03-16 02:01:51.476719\n",
      "CUkQIMI9zA 2016-03-28 20:41:35.317496\n",
      "qYSuZxSVNC 2016-03-21 09:41:28.494666\n",
      "V8VCDqL7Sm 2016-03-18 19:49:11.412564\n",
      "qVSOPmVR59 2016-03-28 18:47:35.913051\n",
      "CTm8XotZoZ 2016-03-16 02:33:14.803832\n",
      "xtOJXxtOqe 2016-03-27 21:20:14.489979\n",
      "E53DGPZ188 2016-03-28 14:41:39.510400\n",
      "3qzHkVifV7 2016-03-20 03:01:41.007530\n",
      "2bK78oKaW6 2016-03-19 04:45:43.501875\n",
      "PfcYy82N2O 2016-03-18 07:52:51.660322\n",
      "WwVGMp84ax 2016-03-16 17:35:11.308359\n",
      "QM7GFqLIYB 2016-03-28 18:35:41.760135\n",
      "sbYaq0dCm3 2016-03-28 20:36:05.216161\n",
      "3aWG01QnPf 2016-03-28 18:15:50.329311\n",
      "4Ja7GkBsea 2016-03-28 20:29:50.258257\n",
      "gVvfiSW3is 2016-03-26 03:46:17.236492\n",
      "afgJ51Bm3L 2016-03-16 04:55:44.910039\n",
      "GIsH2f7gGF 2016-03-19 09:14:33.729204\n",
      "glhhgSaqKa 2016-03-16 04:04:10.802668\n",
      "Vew57yphak 2016-03-28 17:50:52.447118\n",
      "Mi4RazxDkL 2016-03-16 05:57:14.806678\n",
      "NHtxolRPTS 2016-03-28 20:41:11.405793\n",
      "XoWeohNM4A 2016-03-16 05:32:44.902465\n",
      "LF9fVEGgDU 2016-03-17 14:07:25.249176\n",
      "XCugQNaZ2R 2016-03-18 12:38:31.299141\n",
      "Xf4IZzPnYs 2016-03-16 06:37:15.440647\n",
      "3JDp0OuLv4 2016-03-28 13:50:43.733737\n",
      "yeO6ITRlST 2016-03-24 22:23:27.935343\n",
      "7ymkThrouz 2016-03-16 04:41:33.516380\n",
      "XepiGGFf3W 2016-03-28 18:16:55.317205\n",
      "rzqzgWmL6S 2016-03-28 20:00:01.503895\n",
      "xWnTSZDfdJ 2016-03-19 19:56:41.971010\n",
      "HssQJxrH5a 2016-03-16 05:43:45.995247\n",
      "yvAg28ridg 2016-03-28 18:01:22.269309\n",
      "xDhU4lHDlP 2016-03-19 17:03:00.458915\n",
      "WPqPSnxU2J 2016-03-16 04:37:35.570317\n",
      "QUgoBB7Rp4 2016-03-16 17:44:17.489348\n",
      "BTwr6WYNHw 2016-03-16 16:30:10.951000\n",
      "JafmHuwU3I 2016-03-28 19:58:33.403900\n",
      "XeZoa8ppav 2016-03-18 10:50:30.550270\n",
      "IVoQoEFVkh 2016-03-28 16:02:54.833392\n",
      "XLzYGUbkV1 2016-03-18 13:55:52.844826\n",
      "q589WvazlK 2016-03-16 03:49:45.636151\n",
      "fblHu0OZkZ 2016-03-28 19:17:16.626544\n",
      "00LnQeq1SQ 2016-03-28 18:15:39.452211\n",
      "NKOBmZnaq5 2016-03-28 21:51:35.485119\n",
      "C1NRDrRxC7 2016-03-19 07:20:01.133245\n",
      "0sDxoGSuf6 2016-03-28 19:21:28.499706\n",
      "iYLwIL7JHg 2016-03-28 20:12:53.514100\n",
      "eQcdTVvXtc 2016-03-18 15:45:50.942356\n",
      "ehkM3inRFq 2016-03-26 09:51:27.542786\n",
      "cONrqeH10z 2016-03-19 00:48:42.554247\n",
      "k9TNY8mfqG 2016-03-15 03:25:16.508390\n",
      "20ciww1zVP 2016-03-28 16:54:54.212492\n",
      "wf2Dzt9SEJ 2016-03-16 13:27:33.675125\n",
      "0g0G5A23nT 2016-03-28 20:56:58.285761\n",
      "XqdAvyooV5 2016-03-28 16:57:45.510062\n",
      "6Mz9LMDerm 2016-03-20 08:56:09.299152\n",
      "rlWaaPKvSX 2016-03-28 21:23:39.665372\n",
      "XasdQ0RMDo 2016-03-16 06:23:01.646811\n",
      "CpkJ8L4Xwg 2016-03-28 20:06:44.540102\n",
      "gbgBvBTCas 2016-03-18 01:26:13.870510\n",
      "SGrRpO4hP2 2016-03-16 10:28:11.547644\n",
      "BaztY7ooNk 2016-03-28 16:23:51.425818\n",
      "3k03ZwzqsO 2016-03-16 03:00:06.814851\n",
      "xNstJap4ah 2016-03-26 12:49:41.714119\n",
      "7pFGxVObu6 2016-03-28 15:14:49.522386\n",
      "apytwOyBle 2016-03-16 03:13:31.177427\n",
      "ks6pt64m7P 2016-03-16 13:46:48.966371\n",
      "YvekyXQ78q 2016-03-18 08:27:45.604707\n",
      "q9TQALCrVo 2016-03-28 18:02:15.691564\n",
      "dQDLQQecGP 2016-03-25 10:08:14.975213\n",
      "qQ2uZ6hIp2 2016-03-19 17:45:12.973171\n",
      "qVpbz10wnQ 2016-03-28 13:42:18.713670\n",
      "lkPcLxaKMY 2016-03-28 19:14:38.171705\n",
      "UeyzeYJZyL 2016-03-16 15:46:09.192627\n",
      "slQSVAoKw9 2016-03-28 18:48:45.639820\n",
      "YbpuThMRhu 2016-03-28 17:39:16.462502\n",
      "kvZDOXHTxA 2016-03-28 21:07:38.930261\n",
      "XCToWgyBvt 2016-03-28 19:32:49.877866\n",
      "89Sr72dIqU 2016-03-19 14:25:30.348482\n",
      "Ru0sI9aFOg 2016-03-18 13:37:39.800548\n",
      "bIaOePVfIT 2016-03-28 23:05:37.182229\n",
      "9eVmUECGIt 2016-03-16 14:44:28.325051\n",
      "WsyFPHJlkJ 2016-03-19 18:15:26.833929\n",
      "3Kd4L1WyRf 2016-03-28 18:59:12.825709\n",
      "8K1lT7ZHFv 2016-03-16 17:37:37.582143\n",
      "8cLFwXAvM0 2016-03-28 16:45:51.614103\n",
      "MN1ULTt4Sk 2016-03-16 15:48:12.828877\n",
      "3rwKJ3xTQX 2016-03-26 23:42:36.086004\n",
      "HgP6sgt4VU 2016-03-16 02:48:47.616135\n",
      "OJPaC9ChXY 2016-03-28 17:41:41.191573\n",
      "o30E6A3d3o 2016-03-28 19:18:24.039758\n",
      "n5UML8SYvq 2016-03-18 09:21:24.848827\n",
      "5p5QizDgvp 2016-03-18 07:57:01.459870\n",
      "gWeXSeIbtE 2016-03-16 00:52:11.739600\n",
      "SLahv6QyE0 2016-03-19 11:14:21.917296\n",
      "TR6Yu30kpv 2016-03-16 03:25:08.307144\n",
      "4r9SX4uFpY 2016-03-18 10:41:52.732531\n",
      "pEUnqUDtBT 2016-03-28 11:53:57.101026\n",
      "MRdTCpVMYk 2016-03-16 05:34:23.860733\n",
      "WlQR9c3gxB 2016-03-16 17:18:15.444937\n",
      "5aAWsn30FO 2016-03-19 14:07:34.076250\n",
      "8c3d0IF3zD 2016-03-28 20:57:07.136905\n",
      "9NMeyGG4Dc 2016-03-19 22:01:01.134841\n",
      "yFENbIeERx 2016-03-28 20:02:30.451355\n",
      "4546ZN0A5f 2016-03-28 18:10:16.654526\n",
      "MYf5PSPx7R 2016-03-18 11:49:46.915268\n",
      "NPrpJqWMkb 2016-03-21 07:49:04.568657\n",
      "s8svYckXRC 2016-03-28 18:09:21.980946\n",
      "A3UM10Uvls 2016-03-22 06:59:48.663577\n",
      "osSau9lkJs 2016-03-21 13:45:46.529981\n",
      "k0CSNPkLCI 2016-03-16 04:04:39.202807\n",
      "D3YTxyD1pZ 2016-03-18 09:06:13.584789\n",
      "tnWdEhlnPw 2016-03-16 16:33:00.893959\n",
      "BiaFcnpL91 2016-03-16 04:12:14.991181\n",
      "P4FDuEY36I 2016-03-28 18:22:43.644976\n",
      "PGBrnCsY0d 2016-03-16 20:08:14.803887\n",
      "RHPAsraTxD 2016-03-28 14:48:17.695387\n",
      "EU6AdYpVvP 2016-03-28 20:45:52.871055\n",
      "oyIlS7UD0t 2016-03-19 21:12:07.924250\n",
      "y9QE4DHHJN 2016-03-28 15:20:35.080584\n",
      "GBprPk53nK 2016-03-16 04:37:12.373625\n",
      "fSV3bXSCba 2016-03-16 03:16:22.967125\n",
      "e2TVaAFxy4 2016-03-16 14:04:02.142812\n",
      "7ZYQGwwtN6 2016-03-16 14:28:28.230636\n",
      "iBx9ev3vp0 2016-03-19 18:19:41.704719\n",
      "RmmZJJwnAJ 2016-03-16 04:06:58.672260\n",
      "8w6AWGCtGZ 2016-03-19 07:42:09.619523\n",
      "Iet1PdaG1Z 2016-03-20 02:56:21.936692\n",
      "89uAYhqXqL 2016-03-18 13:53:46.601132\n",
      "8QkC8G5H2H 2016-03-25 18:44:00.840731\n",
      "OQZ2XlXq2F 2016-03-28 15:18:22.552780\n",
      "1uBLHM8pZ9 2016-03-19 09:29:43.831774\n",
      "qASh0ZoaYb 2016-03-18 11:19:37.258675\n",
      "Z9Z1qwKXdv 2016-03-18 07:35:37.054563\n",
      "y9A3KNc4L2 2016-03-17 19:46:06.873661\n",
      "kO8nvvIFSr 2016-03-21 09:51:23.789567\n",
      "7faXpAlO9J 2016-03-16 04:59:45.014671\n",
      "KTJOgTS6K4 2016-03-19 16:25:03.947998\n",
      "Mr1KVtmXR4 2016-03-16 15:12:36.337207\n",
      "80ao0ca9Mm 2016-03-16 13:57:54.353774\n",
      "DNBJtJdMUq 2016-03-18 09:42:54.417175\n",
      "8mvK9huHaC 2016-03-16 15:51:31.127671\n",
      "i8fRWxU6IX 2016-03-18 09:53:54.980957\n",
      "lwx9fSaptl 2016-03-18 07:26:25.138867\n",
      "batItsva2s 2016-03-16 14:04:02.260500\n",
      "OtHgO83x97 2016-03-28 15:00:48.454515\n",
      "VCWgbhInoF 2016-03-16 15:43:44.084560\n"
     ]
    }
   ],
   "source": [
    "\n",
    "for user in list_users():\n",
    "  ordered_visits = get_history_ordered_visits_for_user(user)\n",
    "  if len(ordered_visits) == 0:\n",
    "    continue\n",
    "  last_visit = ordered_visits[-1]\n",
    "  last_visit_time = float(last_visit['visitTime']) / 1000.0\n",
    "  print user, datetime.datetime.fromtimestamp(last_visit_time)\n"
   ]
  },
  {
   "cell_type": "code",
   "execution_count": 4,
   "metadata": {
    "collapsed": false
   },
   "outputs": [
    {
     "data": {
      "text/plain": [
       "\"\\nfor user in list_users():\\n  tab_focus_times = get_tab_focus_times_for_user(user)\\n  if len(tab_focus_times) == 0:\\n    continue\\n  last_visit = tab_focus_times[-1]\\n  last_visit_time = float(last_visit['end']) / 1000.0\\n  print user, datetime.datetime.fromtimestamp(last_visit_time)\\n\""
      ]
     },
     "execution_count": 4,
     "metadata": {},
     "output_type": "execute_result"
    }
   ],
   "source": [
    "'''\n",
    "for user in list_users():\n",
    "  tab_focus_times = get_tab_focus_times_for_user(user)\n",
    "  if len(tab_focus_times) == 0:\n",
    "    continue\n",
    "  last_visit = tab_focus_times[-1]\n",
    "  last_visit_time = float(last_visit['end']) / 1000.0\n",
    "  print user, datetime.datetime.fromtimestamp(last_visit_time)\n",
    "'''"
   ]
  },
  {
   "cell_type": "code",
   "execution_count": 5,
   "metadata": {
    "collapsed": false
   },
   "outputs": [],
   "source": [
    "def get_earliest_start_time(visit_lengths):\n",
    "  if len(visit_lengths) < 1:\n",
    "    raise Exception('get_earliest_time called with empty list')\n",
    "  return visit_lengths[0]['start']\n",
    "\n",
    "def get_last_end_time(visit_lengths):\n",
    "  if len(visit_lengths) < 1:\n",
    "    raise Exception('get_last_visit_time called with empty list')\n",
    "  return visit_lengths[-1]['end']\n"
   ]
  },
  {
   "cell_type": "code",
   "execution_count": 6,
   "metadata": {
    "collapsed": true
   },
   "outputs": [],
   "source": [
    "class UrlAsIndex:\n",
    "  def __init__(self, offset=0):\n",
    "    self.index_to_url = []\n",
    "    self.url_to_index = {}\n",
    "    for idx in range(offset):\n",
    "      self.index_to_url.append(None)\n",
    "  def get_index_for_url(self, url):\n",
    "    if url in self.url_to_index:\n",
    "      return self.url_to_index[url]\n",
    "    index = len(self.index_to_url)\n",
    "    self.index_to_url.append(url)\n",
    "    self.url_to_index[index] = url\n",
    "    return index\n",
    "  def get_url_for_index(self, index):\n",
    "    return self.index_to_url[index]\n",
    "\n",
    "class UrlAtTime:\n",
    "  def __init__(self, visits, start_time=None, end_time=None):\n",
    "    if start_time == None:\n",
    "      start_time = get_earliest_start_time(visits)\n",
    "    self.offset = start_time # milliseconds\n",
    "    if end_time == None:\n",
    "      end_time = get_last_end_time(visits)\n",
    "    end_time_minus_offset = (end_time - start_time) / 1000.0\n",
    "    #self.output = [None]*int(round(end_time_minus_offset) + 1)\n",
    "    self.output = numpy.zeros(int(round(end_time_minus_offset) + 1), dtype=int)\n",
    "    self.url_as_index = UrlAsIndex(1)\n",
    "    for visit in visits:\n",
    "      self.process_visit(visit)\n",
    "  def process_visit(self, visit):\n",
    "    url = visit['url']\n",
    "    url_idx = self.url_as_index.get_index_for_url(url)\n",
    "    start = visit['start']\n",
    "    end = visit['end']\n",
    "    start_idx = int(round((start - self.offset) / 1000.0))\n",
    "    if start_idx < 0:\n",
    "      start_idx = 0\n",
    "      #return\n",
    "    if start_idx >= len(self.output):\n",
    "      return\n",
    "    end_idx = int(round((end - self.offset) / 1000.0))\n",
    "    if end_idx < 0:\n",
    "      return\n",
    "    if end_idx >= len(self.output):\n",
    "      end_idx = len(self.output) - 1\n",
    "    for idx in range(start_idx, end_idx+1):\n",
    "      self.output[idx] = url_idx\n",
    "  def get_url_for_index(self, index):\n",
    "    return self.url_as_index.get_url_for_index(index)\n",
    "  def get_output(self):\n",
    "    return self.output\n",
    "\n",
    "def second_to_active_url(visits, start_time, end_time):\n",
    "  # offset: millseconds\n",
    "  #start_time = get_earliest_start_time(visits)\n",
    "  #end_time = get_last_end_time(visits)\n",
    "  url_at_time = UrlAtTime(visits, start_time, end_time)\n",
    "  return url_at_time"
   ]
  },
  {
   "cell_type": "code",
   "execution_count": 7,
   "metadata": {
    "collapsed": true
   },
   "outputs": [],
   "source": [
    "def ignore_all_before_start_or_after_end(visit_lengths, start_time, end_time):\n",
    "  output = []\n",
    "  for x in visit_lengths:\n",
    "    if x['end'] < start_time:\n",
    "      continue\n",
    "    if x['start'] > end_time:\n",
    "      continue\n",
    "    #if x['start'] < start_time: # - 1000: # 1 second before or after\n",
    "    #  continue\n",
    "    #if x['end'] > end_time: # + 1000:\n",
    "    #  continue\n",
    "    output.append(x)\n",
    "  return output"
   ]
  },
  {
   "cell_type": "code",
   "execution_count": 8,
   "metadata": {
    "collapsed": true
   },
   "outputs": [],
   "source": [
    "def evaluation_stats_for_reconstruction(result_reference, result_reconstructed):\n",
    "  stats = Counter()\n",
    "  for ref_answer,rec_answer in zip(result_reference.get_output(), result_reconstructed.get_output()):\n",
    "    if ref_answer == 0 and rec_answer == 0:\n",
    "      stats['both_inactive'] += 1\n",
    "    elif ref_answer == 0 and rec_answer != 0:\n",
    "      stats['ref_inactive_but_rec_active'] += 1\n",
    "    elif ref_answer != 0 and rec_answer == 0:\n",
    "      stats['ref_active_but_rec_inactive'] += 1\n",
    "    elif ref_answer != 0 and rec_answer != 0:\n",
    "      ref_url = result_reference.get_url_for_index(ref_answer)\n",
    "      rec_url = result_reconstructed.get_url_for_index(rec_answer)\n",
    "      ref_domain = url_to_domain(ref_url)\n",
    "      rec_domain = url_to_domain(rec_url)\n",
    "      if ref_domain == rec_domain:\n",
    "        if ref_url == rec_url:\n",
    "          stats['correct_url'] += 1\n",
    "        else:\n",
    "          stats['correct_domain'] += 1\n",
    "      else:\n",
    "        stats['incorrect_domain'] += 1\n",
    "  return stats"
   ]
  },
  {
   "cell_type": "code",
   "execution_count": 9,
   "metadata": {
    "collapsed": false
   },
   "outputs": [],
   "source": [
    "def get_evaluated_reference_and_reconstructed_focus_times_for_user(user):\n",
    "  tab_focus_times = get_tab_focus_times_for_user(user)\n",
    "  reconstructed_tab_focus_times = list(get_reconstruct_focus_times_baseline_for_user(user))\n",
    "  if len(tab_focus_times) == 0 or len(reconstructed_tab_focus_times) == 0:\n",
    "    return [],[]\n",
    "  ref_start_time = max(get_earliest_start_time(tab_focus_times), get_earliest_start_time(reconstructed_tab_focus_times))\n",
    "  ref_end_time = min(get_last_end_time(tab_focus_times), get_last_end_time(reconstructed_tab_focus_times))\n",
    "  evaluated_reconstructed_tab_focus_times = ignore_all_before_start_or_after_end(reconstructed_tab_focus_times, ref_start_time, ref_end_time)\n",
    "  evaluated_tab_focus_times = ignore_all_before_start_or_after_end(tab_focus_times, ref_start_time, ref_end_time)\n",
    "  return evaluated_tab_focus_times,evaluated_reconstructed_tab_focus_times\n",
    "\n",
    "def get_evaluation_stats_for_user(user):\n",
    "  #evaluated_tab_focus_times,evaluated_reconstructed_tab_focus_times = get_evaluated_reference_and_reconstructed_focus_times_for_user(user)\n",
    "  #if len(evaluated_reconstructed_tab_focus_times) == 0 or len(evaluated_tab_focus_times) == 0:\n",
    "  #  return {}\n",
    "  tab_focus_times = get_tab_focus_times_for_user(user)\n",
    "  reconstructed_tab_focus_times = list(get_reconstruct_focus_times_baseline_for_user(user))\n",
    "  if len(tab_focus_times) == 0 or len(reconstructed_tab_focus_times) == 0:\n",
    "    return {}\n",
    "  ref_start_time = max(get_earliest_start_time(tab_focus_times), get_earliest_start_time(reconstructed_tab_focus_times))\n",
    "  ref_end_time = min(get_last_end_time(tab_focus_times), get_last_end_time(reconstructed_tab_focus_times))\n",
    "  evaluated_reconstructed_tab_focus_times = ignore_all_before_start_or_after_end(reconstructed_tab_focus_times, ref_start_time, ref_end_time)\n",
    "  evaluated_tab_focus_times = ignore_all_before_start_or_after_end(tab_focus_times, ref_start_time, ref_end_time)\n",
    "  result_reference = second_to_active_url(evaluated_tab_focus_times, ref_start_time, ref_end_time)\n",
    "  result_reconstructed = second_to_active_url(evaluated_reconstructed_tab_focus_times, ref_start_time, ref_end_time)\n",
    "  return evaluation_stats_for_reconstruction(result_reference, result_reconstructed)\n",
    "  #print tab_focus_times[0].keys()\n",
    "  #print list(reconstructed_tab_focus_times)[0].keys()\n",
    "\n"
   ]
  },
  {
   "cell_type": "code",
   "execution_count": 10,
   "metadata": {
    "collapsed": true
   },
   "outputs": [],
   "source": [
    "class ClosestVisitTimeForUrl:\n",
    "  def __init__(self, tab_focus_times):\n",
    "    self.visits = tab_focus_times\n",
    "    self.url_to_visit_times = {} # url to start of visit\n",
    "    self.visit_time_to_visit = {}\n",
    "    for visit in self.visits: # these visits are time-ordered\n",
    "      start = visit['start']\n",
    "      url = visit['url']\n",
    "      if url not in self.url_to_visit_times:\n",
    "        self.url_to_visit_times[url] = []\n",
    "      self.url_to_visit_times[url].append(start)\n",
    "      self.visit_time_to_visit[start] = visit\n",
    "  def get_visit_from_time(self, target_visit_time):\n",
    "    self.visit_time_to_visit.get(target_visit_time, None)\n",
    "  def find_closest_visit(self, url, target_visit_time):\n",
    "    if url not in self.url_to_visit_times:\n",
    "      return None\n",
    "    all_visits = self.url_to_visit_times[url]\n",
    "    closest_visit = None\n",
    "    for visit in all_visits:\n",
    "      if closest_visit == None:\n",
    "        closest_visit = visit\n",
    "        continue\n",
    "      if abs(visit - target_visit_time) < abs(closest_visit - target_visit_time):\n",
    "        closest_visit = visit\n",
    "    return closest_visit"
   ]
  },
  {
   "cell_type": "code",
   "execution_count": null,
   "metadata": {
    "collapsed": true
   },
   "outputs": [],
   "source": []
  },
  {
   "cell_type": "code",
   "execution_count": 11,
   "metadata": {
    "collapsed": true
   },
   "outputs": [],
   "source": [
    "def get_span_alignment_stats_for_user(user):\n",
    "  evaluated_tab_focus_times,evaluated_reconstructed_tab_focus_times = get_evaluated_reference_and_reconstructed_focus_times_for_user(user)\n",
    "  if len(evaluated_reconstructed_tab_focus_times) == 0 or len(evaluated_tab_focus_times) == 0:\n",
    "    return {}\n",
    "  closest_visit_times_for_reference = ClosestVisitTimeForUrl(evaluated_tab_focus_times)\n",
    "  closest_visit_times_for_reconstructed = ClosestVisitTimeForUrl(evaluated_reconstructed_tab_focus_times)\n",
    "  stats = Counter()\n",
    "  domains_where_reconstructed_has_no_reference = Counter()\n",
    "  domains_where_reference_has_no_reconstructed = Counter()\n",
    "  urls_where_reconstructed_has_no_reference = Counter()\n",
    "  urls_where_reference_has_no_reconstructed = Counter()\n",
    "  reconstructed_visits_labeled = []\n",
    "  reference_visits_labeled = []\n",
    "  for visit in evaluated_reconstructed_tab_focus_times:\n",
    "    start_time = visit['start']\n",
    "    url = visit['url']\n",
    "    domain = url_to_domain(url)\n",
    "    closest_time = closest_visit_times_for_reference.find_closest_visit(url, start_time)\n",
    "    visit_labeled = {k:v for k,v in visit.items()}\n",
    "    if closest_time == None or abs(start_time - closest_time) > 60*1000: # more than 60 seconds off\n",
    "      stats['reconstructed_has_no_corresponding_reference'] += 1\n",
    "      domains_where_reconstructed_has_no_reference[domain] += 1\n",
    "      urls_where_reconstructed_has_no_reference[url] += 1\n",
    "      visit_labeled['have_reference'] = False\n",
    "    else:\n",
    "      stats['reconstructed_has_corresponding_reference'] += 1\n",
    "      visit_labeled['have_reference'] = True\n",
    "    reconstructed_visits_labeled.append(visit_labeled)\n",
    "  for visit in evaluated_tab_focus_times:\n",
    "    start_time = visit['start']\n",
    "    url = visit['url']\n",
    "    closest_time = closest_visit_times_for_reconstructed.find_closest_visit(url, start_time)\n",
    "    visit_labeled = {k:v for k,v in visit.items()}\n",
    "    if closest_time == None or abs(start_time - closest_time) > 60*1000: # more than 60 seconds off\n",
    "      stats['reference_has_no_corresponding_reconstructed'] += 1\n",
    "      domains_where_reference_has_no_reconstructed[domain] += 1\n",
    "      urls_where_reference_has_no_reconstructed[url] += 1\n",
    "      visit_labeled['have_reconstructed'] = False\n",
    "    else:\n",
    "      stats['reference_has_corresponding_reconstructed'] += 1\n",
    "      visit_labeled['have_reconstructed'] = True\n",
    "    reference_visits_labeled.append(visit_labeled)\n",
    "  return {\n",
    "    'stats': stats,\n",
    "    'domains_where_reconstructed_has_no_reference': domains_where_reconstructed_has_no_reference,\n",
    "    'domains_where_reference_has_no_reconstructed': domains_where_reference_has_no_reconstructed,\n",
    "    'urls_where_reconstructed_has_no_reference': urls_where_reconstructed_has_no_reference,\n",
    "    'urls_where_reference_has_no_reconstructed': urls_where_reference_has_no_reconstructed,\n",
    "    'reconstructed_visits_labeled': reconstructed_visits_labeled,\n",
    "    'reference_visits_labeled': reference_visits_labeled,\n",
    "  }"
   ]
  },
  {
   "cell_type": "code",
   "execution_count": 12,
   "metadata": {
    "collapsed": false
   },
   "outputs": [],
   "source": [
    "user_to_span_alignment_data = {}\n",
    "\n",
    "for user in list_users():\n",
    "  data = get_span_alignment_stats_for_user(user)\n",
    "  if 'stats' not in data:\n",
    "    continue\n",
    "  user_to_span_alignment_data[user] = data\n"
   ]
  },
  {
   "cell_type": "code",
   "execution_count": 13,
   "metadata": {
    "collapsed": false
   },
   "outputs": [
    {
     "name": "stdout",
     "output_type": "stream",
     "text": [
      "reference_has_corresponding_reconstructed 765233\n",
      "reference_has_no_corresponding_reconstructed 521231\n",
      "reconstructed_has_corresponding_reference 498695\n",
      "reconstructed_has_no_corresponding_reference 92425\n"
     ]
    }
   ],
   "source": [
    "overall_span_alignment_stats = Counter()\n",
    "for user,data in user_to_span_alignment_data.items():\n",
    "  stats = data['stats']\n",
    "  for k,v in stats.items():\n",
    "    overall_span_alignment_stats[k] += v\n",
    "\n",
    "print_counter(overall_span_alignment_stats)\n",
    "# 60% of reference have corresponding reconstructed\n",
    "# 84% of reconstructed have corresponding reference"
   ]
  },
  {
   "cell_type": "code",
   "execution_count": 14,
   "metadata": {
    "collapsed": true
   },
   "outputs": [],
   "source": [
    "optimal_reconstruction_stats_spans = Counter()\n",
    "optimal_reconstruction_stats_times = Counter()\n",
    "\n",
    "for user,data in user_to_span_alignment_data.items():\n",
    "  for visit in data['reconstructed_visits_labeled']:\n",
    "    if visit['have_reference']:\n",
    "      optimal_reconstruction_stats_spans['reconstructed_has_reference'] += 1\n",
    "    else:\n",
    "      optimal_reconstruction_stats_spans['reconstructed_has_no_reference'] += 1\n",
    "  for visit in data['reference_visits_labeled']:\n",
    "    length = visit['end'] - visit['start']\n",
    "    if visit['have_reconstructed']:\n",
    "      optimal_reconstruction_stats_spans['reference_has_reconstructed'] += 1\n",
    "      optimal_reconstruction_stats_times['seconds_of_reference_that_can_be_reconstructed'] += length\n",
    "    else:\n",
    "      optimal_reconstruction_stats_spans['reference_has_no_reconstructed'] += 1\n",
    "      optimal_reconstruction_stats_times['seconds_of_reference_that_cannot_be_reconstructed'] += length"
   ]
  },
  {
   "cell_type": "code",
   "execution_count": 15,
   "metadata": {
    "collapsed": false
   },
   "outputs": [
    {
     "name": "stdout",
     "output_type": "stream",
     "text": [
      "reference_has_reconstructed 765233\n",
      "reference_has_no_reconstructed 521231\n",
      "reconstructed_has_reference 498695\n",
      "reconstructed_has_no_reference 92425\n"
     ]
    }
   ],
   "source": [
    "print_counter(optimal_reconstruction_stats_spans)\n",
    "# reference has reconstructed 60% = 80332.0 / (80332 + 54018)\n",
    "# reconstructed has reference 84% = 55748.0 / (10948 + 55748)"
   ]
  },
  {
   "cell_type": "code",
   "execution_count": 16,
   "metadata": {
    "collapsed": false
   },
   "outputs": [
    {
     "name": "stdout",
     "output_type": "stream",
     "text": [
      "seconds_of_reference_that_can_be_reconstructed 10124972703.1\n",
      "seconds_of_reference_that_cannot_be_reconstructed 10076012470.9\n"
     ]
    }
   ],
   "source": [
    "print_counter(optimal_reconstruction_stats_times)\n",
    "# seconds of reference that can be reconstructed 57% = 1254885375.005127 / (1254885375.005127 + 947693694.9926758)"
   ]
  },
  {
   "cell_type": "code",
   "execution_count": 17,
   "metadata": {
    "collapsed": true
   },
   "outputs": [],
   "source": [
    "domain_to_seconds_that_cannot_be_reconstructed = Counter()\n",
    "url_to_seconds_that_cannot_be_reconstructed = Counter()\n",
    "domain_to_spans_that_cannot_be_reconstructed = Counter()\n",
    "url_to_spans_that_cannot_be_reconstructed = Counter()\n",
    "\n",
    "for user,data in user_to_span_alignment_data.items():\n",
    "  for visit in data['reference_visits_labeled']:\n",
    "    length = visit['end'] - visit['start']\n",
    "    url = visit['url']\n",
    "    domain = url_to_domain(url)\n",
    "    if not visit['have_reconstructed']:\n",
    "      domain_to_seconds_that_cannot_be_reconstructed[domain] += length\n",
    "      domain_to_spans_that_cannot_be_reconstructed[domain] += 1\n",
    "      url_to_seconds_that_cannot_be_reconstructed[url] += length\n",
    "      url_to_spans_that_cannot_be_reconstructed[url] += 1"
   ]
  },
  {
   "cell_type": "code",
   "execution_count": null,
   "metadata": {
    "collapsed": false
   },
   "outputs": [],
   "source": []
  },
  {
   "cell_type": "code",
   "execution_count": 18,
   "metadata": {
    "collapsed": false
   },
   "outputs": [
    {
     "name": "stdout",
     "output_type": "stream",
     "text": [
      "www.mturk.com 145866\n",
      "newtab 25509\n",
      "www.facebook.com 24472\n",
      "mail.google.com 21125\n",
      "www.youtube.com 20491\n",
      "www.google.com 15434\n",
      "www.reddit.com 12285\n",
      "hitgrabber.net 11727\n",
      "www.netflix.com 10517\n",
      "docs.google.com 8659\n",
      "forums.somethingawful.com 6674\n",
      "www.twitch.tv 5626\n",
      "apps.facebook.com 5301\n",
      "game.soul-arena.com 3946\n",
      "us-mg5.mail.yahoo.com 3930\n",
      "us20.chatzy.com 2825\n",
      "play.pokemonshowdown.com 2722\n",
      "www.amazon.com 2660\n",
      " 2537\n",
      "www.swagbucks.com 2520\n",
      "calendar.google.com 2507\n",
      "www.mturkgrind.com 2464\n",
      "www.tumblr.com 2108\n",
      "drive.google.com 1514\n",
      "mturkforum.com 1494\n",
      "www.mturkcrowd.com 1312\n",
      "turkernation.com 1245\n",
      "mail.aol.com 1231\n",
      "en.wikipedia.org 1117\n",
      "www.lipstickalley.com 1080\n",
      "turkopticon.ucsd.edu 1043\n",
      "klbibkeccnjlkjkiokjodocebajanakg 1024\n",
      "thewatchseries.to 997\n",
      "www.ebay.com 982\n",
      "www.babypips.com 966\n",
      "web.whatsapp.com 949\n",
      "allmyvideos.net 941\n",
      "www.livenewschat.eu 940\n",
      "www.hbonow.com 919\n",
      "sbcodez.com 911\n",
      "forums.animez.to 901\n",
      "www.linkedin.com 894\n",
      "boards.4chan.org 873\n",
      "twitter.com 873\n",
      "snt151.mail.live.com 864\n",
      "play.google.com 807\n",
      "wharton.qualtrics.com 779\n",
      "bookmarks 754\n",
      "yalesurvey.qualtrics.com 747\n",
      "tmi.stanford.edu 730\n",
      "www.sharelatex.com 713\n",
      "upenn.co1.qualtrics.com 677\n",
      "templates.textbroker.com 677\n",
      "duke.qualtrics.com 675\n",
      "perk.tv 660\n",
      "www.classmates.com 650\n",
      "www.arconaitv.me 642\n",
      "gcat.dot.state.oh.us 629\n",
      "www.pinterest.com 621\n",
      "mass.retailmakr.com 615\n",
      "ufl.qualtrics.com 614\n",
      "columbia.az1.qualtrics.com 613\n",
      "payments.amazon.com 611\n",
      "tweetdeck.twitter.com 611\n",
      "stanfordgsb.qualtrics.com 606\n",
      "www.hulu.com 597\n",
      "mprlab327.webfactional.com 568\n",
      "www.bing.com 558\n",
      "cornell.qualtrics.com 549\n",
      "www.cbs.com 548\n",
      "www.pandora.com 546\n",
      "www.google.co.in 540\n",
      "www.speechpad.com 538\n",
      "compstak.slack.com 534\n",
      "www.surveymonkey.com 525\n",
      "intern.textbroker.com 519\n",
      "survey.qualtrics.com 517\n",
      "us-mg6.mail.yahoo.com 514\n",
      "plinga.com 504\n",
      "www.gifthulk.com 503\n",
      "slickdeals.net 502\n",
      "hbs.qualtrics.com 494\n",
      "spellout.net 492\n",
      "www.hotnewhiphop.com 478\n",
      "www.skydivetemple.com 474\n",
      "myanimelist.net 473\n",
      "www.buzzfeed.com 472\n",
      "www.imdb.com 472\n",
      "www.inboxdollars.com 470\n",
      "www.zoombucks.com 460\n",
      "www.yahoo.com 455\n",
      "vodlocker.com 451\n",
      "washington.co1.qualtrics.com 449\n",
      "rotman.az1.qualtrics.com 445\n",
      "smile.amazon.com 441\n",
      "www.yelp.com 438\n",
      "iu.co1.qualtrics.com 436\n",
      "www.messenger.com 430\n",
      "vidzi.tv 426\n",
      "soundcloud.com 426\n"
     ]
    }
   ],
   "source": [
    "print_counter(domain_to_spans_that_cannot_be_reconstructed)"
   ]
  },
  {
   "cell_type": "code",
   "execution_count": 19,
   "metadata": {
    "collapsed": false
   },
   "outputs": [
    {
     "name": "stdout",
     "output_type": "stream",
     "text": [
      "www.mturk.com 1899414425.98\n",
      "www.facebook.com 759533278.0\n",
      "www.youtube.com 636406984.97\n",
      "mail.google.com 424857526.016\n",
      "www.reddit.com 406103926.975\n",
      "www.netflix.com 378153301.995\n",
      "apps.facebook.com 226973174.003\n",
      "docs.google.com 186120172.015\n",
      "forums.somethingawful.com 136441889.996\n",
      "newtab 113282067.977\n",
      "www.google.com 110989522.015\n",
      "us-mg5.mail.yahoo.com 94679892.0027\n",
      "www.twitch.tv 90361212.9995\n",
      "hitgrabber.net 75012666.0071\n",
      "forums.animez.to 67431843.0029\n",
      "www.amazon.com 60532775.9976\n",
      "www.tumblr.com 55972974.9963\n",
      "tweetdeck.twitter.com 55640841.9976\n",
      "plinga.com 51045024.9983\n",
      "templates.textbroker.com 50748714.9998\n",
      "allmyvideos.net 47184916.0012\n",
      "imgur.com 44447689.9985\n",
      "play.pokemonshowdown.com 42967681.9956\n",
      "www.lipstickalley.com 42391648.9978\n",
      "soundcloud.com 41579309.9998\n",
      "upenn.co1.qualtrics.com 40398117.9973\n",
      "games.espn.go.com 36758515.9993\n",
      "www.hbonow.com 35889428.9966\n",
      "game.soul-arena.com 35705386.9985\n",
      "turkernation.com 34364189.0071\n",
      "projectfreetv.so 32034775.0002\n",
      "www.livenewschat.eu 31224447.9976\n",
      "www.mturkgrind.com 31188280.0063\n",
      "mturkforum.com 30913588.0\n",
      "www.ew.com 28217075.9998\n",
      "www.speechpad.com 28056990.0032\n",
      "outlook.live.com 26966213.999\n",
      "boards.4chan.org 26552624.9985\n",
      "tmi.stanford.edu 26317846.0017\n",
      "yalesurvey.qualtrics.com 26242753.9961\n",
      "www.babypips.com 26160274.9944\n",
      "mprlab327.webfactional.com 26113623.0024\n",
      "survey.qualtrics.com 25948802.0032\n",
      "www.etsy.com 25363473.9976\n",
      "us.anno-online.com 24604749.9998\n",
      "wharton.qualtrics.com 23585385.9998\n",
      "www.addictinggames.com 23216204.0005\n",
      "gwu.qualtrics.com 23175991.9995\n",
      "us20.chatzy.com 22118443.002\n",
      "iu.co1.qualtrics.com 21676859.9973\n",
      "qtrial2016q1az1.az1.qualtrics.com 21657237.9988\n",
      "intern.textbroker.com 20697990.0032\n",
      "www.surveymonkey.com 20669172.9998\n",
      "nyu.qualtrics.com 19434807.0\n",
      "en.wikipedia.org 19231708.0044\n",
      "mail.aol.com 18664487.0024\n",
      "www.allmyvideos.net 18621126.0002\n",
      "stanfordgsb.qualtrics.com 18378782.0007\n",
      "web.whatsapp.com 18252464.0032\n",
      "drive.google.com 17510305.9971\n",
      "www.pinterest.com 17414377.0012\n",
      "www.fayettevillenc.va.gov 17313582.0\n",
      "twitter.com 17017417.0\n",
      "perk.tv 16632794.0046\n",
      "umich.qualtrics.com 15832433.9949\n",
      "www.swagbucks.com 15751251.999\n",
      "duke.qualtrics.com 15486163.9998\n",
      "unc.az1.qualtrics.com 15416554.9995\n",
      "www.hulu.com 15065936.9963\n",
      "rotman.az1.qualtrics.com 14949508.001\n",
      "cornell.qualtrics.com 14778487.999\n",
      "animetorrents.me 14758134.9993\n",
      "my-digitallife.att.com 14507608.9995\n",
      "columbia.az1.qualtrics.com 14312287.0012\n",
      "www.arconaitv.me 14270149.9983\n",
      "psychologyuwaterloo.az1.qualtrics.com 13961863.0017\n",
      "ufl.qualtrics.com 13874916.9963\n",
      "utexas.qualtrics.com 13859652.9998\n",
      "www.doctoroz.com 13661119.0007\n",
      "gorillavid.in 13439469.001\n",
      "umn.qualtrics.com 13340715.9963\n",
      "myanimelist.net 13216990.0005\n",
      "nbs.az1.qualtrics.com 13200735.0015\n",
      "www.sharelatex.com 13022723.0029\n",
      "www.mturkcrowd.com 12852515.0012\n",
      "howtomakecosmetics.com 12735501.999\n",
      "ust.az1.qualtrics.com 12510872.0002\n",
      "uwmadison.co1.qualtrics.com 12417344.0002\n",
      "www.linkedin.com 12339525.9956\n",
      "xfinitytv.comcast.net 12084804.9995\n",
      "www.messenger.com 12035845.999\n",
      "www.buzzfeed.com 11831638.9998\n",
      "surveys.ipsosinteractive.com 11826301.0015\n",
      "spellout.net 11620755.0037\n",
      "kellogg.qualtrics.com 11424732.0007\n",
      "vodlocker.com 11151468.999\n",
      "berkeley.qualtrics.com 11123473.0042\n",
      "www.crowdcurio.com 10949408.9995\n",
      "dl.dropboxusercontent.com 10869135.0039\n",
      "purdue.qualtrics.com 10829479.9995\n"
     ]
    }
   ],
   "source": [
    "print_counter(domain_to_seconds_that_cannot_be_reconstructed)"
   ]
  },
  {
   "cell_type": "code",
   "execution_count": 20,
   "metadata": {
    "collapsed": false
   },
   "outputs": [
    {
     "name": "stdout",
     "output_type": "stream",
     "text": [
      "https://www.mturk.com/mturk/findhits?match=true?hit_scraper 28250\n",
      "https://www.mturk.com/mturk/dashboard 27309\n",
      "chrome://newtab/ 25504\n",
      "https://www.facebook.com/ 13002\n",
      "https://www.mturk.com/mturk/findhits?match=false&hit_scraper 12793\n",
      "http://hitgrabber.net/ 11727\n",
      "https://mail.google.com/mail/u/0/#inbox 10079\n",
      "https://www.google.com/_/chrome/newtab?espv=2&ie=UTF-8 7271\n",
      "http://game.soul-arena.com/ 3946\n",
      "https://us20.chatzy.com/11920092594925 2825\n",
      "https://www.mturk.com/HM 2370\n",
      "https://mail.google.com/mail/u/1/#inbox 2272\n",
      "https://www.mturk.com/mturk/findhits?match=true?hit_scraper-dev 2091\n",
      " 1999\n",
      "https://www.mturk.com/mturk/myhits 1599\n",
      "https://calendar.google.com/calendar/render??pli=1&pli=1#main_7 1455\n",
      "https://www.facebook.com/messages/jessica.wood.106 1420\n",
      "https://www.mturk.com/mturk/findhits?match=true 1254\n",
      "https://web.whatsapp.com/ 947\n",
      "https://www.reddit.com/ 913\n",
      "https://docs.google.com/document/d/1q2s4u1jQ4BUVT16nCr-pkW114mMEDeLiTJztWJxp2Jw/edit 911\n",
      "http://sbcodez.com/ 911\n",
      "http://www.swagbucks.com/account/summary 853\n",
      "https://www.tumblr.com/dashboard 812\n",
      "https://apps.facebook.com/wordbattling/?fb_source=canvas_bookmark 770\n",
      "https://www.youtube.com/ 713\n",
      "http://play.pokemonshowdown.com/ 692\n",
      "https://mail.google.com/mail/u/0/?tab=wm#inbox 688\n",
      "https://templates.textbroker.com/mask/ymask.php 677\n",
      "https://mail.google.com/mail/u/0/#spam 674\n",
      "https://snt151.mail.live.com/?fid=flinbox 655\n",
      "https://www.mturk.com/mturk/findhits?match=false 641\n",
      "https://mail.google.com/mail/#inbox 638\n",
      "http://gcat.dot.state.oh.us/CrashWebHome.aspx 629\n",
      "https://apps.facebook.com/puzzlywords/?fb_source=canvas_bookmark 591\n",
      "https://www.facebook.com/?sk=h_chr 573\n",
      "https://mail.aol.com/webmail-std/en-us/suite 542\n",
      "http://www.swagbucks.com/ 502\n",
      "https://tweetdeck.twitter.com/# 488\n",
      "https://docs.google.com/spreadsheets/d/1UYiOaoctvReBTOZIZuEY5_BQjEWzuBJ13Fwn82UO_qY/edit#gid=0 479\n",
      "https://apps.facebook.com/coral-isle/ 472\n",
      "http://plinga.com/play#games/2/playOnline 446\n",
      "https://www.twitch.tv/teamsp00ky 444\n",
      "https://www.twitch.tv/tehjamjar 441\n",
      "https://apps.facebook.com/juicejam/?fb_source=bookmark&ref=bookmarks&count=0&fb_bmpos=_0 423\n",
      "https://docs.google.com/document/d/1BfQLJTRE8P0INAweQW5YGOMu8WItKWqcA7ooUnQhOKM/edit# 421\n",
      "https://www.twitch.tv/dotapit 420\n",
      "http://www.crichd.tv/live-sky-sports-2-uk-stream.php 401\n",
      "https://www.twitch.tv/arteezy 396\n",
      "https://www.sharelatex.com/project/56f6248ad63196fe60ef3677 394\n",
      "https://www.facebook.com/daniel.cozart.52/friends?source_ref=pb_friends_tl 392\n",
      "http://www.tomatoville.com/usercp.php 380\n",
      "https://apps.facebook.com/eontictactoe/?fb_source=bookmark&ref=bookmarks&count=0&fb_bmpos=_0 376\n",
      "https://spacing.psy.ohio-state.edu/spacing/learn.php?a_id=3Z4GS9HPNW9KZDJG37CDBOHXNWA77Q&s_id=A1640H4RXH8NZE&s_num=1 369\n",
      "https://docs.google.com/document/d/1JhMg8HoxqII5F1Auib4D24jivpHvbAlfG9Qqy-mrR3I/edit 368\n",
      "https://www.facebook.com/?ref=tn_tnmn 361\n",
      "https://www.google.com/voice/b/0#inbox 359\n",
      "http://www.livenewschat.eu/top/ 359\n",
      "https://www.skydivetemple.com/buy/admin/ 358\n",
      "http://www.sbforumz.com/t611-sbcodez-backup-location 351\n",
      "http://spellout.net/ibexexps/adam/forbid-dan-fruit/experiment.html 340\n",
      "https://forums.somethingawful.com/showthread.php?threadid=3722319&userid=0&perpage=40&pagenumber=101 330\n",
      "https://www.facebook.com/Smoke.And.Ink 328\n",
      "https://turkopticon.ucsd.edu/main/php_search 327\n",
      "https://qbo.intuit.com/app/check 325\n",
      "https://www.reddit.com/r/relationships/ 317\n",
      "https://docs.google.com/spreadsheets/d/1P2s7inAjssSheb0G1BWgK8v8Pp4q5IVXCqX4EfDEOKY/edit#gid=0 317\n",
      "https://www.twitch.tv/lirik 312\n",
      "https://docs.google.com/spreadsheets/d/1yW-nGu_EbbjknOxT1xD48z0glhk4O7G2HBDi47lUWK4/edit#gid=0 310\n",
      "https://www.facebook.com/?ref=logo 305\n",
      "https://apps.facebook.com/coral-isle/?fb_source=sidebar_bookmark 304\n",
      "https://docs.google.com/spreadsheets/d/1-fgCbrGod6TbmGqDHDEPzv5Xeq8y3bFllR7uey539c8/edit#gid=0 301\n",
      "https://www.yahoo.com/ 299\n",
      "https://www.google.co.in/_/chrome/newtab?espv=2&ie=UTF-8 295\n",
      "https://www.youtube.com/watch?v=1mQ-Xpf8Wgs 295\n",
      "https://www.reddit.com/r/HITsWorthTurkingFor/ 294\n",
      "http://slickdeals.net/ 292\n",
      "https://www.google.com/_/chrome/newtab?espv=2&es_th=1&ie=UTF-8 292\n",
      "https://www.mturk.com/mturk/previewandaccept?groupId=3PE844HNTHWB0S4K67AGM54PL61KAS 291\n",
      "https://www.rewardshopping.com/slb 290\n",
      "https://www.twitch.tv/mintmaus 285\n",
      "https://www.twitch.tv/sing_sing 282\n",
      "https://forums.animez.to/ 282\n",
      "http://www.bbc.co.uk/iplayer/episode/b07556vt/the-graham-norton-show-series-19-batman-extra 281\n",
      "http://www.swagbucks.com/?cmd=gn-jun-frame&acct=1 277\n",
      "https://www.twitch.tv/directory/following 275\n",
      "https://www.facebook.com/?q= 274\n",
      "http://www.hitgrabber.net/ 273\n",
      "chrome://downloads/ 273\n",
      "https://www.youtube.com/feed/subscriptions 268\n",
      "https://www.reddit.com/r/ffxiv/ 268\n",
      "https://surveys.ipsosinteractive.com/surveys/25b6acb2-de68-11e2-a28f-0800200c9a66 267\n",
      "https://intern.textbroker.com/a/teamorder-write-submit.php 267\n",
      "https://www.mturk.com/mturk/searchbar?selectedSearchType=hitgroups&searchWords=p9r&minReward=0.00&x=8&y=14 264\n",
      "http://econusyd.az1.qualtrics.com/jfe/form/SV_7ZKTrSg22NJ12WF 255\n",
      "http://www.michigantrafficcrashfacts.org/datatool/build.php 251\n",
      "https://www.mturk.com/mturk/continue?hitId=3TDXMTX3CBU3LQEIVSDLZ0VT29R6I0 250\n",
      "https://www.mturk.com/mturk/previewandaccept?groupId=3TCGLRK8ZG9BHK11B2DJ4OC92SQQZ6 248\n",
      "https://www.twitch.tv/ilios72 247\n",
      "http://www.pandora.com/ 246\n"
     ]
    }
   ],
   "source": [
    "print_counter(url_to_spans_that_cannot_be_reconstructed)"
   ]
  },
  {
   "cell_type": "code",
   "execution_count": 21,
   "metadata": {
    "collapsed": false
   },
   "outputs": [
    {
     "name": "stdout",
     "output_type": "stream",
     "text": [
      "https://www.mturk.com/mturk/dashboard 573408452.997\n",
      "https://www.facebook.com/ 466327673.015\n",
      "https://www.mturk.com/mturk/findhits?match=true?hit_scraper 286173348.992\n",
      "https://mail.google.com/mail/u/0/#inbox 148382498.018\n",
      "chrome://newtab/ 113246845.977\n",
      "https://www.mturk.com/mturk/findhits?match=true 97738007.0032\n",
      "https://www.mturk.com/mturk/findhits?match=false&hit_scraper 94225664.0095\n",
      "https://docs.google.com/spreadsheets/d/1ZBzbhT5itY-L75wfjrNVJQt177kWhXh72bCTqCfMQyE/edit#gid=2096979058 75591704.0\n",
      "http://hitgrabber.net/ 75012666.0071\n",
      "https://mail.google.com/mail/#inbox 67010996.9966\n",
      "https://tweetdeck.twitter.com/# 52280260.9993\n",
      "https://mail.google.com/mail/u/1/#inbox 52248078.0093\n",
      "https://templates.textbroker.com/mask/ymask.php 50748714.9998\n",
      "https://www.mturk.com/mturk/findhits?match=true?hit_scraper-dev 48461632.009\n",
      "https://www.reddit.com/r/AskReddit/comments/4bpjxo/what_items_or_products_are_found_only_in_rich/ 43674310.9998\n",
      "https://apps.facebook.com/eontictactoe/?fb_source=bookmark&ref=bookmarks&count=0&fb_bmpos=_0 41936592.0022\n",
      "http://imgur.com/WoswEW6 41010514.9998\n",
      "https://mail.google.com/mail/u/0/#spam 40137523.001\n",
      "http://game.soul-arena.com/ 35705386.9985\n",
      "https://www.facebook.com/messages/jessica.wood.106 35391505.9983\n",
      "https://www.google.com/_/chrome/newtab?espv=2&ie=UTF-8 32718402.0081\n",
      "http://plinga.com/play#games/2/playOnline 32410346.9985\n",
      "https://soundcloud.com/solomon-yoon-hwa-yang 31764192.9995\n",
      "https://www.facebook.com/?sk=h_chr 31682968.0027\n",
      "http://games.espn.go.com/tournament-challenge-bracket/2016/en/entry?entryID=4849020 31624046.0\n",
      "https://www.mturk.com/mturk/myhits 30901483.0061\n",
      "https://www.reddit.com/r/fatlogic/comments/4c0457/woman_explains_why_she_lost_weight_for_her_husband/ 26416169.0\n",
      "https://www.tumblr.com/dashboard 26280190.9995\n",
      "http://www.ew.com/article/2016/03/14/supergirl-italia-ricci-siobhan-smythe-silver-banshee 26048955.9998\n",
      "https://www.reddit.com/r/fatpeoplestories/ 25375851.0\n",
      "http://us.anno-online.com/en/play 24600468.9998\n",
      "https://www.etsy.com/your/shops/Natural20Cosmetics/dashboard?ref=seller_platform_hdr 23080559.9998\n",
      "https://us20.chatzy.com/11920092594925 22118443.002\n",
      "https://www.reddit.com/ 21926051.9968\n",
      "http://gwu.qualtrics.com/jfe/form/SV_d0t1HqvhRMZICj3 21588446.0005\n",
      "https://outlook.live.com/owa/ 21315927.9998\n",
      "https://apps.facebook.com/coral-isle/ 21007449.0012\n",
      "https://docs.google.com/document/d/1q2s4u1jQ4BUVT16nCr-pkW114mMEDeLiTJztWJxp2Jw/edit 20161645.0012\n",
      "https://www.speechpad.com/worker/transcribe/fe2c82a4-aacf-4853-9d33-33a15e43379b# 18831712.0007\n",
      "https://www.youtube.com/watch?v=sBSg8CwlgO8 18326827.9993\n",
      "https://web.whatsapp.com/ 18250144.0032\n",
      "https://www.netflix.com/watch/70080629?trackId=13589554 17800928.0002\n",
      "https://qtrial2016q1az1.az1.qualtrics.com/jfe/form/SV_b77lFQz2dC3Rl4h 17384058.9993\n",
      "https://www.mturk.com/HM 17346138.9976\n",
      "http://plinga.com/play#games/23/playOnline 17343981.9998\n",
      "http://www.fayettevillenc.va.gov/FAYETTEVILLENC/contact/phone_directory.asp 17313582.0\n",
      "https://apps.facebook.com/wordbattling/?fb_source=canvas_bookmark 17173356.9958\n",
      "https://www.facebook.com/?q= 17041251.998\n",
      "https://mail.google.com/mail/u/1/#search/divergent+realities/1534575253b93a46 15973946.0\n",
      "https://www.netflix.com/watch/70069654?trackId=13589554 15846004.0002\n",
      "https://www.netflix.com/watch/80065743?trackId=13589554 15698592.9993\n",
      "https://apps.facebook.com/islandexperiment/ 15441985.001\n",
      "https://mail.google.com/mail/u/0/?tab=wm#inbox 15394638.9973\n",
      "https://www.youtube.com/ 14978925.9985\n",
      "https://upenn.co1.qualtrics.com/jfe/form/SV_8oE1ysJvsGBD3gx 14973920.0\n",
      "https://forums.animez.to/ 14818501.001\n",
      "https://apps.facebook.com/brainster/?fb_source=canvas_bookmark 14805639.0032\n",
      "https://my-digitallife.att.com/learn/shop 14504135.9995\n",
      "https://www.netflix.com/watch/70152026?trackId=13589554 14452806.0005\n",
      "https://apps.facebook.com/puzzlywords/?fb_source=canvas_bookmark 14417352.0024\n",
      "https://www.youtube.com/watch?v=gyKg7xmVIKw&list=PL3tRBEVW0hiBySIHHqBen5AUm6CMoIY2J 14350691.0\n",
      "https://apps.facebook.com/coral-isle/?fb_source=sidebar_bookmark 14038131.001\n",
      "http://www.allmyvideos.net/i9wn61rrdxei 13627702.9995\n",
      "http://www.doctoroz.com/article/dr-ozs-3-day-detox-cleanse-one-sheet 13591769.0007\n",
      "https://www.reddit.com/r/explainlikeimfive/comments/4aolk0/eli5_what_do_antidepressants_do_for_people_who/ 13531295.0002\n",
      "https://www.netflix.com/watch/80065742?trackId=14272744 13418023.0002\n",
      "https://forums.animez.to/discover/unread/ 13127427.0005\n",
      "https://www.google.com/search?q=gamestop&oq=gamestop&aqs=chrome..69i57j69i60j0l2j69i60l2.3679j0j7&sourceid=chrome&ie=UTF-8 12830948.0\n",
      "http://howtomakecosmetics.com/cart 12665513.999\n",
      "https://surveys.ipsosinteractive.com/surveys/25b6acb2-de68-11e2-a28f-0800200c9a66 11810510.0017\n",
      "https://mail.aol.com/webmail-std/en-us/suite 11808497.0037\n",
      "https://intern.textbroker.com/a/teamorder-write-submit.php 11753174.0017\n",
      "https://apps.facebook.com/juicejam/?fb_source=bookmark&ref=bookmarks&count=0&fb_bmpos=_0 11575485.0022\n",
      "http://animetorrents.me/torrents.php 10913097.0\n",
      "https://forums.animez.to/profile/13-costmuffled/?status=193&type=status 10788198.0007\n",
      "http://www.livenewschat.eu/politics/?ref=fv 10694045.9998\n",
      "https://www.facebook.com/?ref=logo 10674063.0005\n",
      "https://www.netflix.com/watch/70286867?trackId=13589554 10555380.0002\n",
      "https://www.facebook.com/?ref=tn_tnmn 10546851.9988\n",
      "https://www.crowdcurio.com/experiments/13/workflow/ 10353764.0\n",
      "https://www.reddit.com/r/mturk/comments/1j5xwu/why_i_shouldnt_wake_bake_then_mturk/ 10330046.0\n",
      "https://apps.facebook.com/eontictactoe/ 10255905.0002\n",
      "https://www.youtube.com/watch?v=gLQolURWJhc 10236497.0\n",
      "http://www.livenewschat.eu/watch-live-tv/?ref=001 9939800.00171\n",
      "https://forums.animez.to/topic/359-720p-or-1080p/#comment-7226 9847961.0\n",
      "https://www.youtube.com/channel/UCDsgB5DKzIwaWSGzF8q7y2A 9679717.0\n",
      "https://www.mturk.com/mturk/findhits?match=false 9641906.00024\n",
      "https://www.sharelatex.com/project/56f6248ad63196fe60ef3677 9403092.00122\n",
      "http://nd.qualtrics.com/jfe/form/SV_cBbGwczMKOt7tJP 9369177.99854\n",
      "https://www.youtube.com/watch?v=b9-3N383eRY&list=PL3tRBEVW0hiDWl-_j3AJnyKgXKITNxoTe 9177825.99976\n",
      "http://wiki.anidb.net/w/IRC:Chii#.21addfile 8797398.0\n",
      "http://gcat.dot.state.oh.us/CrashWebHome.aspx 8769888.99927\n",
      "https://unc.az1.qualtrics.com/jfe/form/SV_eMdTQCl2mbRL0yN 8723466.99902\n",
      "http://www.amazon.com/Medela-Pump-Save-Breast-Count/dp/B00028XJNA/ref=pd_sbs_121_4?ie=UTF8&dpID=51%2BFXxMt%2B9L&dpSrc=sims&preST=_AC_UL160_SR112%2C160_&refRID=1HRAZSR2ZB5293RCRZXG 8650806.00024\n",
      "https://wlupsychology.co1.qualtrics.com/jfe/form/SV_exjp5D2bx4z1l6B 8526313.99878\n",
      "https://www.tumblr.com/new/text 8469853.0022\n",
      "https://www.youtube.com/watch?v=s-jqU-kBjiQ&list=PL3tRBEVW0hiDWl-_j3AJnyKgXKITNxoTe&index=2 8468107.0\n",
      "http://www.lowes.com/pd_103048-868-4010CM___?productId=3130073&pl=1&Ntt=flush+valves 8463571.99976\n",
      "https://apps.facebook.com/galaxylegion/?fb_source=canvas_bookmark 8403821.99878\n",
      "https://www.facebook.com/daniel.cozart.52/friends?source_ref=pb_friends_tl 8381350.99927\n"
     ]
    }
   ],
   "source": [
    "print_counter(url_to_seconds_that_cannot_be_reconstructed)"
   ]
  },
  {
   "cell_type": "code",
   "execution_count": 22,
   "metadata": {
    "collapsed": true
   },
   "outputs": [],
   "source": [
    "overall_domains_where_reconstructed_has_no_reference = Counter()\n",
    "overall_domains_where_reference_has_no_reconstructed = Counter()\n",
    "overall_urls_where_reconstructed_has_no_reference = Counter()\n",
    "overall_urls_where_reference_has_no_reconstructed = Counter()\n",
    "\n",
    "for user,data in user_to_span_alignment_data.items():\n",
    "  for k,v in data['domains_where_reconstructed_has_no_reference'].items():\n",
    "    overall_domains_where_reconstructed_has_no_reference[k] += v\n",
    "  for k,v in data['domains_where_reference_has_no_reconstructed'].items():\n",
    "    overall_domains_where_reference_has_no_reconstructed[k] += v\n",
    "  for k,v in data['urls_where_reconstructed_has_no_reference'].items():\n",
    "    overall_urls_where_reconstructed_has_no_reference[k] += v\n",
    "  for k,v in data['urls_where_reference_has_no_reconstructed'].items():\n",
    "    overall_urls_where_reference_has_no_reconstructed[k] += v\n"
   ]
  },
  {
   "cell_type": "code",
   "execution_count": null,
   "metadata": {
    "collapsed": true
   },
   "outputs": [],
   "source": []
  },
  {
   "cell_type": "code",
   "execution_count": 23,
   "metadata": {
    "collapsed": false
   },
   "outputs": [
    {
     "name": "stdout",
     "output_type": "stream",
     "text": [
      "https://www.mturk.com/mturk/externalSubmit 16332\n",
      "https://www.mturk.com/mturk/dashboard 1319\n",
      "https://www.mturk.com/mturk/previewandaccept?groupId=3SFJXQ9EG58Y3WRLXCW2QCVUYYDXDX 1191\n",
      "https://www.mturk.com/mturk/previewandaccept?groupId=35DGDVUOHKKVOAMD7VZRLQEQ0J7YPA 1147\n",
      "https://www.mturk.com/mturk/previewandaccept?groupId=3NYGPW9OUZ9VT0WI3H1AZXNS6BEZP1 1099\n",
      "https://perk.tv/video/6268/perk-app-trailers 1035\n",
      "https://www.mturk.com/mturk/checkregistration 950\n",
      "https://www.facebook.com/ 803\n",
      "https://www.mturk.com/mturk/myhits 760\n",
      "https://www.mturk.com/mturk/findhits?match=false 432\n",
      "https://mail.google.com/mail/u/0/#inbox 382\n",
      "https://mail.aol.com/38947-111/aol-6/en-us/Lite/MessageActions.aspx 335\n",
      "https://www.mturk.com/mturk/findhits?match=true 326\n",
      "https://www.reddit.com/r/HITsWorthTurkingFor/new/ 322\n",
      "https://www.mturk.com/mturk/endsignin 315\n",
      "https://www.mturk.com/mturk/viewhits?searchWords=&pageNumber=2&searchSpec=HITGroupSearch%23T%231%2310%23-1%23T%23%21only_available_hits%210%21rO0ABXQABHRydWU-%21%23%21Reward%211%21%23%21&sortType=Reward%3A1&selectedSearchType=hitgroups 286\n",
      "http://turkernation.com/search.php?do=getnew&contenttype=vBForum_Post 241\n",
      "https://mail.google.com/mail/u/0/ 226\n",
      "https://www.mturk.com/mturk/previewandaccept?groupId=3PBTVBPQ9UI5R0A3PW7WXNE8W4CLGC 205\n",
      "https://www.youtube.com/ 200\n",
      "https://www.google.com/webhp?sourceid=chrome-instant&ion=1&espv=2&ie=UTF-8 194\n",
      "http://www.news.com.au/ 193\n",
      "https://docs.google.com/document/d/1q2s4u1jQ4BUVT16nCr-pkW114mMEDeLiTJztWJxp2Jw/edit 181\n",
      "https://docs.google.com/document/d/1qhC05k7ura6BA9oMB_mWEtKFHqxbMHPDLvzDPeDmxYc/edit 165\n",
      "https://perk.tv/video/248/perk-app-trailers 158\n",
      "https://www.yahoo.com/ 149\n",
      "https://docs.google.com/document/d/1YS2cWgNie2k1lzZxol-5h0HvBk-4iEwYiXfVBFw244I/edit 145\n",
      "https://www.reddit.com/r/HITsWorthTurkingFor/ 123\n",
      "https://my.screenname.aol.com/_cqr/login/login.psp 118\n",
      "https://www.mturk.com/mturk/beginsignin 111\n",
      "https://www.google.com/?gws_rd=ssl 110\n",
      "https://www.amazon.com/ap/signin 107\n",
      "https://www.reddit.com/ 105\n",
      "https://mail.google.com/mail/ 104\n",
      "https://www.facebook.com/login.php?login_attempt=1&lwv=110 102\n",
      "https://surveys.ipsosinteractive.com/mrIWeb/mrIWeb.dll 101\n",
      "https://docs.google.com/document/d/1qhC05k7ura6BA9oMB_mWEtKFHqxbMHPDLvzDPeDmxYc/edit# 95\n",
      "https://www.mturk.com/mturk/previewandaccept?groupId=3RPY1MM0AHYRFGNHHAD9085N3TUHMC 94\n",
      "https://www.mturk.com/mturk/sortmyhits?searchSpec=HITSearch%23T%231%2325%23-1%23T%23%21Status%210%21rO0ABXQACEFzc2lnbmVk%21%23%21Deadline%211%21%23%21 92\n",
      "http://www.irazoo.com/Games/GameCaptcha.aspx?gameUrl=http://www.gamemosh.com/api/game.php?game=1i&width=550&height=500&pubid=irazo&affid=xyz&subid=[subid] 91\n",
      "http://www.cashcrate.com/home 87\n",
      "http://www.netflix.com/browse 87\n",
      "https://docs.google.com/document/d/1BfQLJTRE8P0INAweQW5YGOMu8WItKWqcA7ooUnQhOKM/edit# 86\n",
      "https://www.mturk.com/mturk/statusdetail?encodedDate=03172016 84\n",
      "https://www.mturk.com/mturk/statusdetail?encodedDate=03162016 84\n",
      "https://www.netflix.com/ 81\n",
      "http://www.theblaze.com/ 77\n",
      "http://local.cs-int-592.com:5550/companies/2511/edit?limit=50&offset=0# 76\n",
      "https://www.mturk.com/mturk/previewandaccept?groupId=329HSLC9WDXX9F2DN54ARF87CMFHGG 76\n",
      "https://www.mturk.com/mturk/welcome 72\n",
      "https://www.mturk.com/mturk/viewhits?searchWords=&pageNumber=3&searchSpec=HITGroupSearch%23T%232%2310%23-1%23T%23%21only_available_hits%210%21rO0ABXQABHRydWU-%21%23%21Reward%211%21%23%21&sortType=Reward%3A1&selectedSearchType=hitgroups 72\n",
      "https://www.mturk.com/mturk/previewandaccept?groupId=3PBTVBPQ8T2ZVBL3EQJ8J71EQZKLGC 69\n",
      "http://local.cs-int-592.com:5550/companies 67\n",
      "https://www.mturk.com/mturk/submit 67\n",
      "https://workplace.clickworker.com/en/clickworker/trainings/37389 66\n",
      "https://www.mturk.com/mturk/myhits?first 66\n",
      "https://www.mturk.com/mturk/status 65\n",
      "https://workplace.clickworker.com/en/clickworker/trainings/37389/edit 64\n",
      "http://www.bloomberg.com/ 64\n",
      "http://www.livenewschat.eu/watch-live-tv/?ref=001 63\n",
      "https://www.mturk.com/mturk/previewandaccept?groupId=3MB19ID76X8K7ANJC8CGNA2151H61P 63\n",
      "http://www.questforarrakis.com/phpBB3.1/viewonline.php?sg=0&sk=b&sd=d&start=0&sid=dc37f669cbce480b7b4a1f2d61dab171 62\n",
      "https://www.mturk.com/mturk/searchbar?selectedSearchType=hitgroups&requesterId=A2AH3935A72D7B 61\n",
      "https://docs.google.com/document/d/1mbgX-EQByKoi18WuPezARoPUJZSWuHoq3hI9IYi3JhE/edit#heading=h.ajbdgpo3bcy1 60\n",
      "http://www.earnhoney.com/en/videos/video/learning_to_cook_fillipino_buttered_shrimp_1 56\n",
      "http://www.earnhoney.com/en/videos/video/learning_to_cook_fillipino_buttered_shrimp_1?autostart=true 56\n",
      "https://www.mturk.com/mturk/findhits?match=true?hit_scraper 56\n",
      "https://tools.usps.com/go/TrackConfirmAction?tLabels=9400110200828958621435 55\n",
      "https://accounts.google.com/ServiceLoginAuth 53\n",
      "https://docs.google.com/document/d/1vhVTIYj7IOOs2uEXvZB8KhSQ-iVoYAiaypX2r47aXL4/edit# 52\n",
      "https://www.lendingclub.com/account/login.action 52\n",
      "https://www.mturk.com/mturk/checkrecognition 51\n",
      "https://docs.google.com/document/d/1YtzjIPHdU-nAGhYqz_OqQJuZtJVVs2AsMms_gW9Q3eI/edit 50\n",
      "https://docs.google.com/document/d/1bAmrSt7bt7XVFOJOj6v0wravD8VuvR5VizKsdtimR58/edit# 49\n",
      "http://www.decisiondeskhq.com/results/2016/primary/dem/president/washington/ 48\n",
      "https://docs.google.com/spreadsheets/d/1-fgCbrGod6TbmGqDHDEPzv5Xeq8y3bFllR7uey539c8/edit#gid=0 48\n",
      "http://www.amazon.com/ 46\n",
      "https://www.google.com/ 46\n",
      "https://www.youtube.com/watch?v=c6rP-YP4c5I 46\n",
      "https://m.facebook.com/home.php 45\n",
      "https://m.facebook.com/ 45\n",
      "https://hw.reddit.com/r/HITsWorthTurkingFor/ 44\n",
      "https://docs.google.com/spreadsheets/d/1WtmbrNZJtmvHH5UoPGd7_mXQIXz-mENUxcaC7npLU7U/edit#gid=0 44\n",
      "https://www.financial-net.com/cscfederal/Logon/OlbCmdSmn127 43\n",
      "https://mail.aol.com/webmail-std/en-us/suite 43\n",
      "http://www.mturkgrind.com/forums/awesome-hits.4/ 42\n",
      "https://mail.aol.com/38947-111/aol-6/en-us/Lite/MsgList.aspx 41\n",
      "https://credit.kohls.com/eCustService/faces/xhtml/signin/signin_MKC.xhtml 40\n",
      "http://surveymyopinion.researchnow.com/survey 40\n",
      "https://www.mturk.com/mturk/previewandaccept?groupId=37NNZ8MO7S6VRHEMSEGUVBLWA65EQD 39\n",
      "http://massivelyop.net/ 39\n",
      "https://www.financial-net.com/ 39\n",
      "https://www.instagram.com/lorddrac/ 39\n",
      "https://www.mturk.com/mturk/statusdetail?encodedDate=03152016 39\n",
      "https://turkopticon.ucsd.edu/main/php_search 39\n",
      "http://my.xfinity.com/?cid=xfinity_one_click_newtab 39\n",
      "https://www.facebook.com/?ref=logo 37\n",
      "https://www.google.com/voice 37\n",
      "http://www.swagbucks.com/ 37\n",
      "http://local.cs-int-592.com:5550/companies/2511/edit 37\n"
     ]
    }
   ],
   "source": [
    "print_counter(overall_urls_where_reconstructed_has_no_reference)"
   ]
  },
  {
   "cell_type": "code",
   "execution_count": 24,
   "metadata": {
    "collapsed": false
   },
   "outputs": [
    {
     "name": "stdout",
     "output_type": "stream",
     "text": [
      "https://www.mturk.com/mturk/findhits?match=true?hit_scraper 28250\n",
      "https://www.mturk.com/mturk/dashboard 27309\n",
      "chrome://newtab/ 25504\n",
      "https://www.facebook.com/ 13002\n",
      "https://www.mturk.com/mturk/findhits?match=false&hit_scraper 12793\n",
      "http://hitgrabber.net/ 11727\n",
      "https://mail.google.com/mail/u/0/#inbox 10079\n",
      "https://www.google.com/_/chrome/newtab?espv=2&ie=UTF-8 7271\n",
      "http://game.soul-arena.com/ 3946\n",
      "https://us20.chatzy.com/11920092594925 2825\n",
      "https://www.mturk.com/HM 2370\n",
      "https://mail.google.com/mail/u/1/#inbox 2272\n",
      "https://www.mturk.com/mturk/findhits?match=true?hit_scraper-dev 2091\n",
      " 1999\n",
      "https://www.mturk.com/mturk/myhits 1599\n",
      "https://calendar.google.com/calendar/render??pli=1&pli=1#main_7 1455\n",
      "https://www.facebook.com/messages/jessica.wood.106 1420\n",
      "https://www.mturk.com/mturk/findhits?match=true 1254\n",
      "https://web.whatsapp.com/ 947\n",
      "https://www.reddit.com/ 913\n",
      "https://docs.google.com/document/d/1q2s4u1jQ4BUVT16nCr-pkW114mMEDeLiTJztWJxp2Jw/edit 911\n",
      "http://sbcodez.com/ 911\n",
      "http://www.swagbucks.com/account/summary 853\n",
      "https://www.tumblr.com/dashboard 812\n",
      "https://apps.facebook.com/wordbattling/?fb_source=canvas_bookmark 770\n",
      "https://www.youtube.com/ 713\n",
      "http://play.pokemonshowdown.com/ 692\n",
      "https://mail.google.com/mail/u/0/?tab=wm#inbox 688\n",
      "https://templates.textbroker.com/mask/ymask.php 677\n",
      "https://mail.google.com/mail/u/0/#spam 674\n",
      "https://snt151.mail.live.com/?fid=flinbox 655\n",
      "https://www.mturk.com/mturk/findhits?match=false 641\n",
      "https://mail.google.com/mail/#inbox 638\n",
      "http://gcat.dot.state.oh.us/CrashWebHome.aspx 629\n",
      "https://apps.facebook.com/puzzlywords/?fb_source=canvas_bookmark 591\n",
      "https://www.facebook.com/?sk=h_chr 573\n",
      "https://mail.aol.com/webmail-std/en-us/suite 542\n",
      "http://www.swagbucks.com/ 502\n",
      "https://tweetdeck.twitter.com/# 488\n",
      "https://docs.google.com/spreadsheets/d/1UYiOaoctvReBTOZIZuEY5_BQjEWzuBJ13Fwn82UO_qY/edit#gid=0 479\n",
      "https://apps.facebook.com/coral-isle/ 472\n",
      "http://plinga.com/play#games/2/playOnline 446\n",
      "https://www.twitch.tv/teamsp00ky 444\n",
      "https://www.twitch.tv/tehjamjar 441\n",
      "https://apps.facebook.com/juicejam/?fb_source=bookmark&ref=bookmarks&count=0&fb_bmpos=_0 423\n",
      "https://docs.google.com/document/d/1BfQLJTRE8P0INAweQW5YGOMu8WItKWqcA7ooUnQhOKM/edit# 421\n",
      "https://www.twitch.tv/dotapit 420\n",
      "http://www.crichd.tv/live-sky-sports-2-uk-stream.php 401\n",
      "https://www.twitch.tv/arteezy 396\n",
      "https://www.sharelatex.com/project/56f6248ad63196fe60ef3677 394\n",
      "https://www.facebook.com/daniel.cozart.52/friends?source_ref=pb_friends_tl 392\n",
      "http://www.tomatoville.com/usercp.php 380\n",
      "https://apps.facebook.com/eontictactoe/?fb_source=bookmark&ref=bookmarks&count=0&fb_bmpos=_0 376\n",
      "https://spacing.psy.ohio-state.edu/spacing/learn.php?a_id=3Z4GS9HPNW9KZDJG37CDBOHXNWA77Q&s_id=A1640H4RXH8NZE&s_num=1 369\n",
      "https://docs.google.com/document/d/1JhMg8HoxqII5F1Auib4D24jivpHvbAlfG9Qqy-mrR3I/edit 368\n",
      "https://www.facebook.com/?ref=tn_tnmn 361\n",
      "https://www.google.com/voice/b/0#inbox 359\n",
      "http://www.livenewschat.eu/top/ 359\n",
      "https://www.skydivetemple.com/buy/admin/ 358\n",
      "http://www.sbforumz.com/t611-sbcodez-backup-location 351\n",
      "http://spellout.net/ibexexps/adam/forbid-dan-fruit/experiment.html 340\n",
      "https://forums.somethingawful.com/showthread.php?threadid=3722319&userid=0&perpage=40&pagenumber=101 330\n",
      "https://www.facebook.com/Smoke.And.Ink 328\n",
      "https://turkopticon.ucsd.edu/main/php_search 327\n",
      "https://qbo.intuit.com/app/check 325\n",
      "https://www.reddit.com/r/relationships/ 317\n",
      "https://docs.google.com/spreadsheets/d/1P2s7inAjssSheb0G1BWgK8v8Pp4q5IVXCqX4EfDEOKY/edit#gid=0 317\n",
      "https://www.twitch.tv/lirik 312\n",
      "https://docs.google.com/spreadsheets/d/1yW-nGu_EbbjknOxT1xD48z0glhk4O7G2HBDi47lUWK4/edit#gid=0 310\n",
      "https://www.facebook.com/?ref=logo 305\n",
      "https://apps.facebook.com/coral-isle/?fb_source=sidebar_bookmark 304\n",
      "https://docs.google.com/spreadsheets/d/1-fgCbrGod6TbmGqDHDEPzv5Xeq8y3bFllR7uey539c8/edit#gid=0 301\n",
      "https://www.yahoo.com/ 299\n",
      "https://www.google.co.in/_/chrome/newtab?espv=2&ie=UTF-8 295\n",
      "https://www.youtube.com/watch?v=1mQ-Xpf8Wgs 295\n",
      "https://www.reddit.com/r/HITsWorthTurkingFor/ 294\n",
      "http://slickdeals.net/ 292\n",
      "https://www.google.com/_/chrome/newtab?espv=2&es_th=1&ie=UTF-8 292\n",
      "https://www.mturk.com/mturk/previewandaccept?groupId=3PE844HNTHWB0S4K67AGM54PL61KAS 291\n",
      "https://www.rewardshopping.com/slb 290\n",
      "https://www.twitch.tv/mintmaus 285\n",
      "https://www.twitch.tv/sing_sing 282\n",
      "https://forums.animez.to/ 282\n",
      "http://www.bbc.co.uk/iplayer/episode/b07556vt/the-graham-norton-show-series-19-batman-extra 281\n",
      "http://www.swagbucks.com/?cmd=gn-jun-frame&acct=1 277\n",
      "https://www.twitch.tv/directory/following 275\n",
      "https://www.facebook.com/?q= 274\n",
      "http://www.hitgrabber.net/ 273\n",
      "chrome://downloads/ 273\n",
      "https://www.youtube.com/feed/subscriptions 268\n",
      "https://www.reddit.com/r/ffxiv/ 268\n",
      "https://surveys.ipsosinteractive.com/surveys/25b6acb2-de68-11e2-a28f-0800200c9a66 267\n",
      "https://intern.textbroker.com/a/teamorder-write-submit.php 267\n",
      "https://www.mturk.com/mturk/searchbar?selectedSearchType=hitgroups&searchWords=p9r&minReward=0.00&x=8&y=14 264\n",
      "http://econusyd.az1.qualtrics.com/jfe/form/SV_7ZKTrSg22NJ12WF 255\n",
      "http://www.michigantrafficcrashfacts.org/datatool/build.php 251\n",
      "https://www.mturk.com/mturk/continue?hitId=3TDXMTX3CBU3LQEIVSDLZ0VT29R6I0 250\n",
      "https://www.mturk.com/mturk/previewandaccept?groupId=3TCGLRK8ZG9BHK11B2DJ4OC92SQQZ6 248\n",
      "https://www.twitch.tv/ilios72 247\n",
      "http://www.pandora.com/ 246\n"
     ]
    }
   ],
   "source": [
    "print_counter(overall_urls_where_reference_has_no_reconstructed)"
   ]
  },
  {
   "cell_type": "code",
   "execution_count": 25,
   "metadata": {
    "collapsed": false
   },
   "outputs": [
    {
     "name": "stdout",
     "output_type": "stream",
     "text": [
      "www.mturk.com 39196\n",
      "www.google.com 4514\n",
      "www.youtube.com 3399\n",
      "www.facebook.com 2981\n",
      "www.reddit.com 2209\n",
      "i.imgur.com 2016\n",
      "perk.tv 1894\n",
      "docs.google.com 1599\n",
      "mail.google.com 1320\n",
      "imgur.com 1213\n",
      "i.ytimg.com 947\n",
      "mail.aol.com 796\n",
      "www.amazon.com 730\n",
      "www.mturkgrind.com 727\n",
      "mturkforum.com 593\n",
      "turkernation.com 422\n",
      "turkopticon.ucsd.edu 363\n",
      "www.yelp.com 338\n",
      "www.netflix.com 331\n",
      "local.cs-int-592.com:5550 327\n",
      "www.surveymonkey.com 307\n",
      "www.ebay.com 298\n",
      "www.bing.com 257\n",
      "www.earnhoney.com 250\n",
      "hw.reddit.com 235\n",
      "www.host2inger.com 225\n",
      "www.lipstickalley.com 204\n",
      "thewatchseries.to 199\n",
      "www.news.com.au 199\n",
      "surveys.ipsosinteractive.com 177\n",
      "www.playstationtrophies.org 176\n",
      "buffer.com 175\n",
      "my.screenname.aol.com 175\n",
      "www.yahoo.com 172\n",
      "www.irazoo.com 163\n",
      "upload.wikimedia.org 160\n",
      "accounts.google.com 157\n",
      "gfycat.com 156\n",
      "www.instagram.com 153\n",
      "www.tohosting.tk 149\n",
      "www.google.co.in 147\n",
      "en.wikipedia.org 145\n",
      "workplace.clickworker.com 131\n",
      "www.lendingclub.com 130\n",
      "payments.amazon.com 129\n",
      "mdmarch2016.sawtoothsoftware.com 125\n",
      "us-mg5.mail.yahoo.com 123\n",
      "www.gasbuddy.com 121\n",
      "twitter.com 121\n",
      "www.swagbucks.com 121\n",
      "www.buzzfeed.com 119\n",
      "portland.craigslist.org 114\n",
      "m.facebook.com 113\n",
      "www.financial-net.com 111\n",
      "www.cashcrate.com 109\n",
      "www.twitch.tv 107\n",
      "www.thinkgeek.com 104\n",
      "www.hotnewhiphop.com 103\n",
      "www.wish.com 103\n",
      "personalityfactors.net 103\n",
      "www.paypal.com 101\n",
      "www.mturkcrowd.com 101\n",
      "www.hookah-shisha.com 95\n",
      "www.surveygizmo.com 92\n",
      "requester.mturk.com 91\n",
      "www.makeupalley.com 90\n",
      "chrome.google.com 88\n",
      "www.linkedin.com 88\n",
      "soundcloud.com 87\n",
      "chicago.craigslist.org 85\n",
      "vitals-2.crowdcomputingsystems.com 81\n",
      "www.inboxdollars.com 81\n",
      "www.theblaze.com 80\n",
      "drive.google.com 75\n",
      "www.imdb.com 75\n",
      "www.master-net.tk 72\n",
      "www.ohio.edu 71\n",
      "outlook.live.com 71\n",
      "surveymyopinion.researchnow.com 70\n",
      "www.walmartmoneycard.com 69\n",
      "www.myfitnesspal.com 68\n",
      "login.live.com 67\n",
      "www.bloomberg.com 67\n",
      "www.artcleaning.co.uk 66\n",
      "www.pinterest.com 66\n",
      "apps.facebook.com 66\n",
      "www.samplicio.us 66\n",
      "www.livenewschat.eu 65\n",
      "www.gameinformer.com 65\n",
      "www.questforarrakis.com 64\n",
      "news.google.com 64\n",
      "tools.usps.com 63\n",
      "ibotta.com 63\n",
      "forums.animez.to 63\n",
      "www.perceptionstudies.com 62\n",
      "play.google.com 62\n",
      "www.rackspace.com 62\n",
      "i1.ytimg.com 61\n",
      "www.zappos.com 61\n",
      "espn.go.com 59\n"
     ]
    }
   ],
   "source": [
    "print_counter(overall_domains_where_reconstructed_has_no_reference)"
   ]
  },
  {
   "cell_type": "code",
   "execution_count": 26,
   "metadata": {
    "collapsed": false
   },
   "outputs": [
    {
     "name": "stdout",
     "output_type": "stream",
     "text": [
      "www.mturk.com 121627\n",
      "www.facebook.com 30306\n",
      "www.reddit.com 28961\n",
      "www.youtube.com 26775\n",
      "v2.decipherinc.com 23656\n",
      "www.netflix.com 19701\n",
      "docs.google.com 17475\n",
      "horriblesubs.info 17356\n",
      "daemo.herokuapp.com 15792\n",
      "www.udemy.com 14305\n",
      "yoga80.com 13550\n",
      "cmu.qualtrics.com 12173\n",
      "www.mturkcrowd.com 11747\n",
      "www.livenewschat.eu 10633\n",
      "mail.google.com 8221\n",
      "www.ebay.com 7932\n",
      "www.mycokerewards.com 5277\n",
      "www.flexjobs.com 5019\n",
      "kat.cr 4957\n",
      "turkitron.com 4809\n",
      "sites.google.com 4800\n",
      "turkopticon.ucsd.edu 4792\n",
      "dragonage.wikia.com 4699\n",
      "membershipwireless.com 4337\n",
      "www.hulu.com 4084\n",
      "www.businessinsider.com 3863\n",
      "www.countrygeneralstore.com 3809\n",
      "espn.go.com 3610\n",
      "www.myfxbook.com 3595\n",
      "www.classmates.com 3479\n",
      "funniness.science 3434\n",
      "mail.aol.com 3206\n",
      "us.anno-online.com 3189\n",
      "www.netmeds.com 3064\n",
      "www.crediblebh.com 3043\n",
      "howtomakecosmetics.com 2899\n",
      "www.linkedin.com 2878\n",
      "uga.view.usg.edu 2876\n",
      "www.yahoo.com 2823\n",
      "www.newgrounds.com 2786\n",
      "www.clickworker.com 2777\n",
      "boards.na.leagueoflegends.com 2583\n",
      "vodlocker.com 2489\n",
      "www.kmtv.com 2477\n",
      "www.cbs.com 2269\n",
      "f4mail.rediff.com 2193\n",
      "www.etsy.com 2120\n",
      "meh.com 2101\n",
      "www.algebra.com 2065\n",
      "www.bing.com 1983\n",
      "apps.facebook.com 1790\n",
      "www.offbeat.co.uk 1761\n",
      "perk.tv 1650\n",
      "jacksonville.craigslist.org 1626\n",
      "msuccas.co1.qualtrics.com 1469\n",
      "www.humanmetrics.com 1327\n",
      "stlouis.cardinals.mlb.com 1203\n",
      "geekhack.org 1154\n",
      "www.mobilityworks.com 948\n",
      "www.streamate.com 910\n",
      "na.finalfantasyxiv.com 890\n",
      "us-mg4.mail.yahoo.com 889\n",
      "saveseattleschools.blogspot.com 862\n",
      "www.quora.com 846\n",
      "fs17.formsite.com 786\n",
      "onlinebanking.usbank.com 730\n",
      "www.williamsoncosmeticcenter.com 670\n",
      "us2.admin.mailchimp.com 523\n",
      "mturkforum.com 519\n",
      "lotto.pch.com 498\n",
      "www.google.com 440\n",
      "us-mg6.mail.yahoo.com 405\n",
      "www.mturkgrind.com 403\n",
      "my.ebay.com 398\n",
      "www.allyou.com 378\n",
      "greasyfork.org 373\n",
      "tmi.stanford.edu 373\n",
      "tv.verizon.com 283\n",
      "www.paypal.com 261\n",
      "ilearn.sfsu.edu 189\n",
      "www.ifoloaeveht.appspot.com 184\n",
      "research.millisecond.com 160\n",
      " 142\n",
      "weinberg.co1.qualtrics.com 132\n",
      "heidi.deviantart.com 122\n",
      "www.cashcrate.com 114\n",
      "www.crunchyroll.com 109\n",
      "www.surveygizmo.com 103\n",
      "www.sunpass.com 92\n",
      "www.psy.plymouth.ac.uk 88\n",
      "ezlmappdc1f.adp.com 81\n",
      "gyazo.com 73\n",
      "www.deepakkashyap.com 68\n",
      "survey.qualtrics.com 66\n",
      "stanfordhcigfx.slack.com 61\n",
      "www.gaadi.com 60\n",
      "www.ncaa.com 54\n",
      "christianactioncommunity.org 52\n",
      "rotman.az1.qualtrics.com 45\n",
      "buffalo.qualtrics.com 34\n"
     ]
    }
   ],
   "source": [
    "print_counter(overall_domains_where_reference_has_no_reconstructed)"
   ]
  },
  {
   "cell_type": "code",
   "execution_count": null,
   "metadata": {
    "collapsed": false
   },
   "outputs": [],
   "source": []
  },
  {
   "cell_type": "code",
   "execution_count": null,
   "metadata": {
    "collapsed": false
   },
   "outputs": [],
   "source": []
  },
  {
   "cell_type": "code",
   "execution_count": 27,
   "metadata": {
    "collapsed": false
   },
   "outputs": [],
   "source": [
    "user_to_evaluation_stats = {}\n",
    "\n",
    "for user in list_users():\n",
    "  try:\n",
    "    stats = get_evaluation_stats_for_user(user)\n",
    "  except:\n",
    "    continue\n",
    "  user_to_evaluation_stats[user] = stats\n"
   ]
  },
  {
   "cell_type": "code",
   "execution_count": 28,
   "metadata": {
    "collapsed": false
   },
   "outputs": [
    {
     "name": "stdout",
     "output_type": "stream",
     "text": [
      "Counter({'both_inactive': 88961569, 'ref_active_but_rec_inactive': 10818171, 'correct_url': 6745088, 'incorrect_domain': 2048236, 'ref_inactive_but_rec_active': 1286180, 'correct_domain': 695229})\n"
     ]
    }
   ],
   "source": [
    "overall_evaluation_stats = Counter()\n",
    "for user,stats in user_to_evaluation_stats.items():\n",
    "  for k,v in stats.items():\n",
    "    overall_evaluation_stats[k] += v\n",
    "\n",
    "print overall_evaluation_stats"
   ]
  },
  {
   "cell_type": "code",
   "execution_count": null,
   "metadata": {
    "collapsed": true
   },
   "outputs": [],
   "source": []
  },
  {
   "cell_type": "code",
   "execution_count": null,
   "metadata": {
    "collapsed": true
   },
   "outputs": [],
   "source": []
  },
  {
   "cell_type": "code",
   "execution_count": 29,
   "metadata": {
    "collapsed": false
   },
   "outputs": [
    {
     "data": {
      "text/plain": [
       "\"\\ndef get_users_with_tab_focus_data():\\n  users_with_tab_focus_data = []\\n\\n  for user in list_users():\\n    if not sdir_exists('tab_focus_times_for_user/' + user + '.json'):\\n      continue\\n    tab_focus_times = get_tab_focus_times_for_user(user)\\n    ordered_visits = get_history_ordered_visits_for_user(user)\\n    start_time = tab_focus_times[0]['start']\\n    ordered_visits_after_start = [x for x in ordered_visits if x['visitTime'] > start_time]\\n    #print len(tab_focus_times)\\n    if len(tab_focus_times) > 2000 and len(ordered_visits_after_start) > 400:\\n      users_with_tab_focus_data.append(user)\\n  return users_with_tab_focus_data\\n\""
      ]
     },
     "execution_count": 29,
     "metadata": {},
     "output_type": "execute_result"
    }
   ],
   "source": [
    "'''\n",
    "def get_users_with_tab_focus_data():\n",
    "  users_with_tab_focus_data = []\n",
    "\n",
    "  for user in list_users():\n",
    "    if not sdir_exists('tab_focus_times_for_user/' + user + '.json'):\n",
    "      continue\n",
    "    tab_focus_times = get_tab_focus_times_for_user(user)\n",
    "    ordered_visits = get_history_ordered_visits_for_user(user)\n",
    "    start_time = tab_focus_times[0]['start']\n",
    "    ordered_visits_after_start = [x for x in ordered_visits if x['visitTime'] > start_time]\n",
    "    #print len(tab_focus_times)\n",
    "    if len(tab_focus_times) > 2000 and len(ordered_visits_after_start) > 400:\n",
    "      users_with_tab_focus_data.append(user)\n",
    "  return users_with_tab_focus_data\n",
    "'''\n",
    "#print len(users_with_tab_focus_data)"
   ]
  },
  {
   "cell_type": "code",
   "execution_count": null,
   "metadata": {
    "collapsed": false
   },
   "outputs": [],
   "source": []
  },
  {
   "cell_type": "code",
   "execution_count": null,
   "metadata": {
    "collapsed": true
   },
   "outputs": [],
   "source": []
  },
  {
   "cell_type": "code",
   "execution_count": 30,
   "metadata": {
    "collapsed": false
   },
   "outputs": [],
   "source": [
    "#user = 'dwCCD1uofp' # doing very poorly with this user\n",
    "#user = 'UrZvGUsI8N'\n",
    "#user = users_with_tab_focus_data[0]\n",
    "#print user\n",
    "#url_to_visits = get_history_visits_for_user(user)"
   ]
  },
  {
   "cell_type": "code",
   "execution_count": null,
   "metadata": {
    "collapsed": true
   },
   "outputs": [],
   "source": []
  },
  {
   "cell_type": "code",
   "execution_count": null,
   "metadata": {
    "collapsed": false
   },
   "outputs": [],
   "source": []
  },
  {
   "cell_type": "code",
   "execution_count": 31,
   "metadata": {
    "collapsed": false
   },
   "outputs": [
    {
     "data": {
      "text/plain": [
       "'\\ndef compute_tab_focus_times_with_events_for_user(user):\\n  current_session_tracker = SessionTracker(store_events=True)\\n  for line in get_log_with_mlog_active_times_for_user(user):\\n    current_session_tracker.process_input(uncompress_data_subfields(line))\\n  current_session_tracker.end_input()\\n  return current_session_tracker.get_output()\\n'"
      ]
     },
     "execution_count": 31,
     "metadata": {},
     "output_type": "execute_result"
    }
   ],
   "source": [
    "'''\n",
    "def compute_tab_focus_times_with_events_for_user(user):\n",
    "  current_session_tracker = SessionTracker(store_events=True)\n",
    "  for line in get_log_with_mlog_active_times_for_user(user):\n",
    "    current_session_tracker.process_input(uncompress_data_subfields(line))\n",
    "  current_session_tracker.end_input()\n",
    "  return current_session_tracker.get_output()\n",
    "'''"
   ]
  },
  {
   "cell_type": "code",
   "execution_count": 32,
   "metadata": {
    "collapsed": false
   },
   "outputs": [],
   "source": [
    "#tab_focus_times_with_events = compute_tab_focus_times_with_events_for_user(user)\n"
   ]
  },
  {
   "cell_type": "code",
   "execution_count": 33,
   "metadata": {
    "collapsed": false
   },
   "outputs": [
    {
     "data": {
      "text/plain": [
       "'\\nfor line in get_log_with_mlog_active_times_for_user(user):\\n  data = uncompress_data_subfields(line)\\n  url = get_focused_tab(data)\\n  if url != None:\\n    print url\\n    print data\\n    break\\n'"
      ]
     },
     "execution_count": 33,
     "metadata": {},
     "output_type": "execute_result"
    }
   ],
   "source": [
    "'''\n",
    "for line in get_log_with_mlog_active_times_for_user(user):\n",
    "  data = uncompress_data_subfields(line)\n",
    "  url = get_focused_tab(data)\n",
    "  if url != None:\n",
    "    print url\n",
    "    print data\n",
    "    break\n",
    "'''"
   ]
  },
  {
   "cell_type": "code",
   "execution_count": 34,
   "metadata": {
    "collapsed": false
   },
   "outputs": [],
   "source": [
    "#print len(tab_focus_times_with_events)\n",
    "#tab_focus_times_with_events[0]"
   ]
  },
  {
   "cell_type": "code",
   "execution_count": 35,
   "metadata": {
    "collapsed": false
   },
   "outputs": [],
   "source": [
    "#tab_focus_times = get_tab_focus_times_for_user(user)\n",
    "#print len(tab_focus_times)\n",
    "#print tab_focus_times[0]\n",
    "#print tab_focus_times"
   ]
  },
  {
   "cell_type": "code",
   "execution_count": 36,
   "metadata": {
    "collapsed": false
   },
   "outputs": [],
   "source": [
    "#ordered_visits = get_history_ordered_visits_for_user(user)\n",
    "#first_site = url_to_visits.keys()[0]\n",
    "#print url_to_visits[first_site]"
   ]
  },
  {
   "cell_type": "code",
   "execution_count": 37,
   "metadata": {
    "collapsed": false
   },
   "outputs": [
    {
     "data": {
      "text/plain": [
       "\"\\nordered_visits_after_start = []\\nfor visit in ordered_visits:\\n  time = visit['visitTime']\\n  #if 1458171960840.0 <= time <= 1458172165207.0:\\n  #  print visit\\n  if time >= 1458171960840.0:\\n    ordered_visits_after_start.append(visit)\\n\""
      ]
     },
     "execution_count": 37,
     "metadata": {},
     "output_type": "execute_result"
    }
   ],
   "source": [
    "'''\n",
    "ordered_visits_after_start = []\n",
    "for visit in ordered_visits:\n",
    "  time = visit['visitTime']\n",
    "  #if 1458171960840.0 <= time <= 1458172165207.0:\n",
    "  #  print visit\n",
    "  if time >= 1458171960840.0:\n",
    "    ordered_visits_after_start.append(visit)\n",
    "'''"
   ]
  },
  {
   "cell_type": "code",
   "execution_count": 38,
   "metadata": {
    "collapsed": false,
    "scrolled": true
   },
   "outputs": [],
   "source": [
    "#print len(ordered_visits_after_start)"
   ]
  },
  {
   "cell_type": "code",
   "execution_count": 39,
   "metadata": {
    "collapsed": false
   },
   "outputs": [
    {
     "data": {
      "text/plain": [
       "'\\ndef to_visit_lengths(ordered_visits):\\n  focus_time_reconstructor = ReconstructFocusTimesBaseline()\\n  for visit in ordered_visits:\\n    focus_time_reconstructor.process_history_line(visit)\\n  return focus_time_reconstructor.get_output()\\n\\nreconstructed_visit_lengths = to_visit_lengths(ordered_visits)\\n'"
      ]
     },
     "execution_count": 39,
     "metadata": {},
     "output_type": "execute_result"
    }
   ],
   "source": [
    "'''\n",
    "def to_visit_lengths(ordered_visits):\n",
    "  focus_time_reconstructor = ReconstructFocusTimesBaseline()\n",
    "  for visit in ordered_visits:\n",
    "    focus_time_reconstructor.process_history_line(visit)\n",
    "  return focus_time_reconstructor.get_output()\n",
    "\n",
    "reconstructed_visit_lengths = to_visit_lengths(ordered_visits)\n",
    "'''"
   ]
  },
  {
   "cell_type": "code",
   "execution_count": 40,
   "metadata": {
    "collapsed": false
   },
   "outputs": [],
   "source": [
    "#print len(reconstructed_visit_lengths)"
   ]
  },
  {
   "cell_type": "code",
   "execution_count": null,
   "metadata": {
    "collapsed": false
   },
   "outputs": [],
   "source": []
  },
  {
   "cell_type": "code",
   "execution_count": null,
   "metadata": {
    "collapsed": true
   },
   "outputs": [],
   "source": []
  },
  {
   "cell_type": "code",
   "execution_count": null,
   "metadata": {
    "collapsed": false
   },
   "outputs": [],
   "source": [
    "\n",
    "\n"
   ]
  },
  {
   "cell_type": "code",
   "execution_count": 41,
   "metadata": {
    "collapsed": false
   },
   "outputs": [],
   "source": [
    "#print ref_start_time"
   ]
  },
  {
   "cell_type": "code",
   "execution_count": 42,
   "metadata": {
    "collapsed": false
   },
   "outputs": [],
   "source": [
    "#print evaluated_tab_focus_times[0]"
   ]
  },
  {
   "cell_type": "code",
   "execution_count": 43,
   "metadata": {
    "collapsed": false
   },
   "outputs": [
    {
     "data": {
      "text/plain": [
       "\"\\nfor x in reconstructed_visit_lengths:\\n  url = x['url']\\n  if 'tmi.stanford.edu' in url:\\n    print x\\n    break\\n\""
      ]
     },
     "execution_count": 43,
     "metadata": {},
     "output_type": "execute_result"
    }
   ],
   "source": [
    "'''\n",
    "for x in reconstructed_visit_lengths:\n",
    "  url = x['url']\n",
    "  if 'tmi.stanford.edu' in url:\n",
    "    print x\n",
    "    break\n",
    "'''"
   ]
  },
  {
   "cell_type": "code",
   "execution_count": 44,
   "metadata": {
    "collapsed": false
   },
   "outputs": [],
   "source": [
    "#print len(evaluated_reconstructed_visits)\n",
    "#print len(evaluated_tab_focus_times)"
   ]
  },
  {
   "cell_type": "code",
   "execution_count": 45,
   "metadata": {
    "collapsed": false
   },
   "outputs": [],
   "source": [
    "#def "
   ]
  },
  {
   "cell_type": "code",
   "execution_count": 46,
   "metadata": {
    "collapsed": false
   },
   "outputs": [],
   "source": [
    "#print evaluated_reconstructed_visits[0]\n",
    "#print evaluated_tab_focus_times[2]\n",
    "#print evaluated_reconstructed_visits[-1]\n",
    "#print evaluated_tab_focus_times[-1]"
   ]
  },
  {
   "cell_type": "code",
   "execution_count": null,
   "metadata": {
    "collapsed": false
   },
   "outputs": [],
   "source": [
    "\n",
    "\n"
   ]
  },
  {
   "cell_type": "code",
   "execution_count": 47,
   "metadata": {
    "collapsed": false
   },
   "outputs": [],
   "source": [
    "#print len(result_reference.get_output())\n",
    "#print len(result_reconstructed.get_output())"
   ]
  },
  {
   "cell_type": "code",
   "execution_count": null,
   "metadata": {
    "collapsed": false
   },
   "outputs": [],
   "source": []
  },
  {
   "cell_type": "code",
   "execution_count": null,
   "metadata": {
    "collapsed": false
   },
   "outputs": [],
   "source": []
  },
  {
   "cell_type": "code",
   "execution_count": null,
   "metadata": {
    "collapsed": true
   },
   "outputs": [],
   "source": []
  },
  {
   "cell_type": "code",
   "execution_count": null,
   "metadata": {
    "collapsed": false,
    "scrolled": true
   },
   "outputs": [],
   "source": []
  },
  {
   "cell_type": "code",
   "execution_count": 48,
   "metadata": {
    "collapsed": false
   },
   "outputs": [
    {
     "data": {
      "text/plain": [
       "\"\\nfor ref_answer,rec_answer in zip(result_reference.get_output(), result_reconstructed.get_output())[:1000]:\\n  ref_domain = 'None'\\n  rec_domain = 'None'\\n  if ref_answer != 0:\\n    ref_url = result_reference.get_url_for_index(ref_answer)\\n    ref_domain = url_to_domain(ref_url)\\n  if rec_answer != 0:\\n    rec_url = result_reconstructed.get_url_for_index(rec_answer)\\n    rec_domain = url_to_domain(rec_url)\\n  print ref_domain, rec_domain\\n\""
      ]
     },
     "execution_count": 48,
     "metadata": {},
     "output_type": "execute_result"
    }
   ],
   "source": [
    "'''\n",
    "for ref_answer,rec_answer in zip(result_reference.get_output(), result_reconstructed.get_output())[:1000]:\n",
    "  ref_domain = 'None'\n",
    "  rec_domain = 'None'\n",
    "  if ref_answer != 0:\n",
    "    ref_url = result_reference.get_url_for_index(ref_answer)\n",
    "    ref_domain = url_to_domain(ref_url)\n",
    "  if rec_answer != 0:\n",
    "    rec_url = result_reconstructed.get_url_for_index(rec_answer)\n",
    "    rec_domain = url_to_domain(rec_url)\n",
    "  print ref_domain, rec_domain\n",
    "'''"
   ]
  },
  {
   "cell_type": "code",
   "execution_count": null,
   "metadata": {
    "collapsed": true
   },
   "outputs": [],
   "source": []
  },
  {
   "cell_type": "code",
   "execution_count": 49,
   "metadata": {
    "collapsed": false
   },
   "outputs": [],
   "source": [
    "#for x in evaluated_reconstructed_visits:\n",
    "#  print x"
   ]
  },
  {
   "cell_type": "code",
   "execution_count": 50,
   "metadata": {
    "collapsed": false
   },
   "outputs": [],
   "source": [
    "#for x in evaluated_tab_focus_times:\n",
    "#  print x"
   ]
  },
  {
   "cell_type": "code",
   "execution_count": 51,
   "metadata": {
    "collapsed": false
   },
   "outputs": [],
   "source": [
    "#for x in reconstructed_visit_lengths:\n",
    "#  url = x['url']\n",
    "#  if url == 'https://www.mturk.com/mturk/continue?hitId=3ZY8KE4ISJ42CAV8NVJ18F1PI9SQVJ':\n",
    "#    print x"
   ]
  },
  {
   "cell_type": "code",
   "execution_count": 52,
   "metadata": {
    "collapsed": false
   },
   "outputs": [],
   "source": [
    "#for x in tab_focus_times:\n",
    "#  url = x['url']\n",
    "#  if url == 'https://www.mturk.com/mturk/continue?hitId=3ZY8KE4ISJ42CAV8NVJ18F1PI9SQVJ':\n",
    "#    print x"
   ]
  },
  {
   "cell_type": "code",
   "execution_count": null,
   "metadata": {
    "collapsed": false
   },
   "outputs": [],
   "source": []
  },
  {
   "cell_type": "code",
   "execution_count": 53,
   "metadata": {
    "collapsed": false
   },
   "outputs": [
    {
     "data": {
      "text/plain": [
       "\"\\ndef to_visit_lengths(ordered_visits):\\n  output = []\\n  for item,idx in ordered_visits:\\n    url = item['url']\\n    visit_time = item['visitTime'] # timestamp in milliseconds\\n    result = {'url': url, 'start': visit_time, 'active': visit_time}\\n    visit_duration = 30*1000 # 30 seconds in milliseconds\\n    if idx < len(ordered_visits):\\n      next_item = ordered_visits[idx+1]\\n      next_visit_time = next_item['visitTime']\\n      time_until_next_visit = next_visit_time - visit_time\\n      if visit_duration > time_until_next_visit: # more than 30 minutes until next visit\\n        \\n      visit_duration = min(visit_duration, time_until_next_visit)\\n    output.append({'url': url, 'start': visit_time, })\\n\""
      ]
     },
     "execution_count": 53,
     "metadata": {},
     "output_type": "execute_result"
    }
   ],
   "source": [
    "\n",
    "'''\n",
    "def to_visit_lengths(ordered_visits):\n",
    "  output = []\n",
    "  for item,idx in ordered_visits:\n",
    "    url = item['url']\n",
    "    visit_time = item['visitTime'] # timestamp in milliseconds\n",
    "    result = {'url': url, 'start': visit_time, 'active': visit_time}\n",
    "    visit_duration = 30*1000 # 30 seconds in milliseconds\n",
    "    if idx < len(ordered_visits):\n",
    "      next_item = ordered_visits[idx+1]\n",
    "      next_visit_time = next_item['visitTime']\n",
    "      time_until_next_visit = next_visit_time - visit_time\n",
    "      if visit_duration > time_until_next_visit: # more than 30 minutes until next visit\n",
    "        \n",
    "      visit_duration = min(visit_duration, time_until_next_visit)\n",
    "    output.append({'url': url, 'start': visit_time, })\n",
    "'''"
   ]
  }
 ],
 "metadata": {
  "kernelspec": {
   "display_name": "Python 2",
   "language": "python",
   "name": "python2"
  },
  "language_info": {
   "codemirror_mode": {
    "name": "ipython",
    "version": 2
   },
   "file_extension": ".py",
   "mimetype": "text/x-python",
   "name": "python",
   "nbconvert_exporter": "python",
   "pygments_lexer": "ipython2",
   "version": "2.7.11"
  }
 },
 "nbformat": 4,
 "nbformat_minor": 0
}
