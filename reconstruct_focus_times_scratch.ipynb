{
 "cells": [
  {
   "cell_type": "code",
   "execution_count": 1,
   "metadata": {
    "collapsed": false
   },
   "outputs": [],
   "source": [
    "from tmilib import *"
   ]
  },
  {
   "cell_type": "code",
   "execution_count": 2,
   "metadata": {
    "collapsed": false
   },
   "outputs": [],
   "source": [
    "from reconstruct_focus_times_common import *\n",
    "from reconstruct_focus_times import ReconstructFocusTimesBaseline\n",
    "from session_tracker import get_focused_tab"
   ]
  },
  {
   "cell_type": "code",
   "execution_count": 3,
   "metadata": {
    "collapsed": false
   },
   "outputs": [
    {
     "data": {
      "text/plain": [
       "\"\\nfor user in list_users():\\n  ordered_visits = get_history_ordered_visits_for_user(user)\\n  if len(ordered_visits) == 0:\\n    continue\\n  last_visit = ordered_visits[-1]\\n  last_visit_time = float(last_visit['visitTime']) / 1000.0\\n  print user, datetime.datetime.fromtimestamp(last_visit_time)\\n\""
      ]
     },
     "execution_count": 3,
     "metadata": {},
     "output_type": "execute_result"
    }
   ],
   "source": [
    "'''\n",
    "for user in list_users():\n",
    "  ordered_visits = get_history_ordered_visits_for_user(user)\n",
    "  if len(ordered_visits) == 0:\n",
    "    continue\n",
    "  last_visit = ordered_visits[-1]\n",
    "  last_visit_time = float(last_visit['visitTime']) / 1000.0\n",
    "  print user, datetime.datetime.fromtimestamp(last_visit_time)\n",
    "'''"
   ]
  },
  {
   "cell_type": "code",
   "execution_count": 4,
   "metadata": {
    "collapsed": false
   },
   "outputs": [
    {
     "data": {
      "text/plain": [
       "\"\\nfor user in list_users():\\n  tab_focus_times = get_tab_focus_times_for_user(user)\\n  if len(tab_focus_times) == 0:\\n    continue\\n  last_visit = tab_focus_times[-1]\\n  last_visit_time = float(last_visit['end']) / 1000.0\\n  print user, datetime.datetime.fromtimestamp(last_visit_time)\\n\""
      ]
     },
     "execution_count": 4,
     "metadata": {},
     "output_type": "execute_result"
    }
   ],
   "source": [
    "'''\n",
    "for user in list_users():\n",
    "  tab_focus_times = get_tab_focus_times_for_user(user)\n",
    "  if len(tab_focus_times) == 0:\n",
    "    continue\n",
    "  last_visit = tab_focus_times[-1]\n",
    "  last_visit_time = float(last_visit['end']) / 1000.0\n",
    "  print user, datetime.datetime.fromtimestamp(last_visit_time)\n",
    "'''"
   ]
  },
  {
   "cell_type": "code",
   "execution_count": null,
   "metadata": {
    "collapsed": false
   },
   "outputs": [],
   "source": []
  },
  {
   "cell_type": "code",
   "execution_count": null,
   "metadata": {
    "collapsed": true
   },
   "outputs": [],
   "source": []
  },
  {
   "cell_type": "code",
   "execution_count": null,
   "metadata": {
    "collapsed": true
   },
   "outputs": [],
   "source": []
  },
  {
   "cell_type": "code",
   "execution_count": null,
   "metadata": {
    "collapsed": true
   },
   "outputs": [],
   "source": []
  },
  {
   "cell_type": "code",
   "execution_count": 5,
   "metadata": {
    "collapsed": false
   },
   "outputs": [
    {
     "data": {
      "text/plain": [
       "'\\ndef get_evaluation_stats_for_user(user):\\n  #evaluated_tab_focus_times,evaluated_reconstructed_tab_focus_times = get_evaluated_reference_and_reconstructed_focus_times_for_user(user)\\n  #if len(evaluated_reconstructed_tab_focus_times) == 0 or len(evaluated_tab_focus_times) == 0:\\n  #  return {}\\n  tab_focus_times = get_tab_focus_times_for_user(user)\\n  reconstructed_tab_focus_times = list(get_reconstruct_focus_times_baseline_for_user(user))\\n  if len(tab_focus_times) == 0 or len(reconstructed_tab_focus_times) == 0:\\n    return {}\\n  ref_start_time = max(get_earliest_start_time(tab_focus_times), get_earliest_start_time(reconstructed_tab_focus_times))\\n  ref_end_time = min(get_last_end_time(tab_focus_times), get_last_end_time(reconstructed_tab_focus_times))\\n  evaluated_reconstructed_tab_focus_times = ignore_all_before_start_or_after_end(reconstructed_tab_focus_times, ref_start_time, ref_end_time)\\n  evaluated_tab_focus_times = ignore_all_before_start_or_after_end(tab_focus_times, ref_start_time, ref_end_time)\\n  result_reference = second_to_active_url(evaluated_tab_focus_times, ref_start_time, ref_end_time)\\n  result_reconstructed = second_to_active_url(evaluated_reconstructed_tab_focus_times, ref_start_time, ref_end_time)\\n  return evaluation_stats_for_reconstruction(result_reference, result_reconstructed)\\n  #print tab_focus_times[0].keys()\\n  #print list(reconstructed_tab_focus_times)[0].keys()\\n'"
      ]
     },
     "execution_count": 5,
     "metadata": {},
     "output_type": "execute_result"
    }
   ],
   "source": [
    "def get_evaluated_reference_and_reconstructed_focus_times_for_user(user):\n",
    "  tab_focus_times = get_tab_focus_times_for_user(user)\n",
    "  reconstructed_tab_focus_times = list(get_reconstruct_focus_times_baseline_for_user(user))\n",
    "  if len(tab_focus_times) == 0 or len(reconstructed_tab_focus_times) == 0:\n",
    "    return [],[]\n",
    "  ref_start_time = max(get_earliest_start_time(tab_focus_times), get_earliest_start_time(reconstructed_tab_focus_times))\n",
    "  ref_end_time = min(get_last_end_time(tab_focus_times), get_last_end_time(reconstructed_tab_focus_times))\n",
    "  ref_start_time = max(ref_start_time, 1458371950000) # march 18th. may have had some data loss prior to that\n",
    "  ref_end_time = max(ref_end_time, 1458371950000)\n",
    "  evaluated_reconstructed_tab_focus_times = ignore_all_before_start_or_after_end(reconstructed_tab_focus_times, ref_start_time, ref_end_time)\n",
    "  evaluated_tab_focus_times = ignore_all_before_start_or_after_end(tab_focus_times, ref_start_time, ref_end_time)\n",
    "  return evaluated_tab_focus_times,evaluated_reconstructed_tab_focus_times\n",
    "\n",
    "def get_evaluation_stats_for_user(user):\n",
    "  evaluated_tab_focus_times,evaluated_reconstructed_tab_focus_times = get_evaluated_reference_and_reconstructed_focus_times_for_user(user)\n",
    "  if len(evaluated_reconstructed_tab_focus_times) == 0 or len(evaluated_tab_focus_times) == 0:\n",
    "    return {}\n",
    "  return evalutate_tab_focus_reconstruction(evaluated_tab_focus_times, evaluated_reconstructed_tab_focus_times)\n",
    "\n",
    "'''\n",
    "def get_evaluation_stats_for_user(user):\n",
    "  #evaluated_tab_focus_times,evaluated_reconstructed_tab_focus_times = get_evaluated_reference_and_reconstructed_focus_times_for_user(user)\n",
    "  #if len(evaluated_reconstructed_tab_focus_times) == 0 or len(evaluated_tab_focus_times) == 0:\n",
    "  #  return {}\n",
    "  tab_focus_times = get_tab_focus_times_for_user(user)\n",
    "  reconstructed_tab_focus_times = list(get_reconstruct_focus_times_baseline_for_user(user))\n",
    "  if len(tab_focus_times) == 0 or len(reconstructed_tab_focus_times) == 0:\n",
    "    return {}\n",
    "  ref_start_time = max(get_earliest_start_time(tab_focus_times), get_earliest_start_time(reconstructed_tab_focus_times))\n",
    "  ref_end_time = min(get_last_end_time(tab_focus_times), get_last_end_time(reconstructed_tab_focus_times))\n",
    "  evaluated_reconstructed_tab_focus_times = ignore_all_before_start_or_after_end(reconstructed_tab_focus_times, ref_start_time, ref_end_time)\n",
    "  evaluated_tab_focus_times = ignore_all_before_start_or_after_end(tab_focus_times, ref_start_time, ref_end_time)\n",
    "  result_reference = second_to_active_url(evaluated_tab_focus_times, ref_start_time, ref_end_time)\n",
    "  result_reconstructed = second_to_active_url(evaluated_reconstructed_tab_focus_times, ref_start_time, ref_end_time)\n",
    "  return evaluation_stats_for_reconstruction(result_reference, result_reconstructed)\n",
    "  #print tab_focus_times[0].keys()\n",
    "  #print list(reconstructed_tab_focus_times)[0].keys()\n",
    "'''"
   ]
  },
  {
   "cell_type": "code",
   "execution_count": null,
   "metadata": {
    "collapsed": false
   },
   "outputs": [],
   "source": []
  },
  {
   "cell_type": "code",
   "execution_count": 6,
   "metadata": {
    "collapsed": true
   },
   "outputs": [],
   "source": [
    "class ClosestVisitTimeForUrl:\n",
    "  def __init__(self, tab_focus_times):\n",
    "    self.visits = tab_focus_times\n",
    "    self.url_to_visit_times = {} # url to start of visit\n",
    "    self.visit_time_to_visit = {}\n",
    "    for visit in self.visits: # these visits are time-ordered\n",
    "      start = visit['start']\n",
    "      url = visit['url']\n",
    "      if url not in self.url_to_visit_times:\n",
    "        self.url_to_visit_times[url] = []\n",
    "      self.url_to_visit_times[url].append(start)\n",
    "      self.visit_time_to_visit[start] = visit\n",
    "  def get_visit_from_time(self, target_visit_time):\n",
    "    self.visit_time_to_visit.get(target_visit_time, None)\n",
    "  def find_closest_visit(self, url, target_visit_time):\n",
    "    if url not in self.url_to_visit_times:\n",
    "      return None\n",
    "    all_visits = self.url_to_visit_times[url]\n",
    "    closest_visit = None\n",
    "    for visit in all_visits:\n",
    "      if closest_visit == None:\n",
    "        closest_visit = visit\n",
    "        continue\n",
    "      if abs(visit - target_visit_time) < abs(closest_visit - target_visit_time):\n",
    "        closest_visit = visit\n",
    "    return closest_visit"
   ]
  },
  {
   "cell_type": "code",
   "execution_count": null,
   "metadata": {
    "collapsed": true
   },
   "outputs": [],
   "source": []
  },
  {
   "cell_type": "code",
   "execution_count": 7,
   "metadata": {
    "collapsed": true
   },
   "outputs": [],
   "source": [
    "def get_span_alignment_stats_for_user(user):\n",
    "  evaluated_tab_focus_times,evaluated_reconstructed_tab_focus_times = get_evaluated_reference_and_reconstructed_focus_times_for_user(user)\n",
    "  if len(evaluated_reconstructed_tab_focus_times) == 0 or len(evaluated_tab_focus_times) == 0:\n",
    "    return {}\n",
    "  closest_visit_times_for_reference = ClosestVisitTimeForUrl(evaluated_tab_focus_times)\n",
    "  closest_visit_times_for_reconstructed = ClosestVisitTimeForUrl(evaluated_reconstructed_tab_focus_times)\n",
    "  stats = Counter()\n",
    "  domains_where_reconstructed_has_no_reference = Counter()\n",
    "  domains_where_reference_has_no_reconstructed = Counter()\n",
    "  urls_where_reconstructed_has_no_reference = Counter()\n",
    "  urls_where_reference_has_no_reconstructed = Counter()\n",
    "  reconstructed_transition_types_with_no_corresponding_reference = Counter()\n",
    "  reconstructed_transition_types_total = Counter()\n",
    "  reconstructed_visits_labeled = []\n",
    "  reference_visits_labeled = []\n",
    "  for visit in evaluated_reconstructed_tab_focus_times:\n",
    "    start_time = visit['start']\n",
    "    url = visit['url']\n",
    "    domain = url_to_domain(url)\n",
    "    closest_time = closest_visit_times_for_reference.find_closest_visit(url, start_time)\n",
    "    visit_labeled = {k:v for k,v in visit.items()}\n",
    "    if 'transition' in visit:\n",
    "      transition = visit['transition']\n",
    "      reconstructed_transition_types_total[transition] += 1\n",
    "    if closest_time == None or abs(start_time - closest_time) > 5*1000: # more than 5 seconds off\n",
    "      stats['reconstructed_has_no_corresponding_reference'] += 1\n",
    "      domains_where_reconstructed_has_no_reference[domain] += 1\n",
    "      urls_where_reconstructed_has_no_reference[url] += 1\n",
    "      visit_labeled['have_reference'] = False\n",
    "      if 'transition' in visit:\n",
    "        transition = visit['transition']\n",
    "        reconstructed_transition_types_with_no_corresponding_reference[transition] += 1\n",
    "    else:\n",
    "      stats['reconstructed_has_corresponding_reference'] += 1\n",
    "      visit_labeled['have_reference'] = True\n",
    "    reconstructed_visits_labeled.append(visit_labeled)\n",
    "  for visit in evaluated_tab_focus_times:\n",
    "    start_time = visit['start']\n",
    "    url = visit['url']\n",
    "    closest_time = closest_visit_times_for_reconstructed.find_closest_visit(url, start_time)\n",
    "    visit_labeled = {k:v for k,v in visit.items()}\n",
    "    if closest_time == None or abs(start_time - closest_time) > 5*1000: # more than 5 seconds off\n",
    "      stats['reference_has_no_corresponding_reconstructed'] += 1\n",
    "      domains_where_reference_has_no_reconstructed[domain] += 1\n",
    "      urls_where_reference_has_no_reconstructed[url] += 1\n",
    "      visit_labeled['have_reconstructed'] = False\n",
    "    else:\n",
    "      stats['reference_has_corresponding_reconstructed'] += 1\n",
    "      visit_labeled['have_reconstructed'] = True\n",
    "    reference_visits_labeled.append(visit_labeled)\n",
    "  return {\n",
    "    'stats': stats,\n",
    "    'domains_where_reconstructed_has_no_reference': domains_where_reconstructed_has_no_reference,\n",
    "    'domains_where_reference_has_no_reconstructed': domains_where_reference_has_no_reconstructed,\n",
    "    'urls_where_reconstructed_has_no_reference': urls_where_reconstructed_has_no_reference,\n",
    "    'urls_where_reference_has_no_reconstructed': urls_where_reference_has_no_reconstructed,\n",
    "    'reconstructed_visits_labeled': reconstructed_visits_labeled,\n",
    "    'reference_visits_labeled': reference_visits_labeled,\n",
    "    'reconstructed_transition_types_with_no_corresponding_reference': reconstructed_transition_types_with_no_corresponding_reference,\n",
    "    'reconstructed_transition_types_total': reconstructed_transition_types_total,\n",
    "  }"
   ]
  },
  {
   "cell_type": "code",
   "execution_count": 8,
   "metadata": {
    "collapsed": false
   },
   "outputs": [],
   "source": [
    "user_to_span_alignment_data = {}\n",
    "\n",
    "for user in list_users():\n",
    "  data = get_span_alignment_stats_for_user(user)\n",
    "  if 'stats' not in data:\n",
    "    continue\n",
    "  user_to_span_alignment_data[user] = data\n"
   ]
  },
  {
   "cell_type": "code",
   "execution_count": 9,
   "metadata": {
    "collapsed": false
   },
   "outputs": [
    {
     "name": "stdout",
     "output_type": "stream",
     "text": [
      "reference_has_no_corresponding_reconstructed 1031863\n",
      "reference_has_corresponding_reconstructed 760631\n",
      "reconstructed_has_corresponding_reference 654689\n",
      "reconstructed_has_no_corresponding_reference 116359\n"
     ]
    }
   ],
   "source": [
    "overall_span_alignment_stats = Counter()\n",
    "for user,data in user_to_span_alignment_data.items():\n",
    "  stats = data['stats']\n",
    "  for k,v in stats.items():\n",
    "    overall_span_alignment_stats[k] += v\n",
    "\n",
    "print_counter(overall_span_alignment_stats)\n",
    "# 60% of reference have corresponding reconstructed\n",
    "# 84% of reconstructed have corresponding reference"
   ]
  },
  {
   "cell_type": "code",
   "execution_count": 10,
   "metadata": {
    "collapsed": false
   },
   "outputs": [
    {
     "name": "stdout",
     "output_type": "stream",
     "text": [
      "link 86201\n",
      "form_submit 13390\n",
      "reload 7529\n",
      "typed 3852\n",
      "generated 2530\n",
      "auto_bookmark 1954\n",
      "auto_toplevel 860\n",
      "keyword 38\n",
      "keyword_generated 5\n"
     ]
    }
   ],
   "source": [
    "overall_transitions_with_no_reference = Counter()\n",
    "\n",
    "for user,data in user_to_span_alignment_data.items():\n",
    "  for k,v in data['reconstructed_transition_types_with_no_corresponding_reference'].items():\n",
    "    overall_transitions_with_no_reference[k] += v\n",
    "\n",
    "print_counter(overall_transitions_with_no_reference)"
   ]
  },
  {
   "cell_type": "code",
   "execution_count": 11,
   "metadata": {
    "collapsed": false
   },
   "outputs": [
    {
     "name": "stdout",
     "output_type": "stream",
     "text": [
      "link 594180\n",
      "form_submit 94643\n",
      "reload 28534\n",
      "typed 20825\n",
      "auto_bookmark 15918\n",
      "generated 13574\n",
      "auto_toplevel 3112\n",
      "keyword 256\n",
      "keyword_generated 6\n"
     ]
    }
   ],
   "source": [
    "overall_transitions_total_in_evaluated_reconstruction = Counter()\n",
    "\n",
    "for user,data in user_to_span_alignment_data.items():\n",
    "  for k,v in data['reconstructed_transition_types_total'].items():\n",
    "    overall_transitions_total_in_evaluated_reconstruction[k] += v\n",
    "\n",
    "print_counter(overall_transitions_total_in_evaluated_reconstruction)\n"
   ]
  },
  {
   "cell_type": "code",
   "execution_count": 12,
   "metadata": {
    "collapsed": false
   },
   "outputs": [
    {
     "name": "stdout",
     "output_type": "stream",
     "text": [
      "form_submit 0.14147903173\n",
      "auto_bookmark 0.122754114839\n",
      "keyword 0.1484375\n",
      "typed 0.184969987995\n",
      "auto_toplevel 0.276349614396\n",
      "reload 0.263860657461\n",
      "generated 0.186385737439\n",
      "link 0.145075566327\n",
      "keyword_generated 0.833333333333\n"
     ]
    }
   ],
   "source": [
    "# history transition types that have highest levels of no-corresponding-reference\n",
    "for k,v in overall_transitions_total_in_evaluated_reconstruction.items():\n",
    "  bad_transitions = overall_transitions_with_no_reference.get(k, 0)\n",
    "  print k, (float(bad_transitions)/v)"
   ]
  },
  {
   "cell_type": "code",
   "execution_count": 13,
   "metadata": {
    "collapsed": false
   },
   "outputs": [
    {
     "name": "stdout",
     "output_type": "stream",
     "text": [
      "link 4996461\n",
      "form_submit 767306\n",
      "reload 269928\n",
      "typed 256299\n",
      "auto_bookmark 135748\n",
      "generated 131291\n",
      "auto_toplevel 99731\n",
      "keyword 2170\n",
      "keyword_generated 20\n"
     ]
    }
   ],
   "source": [
    "overall_transitions_total_in_reconstruction = Counter()\n",
    "\n",
    "for user in list_users_with_hist():\n",
    "  for visit in get_reconstruct_focus_times_baseline_for_user(user):\n",
    "    transition = visit['transition']\n",
    "    overall_transitions_total_in_reconstruction[transition] += 1\n",
    "\n",
    "print_counter(overall_transitions_total_in_reconstruction)"
   ]
  },
  {
   "cell_type": "code",
   "execution_count": 14,
   "metadata": {
    "collapsed": false
   },
   "outputs": [
    {
     "name": "stdout",
     "output_type": "stream",
     "text": [
      "link 6157728\n",
      "form_submit 1099071\n",
      "reload 412746\n",
      "typed 265271\n",
      "auto_bookmark 140369\n",
      "manual_subframe 137829\n",
      "generated 131656\n",
      "auto_toplevel 100801\n",
      "keyword 2173\n",
      "auto_subframe 302\n",
      "keyword_generated 21\n"
     ]
    }
   ],
   "source": [
    "overall_transitions_total = Counter()\n",
    "\n",
    "for user in list_users_with_hist():\n",
    "  for visit in get_history_ordered_visits_for_user(user):\n",
    "    transition = visit['transition']\n",
    "    overall_transitions_total[transition] += 1\n",
    "\n",
    "print_counter(overall_transitions_total)"
   ]
  },
  {
   "cell_type": "code",
   "execution_count": 15,
   "metadata": {
    "collapsed": false
   },
   "outputs": [
    {
     "name": "stdout",
     "output_type": "stream",
     "text": [
      "form_submit 0.0121830163838\n",
      "auto_subframe 0.0\n",
      "auto_bookmark 0.0139204525216\n",
      "keyword 0.0174873446848\n",
      "typed 0.01452099928\n",
      "auto_toplevel 0.00853166139225\n",
      "reload 0.0182412427982\n",
      "generated 0.0192167466731\n",
      "link 0.0139988320368\n",
      "manual_subframe 0.0\n",
      "keyword_generated 0.238095238095\n"
     ]
    }
   ],
   "source": [
    "for k,v in overall_transitions_total.items():\n",
    "  bad_transitions = overall_transitions_with_no_reference.get(k, 0)\n",
    "  print k, (float(bad_transitions)/v)"
   ]
  },
  {
   "cell_type": "code",
   "execution_count": 16,
   "metadata": {
    "collapsed": false
   },
   "outputs": [
    {
     "name": "stdout",
     "output_type": "stream",
     "text": [
      "form_submit 0.0174506650541\n",
      "auto_bookmark 0.014394318885\n",
      "keyword 0.0175115207373\n",
      "typed 0.0150293212225\n",
      "auto_toplevel 0.00862319639831\n",
      "reload 0.027892623218\n",
      "generated 0.0192701708419\n",
      "link 0.0172524112567\n",
      "keyword_generated 0.25\n"
     ]
    }
   ],
   "source": [
    "for k,v in overall_transitions_total_in_reconstruction.items():\n",
    "  bad_transitions = overall_transitions_with_no_reference.get(k, 0)\n",
    "  print k, (float(bad_transitions)/v)\n",
    "\n"
   ]
  },
  {
   "cell_type": "code",
   "execution_count": 17,
   "metadata": {
    "collapsed": true
   },
   "outputs": [],
   "source": [
    "optimal_reconstruction_stats_spans = Counter()\n",
    "optimal_reconstruction_stats_times = Counter()\n",
    "\n",
    "for user,data in user_to_span_alignment_data.items():\n",
    "  for visit in data['reconstructed_visits_labeled']:\n",
    "    if visit['have_reference']:\n",
    "      optimal_reconstruction_stats_spans['reconstructed_has_reference'] += 1\n",
    "    else:\n",
    "      optimal_reconstruction_stats_spans['reconstructed_has_no_reference'] += 1\n",
    "  for visit in data['reference_visits_labeled']:\n",
    "    length = visit['end'] - visit['start']\n",
    "    if visit['have_reconstructed']:\n",
    "      optimal_reconstruction_stats_spans['reference_has_reconstructed'] += 1\n",
    "      optimal_reconstruction_stats_times['seconds_of_reference_that_can_be_reconstructed'] += length\n",
    "    else:\n",
    "      optimal_reconstruction_stats_spans['reference_has_no_reconstructed'] += 1\n",
    "      optimal_reconstruction_stats_times['seconds_of_reference_that_cannot_be_reconstructed'] += length"
   ]
  },
  {
   "cell_type": "code",
   "execution_count": 18,
   "metadata": {
    "collapsed": false
   },
   "outputs": [
    {
     "name": "stdout",
     "output_type": "stream",
     "text": [
      "reference_has_no_reconstructed 1031863\n",
      "reference_has_reconstructed 760631\n",
      "reconstructed_has_reference 654689\n",
      "reconstructed_has_no_reference 116359\n"
     ]
    }
   ],
   "source": [
    "print_counter(optimal_reconstruction_stats_spans)\n",
    "# reference has reconstructed 60% = 80332.0 / (80332 + 54018)\n",
    "# reconstructed has reference 84% = 55748.0 / (10948 + 55748)"
   ]
  },
  {
   "cell_type": "code",
   "execution_count": 19,
   "metadata": {
    "collapsed": false
   },
   "outputs": [
    {
     "name": "stdout",
     "output_type": "stream",
     "text": [
      "seconds_of_reference_that_cannot_be_reconstructed 16716741805.9\n",
      "seconds_of_reference_that_can_be_reconstructed 11083055845.1\n"
     ]
    }
   ],
   "source": [
    "print_counter(optimal_reconstruction_stats_times)\n",
    "# seconds of reference that can be reconstructed 57% = 1254885375.005127 / (1254885375.005127 + 947693694.9926758)"
   ]
  },
  {
   "cell_type": "code",
   "execution_count": 20,
   "metadata": {
    "collapsed": true
   },
   "outputs": [],
   "source": [
    "domain_to_seconds_that_cannot_be_reconstructed = Counter()\n",
    "url_to_seconds_that_cannot_be_reconstructed = Counter()\n",
    "domain_to_spans_that_cannot_be_reconstructed = Counter()\n",
    "url_to_spans_that_cannot_be_reconstructed = Counter()\n",
    "\n",
    "for user,data in user_to_span_alignment_data.items():\n",
    "  for visit in data['reference_visits_labeled']:\n",
    "    length = visit['end'] - visit['start']\n",
    "    url = visit['url']\n",
    "    domain = url_to_domain(url)\n",
    "    if not visit['have_reconstructed']:\n",
    "      domain_to_seconds_that_cannot_be_reconstructed[domain] += length\n",
    "      domain_to_spans_that_cannot_be_reconstructed[domain] += 1\n",
    "      url_to_seconds_that_cannot_be_reconstructed[url] += length\n",
    "      url_to_spans_that_cannot_be_reconstructed[url] += 1"
   ]
  },
  {
   "cell_type": "code",
   "execution_count": null,
   "metadata": {
    "collapsed": false
   },
   "outputs": [],
   "source": []
  },
  {
   "cell_type": "code",
   "execution_count": 21,
   "metadata": {
    "collapsed": false
   },
   "outputs": [
    {
     "name": "stdout",
     "output_type": "stream",
     "text": [
      "www.mturk.com 313408\n",
      "www.facebook.com 43402\n",
      "www.youtube.com 37278\n",
      "newtab 35322\n",
      "www.google.com 35245\n",
      "mail.google.com 34260\n",
      "www.reddit.com 23544\n",
      "docs.google.com 14622\n",
      "hitgrabber.net 12887\n",
      "www.netflix.com 12110\n",
      "www.mturkgrind.com 8823\n",
      "www.twitch.tv 8798\n",
      "www.amazon.com 8265\n",
      "apps.facebook.com 7019\n",
      "forums.somethingawful.com 6904\n",
      "totalviewschool.k12.com 6444\n",
      "www.swagbucks.com 5418\n",
      "us-mg5.mail.yahoo.com 5130\n",
      " 4792\n",
      "www.tumblr.com 4387\n",
      "game.soul-arena.com 4115\n",
      "mturkforum.com 4028\n",
      "www.mturkcrowd.com 3503\n",
      "calendar.google.com 3357\n",
      "play.pokemonshowdown.com 3172\n",
      "us20.chatzy.com 3026\n",
      "www.hulu.com 2862\n",
      "en.wikipedia.org 2514\n",
      "drive.google.com 2496\n",
      "turkopticon.ucsd.edu 2427\n",
      "www.google.co.in 2310\n",
      "www.ebay.com 2183\n",
      "www.csgodouble.com 2100\n",
      "www.surveymonkey.com 2095\n",
      "turkernation.com 2095\n",
      "twitter.com 2053\n",
      "mail.aol.com 1916\n",
      "www.linkedin.com 1868\n",
      "perk.tv 1808\n",
      "thewatchseries.to 1761\n",
      "payments.amazon.com 1729\n",
      "klbibkeccnjlkjkiokjodocebajanakg 1701\n",
      "ma.brazzers.com 1591\n",
      "hw.reddit.com 1552\n",
      "www.imdb.com 1491\n",
      "us-mg6.mail.yahoo.com 1475\n",
      "www.pinterest.com 1474\n",
      "work.onespace.com 1463\n",
      "www.host2inger.com 1405\n",
      "ttn.tlinks.com 1394\n",
      "outlook.live.com 1379\n",
      "mass.retailmakr.com 1375\n",
      "compstak.slack.com 1338\n",
      "wharton.qualtrics.com 1321\n",
      "dvd.netflix.com 1295\n",
      "www.tohosting.tk 1286\n",
      "www.bing.com 1249\n",
      "snt151.mail.live.com 1219\n",
      "www.lipstickalley.com 1194\n",
      "www.istreamitall.com 1176\n",
      "yalesurvey.qualtrics.com 1165\n",
      "allmyvideos.net 1163\n",
      "www.babypips.com 1161\n",
      "www.buzzfeed.com 1160\n",
      "www.livenewschat.eu 1154\n",
      "forums.animez.to 1133\n",
      "www.gifthulk.com 1114\n",
      "sbcodez.com 1108\n",
      "goosecoins.info 1098\n",
      "ufl.qualtrics.com 1087\n",
      "www.yahoo.com 1066\n",
      "www.zoombucks.com 1065\n",
      "upenn.co1.qualtrics.com 1054\n",
      "duke.qualtrics.com 1054\n",
      "www.jcpenney.com 1019\n",
      "stanfordgsb.qualtrics.com 1006\n",
      "play.google.com 1006\n",
      "soundcloud.com 1005\n",
      "boards.4chan.org 982\n",
      "wwwsc.ekeystone.com 957\n",
      "web.whatsapp.com 957\n",
      "www.yelp.com 953\n",
      "www.hbonow.com 950\n",
      "blackboard.cornell.edu 913\n",
      "www.classmates.com 912\n",
      "vidbull.com 909\n",
      "www.arconaitv.me 897\n",
      "www.surveygizmo.com 864\n",
      "cornell.qualtrics.com 860\n",
      "tweetdeck.twitter.com 856\n",
      "columbia.az1.qualtrics.com 841\n",
      "harvard.az1.qualtrics.com 837\n",
      "mprlab327.webfactional.com 837\n",
      "www.inboxdollars.com 822\n",
      "www.surveyjunkie.com 816\n",
      "www.hotnewhiphop.com 814\n",
      "sites.google.com 803\n",
      "qbo.intuit.com 780\n",
      "imgur.com 762\n",
      "washington.co1.qualtrics.com 760\n"
     ]
    }
   ],
   "source": [
    "print_counter(domain_to_spans_that_cannot_be_reconstructed)"
   ]
  },
  {
   "cell_type": "code",
   "execution_count": 22,
   "metadata": {
    "collapsed": false
   },
   "outputs": [
    {
     "name": "stdout",
     "output_type": "stream",
     "text": [
      "www.mturk.com 3106209289.03\n",
      "www.facebook.com 1164556817.99\n",
      "www.youtube.com 963976398.991\n",
      "www.reddit.com 553651184.972\n",
      "mail.google.com 514187443.003\n",
      "www.netflix.com 421403701.995\n",
      "apps.facebook.com 321295679.005\n",
      "docs.google.com 289080081.015\n",
      "www.google.com 236035046.992\n",
      "newtab 159834260.971\n",
      "www.twitch.tv 153229513.012\n",
      "forums.somethingawful.com 142865792.997\n",
      "www.amazon.com 128976552.991\n",
      "www.tumblr.com 124531237.994\n",
      "us-mg5.mail.yahoo.com 106979334.007\n",
      "www.mturkgrind.com 98730906.0117\n",
      "hitgrabber.net 84484867.0034\n",
      "www.surveymonkey.com 82741488.9963\n",
      "quarks.inr.ac.ru 75533467.9988\n",
      "forums.animez.to 68253467.0022\n",
      "upenn.co1.qualtrics.com 66567017.999\n",
      "tweetdeck.twitter.com 61957067.9968\n",
      "plinga.com 60023886.9971\n",
      "perk.tv 58273933.0037\n",
      "play.pokemonshowdown.com 56107871.9946\n",
      "www.lipstickalley.com 53819528.9968\n",
      "mturkforum.com 52867379.0029\n",
      "turkernation.com 51297369.012\n",
      "allmyvideos.net 50222240.0012\n",
      "soundcloud.com 49891551.9998\n",
      "imgur.com 48943660.9961\n",
      "yalesurvey.qualtrics.com 46414995.9954\n",
      "templates.textbroker.com 45140026.9998\n",
      "wharton.qualtrics.com 44977695.9971\n",
      "www.hulu.com 42960507.9951\n",
      "www.buzzfeed.com 41035292.999\n",
      "survey.qualtrics.com 40270642.0032\n",
      "www.istreamitall.com 39877508.002\n",
      "game.soul-arena.com 38543717.9973\n",
      "ttn.tlinks.com 37114229.0015\n",
      "www.hbonow.com 36549943.9966\n",
      "iu.co1.qualtrics.com 36364599.9976\n",
      "en.wikipedia.org 36211851.0051\n",
      "mprlab327.webfactional.com 35486976.0051\n",
      "outlook.live.com 34220205.9949\n",
      "nyu.qualtrics.com 33755230.999\n",
      "www.speechpad.com 32383181.0051\n",
      "stanfordgsb.qualtrics.com 32112578.9993\n",
      "projectfreetv.so 31715736.0005\n",
      "www.livenewschat.eu 31112760.9971\n",
      "gwu.qualtrics.com 31037270.9985\n",
      "www.swagbucks.com 30950004.0042\n",
      "twitter.com 30348852.9937\n",
      "vidbull.com 30069688.9971\n",
      "columbia.az1.qualtrics.com 29909402.0002\n",
      "www.babypips.com 29841594.9934\n",
      "www.ew.com 29519813.9993\n",
      "qtrial2016q1az1.az1.qualtrics.com 29161748.9976\n",
      "ufl.qualtrics.com 28780436.9929\n",
      "us.anno-online.com 28772446.9995\n",
      "www.eatthis.com 28667694.9995\n",
      "www.cntraveler.com 28244186.0\n",
      "boards.4chan.org 28143896.9985\n",
      "www.mturkcrowd.com 27852156.9995\n",
      "www.etsy.com 27803026.9968\n",
      "www.surveygizmo.com 26942709.9993\n",
      "umn.qualtrics.com 26522110.9968\n",
      "www.pinterest.com 26324820.001\n",
      "mail.aol.com 26276540.0044\n",
      "www.linkedin.com 26190085.9995\n",
      "utexas.qualtrics.com 26143426.002\n",
      "rotman.az1.qualtrics.com 25777701.9998\n",
      "psychologyuwaterloo.az1.qualtrics.com 25690774.001\n",
      "www.google.co.in 25029354.9978\n",
      "drive.google.com 24753664.9998\n",
      "umich.qualtrics.com 24507862.9966\n",
      "berkeley.qualtrics.com 24388925.0032\n",
      "byu.az1.qualtrics.com 24263060.0002\n",
      "intern.textbroker.com 24109513.0022\n",
      "us20.chatzy.com 23951899.0024\n",
      "turkopticon.ucsd.edu 23917914.9888\n",
      "duke.qualtrics.com 23906244.002\n",
      "www.messenger.com 23547125.0005\n",
      "us8.forgeofempires.com 23243297.9995\n",
      "blackboard.cornell.edu 22987043.0032\n",
      "ust.az1.qualtrics.com 22357026.0007\n",
      "cornell.qualtrics.com 22228134.9978\n",
      "unc.az1.qualtrics.com 22199132.9998\n",
      "nbs.az1.qualtrics.com 22172799.0012\n",
      "gorillavid.in 21720504.9983\n",
      "www.apple.com 21468322.9978\n",
      "kellogg.qualtrics.com 21457054.0032\n",
      "www.ebay.com 21263146.999\n",
      "www.allmyvideos.net 20459521.0007\n",
      "www.crowdcurio.com 20035849.9983\n",
      "gate.aon.com 20030511.0\n",
      "harvard.az1.qualtrics.com 19511567.999\n",
      "www.csgodouble.com 19377669.9971\n",
      "tmi.stanford.edu 19058910.9993\n",
      "www.addictinggames.com 18895469.9983\n"
     ]
    }
   ],
   "source": [
    "print_counter(domain_to_seconds_that_cannot_be_reconstructed)"
   ]
  },
  {
   "cell_type": "code",
   "execution_count": 23,
   "metadata": {
    "collapsed": false
   },
   "outputs": [
    {
     "name": "stdout",
     "output_type": "stream",
     "text": [
      "https://www.mturk.com/mturk/dashboard 55433\n",
      "https://www.mturk.com/mturk/findhits?match=true?hit_scraper 38207\n",
      "chrome://newtab/ 35322\n",
      "https://www.facebook.com/ 24001\n",
      "https://www.mturk.com/mturk/findhits?match=false&hit_scraper 19857\n",
      "https://mail.google.com/mail/u/0/#inbox 14013\n",
      "http://hitgrabber.net/ 12887\n",
      "https://www.google.com/_/chrome/newtab?espv=2&ie=UTF-8 10425\n",
      "https://www.mturk.com/mturk/myhits 6386\n",
      "http://game.soul-arena.com/ 4115\n",
      " 3334\n",
      "https://www.mturk.com/HM 3039\n",
      "https://us20.chatzy.com/11920092594925 3026\n",
      "https://www.mturk.com/mturk/findhits?match=true 2931\n",
      "https://www.mturk.com/mturk/submit 2715\n",
      "https://mail.google.com/mail/u/1/#inbox 2620\n",
      "https://www.mturk.com/mturk/findhits?match=true?hit_scraper-dev 2472\n",
      "https://www.tumblr.com/dashboard 2293\n",
      "https://www.mturk.com/mturk/findhits?match=false 1933\n",
      "https://www.google.com/webhp?sourceid=chrome-instant&ion=1&espv=2&ie=UTF-8 1902\n",
      "https://www.mturk.com/mturk/findhits?match=false&hit_scraper# 1766\n",
      "https://mail.google.com/mail/u/0/?tab=wm#inbox 1750\n",
      "https://www.reddit.com/ 1666\n",
      "https://www.youtube.com/ 1460\n",
      "https://calendar.google.com/calendar/render??pli=1&pli=1#main_7 1362\n",
      "https://www.facebook.com/messages/jessica.wood.106 1324\n",
      "https://ttn.tlinks.com/Reservations/Itinerary.aspx 1302\n",
      "http://www.csgodouble.com/withdraw.php 1262\n",
      "https://docs.google.com/document/d/1q2s4u1jQ4BUVT16nCr-pkW114mMEDeLiTJztWJxp2Jw/edit 1119\n",
      "http://sbcodez.com/ 1108\n",
      "http://www.swagbucks.com/account/summary 1079\n",
      "https://www.reddit.com/r/HITsWorthTurkingFor/new/ 986\n",
      "https://web.whatsapp.com/ 955\n",
      "https://apps.facebook.com/wordbattling/?fb_source=canvas_bookmark 889\n",
      "http://www.tohosting.tk/ 881\n",
      "https://snt151.mail.live.com/?fid=flinbox 854\n",
      "http://www.host2inger.com/ 834\n",
      "https://www.facebook.com/?sk=h_chr 832\n",
      "https://mail.google.com/mail/#inbox 795\n",
      "https://www.yahoo.com/ 771\n",
      "https://apps.facebook.com/candycrushsoda/?fb_source=sidebar_bookmark 766\n",
      "http://play.pokemonshowdown.com/ 760\n",
      "https://turkopticon.ucsd.edu/main/php_search 751\n",
      "http://www.swagbucks.com/games/play/114/swagasaurus-run 745\n",
      "https://mail.google.com/mail/u/0/#spam 736\n",
      "https://tweetdeck.twitter.com/# 735\n",
      "https://qbo.intuit.com/app/check 724\n",
      "https://www.facebook.com/Smoke.And.Ink 707\n",
      "http://www.gifthulk.com/# 706\n",
      "https://www.mturk.com/mturk/status 640\n",
      "https://mail.aol.com/webmail-std/en-us/suite 628\n",
      "https://templates.textbroker.com/mask/ymask.php 628\n",
      "https://apps.facebook.com/puzzlywords/?fb_source=canvas_bookmark 626\n",
      "https://docs.google.com/spreadsheets/d/1UYiOaoctvReBTOZIZuEY5_BQjEWzuBJ13Fwn82UO_qY/edit#gid=0 625\n",
      "https://www.mturk.com/mturk/viewhits?searchWords=&pageNumber=2&searchSpec=HITGroupSearch%23T%231%2310%23-1%23T%23%21only_available_hits%210%21rO0ABXQABHRydWU-%21%23%21Reward%211%21%23%21&sortType=Reward%3A1&selectedSearchType=hitgroups 624\n",
      "https://apps.facebook.com/coral-isle/ 620\n",
      "https://www.reddit.com/r/HITsWorthTurkingFor/ 614\n",
      "http://gcat.dot.state.oh.us/CrashWebHome.aspx 608\n",
      "https://www.google.co.in/_/chrome/newtab?espv=2&ie=UTF-8 605\n",
      "http://www.swagbucks.com/ 598\n",
      "http://www.csgodouble.com/ 596\n",
      "https://www.twitch.tv/a_l_o_h_a 586\n",
      "https://www.mturk.com/mturk/welcome 580\n",
      "https://www.youtube.com/feed/subscriptions 567\n",
      "https://www.mturk.com/mturk/findhits?*hit_scraper 544\n",
      "https://docs.google.com/document/d/1nCLLieBl2Mw3TVUv-n64_ASew8BRmL98W_QAqTr9qSk/edit# 541\n",
      "https://www.facebook.com/?ref=tn_tnmn 525\n",
      "https://twitter.com/ 517\n",
      "https://www.mturk.com/mturk/searchbar?selectedSearchType=hitgroups&searchWords=a9&minReward=0.00&x=0&y=0 511\n",
      "https://docs.google.com/document/d/1nCLLieBl2Mw3TVUv-n64_ASew8BRmL98W_QAqTr9qSk/edit 508\n",
      "https://www.twitch.tv/mintmaus 506\n",
      "http://plinga.com/play#games/2/playOnline 503\n",
      "https://wwwsc.ekeystone.com/Checkout 498\n",
      "https://apps.facebook.com/juicejam/?fb_source=bookmark&ref=bookmarks&count=0&fb_bmpos=_0 496\n",
      "https://docs.google.com/document/d/1BfQLJTRE8P0INAweQW5YGOMu8WItKWqcA7ooUnQhOKM/edit# 492\n",
      "https://www.twitch.tv/tehjamjar 488\n",
      "https://www.mturk.com/mturk/myhits?first 485\n",
      "http://www.michigantrafficcrashfacts.org/datatool/build.php 474\n",
      "https://www.reddit.com/r/ffxiv/ 474\n",
      "https://perk.tv/video/248/perk-app-trailers 471\n",
      "https://www.twitch.tv/teamsp00ky 469\n",
      "https://hw.reddit.com/r/HITsWorthTurkingFor/new/ 463\n",
      "https://docs.google.com/document/d/1JhMg8HoxqII5F1Auib4D24jivpHvbAlfG9Qqy-mrR3I/edit 458\n",
      "https://www.mturk.com/mturk/checkregistration 456\n",
      "https://www.reddit.com/r/relationships/ 452\n",
      "https://hillsdale.co1.qualtrics.com/SE/?SID=SV_8cA272YydggUX41 444\n",
      "https://www.twitch.tv/directory/following 443\n",
      "https://www.mturk.com/mturk/findhits?match=true%3Fhit_scraper 437\n",
      "https://apps.facebook.com/eontictactoe/?fb_source=bookmark&ref=bookmarks&count=0&fb_bmpos=_0 437\n",
      "https://www.rewardshopping.com/slb 430\n",
      "https://www.facebook.com/?ref=logo 427\n",
      "http://www.livenewschat.eu/top/ 427\n",
      "https://www.twitch.tv/dotapit 426\n",
      "https://surveys.ipsosinteractive.com/surveys/25b6acb2-de68-11e2-a28f-0800200c9a66 424\n",
      "https://www.google.com/voice/b/0#inbox 421\n",
      "http://www.crichd.tv/live-sky-sports-2-uk-stream.php 417\n",
      "https://www.facebook.com/?q= 416\n",
      "https://www.sharelatex.com/project/56f6248ad63196fe60ef3677 410\n",
      "https://www.twitch.tv/arteezy 408\n",
      "https://www.mturk.com/mturk/preview?groupId=315D2CYS02YMYX81NFR5RTKSL3DX7L 391\n"
     ]
    }
   ],
   "source": [
    "print_counter(url_to_spans_that_cannot_be_reconstructed)"
   ]
  },
  {
   "cell_type": "code",
   "execution_count": 24,
   "metadata": {
    "collapsed": false
   },
   "outputs": [
    {
     "name": "stdout",
     "output_type": "stream",
     "text": [
      "https://www.mturk.com/mturk/dashboard 819853953.992\n",
      "https://www.facebook.com/ 742395830.016\n",
      "https://www.mturk.com/mturk/findhits?match=true?hit_scraper 341962508.004\n",
      "chrome://newtab/ 159834260.971\n",
      "https://mail.google.com/mail/u/0/#inbox 158852682.007\n",
      "https://www.mturk.com/mturk/findhits?match=false&hit_scraper 152043276.999\n",
      "https://www.mturk.com/mturk/findhits?match=true 113784877.001\n",
      "http://hitgrabber.net/ 84484867.0034\n",
      "https://www.tumblr.com/dashboard 79354927.9956\n",
      "https://docs.google.com/spreadsheets/d/1ZBzbhT5itY-L75wfjrNVJQt177kWhXh72bCTqCfMQyE/edit#gid=2096979058 75842983.0\n",
      "http://quarks.inr.ac.ru/2004/proceedings/Quarks/kuraev.pdf 75533467.9988\n",
      "https://mail.google.com/mail/#inbox 68414218.9988\n",
      "https://tweetdeck.twitter.com/# 58484884.999\n",
      "https://www.mturk.com/mturk/myhits 57807538.019\n",
      "https://www.google.com/_/chrome/newtab?espv=2&ie=UTF-8 56290382.0071\n",
      "https://mail.google.com/mail/u/1/#inbox 53784284.0078\n",
      "https://www.mturk.com/mturk/findhits?match=true?hit_scraper-dev 53470911.0083\n",
      "https://apps.facebook.com/eontictactoe/?fb_source=bookmark&ref=bookmarks&count=0&fb_bmpos=_0 47729375.0005\n",
      "https://apps.facebook.com/candycrushsoda/?fb_source=sidebar_bookmark 45410038.0022\n",
      "https://templates.textbroker.com/mask/ymask.php 45139049.9998\n",
      "https://www.reddit.com/r/AskReddit/comments/4bpjxo/what_items_or_products_are_found_only_in_rich/ 43674310.9998\n",
      "https://www.facebook.com/?sk=h_chr 42000375.0027\n",
      "http://imgur.com/WoswEW6 41010514.9998\n",
      "https://mail.google.com/mail/u/0/#spam 40262842.0017\n",
      "http://game.soul-arena.com/ 38543717.9973\n",
      "http://plinga.com/play#games/2/playOnline 36661173.9976\n",
      "https://ttn.tlinks.com/Reservations/Itinerary.aspx 34660857.0017\n",
      "https://www.facebook.com/messages/jessica.wood.106 33360055.9954\n",
      "https://perk.tv/video/248/perk-app-trailers 33276866.9978\n",
      "https://soundcloud.com/solomon-yoon-hwa-yang 31866669.9995\n",
      "https://www.reddit.com/ 30018428.998\n",
      "https://apps.facebook.com/coral-isle/ 29957956.0005\n",
      "https://www.mturk.com/mturk/preview?prevRequester=Ivy+Research&hitId=3ZGVPD4G6UZQNA8VLOWNBV2AIH0TZO&isPreviousIFrame=true&groupId=3YSALWD20I94MDGCQON5SCM83A1PHZ 28766713.9998\n",
      "http://us.anno-online.com/en/play 28759821.9995\n",
      "http://www.cntraveler.com/stories/2016-03-29/air-canada-is-offering-free-stopovers-in-toronto?mbid=social_facebook 28028633.0\n",
      "https://mail.google.com/mail/u/0/?tab=wm#inbox 27822586.9966\n",
      "http://www.eatthis.com/jennifer-aniston-breakfast 27722748.9998\n",
      "https://docs.google.com/document/d/1q2s4u1jQ4BUVT16nCr-pkW114mMEDeLiTJztWJxp2Jw/edit 27424123.0005\n",
      "https://www.reddit.com/r/fatlogic/comments/4c0457/woman_explains_why_she_lost_weight_for_her_husband/ 26416169.0\n",
      "http://gwu.qualtrics.com/jfe/form/SV_d0t1HqvhRMZICj3 26398549.0007\n",
      "http://www.ew.com/article/2016/03/14/supergirl-italia-ricci-siobhan-smythe-silver-banshee 26048955.9998\n",
      "https://www.reddit.com/r/fatpeoplestories/ 25375851.0\n",
      "https://www.mturk.com/HM 24800209.9958\n",
      "https://www.youtube.com/ 24245991.9978\n",
      "https://us20.chatzy.com/11920092594925 23951899.0024\n",
      "https://www.etsy.com/your/shops/Natural20Cosmetics/dashboard?ref=seller_platform_hdr 23127851.9995\n",
      "https://outlook.live.com/owa/ 22172128.9998\n",
      "http://plinga.com/play#games/23/playOnline 22072016.9995\n",
      "https://upenn.co1.qualtrics.com/jfe/form/SV_8oE1ysJvsGBD3gx 21099503.9993\n",
      "http://www.apple.com/macbook-air/specs.html 19541100.0007\n",
      "https://www.facebook.com/Smoke.And.Ink 19043847.9983\n",
      "https://apps.facebook.com/wordbattling/?fb_source=canvas_bookmark 18876415.9983\n",
      "https://web.whatsapp.com/ 18862530.0042\n",
      "https://www.speechpad.com/worker/transcribe/fe2c82a4-aacf-4853-9d33-33a15e43379b# 18858676.0007\n",
      "https://www.mturk.com/mturk/findhits?match=false 18179310.9954\n",
      "https://apps.facebook.com/islandexperiment/ 18167060.0007\n",
      "https://qtrial2016q1az1.az1.qualtrics.com/jfe/form/SV_b77lFQz2dC3Rl4h 17946834.0\n",
      "https://www.netflix.com/watch/70080629?trackId=13589554 17800928.0002\n",
      "https://byu.az1.qualtrics.com/jfe/form/SV_bvbM87aUsV5Z44l 17504945.9988\n",
      "https://apps.facebook.com/coral-isle/?fb_source=sidebar_bookmark 17395666.0012\n",
      "http://www.fayettevillenc.va.gov/FAYETTEVILLENC/contact/phone_directory.asp 17313582.0\n",
      "https://www.crowdcurio.com/experiments/13/workflow/ 16843469.9995\n",
      "https://apps.facebook.com/candycrush/?fb_source=canvas_bookmark 16548163.002\n",
      "https://www.facebook.com/?q= 16283244.9978\n",
      "https://mail.google.com/mail/u/1/#search/divergent+realities/1534575253b93a46 15973946.0\n",
      "https://www.netflix.com/watch/70069654?trackId=13589554 15846004.0002\n",
      "https://www.facebook.com/?ref=tn_tnmn 15806261.999\n",
      "https://www.netflix.com/watch/80065743?trackId=13589554 15698592.9993\n",
      "https://surveys.ipsosinteractive.com/surveys/25b6acb2-de68-11e2-a28f-0800200c9a66 14844611.0002\n",
      "https://apps.facebook.com/puzzlywords/?fb_source=canvas_bookmark 14825919.001\n",
      "https://gate.aon.com/Candidate/Step/SaveAssessmentAnswer 14622114.001\n",
      "https://my-digitallife.att.com/learn/shop 14504610.9995\n",
      "https://www.netflix.com/watch/70152026?trackId=13589554 14452806.0005\n",
      "https://www.youtube.com/watch?v=gyKg7xmVIKw&list=PL3tRBEVW0hiBySIHHqBen5AUm6CMoIY2J 14350691.0\n",
      "https://forums.animez.to/ 14321164.0005\n",
      "https://www.twitch.tv/a_l_o_h_a 14203170.0017\n",
      "http://www.csgodouble.com/withdraw.php 14118912.9988\n",
      "https://www.messenger.com/t/darick.harvey 14073967.0005\n",
      "http://www.doctoroz.com/article/dr-ozs-3-day-detox-cleanse-one-sheet 13705220.0002\n",
      "http://www.allmyvideos.net/i9wn61rrdxei 13640517.9995\n",
      "http://howtomakecosmetics.com/cart 13469516.9988\n",
      "https://umn.qualtrics.com/jfe/form/SV_8B89rOBEH1pZGuN?Q_SDID=SD_7XafRkkebZIwS6V 13445193.9978\n",
      "https://www.netflix.com/watch/80065742?trackId=14272744 13418023.0002\n",
      "https://www.google.co.in/?gfe_rd=cr&ei=DhuEU9qfL6mViAeEgoHwDQ 13151485.9995\n",
      "https://www.google.com/search?q=gamestop&oq=gamestop&aqs=chrome..69i57j69i60j0l2j69i60l2.3679j0j7&sourceid=chrome&ie=UTF-8 12830948.0\n",
      "https://mail.aol.com/webmail-std/en-us/suite 12761927.0032\n",
      "https://apps.facebook.com/juicejam/?fb_source=bookmark&ref=bookmarks&count=0&fb_bmpos=_0 12617714.0029\n",
      "https://us8.forgeofempires.com/game/index 12507983.001\n",
      "https://www.facebook.com/?ref=logo 12408016.001\n",
      "https://www.mturk.com/mturk/submit 11770143.0076\n",
      "https://intern.textbroker.com/a/teamorder-write-submit.php 11676633.001\n",
      "https://www.youtube.com/feed/subscriptions 11456036.0005\n",
      "https://www.amzreviewtrader.com/product-list.php 11411758.9971\n",
      "https://www.mturk.com/mturk/status 11382706.0034\n",
      "https://ets.az1.qualtrics.com/jfe/form/SV_bscCeOR8xfxwLOt 11343151.9985\n",
      "http://nd.qualtrics.com/jfe/form/SV_cBbGwczMKOt7tJP 11219547.9983\n",
      "https://www.yahoo.com/ 11103454.9961\n",
      "https://forums.animez.to/profile/13-costmuffled/?status=193&type=status 10997401.001\n",
      "https://unc.az1.qualtrics.com/jfe/form/SV_eMdTQCl2mbRL0yN 10901875.9988\n",
      "https://us8.forgeofempires.com/game/index?ref= 10735314.9985\n"
     ]
    }
   ],
   "source": [
    "print_counter(url_to_seconds_that_cannot_be_reconstructed)"
   ]
  },
  {
   "cell_type": "code",
   "execution_count": 25,
   "metadata": {
    "collapsed": true
   },
   "outputs": [],
   "source": [
    "overall_domains_where_reconstructed_has_no_reference = Counter()\n",
    "overall_domains_where_reference_has_no_reconstructed = Counter()\n",
    "overall_urls_where_reconstructed_has_no_reference = Counter()\n",
    "overall_urls_where_reference_has_no_reconstructed = Counter()\n",
    "\n",
    "for user,data in user_to_span_alignment_data.items():\n",
    "  for k,v in data['domains_where_reconstructed_has_no_reference'].items():\n",
    "    overall_domains_where_reconstructed_has_no_reference[k] += v\n",
    "  for k,v in data['domains_where_reference_has_no_reconstructed'].items():\n",
    "    overall_domains_where_reference_has_no_reconstructed[k] += v\n",
    "  for k,v in data['urls_where_reconstructed_has_no_reference'].items():\n",
    "    overall_urls_where_reconstructed_has_no_reference[k] += v\n",
    "  for k,v in data['urls_where_reference_has_no_reconstructed'].items():\n",
    "    overall_urls_where_reference_has_no_reconstructed[k] += v\n"
   ]
  },
  {
   "cell_type": "code",
   "execution_count": null,
   "metadata": {
    "collapsed": true
   },
   "outputs": [],
   "source": []
  },
  {
   "cell_type": "code",
   "execution_count": 26,
   "metadata": {
    "collapsed": false
   },
   "outputs": [
    {
     "name": "stdout",
     "output_type": "stream",
     "text": [
      "https://www.mturk.com/mturk/dashboard 2554\n",
      "https://www.google.com/webhp?sourceid=chrome-instant&ion=1&espv=2&ie=UTF-8 1890\n",
      "https://www.mturk.com/mturk/checkregistration 1580\n",
      "https://www.facebook.com/ 1457\n",
      "https://www.mturk.com/mturk/previewandaccept?groupId=35DGDVUOHKKVOAMD7VZRLQEQ0J7YPA 1209\n",
      "https://www.mturk.com/mturk/previewandaccept?groupId=3NYGPW9OUZ9VT0WI3H1AZXNS6BEZP1 1199\n",
      "https://www.mturk.com/mturk/previewandaccept?groupId=3SFJXQ9EG58Y3WRLXCW2QCVUYYDXDX 851\n",
      "https://www.mturk.com/mturk/previewandaccept?groupId=3PBTVBPQ9UI5R0A3PW7WXNE8W4CLGC 842\n",
      "https://www.mturk.com/mturk/sortmyhits?searchSpec=HITSearch%23T%231%2325%23-1%23T%23%21Status%210%21rO0ABXQACEFzc2lnbmVk%21%23%21Deadline%211%21%23%21 670\n",
      "https://perk.tv/video/6268/perk-app-trailers 553\n",
      "https://www.mturk.com/mturk/endsignin 475\n",
      "https://mail.google.com/mail/u/0/#inbox 464\n",
      "https://www.mturk.com/mturk/findhits?match=false 389\n",
      "https://www.youtube.com/ 385\n",
      "https://perk.tv/video/248/perk-app-trailers 381\n",
      "https://www.mturk.com/mturk/myhits 362\n",
      "https://www.mturk.com/mturk/previewandaccept?groupId=37Z7ICZ5H99I7X75WVHFALYDSS611I 351\n",
      "https://mail.aol.com/38947-111/aol-6/en-us/Lite/MessageActions.aspx 305\n",
      "https://www.mturk.com/mturk/previewandaccept?groupId=36DWM50OGJQWNGWUY157IKGIRLYKEQ 300\n",
      "https://mail.google.com/mail/u/0/ 271\n",
      "https://www.mturk.com/mturk/previewandaccept?groupId=3J26SAFG0SZ7EH1WME868VOWHV40IA 270\n",
      "http://theadvocate.com/ 245\n",
      "https://work.crowdsurfwork.com/tasks/14d7b0778f8b480c9261f9241611ee56?work_submitted=1 244\n",
      "https://docs.google.com/document/d/1q2s4u1jQ4BUVT16nCr-pkW114mMEDeLiTJztWJxp2Jw/edit 241\n",
      "https://www.reddit.com/r/HITsWorthTurkingFor/new/ 235\n",
      "https://www.mturk.com/mturk/submit 232\n",
      "http://turkernation.com/search.php?do=getnew&contenttype=vBForum_Post 231\n",
      "https://www.yahoo.com/ 226\n",
      "https://www.mturk.com/mturk/previewandaccept?groupId=3XEPRIQTXG2QV4X67W8SE50B0S06JS 222\n",
      "https://www.google.com/?gws_rd=ssl 222\n",
      "https://www.mturk.com/mturk/findhits?match=true 208\n",
      "https://www.mturk.com/mturk/previewandaccept?groupId=3J26SAFG0SX5N4SBHAF9L805JD4I0P 201\n",
      "http://www.news.com.au/ 197\n",
      "https://www.mturk.com/mturk/previewandaccept?groupId=3PCJO2UJYJQZHYLKXZA79DTJK2DU5D 170\n",
      "https://www.amazon.com/ap/signin 169\n",
      "https://docs.google.com/document/d/1qhC05k7ura6BA9oMB_mWEtKFHqxbMHPDLvzDPeDmxYc/edit 167\n",
      "https://www.mturk.com/mturk/welcome 156\n",
      "https://www.mturk.com/mturk/myhits?first 156\n",
      "https://www.tumblr.com/dashboard 152\n",
      "https://www.mturk.com/mturk/previewandaccept?groupId=3ZXEP6UEGGA75UPGRQ2UPK3XA4YO8B 148\n",
      "https://docs.google.com/document/d/1YS2cWgNie2k1lzZxol-5h0HvBk-4iEwYiXfVBFw244I/edit 146\n",
      "https://www.mturk.com/mturk/beginsignin 146\n",
      "https://mail.google.com/mail/ 133\n",
      "http://local.cs-int-592.com:5550/companies 129\n",
      "https://my.screenname.aol.com/_cqr/login/login.psp 121\n",
      "https://www.netflix.com/ 121\n",
      "https://www.mturk.com/mturk/previewandaccept?groupId=3SAOMJ8V4AKRRO4ZIBEJBA6OJROW45 120\n",
      "http://www.netflix.com/browse 115\n",
      "https://work.crowdsurfwork.com/tasks/14d7b0778f8b480c9261f9241611ee56?skip=1 110\n",
      "https://www.mturk.com/mturk/findhits?match=true?hit_scraper 110\n",
      "https://www.reddit.com/r/HITsWorthTurkingFor/ 110\n",
      "http://www.tohosting.tk/2015/10/dedicated-virtual-server-hosting.html 109\n",
      "https://www.reddit.com/ 109\n",
      "https://www.mturk.com/mturk/previewandaccept?groupId=3RPY1MM0AHYRFGNHHAD9085N3TUHMC 104\n",
      "https://www.facebook.com/login.php?login_attempt=1&lwv=110 101\n",
      "https://gate.aon.com/Candidate/Step/SaveAssessmentAnswer 101\n",
      "http://www.cashcrate.com/home 100\n",
      "https://docs.google.com/document/d/1BfQLJTRE8P0INAweQW5YGOMu8WItKWqcA7ooUnQhOKM/edit# 97\n",
      "https://www.mturk.com/mturk/previewandaccept?groupId=3UEL82N5TOJ3OX2YY1MR1XKEVT3NTP 95\n",
      "https://docs.google.com/document/d/1qhC05k7ura6BA9oMB_mWEtKFHqxbMHPDLvzDPeDmxYc/edit# 95\n",
      "http://www.tohosting.tk/2015/08/singapore-web-hosting-effective-choices.html 91\n",
      "https://www.netflix.com/browse 90\n",
      "https://www.mturk.com/mturk/previewandaccept?groupId=3VWJW73CGPCJPMK82IUG99P6QMHZF6 90\n",
      "https://accounts.google.com/ServiceLoginAuth 89\n",
      "http://www.mblaze.home/default.asp 88\n",
      "https://www.mturk.com/mturk/previewandaccept?groupId=36M7HST2M6WTKOUBDPMHCDJF08O3BD 88\n",
      "https://www.google.co.in/webhp?sourceid=chrome-instant&ion=1&espv=2&ie=UTF-8 87\n",
      "https://www.mturk.com/mturk/previewandaccept?groupId=3TJWA4I73GA74QPH6L7C69PD32O21F 84\n",
      "http://local.cs-int-592.com:5550/companies/2511/edit?limit=50&offset=0 82\n",
      "https://www.mturk.com/mturk/preview?groupId=3J26SAFG0SX5N4SBHAF9L805JD4I0P 80\n",
      "http://www.theblaze.com/ 77\n",
      "https://www.mturk.com/mturk/findhits?match=false&hit_scraper 77\n",
      "http://local.cs-int-592.com:5550/companies/2511/edit?limit=50&offset=0# 76\n",
      "https://tools.usps.com/go/TrackConfirmAction?tLabels=9400110200828958621435 75\n",
      "https://workplace.clickworker.com/en/clickworker/trainings/37389 75\n",
      "https://www.mturk.com/mturk/previewandaccept?groupId=3LBF4GRVWQSB1V8AOKNI47EZJYMDDE 74\n",
      "https://www.mturk.com/mturk/previewandaccept?groupId=3XB7PZ5TYK60NWFRUA3X8PBYLF77O9 73\n",
      "http://local.cs-int-592.com:5550/companies/2511/edit 73\n",
      "https://docs.google.com/document/d/17IB72hlRFVLCXmXQ25pUL40Q1xT2-MhujDgYrFEVrJg/edit 73\n",
      "https://workplace.clickworker.com/en/clickworker/trainings/37389/edit 71\n",
      "https://www.facebook.com/?ref=logo 71\n",
      "https://www.google.com/ 71\n",
      "http://www.livenewschat.eu/watch-live-tv/?ref=001 71\n",
      "http://www.irazoo.com/Games/GameCaptcha.aspx?gameUrl=http://www.gamemosh.com/api/game.php?game=1i&width=550&height=500&pubid=irazo&affid=xyz&subid=[subid] 71\n",
      "https://www.mturk.com/mturk/checkrecognition 71\n",
      "https://columbia.az1.qualtrics.com/SE/?SID=SV_9zuO02DpJlUC8Zf 71\n",
      "https://www.mturk.com/mturk/previewandaccept?groupId=3MB19ID76X8K7ANJC8CGNA2151H61P 70\n",
      "http://www.questforarrakis.com/phpBB3.1/viewonline.php?sg=0&sk=b&sd=d&start=0&sid=dc37f669cbce480b7b4a1f2d61dab171 69\n",
      "http://www.bloomberg.com/ 68\n",
      "https://www.surveymonkey.co.uk/r/WY5Q9B8 66\n",
      "http://www.twitch.tv/ 66\n",
      "https://payments.amazon.com/overview 65\n",
      "https://www.mturk.com/mturk/previewandaccept?groupId=3D8O2NKTAGGN5OOGFSZ0NN79NVY13P 65\n",
      "https://turkopticon.ucsd.edu/main/php_search 65\n",
      "https://www.surveymonkey.com/r/AttitudesAboutIssuesInNews 64\n",
      "http://www.amazon.com/ 64\n",
      "https://work.crowdsurfwork.com/tasks/14d7b0778f8b480c9261f9241611ee56 62\n",
      "https://ols14.acuriantrials.com/question.htm 62\n",
      "https://docs.google.com/document/d/1vhVTIYj7IOOs2uEXvZB8KhSQ-iVoYAiaypX2r47aXL4/edit# 61\n",
      "https://docs.google.com/document/d/1nCLLieBl2Mw3TVUv-n64_ASew8BRmL98W_QAqTr9qSk/edit# 61\n"
     ]
    }
   ],
   "source": [
    "print_counter(overall_urls_where_reconstructed_has_no_reference)"
   ]
  },
  {
   "cell_type": "code",
   "execution_count": 27,
   "metadata": {
    "collapsed": false
   },
   "outputs": [
    {
     "name": "stdout",
     "output_type": "stream",
     "text": [
      "https://www.mturk.com/mturk/dashboard 55433\n",
      "https://www.mturk.com/mturk/findhits?match=true?hit_scraper 38207\n",
      "chrome://newtab/ 35322\n",
      "https://www.facebook.com/ 24001\n",
      "https://www.mturk.com/mturk/findhits?match=false&hit_scraper 19857\n",
      "https://mail.google.com/mail/u/0/#inbox 14013\n",
      "http://hitgrabber.net/ 12887\n",
      "https://www.google.com/_/chrome/newtab?espv=2&ie=UTF-8 10425\n",
      "https://www.mturk.com/mturk/myhits 6386\n",
      "http://game.soul-arena.com/ 4115\n",
      " 3334\n",
      "https://www.mturk.com/HM 3039\n",
      "https://us20.chatzy.com/11920092594925 3026\n",
      "https://www.mturk.com/mturk/findhits?match=true 2931\n",
      "https://www.mturk.com/mturk/submit 2715\n",
      "https://mail.google.com/mail/u/1/#inbox 2620\n",
      "https://www.mturk.com/mturk/findhits?match=true?hit_scraper-dev 2472\n",
      "https://www.tumblr.com/dashboard 2293\n",
      "https://www.mturk.com/mturk/findhits?match=false 1933\n",
      "https://www.google.com/webhp?sourceid=chrome-instant&ion=1&espv=2&ie=UTF-8 1902\n",
      "https://www.mturk.com/mturk/findhits?match=false&hit_scraper# 1766\n",
      "https://mail.google.com/mail/u/0/?tab=wm#inbox 1750\n",
      "https://www.reddit.com/ 1666\n",
      "https://www.youtube.com/ 1460\n",
      "https://calendar.google.com/calendar/render??pli=1&pli=1#main_7 1362\n",
      "https://www.facebook.com/messages/jessica.wood.106 1324\n",
      "https://ttn.tlinks.com/Reservations/Itinerary.aspx 1302\n",
      "http://www.csgodouble.com/withdraw.php 1262\n",
      "https://docs.google.com/document/d/1q2s4u1jQ4BUVT16nCr-pkW114mMEDeLiTJztWJxp2Jw/edit 1119\n",
      "http://sbcodez.com/ 1108\n",
      "http://www.swagbucks.com/account/summary 1079\n",
      "https://www.reddit.com/r/HITsWorthTurkingFor/new/ 986\n",
      "https://web.whatsapp.com/ 955\n",
      "https://apps.facebook.com/wordbattling/?fb_source=canvas_bookmark 889\n",
      "http://www.tohosting.tk/ 881\n",
      "https://snt151.mail.live.com/?fid=flinbox 854\n",
      "http://www.host2inger.com/ 834\n",
      "https://www.facebook.com/?sk=h_chr 832\n",
      "https://mail.google.com/mail/#inbox 795\n",
      "https://www.yahoo.com/ 771\n",
      "https://apps.facebook.com/candycrushsoda/?fb_source=sidebar_bookmark 766\n",
      "http://play.pokemonshowdown.com/ 760\n",
      "https://turkopticon.ucsd.edu/main/php_search 751\n",
      "http://www.swagbucks.com/games/play/114/swagasaurus-run 745\n",
      "https://mail.google.com/mail/u/0/#spam 736\n",
      "https://tweetdeck.twitter.com/# 735\n",
      "https://qbo.intuit.com/app/check 724\n",
      "https://www.facebook.com/Smoke.And.Ink 707\n",
      "http://www.gifthulk.com/# 706\n",
      "https://www.mturk.com/mturk/status 640\n",
      "https://mail.aol.com/webmail-std/en-us/suite 628\n",
      "https://templates.textbroker.com/mask/ymask.php 628\n",
      "https://apps.facebook.com/puzzlywords/?fb_source=canvas_bookmark 626\n",
      "https://docs.google.com/spreadsheets/d/1UYiOaoctvReBTOZIZuEY5_BQjEWzuBJ13Fwn82UO_qY/edit#gid=0 625\n",
      "https://www.mturk.com/mturk/viewhits?searchWords=&pageNumber=2&searchSpec=HITGroupSearch%23T%231%2310%23-1%23T%23%21only_available_hits%210%21rO0ABXQABHRydWU-%21%23%21Reward%211%21%23%21&sortType=Reward%3A1&selectedSearchType=hitgroups 624\n",
      "https://apps.facebook.com/coral-isle/ 620\n",
      "https://www.reddit.com/r/HITsWorthTurkingFor/ 614\n",
      "http://gcat.dot.state.oh.us/CrashWebHome.aspx 608\n",
      "https://www.google.co.in/_/chrome/newtab?espv=2&ie=UTF-8 605\n",
      "http://www.swagbucks.com/ 598\n",
      "http://www.csgodouble.com/ 596\n",
      "https://www.twitch.tv/a_l_o_h_a 586\n",
      "https://www.mturk.com/mturk/welcome 580\n",
      "https://www.youtube.com/feed/subscriptions 567\n",
      "https://www.mturk.com/mturk/findhits?*hit_scraper 544\n",
      "https://docs.google.com/document/d/1nCLLieBl2Mw3TVUv-n64_ASew8BRmL98W_QAqTr9qSk/edit# 541\n",
      "https://www.facebook.com/?ref=tn_tnmn 525\n",
      "https://twitter.com/ 517\n",
      "https://www.mturk.com/mturk/searchbar?selectedSearchType=hitgroups&searchWords=a9&minReward=0.00&x=0&y=0 511\n",
      "https://docs.google.com/document/d/1nCLLieBl2Mw3TVUv-n64_ASew8BRmL98W_QAqTr9qSk/edit 508\n",
      "https://www.twitch.tv/mintmaus 506\n",
      "http://plinga.com/play#games/2/playOnline 503\n",
      "https://wwwsc.ekeystone.com/Checkout 498\n",
      "https://apps.facebook.com/juicejam/?fb_source=bookmark&ref=bookmarks&count=0&fb_bmpos=_0 496\n",
      "https://docs.google.com/document/d/1BfQLJTRE8P0INAweQW5YGOMu8WItKWqcA7ooUnQhOKM/edit# 492\n",
      "https://www.twitch.tv/tehjamjar 488\n",
      "https://www.mturk.com/mturk/myhits?first 485\n",
      "http://www.michigantrafficcrashfacts.org/datatool/build.php 474\n",
      "https://www.reddit.com/r/ffxiv/ 474\n",
      "https://perk.tv/video/248/perk-app-trailers 471\n",
      "https://www.twitch.tv/teamsp00ky 469\n",
      "https://hw.reddit.com/r/HITsWorthTurkingFor/new/ 463\n",
      "https://docs.google.com/document/d/1JhMg8HoxqII5F1Auib4D24jivpHvbAlfG9Qqy-mrR3I/edit 458\n",
      "https://www.mturk.com/mturk/checkregistration 456\n",
      "https://www.reddit.com/r/relationships/ 452\n",
      "https://hillsdale.co1.qualtrics.com/SE/?SID=SV_8cA272YydggUX41 444\n",
      "https://www.twitch.tv/directory/following 443\n",
      "https://www.mturk.com/mturk/findhits?match=true%3Fhit_scraper 437\n",
      "https://apps.facebook.com/eontictactoe/?fb_source=bookmark&ref=bookmarks&count=0&fb_bmpos=_0 437\n",
      "https://www.rewardshopping.com/slb 430\n",
      "https://www.facebook.com/?ref=logo 427\n",
      "http://www.livenewschat.eu/top/ 427\n",
      "https://www.twitch.tv/dotapit 426\n",
      "https://surveys.ipsosinteractive.com/surveys/25b6acb2-de68-11e2-a28f-0800200c9a66 424\n",
      "https://www.google.com/voice/b/0#inbox 421\n",
      "http://www.crichd.tv/live-sky-sports-2-uk-stream.php 417\n",
      "https://www.facebook.com/?q= 416\n",
      "https://www.sharelatex.com/project/56f6248ad63196fe60ef3677 410\n",
      "https://www.twitch.tv/arteezy 408\n",
      "https://www.mturk.com/mturk/preview?groupId=315D2CYS02YMYX81NFR5RTKSL3DX7L 391\n"
     ]
    }
   ],
   "source": [
    "print_counter(overall_urls_where_reference_has_no_reconstructed)"
   ]
  },
  {
   "cell_type": "code",
   "execution_count": 28,
   "metadata": {
    "collapsed": false
   },
   "outputs": [
    {
     "name": "stdout",
     "output_type": "stream",
     "text": [
      "www.mturk.com 27845\n",
      "www.google.com 7131\n",
      "www.youtube.com 6835\n",
      "www.facebook.com 3823\n",
      "docs.google.com 2943\n",
      "i.imgur.com 2884\n",
      "www.reddit.com 2322\n",
      "perk.tv 1972\n",
      "imgur.com 1868\n",
      "mail.google.com 1363\n",
      "www.mturkgrind.com 1271\n",
      "earnhoney.com 1252\n",
      "www.amazon.com 1233\n",
      "i.ytimg.com 1011\n",
      "www.host2inger.com 900\n",
      "www.surveymonkey.com 840\n",
      "work.crowdsurfwork.com 794\n",
      "www.tohosting.tk 782\n",
      "vitals-2.crowdcomputingsystems.com 763\n",
      "mturkforum.com 726\n",
      "local.cs-int-592.com:5550 640\n",
      "www.netflix.com 534\n",
      "turkernation.com 455\n",
      "www.pinterest.com 432\n",
      "mail.aol.com 428\n",
      "www.hulu.com 411\n",
      "turkopticon.ucsd.edu 407\n",
      "personalityfactors.net 396\n",
      "www.ebay.com 395\n",
      "www.buzzfeed.com 375\n",
      "www.google.co.in 367\n",
      "twitter.com 340\n",
      "thewatchseries.to 336\n",
      "www.instagram.com 335\n",
      "www.car-insurance-quote-fx.com 325\n",
      "ma.brazzers.com 297\n",
      "www.lipstickalley.com 288\n",
      "www.earnhoney.com 273\n",
      "www.yahoo.com 259\n",
      "accounts.google.com 251\n",
      "theadvocate.com 246\n",
      "www.zulily.com 246\n",
      "www.twitch.tv 241\n",
      "buffer.com 241\n",
      "en.wikipedia.org 241\n",
      "news.google.com 232\n",
      "apps.facebook.com 231\n",
      "www.tumblr.com 229\n",
      "payments.amazon.com 217\n",
      "www.playstationtrophies.org 211\n",
      "www.swagbucks.com 209\n",
      "www.news.com.au 206\n",
      "www.bing.com 199\n",
      "www.hotnewhiphop.com 197\n",
      "www.surveygizmo.com 186\n",
      "www.linkedin.com 184\n",
      "s3.amazonaws.com 183\n",
      "www.mturkcrowd.com 178\n",
      "gfycat.com 176\n",
      "www.paypal.com 175\n",
      "upload.wikimedia.org 174\n",
      "workplace.clickworker.com 165\n",
      "my.screenname.aol.com 161\n",
      "www.freelancer.com 154\n",
      "us-mg5.mail.yahoo.com 154\n",
      "gate.aon.com 146\n",
      "chicago.craigslist.org 145\n",
      "hw.reddit.com 144\n",
      "www.jcpenney.com 140\n",
      "www.cashcrate.com 139\n",
      "outlook.live.com 136\n",
      "ww3.unipark.de 135\n",
      "requester.mturk.com 130\n",
      "wwwsc.ekeystone.com 130\n",
      "drive.google.com 130\n",
      "www.samplicio.us 124\n",
      "www.wish.com 120\n",
      "m.facebook.com 119\n",
      "tmi.stanford.edu 119\n",
      "uat1-admin.cs-int-592.com 117\n",
      "www.financial-net.com 116\n",
      "www.rackspace.com 115\n",
      "www.imdb.com 115\n",
      "www.wikiorgcharts.com 115\n",
      "www.master-net.tk 114\n",
      "www.thinkgeek.com 111\n",
      "www.workmarket.com 109\n",
      "surveymyopinion.researchnow.com 103\n",
      "ww2.unipark.de 102\n",
      "www.masters-degrees.info 99\n",
      "www.etsy.com 99\n",
      "www.typologycentral.com 98\n",
      "www.dropzone.com 97\n",
      "redcap.lifespan.org 96\n",
      "www.irazoo.com 96\n",
      "geekhack.org 94\n",
      "gurugossiper.com 90\n",
      "www.surveymonkey.co.uk 90\n",
      "www.mblaze.home 88\n",
      "www.cybersecurityquiz.org 88\n"
     ]
    }
   ],
   "source": [
    "print_counter(overall_domains_where_reconstructed_has_no_reference)"
   ]
  },
  {
   "cell_type": "code",
   "execution_count": 29,
   "metadata": {
    "collapsed": false
   },
   "outputs": [
    {
     "name": "stdout",
     "output_type": "stream",
     "text": [
      "www.mturk.com 196943\n",
      "www.facebook.com 102365\n",
      "vidzi.tv 32765\n",
      "turkopticon.ucsd.edu 28882\n",
      "www.mturkgrind.com 27821\n",
      "www.mturkcrowd.com 26589\n",
      "www.google.com 26488\n",
      "www.reddit.com 25662\n",
      "aurafc.guildwork.com 25227\n",
      "www.nextmuni.com 23065\n",
      "mail.google.com 22002\n",
      "news.google.com 21932\n",
      "us-mg5.mail.yahoo.com 20792\n",
      "www.youtube.com 20307\n",
      "my.presonus.com 19924\n",
      "www.amazon.com 19431\n",
      "www.netflix.com 19162\n",
      "docs.python.org 18694\n",
      "prolific.ac 14655\n",
      "secure.bankofamerica.com 14078\n",
      "www.hulu.com 11600\n",
      "68.45.57.129:22362 10537\n",
      "gate.aon.com 10441\n",
      "community.babycenter.com 9353\n",
      "www.txlottery.org 9172\n",
      "perk.tv 8887\n",
      "www.buzzfeed.com 8853\n",
      "www.tumblr.com 8577\n",
      "stonybrookuniversity.co1.qualtrics.com 8417\n",
      "www.startribune.com 8103\n",
      "armycivilianservice.usajobs.gov 7714\n",
      "www.playstationtrophies.org 7628\n",
      "sewg.az1.qualtrics.com 7284\n",
      "www.toonova.com 6943\n",
      "klbibkeccnjlkjkiokjodocebajanakg 6940\n",
      "mintvine.com 6734\n",
      "www.twitch.tv 6500\n",
      "www.michigantrafficcrashfacts.org 6478\n",
      "www.yahoo.com 6439\n",
      "qbo.intuit.com 6438\n",
      "www.kayak.com 6373\n",
      "kat.cr 5626\n",
      "www.cliffsnotes.com 5208\n",
      "stitesdance.com 5143\n",
      "www.netmeds.com 4887\n",
      "serve.popads.net 4708\n",
      "9gag.com 4706\n",
      "jobs.myflorida.com 4647\n",
      "www.lendingclub.com 4586\n",
      "mail.aol.com 4314\n",
      "imgur.com 4099\n",
      "www.insightexpress.com 4033\n",
      "www.simpsonsworld.com 4020\n",
      "bulletin.uga.edu 4004\n",
      "www.fanfiction.net 3985\n",
      "missouri.qualtrics.com 3977\n",
      "np.reddit.com 3941\n",
      "www.reliancenetconnect.co.in 3802\n",
      "www.etsy.com 3533\n",
      "whatismyipaddress.com 3474\n",
      "b2b.verizonwireless.com 3369\n",
      "www.oregonlive.com 3227\n",
      "www.google.be 3224\n",
      "www.bestbuy.com 3188\n",
      "index.about.com 3175\n",
      "joanakompa.com 2929\n",
      "www.zazzle.com 2905\n",
      "myanimelist.net 2717\n",
      "www.bankofamerica.com 2560\n",
      "www.catie.ca 2509\n",
      "knoxville.craigslist.org 2445\n",
      "raleigh.craigslist.org 2433\n",
      "ttn.tlinks.com 2347\n",
      "marketing.hostanalytics.com 2278\n",
      "apps.facebook.com 2215\n",
      "webcourses.ucf.edu 2186\n",
      "d2l.lcc.edu 2075\n",
      "hauntedattractiononline.com 2066\n",
      "plinga.com 1961\n",
      "www.gsn.com 1747\n",
      "login.yahoo.com 1738\n",
      "www.lifeleadership.com 1671\n",
      "www.ipsy.com 1635\n",
      "www.humanesocietyofnorthernutah.com 1588\n",
      "www.cnn.com 1508\n",
      "content.schwab.com 1156\n",
      "www.quora.com 1140\n",
      "mysso.exede.net 1135\n",
      "www.4research.net 1096\n",
      "us-mg6.mail.yahoo.com 1065\n",
      "www.adn.com 998\n",
      "myfranciscan.franciscan.edu 964\n",
      "sufesiba.au1.qualtrics.com 918\n",
      "security.illinois.edu 622\n",
      "wakeforest.qualtrics.com 621\n",
      "www.offervault.com 615\n",
      "smallbusiness.chron.com 539\n",
      "www.jimmyjohns.com 508\n",
      "dartmouth.co1.qualtrics.com 342\n",
      "missouristatechhs.az1.qualtrics.com 275\n"
     ]
    }
   ],
   "source": [
    "print_counter(overall_domains_where_reference_has_no_reconstructed)"
   ]
  },
  {
   "cell_type": "code",
   "execution_count": null,
   "metadata": {
    "collapsed": false
   },
   "outputs": [],
   "source": []
  },
  {
   "cell_type": "code",
   "execution_count": null,
   "metadata": {
    "collapsed": false
   },
   "outputs": [],
   "source": []
  },
  {
   "cell_type": "code",
   "execution_count": 30,
   "metadata": {
    "collapsed": false
   },
   "outputs": [],
   "source": [
    "user_to_evaluation_stats = {}\n",
    "\n",
    "for user in list_users():\n",
    "  try:\n",
    "    stats = get_evaluation_stats_for_user(user)\n",
    "  except:\n",
    "    continue\n",
    "  user_to_evaluation_stats[user] = stats\n"
   ]
  },
  {
   "cell_type": "code",
   "execution_count": 31,
   "metadata": {
    "collapsed": false
   },
   "outputs": [
    {
     "name": "stdout",
     "output_type": "stream",
     "text": [
      "Counter({'both_inactive': 141169725, 'ref_active_but_rec_inactive': 14179433, 'correct_url': 9480626, 'incorrect_domain': 2897043, 'ref_inactive_but_rec_active': 1157295, 'correct_domain': 1041077})\n"
     ]
    }
   ],
   "source": [
    "overall_evaluation_stats = Counter()\n",
    "for user,stats in user_to_evaluation_stats.items():\n",
    "  for k,v in stats.items():\n",
    "    overall_evaluation_stats[k] += v\n",
    "\n",
    "print overall_evaluation_stats"
   ]
  },
  {
   "cell_type": "code",
   "execution_count": null,
   "metadata": {
    "collapsed": true
   },
   "outputs": [],
   "source": []
  },
  {
   "cell_type": "code",
   "execution_count": null,
   "metadata": {
    "collapsed": true
   },
   "outputs": [],
   "source": []
  },
  {
   "cell_type": "code",
   "execution_count": 32,
   "metadata": {
    "collapsed": false
   },
   "outputs": [
    {
     "data": {
      "text/plain": [
       "\"\\ndef get_users_with_tab_focus_data():\\n  users_with_tab_focus_data = []\\n\\n  for user in list_users():\\n    if not sdir_exists('tab_focus_times_for_user/' + user + '.json'):\\n      continue\\n    tab_focus_times = get_tab_focus_times_for_user(user)\\n    ordered_visits = get_history_ordered_visits_for_user(user)\\n    start_time = tab_focus_times[0]['start']\\n    ordered_visits_after_start = [x for x in ordered_visits if x['visitTime'] > start_time]\\n    #print len(tab_focus_times)\\n    if len(tab_focus_times) > 2000 and len(ordered_visits_after_start) > 400:\\n      users_with_tab_focus_data.append(user)\\n  return users_with_tab_focus_data\\n\""
      ]
     },
     "execution_count": 32,
     "metadata": {},
     "output_type": "execute_result"
    }
   ],
   "source": [
    "'''\n",
    "def get_users_with_tab_focus_data():\n",
    "  users_with_tab_focus_data = []\n",
    "\n",
    "  for user in list_users():\n",
    "    if not sdir_exists('tab_focus_times_for_user/' + user + '.json'):\n",
    "      continue\n",
    "    tab_focus_times = get_tab_focus_times_for_user(user)\n",
    "    ordered_visits = get_history_ordered_visits_for_user(user)\n",
    "    start_time = tab_focus_times[0]['start']\n",
    "    ordered_visits_after_start = [x for x in ordered_visits if x['visitTime'] > start_time]\n",
    "    #print len(tab_focus_times)\n",
    "    if len(tab_focus_times) > 2000 and len(ordered_visits_after_start) > 400:\n",
    "      users_with_tab_focus_data.append(user)\n",
    "  return users_with_tab_focus_data\n",
    "'''\n",
    "#print len(users_with_tab_focus_data)"
   ]
  },
  {
   "cell_type": "code",
   "execution_count": null,
   "metadata": {
    "collapsed": false
   },
   "outputs": [],
   "source": []
  },
  {
   "cell_type": "code",
   "execution_count": null,
   "metadata": {
    "collapsed": true
   },
   "outputs": [],
   "source": []
  },
  {
   "cell_type": "code",
   "execution_count": 33,
   "metadata": {
    "collapsed": false
   },
   "outputs": [],
   "source": [
    "#user = 'dwCCD1uofp' # doing very poorly with this user\n",
    "#user = 'UrZvGUsI8N'\n",
    "#user = users_with_tab_focus_data[0]\n",
    "#print user\n",
    "#url_to_visits = get_history_visits_for_user(user)"
   ]
  },
  {
   "cell_type": "code",
   "execution_count": null,
   "metadata": {
    "collapsed": true
   },
   "outputs": [],
   "source": []
  },
  {
   "cell_type": "code",
   "execution_count": null,
   "metadata": {
    "collapsed": false
   },
   "outputs": [],
   "source": []
  },
  {
   "cell_type": "code",
   "execution_count": 34,
   "metadata": {
    "collapsed": false
   },
   "outputs": [
    {
     "data": {
      "text/plain": [
       "'\\ndef compute_tab_focus_times_with_events_for_user(user):\\n  current_session_tracker = SessionTracker(store_events=True)\\n  for line in get_log_with_mlog_active_times_for_user(user):\\n    current_session_tracker.process_input(uncompress_data_subfields(line))\\n  current_session_tracker.end_input()\\n  return current_session_tracker.get_output()\\n'"
      ]
     },
     "execution_count": 34,
     "metadata": {},
     "output_type": "execute_result"
    }
   ],
   "source": [
    "'''\n",
    "def compute_tab_focus_times_with_events_for_user(user):\n",
    "  current_session_tracker = SessionTracker(store_events=True)\n",
    "  for line in get_log_with_mlog_active_times_for_user(user):\n",
    "    current_session_tracker.process_input(uncompress_data_subfields(line))\n",
    "  current_session_tracker.end_input()\n",
    "  return current_session_tracker.get_output()\n",
    "'''"
   ]
  },
  {
   "cell_type": "code",
   "execution_count": 35,
   "metadata": {
    "collapsed": false
   },
   "outputs": [],
   "source": [
    "#tab_focus_times_with_events = compute_tab_focus_times_with_events_for_user(user)\n"
   ]
  },
  {
   "cell_type": "code",
   "execution_count": 36,
   "metadata": {
    "collapsed": false
   },
   "outputs": [
    {
     "data": {
      "text/plain": [
       "'\\nfor line in get_log_with_mlog_active_times_for_user(user):\\n  data = uncompress_data_subfields(line)\\n  url = get_focused_tab(data)\\n  if url != None:\\n    print url\\n    print data\\n    break\\n'"
      ]
     },
     "execution_count": 36,
     "metadata": {},
     "output_type": "execute_result"
    }
   ],
   "source": [
    "'''\n",
    "for line in get_log_with_mlog_active_times_for_user(user):\n",
    "  data = uncompress_data_subfields(line)\n",
    "  url = get_focused_tab(data)\n",
    "  if url != None:\n",
    "    print url\n",
    "    print data\n",
    "    break\n",
    "'''"
   ]
  },
  {
   "cell_type": "code",
   "execution_count": 37,
   "metadata": {
    "collapsed": false
   },
   "outputs": [],
   "source": [
    "#print len(tab_focus_times_with_events)\n",
    "#tab_focus_times_with_events[0]"
   ]
  },
  {
   "cell_type": "code",
   "execution_count": 38,
   "metadata": {
    "collapsed": false
   },
   "outputs": [],
   "source": [
    "#tab_focus_times = get_tab_focus_times_for_user(user)\n",
    "#print len(tab_focus_times)\n",
    "#print tab_focus_times[0]\n",
    "#print tab_focus_times"
   ]
  },
  {
   "cell_type": "code",
   "execution_count": 39,
   "metadata": {
    "collapsed": false
   },
   "outputs": [],
   "source": [
    "#ordered_visits = get_history_ordered_visits_for_user(user)\n",
    "#first_site = url_to_visits.keys()[0]\n",
    "#print url_to_visits[first_site]"
   ]
  },
  {
   "cell_type": "code",
   "execution_count": 40,
   "metadata": {
    "collapsed": false
   },
   "outputs": [
    {
     "data": {
      "text/plain": [
       "\"\\nordered_visits_after_start = []\\nfor visit in ordered_visits:\\n  time = visit['visitTime']\\n  #if 1458171960840.0 <= time <= 1458172165207.0:\\n  #  print visit\\n  if time >= 1458171960840.0:\\n    ordered_visits_after_start.append(visit)\\n\""
      ]
     },
     "execution_count": 40,
     "metadata": {},
     "output_type": "execute_result"
    }
   ],
   "source": [
    "'''\n",
    "ordered_visits_after_start = []\n",
    "for visit in ordered_visits:\n",
    "  time = visit['visitTime']\n",
    "  #if 1458171960840.0 <= time <= 1458172165207.0:\n",
    "  #  print visit\n",
    "  if time >= 1458171960840.0:\n",
    "    ordered_visits_after_start.append(visit)\n",
    "'''"
   ]
  },
  {
   "cell_type": "code",
   "execution_count": 41,
   "metadata": {
    "collapsed": false,
    "scrolled": true
   },
   "outputs": [],
   "source": [
    "#print len(ordered_visits_after_start)"
   ]
  },
  {
   "cell_type": "code",
   "execution_count": 42,
   "metadata": {
    "collapsed": false
   },
   "outputs": [
    {
     "data": {
      "text/plain": [
       "'\\ndef to_visit_lengths(ordered_visits):\\n  focus_time_reconstructor = ReconstructFocusTimesBaseline()\\n  for visit in ordered_visits:\\n    focus_time_reconstructor.process_history_line(visit)\\n  return focus_time_reconstructor.get_output()\\n\\nreconstructed_visit_lengths = to_visit_lengths(ordered_visits)\\n'"
      ]
     },
     "execution_count": 42,
     "metadata": {},
     "output_type": "execute_result"
    }
   ],
   "source": [
    "'''\n",
    "def to_visit_lengths(ordered_visits):\n",
    "  focus_time_reconstructor = ReconstructFocusTimesBaseline()\n",
    "  for visit in ordered_visits:\n",
    "    focus_time_reconstructor.process_history_line(visit)\n",
    "  return focus_time_reconstructor.get_output()\n",
    "\n",
    "reconstructed_visit_lengths = to_visit_lengths(ordered_visits)\n",
    "'''"
   ]
  },
  {
   "cell_type": "code",
   "execution_count": 43,
   "metadata": {
    "collapsed": false
   },
   "outputs": [],
   "source": [
    "#print len(reconstructed_visit_lengths)"
   ]
  },
  {
   "cell_type": "code",
   "execution_count": null,
   "metadata": {
    "collapsed": false
   },
   "outputs": [],
   "source": []
  },
  {
   "cell_type": "code",
   "execution_count": null,
   "metadata": {
    "collapsed": true
   },
   "outputs": [],
   "source": []
  },
  {
   "cell_type": "code",
   "execution_count": null,
   "metadata": {
    "collapsed": false
   },
   "outputs": [],
   "source": [
    "\n",
    "\n"
   ]
  },
  {
   "cell_type": "code",
   "execution_count": 44,
   "metadata": {
    "collapsed": false
   },
   "outputs": [],
   "source": [
    "#print ref_start_time"
   ]
  },
  {
   "cell_type": "code",
   "execution_count": 45,
   "metadata": {
    "collapsed": false
   },
   "outputs": [],
   "source": [
    "#print evaluated_tab_focus_times[0]"
   ]
  },
  {
   "cell_type": "code",
   "execution_count": 46,
   "metadata": {
    "collapsed": false
   },
   "outputs": [
    {
     "data": {
      "text/plain": [
       "\"\\nfor x in reconstructed_visit_lengths:\\n  url = x['url']\\n  if 'tmi.stanford.edu' in url:\\n    print x\\n    break\\n\""
      ]
     },
     "execution_count": 46,
     "metadata": {},
     "output_type": "execute_result"
    }
   ],
   "source": [
    "'''\n",
    "for x in reconstructed_visit_lengths:\n",
    "  url = x['url']\n",
    "  if 'tmi.stanford.edu' in url:\n",
    "    print x\n",
    "    break\n",
    "'''"
   ]
  },
  {
   "cell_type": "code",
   "execution_count": 47,
   "metadata": {
    "collapsed": false
   },
   "outputs": [],
   "source": [
    "#print len(evaluated_reconstructed_visits)\n",
    "#print len(evaluated_tab_focus_times)"
   ]
  },
  {
   "cell_type": "code",
   "execution_count": 48,
   "metadata": {
    "collapsed": false
   },
   "outputs": [],
   "source": [
    "#def "
   ]
  },
  {
   "cell_type": "code",
   "execution_count": 49,
   "metadata": {
    "collapsed": false
   },
   "outputs": [],
   "source": [
    "#print evaluated_reconstructed_visits[0]\n",
    "#print evaluated_tab_focus_times[2]\n",
    "#print evaluated_reconstructed_visits[-1]\n",
    "#print evaluated_tab_focus_times[-1]"
   ]
  },
  {
   "cell_type": "code",
   "execution_count": null,
   "metadata": {
    "collapsed": false
   },
   "outputs": [],
   "source": [
    "\n",
    "\n"
   ]
  },
  {
   "cell_type": "code",
   "execution_count": 50,
   "metadata": {
    "collapsed": false
   },
   "outputs": [],
   "source": [
    "#print len(result_reference.get_output())\n",
    "#print len(result_reconstructed.get_output())"
   ]
  },
  {
   "cell_type": "code",
   "execution_count": null,
   "metadata": {
    "collapsed": false
   },
   "outputs": [],
   "source": []
  },
  {
   "cell_type": "code",
   "execution_count": null,
   "metadata": {
    "collapsed": false
   },
   "outputs": [],
   "source": []
  },
  {
   "cell_type": "code",
   "execution_count": null,
   "metadata": {
    "collapsed": true
   },
   "outputs": [],
   "source": []
  },
  {
   "cell_type": "code",
   "execution_count": null,
   "metadata": {
    "collapsed": false,
    "scrolled": true
   },
   "outputs": [],
   "source": []
  },
  {
   "cell_type": "code",
   "execution_count": 51,
   "metadata": {
    "collapsed": false
   },
   "outputs": [
    {
     "data": {
      "text/plain": [
       "\"\\nfor ref_answer,rec_answer in zip(result_reference.get_output(), result_reconstructed.get_output())[:1000]:\\n  ref_domain = 'None'\\n  rec_domain = 'None'\\n  if ref_answer != 0:\\n    ref_url = result_reference.get_url_for_index(ref_answer)\\n    ref_domain = url_to_domain(ref_url)\\n  if rec_answer != 0:\\n    rec_url = result_reconstructed.get_url_for_index(rec_answer)\\n    rec_domain = url_to_domain(rec_url)\\n  print ref_domain, rec_domain\\n\""
      ]
     },
     "execution_count": 51,
     "metadata": {},
     "output_type": "execute_result"
    }
   ],
   "source": [
    "'''\n",
    "for ref_answer,rec_answer in zip(result_reference.get_output(), result_reconstructed.get_output())[:1000]:\n",
    "  ref_domain = 'None'\n",
    "  rec_domain = 'None'\n",
    "  if ref_answer != 0:\n",
    "    ref_url = result_reference.get_url_for_index(ref_answer)\n",
    "    ref_domain = url_to_domain(ref_url)\n",
    "  if rec_answer != 0:\n",
    "    rec_url = result_reconstructed.get_url_for_index(rec_answer)\n",
    "    rec_domain = url_to_domain(rec_url)\n",
    "  print ref_domain, rec_domain\n",
    "'''"
   ]
  },
  {
   "cell_type": "code",
   "execution_count": null,
   "metadata": {
    "collapsed": true
   },
   "outputs": [],
   "source": []
  },
  {
   "cell_type": "code",
   "execution_count": 52,
   "metadata": {
    "collapsed": false
   },
   "outputs": [],
   "source": [
    "#for x in evaluated_reconstructed_visits:\n",
    "#  print x"
   ]
  },
  {
   "cell_type": "code",
   "execution_count": 53,
   "metadata": {
    "collapsed": false
   },
   "outputs": [],
   "source": [
    "#for x in evaluated_tab_focus_times:\n",
    "#  print x"
   ]
  },
  {
   "cell_type": "code",
   "execution_count": 54,
   "metadata": {
    "collapsed": false
   },
   "outputs": [],
   "source": [
    "#for x in reconstructed_visit_lengths:\n",
    "#  url = x['url']\n",
    "#  if url == 'https://www.mturk.com/mturk/continue?hitId=3ZY8KE4ISJ42CAV8NVJ18F1PI9SQVJ':\n",
    "#    print x"
   ]
  },
  {
   "cell_type": "code",
   "execution_count": 55,
   "metadata": {
    "collapsed": false
   },
   "outputs": [],
   "source": [
    "#for x in tab_focus_times:\n",
    "#  url = x['url']\n",
    "#  if url == 'https://www.mturk.com/mturk/continue?hitId=3ZY8KE4ISJ42CAV8NVJ18F1PI9SQVJ':\n",
    "#    print x"
   ]
  },
  {
   "cell_type": "code",
   "execution_count": null,
   "metadata": {
    "collapsed": false
   },
   "outputs": [],
   "source": []
  },
  {
   "cell_type": "code",
   "execution_count": 56,
   "metadata": {
    "collapsed": false
   },
   "outputs": [
    {
     "data": {
      "text/plain": [
       "\"\\ndef to_visit_lengths(ordered_visits):\\n  output = []\\n  for item,idx in ordered_visits:\\n    url = item['url']\\n    visit_time = item['visitTime'] # timestamp in milliseconds\\n    result = {'url': url, 'start': visit_time, 'active': visit_time}\\n    visit_duration = 30*1000 # 30 seconds in milliseconds\\n    if idx < len(ordered_visits):\\n      next_item = ordered_visits[idx+1]\\n      next_visit_time = next_item['visitTime']\\n      time_until_next_visit = next_visit_time - visit_time\\n      if visit_duration > time_until_next_visit: # more than 30 minutes until next visit\\n        \\n      visit_duration = min(visit_duration, time_until_next_visit)\\n    output.append({'url': url, 'start': visit_time, })\\n\""
      ]
     },
     "execution_count": 56,
     "metadata": {},
     "output_type": "execute_result"
    }
   ],
   "source": [
    "\n",
    "'''\n",
    "def to_visit_lengths(ordered_visits):\n",
    "  output = []\n",
    "  for item,idx in ordered_visits:\n",
    "    url = item['url']\n",
    "    visit_time = item['visitTime'] # timestamp in milliseconds\n",
    "    result = {'url': url, 'start': visit_time, 'active': visit_time}\n",
    "    visit_duration = 30*1000 # 30 seconds in milliseconds\n",
    "    if idx < len(ordered_visits):\n",
    "      next_item = ordered_visits[idx+1]\n",
    "      next_visit_time = next_item['visitTime']\n",
    "      time_until_next_visit = next_visit_time - visit_time\n",
    "      if visit_duration > time_until_next_visit: # more than 30 minutes until next visit\n",
    "        \n",
    "      visit_duration = min(visit_duration, time_until_next_visit)\n",
    "    output.append({'url': url, 'start': visit_time, })\n",
    "'''"
   ]
  }
 ],
 "metadata": {
  "kernelspec": {
   "display_name": "Python 2",
   "language": "python",
   "name": "python2"
  },
  "language_info": {
   "codemirror_mode": {
    "name": "ipython",
    "version": 2
   },
   "file_extension": ".py",
   "mimetype": "text/x-python",
   "name": "python",
   "nbconvert_exporter": "python",
   "pygments_lexer": "ipython2",
   "version": "2.7.11"
  }
 },
 "nbformat": 4,
 "nbformat_minor": 0
}
