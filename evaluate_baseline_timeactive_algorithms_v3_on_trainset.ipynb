{
 "cells": [
  {
   "cell_type": "code",
   "execution_count": 1,
   "metadata": {
    "collapsed": true
   },
   "outputs": [],
   "source": [
    "from tmilib import *"
   ]
  },
  {
   "cell_type": "code",
   "execution_count": 2,
   "metadata": {
    "collapsed": true
   },
   "outputs": [],
   "source": [
    "import csv\n",
    "import math"
   ]
  },
  {
   "cell_type": "code",
   "execution_count": 3,
   "metadata": {
    "collapsed": false
   },
   "outputs": [],
   "source": [
    "def get_baseline_accuracy(threshold_minutes, insession_only):\n",
    "  testdata_filename = 'catdata_train_second_evaluation_v4.csv'\n",
    "  log_threshold = log(60*threshold_minutes)\n",
    "  if insession_only:\n",
    "    testdata_filename = 'catdata_train_insession_second_evaluation_v4.csv'\n",
    "  #for line in csv.DictReader(sdir_open(testdata_filename)):\n",
    "  csv_reader = csv.reader(sdir_open(testdata_filename))\n",
    "  headers = next(csv_reader)\n",
    "  assert headers[2] == 'label'\n",
    "  #assert headers[1] == 'time_sec'\n",
    "  assert headers[3] == 'sinceprev'\n",
    "  tp = 0\n",
    "  fn = 0\n",
    "  fp = 0\n",
    "  tn = 0\n",
    "  for line in csv_reader:\n",
    "    label = line[2]\n",
    "    ref = label == 'T'\n",
    "    sinceprev = float(line[4]) # this is in log-seconds\n",
    "    rec = sinceprev < log_threshold\n",
    "    if ref == True and rec == True:\n",
    "      tp += 1\n",
    "    elif ref == True and rec == False:\n",
    "      fn += 1\n",
    "    elif ref == False and rec == True:\n",
    "      fp += 1\n",
    "    elif ref == False and rec == False:\n",
    "      tn += 1\n",
    "  return {\n",
    "    'tp': tp,\n",
    "    'fn': fn,\n",
    "    'fp': fp,\n",
    "    'tn': tn\n",
    "  }\n",
    "      "
   ]
  },
  {
   "cell_type": "code",
   "execution_count": 4,
   "metadata": {
    "collapsed": true
   },
   "outputs": [],
   "source": [
    "def print_binary_classification_stats(stats):\n",
    "  tp = float(stats['tp'])\n",
    "  fp = float(stats['fp'])\n",
    "  fn = float(stats['fn'])\n",
    "  tn = float(stats['tn'])\n",
    "  precision = tp / (tp + fp)\n",
    "  recall = tp / (tp + fn)\n",
    "  f1 = 2*precision*recall / (precision+recall)\n",
    "  accuracy = (tp + tn) / (tp + fp + fn + tn)\n",
    "  print 'tp', tp\n",
    "  print 'tn', tn\n",
    "  print 'fp', fp\n",
    "  print 'fn', fn\n",
    "  print 'precision', precision\n",
    "  print 'recall', recall\n",
    "  print 'f1', f1\n",
    "  print 'accuracy', accuracy"
   ]
  },
  {
   "cell_type": "code",
   "execution_count": 5,
   "metadata": {
    "collapsed": false
   },
   "outputs": [
    {
     "name": "stdout",
     "output_type": "stream",
     "text": [
      "insession stats for threshold 1\n",
      "tp 7977198.0\n",
      "tn 11640847.0\n",
      "fp 1076427.0\n",
      "fn 8623692.0\n",
      "precision 0.881105413577\n",
      "recall 0.480528333119\n",
      "f1 0.62189427475\n",
      "accuracy 0.669143026828\n",
      "insession stats for threshold 2\n",
      "tp 10028639.0\n",
      "tn 10757089.0\n",
      "fp 1960185.0\n",
      "fn 6572251.0\n",
      "precision 0.836498976046\n",
      "recall 0.604102490891\n",
      "f1 0.701555741341\n",
      "accuracy 0.70897099832\n",
      "insession stats for threshold 3\n",
      "tp 11195190.0\n",
      "tn 10045967.0\n",
      "fp 2671307.0\n",
      "fn 5405700.0\n",
      "precision 0.80735531115\n",
      "recall 0.674372880008\n",
      "f1 0.734896628976\n",
      "accuracy 0.724505020164\n",
      "insession stats for threshold 4\n",
      "tp 11999119.0\n",
      "tn 9455933.0\n",
      "fp 3261341.0\n",
      "fn 4601771.0\n",
      "precision 0.786288159073\n",
      "recall 0.72279974146\n",
      "f1 0.753208448481\n",
      "accuracy 0.731800668009\n",
      "insession stats for threshold 5\n",
      "tp 12585391.0\n",
      "tn 8952819.0\n",
      "fp 3764455.0\n",
      "fn 4015499.0\n",
      "precision 0.769755935316\n",
      "recall 0.758115438389\n",
      "f1 0.763891343732\n",
      "accuracy 0.734637066632\n",
      "insession stats for threshold 6\n",
      "tp 13034883.0\n",
      "tn 8517679.0\n",
      "fp 4199595.0\n",
      "fn 3566007.0\n",
      "precision 0.756325953127\n",
      "recall 0.785191818029\n",
      "f1 0.770488620074\n",
      "accuracy 0.735126592511\n",
      "insession stats for threshold 7\n",
      "tp 13387834.0\n",
      "tn 8132268.0\n",
      "fp 4585006.0\n",
      "fn 3213056.0\n",
      "precision 0.744892515596\n",
      "recall 0.806452786567\n",
      "f1 0.774451237978\n",
      "accuracy 0.734019429047\n",
      "insession stats for threshold 8\n",
      "tp 13671995.0\n",
      "tn 7784729.0\n",
      "fp 4932545.0\n",
      "fn 2928895.0\n",
      "precision 0.734874122123\n",
      "recall 0.823570001367\n",
      "f1 0.776698083222\n",
      "accuracy 0.731857697501\n",
      "insession stats for threshold 9\n",
      "tp 13905935.0\n",
      "tn 7470846.0\n",
      "fp 5246428.0\n",
      "fn 2694955.0\n",
      "precision 0.726068892909\n",
      "recall 0.837662016916\n",
      "f1 0.777883623624\n",
      "accuracy 0.729130957859\n",
      "insession stats for threshold 10\n",
      "tp 14103638.0\n",
      "tn 7186982.0\n",
      "fp 5530292.0\n",
      "fn 2497252.0\n",
      "precision 0.718329850417\n",
      "recall 0.849571197689\n",
      "f1 0.778457737613\n",
      "accuracy 0.726192131267\n"
     ]
    }
   ],
   "source": [
    "for i in range(1, 11):\n",
    "  print 'insession stats for threshold', i\n",
    "  cur_stats = get_baseline_accuracy(i, True)\n",
    "  print_binary_classification_stats(cur_stats)"
   ]
  },
  {
   "cell_type": "code",
   "execution_count": 6,
   "metadata": {
    "collapsed": false
   },
   "outputs": [
    {
     "name": "stdout",
     "output_type": "stream",
     "text": [
      "all stats for threshold 1\n",
      "tp 7977198.0\n",
      "tn 103883940.0\n",
      "fp 1521769.0\n",
      "fn 8623692.0\n",
      "precision 0.839796369437\n",
      "recall 0.480528333119\n",
      "f1 0.611282889404\n",
      "accuracy 0.916844981475\n",
      "all stats for threshold 2\n",
      "tp 10028639.0\n",
      "tn 102565969.0\n",
      "fp 2839740.0\n",
      "fn 6572251.0\n",
      "precision 0.77932418683\n",
      "recall 0.604102490891\n",
      "f1 0.68061674689\n",
      "accuracy 0.92285670548\n",
      "all stats for threshold 3\n",
      "tp 11195190.0\n",
      "tn 101441357.0\n",
      "fp 3964352.0\n",
      "fn 5405700.0\n",
      "precision 0.738491307983\n",
      "recall 0.674372880008\n",
      "f1 0.704977186708\n",
      "accuracy 0.923200449182\n",
      "all stats for threshold 4\n",
      "tp 11999119.0\n",
      "tn 100456364.0\n",
      "fp 4949345.0\n",
      "fn 4601771.0\n",
      "precision 0.707976781849\n",
      "recall 0.72279974146\n",
      "f1 0.715311478129\n",
      "accuracy 0.921716398307\n",
      "all stats for threshold 5\n",
      "tp 12585391.0\n",
      "tn 99572690.0\n",
      "fp 5833019.0\n",
      "fn 4015499.0\n",
      "precision 0.683304964978\n",
      "recall 0.758115438389\n",
      "f1 0.71876885032\n",
      "accuracy 0.919278808845\n",
      "all stats for threshold 6\n",
      "tp 13034883.0\n",
      "tn 98769896.0\n",
      "fp 6635813.0\n",
      "fn 3566007.0\n",
      "precision 0.662654895383\n",
      "recall 0.785191818029\n",
      "f1 0.71873796751\n",
      "accuracy 0.916383047445\n",
      "all stats for threshold 7\n",
      "tp 13387834.0\n",
      "tn 98027509.0\n",
      "fp 7378200.0\n",
      "fn 3213056.0\n",
      "precision 0.644698645875\n",
      "recall 0.806452786567\n",
      "f1 0.716560667397\n",
      "accuracy 0.913191121736\n",
      "all stats for threshold 8\n",
      "tp 13671995.0\n",
      "tn 97333172.0\n",
      "fp 8072537.0\n",
      "fn 2928895.0\n",
      "precision 0.628755541853\n",
      "recall 0.823570001367\n",
      "f1 0.713096598598\n",
      "accuracy 0.909829205222\n",
      "all stats for threshold 9\n",
      "tp 13905935.0\n",
      "tn 96680889.0\n",
      "fp 8724820.0\n",
      "fn 2694955.0\n",
      "precision 0.614470661717\n",
      "recall 0.837662016916\n",
      "f1 0.708914194141\n",
      "accuracy 0.906400349706\n",
      "all stats for threshold 10\n",
      "tp 14103638.0\n",
      "tn 96066236.0\n",
      "fp 9339473.0\n",
      "fn 2497252.0\n",
      "precision 0.601611194009\n",
      "recall 0.849571197689\n",
      "f1 0.704407034652\n",
      "accuracy 0.902982911605\n"
     ]
    }
   ],
   "source": [
    "for i in range(1, 11):\n",
    "  print 'all stats for threshold', i\n",
    "  cur_stats = get_baseline_accuracy(i, False)\n",
    "  print_binary_classification_stats(cur_stats)"
   ]
  },
  {
   "cell_type": "code",
   "execution_count": null,
   "metadata": {
    "collapsed": true
   },
   "outputs": [],
   "source": []
  },
  {
   "cell_type": "code",
   "execution_count": null,
   "metadata": {
    "collapsed": true
   },
   "outputs": [],
   "source": []
  },
  {
   "cell_type": "code",
   "execution_count": null,
   "metadata": {
    "collapsed": true
   },
   "outputs": [],
   "source": []
  }
 ],
 "metadata": {
  "kernelspec": {
   "display_name": "Python 2",
   "language": "python",
   "name": "python2"
  },
  "language_info": {
   "codemirror_mode": {
    "name": "ipython",
    "version": 2
   },
   "file_extension": ".py",
   "mimetype": "text/x-python",
   "name": "python",
   "nbconvert_exporter": "python",
   "pygments_lexer": "ipython2",
   "version": "2.7.6"
  }
 },
 "nbformat": 4,
 "nbformat_minor": 0
}
