{
 "cells": [
  {
   "cell_type": "code",
   "execution_count": 14,
   "metadata": {
    "collapsed": false
   },
   "outputs": [
    {
     "data": {
      "text/plain": [
       "0"
      ]
     },
     "execution_count": 14,
     "metadata": {},
     "output_type": "execute_result"
    }
   ],
   "source": [
    "# noexport\n",
    "\n",
    "import os\n",
    "os.system('export_notebook jsonmemoized.ipynb')"
   ]
  },
  {
   "cell_type": "code",
   "execution_count": 10,
   "metadata": {
    "collapsed": true
   },
   "outputs": [],
   "source": [
    "try:\n",
    "  import ujson as json\n",
    "except:\n",
    "  import json\n",
    "from os import path\n",
    "\n",
    "# based on http://www.artima.com/weblogs/viewpost.jsp?thread=240845\n",
    "\n",
    "class jsonmemoized(object):\n",
    "  def __init__(self, f):\n",
    "    self.f = f\n",
    "    self.filename = f.__name__ + '.json'\n",
    "  def __call__(self):\n",
    "    if path.exists(self.filename):\n",
    "      return json.load(open(self.filename))\n",
    "    result = self.f()\n",
    "    json.dump(result, open(self.filename, 'w'))\n",
    "    return result\n",
    "\n",
    "class jsonmemoized_fileloc(object):\n",
    "  def __init__(self, filename=None):\n",
    "    if filename != None:\n",
    "      if not filename.endswith('.json'):\n",
    "        filename = filename + '.json'\n",
    "    self.filename = filename\n",
    "  def __call__(self, f):\n",
    "    if self.filename == None:\n",
    "      self.filename = f.__name__ + '.json'\n",
    "    def wrapped_f():\n",
    "      if path.exists(self.filename):\n",
    "        return json.load(open(self.filename))\n",
    "      result = f()\n",
    "      json.dump(result, open(self.filename, 'w'))\n",
    "      return result\n",
    "    return wrapped_f"
   ]
  },
  {
   "cell_type": "code",
   "execution_count": 11,
   "metadata": {
    "collapsed": false
   },
   "outputs": [],
   "source": [
    "#@jsonmemoized\n",
    "#def compute_array():\n",
    "#  print 'compute_array called'\n",
    "#  return [3,5,7,9]\n"
   ]
  },
  {
   "cell_type": "code",
   "execution_count": 13,
   "metadata": {
    "collapsed": false
   },
   "outputs": [
    {
     "name": "stdout",
     "output_type": "stream",
     "text": [
      "[3, 5, 7, 9]\n"
     ]
    }
   ],
   "source": [
    "#print compute_array()"
   ]
  }
 ],
 "metadata": {
  "kernelspec": {
   "display_name": "Python 2",
   "language": "python",
   "name": "python2"
  },
  "language_info": {
   "codemirror_mode": {
    "name": "ipython",
    "version": 2
   },
   "file_extension": ".py",
   "mimetype": "text/x-python",
   "name": "python",
   "nbconvert_exporter": "python",
   "pygments_lexer": "ipython2",
   "version": "2.7.11"
  }
 },
 "nbformat": 4,
 "nbformat_minor": 0
}
