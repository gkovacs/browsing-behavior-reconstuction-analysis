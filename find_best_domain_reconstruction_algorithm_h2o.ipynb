{
 "cells": [
  {
   "cell_type": "code",
   "execution_count": 2,
   "metadata": {
    "collapsed": false,
    "scrolled": true
   },
   "outputs": [
    {
     "name": "stderr",
     "output_type": "stream",
     "text": [
      "/afs/.ir.stanford.edu/users/g/k/gkovacs/ve/local/lib/python2.7/site-packages/IPython/core/formatters.py:92: DeprecationWarning: DisplayFormatter._ipython_display_formatter_default is deprecated: use @default decorator instead.\n",
      "  def _ipython_display_formatter_default(self):\n",
      "/afs/.ir.stanford.edu/users/g/k/gkovacs/ve/local/lib/python2.7/site-packages/IPython/core/formatters.py:98: DeprecationWarning: DisplayFormatter._formatters_default is deprecated: use @default decorator instead.\n",
      "  def _formatters_default(self):\n",
      "/afs/.ir.stanford.edu/users/g/k/gkovacs/ve/local/lib/python2.7/site-packages/IPython/core/formatters.py:677: DeprecationWarning: PlainTextFormatter._deferred_printers_default is deprecated: use @default decorator instead.\n",
      "  def _deferred_printers_default(self):\n",
      "/afs/.ir.stanford.edu/users/g/k/gkovacs/ve/local/lib/python2.7/site-packages/IPython/core/formatters.py:669: DeprecationWarning: PlainTextFormatter._singleton_printers_default is deprecated: use @default decorator instead.\n",
      "  def _singleton_printers_default(self):\n",
      "/afs/.ir.stanford.edu/users/g/k/gkovacs/ve/local/lib/python2.7/site-packages/IPython/core/formatters.py:672: DeprecationWarning: PlainTextFormatter._type_printers_default is deprecated: use @default decorator instead.\n",
      "  def _type_printers_default(self):\n",
      "/afs/.ir.stanford.edu/users/g/k/gkovacs/ve/local/lib/python2.7/site-packages/IPython/core/formatters.py:669: DeprecationWarning: PlainTextFormatter._singleton_printers_default is deprecated: use @default decorator instead.\n",
      "  def _singleton_printers_default(self):\n",
      "/afs/.ir.stanford.edu/users/g/k/gkovacs/ve/local/lib/python2.7/site-packages/IPython/core/formatters.py:672: DeprecationWarning: PlainTextFormatter._type_printers_default is deprecated: use @default decorator instead.\n",
      "  def _type_printers_default(self):\n",
      "/afs/.ir.stanford.edu/users/g/k/gkovacs/ve/local/lib/python2.7/site-packages/IPython/core/formatters.py:677: DeprecationWarning: PlainTextFormatter._deferred_printers_default is deprecated: use @default decorator instead.\n",
      "  def _deferred_printers_default(self):\n"
     ]
    },
    {
     "data": {
      "text/html": [
       "<div style=\"overflow:auto\"><table style=\"width:50%\"><tr><td>H2O cluster uptime: </td>\n",
       "<td>2 hours 3 minutes 47 seconds 18 milliseconds </td></tr>\n",
       "<tr><td>H2O cluster version: </td>\n",
       "<td>3.8.1.4</td></tr>\n",
       "<tr><td>H2O cluster name: </td>\n",
       "<td>gkovacs</td></tr>\n",
       "<tr><td>H2O cluster total nodes: </td>\n",
       "<td>1</td></tr>\n",
       "<tr><td>H2O cluster total free memory: </td>\n",
       "<td>35.39 GB</td></tr>\n",
       "<tr><td>H2O cluster total cores: </td>\n",
       "<td>48</td></tr>\n",
       "<tr><td>H2O cluster allowed cores: </td>\n",
       "<td>16</td></tr>\n",
       "<tr><td>H2O cluster healthy: </td>\n",
       "<td>True</td></tr>\n",
       "<tr><td>H2O Connection ip: </td>\n",
       "<td>127.0.0.1</td></tr>\n",
       "<tr><td>H2O Connection port: </td>\n",
       "<td>54321</td></tr>\n",
       "<tr><td>H2O Connection proxy: </td>\n",
       "<td>None</td></tr>\n",
       "<tr><td>Python Version: </td>\n",
       "<td>2.7.6</td></tr></table></div>"
      ],
      "text/plain": [
       "------------------------------  --------------------------------------------\n",
       "H2O cluster uptime:             2 hours 3 minutes 47 seconds 18 milliseconds\n",
       "H2O cluster version:            3.8.1.4\n",
       "H2O cluster name:               gkovacs\n",
       "H2O cluster total nodes:        1\n",
       "H2O cluster total free memory:  35.39 GB\n",
       "H2O cluster total cores:        48\n",
       "H2O cluster allowed cores:      16\n",
       "H2O cluster healthy:            True\n",
       "H2O Connection ip:              127.0.0.1\n",
       "H2O Connection port:            54321\n",
       "H2O Connection proxy:\n",
       "Python Version:                 2.7.6\n",
       "------------------------------  --------------------------------------------"
      ]
     },
     "metadata": {},
     "output_type": "display_data"
    }
   ],
   "source": [
    "from tmilib import *\n",
    "from h2o_utils import *\n",
    "\n",
    "import csv\n",
    "import h2o\n",
    "h2o.init()"
   ]
  },
  {
   "cell_type": "code",
   "execution_count": null,
   "metadata": {
    "collapsed": true
   },
   "outputs": [],
   "source": []
  },
  {
   "cell_type": "code",
   "execution_count": null,
   "metadata": {
    "collapsed": false
   },
   "outputs": [],
   "source": []
  },
  {
   "cell_type": "code",
   "execution_count": 4,
   "metadata": {
    "collapsed": false
   },
   "outputs": [],
   "source": [
    "def sum_confusion_matrix_diagonal_v1(confusion_matrix):\n",
    "  total_correct = 0\n",
    "  column_idx = 0\n",
    "  for column_name in confusion_matrix.col_header:\n",
    "    if column_name == 'Error' or column_name == 'Rate' or column_name == '':\n",
    "      continue\n",
    "    total_correct += confusion_matrix[column_name][column_idx]\n",
    "    column_idx += 1\n",
    "  return total_correct\n",
    "\n",
    "def get_correct_ratio_for_classifier(classifier):\n",
    "  confusion_matrix = classifier._get_metrics(classifier, False, True, False).values()[0].confusion_matrix()\n",
    "  if 'table' in dir(confusion_matrix):\n",
    "    confusion_matrix = confusion_matrix.table\n",
    "  total_correct = sum_confusion_matrix_diagonal_v1(confusion_matrix)\n",
    "  total_items = 13836775\n",
    "  return float(total_correct)/total_items\n"
   ]
  },
  {
   "cell_type": "code",
   "execution_count": 5,
   "metadata": {
    "collapsed": false
   },
   "outputs": [],
   "source": [
    "#classifier = load_h2o_model('domainclass_cpn_v89_randomforest_v1.h2o')\n",
    "#print get_correct_ratio_for_classifier(classifier)\n",
    "#print classifier"
   ]
  },
  {
   "cell_type": "code",
   "execution_count": null,
   "metadata": {
    "collapsed": true
   },
   "outputs": [],
   "source": []
  },
  {
   "cell_type": "code",
   "execution_count": null,
   "metadata": {
    "collapsed": false
   },
   "outputs": [],
   "source": []
  },
  {
   "cell_type": "code",
   "execution_count": 5,
   "metadata": {
    "collapsed": true
   },
   "outputs": [],
   "source": [
    "def make_predictions_and_save_for_classifier_num(classifier_num):\n",
    "  make_predictions_and_save(\n",
    "    'domainclass_cpn_v' + str(classifier_num) + '_randomforest_v1.h2o',\n",
    "    'domainclass_cpn_test_all_withdomain_v' + str(classifier_num) + '.csv',\n",
    "    'domainclass_cpn_v' + str(classifier_num) + '_randomforest_v1_predictions.csv',\n",
    "    4\n",
    "  )\n",
    "  clear_h2o_memory()\n",
    "\n"
   ]
  },
  {
   "cell_type": "code",
   "execution_count": 3,
   "metadata": {
    "collapsed": true
   },
   "outputs": [],
   "source": [
    "def make_predictions_and_save_for_classifier_num_all_insession(classifier_num):\n",
    "  make_predictions_and_save(\n",
    "    'domainclass_cpn_v' + str(classifier_num) + '_randomforest_v1.h2o',\n",
    "    'domainclass_cpn_test_all_withdomain_v' + str(classifier_num) + '_all_insession.csv',\n",
    "    'domainclass_cpn_v' + str(classifier_num) + '_randomforest_v1_all_insession_predictions.csv',\n",
    "    4\n",
    "  )\n",
    "  clear_h2o_memory()\n"
   ]
  },
  {
   "cell_type": "code",
   "execution_count": 5,
   "metadata": {
    "collapsed": false
   },
   "outputs": [
    {
     "name": "stdout",
     "output_type": "stream",
     "text": [
      "\n",
      "Parse Progress: [##################################################] 100%\n",
      "\n",
      "drf prediction Progress: [##################################################] 100%\n"
     ]
    }
   ],
   "source": [
    "make_predictions_and_save_for_classifier_num_all_insession(78)"
   ]
  },
  {
   "cell_type": "code",
   "execution_count": 4,
   "metadata": {
    "collapsed": false
   },
   "outputs": [
    {
     "name": "stdout",
     "output_type": "stream",
     "text": [
      "already exists domainclass_cpn_v89_randomforest_v1_predictions.csv\n",
      "already exists domainclass_cpn_v88_randomforest_v1_predictions.csv\n",
      "already exists domainclass_cpn_v87_randomforest_v1_predictions.csv\n",
      "already exists domainclass_cpn_v86_randomforest_v1_predictions.csv\n",
      "already exists domainclass_cpn_v85_randomforest_v1_predictions.csv\n",
      "already exists domainclass_cpn_v84_randomforest_v1_predictions.csv\n",
      "already exists domainclass_cpn_v81_randomforest_v1_predictions.csv\n",
      "already exists domainclass_cpn_v80_randomforest_v1_predictions.csv\n",
      "already exists domainclass_cpn_v79_randomforest_v1_predictions.csv\n",
      "already exists domainclass_cpn_v78_randomforest_v1_predictions.csv\n",
      "already exists domainclass_cpn_v77_randomforest_v1_predictions.csv\n"
     ]
    }
   ],
   "source": [
    "for classifier_num in [89, 88, 87, 86, 85, 84, 81, 80, 79, 78, 77]:\n",
    "  make_predictions_and_save_for_classifier_num(classifier_num)"
   ]
  },
  {
   "cell_type": "code",
   "execution_count": 9,
   "metadata": {
    "collapsed": false
   },
   "outputs": [
    {
     "name": "stdout",
     "output_type": "stream",
     "text": [
      "\n",
      "Parse Progress: [##################################################] 100%\n"
     ]
    }
   ],
   "source": [
    "#classifier_num = 89\n",
    "#predictions = load_h2o_data('domainclass_cpn_v' + str(classifier_num) + '_randomforest_v1_predictions.csv')\n",
    "  "
   ]
  },
  {
   "cell_type": "code",
   "execution_count": 10,
   "metadata": {
    "collapsed": false
   },
   "outputs": [
    {
     "name": "stdout",
     "output_type": "stream",
     "text": [
      "\n",
      "Parse Progress: [##################################################] 100%\n"
     ]
    }
   ],
   "source": [
    "#test_data = load_h2o_data('domainclass_cpn_test_all_withdomain_v' + str(classifier_num) + '.csv')"
   ]
  },
  {
   "cell_type": "code",
   "execution_count": 19,
   "metadata": {
    "collapsed": true
   },
   "outputs": [],
   "source": [
    "from itertools import izip"
   ]
  },
  {
   "cell_type": "code",
   "execution_count": 22,
   "metadata": {
    "collapsed": true
   },
   "outputs": [],
   "source": [
    "@jsonmemoized\n",
    "def get_user_to_time_to_predicted_domain_id(all_insession=False):\n",
    "  if not all_insession:\n",
    "    predictions_csv_file = 'domainclass_cpn_v' + str(classifier_num) + '_randomforest_v1_predictions.csv'\n",
    "  else:\n",
    "    predictions_csv_file = 'domainclass_cpn_v' + str(classifier_num) + '_randomforest_v1_predictions_all_insession.csv'\n",
    "  if not all_insession:\n",
    "    test_data_csv_file = 'domainclass_cpn_test_all_withdomain_v' + str(classifier_num) + '.csv'\n",
    "  else:\n",
    "    test_data_csv_file = 'domainclass_cpn_test_all_withdomain_v' + str(classifier_num) + '_all_insession.csv'\n",
    "  classifier_num = 78\n",
    "  predictions_csv = csv.reader(sdir_open(predictions_csv_file))\n",
    "  predictions_header = next(predictions_csv)\n",
    "  assert predictions_header[0] == 'predict'\n",
    "\n",
    "  test_data_csv = csv.reader(sdir_open(test_data_csv_file))\n",
    "  test_data_header = next(test_data_csv)\n",
    "  assert test_data_header[0] == 'time_sec'\n",
    "  assert test_data_header[1] == 'user'\n",
    "  assert test_data_header[2] == 'ref_domain'\n",
    "  assert test_data_header[3] == 'label'\n",
    "\n",
    "  user_to_time_to_domain_id = {}\n",
    "  user_to_time_to_nextdomain_id = {}\n",
    "  user_to_time_to_prev7_domains_id = {}\n",
    "  user_to_time_to_immediate_prev7_domains_id = {}\n",
    "\n",
    "  total_correct = 0\n",
    "  total_items = 0\n",
    "  \n",
    "  output = {}\n",
    "\n",
    "  for predictions_line,test_data_line in izip(predictions_csv, test_data_csv):\n",
    "    total_items += 1\n",
    "    predict = predictions_line[0]\n",
    "    label = test_data_line[3]\n",
    "    if predict == label:\n",
    "      total_correct += 1\n",
    "      continue\n",
    "    time_sec = test_data_line[0] # needs to remain string so we can index into things\n",
    "    user = test_data_line[1]\n",
    "    if user not in output:\n",
    "      output[user] = {}\n",
    "    ref_domain = test_data_line[2]\n",
    "    ref_domain_id = domain_to_id(ref_domain)\n",
    "    time_to_domain_id = user_to_time_to_domain_id.get(user, None)\n",
    "    if time_to_domain_id == None:\n",
    "      time_to_domain_id = get_recent_domain_id_at_seconds_for_user(user)\n",
    "      user_to_time_to_domain_id[user] = time_to_domain_id\n",
    "    time_to_nextdomain_id = user_to_time_to_nextdomain_id.get(user, None)\n",
    "    if time_to_nextdomain_id == None:\n",
    "      time_to_nextdomain_id = get_next_domain_id_at_seconds_for_user(user)\n",
    "      user_to_time_to_nextdomain_id[user] = time_to_nextdomain_id\n",
    "    time_to_prev7_domains_id = user_to_time_to_prev7_domains_id.get(user, None)\n",
    "    if time_to_prev7_domains_id == None:\n",
    "      time_to_prev7_domains_id = get_prev7_domains_id_at_seconds_for_user(user)\n",
    "      user_to_time_to_prev7_domains_id[user] = time_to_prev7_domains_id\n",
    "    time_to_immediate_prev7_domains_id = user_to_time_to_prev7_domains_id.get(user, None)\n",
    "    if time_to_immediate_prev7_domains_id == None:\n",
    "      time_to_immediate_prev7_domains_id = get_immediate_prev7_domains_id_at_seconds_for_user(user)\n",
    "      user_to_time_to_immediate_prev7_domains_id[user] = time_to_immediate_prev7_domains_id\n",
    "    pred_domain_id = -1\n",
    "    if predict == 'c':\n",
    "      pred_domain_id = time_to_domain_id[time_sec]\n",
    "    elif predict == 'n':\n",
    "      pred_domain_id = time_to_nextdomain_id[time_sec]\n",
    "    elif predict[0] == 'p':\n",
    "      num = int(predict[1])\n",
    "      pred_domain_id = time_to_prev7_domains_id[time_sec][num]\n",
    "    elif predict[0] == 'i':\n",
    "      num = int(predict[1])\n",
    "      pred_domain_id = time_to_immediate_prev7_domains_id[time_sec][num]\n",
    "    if pred_domain_id == -1:\n",
    "      pred_domain_id = time_to_domain_id[time_sec]\n",
    "    if pred_domain_id == ref_domain_id:\n",
    "      total_correct += 1\n",
    "    output[user][time_sec] = pred_domain_id\n",
    "  return output\n",
    "  "
   ]
  },
  {
   "cell_type": "code",
   "execution_count": 6,
   "metadata": {
    "collapsed": true
   },
   "outputs": [],
   "source": [
    "_ = get_user_to_time_to_predicted_domain_id()"
   ]
  },
  {
   "cell_type": "code",
   "execution_count": 13,
   "metadata": {
    "collapsed": true
   },
   "outputs": [],
   "source": [
    "@jsonmemoized\n",
    "def get_user_to_domain_id_to_total_time_spent_predicted():\n",
    "  output = {}\n",
    "  user_to_time_to_domain_id = get_user_to_time_to_predicted_domain_id()\n",
    "  for user,time_to_domain_id in user_to_time_to_domain_id.viewitems():\n",
    "    output[user] = Counter()\n",
    "    for time,domain_id in time_to_domain_id.viewitems():\n",
    "      output[user][domain_id] += 1\n",
    "  return output"
   ]
  },
  {
   "cell_type": "code",
   "execution_count": 10,
   "metadata": {
    "collapsed": true
   },
   "outputs": [],
   "source": [
    "_ = get_user_to_domain_id_to_total_time_spent_predicted()"
   ]
  },
  {
   "cell_type": "code",
   "execution_count": 15,
   "metadata": {
    "collapsed": true
   },
   "outputs": [],
   "source": [
    "@jsonmemoized\n",
    "def get_user_to_domain_to_total_time_spent_predicted():\n",
    "  output = {}\n",
    "  user_to_domain_id_to_total_time_spent = get_user_to_domain_id_to_total_time_spent_predicted()\n",
    "  for user,domain_id_to_total_time_spent in user_to_domain_id_to_total_time_spent.viewitems():\n",
    "    output[user] = {}\n",
    "    for domain_id,total_time_spent in domain_id_to_total_time_spent.viewitems():\n",
    "      domain = id_to_domain(int(domain_id))\n",
    "      output[user][domain] = total_time_spent\n",
    "  return output"
   ]
  },
  {
   "cell_type": "code",
   "execution_count": 16,
   "metadata": {
    "collapsed": true
   },
   "outputs": [],
   "source": [
    "_ = get_user_to_domain_to_total_time_spent_predicted()"
   ]
  },
  {
   "cell_type": "code",
   "execution_count": 24,
   "metadata": {
    "collapsed": false
   },
   "outputs": [],
   "source": [
    "def get_performance_for_classifier(classifier_num):\n",
    "  predictions_csv = csv.reader(sdir_open('domainclass_cpn_v' + str(classifier_num) + '_randomforest_v1_predictions.csv'))\n",
    "  predictions_header = next(predictions_csv)\n",
    "  assert predictions_header[0] == 'predict'\n",
    "\n",
    "  test_data_csv = csv.reader(sdir_open('domainclass_cpn_test_all_withdomain_v' + str(classifier_num) + '.csv'))\n",
    "  test_data_header = next(test_data_csv)\n",
    "  assert test_data_header[0] == 'time_sec'\n",
    "  assert test_data_header[1] == 'user'\n",
    "  assert test_data_header[2] == 'ref_domain'\n",
    "  assert test_data_header[3] == 'label'\n",
    "\n",
    "  user_to_time_to_domain_id = {}\n",
    "  user_to_time_to_nextdomain_id = {}\n",
    "  user_to_time_to_prev7_domains_id = {}\n",
    "  user_to_time_to_immediate_prev7_domains_id = {}\n",
    "\n",
    "  total_correct = 0\n",
    "  total_items = 0\n",
    "\n",
    "  for predictions_line,test_data_line in izip(predictions_csv, test_data_csv):\n",
    "    total_items += 1\n",
    "    predict = predictions_line[0]\n",
    "    label = test_data_line[3]\n",
    "    if predict == label:\n",
    "      total_correct += 1\n",
    "      continue\n",
    "    time_sec = test_data_line[0] # needs to remain string so we can index into things\n",
    "    user = test_data_line[1]\n",
    "    ref_domain = test_data_line[2]\n",
    "    ref_domain_id = domain_to_id(ref_domain)\n",
    "    time_to_domain_id = user_to_time_to_domain_id.get(user, None)\n",
    "    if time_to_domain_id == None:\n",
    "      time_to_domain_id = get_recent_domain_id_at_seconds_for_user(user)\n",
    "      user_to_time_to_domain_id[user] = time_to_domain_id\n",
    "    time_to_nextdomain_id = user_to_time_to_nextdomain_id.get(user, None)\n",
    "    if time_to_nextdomain_id == None:\n",
    "      time_to_nextdomain_id = get_next_domain_id_at_seconds_for_user(user)\n",
    "      user_to_time_to_nextdomain_id[user] = time_to_nextdomain_id\n",
    "    time_to_prev7_domains_id = user_to_time_to_prev7_domains_id.get(user, None)\n",
    "    if time_to_prev7_domains_id == None:\n",
    "      time_to_prev7_domains_id = get_prev7_domains_id_at_seconds_for_user(user)\n",
    "      user_to_time_to_prev7_domains_id[user] = time_to_prev7_domains_id\n",
    "    time_to_immediate_prev7_domains_id = user_to_time_to_prev7_domains_id.get(user, None)\n",
    "    if time_to_immediate_prev7_domains_id == None:\n",
    "      time_to_immediate_prev7_domains_id = get_immediate_prev7_domains_id_at_seconds_for_user(user)\n",
    "      user_to_time_to_immediate_prev7_domains_id[user] = time_to_immediate_prev7_domains_id\n",
    "    pred_domain_id = -1\n",
    "    if predict == 'c':\n",
    "      pred_domain_id = time_to_domain_id[time_sec]\n",
    "    elif predict == 'n':\n",
    "      pred_domain_id = time_to_nextdomain_id[time_sec]\n",
    "    elif predict[0] == 'p':\n",
    "      num = int(predict[1])\n",
    "      pred_domain_id = time_to_prev7_domains_id[time_sec][num]\n",
    "    elif predict[0] == 'i':\n",
    "      num = int(predict[1])\n",
    "      pred_domain_id = time_to_immediate_prev7_domains_id[time_sec][num]\n",
    "    if pred_domain_id == -1:\n",
    "      pred_domain_id = time_to_domain_id[time_sec]\n",
    "    if pred_domain_id == ref_domain_id:\n",
    "      total_correct += 1\n",
    "\n",
    "  print classifier_num, float(total_correct) / total_items, total_correct, total_items"
   ]
  },
  {
   "cell_type": "code",
   "execution_count": 16,
   "metadata": {
    "collapsed": false
   },
   "outputs": [
    {
     "name": "stdout",
     "output_type": "stream",
     "text": [
      "89 0.759071459932 10503101 13836775\n",
      "88 0.75944871547 10508321 13836775\n",
      "87 0.759371963481 10507259 13836775\n",
      "86 0.758589772545 10496436 13836775\n",
      "85 0.756177866591 10463063 13836775\n",
      "84 0.726540902775 10052983 13836775\n",
      "81 0.757509463007 10481488 13836775\n",
      "80 0.759651942017 10511133 13836775\n",
      "79 0.760452273019 10522207 13836775\n",
      "78 0.760959327589 10529223 13836775\n",
      "77 0.758549589771 10495880 13836775\n"
     ]
    }
   ],
   "source": [
    "for classifier_num in [89, 88, 87, 86, 85, 84, 81, 80, 79, 78, 77]:\n",
    "  get_performance_for_classifier(classifier_num)"
   ]
  },
  {
   "cell_type": "code",
   "execution_count": null,
   "metadata": {
    "collapsed": true
   },
   "outputs": [],
   "source": []
  },
  {
   "cell_type": "code",
   "execution_count": 12,
   "metadata": {
    "collapsed": false
   },
   "outputs": [
    {
     "name": "stdout",
     "output_type": "stream",
     "text": [
      "10503101\n",
      "13836775\n",
      "0.759071459932\n"
     ]
    }
   ],
   "source": []
  },
  {
   "cell_type": "code",
   "execution_count": null,
   "metadata": {
    "collapsed": false
   },
   "outputs": [],
   "source": []
  },
  {
   "cell_type": "code",
   "execution_count": null,
   "metadata": {
    "collapsed": false
   },
   "outputs": [],
   "source": []
  },
  {
   "cell_type": "code",
   "execution_count": null,
   "metadata": {
    "collapsed": false
   },
   "outputs": [],
   "source": []
  },
  {
   "cell_type": "code",
   "execution_count": null,
   "metadata": {
    "collapsed": false
   },
   "outputs": [],
   "source": []
  },
  {
   "cell_type": "code",
   "execution_count": null,
   "metadata": {
    "collapsed": true
   },
   "outputs": [],
   "source": []
  },
  {
   "cell_type": "code",
   "execution_count": 13,
   "metadata": {
    "collapsed": false
   },
   "outputs": [],
   "source": [
    "#print predictions['predict'][0,:][0,0]"
   ]
  },
  {
   "cell_type": "code",
   "execution_count": null,
   "metadata": {
    "collapsed": true
   },
   "outputs": [],
   "source": []
  },
  {
   "cell_type": "code",
   "execution_count": 14,
   "metadata": {
    "collapsed": false
   },
   "outputs": [
    {
     "data": {
      "text/plain": [
       "\"\\nfor x in glob(sdir_path('domainclass_cpn_v*.h2o')):\\n  print x\\n  #classifier = load_h2o_model('domainclass_cpn_v88_randomforest_v1.h2o')\\n  classifier = load_h2o_model(x)\\n  print get_correct_ratio_for_classifier(classifier)\\n\""
      ]
     },
     "execution_count": 14,
     "metadata": {},
     "output_type": "execute_result"
    }
   ],
   "source": [
    "'''\n",
    "for x in glob(sdir_path('domainclass_cpn_v*.h2o')):\n",
    "  print x\n",
    "  #classifier = load_h2o_model('domainclass_cpn_v88_randomforest_v1.h2o')\n",
    "  classifier = load_h2o_model(x)\n",
    "  print get_correct_ratio_for_classifier(classifier)\n",
    "'''"
   ]
  },
  {
   "cell_type": "code",
   "execution_count": null,
   "metadata": {
    "collapsed": false
   },
   "outputs": [],
   "source": []
  },
  {
   "cell_type": "code",
   "execution_count": null,
   "metadata": {
    "collapsed": false
   },
   "outputs": [],
   "source": []
  }
 ],
 "metadata": {
  "kernelspec": {
   "display_name": "Python 2",
   "language": "python",
   "name": "python2"
  },
  "language_info": {
   "codemirror_mode": {
    "name": "ipython",
    "version": 2
   },
   "file_extension": ".py",
   "mimetype": "text/x-python",
   "name": "python",
   "nbconvert_exporter": "python",
   "pygments_lexer": "ipython2",
   "version": "2.7.6"
  }
 },
 "nbformat": 4,
 "nbformat_minor": 0
}
