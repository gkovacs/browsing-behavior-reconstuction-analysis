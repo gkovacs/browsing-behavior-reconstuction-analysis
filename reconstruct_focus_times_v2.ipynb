{
 "cells": [
  {
   "cell_type": "code",
   "execution_count": 61,
   "metadata": {
    "collapsed": false
   },
   "outputs": [
    {
     "data": {
      "text/plain": [
       "0"
      ]
     },
     "execution_count": 61,
     "metadata": {},
     "output_type": "execute_result"
    }
   ],
   "source": [
    "# noexport\n",
    "\n",
    "import os\n",
    "os.system('export_notebook reconstruct_focus_times_v2.ipynb')"
   ]
  },
  {
   "cell_type": "code",
   "execution_count": 28,
   "metadata": {
    "collapsed": false
   },
   "outputs": [],
   "source": [
    "from tmilib import *\n",
    "\n",
    "#tmi_overrides['basedir'] = '/home/gkovacs/tmi-data/local_2016-03-30_16:39:38-07:00'\n",
    "\n",
    "from reconstruct_focus_times_common import *\n",
    "from sorted_collection import SortedCollection\n",
    "\n",
    "import sklearn\n",
    "import sklearn.svm\n",
    "import sklearn.linear_model\n",
    "import sklearn.ensemble\n",
    "import sklearn.naive_bayes\n",
    "import sklearn.tree\n",
    "\n",
    "from math import log"
   ]
  },
  {
   "cell_type": "code",
   "execution_count": 29,
   "metadata": {
    "collapsed": false
   },
   "outputs": [],
   "source": [
    "@memoized\n",
    "def get_training_and_test_users():\n",
    "  all_available_users = get_users_with_data()\n",
    "  half_of_all = len(all_available_users) / 2\n",
    "  training_users = random.sample(all_available_users, half_of_all)\n",
    "  training_users_set = set(training_users)\n",
    "  test_users = [x for x in all_available_users if x not in training_users_set]\n",
    "  return training_users,test_users\n",
    "\n",
    "@jsonmemoized\n",
    "def get_training_users():\n",
    "  return get_training_and_test_users()[0]\n",
    "\n",
    "@jsonmemoized\n",
    "def get_test_users():\n",
    "  return get_training_and_test_users()[1]\n"
   ]
  },
  {
   "cell_type": "code",
   "execution_count": 30,
   "metadata": {
    "collapsed": false
   },
   "outputs": [],
   "source": [
    "training_users = get_training_users()\n",
    "test_users = get_test_users()"
   ]
  },
  {
   "cell_type": "code",
   "execution_count": 31,
   "metadata": {
    "collapsed": false
   },
   "outputs": [],
   "source": [
    "#print len(training_users)\n",
    "#print len(test_users)\n",
    "#print sorted(training_users)\n",
    "#print sorted(test_users)"
   ]
  },
  {
   "cell_type": "code",
   "execution_count": 32,
   "metadata": {
    "collapsed": false
   },
   "outputs": [],
   "source": [
    "#user = get_users_with_data()[0]\n",
    "#print user\n",
    "#user = '3a3FX1s9S6'"
   ]
  },
  {
   "cell_type": "code",
   "execution_count": 33,
   "metadata": {
    "collapsed": false
   },
   "outputs": [],
   "source": [
    "#for line in get_log_with_mlog_active_times_for_user(user):\n",
    "#  if line['evt'] != 'tab_updated':\n",
    "#    continue\n",
    "#  print line\n",
    "#  break"
   ]
  },
  {
   "cell_type": "code",
   "execution_count": 34,
   "metadata": {
    "collapsed": false
   },
   "outputs": [],
   "source": [
    "#tab_focus_times = get_tab_focus_times_for_user(user)\n",
    "#reconstructed_tab_focus_times = get_tab_focus_times_only_tab_updated_for_user(user)\n",
    "#print evalutate_tab_focus_reconstruction(tab_focus_times, reconstructed_tab_focus_times)\n"
   ]
  },
  {
   "cell_type": "code",
   "execution_count": 35,
   "metadata": {
    "collapsed": false
   },
   "outputs": [],
   "source": [
    "#tab_focus_times = get_tab_focus_times_for_user(user)\n",
    "#reconstructed_tab_focus_times = get_tab_focus_times_only_tab_updated_urlchanged_for_user(user)\n",
    "#print evalutate_tab_focus_reconstruction(tab_focus_times, reconstructed_tab_focus_times)\n"
   ]
  },
  {
   "cell_type": "code",
   "execution_count": 36,
   "metadata": {
    "collapsed": false
   },
   "outputs": [],
   "source": [
    "#tab_focus_times = get_tab_focus_times_for_user(user)\n",
    "#reconstructed_tab_focus_times = list(get_reconstruct_focus_times_baseline_for_user(user))\n",
    "#print evalutate_tab_focus_reconstruction(tab_focus_times, reconstructed_tab_focus_times)\n"
   ]
  },
  {
   "cell_type": "code",
   "execution_count": 37,
   "metadata": {
    "collapsed": false
   },
   "outputs": [],
   "source": [
    "# first: annotate the history visit items with whether the time between the two is majority activity or not\n",
    "#for visit in get_history_ordered_visits_for_user(user):\n",
    "#  print visit['transition']\n",
    "#  break\n",
    "\n",
    "def fraction_active_between_times(tab_focus_times_sortedcollection, target_start, target_end):\n",
    "  # between start and end, does tab_focus_times indicate that majority activity is occurring?\n",
    "  try:\n",
    "    item_before_start = tab_focus_times_sortedcollection.find_le(target_start)\n",
    "    item_before_start_idx = tab_focus_times_sortedcollection.index(item_before_start)\n",
    "  except:\n",
    "    item_before_start_idx = 0\n",
    "  # if have valueerror, make it 0\n",
    "  try:\n",
    "    item_after_end = tab_focus_times_sortedcollection.find_ge(target_end)\n",
    "    item_after_end_idx = tab_focus_times_sortedcollection.index(item_after_end)\n",
    "  except:\n",
    "    item_after_end_idx = len(tab_focus_times_sortedcollection) - 1\n",
    "  # if have valueerror, make it the last item in the list\n",
    "  time_span_duration = target_end - target_start\n",
    "  if time_span_duration <= 60*1000: # less than 60 seconds\n",
    "    return 1.0\n",
    "  if time_span_duration == 0:\n",
    "    return 1.0\n",
    "    #raise Exception('target_start == target_end both have value ' + str(target_start))\n",
    "    #return 0\n",
    "  if time_span_duration < 0:\n",
    "    raise Exception('target_end < target_start end=' + str(target_end) + ' start=' + str(target_start))\n",
    "  total_coverage = 0.0\n",
    "  for idx in range(item_before_start_idx, item_after_end_idx+1):\n",
    "    item = tab_focus_times_sortedcollection[idx]\n",
    "    if item['start'] == item['end']:\n",
    "      continue\n",
    "      #raise Exception('item has length 0')\n",
    "    if item['start'] > item['end']:\n",
    "      raise Exception('item start > end')\n",
    "    if item['end'] < target_start:\n",
    "      continue\n",
    "    if item['start'] > target_end:\n",
    "      continue\n",
    "    start = max(target_start, item['start'])\n",
    "    if start > target_end:\n",
    "      continue\n",
    "    end = min(target_end, item['end'])\n",
    "    if start > end:\n",
    "      raise Exception('start is greater than end start=' + str(start) + ' end=' + str(end))\n",
    "    start_percentage = (start - target_start) / float(time_span_duration)\n",
    "    if not 0.0 <= start_percentage <= 1.0:\n",
    "      continue\n",
    "    end_percentage = (end - target_start) / float(time_span_duration)\n",
    "    if not 0.0 <= end_percentage <= 1.0:\n",
    "      continue\n",
    "    total_coverage += (end_percentage - start_percentage)\n",
    "  return total_coverage\n",
    "\n",
    "def have_majority_activity(tab_focus_times_sortedcollection, target_start, target_end):\n",
    "  return fraction_active_between_times(tab_focus_times_sortedcollection, target_start, target_end) > 0.5"
   ]
  },
  {
   "cell_type": "code",
   "execution_count": 38,
   "metadata": {
    "collapsed": false
   },
   "outputs": [
    {
     "data": {
      "text/plain": [
       "\"\\ntab_focus_times = get_tab_focus_times_for_user(user)\\n#tab_focus_times = get_tab_focus_times_only_tab_updated_urlchanged_for_user(user)\\ntab_focus_times_sortedcollection = SortedCollection(tab_focus_times, key=itemgetter('start'))\\n\\nordered_visits = get_history_ordered_visits_for_user(user)\\nordered_visits_len = len(ordered_visits)\\n\\nref_start_time = max(get_earliest_start_time(tab_focus_times), get_earliest_start_time(ordered_visits))\\nref_end_time = min(get_last_end_time(tab_focus_times), get_last_end_time(ordered_visits))\\n\""
      ]
     },
     "execution_count": 38,
     "metadata": {},
     "output_type": "execute_result"
    }
   ],
   "source": [
    "'''\n",
    "tab_focus_times = get_tab_focus_times_for_user(user)\n",
    "#tab_focus_times = get_tab_focus_times_only_tab_updated_urlchanged_for_user(user)\n",
    "tab_focus_times_sortedcollection = SortedCollection(tab_focus_times, key=itemgetter('start'))\n",
    "\n",
    "ordered_visits = get_history_ordered_visits_for_user(user)\n",
    "ordered_visits_len = len(ordered_visits)\n",
    "\n",
    "ref_start_time = max(get_earliest_start_time(tab_focus_times), get_earliest_start_time(ordered_visits))\n",
    "ref_end_time = min(get_last_end_time(tab_focus_times), get_last_end_time(ordered_visits))\n",
    "'''"
   ]
  },
  {
   "cell_type": "code",
   "execution_count": 39,
   "metadata": {
    "collapsed": false
   },
   "outputs": [],
   "source": [
    "#print (ref_end_time - ref_start_time)/(1000.0*3600*24)"
   ]
  },
  {
   "cell_type": "code",
   "execution_count": 40,
   "metadata": {
    "collapsed": false
   },
   "outputs": [],
   "source": [
    "#print ordered_visits[0]"
   ]
  },
  {
   "cell_type": "code",
   "execution_count": 41,
   "metadata": {
    "collapsed": false
   },
   "outputs": [
    {
     "data": {
      "text/plain": [
       "\"\\nfor idx,visit in enumerate(ordered_visits):\\n  if idx+1 == ordered_visits_len: # last visit\\n    continue\\n  next_visit = ordered_visits[idx + 1]\\n  visit_time = visit['visitTime']\\n  next_visit_time = next_visit['visitTime']\\n  if visit_time < ref_start_time:\\n    continue\\n  if next_visit_time > ref_end_time:\\n    continue\\n  if visit_time == next_visit_time:\\n    #print visit\\n    #print next_visit\\n    if visit['url'] != next_visit['url']:\\n      print visit\\n      print next_visit\\n      break\\n\""
      ]
     },
     "execution_count": 41,
     "metadata": {},
     "output_type": "execute_result"
    }
   ],
   "source": [
    "'''\n",
    "for idx,visit in enumerate(ordered_visits):\n",
    "  if idx+1 == ordered_visits_len: # last visit\n",
    "    continue\n",
    "  next_visit = ordered_visits[idx + 1]\n",
    "  visit_time = visit['visitTime']\n",
    "  next_visit_time = next_visit['visitTime']\n",
    "  if visit_time < ref_start_time:\n",
    "    continue\n",
    "  if next_visit_time > ref_end_time:\n",
    "    continue\n",
    "  if visit_time == next_visit_time:\n",
    "    #print visit\n",
    "    #print next_visit\n",
    "    if visit['url'] != next_visit['url']:\n",
    "      print visit\n",
    "      print next_visit\n",
    "      break\n",
    "'''"
   ]
  },
  {
   "cell_type": "code",
   "execution_count": 42,
   "metadata": {
    "collapsed": false
   },
   "outputs": [],
   "source": [
    "def exclude_bad_visits(ordered_visits):\n",
    "  output = []\n",
    "  for visit in ordered_visits:\n",
    "    transition = visit['transition']\n",
    "    if transition in ['auto_subframe', 'manual_subframe']:\n",
    "      continue\n",
    "    output.append(visit)\n",
    "  return output\n"
   ]
  },
  {
   "cell_type": "code",
   "execution_count": 43,
   "metadata": {
    "collapsed": false
   },
   "outputs": [],
   "source": [
    "def extract_tofill_dataset_from_user(user):\n",
    "  training_samples = []\n",
    "  training_labels = []\n",
    "  training_weights = []\n",
    "  ordered_visits = get_history_ordered_visits_for_user(user)\n",
    "  ordered_visits = exclude_bad_visits(ordered_visits)\n",
    "  #ordered_visits = get_idealized_history_from_logs_for_user(user)\n",
    "  ordered_visits_len = len(ordered_visits)\n",
    "  tab_focus_times = get_tab_focus_times_for_user(user)\n",
    "  ref_start_time = max(get_earliest_start_time(tab_focus_times), get_earliest_start_time(ordered_visits))\n",
    "  ref_end_time = min(get_last_end_time(tab_focus_times), get_last_end_time(ordered_visits))\n",
    "  tab_focus_times_sortedcollection = SortedCollection(tab_focus_times, key=itemgetter('start'))\n",
    "  for idx,visit in enumerate(ordered_visits):\n",
    "    if idx+1 == ordered_visits_len: # last visit\n",
    "      continue\n",
    "    next_visit = ordered_visits[idx + 1]\n",
    "    visit_time = visit['visitTime']\n",
    "    next_visit_time = next_visit['visitTime']\n",
    "    if visit_time < ref_start_time:\n",
    "      continue\n",
    "    if next_visit_time > ref_end_time:\n",
    "      continue\n",
    "    if visit_time >= next_visit_time:\n",
    "      continue\n",
    "    fraction_active = fraction_active_between_times(tab_focus_times_sortedcollection, visit_time, next_visit_time)\n",
    "    label = int(fraction_active > 0.5)\n",
    "    visit_gap = log(next_visit_time - visit_time)\n",
    "    weight = next_visit_time - visit_time\n",
    "    training_samples.append([visit_gap])\n",
    "    training_labels.append(label)\n",
    "    training_weights.append(weight)\n",
    "  return {\n",
    "    'samples': training_samples,\n",
    "    'labels': training_labels,\n",
    "    'weights': training_weights,\n",
    "  }\n",
    "\n",
    "def extract_tofill_dataset_for_users(users):\n",
    "  all_training_samples = []\n",
    "  all_training_labels = []\n",
    "  all_training_weights = []\n",
    "  for user in users:\n",
    "    data = extract_tofill_dataset_from_user(user)\n",
    "    all_training_samples.extend(data['samples'])\n",
    "    all_training_labels.extend(data['labels'])\n",
    "    all_training_weights.extend(data['weights'])\n",
    "  return {\n",
    "    'samples': all_training_samples,\n",
    "    'labels': all_training_labels,\n",
    "    'weights': all_training_weights,\n",
    "  }\n",
    "\n",
    "@jsonmemoized\n",
    "def extract_tofill_dataset_for_training():\n",
    "  return extract_tofill_dataset_for_users(training_users)\n",
    "\n",
    "@jsonmemoized\n",
    "def extract_tofill_dataset_for_test():\n",
    "  return extract_tofill_dataset_for_users(test_users)\n",
    "\n",
    "def train_tofill_classifier():\n",
    "  training_data = extract_tofill_dataset_for_training()\n",
    "  #classifier = sklearn.naive_bayes.GaussianNB()\n",
    "  #classifier = sklearn.svm.LinearSVC()\n",
    "  #classifier = sklearn.linear_model.LogisticRegression(class_weight='balanced')\n",
    "  #classifier = sklearn.ensemble.RandomForestClassifier() #(class_weight='balanced')\n",
    "  classifier = sklearn.tree.DecisionTreeClassifier(max_depth=1)\n",
    "  #classifier.fit(numpy.array(training_data['samples']), numpy.array(training_data['labels']))\n",
    "  classifier.fit(numpy.array(training_data['samples']), numpy.array(training_data['labels']), numpy.array(training_data['weights']))\n",
    "  return classifier"
   ]
  },
  {
   "cell_type": "code",
   "execution_count": 44,
   "metadata": {
    "collapsed": false
   },
   "outputs": [
    {
     "data": {
      "text/plain": [
       "\"\\nfalse_samples = []\\ntraining_data = extract_tofill_dataset_for_training()\\nfor idx,label in enumerate(training_data['labels']):\\n  sample = training_data['samples'][idx]\\n  if label == False:\\n    false_samples.append(sample[0])\\n\\nprint numpy.histogram(false_samples)\\n\""
      ]
     },
     "execution_count": 44,
     "metadata": {},
     "output_type": "execute_result"
    }
   ],
   "source": [
    "'''\n",
    "false_samples = []\n",
    "training_data = extract_tofill_dataset_for_training()\n",
    "for idx,label in enumerate(training_data['labels']):\n",
    "  sample = training_data['samples'][idx]\n",
    "  if label == False:\n",
    "    false_samples.append(sample[0])\n",
    "\n",
    "print numpy.histogram(false_samples)\n",
    "'''"
   ]
  },
  {
   "cell_type": "code",
   "execution_count": 45,
   "metadata": {
    "collapsed": false
   },
   "outputs": [],
   "source": [
    "#print extract_tofill_dataset_from_user(user)['labels']\n",
    "#print len(extract_tofill_dataset_for_training()['labels'])"
   ]
  },
  {
   "cell_type": "code",
   "execution_count": 57,
   "metadata": {
    "collapsed": false
   },
   "outputs": [],
   "source": [
    "#classifier = train_tofill_classifier()\n",
    "#test_data = extract_tofill_dataset_for_test()\n",
    "#test_predictions = classifier.predict(test_data['samples'])\n",
    "#print sklearn.metrics.classification_report(test_data['labels'], test_predictions)\n"
   ]
  },
  {
   "cell_type": "code",
   "execution_count": null,
   "metadata": {
    "collapsed": false
   },
   "outputs": [],
   "source": []
  },
  {
   "cell_type": "code",
   "execution_count": 56,
   "metadata": {
    "collapsed": false
   },
   "outputs": [
    {
     "name": "stdout",
     "output_type": "stream",
     "text": [
      "if ( a <= 13.5336971283 ) {\n",
      "return [[  3.25689779e+09   1.06893926e+10]]\n",
      "} else {\n",
      "return [[  6.42825895e+10   2.53401369e+09]]\n",
      "}\n"
     ]
    }
   ],
   "source": [
    "def get_code(tree, feature_names=['a', 'b', 'c', 'd', 'e', 'f']):\n",
    "  left      = tree.tree_.children_left\n",
    "  right     = tree.tree_.children_right\n",
    "  threshold = tree.tree_.threshold\n",
    "  features  = [feature_names[i] for i in tree.tree_.feature]\n",
    "  value = tree.tree_.value\n",
    "\n",
    "  def recurse(left, right, threshold, features, node):\n",
    "    if (threshold[node] != -2):\n",
    "      print \"if ( \" + features[node] + \" <= \" + str(threshold[node]) + \" ) {\"\n",
    "      if left[node] != -1:\n",
    "        recurse (left, right, threshold, features,left[node])\n",
    "      print \"} else {\"\n",
    "      if right[node] != -1:\n",
    "        recurse (left, right, threshold, features,right[node])\n",
    "      print \"}\"\n",
    "    else:\n",
    "      print \"return \" + str(value[node])\n",
    "\n",
    "  recurse(left, right, threshold, features, 0)\n",
    "\n",
    "#get_code(classifier)"
   ]
  },
  {
   "cell_type": "code",
   "execution_count": 55,
   "metadata": {
    "collapsed": false
   },
   "outputs": [],
   "source": [
    "#sklearn.tree.export_graphviz(classifier, out_file='classifier.dot', feature_names=['a', 'b', 'c'])\n",
    "#os.system('dot -Tpng classifier.dot -o classifier.png')\n",
    "#from IPython.core.display import Image\n",
    "#Image('classifier.png')"
   ]
  },
  {
   "cell_type": "code",
   "execution_count": 50,
   "metadata": {
    "collapsed": false
   },
   "outputs": [
    {
     "name": "stdout",
     "output_type": "stream",
     "text": [
      "[0]\n",
      "[1]\n"
     ]
    }
   ],
   "source": [
    "#print classifier.predict([[14]])\n",
    "#print classifier.predict([[13]])\n",
    "#classifier.predict([[log(6*60*1000.0)]])"
   ]
  },
  {
   "cell_type": "code",
   "execution_count": 21,
   "metadata": {
    "collapsed": false
   },
   "outputs": [],
   "source": [
    "def merge_contiguous_spans(visit_spans):\n",
    "  output = []\n",
    "  merged = {}\n",
    "  for span in visit_spans:\n",
    "    if 'url' not in merged:\n",
    "      merged = {k:v for k,v in span.items()}\n",
    "      continue\n",
    "    if merged['url'] == span['url']: # merge this current span into the merged one\n",
    "      if span['start'] <= merged['end']:\n",
    "        merged['end'] = max(merged['end'], span['end'])\n",
    "        merged['active'] = max(merged['active'], span['active'])\n",
    "        continue\n",
    "      else: # end of current merged segment, start of new one\n",
    "        output.append(merged)\n",
    "        merged = {k:v for k,v in span.items()}\n",
    "    else: # end of current merged segment, start of new one\n",
    "      output.append(merged)\n",
    "      merged = {k:v for k,v in span.items()}\n",
    "  if 'url' in merged:\n",
    "    output.append(merged)\n",
    "  return output\n",
    "\n",
    "#print merge_contiguous_spans([{'url': 'a', 'start': 0, 'end': 2}, {'url': 'a', 'start': 5, 'end': 7}, {'url': 'b', 'start': 10, 'end': 13}])\n",
    "#print merge_contiguous_spans([{'url': 'a', 'start': 0, 'end': 2}, {'url': 'a', 'start': 2, 'end': 7}, {'url': 'b', 'start': 10, 'end': 13}])"
   ]
  },
  {
   "cell_type": "code",
   "execution_count": 22,
   "metadata": {
    "collapsed": true
   },
   "outputs": [],
   "source": [
    "def reconstruct_for_user_v2(user):\n",
    "  ordered_visits = get_history_ordered_visits_for_user(user)\n",
    "  ordered_visits = exclude_bad_visits(ordered_visits)\n",
    "  output = []\n",
    "  ordered_visits_len = len(ordered_visits)\n",
    "  for idx,visit in enumerate(ordered_visits):\n",
    "    if idx+1 == ordered_visits_len: # last visit, TODO needs to be reconstructed\n",
    "      continue\n",
    "    next_visit = ordered_visits[idx+1]\n",
    "    visit_time = visit['visitTime']\n",
    "    next_visit_time = next_visit['visitTime']\n",
    "    url = visit['url']\n",
    "    next_url = next_visit['url']\n",
    "    time_difference = next_visit_time - visit_time\n",
    "    if time_difference <= 0:\n",
    "      continue\n",
    "    log_time_difference = log(time_difference)\n",
    "    #extend_to_next_visit = classifier.predict([[log_time_difference]])[0]\n",
    "    extend_to_next_visit = log_time_difference < 13.5336971283\n",
    "    #extend_to_next_visit = log_time_difference < classifier.tree_.threshold[0]\n",
    "    end_time = min(visit_time + 60*1000.0, next_visit_time)\n",
    "    if extend_to_next_visit:\n",
    "      end_time = next_visit_time\n",
    "    output.append({'url': url, 'start': visit_time, 'active': visit_time, 'end': end_time})\n",
    "\n",
    "  output = merge_contiguous_spans(output)\n",
    "  return output\n",
    "\n"
   ]
  },
  {
   "cell_type": "code",
   "execution_count": 23,
   "metadata": {
    "collapsed": true
   },
   "outputs": [],
   "source": [
    "def reconstruct_for_user_v3(user):\n",
    "  #ordered_visits = get_history_ordered_visits_for_user(user)\n",
    "  #ordered_visits = exclude_bad_visits(ordered_visits)\n",
    "  ordered_visits = get_idealized_history_from_logs_for_user(user)\n",
    "  output = []\n",
    "  ordered_visits_len = len(ordered_visits)\n",
    "  for idx,visit in enumerate(ordered_visits):\n",
    "    if idx+1 == ordered_visits_len: # last visit, TODO needs to be reconstructed\n",
    "      continue\n",
    "    next_visit = ordered_visits[idx+1]\n",
    "    visit_time = visit['visitTime']\n",
    "    next_visit_time = next_visit['visitTime']\n",
    "    url = visit['url']\n",
    "    next_url = next_visit['url']\n",
    "    time_difference = next_visit_time - visit_time\n",
    "    if time_difference <= 0:\n",
    "      continue\n",
    "    log_time_difference = log(time_difference)\n",
    "    extend_to_next_visit = classifier.predict([[log_time_difference]])[0]\n",
    "    end_time = min(visit_time + 60*1000.0, next_visit_time)\n",
    "    if extend_to_next_visit:\n",
    "      end_time = next_visit_time\n",
    "    output.append({'url': url, 'start': visit_time, 'active': visit_time, 'end': end_time})\n",
    "\n",
    "  output = merge_contiguous_spans(output)\n",
    "  return output\n",
    "\n"
   ]
  },
  {
   "cell_type": "code",
   "execution_count": 24,
   "metadata": {
    "collapsed": false
   },
   "outputs": [],
   "source": [
    "def evaluate_reconstruction_algorithm_for_user(user, reconstruction_algorithm):\n",
    "  #user = '3a3FX1s9S6'\n",
    "  reconstructed_tab_focus_times = reconstruction_algorithm(user)\n",
    "  tab_focus_times = get_tab_focus_times_for_user(user)\n",
    "  #reconstructed_tab_focus_times = tab_focus_times = get_tab_focus_times_for_user(user)\n",
    "  #reconstructed_tab_focus_times = list(get_reconstruct_focus_times_baseline_for_user(user))\n",
    "  return evalutate_tab_focus_reconstruction_fast(tab_focus_times, reconstructed_tab_focus_times)\n",
    "\n",
    "  #ref_start_time = max(get_earliest_start_time(tab_focus_times), get_earliest_start_time(reconstructed_tab_focus_times))\n",
    "  #ref_end_time = min(get_last_end_time(tab_focus_times), get_last_end_time(reconstructed_tab_focus_times))\n",
    "  #evaluated_reconstructed_tab_focus_times = ignore_all_before_start_or_after_end(reconstructed_tab_focus_times, ref_start_time, ref_end_time)\n",
    "  #evaluated_tab_focus_times = ignore_all_before_start_or_after_end(tab_focus_times, ref_start_time, ref_end_time)\n",
    "\n",
    "  #return evalutate_tab_focus_reconstruction(evaluated_tab_focus_times, evaluated_reconstructed_tab_focus_times)\n"
   ]
  },
  {
   "cell_type": "code",
   "execution_count": null,
   "metadata": {
    "collapsed": true
   },
   "outputs": [],
   "source": []
  },
  {
   "cell_type": "code",
   "execution_count": null,
   "metadata": {
    "collapsed": false
   },
   "outputs": [],
   "source": []
  },
  {
   "cell_type": "code",
   "execution_count": 25,
   "metadata": {
    "collapsed": false
   },
   "outputs": [],
   "source": [
    "def evaluate_reconstruction_algorithm(reconstruction_algorithm):\n",
    "  overall_evaluation_results = Counter()\n",
    "  #for user in test_users:\n",
    "  for user in training_users[:10]:\n",
    "    evaluation_results = evaluate_reconstruction_algorithm_for_user(user, reconstruction_algorithm)\n",
    "    for k,v in evaluation_results.items():\n",
    "      overall_evaluation_results[k] += v\n",
    "  return overall_evaluation_results\n",
    "\n",
    "def evaluate_reconstruction_algorithm_test(reconstruction_algorithm):\n",
    "  overall_evaluation_results = Counter()\n",
    "  for user in test_users:\n",
    "    evaluation_results = evaluate_reconstruction_algorithm_for_user(user, reconstruction_algorithm)\n",
    "    for k,v in evaluation_results.items():\n",
    "      overall_evaluation_results[k] += v\n",
    "  return overall_evaluation_results\n",
    "\n",
    "\n",
    "def sumfields(d, *args):\n",
    "  return sum(d[x] for x in args)\n",
    "\n",
    "def print_evaluation_results(results):\n",
    "  ref_active_time = float(sumfields(results, 'correct_url', 'ref_active_but_rec_inactive', 'incorrect_domain', 'correct_domain'))\n",
    "  correct_span = float(sumfields(results, 'correct_url', 'incorrect_domain', 'correct_domain'))\n",
    "  print 'correct span', correct_span/ref_active_time, 'of ref_active_time'\n",
    "  correct_url = results['correct_url']\n",
    "  ref_inactive_but_rec_active = results['ref_inactive_but_rec_active']\n",
    "  print 'ref_inactive_but_rec_active', ref_inactive_but_rec_active/ref_active_time, 'of ref_active_time'\n",
    "  print 'correct url', correct_url/ref_active_time, 'of ref_active_time', correct_url/correct_span, 'of correct_span'\n",
    "  print results\n",
    "\n"
   ]
  },
  {
   "cell_type": "code",
   "execution_count": 26,
   "metadata": {
    "collapsed": false,
    "scrolled": true
   },
   "outputs": [
    {
     "name": "stdout",
     "output_type": "stream",
     "text": [
      "correct span 0.859820018901 of ref_active_time\n",
      "ref_inactive_but_rec_active 0.533532096686 of ref_active_time\n",
      "correct url 0.598439213714 of ref_active_time 0.696005211043 of correct_span\n",
      "Counter({'both_inactive': 907359335.6293945, 'correct_url': 28317338.87060547, 'ref_inactive_but_rec_active': 25246021.373535156, 'incorrect_domain': 10072789.657470703, 'ref_active_but_rec_inactive': 6633128.205322266, 'correct_domain': 2295398.5646972656})\n"
     ]
    }
   ],
   "source": [
    "print_evaluation_results(evaluate_reconstruction_algorithm_for_user('3a3FX1s9S6', reconstruct_for_user_v2))"
   ]
  },
  {
   "cell_type": "code",
   "execution_count": 27,
   "metadata": {
    "collapsed": false,
    "scrolled": true
   },
   "outputs": [
    {
     "name": "stdout",
     "output_type": "stream",
     "text": [
      "correct span 0.760579879256 of ref_active_time\n",
      "ref_inactive_but_rec_active 0.273401072562 of ref_active_time\n",
      "correct url 0.466712446629 of ref_active_time 0.613627127614 of correct_span\n",
      "Counter({'both_inactive': 7951327070.100586, 'correct_url': 953119655.3786621, 'ref_inactive_but_rec_active': 558339375.6530762, 'ref_active_but_rec_inactive': 488943512.48217773, 'incorrect_domain': 485083444.5703125, 'correct_domain': 115052309.54589844})\n"
     ]
    }
   ],
   "source": [
    "print_evaluation_results(evaluate_reconstruction_algorithm(reconstruct_for_user_v2))"
   ]
  },
  {
   "cell_type": "code",
   "execution_count": 28,
   "metadata": {
    "collapsed": false
   },
   "outputs": [
    {
     "name": "stdout",
     "output_type": "stream",
     "text": [
      "correct span 0.711302847744 of ref_active_time\n",
      "ref_inactive_but_rec_active 0.249803412967 of ref_active_time\n",
      "correct url 0.48777734485 of ref_active_time 0.685751992132 of correct_span\n",
      "Counter({'both_inactive': 64588807455.73291, 'correct_url': 6131376291.838135, 'ref_active_but_rec_inactive': 3628932121.4975586, 'ref_inactive_but_rec_active': 3140036617.2321777, 'incorrect_domain': 2120208839.3076172, 'correct_domain': 689513636.6120605})\n"
     ]
    }
   ],
   "source": [
    "#print_evaluation_results(evaluate_reconstruction_algorithm_test(reconstruct_for_user_v2))"
   ]
  },
  {
   "cell_type": "code",
   "execution_count": 29,
   "metadata": {
    "collapsed": false
   },
   "outputs": [],
   "source": [
    "#print_evaluation_results(evaluate_reconstruction_algorithm_for_user('3a3FX1s9S6', reconstruct_for_user_v3))"
   ]
  },
  {
   "cell_type": "code",
   "execution_count": 30,
   "metadata": {
    "collapsed": false
   },
   "outputs": [],
   "source": [
    "#print_evaluation_results(evaluate_reconstruction_algorithm(reconstruct_for_user_v3))"
   ]
  },
  {
   "cell_type": "code",
   "execution_count": 31,
   "metadata": {
    "collapsed": false
   },
   "outputs": [
    {
     "data": {
      "text/plain": [
       "\"\\nmax_weight = 0\\nsamples_for_max_weight = []\\nnum_printed = 0\\nfor idx in range(len(test_predictions)):\\n  ref = test_data['labels'][idx]\\n  pred = test_predictions[idx]\\n  weight = test_data['weights'][idx]\\n  samples = test_data['samples'][idx]\\n  if ref == 0 and pred == 1:\\n    #max_weight = max(max_weight, weight)\\n    if weight > max_weight:\\n      max_weight = weight\\n      samples_for_max_weight = samples\\n    #print weight\\n    #print samples\\n    num_printed += 1\\n    #if num_printed >= 100:\\n    #  break\\n  \\nprint max_weight\\nprint samples_for_max_weight\\n\""
      ]
     },
     "execution_count": 31,
     "metadata": {},
     "output_type": "execute_result"
    }
   ],
   "source": [
    "'''\n",
    "max_weight = 0\n",
    "samples_for_max_weight = []\n",
    "num_printed = 0\n",
    "for idx in range(len(test_predictions)):\n",
    "  ref = test_data['labels'][idx]\n",
    "  pred = test_predictions[idx]\n",
    "  weight = test_data['weights'][idx]\n",
    "  samples = test_data['samples'][idx]\n",
    "  if ref == 0 and pred == 1:\n",
    "    #max_weight = max(max_weight, weight)\n",
    "    if weight > max_weight:\n",
    "      max_weight = weight\n",
    "      samples_for_max_weight = samples\n",
    "    #print weight\n",
    "    #print samples\n",
    "    num_printed += 1\n",
    "    #if num_printed >= 100:\n",
    "    #  break\n",
    "  \n",
    "print max_weight\n",
    "print samples_for_max_weight\n",
    "'''"
   ]
  },
  {
   "cell_type": "code",
   "execution_count": 32,
   "metadata": {
    "collapsed": true
   },
   "outputs": [],
   "source": [
    "#print classifier.predict([[log(60*1000)]])"
   ]
  },
  {
   "cell_type": "code",
   "execution_count": 33,
   "metadata": {
    "collapsed": false
   },
   "outputs": [],
   "source": [
    "#print classifier.predict([[19.010298647]])\n",
    "#print classifier.predict([[15.010298647]])"
   ]
  },
  {
   "cell_type": "code",
   "execution_count": null,
   "metadata": {
    "collapsed": false
   },
   "outputs": [],
   "source": []
  },
  {
   "cell_type": "code",
   "execution_count": 34,
   "metadata": {
    "collapsed": false
   },
   "outputs": [],
   "source": [
    "#a = [{'time': x} for x in [5,3,7,9,2]]\n",
    "#b = SortedCollection(a, key=itemgetter('time'))\n",
    "#print b.find_le(6)"
   ]
  },
  {
   "cell_type": "code",
   "execution_count": 35,
   "metadata": {
    "collapsed": false
   },
   "outputs": [],
   "source": [
    "#tab_focus_times = get_tab_focus_times_for_user(user)\n",
    "#reconstructed_tab_focus_times = tab_focus_times = get_tab_focus_times_for_user(user)\n",
    "#reconstructed_tab_focus_times = list(get_reconstruct_focus_times_baseline_for_user(user))\n",
    "#print evalutate_tab_focus_reconstruction(tab_focus_times, reconstructed_tab_focus_times)\n",
    "\n",
    "#for visit in get_history_ordered_visits_for_user(user):\n",
    "#  print visit"
   ]
  }
 ],
 "metadata": {
  "kernelspec": {
   "display_name": "Python 2",
   "language": "python",
   "name": "python2"
  },
  "language_info": {
   "codemirror_mode": {
    "name": "ipython",
    "version": 2
   },
   "file_extension": ".py",
   "mimetype": "text/x-python",
   "name": "python",
   "nbconvert_exporter": "python",
   "pygments_lexer": "ipython2",
   "version": "2.7.11"
  }
 },
 "nbformat": 4,
 "nbformat_minor": 0
}
