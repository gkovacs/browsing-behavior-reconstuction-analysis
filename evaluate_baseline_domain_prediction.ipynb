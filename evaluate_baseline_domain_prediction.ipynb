{
 "cells": [
  {
   "cell_type": "code",
   "execution_count": 4,
   "metadata": {
    "collapsed": true
   },
   "outputs": [],
   "source": [
    "from tmilib import *\n",
    "import csv"
   ]
  },
  {
   "cell_type": "code",
   "execution_count": 5,
   "metadata": {
    "collapsed": false
   },
   "outputs": [],
   "source": [
    "total_items = 0\n",
    "baseline_correct = 0\n",
    "csv_reader = csv.reader(sdir_open('domainclass_cpn_test_all_withdomain_v12.csv'))\n",
    "csv_header = next(csv_reader)\n",
    "assert csv_header[3] == 'label'\n",
    "for line in csv_reader:\n",
    "  total_items += 1\n",
    "  if line[3] == 'c':\n",
    "    baseline_correct += 1\n"
   ]
  },
  {
   "cell_type": "code",
   "execution_count": 7,
   "metadata": {
    "collapsed": false
   },
   "outputs": [
    {
     "name": "stdout",
     "output_type": "stream",
     "text": [
      "10255076\n",
      "13836775\n"
     ]
    }
   ],
   "source": [
    "print baseline_correct\n",
    "print total_items"
   ]
  },
  {
   "cell_type": "code",
   "execution_count": 6,
   "metadata": {
    "collapsed": false
   },
   "outputs": [
    {
     "name": "stdout",
     "output_type": "stream",
     "text": [
      "0.741146401528\n"
     ]
    }
   ],
   "source": [
    "print float(baseline_correct) / total_items"
   ]
  }
 ],
 "metadata": {
  "kernelspec": {
   "display_name": "Python 2",
   "language": "python",
   "name": "python2"
  },
  "language_info": {
   "codemirror_mode": {
    "name": "ipython",
    "version": 2
   },
   "file_extension": ".py",
   "mimetype": "text/x-python",
   "name": "python",
   "nbconvert_exporter": "python",
   "pygments_lexer": "ipython2",
   "version": "2.7.11"
  }
 },
 "nbformat": 4,
 "nbformat_minor": 0
}
