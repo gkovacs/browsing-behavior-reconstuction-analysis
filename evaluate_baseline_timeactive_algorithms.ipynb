{
 "cells": [
  {
   "cell_type": "code",
   "execution_count": 4,
   "metadata": {
    "collapsed": true
   },
   "outputs": [],
   "source": [
    "from tmilib import *"
   ]
  },
  {
   "cell_type": "code",
   "execution_count": 13,
   "metadata": {
    "collapsed": true
   },
   "outputs": [],
   "source": [
    "import csv\n",
    "import math"
   ]
  },
  {
   "cell_type": "code",
   "execution_count": 17,
   "metadata": {
    "collapsed": false
   },
   "outputs": [],
   "source": [
    "def get_baseline_accuracy(threshold_minutes, insession_only):\n",
    "  testdata_filename = 'catdata_test_second.csv'\n",
    "  log_threshold = log(60*threshold_minutes)\n",
    "  if insession_only:\n",
    "    testdata_filename = 'catdata_test_insession_second.csv'\n",
    "  #for line in csv.DictReader(sdir_open(testdata_filename)):\n",
    "  csv_reader = csv.reader(sdir_open(testdata_filename))\n",
    "  headers = next(csv_reader)\n",
    "  assert headers[0] == 'label'\n",
    "  assert headers[1] == 'sinceprev'\n",
    "  tp = 0\n",
    "  fn = 0\n",
    "  fp = 0\n",
    "  tn = 0\n",
    "  for line in csv_reader:\n",
    "    label = line[0]\n",
    "    ref = label == 'T'\n",
    "    sinceprev = float(line[1]) # this is in log-seconds\n",
    "    rec = sinceprev < log_threshold\n",
    "    if ref == True and rec == True:\n",
    "      tp += 1\n",
    "    elif ref == True and rec == False:\n",
    "      fn += 1\n",
    "    elif ref == False and rec == True:\n",
    "      fp += 1\n",
    "    elif ref == False and rec == False:\n",
    "      tn += 1\n",
    "  return {\n",
    "    'tp': tp,\n",
    "    'fn': fn,\n",
    "    'fp': fp,\n",
    "    'tn': tn\n",
    "  }\n",
    "      "
   ]
  },
  {
   "cell_type": "code",
   "execution_count": 15,
   "metadata": {
    "collapsed": true
   },
   "outputs": [],
   "source": [
    "def print_binary_classification_stats(stats):\n",
    "  tp = float(stats['tp'])\n",
    "  fp = float(stats['fp'])\n",
    "  fn = float(stats['fn'])\n",
    "  tn = float(stats['tn'])\n",
    "  precision = tp / (tp + fp)\n",
    "  recall = tp / (tp + fn)\n",
    "  f1 = 2*precision*recall / (precision+recall)\n",
    "  accuracy = (tp + tn) / (tp + fp + fn + tn)\n",
    "  print 'tp', tp\n",
    "  print 'tn', tn\n",
    "  print 'fp', fp\n",
    "  print 'fn', fn\n",
    "  print 'precision', precision\n",
    "  print 'recall', recall\n",
    "  print 'f1', f1\n",
    "  print 'accuracy', accuracy"
   ]
  },
  {
   "cell_type": "code",
   "execution_count": null,
   "metadata": {
    "collapsed": false
   },
   "outputs": [
    {
     "name": "stdout",
     "output_type": "stream",
     "text": [
      "insession stats for threshold 1\n",
      "tp 7392537.0\n",
      "tn 9217702.0\n",
      "fp 288152.0\n",
      "fn 6435240.0\n",
      "precision 0.962483574065\n",
      "recall 0.534614999938\n",
      "f1 0.687407181898\n",
      "accuracy 0.711858304436\n",
      "insession stats for threshold 2\n"
     ]
    }
   ],
   "source": [
    "for i in range(1, 11):\n",
    "  print 'insession stats for threshold', i\n",
    "  cur_stats = get_baseline_accuracy(i, True)\n",
    "  print_binary_classification_stats(cur_stats)"
   ]
  },
  {
   "cell_type": "code",
   "execution_count": null,
   "metadata": {
    "collapsed": true
   },
   "outputs": [],
   "source": [
    "for i in range(1, 11):\n",
    "  print 'all stats for threshold', i\n",
    "  cur_stats = get_baseline_accuracy(i, False)\n",
    "  print_binary_classification_stats(cur_stats)"
   ]
  },
  {
   "cell_type": "code",
   "execution_count": null,
   "metadata": {
    "collapsed": true
   },
   "outputs": [],
   "source": []
  },
  {
   "cell_type": "code",
   "execution_count": null,
   "metadata": {
    "collapsed": true
   },
   "outputs": [],
   "source": []
  },
  {
   "cell_type": "code",
   "execution_count": null,
   "metadata": {
    "collapsed": true
   },
   "outputs": [],
   "source": []
  }
 ],
 "metadata": {
  "kernelspec": {
   "display_name": "Python 2",
   "language": "python",
   "name": "python2"
  },
  "language_info": {
   "codemirror_mode": {
    "name": "ipython",
    "version": 2
   },
   "file_extension": ".py",
   "mimetype": "text/x-python",
   "name": "python",
   "nbconvert_exporter": "python",
   "pygments_lexer": "ipython2",
   "version": "2.7.6"
  }
 },
 "nbformat": 4,
 "nbformat_minor": 0
}
