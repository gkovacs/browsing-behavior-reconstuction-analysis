{
 "cells": [
  {
   "cell_type": "code",
   "execution_count": 4,
   "metadata": {
    "collapsed": true
   },
   "outputs": [],
   "source": [
    "from tmilib import *"
   ]
  },
  {
   "cell_type": "code",
   "execution_count": 13,
   "metadata": {
    "collapsed": true
   },
   "outputs": [],
   "source": [
    "import csv\n",
    "import math"
   ]
  },
  {
   "cell_type": "code",
   "execution_count": 17,
   "metadata": {
    "collapsed": false
   },
   "outputs": [],
   "source": [
    "def get_baseline_accuracy(threshold_minutes, insession_only):\n",
    "  testdata_filename = 'catdata_test_second.csv'\n",
    "  log_threshold = log(60*threshold_minutes)\n",
    "  if insession_only:\n",
    "    testdata_filename = 'catdata_test_insession_second.csv'\n",
    "  #for line in csv.DictReader(sdir_open(testdata_filename)):\n",
    "  csv_reader = csv.reader(sdir_open(testdata_filename))\n",
    "  headers = next(csv_reader)\n",
    "  assert headers[0] == 'label'\n",
    "  assert headers[1] == 'sinceprev'\n",
    "  tp = 0\n",
    "  fn = 0\n",
    "  fp = 0\n",
    "  tn = 0\n",
    "  for line in csv_reader:\n",
    "    label = line[0]\n",
    "    ref = label == 'T'\n",
    "    sinceprev = float(line[1]) # this is in log-seconds\n",
    "    rec = sinceprev < log_threshold\n",
    "    if ref == True and rec == True:\n",
    "      tp += 1\n",
    "    elif ref == True and rec == False:\n",
    "      fn += 1\n",
    "    elif ref == False and rec == True:\n",
    "      fp += 1\n",
    "    elif ref == False and rec == False:\n",
    "      tn += 1\n",
    "  return {\n",
    "    'tp': tp,\n",
    "    'fn': fn,\n",
    "    'fp': fp,\n",
    "    'tn': tn\n",
    "  }\n",
    "      "
   ]
  },
  {
   "cell_type": "code",
   "execution_count": 15,
   "metadata": {
    "collapsed": true
   },
   "outputs": [],
   "source": [
    "def print_binary_classification_stats(stats):\n",
    "  tp = float(stats['tp'])\n",
    "  fp = float(stats['fp'])\n",
    "  fn = float(stats['fn'])\n",
    "  tn = float(stats['tn'])\n",
    "  precision = tp / (tp + fp)\n",
    "  recall = tp / (tp + fn)\n",
    "  f1 = 2*precision*recall / (precision+recall)\n",
    "  accuracy = (tp + tn) / (tp + fp + fn + tn)\n",
    "  print 'tp', tp\n",
    "  print 'tn', tn\n",
    "  print 'fp', fp\n",
    "  print 'fn', fn\n",
    "  print 'precision', precision\n",
    "  print 'recall', recall\n",
    "  print 'f1', f1\n",
    "  print 'accuracy', accuracy"
   ]
  },
  {
   "cell_type": "code",
   "execution_count": 18,
   "metadata": {
    "collapsed": false
   },
   "outputs": [
    {
     "name": "stdout",
     "output_type": "stream",
     "text": [
      "insession stats for threshold 1\n",
      "tp 7392537.0\n",
      "tn 9217702.0\n",
      "fp 288152.0\n",
      "fn 6435240.0\n",
      "precision 0.962483574065\n",
      "recall 0.534614999938\n",
      "f1 0.687407181898\n",
      "accuracy 0.711858304436\n",
      "insession stats for threshold 2\n",
      "tp 9297684.0\n",
      "tn 8408814.0\n",
      "fp 1097040.0\n",
      "fn 4530093.0\n",
      "precision 0.894461844297\n",
      "recall 0.672391809616\n",
      "f1 0.767689843423\n",
      "accuracy 0.758840233652\n",
      "insession stats for threshold 3\n",
      "tp 10332560.0\n",
      "tn 7608041.0\n",
      "fp 1897813.0\n",
      "fn 3495217.0\n",
      "precision 0.84482787238\n",
      "recall 0.747232183452\n",
      "f1 0.793038646258\n",
      "accuracy 0.768873091376\n",
      "insession stats for threshold 4\n",
      "tp 11017552.0\n",
      "tn 6899755.0\n",
      "fp 2606099.0\n",
      "fn 2810225.0\n",
      "precision 0.80870773921\n",
      "recall 0.796769574748\n",
      "f1 0.802694271497\n",
      "accuracy 0.767874789826\n",
      "insession stats for threshold 5\n",
      "tp 11520508.0\n",
      "tn 6267253.0\n",
      "fp 3238601.0\n",
      "fn 2307269.0\n",
      "precision 0.780569341957\n",
      "recall 0.833142449433\n",
      "f1 0.805999506207\n",
      "accuracy 0.762322889224\n",
      "insession stats for threshold 6\n",
      "tp 11911278.0\n",
      "tn 5689184.0\n",
      "fp 3816670.0\n",
      "fn 1916499.0\n",
      "precision 0.757331979989\n",
      "recall 0.861402234068\n",
      "f1 0.806021709838\n",
      "accuracy 0.754295891625\n",
      "insession stats for threshold 7\n",
      "tp 12220973.0\n",
      "tn 5148625.0\n",
      "fp 4357229.0\n",
      "fn 1606804.0\n",
      "precision 0.737171196249\n",
      "recall 0.883798820302\n",
      "f1 0.803853281619\n",
      "accuracy 0.744401846416\n",
      "insession stats for threshold 8\n",
      "tp 12475594.0\n",
      "tn 4642682.0\n",
      "fp 4863172.0\n",
      "fn 1352183.0\n",
      "precision 0.719520293428\n",
      "recall 0.90221255376\n",
      "f1 0.800576053623\n",
      "accuracy 0.733631040964\n",
      "insession stats for threshold 9\n",
      "tp 12684430.0\n",
      "tn 4158248.0\n",
      "fp 5347606.0\n",
      "fn 1143347.0\n",
      "precision 0.703438591183\n",
      "recall 0.917315198242\n",
      "f1 0.796265188374\n",
      "accuracy 0.721819848784\n",
      "insession stats for threshold 10\n",
      "tp 12860850.0\n",
      "tn 3697390.0\n",
      "fp 5808464.0\n",
      "fn 966927.0\n",
      "precision 0.688876409706\n",
      "recall 0.930073575818\n",
      "f1 0.791507769111\n",
      "accuracy 0.709629804294\n"
     ]
    }
   ],
   "source": [
    "for i in range(1, 11):\n",
    "  print 'insession stats for threshold', i\n",
    "  cur_stats = get_baseline_accuracy(i, True)\n",
    "  print_binary_classification_stats(cur_stats)"
   ]
  },
  {
   "cell_type": "code",
   "execution_count": 19,
   "metadata": {
    "collapsed": false
   },
   "outputs": [
    {
     "name": "stdout",
     "output_type": "stream",
     "text": [
      "all stats for threshold 1\n",
      "tp 7392537.0\n",
      "tn 102148027.0\n",
      "fp 288152.0\n",
      "fn 6435240.0\n",
      "precision 0.962483574065\n",
      "recall 0.534614999938\n",
      "f1 0.687407181898\n",
      "accuracy 0.94217131232\n",
      "all stats for threshold 2\n",
      "tp 9297684.0\n",
      "tn 101339139.0\n",
      "fp 1097040.0\n",
      "fn 4530093.0\n",
      "precision 0.894461844297\n",
      "recall 0.672391809616\n",
      "f1 0.767689843423\n",
      "accuracy 0.951600365293\n",
      "all stats for threshold 3\n",
      "tp 10332560.0\n",
      "tn 100538366.0\n",
      "fp 1897813.0\n",
      "fn 3495217.0\n",
      "precision 0.84482787238\n",
      "recall 0.747232183452\n",
      "f1 0.793038646258\n",
      "accuracy 0.953613912811\n",
      "all stats for threshold 4\n",
      "tp 11017552.0\n",
      "tn 99830080.0\n",
      "fp 2606099.0\n",
      "fn 2810225.0\n",
      "precision 0.80870773921\n",
      "recall 0.796769574748\n",
      "f1 0.802694271497\n",
      "accuracy 0.953413558369\n",
      "all stats for threshold 5\n",
      "tp 11520508.0\n",
      "tn 99197578.0\n",
      "fp 3238601.0\n",
      "fn 2307269.0\n",
      "precision 0.780569341957\n",
      "recall 0.833142449433\n",
      "f1 0.805999506207\n",
      "accuracy 0.952299317942\n",
      "all stats for threshold 6\n",
      "tp 11911278.0\n",
      "tn 98619509.0\n",
      "fp 3816670.0\n",
      "fn 1916499.0\n",
      "precision 0.757331979989\n",
      "recall 0.861402234068\n",
      "f1 0.806021709838\n",
      "accuracy 0.950688337149\n",
      "all stats for threshold 7\n",
      "tp 12220973.0\n",
      "tn 98078950.0\n",
      "fp 4357229.0\n",
      "fn 1606804.0\n",
      "precision 0.737171196249\n",
      "recall 0.883798820302\n",
      "f1 0.803853281619\n",
      "accuracy 0.948702648652\n",
      "all stats for threshold 8\n",
      "tp 12475594.0\n",
      "tn 97573007.0\n",
      "fp 4863172.0\n",
      "fn 1352183.0\n",
      "precision 0.719520293428\n",
      "recall 0.90221255376\n",
      "f1 0.800576053623\n",
      "accuracy 0.946540998485\n",
      "all stats for threshold 9\n",
      "tp 12684430.0\n",
      "tn 97088573.0\n",
      "fp 5347606.0\n",
      "fn 1143347.0\n",
      "precision 0.703438591183\n",
      "recall 0.917315198242\n",
      "f1 0.796265188374\n",
      "accuracy 0.944170547577\n",
      "all stats for threshold 10\n",
      "tp 12860850.0\n",
      "tn 96627715.0\n",
      "fp 5808464.0\n",
      "fn 966927.0\n",
      "precision 0.688876409706\n",
      "recall 0.930073575818\n",
      "f1 0.791507769111\n",
      "accuracy 0.941724062787\n"
     ]
    }
   ],
   "source": [
    "for i in range(1, 11):\n",
    "  print 'all stats for threshold', i\n",
    "  cur_stats = get_baseline_accuracy(i, False)\n",
    "  print_binary_classification_stats(cur_stats)"
   ]
  },
  {
   "cell_type": "code",
   "execution_count": null,
   "metadata": {
    "collapsed": true
   },
   "outputs": [],
   "source": []
  },
  {
   "cell_type": "code",
   "execution_count": null,
   "metadata": {
    "collapsed": true
   },
   "outputs": [],
   "source": []
  },
  {
   "cell_type": "code",
   "execution_count": null,
   "metadata": {
    "collapsed": true
   },
   "outputs": [],
   "source": []
  }
 ],
 "metadata": {
  "kernelspec": {
   "display_name": "Python 2",
   "language": "python",
   "name": "python2"
  },
  "language_info": {
   "codemirror_mode": {
    "name": "ipython",
    "version": 2
   },
   "file_extension": ".py",
   "mimetype": "text/x-python",
   "name": "python",
   "nbconvert_exporter": "python",
   "pygments_lexer": "ipython2",
   "version": "2.7.6"
  }
 },
 "nbformat": 4,
 "nbformat_minor": 0
}
