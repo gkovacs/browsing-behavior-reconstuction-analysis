{
 "cells": [
  {
   "cell_type": "code",
   "execution_count": 1,
   "metadata": {
    "collapsed": false
   },
   "outputs": [],
   "source": [
    "from tmilib import *"
   ]
  },
  {
   "cell_type": "code",
   "execution_count": 2,
   "metadata": {
    "collapsed": false
   },
   "outputs": [],
   "source": [
    "from reconstruct_focus_times_common import *\n",
    "from reconstruct_focus_times import ReconstructFocusTimesBaseline\n",
    "from session_tracker import get_focused_tab"
   ]
  },
  {
   "cell_type": "code",
   "execution_count": 3,
   "metadata": {
    "collapsed": false
   },
   "outputs": [
    {
     "data": {
      "text/plain": [
       "\"\\nfor user in list_users():\\n  ordered_visits = get_history_ordered_visits_for_user(user)\\n  if len(ordered_visits) == 0:\\n    continue\\n  last_visit = ordered_visits[-1]\\n  last_visit_time = float(last_visit['visitTime']) / 1000.0\\n  print user, datetime.datetime.fromtimestamp(last_visit_time)\\n\""
      ]
     },
     "execution_count": 3,
     "metadata": {},
     "output_type": "execute_result"
    }
   ],
   "source": [
    "'''\n",
    "for user in list_users():\n",
    "  ordered_visits = get_history_ordered_visits_for_user(user)\n",
    "  if len(ordered_visits) == 0:\n",
    "    continue\n",
    "  last_visit = ordered_visits[-1]\n",
    "  last_visit_time = float(last_visit['visitTime']) / 1000.0\n",
    "  print user, datetime.datetime.fromtimestamp(last_visit_time)\n",
    "'''"
   ]
  },
  {
   "cell_type": "code",
   "execution_count": 4,
   "metadata": {
    "collapsed": false
   },
   "outputs": [
    {
     "data": {
      "text/plain": [
       "\"\\nfor user in list_users():\\n  tab_focus_times = get_tab_focus_times_for_user(user)\\n  if len(tab_focus_times) == 0:\\n    continue\\n  last_visit = tab_focus_times[-1]\\n  last_visit_time = float(last_visit['end']) / 1000.0\\n  print user, datetime.datetime.fromtimestamp(last_visit_time)\\n\""
      ]
     },
     "execution_count": 4,
     "metadata": {},
     "output_type": "execute_result"
    }
   ],
   "source": [
    "'''\n",
    "for user in list_users():\n",
    "  tab_focus_times = get_tab_focus_times_for_user(user)\n",
    "  if len(tab_focus_times) == 0:\n",
    "    continue\n",
    "  last_visit = tab_focus_times[-1]\n",
    "  last_visit_time = float(last_visit['end']) / 1000.0\n",
    "  print user, datetime.datetime.fromtimestamp(last_visit_time)\n",
    "'''"
   ]
  },
  {
   "cell_type": "code",
   "execution_count": null,
   "metadata": {
    "collapsed": false
   },
   "outputs": [],
   "source": []
  },
  {
   "cell_type": "code",
   "execution_count": null,
   "metadata": {
    "collapsed": true
   },
   "outputs": [],
   "source": []
  },
  {
   "cell_type": "code",
   "execution_count": 5,
   "metadata": {
    "collapsed": true
   },
   "outputs": [],
   "source": [
    "def ignore_all_before_start_or_after_end(visit_lengths, start_time, end_time):\n",
    "  output = []\n",
    "  for x in visit_lengths:\n",
    "    if x['end'] < start_time:\n",
    "      continue\n",
    "    if x['start'] > end_time:\n",
    "      continue\n",
    "    #if x['start'] < start_time: # - 1000: # 1 second before or after\n",
    "    #  continue\n",
    "    #if x['end'] > end_time: # + 1000:\n",
    "    #  continue\n",
    "    output.append(x)\n",
    "  return output"
   ]
  },
  {
   "cell_type": "code",
   "execution_count": null,
   "metadata": {
    "collapsed": true
   },
   "outputs": [],
   "source": []
  },
  {
   "cell_type": "code",
   "execution_count": 6,
   "metadata": {
    "collapsed": false
   },
   "outputs": [
    {
     "data": {
      "text/plain": [
       "'\\ndef get_evaluation_stats_for_user(user):\\n  #evaluated_tab_focus_times,evaluated_reconstructed_tab_focus_times = get_evaluated_reference_and_reconstructed_focus_times_for_user(user)\\n  #if len(evaluated_reconstructed_tab_focus_times) == 0 or len(evaluated_tab_focus_times) == 0:\\n  #  return {}\\n  tab_focus_times = get_tab_focus_times_for_user(user)\\n  reconstructed_tab_focus_times = list(get_reconstruct_focus_times_baseline_for_user(user))\\n  if len(tab_focus_times) == 0 or len(reconstructed_tab_focus_times) == 0:\\n    return {}\\n  ref_start_time = max(get_earliest_start_time(tab_focus_times), get_earliest_start_time(reconstructed_tab_focus_times))\\n  ref_end_time = min(get_last_end_time(tab_focus_times), get_last_end_time(reconstructed_tab_focus_times))\\n  evaluated_reconstructed_tab_focus_times = ignore_all_before_start_or_after_end(reconstructed_tab_focus_times, ref_start_time, ref_end_time)\\n  evaluated_tab_focus_times = ignore_all_before_start_or_after_end(tab_focus_times, ref_start_time, ref_end_time)\\n  result_reference = second_to_active_url(evaluated_tab_focus_times, ref_start_time, ref_end_time)\\n  result_reconstructed = second_to_active_url(evaluated_reconstructed_tab_focus_times, ref_start_time, ref_end_time)\\n  return evaluation_stats_for_reconstruction(result_reference, result_reconstructed)\\n  #print tab_focus_times[0].keys()\\n  #print list(reconstructed_tab_focus_times)[0].keys()\\n'"
      ]
     },
     "execution_count": 6,
     "metadata": {},
     "output_type": "execute_result"
    }
   ],
   "source": [
    "def get_evaluated_reference_and_reconstructed_focus_times_for_user(user):\n",
    "  #tab_focus_times = get_tab_focus_times_for_user(user)\n",
    "  tab_focus_times = get_tab_focus_times_only_tab_updated_for_user(user)\n",
    "  reconstructed_tab_focus_times = list(get_reconstruct_focus_times_baseline_for_user(user))\n",
    "  if len(tab_focus_times) == 0 or len(reconstructed_tab_focus_times) == 0:\n",
    "    return [],[]\n",
    "  ref_start_time = max(get_earliest_start_time(tab_focus_times), get_earliest_start_time(reconstructed_tab_focus_times))\n",
    "  ref_end_time = min(get_last_end_time(tab_focus_times), get_last_end_time(reconstructed_tab_focus_times))\n",
    "  evaluated_reconstructed_tab_focus_times = ignore_all_before_start_or_after_end(reconstructed_tab_focus_times, ref_start_time, ref_end_time)\n",
    "  evaluated_tab_focus_times = ignore_all_before_start_or_after_end(tab_focus_times, ref_start_time, ref_end_time)\n",
    "  return evaluated_tab_focus_times,evaluated_reconstructed_tab_focus_times\n",
    "\n",
    "def get_evaluation_stats_for_user(user):\n",
    "  evaluated_tab_focus_times,evaluated_reconstructed_tab_focus_times = get_evaluated_reference_and_reconstructed_focus_times_for_user(user)\n",
    "  if len(evaluated_reconstructed_tab_focus_times) == 0 or len(evaluated_tab_focus_times) == 0:\n",
    "    return {}\n",
    "  return evalutate_tab_focus_reconstruction(evaluated_tab_focus_times, evaluated_reconstructed_tab_focus_times)\n",
    "\n",
    "'''\n",
    "def get_evaluation_stats_for_user(user):\n",
    "  #evaluated_tab_focus_times,evaluated_reconstructed_tab_focus_times = get_evaluated_reference_and_reconstructed_focus_times_for_user(user)\n",
    "  #if len(evaluated_reconstructed_tab_focus_times) == 0 or len(evaluated_tab_focus_times) == 0:\n",
    "  #  return {}\n",
    "  tab_focus_times = get_tab_focus_times_for_user(user)\n",
    "  reconstructed_tab_focus_times = list(get_reconstruct_focus_times_baseline_for_user(user))\n",
    "  if len(tab_focus_times) == 0 or len(reconstructed_tab_focus_times) == 0:\n",
    "    return {}\n",
    "  ref_start_time = max(get_earliest_start_time(tab_focus_times), get_earliest_start_time(reconstructed_tab_focus_times))\n",
    "  ref_end_time = min(get_last_end_time(tab_focus_times), get_last_end_time(reconstructed_tab_focus_times))\n",
    "  evaluated_reconstructed_tab_focus_times = ignore_all_before_start_or_after_end(reconstructed_tab_focus_times, ref_start_time, ref_end_time)\n",
    "  evaluated_tab_focus_times = ignore_all_before_start_or_after_end(tab_focus_times, ref_start_time, ref_end_time)\n",
    "  result_reference = second_to_active_url(evaluated_tab_focus_times, ref_start_time, ref_end_time)\n",
    "  result_reconstructed = second_to_active_url(evaluated_reconstructed_tab_focus_times, ref_start_time, ref_end_time)\n",
    "  return evaluation_stats_for_reconstruction(result_reference, result_reconstructed)\n",
    "  #print tab_focus_times[0].keys()\n",
    "  #print list(reconstructed_tab_focus_times)[0].keys()\n",
    "'''"
   ]
  },
  {
   "cell_type": "code",
   "execution_count": null,
   "metadata": {
    "collapsed": false
   },
   "outputs": [],
   "source": []
  },
  {
   "cell_type": "code",
   "execution_count": 7,
   "metadata": {
    "collapsed": true
   },
   "outputs": [],
   "source": [
    "class ClosestVisitTimeForUrl:\n",
    "  def __init__(self, tab_focus_times):\n",
    "    self.visits = tab_focus_times\n",
    "    self.url_to_visit_times = {} # url to start of visit\n",
    "    self.visit_time_to_visit = {}\n",
    "    for visit in self.visits: # these visits are time-ordered\n",
    "      start = visit['start']\n",
    "      url = visit['url']\n",
    "      if url not in self.url_to_visit_times:\n",
    "        self.url_to_visit_times[url] = []\n",
    "      self.url_to_visit_times[url].append(start)\n",
    "      self.visit_time_to_visit[start] = visit\n",
    "  def get_visit_from_time(self, target_visit_time):\n",
    "    self.visit_time_to_visit.get(target_visit_time, None)\n",
    "  def find_closest_visit(self, url, target_visit_time):\n",
    "    if url not in self.url_to_visit_times:\n",
    "      return None\n",
    "    all_visits = self.url_to_visit_times[url]\n",
    "    closest_visit = None\n",
    "    for visit in all_visits:\n",
    "      if closest_visit == None:\n",
    "        closest_visit = visit\n",
    "        continue\n",
    "      if abs(visit - target_visit_time) < abs(closest_visit - target_visit_time):\n",
    "        closest_visit = visit\n",
    "    return closest_visit"
   ]
  },
  {
   "cell_type": "code",
   "execution_count": null,
   "metadata": {
    "collapsed": true
   },
   "outputs": [],
   "source": []
  },
  {
   "cell_type": "code",
   "execution_count": 8,
   "metadata": {
    "collapsed": true
   },
   "outputs": [],
   "source": [
    "def get_span_alignment_stats_for_user(user):\n",
    "  evaluated_tab_focus_times,evaluated_reconstructed_tab_focus_times = get_evaluated_reference_and_reconstructed_focus_times_for_user(user)\n",
    "  if len(evaluated_reconstructed_tab_focus_times) == 0 or len(evaluated_tab_focus_times) == 0:\n",
    "    return {}\n",
    "  closest_visit_times_for_reference = ClosestVisitTimeForUrl(evaluated_tab_focus_times)\n",
    "  closest_visit_times_for_reconstructed = ClosestVisitTimeForUrl(evaluated_reconstructed_tab_focus_times)\n",
    "  stats = Counter()\n",
    "  domains_where_reconstructed_has_no_reference = Counter()\n",
    "  domains_where_reference_has_no_reconstructed = Counter()\n",
    "  urls_where_reconstructed_has_no_reference = Counter()\n",
    "  urls_where_reference_has_no_reconstructed = Counter()\n",
    "  reconstructed_transition_types_with_no_corresponding_reference = Counter()\n",
    "  reconstructed_transition_types_total = Counter()\n",
    "  reconstructed_visits_labeled = []\n",
    "  reference_visits_labeled = []\n",
    "  for visit in evaluated_reconstructed_tab_focus_times:\n",
    "    start_time = visit['start']\n",
    "    url = visit['url']\n",
    "    domain = url_to_domain(url)\n",
    "    closest_time = closest_visit_times_for_reference.find_closest_visit(url, start_time)\n",
    "    visit_labeled = {k:v for k,v in visit.items()}\n",
    "    if 'transition' in visit:\n",
    "      transition = visit['transition']\n",
    "      reconstructed_transition_types_total[transition] += 1\n",
    "    if closest_time == None or abs(start_time - closest_time) > 5*1000: # more than 5 seconds off\n",
    "      stats['reconstructed_has_no_corresponding_reference'] += 1\n",
    "      domains_where_reconstructed_has_no_reference[domain] += 1\n",
    "      urls_where_reconstructed_has_no_reference[url] += 1\n",
    "      visit_labeled['have_reference'] = False\n",
    "      if 'transition' in visit:\n",
    "        transition = visit['transition']\n",
    "        reconstructed_transition_types_with_no_corresponding_reference[transition] += 1\n",
    "    else:\n",
    "      stats['reconstructed_has_corresponding_reference'] += 1\n",
    "      visit_labeled['have_reference'] = True\n",
    "    reconstructed_visits_labeled.append(visit_labeled)\n",
    "  for visit in evaluated_tab_focus_times:\n",
    "    start_time = visit['start']\n",
    "    url = visit['url']\n",
    "    closest_time = closest_visit_times_for_reconstructed.find_closest_visit(url, start_time)\n",
    "    visit_labeled = {k:v for k,v in visit.items()}\n",
    "    if closest_time == None or abs(start_time - closest_time) > 5*1000: # more than 5 seconds off\n",
    "      stats['reference_has_no_corresponding_reconstructed'] += 1\n",
    "      domains_where_reference_has_no_reconstructed[domain] += 1\n",
    "      urls_where_reference_has_no_reconstructed[url] += 1\n",
    "      visit_labeled['have_reconstructed'] = False\n",
    "    else:\n",
    "      stats['reference_has_corresponding_reconstructed'] += 1\n",
    "      visit_labeled['have_reconstructed'] = True\n",
    "    reference_visits_labeled.append(visit_labeled)\n",
    "  return {\n",
    "    'stats': stats,\n",
    "    'domains_where_reconstructed_has_no_reference': domains_where_reconstructed_has_no_reference,\n",
    "    'domains_where_reference_has_no_reconstructed': domains_where_reference_has_no_reconstructed,\n",
    "    'urls_where_reconstructed_has_no_reference': urls_where_reconstructed_has_no_reference,\n",
    "    'urls_where_reference_has_no_reconstructed': urls_where_reference_has_no_reconstructed,\n",
    "    'reconstructed_visits_labeled': reconstructed_visits_labeled,\n",
    "    'reference_visits_labeled': reference_visits_labeled,\n",
    "    'reconstructed_transition_types_with_no_corresponding_reference': reconstructed_transition_types_with_no_corresponding_reference,\n",
    "    'reconstructed_transition_types_total': reconstructed_transition_types_total,\n",
    "  }"
   ]
  },
  {
   "cell_type": "code",
   "execution_count": 9,
   "metadata": {
    "collapsed": false
   },
   "outputs": [],
   "source": [
    "user_to_span_alignment_data = {}\n",
    "\n",
    "for user in list_users():\n",
    "  data = get_span_alignment_stats_for_user(user)\n",
    "  if 'stats' not in data:\n",
    "    continue\n",
    "  user_to_span_alignment_data[user] = data\n"
   ]
  },
  {
   "cell_type": "code",
   "execution_count": 10,
   "metadata": {
    "collapsed": false
   },
   "outputs": [
    {
     "name": "stdout",
     "output_type": "stream",
     "text": [
      "reference_has_corresponding_reconstructed 691955\n",
      "reconstructed_has_corresponding_reference 689770\n",
      "reference_has_no_corresponding_reconstructed 255078\n",
      "reconstructed_has_no_corresponding_reference 179818\n"
     ]
    }
   ],
   "source": [
    "overall_span_alignment_stats = Counter()\n",
    "for user,data in user_to_span_alignment_data.items():\n",
    "  stats = data['stats']\n",
    "  for k,v in stats.items():\n",
    "    overall_span_alignment_stats[k] += v\n",
    "\n",
    "print_counter(overall_span_alignment_stats)\n",
    "# 60% of reference have corresponding reconstructed\n",
    "# 84% of reconstructed have corresponding reference"
   ]
  },
  {
   "cell_type": "code",
   "execution_count": 11,
   "metadata": {
    "collapsed": false
   },
   "outputs": [
    {
     "name": "stdout",
     "output_type": "stream",
     "text": [
      "link 137553\n",
      "form_submit 18597\n",
      "reload 8651\n",
      "typed 6056\n",
      "generated 4422\n",
      "auto_bookmark 3135\n",
      "auto_toplevel 1359\n",
      "keyword 40\n",
      "keyword_generated 5\n"
     ]
    }
   ],
   "source": [
    "overall_transitions_with_no_reference = Counter()\n",
    "\n",
    "for user,data in user_to_span_alignment_data.items():\n",
    "  for k,v in data['reconstructed_transition_types_with_no_corresponding_reference'].items():\n",
    "    overall_transitions_with_no_reference[k] += v\n",
    "\n",
    "print_counter(overall_transitions_with_no_reference)"
   ]
  },
  {
   "cell_type": "code",
   "execution_count": 12,
   "metadata": {
    "collapsed": false
   },
   "outputs": [
    {
     "name": "stdout",
     "output_type": "stream",
     "text": [
      "link 669737\n",
      "form_submit 108915\n",
      "reload 31720\n",
      "typed 22748\n",
      "auto_bookmark 17769\n",
      "generated 14964\n",
      "auto_toplevel 3470\n",
      "keyword 259\n",
      "keyword_generated 6\n"
     ]
    }
   ],
   "source": [
    "overall_transitions_total_in_evaluated_reconstruction = Counter()\n",
    "\n",
    "for user,data in user_to_span_alignment_data.items():\n",
    "  for k,v in data['reconstructed_transition_types_total'].items():\n",
    "    overall_transitions_total_in_evaluated_reconstruction[k] += v\n",
    "\n",
    "print_counter(overall_transitions_total_in_evaluated_reconstruction)\n"
   ]
  },
  {
   "cell_type": "code",
   "execution_count": 13,
   "metadata": {
    "collapsed": false
   },
   "outputs": [
    {
     "name": "stdout",
     "output_type": "stream",
     "text": [
      "form_submit 0.170747830877\n",
      "auto_bookmark 0.176430862738\n",
      "keyword 0.15444015444\n",
      "typed 0.26622120626\n",
      "auto_toplevel 0.391642651297\n",
      "reload 0.272730138714\n",
      "generated 0.295509222133\n",
      "link 0.205383605803\n",
      "keyword_generated 0.833333333333\n"
     ]
    }
   ],
   "source": [
    "# history transition types that have highest levels of no-corresponding-reference\n",
    "for k,v in overall_transitions_total_in_evaluated_reconstruction.items():\n",
    "  bad_transitions = overall_transitions_with_no_reference.get(k, 0)\n",
    "  print k, (float(bad_transitions)/v)"
   ]
  },
  {
   "cell_type": "code",
   "execution_count": 14,
   "metadata": {
    "collapsed": false
   },
   "outputs": [
    {
     "name": "stdout",
     "output_type": "stream",
     "text": [
      "link 4996461\n",
      "form_submit 767306\n",
      "reload 269928\n",
      "typed 256299\n",
      "auto_bookmark 135748\n",
      "generated 131291\n",
      "auto_toplevel 99731\n",
      "keyword 2170\n",
      "keyword_generated 20\n"
     ]
    }
   ],
   "source": [
    "overall_transitions_total_in_reconstruction = Counter()\n",
    "\n",
    "for user in list_users_with_hist():\n",
    "  for visit in get_reconstruct_focus_times_baseline_for_user(user):\n",
    "    transition = visit['transition']\n",
    "    overall_transitions_total_in_reconstruction[transition] += 1\n",
    "\n",
    "print_counter(overall_transitions_total_in_reconstruction)"
   ]
  },
  {
   "cell_type": "code",
   "execution_count": 15,
   "metadata": {
    "collapsed": false
   },
   "outputs": [
    {
     "name": "stdout",
     "output_type": "stream",
     "text": [
      "link 6157728\n",
      "form_submit 1099071\n",
      "reload 412746\n",
      "typed 265271\n",
      "auto_bookmark 140369\n",
      "manual_subframe 137829\n",
      "generated 131656\n",
      "auto_toplevel 100801\n",
      "keyword 2173\n",
      "auto_subframe 302\n",
      "keyword_generated 21\n"
     ]
    }
   ],
   "source": [
    "overall_transitions_total = Counter()\n",
    "\n",
    "for user in list_users_with_hist():\n",
    "  for visit in get_history_ordered_visits_for_user(user):\n",
    "    transition = visit['transition']\n",
    "    overall_transitions_total[transition] += 1\n",
    "\n",
    "print_counter(overall_transitions_total)"
   ]
  },
  {
   "cell_type": "code",
   "execution_count": 16,
   "metadata": {
    "collapsed": false
   },
   "outputs": [
    {
     "name": "stdout",
     "output_type": "stream",
     "text": [
      "form_submit 0.0169206538977\n",
      "auto_subframe 0.0\n",
      "auto_bookmark 0.0223339911234\n",
      "keyword 0.0184077312471\n",
      "typed 0.0228294838109\n",
      "auto_toplevel 0.0134820091071\n",
      "reload 0.0209596216559\n",
      "generated 0.0335875311418\n",
      "link 0.0223382715183\n",
      "manual_subframe 0.0\n",
      "keyword_generated 0.238095238095\n"
     ]
    }
   ],
   "source": [
    "for k,v in overall_transitions_total.items():\n",
    "  bad_transitions = overall_transitions_with_no_reference.get(k, 0)\n",
    "  print k, (float(bad_transitions)/v)"
   ]
  },
  {
   "cell_type": "code",
   "execution_count": 17,
   "metadata": {
    "collapsed": false
   },
   "outputs": [
    {
     "name": "stdout",
     "output_type": "stream",
     "text": [
      "form_submit 0.0242367451838\n",
      "auto_bookmark 0.0230942628989\n",
      "keyword 0.0184331797235\n",
      "typed 0.0236286524723\n",
      "auto_toplevel 0.0136266557038\n",
      "reload 0.0320492872173\n",
      "generated 0.0336809072975\n",
      "link 0.0275300857947\n",
      "keyword_generated 0.25\n"
     ]
    }
   ],
   "source": [
    "for k,v in overall_transitions_total_in_reconstruction.items():\n",
    "  bad_transitions = overall_transitions_with_no_reference.get(k, 0)\n",
    "  print k, (float(bad_transitions)/v)\n",
    "\n"
   ]
  },
  {
   "cell_type": "code",
   "execution_count": 18,
   "metadata": {
    "collapsed": true
   },
   "outputs": [],
   "source": [
    "optimal_reconstruction_stats_spans = Counter()\n",
    "optimal_reconstruction_stats_times = Counter()\n",
    "\n",
    "for user,data in user_to_span_alignment_data.items():\n",
    "  for visit in data['reconstructed_visits_labeled']:\n",
    "    if visit['have_reference']:\n",
    "      optimal_reconstruction_stats_spans['reconstructed_has_reference'] += 1\n",
    "    else:\n",
    "      optimal_reconstruction_stats_spans['reconstructed_has_no_reference'] += 1\n",
    "  for visit in data['reference_visits_labeled']:\n",
    "    length = visit['end'] - visit['start']\n",
    "    if visit['have_reconstructed']:\n",
    "      optimal_reconstruction_stats_spans['reference_has_reconstructed'] += 1\n",
    "      optimal_reconstruction_stats_times['seconds_of_reference_that_can_be_reconstructed'] += length\n",
    "    else:\n",
    "      optimal_reconstruction_stats_spans['reference_has_no_reconstructed'] += 1\n",
    "      optimal_reconstruction_stats_times['seconds_of_reference_that_cannot_be_reconstructed'] += length"
   ]
  },
  {
   "cell_type": "code",
   "execution_count": 19,
   "metadata": {
    "collapsed": false
   },
   "outputs": [
    {
     "name": "stdout",
     "output_type": "stream",
     "text": [
      "reference_has_reconstructed 691955\n",
      "reconstructed_has_reference 689770\n",
      "reference_has_no_reconstructed 255078\n",
      "reconstructed_has_no_reference 179818\n"
     ]
    }
   ],
   "source": [
    "print_counter(optimal_reconstruction_stats_spans)\n",
    "# reference has reconstructed 60% = 80332.0 / (80332 + 54018)\n",
    "# reconstructed has reference 84% = 55748.0 / (10948 + 55748)\n",
    "\n",
    "# reference has reconstructed 73% = 574617.0/(574617+207343)\n",
    "# reconstructed has reference 79% = 572765.0/(572765 + 150460)"
   ]
  },
  {
   "cell_type": "code",
   "execution_count": 20,
   "metadata": {
    "collapsed": false
   },
   "outputs": [
    {
     "name": "stdout",
     "output_type": "stream",
     "text": [
      "seconds_of_reference_that_can_be_reconstructed 13223793000.0\n",
      "seconds_of_reference_that_cannot_be_reconstructed 7829529826.03\n"
     ]
    }
   ],
   "source": [
    "print_counter(optimal_reconstruction_stats_times)\n",
    "# seconds of reference that can be reconstructed 57% = 1254885375.005127 / (1254885375.005127 + 947693694.9926758)"
   ]
  },
  {
   "cell_type": "code",
   "execution_count": 21,
   "metadata": {
    "collapsed": true
   },
   "outputs": [],
   "source": [
    "domain_to_seconds_that_cannot_be_reconstructed = Counter()\n",
    "url_to_seconds_that_cannot_be_reconstructed = Counter()\n",
    "domain_to_spans_that_cannot_be_reconstructed = Counter()\n",
    "url_to_spans_that_cannot_be_reconstructed = Counter()\n",
    "\n",
    "for user,data in user_to_span_alignment_data.items():\n",
    "  for visit in data['reference_visits_labeled']:\n",
    "    length = visit['end'] - visit['start']\n",
    "    url = visit['url']\n",
    "    domain = url_to_domain(url)\n",
    "    if not visit['have_reconstructed']:\n",
    "      domain_to_seconds_that_cannot_be_reconstructed[domain] += length\n",
    "      domain_to_spans_that_cannot_be_reconstructed[domain] += 1\n",
    "      url_to_seconds_that_cannot_be_reconstructed[url] += length\n",
    "      url_to_spans_that_cannot_be_reconstructed[url] += 1"
   ]
  },
  {
   "cell_type": "code",
   "execution_count": null,
   "metadata": {
    "collapsed": false
   },
   "outputs": [],
   "source": []
  },
  {
   "cell_type": "code",
   "execution_count": 22,
   "metadata": {
    "collapsed": false
   },
   "outputs": [
    {
     "name": "stdout",
     "output_type": "stream",
     "text": [
      "www.mturk.com 81899\n",
      "newtab 27145\n",
      "www.facebook.com 13883\n",
      "www.youtube.com 10291\n",
      "mail.google.com 6790\n",
      "www.google.com 6371\n",
      "www.reddit.com 5056\n",
      "www.netflix.com 3601\n",
      "hitgrabber.net 2871\n",
      "www.mturkgrind.com 2196\n",
      "docs.google.com 2057\n",
      "apps.facebook.com 1882\n",
      "www.amazon.com 1623\n",
      "www.twitch.tv 1374\n",
      "mturkforum.com 1122\n",
      "us20.chatzy.com 1033\n",
      "www.tumblr.com 975\n",
      "play.pokemonshowdown.com 906\n",
      "www.classmates.com 892\n",
      "game.soul-arena.com 801\n",
      "perk.tv 795\n",
      "us-mg5.mail.yahoo.com 766\n",
      "www.hulu.com 740\n",
      "www.trulia.com 671\n",
      "klbibkeccnjlkjkiokjodocebajanakg 666\n",
      "www.swagbucks.com 647\n",
      " 587\n",
      "www.google.co.in 574\n",
      "drive.google.com 520\n",
      "www.mturkcrowd.com 517\n",
      "www.buzzfeed.com 508\n",
      "compstak.slack.com 508\n",
      "www.istreamitall.com 496\n",
      "twitter.com 474\n",
      "turkernation.com 462\n",
      "boards.4chan.org 459\n",
      "www.surveymonkey.com 454\n",
      "allmyvideos.net 442\n",
      "bookmarks 435\n",
      "www.linkedin.com 425\n",
      "web.whatsapp.com 420\n",
      "forums.animez.to 415\n",
      "www.tohosting.tk 411\n",
      "www.livenewschat.eu 398\n",
      "www.host2inger.com 388\n",
      "www.lipstickalley.com 380\n",
      "ma.brazzers.com 372\n",
      "turkopticon.ucsd.edu 365\n",
      "upenn.co1.qualtrics.com 363\n",
      "en.wikipedia.org 360\n",
      "play.google.com 357\n",
      "v2.decipherinc.com 348\n",
      "mail.aol.com 330\n",
      "www.ebay.com 323\n",
      "www.surveyjunkie.com 319\n",
      "vidbull.com 317\n",
      "yalesurvey.qualtrics.com 308\n",
      "www.imdb.com 308\n",
      "plinga.com 307\n",
      "www.bing.com 304\n",
      "wharton.qualtrics.com 303\n",
      "forums.somethingawful.com 300\n",
      "soundcloud.com 296\n",
      "www.similarweb.com 294\n",
      "surveys.ipsosinteractive.com 291\n",
      "us-mg6.mail.yahoo.com 290\n",
      "www.porn.com 289\n",
      "settings 286\n",
      "snt151.mail.live.com 275\n",
      "thewatchseries.to 269\n",
      "survey.qualtrics.com 268\n",
      "www.pinterest.com 265\n",
      "tmi.stanford.edu 262\n",
      "www.yahoo.com 256\n",
      "hw.reddit.com 244\n",
      "www.hotnewhiphop.com 243\n",
      "www.arconaitv.me 237\n",
      "gorillavid.in 234\n",
      "www.hbonow.com 234\n",
      "play.spotify.com 234\n",
      "www.wikiorgcharts.com 224\n",
      "www.yelp.com 222\n",
      "mass.retailmakr.com 222\n",
      "qbo.intuit.com 222\n",
      "translate.google.com 218\n",
      "cornell.qualtrics.com 216\n",
      "ufl.qualtrics.com 205\n",
      "duke.qualtrics.com 204\n",
      "rotman.az1.qualtrics.com 198\n",
      "payments.amazon.com 198\n",
      "history 194\n",
      "wwwsc.ekeystone.com 189\n",
      "stanfordgsb.qualtrics.com 187\n",
      "s2.userzoom.com 183\n",
      "chicagobooth.az1.qualtrics.com 182\n",
      "www.periscope.tv 182\n",
      "www.pandora.com 181\n",
      "ww6.crediblebh.com 181\n",
      "www.cbs.com 180\n",
      "outlook.live.com 180\n"
     ]
    }
   ],
   "source": [
    "print_counter(domain_to_spans_that_cannot_be_reconstructed)"
   ]
  },
  {
   "cell_type": "code",
   "execution_count": 23,
   "metadata": {
    "collapsed": false
   },
   "outputs": [
    {
     "name": "stdout",
     "output_type": "stream",
     "text": [
      "www.mturk.com 1660942230.02\n",
      "www.facebook.com 732779693.99\n",
      "www.youtube.com 455382050.005\n",
      "mail.google.com 279977816.996\n",
      "www.netflix.com 275934071.999\n",
      "newtab 237388639.005\n",
      "apps.facebook.com 177301844.0\n",
      "docs.google.com 173010037.999\n",
      "www.reddit.com 140525833.001\n",
      "quarks.inr.ac.ru 75898913.0002\n",
      "www.google.com 62769052.0\n",
      "www.amazon.com 62448775.9958\n",
      "hitgrabber.net 59842238.0076\n",
      "www.mturkgrind.com 52758396.0024\n",
      "www.tumblr.com 49766148.9995\n",
      "plinga.com 49169672.9983\n",
      "perk.tv 48031874.0002\n",
      "www.twitch.tv 48000666.0015\n",
      "allmyvideos.net 38421286.9998\n",
      "mturkforum.com 35962323.9988\n",
      "play.pokemonshowdown.com 35860241.0022\n",
      "us-mg5.mail.yahoo.com 35726392.0012\n",
      "www.hulu.com 29808123.9983\n",
      "www.surveymonkey.com 29509142.0032\n",
      "tweetdeck.twitter.com 28709408.0007\n",
      "www.cntraveler.com 28216343.9998\n",
      "www.eatthis.com 27800065.0\n",
      "www.speechpad.com 27137774.9995\n",
      "www.livenewschat.eu 26706149.9983\n",
      "us20.chatzy.com 25348916.0042\n",
      "www.messenger.com 25216759.0005\n",
      "game.soul-arena.com 24793837.9995\n",
      "outlook.live.com 23883988.9993\n",
      "www.etsy.com 23446804.0\n",
      "turkernation.com 22942596.9995\n",
      "upenn.co1.qualtrics.com 22831895.9971\n",
      "www.istreamitall.com 22510133.0\n",
      "vidbull.com 21341967.9961\n",
      "boards.4chan.org 21130128.9976\n",
      "www.crowdcurio.com 20361037.0002\n",
      "www.apple.com 19852071.0002\n",
      "www.lipstickalley.com 19535931.0007\n",
      "www.buzzfeed.com 18915953.0032\n",
      "twitter.com 18461815.998\n",
      "survey.qualtrics.com 17890083.0002\n",
      "web.whatsapp.com 17507919.9978\n",
      "wharton.qualtrics.com 15719638.999\n",
      "www.swagbucks.com 15309980.001\n",
      "www.pinterest.com 14593167.001\n",
      "my-digitallife.att.com 14507990.0\n",
      "surveys.ipsosinteractive.com 14501627.002\n",
      "gorillavid.in 14156098.9998\n",
      "play.spotify.com 14009245.0017\n",
      "www.hbonow.com 13978973.9995\n",
      "yalesurvey.qualtrics.com 13799143.0022\n",
      "www.linkedin.com 12509034.998\n",
      "www.mturkcrowd.com 11992266.0029\n",
      "tmi.stanford.edu 11949150.0005\n",
      "iu.co1.qualtrics.com 11943087.0012\n",
      "soundcloud.com 11883196.9988\n",
      "mprlab327.webfactional.com 11649864.9993\n",
      "howtomakecosmetics.com 11596567.0\n",
      "forums.animez.to 11422596.9978\n",
      "mail.aol.com 11113562.0027\n",
      "www.porn.com 11038011.9998\n",
      "vidzi.tv 10780704.0002\n",
      "www.ebay.com 10642644.0012\n",
      "compstak.slack.com 10584893.0\n",
      "columbia.az1.qualtrics.com 10546186.0015\n",
      "nyu.qualtrics.com 10339389.0002\n",
      "www.surveygizmo.com 9930755.99829\n",
      "rotman.az1.qualtrics.com 9856179.99683\n",
      "uwmadison.co1.qualtrics.com 9632692.0\n",
      "ww6.crediblebh.com 9604787.00195\n",
      "forums.somethingawful.com 9430701.00049\n",
      "ma.brazzers.com 9306320.99976\n",
      "en.wikipedia.org 9274158.99829\n",
      "umn.qualtrics.com 9226345.00122\n",
      "www.arconaitv.me 9148477.0022\n",
      "umich.qualtrics.com 9017135.99927\n",
      "stanfordgsb.qualtrics.com 8884922.00171\n",
      "www.cbs.com 8760544.00146\n",
      "cmu.qualtrics.com 8756653.99976\n",
      "utexas.qualtrics.com 8748493.00171\n",
      "duke.qualtrics.com 8660051.99829\n",
      "xfinitytv.comcast.net 8478786.99951\n",
      "plus.google.com 8410290.99927\n",
      "www.allmyvideos.net 8394228.0\n",
      "www.addictinggames.com 8371401.99976\n",
      "ogeebjpdeabhncjpfhgdibjajcajepgg 7973820.00073\n",
      " 7970532.00269\n",
      "www.pandora.com 7963640.99976\n",
      "listenonrepeat.com 7934274.00122\n",
      "ufl.qualtrics.com 7923390.0\n",
      "www.crunchyroll.com 7876873.00024\n",
      "www.telegraph.co.uk 7869133.99976\n",
      "berkeley.qualtrics.com 7863305.99976\n",
      "us-mg6.mail.yahoo.com 7849487.99951\n",
      "cornell.qualtrics.com 7777266.00073\n",
      "www.tohosting.tk 7688016.00073\n"
     ]
    }
   ],
   "source": [
    "print_counter(domain_to_seconds_that_cannot_be_reconstructed)"
   ]
  },
  {
   "cell_type": "code",
   "execution_count": 24,
   "metadata": {
    "collapsed": false
   },
   "outputs": [
    {
     "name": "stdout",
     "output_type": "stream",
     "text": [
      "chrome://newtab/ 27143\n",
      "https://www.mturk.com/mturk/dashboard 9722\n",
      "https://www.mturk.com/mturk/findhits?match=true?hit_scraper 9350\n",
      "https://www.facebook.com/ 7633\n",
      "https://www.mturk.com/mturk/findhits?match=false&hit_scraper 4375\n",
      "http://hitgrabber.net/ 2871\n",
      "https://www.google.com/webhp?sourceid=chrome-instant&ion=1&espv=2&ie=UTF-8 2259\n",
      "https://mail.google.com/mail/u/0/#inbox 1883\n",
      "https://www.mturk.com/mturk/myhits 1348\n",
      "https://us20.chatzy.com/11920092594925 1033\n",
      "https://www.mturk.com/HM 964\n",
      "https://www.mturk.com/mturk/findhits?match=true?hit_scraper-dev 867\n",
      "http://game.soul-arena.com/ 801\n",
      "https://www.facebook.com/messages/jessica.wood.106 661\n",
      "https://www.tumblr.com/dashboard 653\n",
      "https://www.mturk.com/mturk/findhits?match=true 555\n",
      "https://www.reddit.com/ 496\n",
      "https://perk.tv/video/248/perk-app-trailers 490\n",
      "https://www.mturk.com/mturk/findhits?match=false 488\n",
      "https://www.mturk.com/mturk/submit 445\n",
      "https://web.whatsapp.com/ 420\n",
      "https://mail.google.com/mail/u/0/#spam 378\n",
      "https://www.mturk.com/mturk/findhits?match=false&hit_scraper# 359\n",
      " 350\n",
      "https://www.facebook.com/Smoke.And.Ink 308\n",
      "http://www.tohosting.tk/ 291\n",
      "https://surveys.ipsosinteractive.com/surveys/25b6acb2-de68-11e2-a28f-0800200c9a66 288\n",
      "https://apps.facebook.com/wordbattling/?fb_source=canvas_bookmark 287\n",
      "https://mail.google.com/mail/u/0/?tab=wm#inbox 283\n",
      "http://plinga.com/play#games/2/playOnline 283\n",
      "https://mail.google.com/mail/u/1/#inbox 273\n",
      "https://www.youtube.com/ 257\n",
      "http://www.host2inger.com/ 242\n",
      "https://www.facebook.com/?sk=h_chr 239\n",
      "https://apps.facebook.com/puzzlywords/?fb_source=canvas_bookmark 226\n",
      "https://apps.facebook.com/eontictactoe/?fb_source=bookmark&ref=bookmarks&count=0&fb_bmpos=_0 218\n",
      "https://www.mturk.com/mturk/welcome 217\n",
      "https://qbo.intuit.com/app/check 211\n",
      "https://www.reddit.com/r/HITsWorthTurkingFor/new/ 203\n",
      "chrome://history/ 194\n",
      "https://apps.facebook.com/candycrushsoda/?fb_source=sidebar_bookmark 186\n",
      "https://forums.animez.to/ 184\n",
      "https://snt151.mail.live.com/?fid=flinbox 182\n",
      "chrome://settings/ 182\n",
      "https://www.reddit.com/r/HITsWorthTurkingFor/ 180\n",
      "https://docs.google.com/spreadsheets/d/1ocUh45zWwWVbAThx5GjytyC4rkHx77L5kJyRANuSnnY/edit#gid=0 179\n",
      "https://www.mturk.com/mturk/findhits?*hit_scraper 177\n",
      "https://www.yahoo.com/ 173\n",
      "https://drive.google.com/file/d/0B_SrjJRoVhZJd3ZoV2ZNaTVIclJOYmhxdlBqdUhCYmM2SDlV/view 165\n",
      "chrome://downloads/ 163\n",
      "http://play.pokemonshowdown.com/ 162\n",
      "https://twitter.com/ 159\n",
      "chrome://extensions/ 157\n",
      "https://www.netflix.com/watch/80065742?trackId=14272744 153\n",
      "https://www.linkedin.com/home?trk=nav_responsive_tab_home 144\n",
      "https://www.facebook.com/daniel.cozart.52/friends?source_ref=pb_friends_tl 144\n",
      "https://www.mturk.com/mturk/previewandaccept?groupId=3SFJXQ9EG58Y3WRLXCW2QCVUYYDXDX 142\n",
      "chrome-extension://klbibkeccnjlkjkiokjodocebajanakg/suspended.html#uri=https://www.reddit.com/r/HITsWorthTurkingFor/new/ 141\n",
      "http://v2.decipherinc.com/survey/selfserve/e51/160303 140\n",
      "https://www.facebook.com/?ref=tn_tnmn 140\n",
      "https://mail.aol.com/webmail-std/en-us/suite 137\n",
      "https://www.youtube.com/watch?v=c6rP-YP4c5I 136\n",
      "chrome://bookmarks/#1 132\n",
      "http://www.livenewschat.eu/politics/?ref=fv 129\n",
      "https://tweetdeck.twitter.com/# 117\n",
      "http://www.livenewschat.eu/watch-live-tv/?ref=001 117\n",
      "https://apps.facebook.com/brainster/?fb_source=canvas_bookmark 115\n",
      "https://www.mturk.com/mturk/myhits?first 113\n",
      "https://compstak.slack.com/messages/@bill/ 112\n",
      "https://tlk.io/msrcode2 111\n",
      "https://www.mturk.com/mturk/searchbar?selectedSearchType=hitgroups&searchWords=a9&minReward=0.00&x=0&y=0 110\n",
      "https://www.twitch.tv/directory/following 109\n",
      "https://www.twitch.tv/mintmaus 109\n",
      "https://www.facebook.com/?q= 108\n",
      "https://www.facebook.com/?ref=logo 107\n",
      "https://ww6.crediblebh.com/index.aspx?r=1&domain=SARHC 106\n",
      "https://turkopticon.ucsd.edu/main/php_search 103\n",
      "http://gmail.com/ 102\n",
      "https://www.google.co.in/webhp?sourceid=chrome-instant&ion=1&espv=2&ie=UTF-8 101\n",
      "http://www.amazon.com/dp/B019FXKNUE/ref=atv_hm_hom_1_c_s9obwan_2_1?_encoding=UTF8&pf_rd_i=home&pf_rd_m=ATVPDKIKX0DER&pf_rd_p=2437278902&pf_rd_r=1HCX4PVNB37C4822BV8S&pf_rd_s=center-4&pf_rd_t=12401 98\n",
      "https://www.surveyjunkie.com/member 97\n",
      "https://www.facebook.com/shaz.ron.12 96\n",
      "https://twitter.com/search?f=tweets&q=%23msrcode2 95\n",
      "https://apps.facebook.com/juicejam/?fb_source=bookmark&ref=bookmarks&count=0&fb_bmpos=_0 95\n",
      "https://www.mturk.com/mturk/status 94\n",
      "http://slickdeals.net/ 94\n",
      "http://seller.retailmakr.com/orders/pending 94\n",
      "about:blank 94\n",
      "https://mail.google.com/mail/u/0/#inbox?compose=new 94\n",
      "https://mail.google.com/mail/u/0/?ui=2&shva=1#inbox 93\n",
      "https://wwwsc.ekeystone.com/MyAccount 93\n",
      "http://www.pandora.com/ 93\n",
      "https://www.mturk.com/mturk/preview?groupId=3SFJXQ9EG58Y3WRLXCW2QCVUYYDXDX 91\n",
      "https://www.crediblebh.com/ 89\n",
      "https://apps.facebook.com/candycrush/?fb_source=canvas_bookmark 89\n",
      "http://www.car-insurance-quote-fx.com/ 89\n",
      "https://www.google.com/?gws_rd=ssl 88\n",
      "https://prod.datacollectionsite.com/mrIWeb/mrIWeb.dll#running 87\n",
      "https://www.twitch.tv/lirik 87\n",
      "http://www.hitgrabber.net/ 85\n"
     ]
    }
   ],
   "source": [
    "print_counter(url_to_spans_that_cannot_be_reconstructed)"
   ]
  },
  {
   "cell_type": "code",
   "execution_count": 25,
   "metadata": {
    "collapsed": false
   },
   "outputs": [
    {
     "name": "stdout",
     "output_type": "stream",
     "text": [
      "https://www.facebook.com/ 453541301.993\n",
      "https://www.mturk.com/mturk/dashboard 343325845.007\n",
      "https://www.mturk.com/mturk/findhits?match=true?hit_scraper 280295818.005\n",
      "chrome://newtab/ 237313717.005\n",
      "https://www.mturk.com/mturk/findhits?match=false&hit_scraper 126910716.007\n",
      "https://docs.google.com/spreadsheets/d/1ZBzbhT5itY-L75wfjrNVJQt177kWhXh72bCTqCfMQyE/edit#gid=2096979058 112991767.0\n",
      "https://mail.google.com/mail/u/0/#inbox 105126537.998\n",
      "http://quarks.inr.ac.ru/2004/proceedings/Quarks/kuraev.pdf 75898913.0002\n",
      "http://hitgrabber.net/ 59842238.0076\n",
      "https://apps.facebook.com/eontictactoe/?fb_source=bookmark&ref=bookmarks&count=0&fb_bmpos=_0 49315522.0015\n",
      "https://mail.google.com/mail/u/1/#inbox 45351800.9973\n",
      "https://www.facebook.com/messages/jessica.wood.106 42008757.0012\n",
      "https://www.mturk.com/mturk/findhits?match=true?hit_scraper-dev 41693419.0012\n",
      "https://perk.tv/video/248/perk-app-trailers 40099986.9983\n",
      "https://www.tumblr.com/dashboard 38489414.9983\n",
      "https://mail.google.com/mail/u/0/#spam 36980544.0005\n",
      "https://www.mturk.com/mturk/myhits 35507992.0012\n",
      "https://www.mturk.com/mturk/preview?prevRequester=Ivy+Research&hitId=3ZGVPD4G6UZQNA8VLOWNBV2AIH0TZO&isPreviousIFrame=true&groupId=3YSALWD20I94MDGCQON5SCM83A1PHZ 28588927.0\n",
      "http://www.cntraveler.com/stories/2016-03-29/air-canada-is-offering-free-stopovers-in-toronto?mbid=social_facebook 28083844.0\n",
      "http://www.eatthis.com/jennifer-aniston-breakfast 27723204.0\n",
      "http://plinga.com/play#games/2/playOnline 27170683.9983\n",
      "https://tweetdeck.twitter.com/# 25967626.001\n",
      "https://us20.chatzy.com/11920092594925 25348916.0042\n",
      "http://game.soul-arena.com/ 24793837.9995\n",
      "https://www.etsy.com/your/shops/Natural20Cosmetics/dashboard?ref=seller_platform_hdr 22663665.9998\n",
      "https://www.mturk.com/HM 22365702.002\n",
      "https://apps.facebook.com/wordbattling/?fb_source=canvas_bookmark 22029730.9995\n",
      "http://plinga.com/play#games/23/playOnline 21626950.0\n",
      "https://outlook.live.com/owa/ 19778907.9995\n",
      "http://www.apple.com/macbook-air/specs.html 19392246.9998\n",
      "https://www.speechpad.com/worker/transcribe/fe2c82a4-aacf-4853-9d33-33a15e43379b# 17984992.9995\n",
      "https://www.netflix.com/watch/70080629?trackId=13589554 17798419.9995\n",
      "https://www.facebook.com/?sk=h_chr 17552592.999\n",
      "https://web.whatsapp.com/ 17507919.9978\n",
      "https://www.facebook.com/Smoke.And.Ink 16891955.998\n",
      "https://apps.facebook.com/brainster/?fb_source=canvas_bookmark 16330042.9995\n",
      "https://apps.facebook.com/puzzlywords/?fb_source=canvas_bookmark 15806795.9976\n",
      "https://www.netflix.com/watch/70069654?trackId=13589554 15487090.0005\n",
      "https://www.crowdcurio.com/experiments/13/workflow/ 15142713.9993\n",
      "https://www.netflix.com/watch/80065743?trackId=13589554 14858094.0002\n",
      "https://my-digitallife.att.com/learn/shop 14504996.0\n",
      "https://surveys.ipsosinteractive.com/surveys/25b6acb2-de68-11e2-a28f-0800200c9a66 14495042.0017\n",
      "https://www.netflix.com/watch/70152026?trackId=13589554 14465057.0005\n",
      "https://www.messenger.com/t/darick.harvey 13685989.0005\n",
      "https://www.netflix.com/watch/80065742?trackId=14272744 13177044.9998\n",
      "https://www.facebook.com/?q= 13157222.999\n",
      "https://mail.google.com/mail/u/0/?tab=wm#inbox 12785331.0002\n",
      "https://www.mturk.com/mturk/findhits?match=true 12192392.0029\n",
      "https://apps.facebook.com/candycrushsoda/?fb_source=sidebar_bookmark 11828005.9988\n",
      "http://howtomakecosmetics.com/cart 11563910.0\n",
      "https://apps.facebook.com/eontictactoe/ 10369014.0\n",
      "https://www.reddit.com/ 10359204.9998\n",
      "https://www.netflix.com/watch/70286867?trackId=13589554 10302867.9998\n",
      "https://www.youtube.com/watch?v=gLQolURWJhc 9791535.99976\n",
      "http://www.livenewschat.eu/politics/?ref=fv 9553933.99976\n",
      "https://www.google.com/search?q=north+county+san+diego+magazine+party&oq=north+county+san+diego+magazine+party&aqs=chrome..69i57j0l4.8815j0j4&sourceid=chrome&ie=UTF-8#q=san+diego+food+events 9299339.00049\n",
      "http://www.livenewschat.eu/watch-live-tv/?ref=001 9086548.00073\n",
      "https://twitter.com/ 8815896.00146\n",
      "http://www.amazon.com/Medela-Pump-Save-Breast-Count/dp/B00028XJNA/ref=pd_sbs_121_4?ie=UTF8&dpID=51%2BFXxMt%2B9L&dpSrc=sims&preST=_AC_UL160_SR112%2C160_&refRID=1HRAZSR2ZB5293RCRZXG 8475935.0\n",
      "https://mail.google.com/mail/u/1/#search/divergent+realities/1534575253b93a46 8216854.99976\n",
      "chrome-extension://ogeebjpdeabhncjpfhgdibjajcajepgg/diff.htm#aHR0cHM6Ly93d3cucHJvbGlmaWMuYWMvc3R1ZGllcw== 7851195.00049\n",
      "https://ww6.crediblebh.com/index.aspx?r=1&domain=SARHC 7796277.00122\n",
      "http://www.telegraph.co.uk/technology/2016/03/24/microsofts-teen-girl-ai-turns-into-a-hitler-loving-sex-robot-wit/ 7441523.0\n",
      "https://www.facebook.com/?ref=tn_tnmn 7425449.99927\n",
      "https://www.youtube.com/watch?v=c6rP-YP4c5I 6985685.99976\n",
      "https://upenn.co1.qualtrics.com/jfe/form/SV_8oE1ysJvsGBD3gx 6962662.99854\n",
      "https://www.mturk.com/mturk/findhits?match=false 6482274.99878\n",
      "https://www.skydivetemple.com/buy/wendy/cancel.htmlbeingweird 6342565.99951\n",
      "https://www.youtube.com/watch?v=gyKg7xmVIKw&list=PL3tRBEVW0hiBySIHHqBen5AUm6CMoIY2J 6313094.0\n",
      "http://www.tohosting.tk/ 6213541.00024\n",
      "https://www.mturk.com/mturk/return?requesterId=AAVSVUOUUK8MQ&hitId=33FOTY3KENV7MKRYEYICY13T17D1CE&signature=n1vVYnhF5F%2Bw2To%2BY6miYNwxKaw%3D&groupId=3T9V9E4TMOFIO2MSIC9MZEL9P91QXP&canAccept=&externalHit=true 6139405.00073\n",
      "https://www.messenger.com/t/daniel.latham.3591 5905349.99951\n",
      "https://www.youtube.com/channel/UCK3eoeo-HGHH11Pevo1MzfQ 5903953.00049\n",
      "https://www.linkedin.com/home?trk=nav_responsive_tab_home 5848692.99731\n",
      "https://www.mturk.com/mturk/previewandaccept?groupId=3AJ89545MPCD90O9UIVEIKRX3UKBEW 5770030.99805\n",
      "http://www.forbes.com/sites/dividendchannel/2016/03/24/this-stock-has-a-13-69-yield-sells-for-less-than-book-and-insiders-have-been-buying/#41b2c1035ea9 5769850.00024\n",
      "https://www.pinterest.com/search/pins/?q=mops&rs=typed&0=mops%7Ctyped 5689875.00024\n",
      "https://www.mturk.com/mturk/welcome 5602745.0\n",
      "https://www.mturk.com/mturk/submit 5567106.00195\n",
      "https://mail.aol.com/webmail-std/en-us/suite 5524005.00122\n",
      "https://plus.google.com/hangouts/_/cs.stanford.edu/msb 5500063.0\n",
      "http://www.amazon.com/dp/B019FXKNUE/ref=atv_hm_hom_1_c_s9obwan_2_1?_encoding=UTF8&pf_rd_i=home&pf_rd_m=ATVPDKIKX0DER&pf_rd_p=2437278902&pf_rd_r=1HCX4PVNB37C4822BV8S&pf_rd_s=center-4&pf_rd_t=12401 5445982.99927\n",
      "https://www.reddit.com/r/TsumTsum/comments/49x7to/lion_king_event_mission_translations/ 5430454.0\n",
      "https://www.facebook.com/daniel.cozart.52/friends?source_ref=pb_friends_tl 5290446.00073\n",
      "https://uwmadison.co1.qualtrics.com/jfe/form/SV_e8P28m3GL4J3apT 5242834.99976\n",
      "https://www.mturk.com/mturk/findhits?match=false&hit_scraper# 5193292.99878\n",
      "https://mail.google.com/mail/u/0/#drafts/14fd6f060c694e0c 5174000.99976\n",
      "chrome://downloads/ 5155436.9978\n",
      "http://www.aafp.org/afp/1998/0415/p1825.html 5155125.99976\n",
      "https://www.facebook.com/?ref=logo 5154094.00073\n",
      "https://apps.facebook.com/candycrush/?fb_source=canvas_bookmark 5057299.99927\n",
      "https://www.crowdcurio.com/experiments/7/workflow/ 4997366.00049\n",
      "https://apps.facebook.com/juicejam/?fb_source=bookmark&ref=bookmarks&count=0&fb_bmpos=_0 4883354.00073\n",
      "https://www.facebook.com/groups/mturkmembers/permalink/1751919255040276/?comment_id=1752134301685438&notif_t=group_comment_follow 4831955.99976\n",
      "https://play.spotify.com/collection/songs 4781591.00073\n",
      "https://www.youtube.com/watch?v=eyVT9VwrhtE 4673945.99927\n",
      "https://apps.facebook.com/coral-isle/ 4653237.99976\n",
      "chrome://extensions/ 4609874.99951\n",
      "https://qtrial2016q1az1.az1.qualtrics.com/jfe/form/SV_b77lFQz2dC3Rl4h 4581403.99951\n",
      "https://www.mturk.com/mturk/preview?groupId=3MLGQ9U1F2HG4RHJSIMORU8SE5PJRX 4481265.00024\n"
     ]
    }
   ],
   "source": [
    "print_counter(url_to_seconds_that_cannot_be_reconstructed)"
   ]
  },
  {
   "cell_type": "code",
   "execution_count": 26,
   "metadata": {
    "collapsed": true
   },
   "outputs": [],
   "source": [
    "overall_domains_where_reconstructed_has_no_reference = Counter()\n",
    "overall_domains_where_reference_has_no_reconstructed = Counter()\n",
    "overall_urls_where_reconstructed_has_no_reference = Counter()\n",
    "overall_urls_where_reference_has_no_reconstructed = Counter()\n",
    "\n",
    "for user,data in user_to_span_alignment_data.items():\n",
    "  for k,v in data['domains_where_reconstructed_has_no_reference'].items():\n",
    "    overall_domains_where_reconstructed_has_no_reference[k] += v\n",
    "  for k,v in data['domains_where_reference_has_no_reconstructed'].items():\n",
    "    overall_domains_where_reference_has_no_reconstructed[k] += v\n",
    "  for k,v in data['urls_where_reconstructed_has_no_reference'].items():\n",
    "    overall_urls_where_reconstructed_has_no_reference[k] += v\n",
    "  for k,v in data['urls_where_reference_has_no_reconstructed'].items():\n",
    "    overall_urls_where_reference_has_no_reconstructed[k] += v\n"
   ]
  },
  {
   "cell_type": "code",
   "execution_count": null,
   "metadata": {
    "collapsed": true
   },
   "outputs": [],
   "source": []
  },
  {
   "cell_type": "code",
   "execution_count": 27,
   "metadata": {
    "collapsed": false
   },
   "outputs": [
    {
     "name": "stdout",
     "output_type": "stream",
     "text": [
      "https://www.mturk.com/mturk/dashboard 3674\n",
      "https://www.google.com/webhp?sourceid=chrome-instant&ion=1&espv=2&ie=UTF-8 3169\n",
      "https://www.mturk.com/mturk/previewandaccept?groupId=3SFJXQ9EG58Y3WRLXCW2QCVUYYDXDX 1862\n",
      "https://www.mturk.com/mturk/checkregistration 1775\n",
      "https://www.facebook.com/ 1638\n",
      "https://www.mturk.com/mturk/myhits 1599\n",
      "https://www.mturk.com/mturk/previewandaccept?groupId=35DGDVUOHKKVOAMD7VZRLQEQ0J7YPA 1215\n",
      "https://www.mturk.com/mturk/previewandaccept?groupId=3NYGPW9OUZ9VT0WI3H1AZXNS6BEZP1 1211\n",
      "https://perk.tv/video/6268/perk-app-trailers 1129\n",
      "https://www.mturk.com/mturk/sortmyhits?searchSpec=HITSearch%23T%231%2325%23-1%23T%23%21Status%210%21rO0ABXQACEFzc2lnbmVk%21%23%21Deadline%211%21%23%21 954\n",
      "https://www.mturk.com/mturk/previewandaccept?groupId=3PBTVBPQ9UI5R0A3PW7WXNE8W4CLGC 870\n",
      "https://mail.google.com/mail/u/0/#inbox 858\n",
      "https://www.mturk.com/mturk/findhits?match=false 824\n",
      "https://www.youtube.com/ 592\n",
      "https://perk.tv/video/248/perk-app-trailers 585\n",
      "https://www.mturk.com/mturk/findhits?match=true 580\n",
      "https://www.mturk.com/mturk/endsignin 534\n",
      "https://mail.google.com/mail/u/0/ 417\n",
      "https://mail.aol.com/38947-111/aol-6/en-us/Lite/MessageActions.aspx 397\n",
      "https://www.reddit.com/r/HITsWorthTurkingFor/new/ 385\n",
      "https://www.mturk.com/mturk/previewandaccept?groupId=37Z7ICZ5H99I7X75WVHFALYDSS611I 349\n",
      "https://www.mturk.com/mturk/submit 317\n",
      "https://www.mturk.com/mturk/previewandaccept?groupId=36DWM50OGJQWNGWUY157IKGIRLYKEQ 313\n",
      "https://www.mturk.com/mturk/viewhits?searchWords=&pageNumber=2&searchSpec=HITGroupSearch%23T%231%2310%23-1%23T%23%21only_available_hits%210%21rO0ABXQABHRydWU-%21%23%21Reward%211%21%23%21&sortType=Reward%3A1&selectedSearchType=hitgroups 306\n",
      "https://www.google.com/?gws_rd=ssl 305\n",
      "https://www.yahoo.com/ 298\n",
      "https://www.mturk.com/mturk/previewandaccept?groupId=3J26SAFG0SZ7EH1WME868VOWHV40IA 272\n",
      "http://turkernation.com/search.php?do=getnew&contenttype=vBForum_Post 270\n",
      "https://www.mturk.com/mturk/welcome 262\n",
      "https://www.mturk.com/mturk/myhits?first 258\n",
      "http://theadvocate.com/ 248\n",
      "https://work.crowdsurfwork.com/tasks/14d7b0778f8b480c9261f9241611ee56?work_submitted=1 244\n",
      "https://www.mturk.com/mturk/previewandaccept?groupId=3J26SAFG0SX5N4SBHAF9L805JD4I0P 234\n",
      "https://www.mturk.com/mturk/previewandaccept?groupId=3XEPRIQTXG2QV4X67W8SE50B0S06JS 223\n",
      "https://www.reddit.com/ 219\n",
      "https://www.mturk.com/mturk/previewandaccept?groupId=3ZXEP6UEGGA75UPGRQ2UPK3XA4YO8B 216\n",
      "http://www.news.com.au/ 215\n",
      "https://payments.amazon.com/overview 214\n",
      "https://www.tumblr.com/dashboard 196\n",
      "https://www.mturk.com/mturk/preview?groupId=3J26SAFG0SX5N4SBHAF9L805JD4I0P 196\n",
      "https://www.amazon.com/ap/signin 187\n",
      "https://docs.google.com/document/d/1q2s4u1jQ4BUVT16nCr-pkW114mMEDeLiTJztWJxp2Jw/edit 178\n",
      "https://www.mturk.com/mturk/previewandaccept?groupId=3PCJO2UJYJQZHYLKXZA79DTJK2DU5D 170\n",
      "https://docs.google.com/document/d/1qhC05k7ura6BA9oMB_mWEtKFHqxbMHPDLvzDPeDmxYc/edit 166\n",
      "https://www.mturk.com/mturk/findhits?match=true?hit_scraper 161\n",
      "https://www.reddit.com/r/HITsWorthTurkingFor/ 160\n",
      "https://www.mturk.com/mturk/beginsignin 159\n",
      "https://mail.google.com/mail/ 157\n",
      "http://www.tohosting.tk/2015/10/dedicated-virtual-server-hosting.html 156\n",
      "https://www.mturk.com/mturk/previewandaccept?groupId=3SKITTYVZ4PIRKFZY4VNZ30XWWL366 151\n",
      "https://docs.google.com/document/d/1YS2cWgNie2k1lzZxol-5h0HvBk-4iEwYiXfVBFw244I/edit 148\n",
      "https://www.mturk.com/mturk/previewandaccept?groupId=301G7MYOAJ7M8GFLTLLI7XMX02335L 145\n",
      "https://www.mturk.com/mturk/previewandaccept?groupId=3ZA8T98ZB59GIVB6M6Y4H1G6XWFTFA 140\n",
      "https://www.google.com/webhp?sourceid=chrome-instant&ion=1&espv=2&es_th=1&ie=UTF-8 140\n",
      "https://www.mturk.com/mturk/statusdetail?encodedDate=03172016 136\n",
      "http://www.netflix.com/browse 135\n",
      "http://www.host2inger.com/ 134\n",
      "http://www.tohosting.tk/ 134\n",
      "https://www.mturk.com/mturk/statusdetail?encodedDate=03162016 134\n",
      "https://my.screenname.aol.com/_cqr/login/login.psp 129\n",
      "http://local.cs-int-592.com:5550/companies 129\n",
      "https://www.netflix.com/ 129\n",
      "http://www.mblaze.home/default.asp 128\n",
      "http://www.tohosting.tk/2015/08/singapore-web-hosting-effective-choices.html 125\n",
      "https://www.facebook.com/login.php?login_attempt=1&lwv=110 124\n",
      "https://www.google.com/ 124\n",
      "https://www.mturk.com/mturk/previewandaccept?groupId=3SAOMJ8V4AKRRO4ZIBEJBA6OJROW45 120\n",
      "https://accounts.google.com/ServiceLoginAuth 116\n",
      "https://www.netflix.com/browse 116\n",
      "https://work.crowdsurfwork.com/tasks/14d7b0778f8b480c9261f9241611ee56?skip=1 114\n",
      "https://www.mturk.com/mturk/status 114\n",
      "http://www.amazon.com/ 114\n",
      "https://www.google.co.in/webhp?sourceid=chrome-instant&ion=1&espv=2&ie=UTF-8 110\n",
      "https://www.mturk.com/mturk/preview?groupId=3SFJXQ9EG58Y3WRLXCW2QCVUYYDXDX 107\n",
      "https://www.mturk.com/mturk/previewandaccept?groupId=3RPY1MM0AHYRFGNHHAD9085N3TUHMC 106\n",
      "https://www.mturk.com/mturk/findhits?match=false&hit_scraper 101\n",
      "https://www.mturk.com/mturk/previewandaccept?groupId=329HSLC9WDXX9F2DN54ARF87CMFHGG 100\n",
      "http://www.cashcrate.com/home 100\n",
      "http://local.cs-int-592.com:5550/companies/2511/edit?limit=50&offset=0 99\n",
      "https://docs.google.com/document/d/1qhC05k7ura6BA9oMB_mWEtKFHqxbMHPDLvzDPeDmxYc/edit# 95\n",
      "https://www.mturk.com/mturk/previewandaccept?groupId=3UEL82N5TOJ3OX2YY1MR1XKEVT3NTP 95\n",
      "https://accounts.google.com/ServiceLogin?service=mail&passive=true&rm=false&continue=https://mail.google.com/mail/&ss=1&scc=1&ltmpl=default&ltmplcache=2&emr=1&osid=1 95\n",
      "http://www.irazoo.com/Games/GameCaptcha.aspx?gameUrl=http://www.gamemosh.com/api/game.php?game=1i&width=550&height=500&pubid=irazo&affid=xyz&subid=[subid] 91\n",
      "https://www.mturk.com/mturk/previewandaccept?groupId=3VWJW73CGPCJPMK82IUG99P6QMHZF6 90\n",
      "https://www.mturk.com/mturk/previewandaccept?groupId=345DFELIOAUQDX0C57P1XS6GQX30XL 89\n",
      "https://www.mturk.com/mturk/previewandaccept?groupId=36M7HST2M6WTKOUBDPMHCDJF08O3BD 88\n",
      "http://www.twitch.tv/ 88\n",
      "https://docs.google.com/document/d/1BfQLJTRE8P0INAweQW5YGOMu8WItKWqcA7ooUnQhOKM/edit# 87\n",
      "https://www.mturk.com/mturk/viewhits?searchWords=&pageNumber=3&searchSpec=HITGroupSearch%23T%232%2310%23-1%23T%23%21only_available_hits%210%21rO0ABXQABHRydWU-%21%23%21Reward%211%21%23%21&sortType=Reward%3A1&selectedSearchType=hitgroups 86\n",
      "https://www.mturk.com/mturk/previewandaccept?groupId=3TJWA4I73GA74QPH6L7C69PD32O21F 85\n",
      "https://www.mturk.com/mturk/checkrecognition 84\n",
      "http://www.mturkgrind.com/forums/awesome-hits.4/ 83\n",
      "https://www.mturk.com/mturk/previewandaccept?groupId=3DPZKFEUURHV862RPLAGCJS9JJW4IC 82\n",
      "http://www.livenewschat.eu/watch-live-tv/?ref=001 81\n",
      "https://www.amazon.com/ap/signin?openid.ns=http%3A%2F%2Fspecs.openid.net%2Fauth%2F2.0&openid.assoc_handle=amzn_mturk_worker&openid.ns.pape=http%3A%2F%2Fspecs.openid.net%2Fextensions%2Fpape%2F1.0&_encoding=UTF8&openid.mode=checkid_setup&openid.claimed_id=http%3A%2F%2Fspecs.openid.net%2Fauth%2F2.0%2Fidentifier_select&openid.identity=http%3A%2F%2Fspecs.openid.net%2Fauth%2F2.0%2Fidentifier_select&openid.pape.max_auth_age=43200&marketplaceId=A384XSLT9ODACQ&clientContext=3d1c8d8bfa4144e52d22aaa8a77795&openid.return_to=https%3A%2F%2Fwww.mturk.com%2Fmturk%2Fendsignin 80\n",
      "https://tools.usps.com/go/TrackConfirmAction?tLabels=9400110200828958621435 79\n",
      "http://www.host2inger.com/2016/02/apa-primary-for-vmware-accelerated.html 79\n",
      "https://www.mturk.com/mturk/previewandaccept?groupId=301IMZCY3DFBG89UCW91FIRWRBRSDU 79\n",
      "http://www.host2inger.com/2016/02/amd-announces-hardware-based.html 78\n",
      "http://www.theblaze.com/ 77\n"
     ]
    }
   ],
   "source": [
    "print_counter(overall_urls_where_reconstructed_has_no_reference)"
   ]
  },
  {
   "cell_type": "code",
   "execution_count": 28,
   "metadata": {
    "collapsed": false
   },
   "outputs": [
    {
     "name": "stdout",
     "output_type": "stream",
     "text": [
      "chrome://newtab/ 27143\n",
      "https://www.mturk.com/mturk/dashboard 9722\n",
      "https://www.mturk.com/mturk/findhits?match=true?hit_scraper 9350\n",
      "https://www.facebook.com/ 7633\n",
      "https://www.mturk.com/mturk/findhits?match=false&hit_scraper 4375\n",
      "http://hitgrabber.net/ 2871\n",
      "https://www.google.com/webhp?sourceid=chrome-instant&ion=1&espv=2&ie=UTF-8 2259\n",
      "https://mail.google.com/mail/u/0/#inbox 1883\n",
      "https://www.mturk.com/mturk/myhits 1348\n",
      "https://us20.chatzy.com/11920092594925 1033\n",
      "https://www.mturk.com/HM 964\n",
      "https://www.mturk.com/mturk/findhits?match=true?hit_scraper-dev 867\n",
      "http://game.soul-arena.com/ 801\n",
      "https://www.facebook.com/messages/jessica.wood.106 661\n",
      "https://www.tumblr.com/dashboard 653\n",
      "https://www.mturk.com/mturk/findhits?match=true 555\n",
      "https://www.reddit.com/ 496\n",
      "https://perk.tv/video/248/perk-app-trailers 490\n",
      "https://www.mturk.com/mturk/findhits?match=false 488\n",
      "https://www.mturk.com/mturk/submit 445\n",
      "https://web.whatsapp.com/ 420\n",
      "https://mail.google.com/mail/u/0/#spam 378\n",
      "https://www.mturk.com/mturk/findhits?match=false&hit_scraper# 359\n",
      " 350\n",
      "https://www.facebook.com/Smoke.And.Ink 308\n",
      "http://www.tohosting.tk/ 291\n",
      "https://surveys.ipsosinteractive.com/surveys/25b6acb2-de68-11e2-a28f-0800200c9a66 288\n",
      "https://apps.facebook.com/wordbattling/?fb_source=canvas_bookmark 287\n",
      "https://mail.google.com/mail/u/0/?tab=wm#inbox 283\n",
      "http://plinga.com/play#games/2/playOnline 283\n",
      "https://mail.google.com/mail/u/1/#inbox 273\n",
      "https://www.youtube.com/ 257\n",
      "http://www.host2inger.com/ 242\n",
      "https://www.facebook.com/?sk=h_chr 239\n",
      "https://apps.facebook.com/puzzlywords/?fb_source=canvas_bookmark 226\n",
      "https://apps.facebook.com/eontictactoe/?fb_source=bookmark&ref=bookmarks&count=0&fb_bmpos=_0 218\n",
      "https://www.mturk.com/mturk/welcome 217\n",
      "https://qbo.intuit.com/app/check 211\n",
      "https://www.reddit.com/r/HITsWorthTurkingFor/new/ 203\n",
      "chrome://history/ 194\n",
      "https://apps.facebook.com/candycrushsoda/?fb_source=sidebar_bookmark 186\n",
      "https://forums.animez.to/ 184\n",
      "https://snt151.mail.live.com/?fid=flinbox 182\n",
      "chrome://settings/ 182\n",
      "https://www.reddit.com/r/HITsWorthTurkingFor/ 180\n",
      "https://docs.google.com/spreadsheets/d/1ocUh45zWwWVbAThx5GjytyC4rkHx77L5kJyRANuSnnY/edit#gid=0 179\n",
      "https://www.mturk.com/mturk/findhits?*hit_scraper 177\n",
      "https://www.yahoo.com/ 173\n",
      "https://drive.google.com/file/d/0B_SrjJRoVhZJd3ZoV2ZNaTVIclJOYmhxdlBqdUhCYmM2SDlV/view 165\n",
      "chrome://downloads/ 163\n",
      "http://play.pokemonshowdown.com/ 162\n",
      "https://twitter.com/ 159\n",
      "chrome://extensions/ 157\n",
      "https://www.netflix.com/watch/80065742?trackId=14272744 153\n",
      "https://www.linkedin.com/home?trk=nav_responsive_tab_home 144\n",
      "https://www.facebook.com/daniel.cozart.52/friends?source_ref=pb_friends_tl 144\n",
      "https://www.mturk.com/mturk/previewandaccept?groupId=3SFJXQ9EG58Y3WRLXCW2QCVUYYDXDX 142\n",
      "chrome-extension://klbibkeccnjlkjkiokjodocebajanakg/suspended.html#uri=https://www.reddit.com/r/HITsWorthTurkingFor/new/ 141\n",
      "http://v2.decipherinc.com/survey/selfserve/e51/160303 140\n",
      "https://www.facebook.com/?ref=tn_tnmn 140\n",
      "https://mail.aol.com/webmail-std/en-us/suite 137\n",
      "https://www.youtube.com/watch?v=c6rP-YP4c5I 136\n",
      "chrome://bookmarks/#1 132\n",
      "http://www.livenewschat.eu/politics/?ref=fv 129\n",
      "https://tweetdeck.twitter.com/# 117\n",
      "http://www.livenewschat.eu/watch-live-tv/?ref=001 117\n",
      "https://apps.facebook.com/brainster/?fb_source=canvas_bookmark 115\n",
      "https://www.mturk.com/mturk/myhits?first 113\n",
      "https://compstak.slack.com/messages/@bill/ 112\n",
      "https://tlk.io/msrcode2 111\n",
      "https://www.mturk.com/mturk/searchbar?selectedSearchType=hitgroups&searchWords=a9&minReward=0.00&x=0&y=0 110\n",
      "https://www.twitch.tv/directory/following 109\n",
      "https://www.twitch.tv/mintmaus 109\n",
      "https://www.facebook.com/?q= 108\n",
      "https://www.facebook.com/?ref=logo 107\n",
      "https://ww6.crediblebh.com/index.aspx?r=1&domain=SARHC 106\n",
      "https://turkopticon.ucsd.edu/main/php_search 103\n",
      "http://gmail.com/ 102\n",
      "https://www.google.co.in/webhp?sourceid=chrome-instant&ion=1&espv=2&ie=UTF-8 101\n",
      "http://www.amazon.com/dp/B019FXKNUE/ref=atv_hm_hom_1_c_s9obwan_2_1?_encoding=UTF8&pf_rd_i=home&pf_rd_m=ATVPDKIKX0DER&pf_rd_p=2437278902&pf_rd_r=1HCX4PVNB37C4822BV8S&pf_rd_s=center-4&pf_rd_t=12401 98\n",
      "https://www.surveyjunkie.com/member 97\n",
      "https://www.facebook.com/shaz.ron.12 96\n",
      "https://twitter.com/search?f=tweets&q=%23msrcode2 95\n",
      "https://apps.facebook.com/juicejam/?fb_source=bookmark&ref=bookmarks&count=0&fb_bmpos=_0 95\n",
      "https://www.mturk.com/mturk/status 94\n",
      "http://slickdeals.net/ 94\n",
      "http://seller.retailmakr.com/orders/pending 94\n",
      "about:blank 94\n",
      "https://mail.google.com/mail/u/0/#inbox?compose=new 94\n",
      "https://mail.google.com/mail/u/0/?ui=2&shva=1#inbox 93\n",
      "https://wwwsc.ekeystone.com/MyAccount 93\n",
      "http://www.pandora.com/ 93\n",
      "https://www.mturk.com/mturk/preview?groupId=3SFJXQ9EG58Y3WRLXCW2QCVUYYDXDX 91\n",
      "https://www.crediblebh.com/ 89\n",
      "https://apps.facebook.com/candycrush/?fb_source=canvas_bookmark 89\n",
      "http://www.car-insurance-quote-fx.com/ 89\n",
      "https://www.google.com/?gws_rd=ssl 88\n",
      "https://prod.datacollectionsite.com/mrIWeb/mrIWeb.dll#running 87\n",
      "https://www.twitch.tv/lirik 87\n",
      "http://www.hitgrabber.net/ 85\n"
     ]
    }
   ],
   "source": [
    "print_counter(overall_urls_where_reference_has_no_reconstructed)"
   ]
  },
  {
   "cell_type": "code",
   "execution_count": 29,
   "metadata": {
    "collapsed": false
   },
   "outputs": [
    {
     "name": "stdout",
     "output_type": "stream",
     "text": [
      "www.mturk.com 53749\n",
      "www.google.com 12160\n",
      "www.youtube.com 8723\n",
      "www.facebook.com 5621\n",
      "www.reddit.com 4451\n",
      "i.imgur.com 3616\n",
      "docs.google.com 2839\n",
      "perk.tv 2779\n",
      "mail.google.com 2587\n",
      "imgur.com 2454\n",
      "www.amazon.com 1934\n",
      "www.mturkgrind.com 1813\n",
      "www.host2inger.com 1346\n",
      "earnhoney.com 1274\n",
      "www.tohosting.tk 1196\n",
      "mturkforum.com 1187\n",
      "i.ytimg.com 1013\n",
      "mail.aol.com 935\n",
      "turkopticon.ucsd.edu 897\n",
      "vitals-2.crowdcomputingsystems.com 851\n",
      "work.crowdsurfwork.com 802\n",
      "local.cs-int-592.com:5550 690\n",
      "www.google.co.in 662\n",
      "www.surveymonkey.com 659\n",
      "www.netflix.com 657\n",
      "turkernation.com 596\n",
      "www.ebay.com 529\n",
      "www.hulu.com 526\n",
      "www.pinterest.com 519\n",
      "www.bing.com 483\n",
      "www.buzzfeed.com 480\n",
      "payments.amazon.com 469\n",
      "www.yelp.com 441\n",
      "www.instagram.com 415\n",
      "personalityfactors.net 402\n",
      "twitter.com 386\n",
      "www.lipstickalley.com 384\n",
      "accounts.google.com 382\n",
      "hw.reddit.com 368\n",
      "thewatchseries.to 354\n",
      "en.wikipedia.org 351\n",
      "www.swagbucks.com 346\n",
      "www.car-insurance-quote-fx.com 343\n",
      "www.twitch.tv 340\n",
      "www.yahoo.com 337\n",
      "www.tumblr.com 310\n",
      "ma.brazzers.com 306\n",
      "www.zulily.com 298\n",
      "www.paypal.com 275\n",
      "www.earnhoney.com 268\n",
      "theadvocate.com 251\n",
      "s3.amazonaws.com 250\n",
      "news.google.com 249\n",
      "apps.facebook.com 247\n",
      "www.linkedin.com 246\n",
      "buffer.com 244\n",
      "us-mg5.mail.yahoo.com 243\n",
      "outlook.live.com 242\n",
      "www.news.com.au 224\n",
      "www.mturkcrowd.com 224\n",
      "gfycat.com 219\n",
      "www.playstationtrophies.org 217\n",
      "my.screenname.aol.com 216\n",
      "drive.google.com 205\n",
      "www.hotnewhiphop.com 204\n",
      "www.imdb.com 194\n",
      "www.google.co.kr 180\n",
      "soundcloud.com 179\n",
      "mdmarch2016.sawtoothsoftware.com 175\n",
      "upload.wikimedia.org 174\n",
      "www.irazoo.com 171\n",
      "www.freelancer.com 167\n",
      "workplace.clickworker.com 167\n",
      "www.samplicio.us 166\n",
      "www.lendingclub.com 162\n",
      "tmi.stanford.edu 161\n",
      "chrome.google.com 159\n",
      "www.financial-net.com 159\n",
      "www.rackspace.com 156\n",
      "www.wikiorgcharts.com 154\n",
      "www.cashcrate.com 149\n",
      "www.jcpenney.com 148\n",
      "calendar.google.com 147\n",
      "chicago.craigslist.org 146\n",
      "www.master-net.tk 145\n",
      "wwwsc.ekeystone.com 144\n",
      "www.perceptionstudies.com 143\n",
      "steamcommunity.com 139\n",
      "www.surveygizmo.com 135\n",
      "www.mblaze.home 128\n",
      "www.inboxdollars.com 128\n",
      "requester.mturk.com 127\n",
      "s2.userzoom.com 127\n",
      "surveys.ipsosinteractive.com 125\n",
      "www.etsy.com 125\n",
      "www.gasbuddy.com 122\n",
      "www.typologycentral.com 121\n",
      "www.wish.com 120\n",
      "m.facebook.com 119\n",
      "play.pokemonshowdown.com 118\n"
     ]
    }
   ],
   "source": [
    "print_counter(overall_domains_where_reconstructed_has_no_reference)"
   ]
  },
  {
   "cell_type": "code",
   "execution_count": 30,
   "metadata": {
    "collapsed": false
   },
   "outputs": [
    {
     "name": "stdout",
     "output_type": "stream",
     "text": [
      "www.mturk.com 53813\n",
      "www.facebook.com 27190\n",
      "turkopticon.ucsd.edu 8090\n",
      "www.amazon.com 7694\n",
      "news.google.com 7587\n",
      "my.presonus.com 6958\n",
      "www.google.com 6787\n",
      "www.nextmuni.com 6607\n",
      "aurafc.guildwork.com 6471\n",
      "www.mturkcrowd.com 6202\n",
      "www.reddit.com 6012\n",
      "www.mturkgrind.com 5883\n",
      "prolific.ac 5327\n",
      "www.youtube.com 4742\n",
      "mail.google.com 4375\n",
      "vidzi.tv 3977\n",
      "www.netflix.com 3752\n",
      "secure.bankofamerica.com 3540\n",
      "us-mg5.mail.yahoo.com 3483\n",
      "www.buzzfeed.com 2684\n",
      "armycivilianservice.usajobs.gov 2674\n",
      "www.hulu.com 2562\n",
      "perk.tv 2353\n",
      "docs.python.org 2319\n",
      "kat.cr 2313\n",
      "mintvine.com 2286\n",
      "gate.aon.com 2234\n",
      "www.txlottery.org 2135\n",
      "www.tumblr.com 2104\n",
      "sewg.az1.qualtrics.com 2029\n",
      "www.playstationtrophies.org 1738\n",
      "68.45.57.129:22362 1696\n",
      "www.insightexpress.com 1634\n",
      "qbo.intuit.com 1535\n",
      "www.kayak.com 1533\n",
      "www.startribune.com 1532\n",
      "stonybrookuniversity.co1.qualtrics.com 1373\n",
      "klbibkeccnjlkjkiokjodocebajanakg 1371\n",
      "www.yahoo.com 1346\n",
      "www.michigantrafficcrashfacts.org 1322\n",
      "www.simpsonsworld.com 1313\n",
      "9gag.com 1296\n",
      "www.toonova.com 1243\n",
      "mail.aol.com 1174\n",
      "knoxville.craigslist.org 1131\n",
      "www.etsy.com 1129\n",
      "bulletin.uga.edu 1085\n",
      "www.lendingclub.com 988\n",
      "www.reliancenetconnect.co.in 984\n",
      "www.cliffsnotes.com 977\n",
      "imgur.com 936\n",
      "www.twitch.tv 920\n",
      "raleigh.craigslist.org 917\n",
      "jobs.myflorida.com 887\n",
      "missouri.qualtrics.com 884\n",
      "www.fanfiction.net 785\n",
      "whatismyipaddress.com 773\n",
      "content.schwab.com 749\n",
      "serve.popads.net 690\n",
      "www.google.be 678\n",
      "www.netmeds.com 663\n",
      "www.bestbuy.com 653\n",
      "np.reddit.com 644\n",
      "plinga.com 591\n",
      "www.zazzle.com 580\n",
      "myanimelist.net 571\n",
      "www.oregonlive.com 564\n",
      "index.about.com 550\n",
      "www.gsn.com 546\n",
      "b2b.verizonwireless.com 525\n",
      "joanakompa.com 482\n",
      "www.catie.ca 456\n",
      "community.babycenter.com 451\n",
      "webcourses.ucf.edu 444\n",
      "www.lifeleadership.com 431\n",
      "stitesdance.com 430\n",
      "marketing.hostanalytics.com 428\n",
      "www.ipsy.com 426\n",
      "login.yahoo.com 421\n",
      "www.cnn.com 406\n",
      "hauntedattractiononline.com 406\n",
      "d2l.lcc.edu 377\n",
      "www.messenger.com 366\n",
      "myfranciscan.franciscan.edu 358\n",
      "www.bankofamerica.com 353\n",
      "apps.facebook.com 317\n",
      "mysso.exede.net 299\n",
      "lotto.pch.com 289\n",
      "www.adn.com 270\n",
      "www.humanesocietyofnorthernutah.com 255\n",
      "www.quora.com 244\n",
      "www.4research.net 218\n",
      "ttn.tlinks.com 205\n",
      "saveseattleschools.blogspot.com 195\n",
      "tmi.stanford.edu 176\n",
      "us-mg6.mail.yahoo.com 154\n",
      "www.offervault.com 138\n",
      "wakeforest.qualtrics.com 138\n",
      "sufesiba.au1.qualtrics.com 117\n",
      "www.jimmyjohns.com 96\n"
     ]
    }
   ],
   "source": [
    "print_counter(overall_domains_where_reference_has_no_reconstructed)"
   ]
  },
  {
   "cell_type": "code",
   "execution_count": null,
   "metadata": {
    "collapsed": false
   },
   "outputs": [],
   "source": []
  },
  {
   "cell_type": "code",
   "execution_count": null,
   "metadata": {
    "collapsed": false
   },
   "outputs": [],
   "source": []
  },
  {
   "cell_type": "code",
   "execution_count": 31,
   "metadata": {
    "collapsed": false
   },
   "outputs": [],
   "source": [
    "user_to_evaluation_stats = {}\n",
    "\n",
    "for user in list_users():\n",
    "  try:\n",
    "    stats = get_evaluation_stats_for_user(user)\n",
    "  except:\n",
    "    continue\n",
    "  user_to_evaluation_stats[user] = stats\n"
   ]
  },
  {
   "cell_type": "code",
   "execution_count": 32,
   "metadata": {
    "collapsed": false
   },
   "outputs": [
    {
     "name": "stdout",
     "output_type": "stream",
     "text": [
      "Counter({'both_inactive': 164569069, 'correct_url': 12104675, 'ref_active_but_rec_inactive': 6309352, 'incorrect_domain': 1960359, 'ref_inactive_but_rec_active': 1719712, 'correct_domain': 804903})\n"
     ]
    }
   ],
   "source": [
    "overall_evaluation_stats = Counter()\n",
    "for user,stats in user_to_evaluation_stats.items():\n",
    "  for k,v in stats.items():\n",
    "    overall_evaluation_stats[k] += v\n",
    "\n",
    "print overall_evaluation_stats"
   ]
  },
  {
   "cell_type": "code",
   "execution_count": null,
   "metadata": {
    "collapsed": true
   },
   "outputs": [],
   "source": []
  },
  {
   "cell_type": "code",
   "execution_count": null,
   "metadata": {
    "collapsed": true
   },
   "outputs": [],
   "source": []
  },
  {
   "cell_type": "code",
   "execution_count": 33,
   "metadata": {
    "collapsed": false
   },
   "outputs": [
    {
     "data": {
      "text/plain": [
       "\"\\ndef get_users_with_tab_focus_data():\\n  users_with_tab_focus_data = []\\n\\n  for user in list_users():\\n    if not sdir_exists('tab_focus_times_for_user/' + user + '.json'):\\n      continue\\n    tab_focus_times = get_tab_focus_times_for_user(user)\\n    ordered_visits = get_history_ordered_visits_for_user(user)\\n    start_time = tab_focus_times[0]['start']\\n    ordered_visits_after_start = [x for x in ordered_visits if x['visitTime'] > start_time]\\n    #print len(tab_focus_times)\\n    if len(tab_focus_times) > 2000 and len(ordered_visits_after_start) > 400:\\n      users_with_tab_focus_data.append(user)\\n  return users_with_tab_focus_data\\n\""
      ]
     },
     "execution_count": 33,
     "metadata": {},
     "output_type": "execute_result"
    }
   ],
   "source": [
    "'''\n",
    "def get_users_with_tab_focus_data():\n",
    "  users_with_tab_focus_data = []\n",
    "\n",
    "  for user in list_users():\n",
    "    if not sdir_exists('tab_focus_times_for_user/' + user + '.json'):\n",
    "      continue\n",
    "    tab_focus_times = get_tab_focus_times_for_user(user)\n",
    "    ordered_visits = get_history_ordered_visits_for_user(user)\n",
    "    start_time = tab_focus_times[0]['start']\n",
    "    ordered_visits_after_start = [x for x in ordered_visits if x['visitTime'] > start_time]\n",
    "    #print len(tab_focus_times)\n",
    "    if len(tab_focus_times) > 2000 and len(ordered_visits_after_start) > 400:\n",
    "      users_with_tab_focus_data.append(user)\n",
    "  return users_with_tab_focus_data\n",
    "'''\n",
    "#print len(users_with_tab_focus_data)"
   ]
  },
  {
   "cell_type": "code",
   "execution_count": null,
   "metadata": {
    "collapsed": false
   },
   "outputs": [],
   "source": []
  },
  {
   "cell_type": "code",
   "execution_count": null,
   "metadata": {
    "collapsed": true
   },
   "outputs": [],
   "source": []
  },
  {
   "cell_type": "code",
   "execution_count": 34,
   "metadata": {
    "collapsed": false
   },
   "outputs": [],
   "source": [
    "#user = 'dwCCD1uofp' # doing very poorly with this user\n",
    "#user = 'UrZvGUsI8N'\n",
    "#user = users_with_tab_focus_data[0]\n",
    "#print user\n",
    "#url_to_visits = get_history_visits_for_user(user)"
   ]
  },
  {
   "cell_type": "code",
   "execution_count": null,
   "metadata": {
    "collapsed": true
   },
   "outputs": [],
   "source": []
  },
  {
   "cell_type": "code",
   "execution_count": null,
   "metadata": {
    "collapsed": false
   },
   "outputs": [],
   "source": []
  },
  {
   "cell_type": "code",
   "execution_count": 35,
   "metadata": {
    "collapsed": false
   },
   "outputs": [
    {
     "data": {
      "text/plain": [
       "'\\ndef compute_tab_focus_times_with_events_for_user(user):\\n  current_session_tracker = SessionTracker(store_events=True)\\n  for line in get_log_with_mlog_active_times_for_user(user):\\n    current_session_tracker.process_input(uncompress_data_subfields(line))\\n  current_session_tracker.end_input()\\n  return current_session_tracker.get_output()\\n'"
      ]
     },
     "execution_count": 35,
     "metadata": {},
     "output_type": "execute_result"
    }
   ],
   "source": [
    "'''\n",
    "def compute_tab_focus_times_with_events_for_user(user):\n",
    "  current_session_tracker = SessionTracker(store_events=True)\n",
    "  for line in get_log_with_mlog_active_times_for_user(user):\n",
    "    current_session_tracker.process_input(uncompress_data_subfields(line))\n",
    "  current_session_tracker.end_input()\n",
    "  return current_session_tracker.get_output()\n",
    "'''"
   ]
  },
  {
   "cell_type": "code",
   "execution_count": 36,
   "metadata": {
    "collapsed": false
   },
   "outputs": [],
   "source": [
    "#tab_focus_times_with_events = compute_tab_focus_times_with_events_for_user(user)\n"
   ]
  },
  {
   "cell_type": "code",
   "execution_count": 37,
   "metadata": {
    "collapsed": false
   },
   "outputs": [
    {
     "data": {
      "text/plain": [
       "'\\nfor line in get_log_with_mlog_active_times_for_user(user):\\n  data = uncompress_data_subfields(line)\\n  url = get_focused_tab(data)\\n  if url != None:\\n    print url\\n    print data\\n    break\\n'"
      ]
     },
     "execution_count": 37,
     "metadata": {},
     "output_type": "execute_result"
    }
   ],
   "source": [
    "'''\n",
    "for line in get_log_with_mlog_active_times_for_user(user):\n",
    "  data = uncompress_data_subfields(line)\n",
    "  url = get_focused_tab(data)\n",
    "  if url != None:\n",
    "    print url\n",
    "    print data\n",
    "    break\n",
    "'''"
   ]
  },
  {
   "cell_type": "code",
   "execution_count": 38,
   "metadata": {
    "collapsed": false
   },
   "outputs": [],
   "source": [
    "#print len(tab_focus_times_with_events)\n",
    "#tab_focus_times_with_events[0]"
   ]
  },
  {
   "cell_type": "code",
   "execution_count": 39,
   "metadata": {
    "collapsed": false
   },
   "outputs": [],
   "source": [
    "#tab_focus_times = get_tab_focus_times_for_user(user)\n",
    "#print len(tab_focus_times)\n",
    "#print tab_focus_times[0]\n",
    "#print tab_focus_times"
   ]
  },
  {
   "cell_type": "code",
   "execution_count": 40,
   "metadata": {
    "collapsed": false
   },
   "outputs": [],
   "source": [
    "#ordered_visits = get_history_ordered_visits_for_user(user)\n",
    "#first_site = url_to_visits.keys()[0]\n",
    "#print url_to_visits[first_site]"
   ]
  },
  {
   "cell_type": "code",
   "execution_count": 41,
   "metadata": {
    "collapsed": false
   },
   "outputs": [
    {
     "data": {
      "text/plain": [
       "\"\\nordered_visits_after_start = []\\nfor visit in ordered_visits:\\n  time = visit['visitTime']\\n  #if 1458171960840.0 <= time <= 1458172165207.0:\\n  #  print visit\\n  if time >= 1458171960840.0:\\n    ordered_visits_after_start.append(visit)\\n\""
      ]
     },
     "execution_count": 41,
     "metadata": {},
     "output_type": "execute_result"
    }
   ],
   "source": [
    "'''\n",
    "ordered_visits_after_start = []\n",
    "for visit in ordered_visits:\n",
    "  time = visit['visitTime']\n",
    "  #if 1458171960840.0 <= time <= 1458172165207.0:\n",
    "  #  print visit\n",
    "  if time >= 1458171960840.0:\n",
    "    ordered_visits_after_start.append(visit)\n",
    "'''"
   ]
  },
  {
   "cell_type": "code",
   "execution_count": 42,
   "metadata": {
    "collapsed": false,
    "scrolled": true
   },
   "outputs": [],
   "source": [
    "#print len(ordered_visits_after_start)"
   ]
  },
  {
   "cell_type": "code",
   "execution_count": 43,
   "metadata": {
    "collapsed": false
   },
   "outputs": [
    {
     "data": {
      "text/plain": [
       "'\\ndef to_visit_lengths(ordered_visits):\\n  focus_time_reconstructor = ReconstructFocusTimesBaseline()\\n  for visit in ordered_visits:\\n    focus_time_reconstructor.process_history_line(visit)\\n  return focus_time_reconstructor.get_output()\\n\\nreconstructed_visit_lengths = to_visit_lengths(ordered_visits)\\n'"
      ]
     },
     "execution_count": 43,
     "metadata": {},
     "output_type": "execute_result"
    }
   ],
   "source": [
    "'''\n",
    "def to_visit_lengths(ordered_visits):\n",
    "  focus_time_reconstructor = ReconstructFocusTimesBaseline()\n",
    "  for visit in ordered_visits:\n",
    "    focus_time_reconstructor.process_history_line(visit)\n",
    "  return focus_time_reconstructor.get_output()\n",
    "\n",
    "reconstructed_visit_lengths = to_visit_lengths(ordered_visits)\n",
    "'''"
   ]
  },
  {
   "cell_type": "code",
   "execution_count": 44,
   "metadata": {
    "collapsed": false
   },
   "outputs": [],
   "source": [
    "#print len(reconstructed_visit_lengths)"
   ]
  },
  {
   "cell_type": "code",
   "execution_count": null,
   "metadata": {
    "collapsed": false
   },
   "outputs": [],
   "source": []
  },
  {
   "cell_type": "code",
   "execution_count": null,
   "metadata": {
    "collapsed": true
   },
   "outputs": [],
   "source": []
  },
  {
   "cell_type": "code",
   "execution_count": null,
   "metadata": {
    "collapsed": false
   },
   "outputs": [],
   "source": [
    "\n",
    "\n"
   ]
  },
  {
   "cell_type": "code",
   "execution_count": 45,
   "metadata": {
    "collapsed": false
   },
   "outputs": [],
   "source": [
    "#print ref_start_time"
   ]
  },
  {
   "cell_type": "code",
   "execution_count": 46,
   "metadata": {
    "collapsed": false
   },
   "outputs": [],
   "source": [
    "#print evaluated_tab_focus_times[0]"
   ]
  },
  {
   "cell_type": "code",
   "execution_count": 47,
   "metadata": {
    "collapsed": false
   },
   "outputs": [
    {
     "data": {
      "text/plain": [
       "\"\\nfor x in reconstructed_visit_lengths:\\n  url = x['url']\\n  if 'tmi.stanford.edu' in url:\\n    print x\\n    break\\n\""
      ]
     },
     "execution_count": 47,
     "metadata": {},
     "output_type": "execute_result"
    }
   ],
   "source": [
    "'''\n",
    "for x in reconstructed_visit_lengths:\n",
    "  url = x['url']\n",
    "  if 'tmi.stanford.edu' in url:\n",
    "    print x\n",
    "    break\n",
    "'''"
   ]
  },
  {
   "cell_type": "code",
   "execution_count": 48,
   "metadata": {
    "collapsed": false
   },
   "outputs": [],
   "source": [
    "#print len(evaluated_reconstructed_visits)\n",
    "#print len(evaluated_tab_focus_times)"
   ]
  },
  {
   "cell_type": "code",
   "execution_count": 49,
   "metadata": {
    "collapsed": false
   },
   "outputs": [],
   "source": [
    "#def "
   ]
  },
  {
   "cell_type": "code",
   "execution_count": 50,
   "metadata": {
    "collapsed": false
   },
   "outputs": [],
   "source": [
    "#print evaluated_reconstructed_visits[0]\n",
    "#print evaluated_tab_focus_times[2]\n",
    "#print evaluated_reconstructed_visits[-1]\n",
    "#print evaluated_tab_focus_times[-1]"
   ]
  },
  {
   "cell_type": "code",
   "execution_count": null,
   "metadata": {
    "collapsed": false
   },
   "outputs": [],
   "source": [
    "\n",
    "\n"
   ]
  },
  {
   "cell_type": "code",
   "execution_count": 51,
   "metadata": {
    "collapsed": false
   },
   "outputs": [],
   "source": [
    "#print len(result_reference.get_output())\n",
    "#print len(result_reconstructed.get_output())"
   ]
  },
  {
   "cell_type": "code",
   "execution_count": null,
   "metadata": {
    "collapsed": false
   },
   "outputs": [],
   "source": []
  },
  {
   "cell_type": "code",
   "execution_count": null,
   "metadata": {
    "collapsed": false
   },
   "outputs": [],
   "source": []
  },
  {
   "cell_type": "code",
   "execution_count": null,
   "metadata": {
    "collapsed": true
   },
   "outputs": [],
   "source": []
  },
  {
   "cell_type": "code",
   "execution_count": null,
   "metadata": {
    "collapsed": false,
    "scrolled": true
   },
   "outputs": [],
   "source": []
  },
  {
   "cell_type": "code",
   "execution_count": 52,
   "metadata": {
    "collapsed": false
   },
   "outputs": [
    {
     "data": {
      "text/plain": [
       "\"\\nfor ref_answer,rec_answer in zip(result_reference.get_output(), result_reconstructed.get_output())[:1000]:\\n  ref_domain = 'None'\\n  rec_domain = 'None'\\n  if ref_answer != 0:\\n    ref_url = result_reference.get_url_for_index(ref_answer)\\n    ref_domain = url_to_domain(ref_url)\\n  if rec_answer != 0:\\n    rec_url = result_reconstructed.get_url_for_index(rec_answer)\\n    rec_domain = url_to_domain(rec_url)\\n  print ref_domain, rec_domain\\n\""
      ]
     },
     "execution_count": 52,
     "metadata": {},
     "output_type": "execute_result"
    }
   ],
   "source": [
    "'''\n",
    "for ref_answer,rec_answer in zip(result_reference.get_output(), result_reconstructed.get_output())[:1000]:\n",
    "  ref_domain = 'None'\n",
    "  rec_domain = 'None'\n",
    "  if ref_answer != 0:\n",
    "    ref_url = result_reference.get_url_for_index(ref_answer)\n",
    "    ref_domain = url_to_domain(ref_url)\n",
    "  if rec_answer != 0:\n",
    "    rec_url = result_reconstructed.get_url_for_index(rec_answer)\n",
    "    rec_domain = url_to_domain(rec_url)\n",
    "  print ref_domain, rec_domain\n",
    "'''"
   ]
  },
  {
   "cell_type": "code",
   "execution_count": null,
   "metadata": {
    "collapsed": true
   },
   "outputs": [],
   "source": []
  },
  {
   "cell_type": "code",
   "execution_count": 53,
   "metadata": {
    "collapsed": false
   },
   "outputs": [],
   "source": [
    "#for x in evaluated_reconstructed_visits:\n",
    "#  print x"
   ]
  },
  {
   "cell_type": "code",
   "execution_count": 54,
   "metadata": {
    "collapsed": false
   },
   "outputs": [],
   "source": [
    "#for x in evaluated_tab_focus_times:\n",
    "#  print x"
   ]
  },
  {
   "cell_type": "code",
   "execution_count": 55,
   "metadata": {
    "collapsed": false
   },
   "outputs": [],
   "source": [
    "#for x in reconstructed_visit_lengths:\n",
    "#  url = x['url']\n",
    "#  if url == 'https://www.mturk.com/mturk/continue?hitId=3ZY8KE4ISJ42CAV8NVJ18F1PI9SQVJ':\n",
    "#    print x"
   ]
  },
  {
   "cell_type": "code",
   "execution_count": 56,
   "metadata": {
    "collapsed": false
   },
   "outputs": [],
   "source": [
    "#for x in tab_focus_times:\n",
    "#  url = x['url']\n",
    "#  if url == 'https://www.mturk.com/mturk/continue?hitId=3ZY8KE4ISJ42CAV8NVJ18F1PI9SQVJ':\n",
    "#    print x"
   ]
  },
  {
   "cell_type": "code",
   "execution_count": null,
   "metadata": {
    "collapsed": false
   },
   "outputs": [],
   "source": []
  },
  {
   "cell_type": "code",
   "execution_count": 57,
   "metadata": {
    "collapsed": false
   },
   "outputs": [
    {
     "data": {
      "text/plain": [
       "\"\\ndef to_visit_lengths(ordered_visits):\\n  output = []\\n  for item,idx in ordered_visits:\\n    url = item['url']\\n    visit_time = item['visitTime'] # timestamp in milliseconds\\n    result = {'url': url, 'start': visit_time, 'active': visit_time}\\n    visit_duration = 30*1000 # 30 seconds in milliseconds\\n    if idx < len(ordered_visits):\\n      next_item = ordered_visits[idx+1]\\n      next_visit_time = next_item['visitTime']\\n      time_until_next_visit = next_visit_time - visit_time\\n      if visit_duration > time_until_next_visit: # more than 30 minutes until next visit\\n        \\n      visit_duration = min(visit_duration, time_until_next_visit)\\n    output.append({'url': url, 'start': visit_time, })\\n\""
      ]
     },
     "execution_count": 57,
     "metadata": {},
     "output_type": "execute_result"
    }
   ],
   "source": [
    "\n",
    "'''\n",
    "def to_visit_lengths(ordered_visits):\n",
    "  output = []\n",
    "  for item,idx in ordered_visits:\n",
    "    url = item['url']\n",
    "    visit_time = item['visitTime'] # timestamp in milliseconds\n",
    "    result = {'url': url, 'start': visit_time, 'active': visit_time}\n",
    "    visit_duration = 30*1000 # 30 seconds in milliseconds\n",
    "    if idx < len(ordered_visits):\n",
    "      next_item = ordered_visits[idx+1]\n",
    "      next_visit_time = next_item['visitTime']\n",
    "      time_until_next_visit = next_visit_time - visit_time\n",
    "      if visit_duration > time_until_next_visit: # more than 30 minutes until next visit\n",
    "        \n",
    "      visit_duration = min(visit_duration, time_until_next_visit)\n",
    "    output.append({'url': url, 'start': visit_time, })\n",
    "'''"
   ]
  }
 ],
 "metadata": {
  "kernelspec": {
   "display_name": "Python 2",
   "language": "python",
   "name": "python2"
  },
  "language_info": {
   "codemirror_mode": {
    "name": "ipython",
    "version": 2
   },
   "file_extension": ".py",
   "mimetype": "text/x-python",
   "name": "python",
   "nbconvert_exporter": "python",
   "pygments_lexer": "ipython2",
   "version": "2.7.11"
  }
 },
 "nbformat": 4,
 "nbformat_minor": 0
}
