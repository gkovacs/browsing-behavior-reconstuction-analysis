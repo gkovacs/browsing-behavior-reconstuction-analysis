{
 "cells": [
  {
   "cell_type": "code",
   "execution_count": 1,
   "metadata": {
    "collapsed": true
   },
   "outputs": [],
   "source": [
    "from tmilib import *"
   ]
  },
  {
   "cell_type": "code",
   "execution_count": 2,
   "metadata": {
    "collapsed": false
   },
   "outputs": [
    {
     "name": "stdout",
     "output_type": "stream",
     "text": [
      "65\n"
     ]
    }
   ],
   "source": [
    "users_with_tab_focus_data = []\n",
    "\n",
    "for user in list_users():\n",
    "  if not sdir_exists('tab_focus_times_for_user/' + user + '.json'):\n",
    "    continue\n",
    "  tab_focus_times = get_tab_focus_times_for_user(user)\n",
    "  if len(tab_focus_times) > 1000:\n",
    "    users_with_tab_focus_data.append(user)\n",
    "\n",
    "print len(users_with_tab_focus_data)"
   ]
  },
  {
   "cell_type": "code",
   "execution_count": 3,
   "metadata": {
    "collapsed": false
   },
   "outputs": [
    {
     "name": "stdout",
     "output_type": "stream",
     "text": [
      "dwCCD1uofp\n"
     ]
    }
   ],
   "source": [
    "user = users_with_tab_focus_data[0]\n",
    "print user\n",
    "\n",
    "#url_to_visits = get_history_visits_for_user(user)"
   ]
  },
  {
   "cell_type": "code",
   "execution_count": 4,
   "metadata": {
    "collapsed": false
   },
   "outputs": [
    {
     "name": "stdout",
     "output_type": "stream",
     "text": [
      "5061\n"
     ]
    }
   ],
   "source": [
    "tab_focus_times = get_tab_focus_times_for_user(user)\n",
    "print len(tab_focus_times)\n",
    "#print tab_focus_times"
   ]
  },
  {
   "cell_type": "code",
   "execution_count": 5,
   "metadata": {
    "collapsed": false
   },
   "outputs": [],
   "source": [
    "ordered_visits = get_history_ordered_visits_for_user(user)\n",
    "#first_site = url_to_visits.keys()[0]\n",
    "#print url_to_visits[first_site]"
   ]
  },
  {
   "cell_type": "code",
   "execution_count": null,
   "metadata": {
    "collapsed": true
   },
   "outputs": [],
   "source": []
  },
  {
   "cell_type": "code",
   "execution_count": 6,
   "metadata": {
    "collapsed": false
   },
   "outputs": [],
   "source": [
    "class ReconstructFocusTimes:\n",
    "  def __init__(self):\n",
    "    self.output = []\n",
    "    self.curitem = {}\n",
    "  def get_output(self):\n",
    "    self.end_input()\n",
    "    return self.output\n",
    "  def end_input(self):\n",
    "    if 'url' in self.curitem:\n",
    "      last_active = self.curitem['active']\n",
    "      self.curitem['end'] = last_active + 60*1000\n",
    "      self.output.append(self.curitem)\n",
    "      self.curitem = {}\n",
    "  def end_session(self, curtime):\n",
    "    if 'url' in self.curitem:\n",
    "      last_active = self.curitem['active']\n",
    "      # ensures that end < last_active+60 seconds\n",
    "      self.curitem['end'] = min(curtime, last_active + 60*1000)\n",
    "      self.output.append(self.curitem)\n",
    "      self.curitem = {}\n",
    "  def start_session(self, url, curtime):\n",
    "    if url == None:\n",
    "      raise Exception('start_session should not be called with url==None')\n",
    "    self.end_session(curtime)\n",
    "    # start: first event in the session\n",
    "    # active: last event which was active in the session\n",
    "    # end: when we believe the session ended\n",
    "    self.curitem = {'url': url, 'start': curtime, 'active': curtime}\n",
    "  def continue_session(self, url, curtime):\n",
    "    if url == None:\n",
    "      raise Exception('continue_session should not be called with url==None')\n",
    "    if 'url' not in self.curitem:\n",
    "      self.start_session(url, curtime)\n",
    "      return\n",
    "    prevurl = self.curitem['url']\n",
    "    if url == prevurl: # still on same site\n",
    "      # has it been less than 60 seconds since last activity?\n",
    "      prev_active_time = self.curitem['active']\n",
    "      if curtime < prev_active_time + 60*1000:\n",
    "        self.curitem['active'] = curtime\n",
    "        return\n",
    "    # have gone to different site\n",
    "    self.end_session(curtime)\n",
    "    self.start_session(url, curtime)\n",
    "  def process_history_line(self, data):\n",
    "    url = data['url']\n",
    "    curtime = data['visitTime']\n",
    "    self.continue_session(url, curtime)\n",
    "\n",
    "def to_visit_lengths(ordered_visits):\n",
    "  focus_time_reconstructor = ReconstructFocusTimes()\n",
    "  for visit in ordered_visits:\n",
    "    focus_time_reconstructor.process_history_line(visit)\n",
    "  return focus_time_reconstructor.get_output()\n",
    "\n",
    "reconstructed_visit_lengths = to_visit_lengths(ordered_visits)"
   ]
  },
  {
   "cell_type": "code",
   "execution_count": 7,
   "metadata": {
    "collapsed": false
   },
   "outputs": [
    {
     "name": "stdout",
     "output_type": "stream",
     "text": [
      "19896\n"
     ]
    }
   ],
   "source": [
    "print len(reconstructed_visit_lengths)"
   ]
  },
  {
   "cell_type": "code",
   "execution_count": 8,
   "metadata": {
    "collapsed": false
   },
   "outputs": [
    {
     "name": "stdout",
     "output_type": "stream",
     "text": [
      "1.45416431647e+12\n",
      "1.45813152485e+12\n",
      "1.45823578095e+12\n",
      "1.45878745735e+12\n"
     ]
    }
   ],
   "source": [
    "def get_earliest_start_time(visit_lengths):\n",
    "  if len(visit_lengths) < 1:\n",
    "    raise Exception('get_earliest_time called with empty list')\n",
    "  return visit_lengths[0]['start']\n",
    "\n",
    "def get_last_end_time(visit_lengths):\n",
    "  if len(visit_lengths) < 1:\n",
    "    raise Exception('get_last_visit_time called with empty list')\n",
    "  return visit_lengths[-1]['end']\n",
    "\n",
    "print get_earliest_start_time(reconstructed_visit_lengths)\n",
    "print get_earliest_start_time(tab_focus_times)\n",
    "\n",
    "print get_last_end_time(reconstructed_visit_lengths)\n",
    "print get_last_end_time(tab_focus_times)"
   ]
  },
  {
   "cell_type": "code",
   "execution_count": 21,
   "metadata": {
    "collapsed": false
   },
   "outputs": [],
   "source": [
    "def ignore_all_before_start_or_after_end(visit_lengths, start_time, end_time):\n",
    "  output = []\n",
    "  for x in visit_lengths:\n",
    "    if x['start'] < start_time - 1000: # 1 second before or after\n",
    "      continue\n",
    "    if x['end'] > end_time + 1000:\n",
    "      continue\n",
    "    output.append(x)\n",
    "  return output\n",
    "\n",
    "ref_start_time = get_earliest_start_time(tab_focus_times) + 1000*3600*10\n",
    "#ref_end_time = get_last_end_time(tab_focus_times)\n",
    "ref_end_time = ref_start_time + 1000*3600*11\n",
    "\n",
    "evaluated_reconstructed_visits = ignore_all_before_start_or_after_end(reconstructed_visit_lengths, ref_start_time, ref_end_time)\n",
    "evaluated_tab_focus_times = ignore_all_before_start_or_after_end(tab_focus_times, ref_start_time, ref_end_time)"
   ]
  },
  {
   "cell_type": "code",
   "execution_count": 10,
   "metadata": {
    "collapsed": false
   },
   "outputs": [
    {
     "name": "stdout",
     "output_type": "stream",
     "text": [
      "1.45813152485e+12\n"
     ]
    }
   ],
   "source": [
    "print ref_start_time"
   ]
  },
  {
   "cell_type": "code",
   "execution_count": 11,
   "metadata": {
    "collapsed": false
   },
   "outputs": [
    {
     "name": "stdout",
     "output_type": "stream",
     "text": [
      "{u'url': u'https://tmi.stanford.edu/mturk3.html?username=A2JCK494NV7TFX', u'start': 1458131524850.0, u'end': 1458131545126.0, u'active': 1458131535855.0}\n"
     ]
    }
   ],
   "source": [
    "print evaluated_tab_focus_times[0]"
   ]
  },
  {
   "cell_type": "code",
   "execution_count": 19,
   "metadata": {
    "collapsed": false
   },
   "outputs": [
    {
     "name": "stdout",
     "output_type": "stream",
     "text": [
      "{'url': u'https://tmi.stanford.edu/mturk3.html?username=A2JCK494NV7TFX', 'start': 1458131501635.586, 'end': 1458131580974.248, 'active': 1458131520974.248}\n"
     ]
    }
   ],
   "source": [
    "for x in reconstructed_visit_lengths:\n",
    "  url = x['url']\n",
    "  if 'tmi.stanford.edu' in url:\n",
    "    print x\n",
    "    break"
   ]
  },
  {
   "cell_type": "code",
   "execution_count": 22,
   "metadata": {
    "collapsed": false
   },
   "outputs": [
    {
     "name": "stdout",
     "output_type": "stream",
     "text": [
      "58\n",
      "106\n"
     ]
    }
   ],
   "source": [
    "print len(evaluated_reconstructed_visits)\n",
    "print len(evaluated_tab_focus_times)"
   ]
  },
  {
   "cell_type": "code",
   "execution_count": 25,
   "metadata": {
    "collapsed": false
   },
   "outputs": [],
   "source": [
    "#for x in evaluated_reconstructed_visits:\n",
    "#  print x"
   ]
  },
  {
   "cell_type": "code",
   "execution_count": 24,
   "metadata": {
    "collapsed": false
   },
   "outputs": [
    {
     "name": "stdout",
     "output_type": "stream",
     "text": [
      "{u'url': u'http://cmu.qualtrics.com/jfe/form/SV_3qRBhwnc3kYQRhj?UID=81254&XCL=', u'start': 1458167629462.0, u'end': 1458167718310.0, u'active': 1458167650714.0}\n",
      "{u'url': u'http://cmu.qualtrics.com/jfe/form/SV_3qRBhwnc3kYQRhj?UID=81254&XCL=', u'start': 1458167718310.0, u'end': 1458167846951.0, u'active': 1458167846266.0}\n",
      "{u'url': u'https://www.mturk.com/mturk/findhits?match=false&hit_scraper#', u'start': 1458167846951.0, u'end': 1458167848231.0, u'active': 1458167846951.0}\n",
      "{u'url': u'https://www.mturk.com/mturk/previewandaccept?groupId=3SI493PTTXLLJABRFNCMBK7DOIEZD8', u'start': 1458167848231.0, u'end': 1458167857291.0, u'active': 1458167850250.0}\n",
      "{u'url': u'https://www.mturk.com/mturk/return?requesterId=&canAccept=&hitId=3Y5140Z9DYBAU1PPSPAMQLWBZL9IPW&externalHit=true&groupId=3SI493PTTXLLJABRFNCMBK7DOIEZD8', u'start': 1458167857291.0, u'end': 1458167858426.0, u'active': 1458167858302.0}\n",
      "{u'url': u'https://www.mturk.com/mturk/findhits?match=false&hit_scraper#', u'start': 1458167858426.0, u'end': 1458167859956.0, u'active': 1458167858453.9998}\n",
      "{u'url': u'http://cmu.qualtrics.com/jfe/form/SV_3qRBhwnc3kYQRhj?UID=81254&XCL=', u'start': 1458167859956.0, u'end': 1458167875938.0, u'active': 1458167859956.0}\n",
      "{u'url': u'http://cmu.qualtrics.com/jfe/form/SV_206UKHIFuVLvEVv?UID=91737&LT=CD', u'start': 1458167875938.0, u'end': 1458167987973.0, u'active': 1458167876474.0}\n",
      "{u'url': u'http://cmu.qualtrics.com/jfe/form/SV_206UKHIFuVLvEVv?UID=91737&LT=CD', u'start': 1458167987973.0, u'end': 1458167991711.0, u'active': 1458167990782.0}\n",
      "{u'url': u'https://www.mturk.com/mturk/findhits?match=false&hit_scraper#', u'start': 1458167991711.0, u'end': 1458167992987.0, u'active': 1458167991711.0}\n",
      "{u'url': u'https://www.mturk.com/mturk/previewandaccept?groupId=3KPH7OYYG32PN8MXHCYTE6QRBQ776U', u'start': 1458167992987.0, u'end': 1458167995354.0, u'active': 1458167994764.0}\n",
      "{u'url': u'https://www.mturk.com/mturk/findhits?match=false&hit_scraper#', u'start': 1458167995354.0, u'end': 1458167996354.0, u'active': 1458167995440.0}\n",
      "{u'url': u'http://cmu.qualtrics.com/jfe/form/SV_206UKHIFuVLvEVv?UID=91737&LT=CD', u'start': 1458167996354.0, u'end': 1458168033165.9998, u'active': 1458168031097.0}\n",
      "{u'url': u'https://www.mturk.com/mturk/dashboard', u'start': 1458168033165.9998, u'end': 1458168035980.0, u'active': 1458168034051.0}\n",
      "{u'url': u'https://www.mturk.com/mturk/preview?groupId=39VNNFFKJ4US4VXMY7VPZYVMIWCXVL', u'start': 1458168035980.0, u'end': 1458168038442.0, u'active': 1458168038091.0}\n",
      "{u'url': u'https://www.mturk.com/mturk/dashboard', u'start': 1458168038442.0, u'end': 1458168039801.0, u'active': 1458168038459.0}\n",
      "{u'url': u'http://cmu.qualtrics.com/jfe/form/SV_206UKHIFuVLvEVv?UID=91737&LT=CD', u'start': 1458168039801.0, u'end': 1458168092375.9998, u'active': 1458168039819.0}\n",
      "{u'url': u'https://www.mturk.com/mturk/continue?hitId=3NGI5ARFTT52ZIYHF9DYTD978RB1PN', u'start': 1458168092375.9998, u'end': 1458168099125.0, u'active': 1458168098682.0}\n",
      "{u'url': u'https://www.mturk.com/mturk/myhits?first', u'start': 1458168099125.0, u'end': 1458168100616.0, u'active': 1458168099676.0}\n",
      "{u'url': u'https://www.mturk.com/mturk/dashboard', u'start': 1458168100616.0, u'end': 1458168102376.0, u'active': 1458168101667.0}\n",
      "{u'url': u'https://hw.reddit.com/r/HITsWorthTurkingFor/new/', u'start': 1458168102376.0, u'end': 1458168109319.0, u'active': 1458168108407.0}\n",
      "{u'url': u'https://hw.reddit.com/r/HITsWorthTurkingFor/comments/4aq81q/us_short_survey_no_3_public_opinion_laboratory/', u'start': 1458168109319.0, u'end': 1458168111263.0, u'active': 1458168109474.9998}\n",
      "{u'url': u'https://www.mturk.com/mturk/searchbar?selectedSearchType=hitgroups&requesterId=A811RDSV44ICE', u'start': 1458168111263.0, u'end': 1458168112007.0, u'active': 1458168111824.0}\n",
      "{u'url': u'https://www.mturk.com/mturk/searchbar?selectedSearchType=hitgroups&requesterId=A811RDSV44ICE#', u'start': 1458168112007.0, u'end': 1458168113246.0, u'active': 1458168112145.0}\n",
      "{u'url': u'https://www.mturk.com/mturk/preview?groupId=3H18QCSCZWAMG5WRN9LXAYZOBSZXY9', u'start': 1458168113246.0, u'end': 1458168115234.0, u'active': 1458168114234.0}\n",
      "{u'url': u'https://www.mturk.com/mturk/accept?hitId=33Q5P9PUSPMXDXWQATHJZA126IKCZB&prevHitSubmitted=false&prevRequester=Public+Opinion+Laboratory&requesterId=A811RDSV44ICE&prevReward=USD0.15&hitAutoAppDelayInSeconds=604800&groupId=3H18QCSCZWAMG5WRN9LXAYZOBSZXY9&signature=yn4C5XjWl5bCle%2BFf71j0265%2BIA%3D&%2Faccept.x=10&%2Faccept.y=5', u'start': 1458168115234.0, u'end': 1458168118103.0, u'active': 1458168116950.0}\n",
      "{u'url': u'https://usccollege.qualtrics.com/SE/?SID=SV_cUQB0ZN5UZRqA61&AmazonId=A2JCK494NV7TFX', u'start': 1458168118103.0, u'end': 1458168207579.0, u'active': 1458168205297.0}\n",
      "{u'url': u'https://www.mturk.com/mturk/findhits?match=false&hit_scraper#', u'start': 1458168207579.0, u'end': 1458168209514.0, u'active': 1458168208107.9998}\n",
      "{u'url': u'https://www.mturk.com/mturk/previewandaccept?groupId=3IRUE3ZCDHJ0VRCJ8TNBT8NLCA2ICM', u'start': 1458168209514.0, u'end': 1458168226413.0, u'active': 1458168211419.0}\n",
      "{u'url': u'https://usccollege.qualtrics.com/SE/?SID=SV_cUQB0ZN5UZRqA61&AmazonId=A2JCK494NV7TFX', u'start': 1458168226413.0, u'end': 1458168550842.0, u'active': 1458168549266.0}\n",
      "{u'url': u'https://usccollege.qualtrics.com/SE/?SID=SV_cUQB0ZN5UZRqA61&AmazonId=A2JCK494NV7TFX&SaveButton=1&SSID=SS_cCHwRcoMF5aXOpD', u'start': 1458168550842.0, u'end': 1458168553338.0, u'active': 1458168551122.0}\n",
      "{u'url': u'https://www.mturk.com/mturk/accept?hitId=33Q5P9PUSPMXDXWQATHJZA126IKCZB&prevHitSubmitted=false&prevRequester=Public+Opinion+Laboratory&requesterId=A811RDSV44ICE&prevReward=USD0.15&hitAutoAppDelayInSeconds=604800&groupId=3H18QCSCZWAMG5WRN9LXAYZOBSZXY9&signature=yn4C5XjWl5bCle%2BFf71j0265%2BIA%3D&%2Faccept.x=10&%2Faccept.y=5', u'start': 1458168553338.0, u'end': 1458168560948.0, u'active': 1458168553371.0}\n",
      "{u'url': u'https://hw.reddit.com/r/HITsWorthTurkingFor/new/', u'start': 1458168560948.0, u'end': 1458168566982.0, u'active': 1458168563978.0}\n",
      "{u'url': u'https://www.mturk.com/mturk/dashboard', u'start': 1458168566982.0, u'end': 1458168572672.0, u'active': 1458168566994.0}\n",
      "{u'url': u'https://www.mturk.com/mturk/previewandaccept?groupId=3IRUE3ZCDHJ0VRCJ8TNBT8NLCA2ICM', u'start': 1458168581147.0, u'end': 1458168582676.0, u'active': 1458168581153.0}\n",
      "{u'url': u'https://www.mturk.com/mturk/return?requesterId=&canAccept=&hitId=3JPSL1DZ5TX5XXPUTSZ36N4DR28NAQ&externalHit=true&groupId=3IRUE3ZCDHJ0VRCJ8TNBT8NLCA2ICM', u'start': 1458168582676.0, u'end': 1458168585455.0, u'active': 1458168584337.0}\n",
      "{u'url': u'https://www.mturk.com/mturk/findhits?match=false&hit_scraper#', u'start': 1458168585455.0, u'end': 1458168591668.0, u'active': 1458168585474.0}\n",
      "{u'url': u'https://www.mturk.com/mturk/findhits?match=false&hit_scraper#', u'start': 1458168620629.0, u'end': 1458168622440.0, u'active': 1458168620629.0}\n",
      "{u'url': u'https://www.mturk.com/mturk/dashboard', u'start': 1458168622440.0, u'end': 1458168626810.0, u'active': 1458168626719.0}\n",
      "{u'url': u'https://www.mturk.com/mturk/dashboard', u'start': 1458168634419.0, u'end': 1458168636142.0, u'active': 1458168634918.0}\n",
      "{u'url': u'https://www.mturk.com/mturk/previewandaccept?groupId=39VNNFFKJ4US4VXMY7VPZYVMIWCXVL', u'start': 1458168636142.0, u'end': 1458168638701.0, u'active': 1458168638102.0}\n",
      "{u'url': u'https://www.mturk.com/mturk/dashboard', u'start': 1458168638701.0, u'end': 1458168639591.0, u'active': 1458168638761.0}\n",
      "{u'url': u'https://hw.reddit.com/r/HITsWorthTurkingFor/new/', u'start': 1458168639591.0, u'end': 1458168642869.0, u'active': 1458168642126.0}\n",
      "{u'url': u'https://hw.reddit.com/r/HITsWorthTurkingFor/new/', u'start': 1458168658130.0, u'end': 1458168659634.0, u'active': 1458168658130.0}\n",
      "{u'url': u'https://hw.reddit.com/r/HITsWorthTurkingFor/new/', u'start': 1458168781135.0, u'end': 1458168783317.0, u'active': 1458168781292.0}\n",
      "{u'url': u'https://www.mturk.com/mturk/findhits?match=false&hit_scraper#', u'start': 1458168783317.0, u'end': 1458168784564.0, u'active': 1458168783317.0}\n",
      "{u'url': u'https://www.mturk.com/mturk/findhits?match=false&hit_scraper#', u'start': 1458169001646.0, u'end': 1458169005642.0, u'active': 1458169001646.0}\n",
      "{u'url': u'https://www.mturk.com/mturk/findhits?match=false&hit_scraper#', u'start': 1458169012644.0, u'end': 1458169015152.0, u'active': 1458169012644.0}\n",
      "{u'url': u'https://www.mturk.com/mturk/findhits?match=false&hit_scraper#', u'start': 1458169015644.0, u'end': 1458169017142.0, u'active': 1458169015644.0}\n",
      "{u'url': u'https://www.mturk.com/mturk/findhits?match=false&hit_scraper#', u'start': 1458174035797.0, u'end': 1458174037347.0, u'active': 1458174035797.0}\n",
      "{u'url': u'https://hw.reddit.com/r/HITsWorthTurkingFor/new/', u'start': 1458174037347.0, u'end': 1458174041916.0, u'active': 1458174041211.0}\n",
      "{u'url': u'https://hw.reddit.com/r/HITsWorthTurkingFor/comments/4aqlyb/us_earn_up_to_5_purchasing_behavior_arrc_3_2/', u'start': 1458174041916.0, u'end': 1458174045990.0, u'active': 1458174045466.0}\n",
      "{u'url': u'https://www.mturk.com/mturk/searchbar?selectedSearchType=hitgroups&searchWords=earn+up+to+%245%3A+purchasing+behavior&minReward=0.00&x=0&y=0', u'start': 1458174045990.0, u'end': 1458174046968.0, u'active': 1458174046444.0}\n",
      "{u'url': u'https://www.mturk.com/mturk/searchbar?selectedSearchType=hitgroups&searchWords=earn+up+to+%245%3A+purchasing+behavior&minReward=0.00&x=0&y=0#', u'start': 1458174046968.0, u'end': 1458174054001.0, u'active': 1458174047292.0}\n",
      "{u'url': u'https://hw.reddit.com/r/HITsWorthTurkingFor/new/', u'start': 1458174054001.0, u'end': 1458174057988.0, u'active': 1458174057690.0}\n",
      "{u'url': u'https://hw.reddit.com/r/HITsWorthTurkingFor/comments/4aqk53/us_part_one_of_two_volunteer_for_a_psychology/', u'start': 1458174057988.0, u'end': 1458174064865.0, u'active': 1458174062282.0}\n",
      "{u'url': u'https://www.mturk.com/mturk/searchbar?selectedSearchType=hitgroups&searchWords=matthew+lebowitz&minReward=0.00&x=0&y=0', u'start': 1458174064865.0, u'end': 1458174069384.0, u'active': 1458174064898.0}\n",
      "{u'url': u'https://www.amazon.com/ap/signin?openid.ns=http%3A%2F%2Fspecs.openid.net%2Fauth%2F2.0&openid.assoc_handle=amzn_mturk_worker&openid.ns.pape=http%3A%2F%2Fspecs.openid.net%2Fextensions%2Fpape%2F1.0&_encoding=UTF8&openid.mode=checkid_setup&openid.claimed_id=http%3A%2F%2Fspecs.openid.net%2Fauth%2F2.0%2Fidentifier_select&openid.identity=http%3A%2F%2Fspecs.openid.net%2Fauth%2F2.0%2Fidentifier_select&openid.pape.max_auth_age=43200&marketplaceId=A384XSLT9ODACQ&clientContext=4de35ff97d3b7b29c3bb98e862736c&openid.return_to=https%3A%2F%2Fwww.mturk.com%2Fmturk%2Fendsignin', u'start': 1458174069384.0, u'end': 1458174072506.0, u'active': 1458174069697.0}\n",
      "{u'url': u'https://www.mturk.com/mturk/preview?groupId=3USZNBD0ID80GQZ956U0F5FBSKS15P', u'start': 1458174072506.0, u'end': 1458174077115.0, u'active': 1458174073741.0}\n",
      "{u'url': u'https://hw.reddit.com/r/HITsWorthTurkingFor/comments/4aqk53/us_part_one_of_two_volunteer_for_a_psychology/', u'start': 1458174077115.0, u'end': 1458174078897.0002, u'active': 1458174078225.0}\n",
      "{u'url': u'https://www.mturk.com/mturk/searchbar?selectedSearchType=hitgroups&searchWords=matthew+lebowitz&minReward=0.00&x=0&y=0', u'start': 1458174078897.0002, u'end': 1458174083861.0, u'active': 1458174080250.0}\n",
      "{u'url': u'https://hw.reddit.com/r/HITsWorthTurkingFor/comments/4aqk53/us_part_one_of_two_volunteer_for_a_psychology/', u'start': 1458174083861.0, u'end': 1458174207030.0, u'active': 1458174083872.0}\n",
      "{u'url': u'https://hw.reddit.com/r/HITsWorthTurkingFor/comments/4aqk53/us_part_one_of_two_volunteer_for_a_psychology/', u'start': 1458174207030.0, u'end': 1458174209688.0, u'active': 1458174209419.0}\n",
      "{u'url': u'https://www.mturk.com/mturk/searchbar?selectedSearchType=hitgroups&searchWords=matthew+lebowitz&minReward=0.00&x=0&y=0', u'start': 1458174209688.0, u'end': 1458174223362.0, u'active': 1458174209698.0}\n",
      "{u'url': u'https://hw.reddit.com/r/HITsWorthTurkingFor/comments/4aqk53/us_part_one_of_two_volunteer_for_a_psychology/', u'start': 1458174223362.0, u'end': 1458174230971.0, u'active': 1458174223380.0}\n",
      "{u'url': u'https://hw.reddit.com/r/HITsWorthTurkingFor/new/', u'start': 1458174230971.0, u'end': 1458174231833.0, u'active': 1458174231003.0}\n",
      "{u'url': u'https://www.mturk.com/mturk/preview?isPreviousHitExpired=true&hitId=34T446B1C0E3YWOTW29SIVU3U680CP&groupId=3H18QCSCZWAMG5WRN9LXAYZOBSZXY9', u'start': 1458174231833.0, u'end': 1458174233921.0, u'active': 1458174233496.0}\n",
      "{u'url': u'https://www.mturk.com/mturk/preview?isPreviousHitExpired=true&hitId=34T446B1C0E3YWOTW29SIVU3U680CP&groupId=3H18QCSCZWAMG5WRN9LXAYZOBSZXY9#', u'start': 1458174233921.0, u'end': 1458174234722.0, u'active': 1458174234119.0}\n",
      "{u'url': u'https://www.mturk.com/mturk/findhits?match=false&hit_scraper#', u'start': 1458174234722.0, u'end': 1458174236441.0, u'active': 1458174234743.0}\n",
      "{u'url': u'https://www.mturk.com/mturk/searchbar?selectedSearchType=hitgroups&searchWords=will+video&minReward=0.00&x=0&y=0', u'start': 1458174236441.0, u'end': 1458174238328.0, u'active': 1458174236447.0}\n",
      "{u'url': u'https://www.mturk.com/mturk/dashboard', u'start': 1458174238328.0, u'end': 1458174243014.0, u'active': 1458174238335.0}\n",
      "{u'url': u'https://www.mturk.com/mturk/dashboard', u'start': 1458174260389.9998, u'end': 1458174261318.9998, u'active': 1458174260389.9998}\n",
      "{u'url': u'chrome://newtab/', u'start': 1458174261318.9998, u'end': 1458174262757.0, u'active': 1458174261791.0}\n",
      "{u'url': u'https://surveyresearch.interviewing.nielsen.com/mrIWeb/mrIWeb.dll?I.Project=P1038273001', u'start': 1458174262757.0, u'end': 1458174265307.0, u'active': 1458174263144.0}\n",
      "{u'url': u'https://surveyresearch.interviewing.nielsen.com/mrIWeb/mrIWeb.dll?I.Project=P1038273001', u'start': 1458174288815.0, u'end': 1458174290536.0, u'active': 1458174288815.0}\n",
      "{u'url': u'https://surveyresearch.interviewing.nielsen.com/mrIWeb/mrIWeb.dll', u'start': 1458174290536.0, u'end': 1458174413899.0, u'active': 1458174325143.0}\n",
      "{u'url': u'https://surveyresearch.interviewing.nielsen.com/mrIWeb/mrIWeb.dll', u'start': 1458174413899.0, u'end': 1458174437573.0, u'active': 1458174436086.0}\n",
      "{u'url': u'http://www.pineconeresearch.com/WebServices/StudyComplete_Pine_US.asp?study_id=103827-3001&hh_id=1484784&status=1&loi=3&lIncomeID=_9&nloi=2&sdyqus=10&srtlin=0&resins=0&manop=0', u'start': 1458174437573.0, u'end': 1458174445196.0, u'active': 1458174438145.0}\n",
      "{u'url': u'https://www.pineconeresearch.com/', u'start': 1458174445196.0, u'end': 1458174445951.0, u'active': 1458174445408.0}\n",
      "{u'url': u'https://www.pineconeresearch.com/', u'start': 1458174547314.0, u'end': 1458174549662.0, u'active': 1458174547314.0}\n",
      "{u'url': u'https://www.pineconeresearch.com/index.asp', u'start': 1458174549662.0, u'end': 1458174557271.0, u'active': 1458174556693.0}\n",
      "{u'url': u'https://www.pineconeresearch.com/sweepstakes-winners.asp', u'start': 1458174557271.0, u'end': 1458174565860.0, u'active': 1458174557277.0}\n",
      "{u'url': u'https://www.pineconeresearch.com/index.asp', u'start': 1458174565860.0, u'end': 1458174571269.0, u'active': 1458174565872.0}\n",
      "{u'url': u'https://rewards.pineconeresearch.com/', u'start': 1458174571269.0, u'end': 1458174575666.0, u'active': 1458174573516.0}\n",
      "{u'url': u'https://www.mturk.com/mturk/dashboard', u'start': 1458174575666.0, u'end': 1458174578581.0, u'active': 1458174575680.0}\n",
      "{u'url': u'https://www.mturk.com/mturk/searchbar?selectedSearchType=hitgroups&searchWords=will+video&minReward=0.00&x=0&y=0', u'start': 1458174578581.0, u'end': 1458174586568.0, u'active': 1458174585863.0}\n",
      "{u'url': u'https://www.mturk.com/mturk/preview?groupId=3DECMKXKT83NOSNSZFLVOF7LZT9BML', u'start': 1458174586568.0, u'end': 1458174589217.0, u'active': 1458174588778.9998}\n",
      "{u'url': u'https://www.mturk.com/mturk/searchbar?selectedSearchType=hitgroups&searchWords=will+video&minReward=0.00&x=0&y=0', u'start': 1458174589217.0, u'end': 1458174590183.0, u'active': 1458174589228.0}\n",
      "{u'url': u'https://www.mturk.com/mturk/findhits?match=false&hit_scraper#', u'start': 1458174590183.0, u'end': 1458174600690.0, u'active': 1458174590199.0}\n",
      "{u'url': u'https://hw.reddit.com/r/HITsWorthTurkingFor/new/', u'start': 1458174600690.0, u'end': 1458174609054.0, u'active': 1458174608575.0}\n",
      "{u'url': u'https://hw.reddit.com/r/HITsWorthTurkingFor/comments/4aqk53/us_part_one_of_two_volunteer_for_a_psychology/', u'start': 1458174609054.0, u'end': 1458174648345.0, u'active': 1458174609503.0}\n",
      "{u'url': u'https://hw.reddit.com/r/HITsWorthTurkingFor/new/', u'start': 1458174648345.0, u'end': 1458174650325.0, u'active': 1458174648360.0}\n",
      "{u'url': u'https://hw.reddit.com/r/HITsWorthTurkingFor/new/', u'start': 1458175061844.0, u'end': 1458175064012.0, u'active': 1458175061844.0}\n",
      "{u'url': u'https://hw.reddit.com/r/HITsWorthTurkingFor/new/', u'start': 1458175099729.0, u'end': 1458175100986.9998, u'active': 1458175099830.0}\n",
      "{u'url': u'https://hw.reddit.com/r/HITsWorthTurkingFor/new/', u'start': 1458175281839.0, u'end': 1458175292881.0, u'active': 1458175284773.0}\n",
      "{u'url': u'https://hw.reddit.com/r/HITsWorthTurkingFor/', u'start': 1458175292881.0, u'end': 1458175298641.0, u'active': 1458175293902.0}\n",
      "{u'url': u'https://hw.reddit.com/r/HITsWorthTurkingFor/new/', u'start': 1458175298641.0, u'end': 1458175301938.0, u'active': 1458175301061.0}\n",
      "{u'url': u'https://hw.reddit.com/r/HITsWorthTurkingFor/comments/4aqnzb/us_read_a_page_and_choose_the_best_link_chrome/', u'start': 1458175301938.0, u'end': 1458175311551.0, u'active': 1458175311373.0}\n",
      "{u'url': u'https://www.mturk.com/mturk/preview?groupId=3BJQ5CGBLXSJ1WDWD7T26HKI04QYWP', u'start': 1458175311551.0, u'end': 1458175314010.0, u'active': 1458175312763.0}\n",
      "{u'url': u'https://www.mturk.com/mturk/accept?hitId=39KV3A5D1826AV1BONJRLXCIG7YS71&prevHitSubmitted=false&prevRequester=Jeffrey+Grimes&requesterId=A3RLK1CIQE0LNM&prevReward=USD1.01&hitAutoAppDelayInSeconds=79200&groupId=3BJQ5CGBLXSJ1WDWD7T26HKI04QYWP&signature=BnGoUx6uTtVLGnqeLFVr2MxcLBk%3D&%2Faccept.x=42&%2Faccept.y=8', u'start': 1458175314010.0, u'end': 1458175315894.0, u'active': 1458175314839.0}\n",
      "{u'url': u'https://www.mturk.com/mturk/return?requesterId=A3RLK1CIQE0LNM&hitId=3V0Z7YWSIZVH25J229C2PDBZ7EEV28&signature=BnGoUx6uTtVLGnqeLFVr2MxcLBk%3D&groupId=3BJQ5CGBLXSJ1WDWD7T26HKI04QYWP&canAccept=&externalHit=true', u'start': 1458175315894.0, u'end': 1458175318444.0, u'active': 1458175316605.9998}\n",
      "{u'url': u'https://www.mturk.com/mturk/accept?hitId=3WPCIUYH1A3N64F040R3VUI0406TD9&prevHitSubmitted=false&prevRequester=Jeffrey+Grimes&requesterId=A3RLK1CIQE0LNM&prevReward=USD1.01&hitAutoAppDelayInSeconds=79200&groupId=3BJQ5CGBLXSJ1WDWD7T26HKI04QYWP&signature=hUYgYsNqM97Oinnjrjeg3HhVxs8%3D&%2Faccept.x=67&%2Faccept.y=6', u'start': 1458175318444.0, u'end': 1458175321556.0, u'active': 1458175319186.0}\n",
      "{u'url': u'https://www.mturk.com/mturk/myhits', u'start': 1458175321556.0, u'end': 1458175328442.0, u'active': 1458175321873.0}\n",
      "{u'url': u'https://www.mturk.com/mturk/continue?hitId=38SKSKU7R2SIHLLAD8VOPKKE5CALIR', u'start': 1458175328442.0, u'end': 1458175330783.0, u'active': 1458175329356.0}\n",
      "{u'url': u'https://hw.reddit.com/r/HITsWorthTurkingFor/comments/4aqnzb/us_read_a_page_and_choose_the_best_link_chrome/', u'start': 1458175330783.0, u'end': 1458175331915.0, u'active': 1458175330944.0}\n",
      "{u'url': u'https://hw.reddit.com/r/HITsWorthTurkingFor/new/', u'start': 1458175331915.0, u'end': 1458175346910.0, u'active': 1458175331970.0}\n"
     ]
    }
   ],
   "source": [
    "#for x in evaluated_tab_focus_times:\n",
    "#  print x"
   ]
  },
  {
   "cell_type": "code",
   "execution_count": 16,
   "metadata": {
    "collapsed": false
   },
   "outputs": [
    {
     "name": "stdout",
     "output_type": "stream",
     "text": [
      "{'url': u'https://www.mturk.com/mturk/continue?hitId=3ZY8KE4ISJ42CAV8NVJ18F1PI9SQVJ', 'start': 1458131499396.9, 'end': 1458131501635.586, 'active': 1458131499396.9}\n"
     ]
    }
   ],
   "source": [
    "for x in reconstructed_visit_lengths:\n",
    "  url = x['url']\n",
    "  if url == 'https://www.mturk.com/mturk/continue?hitId=3ZY8KE4ISJ42CAV8NVJ18F1PI9SQVJ':\n",
    "    print x"
   ]
  },
  {
   "cell_type": "code",
   "execution_count": 17,
   "metadata": {
    "collapsed": false
   },
   "outputs": [
    {
     "name": "stdout",
     "output_type": "stream",
     "text": [
      "{u'url': u'https://www.mturk.com/mturk/continue?hitId=3ZY8KE4ISJ42CAV8NVJ18F1PI9SQVJ', u'start': 1458131651814.0, u'end': 1458131658442.0, u'active': 1458131651824.0}\n",
      "{u'url': u'https://www.mturk.com/mturk/continue?hitId=3ZY8KE4ISJ42CAV8NVJ18F1PI9SQVJ', u'start': 1458131663976.0, u'end': 1458131666447.0, u'active': 1458131666054.0}\n"
     ]
    }
   ],
   "source": [
    "for x in tab_focus_times:\n",
    "  url = x['url']\n",
    "  if url == 'https://www.mturk.com/mturk/continue?hitId=3ZY8KE4ISJ42CAV8NVJ18F1PI9SQVJ':\n",
    "    print x"
   ]
  },
  {
   "cell_type": "code",
   "execution_count": null,
   "metadata": {
    "collapsed": false
   },
   "outputs": [],
   "source": []
  },
  {
   "cell_type": "code",
   "execution_count": 16,
   "metadata": {
    "collapsed": false
   },
   "outputs": [
    {
     "data": {
      "text/plain": [
       "\"\\ndef to_visit_lengths(ordered_visits):\\n  output = []\\n  for item,idx in ordered_visits:\\n    url = item['url']\\n    visit_time = item['visitTime'] # timestamp in milliseconds\\n    result = {'url': url, 'start': visit_time, 'active': visit_time}\\n    visit_duration = 30*1000 # 30 seconds in milliseconds\\n    if idx < len(ordered_visits):\\n      next_item = ordered_visits[idx+1]\\n      next_visit_time = next_item['visitTime']\\n      time_until_next_visit = next_visit_time - visit_time\\n      if visit_duration > time_until_next_visit: # more than 30 minutes until next visit\\n        \\n      visit_duration = min(visit_duration, time_until_next_visit)\\n    output.append({'url': url, 'start': visit_time, })\\n\""
      ]
     },
     "execution_count": 16,
     "metadata": {},
     "output_type": "execute_result"
    }
   ],
   "source": [
    "\n",
    "'''\n",
    "def to_visit_lengths(ordered_visits):\n",
    "  output = []\n",
    "  for item,idx in ordered_visits:\n",
    "    url = item['url']\n",
    "    visit_time = item['visitTime'] # timestamp in milliseconds\n",
    "    result = {'url': url, 'start': visit_time, 'active': visit_time}\n",
    "    visit_duration = 30*1000 # 30 seconds in milliseconds\n",
    "    if idx < len(ordered_visits):\n",
    "      next_item = ordered_visits[idx+1]\n",
    "      next_visit_time = next_item['visitTime']\n",
    "      time_until_next_visit = next_visit_time - visit_time\n",
    "      if visit_duration > time_until_next_visit: # more than 30 minutes until next visit\n",
    "        \n",
    "      visit_duration = min(visit_duration, time_until_next_visit)\n",
    "    output.append({'url': url, 'start': visit_time, })\n",
    "'''"
   ]
  }
 ],
 "metadata": {
  "kernelspec": {
   "display_name": "Python 2",
   "language": "python",
   "name": "python2"
  },
  "language_info": {
   "codemirror_mode": {
    "name": "ipython",
    "version": 2
   },
   "file_extension": ".py",
   "mimetype": "text/x-python",
   "name": "python",
   "nbconvert_exporter": "python",
   "pygments_lexer": "ipython2",
   "version": "2.7.11"
  }
 },
 "nbformat": 4,
 "nbformat_minor": 0
}
