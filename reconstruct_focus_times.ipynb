{
 "cells": [
  {
   "cell_type": "code",
   "execution_count": 3,
   "metadata": {
    "collapsed": false
   },
   "outputs": [
    {
     "data": {
      "text/plain": [
       "0"
      ]
     },
     "execution_count": 3,
     "metadata": {},
     "output_type": "execute_result"
    }
   ],
   "source": [
    "# noexport\n",
    "\n",
    "import os\n",
    "os.system('export_notebook reconstruct_focus_times.ipynb')"
   ]
  },
  {
   "cell_type": "code",
   "execution_count": 1,
   "metadata": {
    "collapsed": true
   },
   "outputs": [],
   "source": [
    "class ReconstructFocusTimesBaseline:\n",
    "  def __init__(self):\n",
    "    self.output = []\n",
    "    self.curitem = {}\n",
    "    self.idleperiod = 60 # seconds\n",
    "  def get_output(self):\n",
    "    self.end_input()\n",
    "    return self.output\n",
    "  def end_input(self):\n",
    "    if 'url' in self.curitem:\n",
    "      last_active = self.curitem['active']\n",
    "      self.curitem['end'] = last_active + self.idleperiod*1000\n",
    "      self.output.append(self.curitem)\n",
    "      self.curitem = {}\n",
    "  def end_session(self, curtime):\n",
    "    if 'url' in self.curitem:\n",
    "      last_active = self.curitem['active']\n",
    "      # ensures that end < last_active+60 seconds\n",
    "      self.curitem['end'] = min(curtime, last_active + self.idleperiod*1000)\n",
    "      #self.curitem['end'] = min(curtime, last_active + 1800*1000)\n",
    "      self.output.append(self.curitem)\n",
    "      self.curitem = {}\n",
    "  def start_session(self, url, curtime):\n",
    "    if url == None:\n",
    "      raise Exception('start_session should not be called with url==None')\n",
    "    self.end_session(curtime)\n",
    "    # start: first event in the session\n",
    "    # active: last event which was active in the session\n",
    "    # end: when we believe the session ended\n",
    "    self.curitem = {'url': url, 'start': curtime, 'active': curtime}\n",
    "  def continue_session(self, url, curtime):\n",
    "    if url == None:\n",
    "      raise Exception('continue_session should not be called with url==None')\n",
    "    if 'url' not in self.curitem:\n",
    "      self.start_session(url, curtime)\n",
    "      return\n",
    "    prevurl = self.curitem['url']\n",
    "    if url == prevurl: # still on same site\n",
    "      # has it been less than 60 seconds since last activity?\n",
    "      prev_active_time = self.curitem['active']\n",
    "      if curtime < prev_active_time + 60*1000:\n",
    "        self.curitem['active'] = curtime\n",
    "        return\n",
    "    # have gone to different site\n",
    "    self.end_session(curtime)\n",
    "    self.start_session(url, curtime)\n",
    "  def process_history_line(self, data):\n",
    "    url = data['url']\n",
    "    curtime = data['visitTime']\n",
    "    self.continue_session(url, curtime)\n"
   ]
  }
 ],
 "metadata": {
  "kernelspec": {
   "display_name": "Python 2",
   "language": "python",
   "name": "python2"
  },
  "language_info": {
   "codemirror_mode": {
    "name": "ipython",
    "version": 2
   },
   "file_extension": ".py",
   "mimetype": "text/x-python",
   "name": "python",
   "nbconvert_exporter": "python",
   "pygments_lexer": "ipython2",
   "version": "2.7.11"
  }
 },
 "nbformat": 4,
 "nbformat_minor": 0
}
