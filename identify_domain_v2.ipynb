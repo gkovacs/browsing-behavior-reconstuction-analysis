{
 "cells": [
  {
   "cell_type": "code",
   "execution_count": 1,
   "metadata": {
    "collapsed": false
   },
   "outputs": [
    {
     "data": {
      "text/plain": [
       "0"
      ]
     },
     "execution_count": 1,
     "metadata": {},
     "output_type": "execute_result"
    }
   ],
   "source": [
    "# noexport\n",
    "\n",
    "import os\n",
    "os.system('export_notebook identify_domain.ipynb')"
   ]
  },
  {
   "cell_type": "code",
   "execution_count": null,
   "metadata": {
    "collapsed": true
   },
   "outputs": [],
   "source": []
  },
  {
   "cell_type": "code",
   "execution_count": 1,
   "metadata": {
    "collapsed": true
   },
   "outputs": [],
   "source": [
    "from tmilib import *"
   ]
  },
  {
   "cell_type": "code",
   "execution_count": 3,
   "metadata": {
    "collapsed": false
   },
   "outputs": [],
   "source": [
    "#user = get_test_users()[0]\n",
    "#print user"
   ]
  },
  {
   "cell_type": "code",
   "execution_count": null,
   "metadata": {
    "collapsed": true
   },
   "outputs": [],
   "source": []
  },
  {
   "cell_type": "code",
   "execution_count": null,
   "metadata": {
    "collapsed": false
   },
   "outputs": [],
   "source": []
  },
  {
   "cell_type": "code",
   "execution_count": null,
   "metadata": {
    "collapsed": false
   },
   "outputs": [],
   "source": []
  },
  {
   "cell_type": "code",
   "execution_count": 4,
   "metadata": {
    "collapsed": false
   },
   "outputs": [],
   "source": [
    "#tab_focus_times = get_tab_focus_times_for_user(user)\n",
    "#print tab_focus_times[0].keys()"
   ]
  },
  {
   "cell_type": "code",
   "execution_count": 5,
   "metadata": {
    "collapsed": false
   },
   "outputs": [],
   "source": [
    "#print active_second_to_domain_id.keys()[:10]"
   ]
  },
  {
   "cell_type": "code",
   "execution_count": 6,
   "metadata": {
    "collapsed": true
   },
   "outputs": [],
   "source": []
  },
  {
   "cell_type": "code",
   "execution_count": 7,
   "metadata": {
    "collapsed": false
   },
   "outputs": [],
   "source": [
    "#seen_domains_only_real = get_seen_urls_and_domains_real_and_history()['seen_domains_only_real']"
   ]
  },
  {
   "cell_type": "code",
   "execution_count": 8,
   "metadata": {
    "collapsed": false
   },
   "outputs": [],
   "source": []
  },
  {
   "cell_type": "code",
   "execution_count": 11,
   "metadata": {
    "collapsed": false
   },
   "outputs": [],
   "source": [
    "@memoized\n",
    "def get_recently_seen_domain_stats_for_user_v2(user):\n",
    "  ordered_visits = get_history_ordered_visits_corrected_for_user(user)\n",
    "  ordered_visits = exclude_bad_visits(ordered_visits)\n",
    "  active_domain_at_time = get_active_domain_at_time_for_user(user)\n",
    "  active_seconds_set = set(get_active_insession_seconds_for_user(user))\n",
    "  #active_second_to_domain_id = get_active_second_to_domain_id_for_user(user)\n",
    "  active_second_to_domain_id = {int(k):v for k,v in get_active_second_to_domain_id_for_user(user).viewitems()}\n",
    "  visit_id_to_domain_id = {}\n",
    "  stats = Counter()\n",
    "  for idx,visit in enumerate(ordered_visits):\n",
    "    if idx+1 >= len(ordered_visits):\n",
    "      break\n",
    "    next_visit = ordered_visits[idx+1]\n",
    "    cur_domain = url_to_domain(visit['url'])\n",
    "    cur_domain_id = domain_to_id(cur_domain)\n",
    "    next_domain = url_to_domain(next_visit['url'])\n",
    "    next_domain_id = domain_to_id(next_domain)\n",
    "    cur_time_sec = int(round(visit['visitTime'] / 1000.0))\n",
    "    next_time_sec = int(round(next_visit['visitTime'] / 1000.0))\n",
    "    \n",
    "    cur_visit_id = visit['visitId']\n",
    "    visit_id_to_domain_id[cur_visit_id] = cur_domain_id\n",
    "    \n",
    "    next_refer_id = next_visit['referringVisitId']\n",
    "    referring_domain_id = visit_id_to_domain_id.get(next_refer_id, -1)\n",
    "    \n",
    "    if cur_time_sec > next_time_sec:\n",
    "      continue\n",
    "    \n",
    "    for time_sec in xrange(cur_time_sec, next_time_sec+1):\n",
    "      if time_sec not in active_seconds_set:\n",
    "        continue\n",
    "      ref_domain_id = active_second_to_domain_id[time_sec]\n",
    "      stats['total'] += 1\n",
    "      \n",
    "      if cur_domain_id == ref_domain_id and referring_domain_id == ref_domain_id:\n",
    "        stats['both cur and referring are correct'] += 1\n",
    "      elif referring_domain_id == ref_domain_id:\n",
    "        stats['referring_domain_correct'] += 1\n",
    "        if referring_domain_id == next_domain_id:\n",
    "          stats['referring_domain_eq_next'] += 1\n",
    "      elif cur_domain_id == ref_domain_id:\n",
    "        stats['cur domain correct'] += 1\n",
    "  return stats"
   ]
  },
  {
   "cell_type": "code",
   "execution_count": 12,
   "metadata": {
    "collapsed": false
   },
   "outputs": [],
   "source": [
    "total_stats = Counter()\n",
    "\n",
    "for user in get_test_users():\n",
    "  for k,v in get_recently_seen_domain_stats_for_user_v2(user).iteritems():\n",
    "    total_stats[k] += v\n"
   ]
  },
  {
   "cell_type": "code",
   "execution_count": 13,
   "metadata": {
    "collapsed": false
   },
   "outputs": [
    {
     "name": "stdout",
     "output_type": "stream",
     "text": [
      "{'referring_domain_eq_next': 0.03962201889338221, 'both cur and referring are correct': 0.2729347038691897, 'total': 1.0, 'referring_domain_correct': 0.04147766958476675, 'cur domain correct': 0.4712744246409016}\n"
     ]
    }
   ],
   "source": [
    "print {k:v/float(total_stats['total']) for k,v in total_stats.items()}"
   ]
  },
  {
   "cell_type": "code",
   "execution_count": null,
   "metadata": {
    "collapsed": false
   },
   "outputs": [],
   "source": []
  },
  {
   "cell_type": "code",
   "execution_count": 10,
   "metadata": {
    "collapsed": false
   },
   "outputs": [],
   "source": [
    "@memoized\n",
    "def get_recently_seen_domain_stats_for_user(user):\n",
    "  ordered_visits = get_history_ordered_visits_corrected_for_user(user)\n",
    "  ordered_visits = exclude_bad_visits(ordered_visits)\n",
    "  active_domain_at_time = get_active_domain_at_time_for_user(user)\n",
    "  active_seconds_set = set(get_active_insession_seconds_for_user(user))\n",
    "  #active_second_to_domain_id = get_active_second_to_domain_id_for_user(user)\n",
    "  active_second_to_domain_id = {int(k):v for k,v in get_active_second_to_domain_id_for_user(user).viewitems()}\n",
    "  recently_seen_domain_ids = [-1]*100\n",
    "  seen_domain_ids_set = set()\n",
    "  stats = Counter()\n",
    "  nomatch_domains = Counter()\n",
    "  tabbed_back_domains_first = Counter()\n",
    "  tabbed_back_domains_second = Counter()\n",
    "  tabbed_back_domains_all = Counter()\n",
    "  distractors_list = [domain_to_id(x) for x in ['www.mturk.com', 'apps.facebook.com', 'www.facebook.com', 'www.reddit.com', 'www.youtube.com']]\n",
    "  distractors = set(distractors_list)\n",
    "  most_recent_distractor = distractors_list[0]\n",
    "  for idx,visit in enumerate(ordered_visits):\n",
    "    if idx+1 >= len(ordered_visits):\n",
    "      break\n",
    "    next_visit = ordered_visits[idx+1]\n",
    "    cur_domain = url_to_domain(visit['url'])\n",
    "    cur_domain_id = domain_to_id(cur_domain)\n",
    "    if cur_domain_id in distractors:\n",
    "      most_recent_distractor = cur_domain_id\n",
    "    if cur_domain_id != recently_seen_domain_ids[-1]:\n",
    "      if cur_domain_id in seen_domain_ids_set:\n",
    "        recently_seen_domain_ids.remove(cur_domain_id)\n",
    "      seen_domain_ids_set.add(cur_domain_id)\n",
    "      recently_seen_domain_ids.append(cur_domain_id)\n",
    "    next_domain = url_to_domain(next_visit['url'])\n",
    "    next_domain_id = domain_to_id(next_domain)\n",
    "    cur_time_sec = int(round(visit['visitTime'] / 1000.0))\n",
    "    next_time_sec = int(round(next_visit['visitTime'] / 1000.0))\n",
    "    \n",
    "    if cur_time_sec > next_time_sec:\n",
    "      continue\n",
    "    \n",
    "    for time_sec in xrange(cur_time_sec, next_time_sec+1):\n",
    "      if time_sec not in active_seconds_set:\n",
    "        continue\n",
    "      ref_domain_id = active_second_to_domain_id[time_sec]\n",
    "      stats['total'] += 1\n",
    "      if most_recent_distractor == ref_domain_id:\n",
    "        stats['most_recent_distractor_total'] += 1\n",
    "        if cur_domain_id == ref_domain_id:\n",
    "          stats['most_recent_distractor_curdomain'] += 1\n",
    "        elif cur_domain_id == next_domain_id:\n",
    "          stats['most_recent_distractor_nextdomain'] += 1\n",
    "        else:\n",
    "          stats['most_recent_distractor_some_prev_domain'] += 1\n",
    "      if cur_domain_id == ref_domain_id:\n",
    "        if next_domain_id == cur_domain_id:\n",
    "          stats['first and next equal and correct'] += 1\n",
    "        else:\n",
    "          stats['first correct only'] += 1\n",
    "        continue\n",
    "      if next_domain_id == ref_domain_id:\n",
    "        stats['next correct only'] += 1\n",
    "        continue\n",
    "      stats['both incorrect'] += 1\n",
    "      found_match = False\n",
    "      ref_domain = id_to_domain(ref_domain_id)\n",
    "      for i in range(1,101):\n",
    "        if recently_seen_domain_ids[-1-i] == ref_domain_id:\n",
    "          stats['nth previous correct ' + str(abs(i))] += 1\n",
    "          stats['some previous among past 100 correct'] += 1\n",
    "          found_match = True\n",
    "          tabbed_back_domains_all[ref_domain] += 1\n",
    "          if i == 1:\n",
    "            tabbed_back_domains_first[ref_domain] += 1\n",
    "          if i == 2:\n",
    "            tabbed_back_domains_second[ref_domain] += 1\n",
    "          break\n",
    "      if not found_match:\n",
    "        ref_domain = id_to_domain(ref_domain_id)\n",
    "        if ref_domain == 'newtab':\n",
    "          stats['newtab'] += 1\n",
    "          continue\n",
    "        stats['no match found'] += 1\n",
    "        nomatch_domains[id_to_domain(ref_domain_id)] += 1\n",
    "      '''\n",
    "      if cur_domain_id == ref_domain_id:\n",
    "        if next_domain_id == cur_domain_id:\n",
    "          stats['first and next equal and correct'] += 1\n",
    "          continue\n",
    "        else:\n",
    "          stats['first correct only'] += 1\n",
    "          continue\n",
    "      else:\n",
    "        if next_domain_id == cur_domain_id:\n",
    "          stats['both incorrect'] += 1\n",
    "          found_match = False\n",
    "          for i in range(1,101):\n",
    "            if recently_seen_domain_ids[-1-i] == ref_domain_id:\n",
    "              stats['nth previous correct ' + str(abs(i))] += 1\n",
    "              stats['some previous among past 100 correct'] += 1\n",
    "              found_match = True\n",
    "              break\n",
    "          if not found_match:\n",
    "            ref_domain = id_to_domain(ref_domain_id)\n",
    "            if ref_domain == 'newtab':\n",
    "              stats['newtab'] += 1\n",
    "              continue\n",
    "            stats['no match found'] += 1\n",
    "            nomatch_domains[id_to_domain(ref_domain_id)] += 1\n",
    "          continue\n",
    "        if next_domain_id == ref_domain_id:\n",
    "          stats['next correct only'] += 1\n",
    "          continue\n",
    "      '''\n",
    "  return {\n",
    "    'stats': stats,\n",
    "    'nomatch_domains': nomatch_domains,\n",
    "    'tabbed_back_domains_all': tabbed_back_domains_all,\n",
    "    'tabbed_back_domains_first': tabbed_back_domains_first,\n",
    "    'tabbed_back_domains_second': tabbed_back_domains_second,\n",
    "  }"
   ]
  },
  {
   "cell_type": "code",
   "execution_count": 11,
   "metadata": {
    "collapsed": false
   },
   "outputs": [],
   "source": [
    "total_nomatch_domains = Counter()\n",
    "\n",
    "for user in get_test_users():\n",
    "  for k,v in get_recently_seen_domain_stats_for_user(user)['nomatch_domains'].viewitems():\n",
    "    total_nomatch_domains[k] += v\n"
   ]
  },
  {
   "cell_type": "code",
   "execution_count": 12,
   "metadata": {
    "collapsed": false
   },
   "outputs": [
    {
     "name": "stdout",
     "output_type": "stream",
     "text": [
      "bookmarks 8534\n",
      "tmi.stanford.edu 4943\n",
      "www.pandora.com 3017\n",
      "klbibkeccnjlkjkiokjodocebajanakg 2674\n",
      "www.mturk.com 2254\n",
      " 2056\n",
      "downloads 1889\n",
      "history 1350\n",
      "www.google.com 1280\n",
      "settings 1152\n",
      "ww2.unipark.de 1038\n",
      "www.youtube.com 920\n",
      "mprlab327.webfactional.com 874\n",
      "extensions 869\n",
      "www.amazon.com 748\n",
      "www.heatherridley.com 712\n",
      "features.texasmonthly.com 633\n",
      "www.facebook.com 628\n",
      "knightlytales.wikidot.com 605\n",
      "www.reenaahluwalia.com 591\n",
      "www.nextmuni.com 578\n",
      "www.reddit.com 578\n",
      "local-ntp 575\n",
      "apps.facebook.com 551\n",
      "www.surveymonkey.com 533\n",
      "vassarpsych.az1.qualtrics.com 511\n",
      "reader.chegg.com 507\n",
      "mail.google.com 507\n",
      "armorgames.com 491\n",
      "usccollege.qualtrics.com 484\n",
      "uky.az1.qualtrics.com 472\n",
      "uwmadison.co1.qualtrics.com 465\n",
      "survey.az1.qualtrics.com 456\n",
      "hbs.qualtrics.com 429\n",
      "drive.google.com 425\n",
      "www.flashx.host 400\n",
      "spellout.net 376\n",
      "rnd-testing.wonderliconline.com 369\n",
      "uscpharmacy.az1.qualtrics.com 345\n",
      "www.kickstarter.com 333\n",
      "www.animefillerlist.com 325\n",
      "gcat.dot.state.oh.us 318\n",
      "koreabus.az1.qualtrics.com 317\n",
      "128.151.170.70:22362 311\n",
      "umich.qualtrics.com 310\n",
      "pamplin.qualtrics.com 310\n",
      "www.motherjones.com 306\n",
      "theconcourse.deadspin.com 294\n",
      "laccpsych.co1.qualtrics.com 277\n",
      "read.amazon.com 259\n",
      "umbc.co1.qualtrics.com 255\n",
      "mbuy.ebay.com 251\n",
      "en.wikipedia.org 251\n",
      "dise-online.net 250\n",
      "www.goodreads.com 239\n",
      "yale.qualtrics.com 232\n",
      "gate.aon.com 226\n",
      "hitgrabber.net 209\n",
      "bit.ly 209\n",
      "xkcd.com 207\n",
      "goo.gl 205\n",
      "flashbak.com 200\n",
      "www.googleadservices.com 199\n",
      "fox.az1.qualtrics.com 188\n",
      "yalesurvey.qualtrics.com 186\n",
      "www.ebay.com 184\n",
      "cornell.qualtrics.com 181\n",
      "ubcarts.co1.qualtrics.com 175\n",
      "www.screenwisetrends.com 174\n",
      "stanforduniversity.qualtrics.com 155\n",
      "deep-bass-nine.tumblr.com 154\n",
      "unf.co1.qualtrics.com 153\n",
      "gmail.com 153\n",
      "yahoo.com 147\n",
      "www.netflix.com 146\n",
      "www.hotmail.com 146\n",
      "mightytext.net 146\n",
      "mail.yahoo.com 140\n",
      "www.instructables.com 138\n",
      "payments.amazon.com 137\n",
      "www.addictinggames.com 136\n",
      "www.gstatic.com 133\n",
      "mythicspoiler.com 133\n",
      "scontent-ord1-1.xx.fbcdn.net 132\n",
      "supsy.eu.qualtrics.com 129\n",
      "www.usertesting.com 129\n",
      "www.ow.ly 129\n",
      "xfinity.comcast.net 125\n",
      "cincinnati.qualtrics.com 125\n",
      "adclick.g.doubleclick.net 125\n",
      "virginiatech.qualtrics.com 123\n",
      "obits.columbian.com 121\n",
      "uh.sona-systems.com 121\n",
      "flags 118\n",
      "ugapsych.az1.qualtrics.com 117\n",
      "uts.saintleo.edu 117\n",
      "www.healthline.com 114\n",
      "elliman.com 113\n",
      "www.paypal.com 113\n",
      "www.americhoice.com 111\n"
     ]
    }
   ],
   "source": [
    "#print total_nomatch_domains\n",
    "print_counter(total_nomatch_domains)"
   ]
  },
  {
   "cell_type": "code",
   "execution_count": 13,
   "metadata": {
    "collapsed": false
   },
   "outputs": [],
   "source": [
    "total_tabbed_back_domains_all = Counter()\n",
    "\n",
    "for user in get_test_users():\n",
    "  for k,v in get_recently_seen_domain_stats_for_user(user)['tabbed_back_domains_all'].viewitems():\n",
    "    total_tabbed_back_domains_all[k] += v"
   ]
  },
  {
   "cell_type": "code",
   "execution_count": 14,
   "metadata": {
    "collapsed": false
   },
   "outputs": [],
   "source": [
    "#[domain_to_id(x) for x in ['www.mturk.com', 'apps.facebook.com', 'www.facebook.com', 'www.reddit.com', 'www.youtube.com']]"
   ]
  },
  {
   "cell_type": "code",
   "execution_count": 15,
   "metadata": {
    "collapsed": false
   },
   "outputs": [],
   "source": [
    "#sumkeys(total_tabbed_back_domains_all, 'www.mturk.com', 'apps.facebook.com', 'www.facebook.com', 'www.reddit.com', 'www.youtube.com')"
   ]
  },
  {
   "cell_type": "code",
   "execution_count": 16,
   "metadata": {
    "collapsed": false
   },
   "outputs": [
    {
     "name": "stdout",
     "output_type": "stream",
     "text": [
      "2382221\n"
     ]
    }
   ],
   "source": [
    "print sum(total_tabbed_back_domains_all.values())"
   ]
  },
  {
   "cell_type": "code",
   "execution_count": 17,
   "metadata": {
    "collapsed": false
   },
   "outputs": [],
   "source": [
    "#728458.0/2382221"
   ]
  },
  {
   "cell_type": "code",
   "execution_count": 18,
   "metadata": {
    "collapsed": false
   },
   "outputs": [
    {
     "name": "stdout",
     "output_type": "stream",
     "text": [
      "www.mturk.com 259154\n",
      "apps.facebook.com 157564\n",
      "www.facebook.com 154560\n",
      "www.reddit.com 81526\n",
      "www.youtube.com 75654\n",
      "www.google.com 45171\n",
      "www.twitch.tv 40482\n",
      "docs.google.com 37875\n",
      "mail.google.com 37240\n",
      "www.netflix.com 34310\n",
      "www.amazon.com 34070\n",
      "allmyvideos.net 30749\n",
      "www.tumblr.com 19361\n",
      "www.mturkgrind.com 19318\n",
      "www.amzreviewtrader.com 16451\n",
      "www.speechpad.com 15963\n",
      "hitgrabber.net 14552\n",
      "www.allmyvideos.net 12324\n",
      "armorgames.com 11310\n",
      "wharton.qualtrics.com 11022\n",
      "bbs2.ruliweb.daum.net 11019\n",
      "mturkforum.com 10942\n",
      "www.hulu.com 10858\n",
      "iu.co1.qualtrics.com 10688\n",
      "forums.animez.to 10633\n",
      "agar.io 10597\n",
      "yalesurvey.qualtrics.com 10481\n",
      "us-mg5.mail.yahoo.com 10278\n",
      "www.addictinggames.com 10234\n",
      "upenn.co1.qualtrics.com 9938\n",
      "www.marketwatch.com 9847\n",
      "kellogg.qualtrics.com 9680\n",
      "mail.aol.com 9256\n",
      "myanimelist.net 8551\n",
      " 8429\n",
      "mprlab327.webfactional.com 8092\n",
      "saintleo.learningstudio.com 7694\n",
      "unc.az1.qualtrics.com 7503\n",
      "www.swagbucks.com 7282\n",
      "hbs.qualtrics.com 7173\n",
      "washington.co1.qualtrics.com 7036\n",
      "nyu.qualtrics.com 6982\n",
      "osu.az1.qualtrics.com 6957\n",
      "www.readyunderwear.com 6904\n",
      "turkopticon.ucsd.edu 6884\n",
      "stanfordgsb.qualtrics.com 6758\n",
      "ust.az1.qualtrics.com 6498\n",
      "snt151.mail.live.com 6341\n",
      "harvard.az1.qualtrics.com 6048\n",
      "www.lipstickalley.com 6032\n",
      "utexas.qualtrics.com 6017\n",
      "soundcloud.com 5931\n",
      "en.wikipedia.org 5888\n",
      "smile.amazon.com 5828\n",
      "gcat.dot.state.oh.us 5605\n",
      "cornell.qualtrics.com 5599\n",
      "umn.qualtrics.com 5408\n",
      "drive.google.com 5407\n",
      "www.pandora.com 5320\n",
      "www.bing.com 5294\n",
      "www.messenger.com 5275\n",
      "ufl.qualtrics.com 5269\n",
      "us.anno-online.com 5184\n",
      "asuclas.qualtrics.com 5007\n",
      "www.freelancer.com 4759\n",
      "nbs.az1.qualtrics.com 4747\n",
      "www.financial-net.com 4717\n",
      "us-mg6.mail.yahoo.com 4657\n",
      "columbia.az1.qualtrics.com 4654\n",
      "my-digitallife.att.com 4653\n",
      "www.livenewschat.eu 4552\n",
      "www.mturkcrowd.com 4545\n",
      "chicagobooth.az1.qualtrics.com 4543\n",
      "164.67.110.148:22362 4534\n",
      "listenonrepeat.com 4437\n",
      "www.ebay.com 4390\n",
      "thewatchseries.to 4301\n",
      "prezi.com 4294\n",
      "wlupsych.co1.qualtrics.com 4267\n",
      "www.flashx.host 4245\n",
      "compstak.slack.com 4230\n",
      "putlocker.to 4174\n",
      "psychologyuwaterloo.az1.qualtrics.com 4142\n",
      "dukefuqua.qualtrics.com 4137\n",
      "www.cbs.com 4090\n",
      "rotman.az1.qualtrics.com 3961\n",
      "ets.az1.qualtrics.com 3933\n",
      "haverford.co1.qualtrics.com 3813\n",
      "byu.az1.qualtrics.com 3796\n",
      "watch.na.lolesports.com 3774\n",
      "www.seriouseats.com 3740\n",
      "kuclas.qualtrics.com 3705\n",
      "www.quora.com 3692\n",
      "wakeforest.qualtrics.com 3635\n",
      "animetorrents.me 3607\n",
      "purdue.qualtrics.com 3549\n",
      "berkeley.qualtrics.com 3520\n",
      "schulich.co1.qualtrics.com 3468\n",
      "learn.vccs.edu 3449\n",
      "fsu.qualtrics.com 3432\n"
     ]
    }
   ],
   "source": [
    "print_counter(total_tabbed_back_domains_all)"
   ]
  },
  {
   "cell_type": "code",
   "execution_count": null,
   "metadata": {
    "collapsed": true
   },
   "outputs": [],
   "source": []
  },
  {
   "cell_type": "code",
   "execution_count": 19,
   "metadata": {
    "collapsed": false,
    "scrolled": true
   },
   "outputs": [],
   "source": [
    "#print_counter(total_tabbed_back_domains_first)"
   ]
  },
  {
   "cell_type": "code",
   "execution_count": null,
   "metadata": {
    "collapsed": true
   },
   "outputs": [],
   "source": []
  },
  {
   "cell_type": "code",
   "execution_count": null,
   "metadata": {
    "collapsed": true
   },
   "outputs": [],
   "source": []
  },
  {
   "cell_type": "code",
   "execution_count": 20,
   "metadata": {
    "collapsed": false
   },
   "outputs": [
    {
     "data": {
      "text/plain": [
       "'\\ntotal_active_seconds = 0\\n\\nfor user in get_test_users():\\n  total_active_seconds += len(get_active_seconds_for_user(user))\\n  #for span in get_active_seconds_for_user(user)\\nprint total_active_seconds\\n'"
      ]
     },
     "execution_count": 20,
     "metadata": {},
     "output_type": "execute_result"
    }
   ],
   "source": [
    "'''\n",
    "total_active_seconds = 0\n",
    "\n",
    "for user in get_test_users():\n",
    "  total_active_seconds += len(get_active_seconds_for_user(user))\n",
    "  #for span in get_active_seconds_for_user(user)\n",
    "print total_active_seconds\n",
    "'''"
   ]
  },
  {
   "cell_type": "code",
   "execution_count": 27,
   "metadata": {
    "collapsed": false
   },
   "outputs": [
    {
     "name": "stdout",
     "output_type": "stream",
     "text": [
      "UrZvGUsI8N\n",
      "Counter({'total': 110232, 'first and next equal and correct': 55530, 'most_recent_distractor_total': 39133, 'most_recent_distractor_curdomain': 34872, 'first correct only': 30604, 'both incorrect': 17975, 'some previous among past 100 correct': 16416, 'next correct only': 6123, 'nth previous correct 2': 5320, 'nth previous correct 1': 4733, 'most_recent_distractor_some_prev_domain': 2886, 'nth previous correct 4': 1993, 'nth previous correct 3': 1926, 'most_recent_distractor_nextdomain': 1375, 'nth previous correct 5': 924, 'no match found': 912, 'newtab': 647, 'nth previous correct 6': 528, 'nth previous correct 7': 334, 'nth previous correct 25': 148, 'nth previous correct 11': 142, 'nth previous correct 18': 87, 'nth previous correct 19': 71, 'nth previous correct 14': 64, 'nth previous correct 30': 60, 'nth previous correct 8': 56, 'nth previous correct 9': 7, 'nth previous correct 15': 5, 'nth previous correct 10': 4, 'nth previous correct 35': 4, 'nth previous correct 13': 4, 'nth previous correct 21': 2, 'nth previous correct 17': 2, 'nth previous correct 33': 1, 'nth previous correct 12': 1})\n",
      "3a3FX1s9S6\n",
      "Counter({'total': 54156, 'most_recent_distractor_total': 22184, 'first correct only': 20668, 'first and next equal and correct': 19626, 'most_recent_distractor_curdomain': 14738, 'both incorrect': 9199, 'some previous among past 100 correct': 8917, 'most_recent_distractor_some_prev_domain': 7108, 'next correct only': 4663, 'nth previous correct 1': 3636, 'nth previous correct 2': 1895, 'nth previous correct 3': 1217, 'nth previous correct 4': 927, 'nth previous correct 8': 509, 'most_recent_distractor_nextdomain': 338, 'nth previous correct 22': 297, 'newtab': 241, 'nth previous correct 9': 105, 'nth previous correct 6': 83, 'nth previous correct 10': 67, 'nth previous correct 5': 56, 'no match found': 41, 'nth previous correct 24': 23, 'nth previous correct 7': 21, 'nth previous correct 11': 20, 'nth previous correct 13': 18, 'nth previous correct 18': 12, 'nth previous correct 25': 7, 'nth previous correct 14': 5, 'nth previous correct 17': 3, 'nth previous correct 19': 3, 'nth previous correct 12': 3, 'nth previous correct 20': 2, 'nth previous correct 28': 2, 'nth previous correct 26': 1, 'nth previous correct 27': 1, 'nth previous correct 21': 1, 'nth previous correct 23': 1, 'nth previous correct 34': 1, 'nth previous correct 35': 1})\n",
      "TfAZTnnzST\n",
      "Counter({'total': 51258, 'first correct only': 31353, 'first and next equal and correct': 16642, 'both incorrect': 2989, 'some previous among past 100 correct': 2889, 'nth previous correct 1': 1347, 'nth previous correct 2': 734, 'most_recent_distractor_total': 468, 'nth previous correct 5': 410, 'nth previous correct 3': 337, 'most_recent_distractor_curdomain': 304, 'next correct only': 274, 'most_recent_distractor_some_prev_domain': 122, 'no match found': 96, 'nth previous correct 4': 47, 'most_recent_distractor_nextdomain': 42, 'nth previous correct 8': 6, 'nth previous correct 7': 4, 'newtab': 4, 'nth previous correct 9': 2, 'nth previous correct 10': 1, 'nth previous correct 15': 1})\n",
      "N3buswFgSO\n",
      "Counter({'total': 51667, 'first and next equal and correct': 24967, 'most_recent_distractor_total': 22247, 'most_recent_distractor_curdomain': 20062, 'first correct only': 16002, 'both incorrect': 8126, 'some previous among past 100 correct': 7873, 'nth previous correct 1': 6649, 'next correct only': 2572, 'most_recent_distractor_some_prev_domain': 1936, 'nth previous correct 3': 809, 'most_recent_distractor_nextdomain': 249, 'newtab': 176, 'nth previous correct 2': 119, 'nth previous correct 22': 97, 'nth previous correct 4': 81, 'no match found': 77, 'nth previous correct 11': 62, 'nth previous correct 21': 31, 'nth previous correct 5': 16, 'nth previous correct 38': 4, 'nth previous correct 20': 2, 'nth previous correct 10': 2, 'nth previous correct 7': 1})\n",
      "sEFFqggDAp\n",
      "Counter({'total': 288480, 'first and next equal and correct': 130674, 'most_recent_distractor_total': 109877, 'most_recent_distractor_curdomain': 90755, 'first correct only': 87480, 'both incorrect': 49040, 'some previous among past 100 correct': 47394, 'nth previous correct 1': 31524, 'next correct only': 21286, 'most_recent_distractor_some_prev_domain': 15351, 'nth previous correct 2': 9588, 'most_recent_distractor_nextdomain': 3771, 'nth previous correct 3': 2568, 'nth previous correct 4': 1867, 'newtab': 1157, 'nth previous correct 14': 550, 'no match found': 489, 'nth previous correct 5': 448, 'nth previous correct 6': 284, 'nth previous correct 8': 122, 'nth previous correct 7': 92, 'nth previous correct 20': 49, 'nth previous correct 13': 44, 'nth previous correct 18': 42, 'nth previous correct 17': 33, 'nth previous correct 11': 28, 'nth previous correct 33': 24, 'nth previous correct 10': 23, 'nth previous correct 22': 17, 'nth previous correct 12': 14, 'nth previous correct 27': 13, 'nth previous correct 9': 13, 'nth previous correct 36': 8, 'nth previous correct 28': 7, 'nth previous correct 37': 7, 'nth previous correct 35': 5, 'nth previous correct 26': 4, 'nth previous correct 16': 4, 'nth previous correct 19': 4, 'nth previous correct 15': 3, 'nth previous correct 24': 2, 'nth previous correct 25': 2, 'nth previous correct 21': 2, 'nth previous correct 30': 1, 'nth previous correct 23': 1, 'nth previous correct 29': 1})\n",
      "fx8NZArV8y\n",
      "Counter({'total': 406696, 'first and next equal and correct': 190704, 'first correct only': 140569, 'both incorrect': 45722, 'some previous among past 100 correct': 44398, 'most_recent_distractor_total': 39630, 'most_recent_distractor_curdomain': 33321, 'next correct only': 29701, 'nth previous correct 1': 17636, 'nth previous correct 2': 7973, 'nth previous correct 3': 6009, 'most_recent_distractor_some_prev_domain': 4974, 'nth previous correct 4': 3309, 'nth previous correct 7': 2665, 'nth previous correct 6': 1685, 'most_recent_distractor_nextdomain': 1335, 'nth previous correct 5': 1201, 'newtab': 1037, 'nth previous correct 20': 981, 'nth previous correct 9': 944, 'nth previous correct 21': 759, 'no match found': 287, 'nth previous correct 8': 244, 'nth previous correct 11': 165, 'nth previous correct 18': 114, 'nth previous correct 19': 73, 'nth previous correct 41': 67, 'nth previous correct 32': 64, 'nth previous correct 29': 60, 'nth previous correct 12': 53, 'nth previous correct 22': 50, 'nth previous correct 10': 46, 'nth previous correct 23': 40, 'nth previous correct 39': 36, 'nth previous correct 31': 30, 'nth previous correct 13': 26, 'nth previous correct 14': 24, 'nth previous correct 27': 22, 'nth previous correct 25': 19, 'nth previous correct 26': 18, 'nth previous correct 74': 18, 'nth previous correct 17': 13, 'nth previous correct 16': 13, 'nth previous correct 34': 12, 'nth previous correct 42': 11, 'nth previous correct 28': 5, 'nth previous correct 15': 4, 'nth previous correct 54': 3, 'nth previous correct 24': 2, 'nth previous correct 36': 2, 'nth previous correct 30': 1, 'nth previous correct 56': 1})\n",
      "sXuYR7xPL2\n",
      "Counter({'total': 17489, 'first correct only': 9856, 'first and next equal and correct': 5668, 'most_recent_distractor_total': 4418, 'most_recent_distractor_curdomain': 3691, 'both incorrect': 1210, 'some previous among past 100 correct': 1158, 'nth previous correct 1': 800, 'next correct only': 755, 'most_recent_distractor_some_prev_domain': 661, 'nth previous correct 2': 315, 'most_recent_distractor_nextdomain': 66, 'newtab': 52, 'nth previous correct 3': 18, 'nth previous correct 10': 7, 'nth previous correct 5': 4, 'nth previous correct 6': 4, 'nth previous correct 18': 3, 'nth previous correct 7': 2, 'nth previous correct 9': 2, 'nth previous correct 4': 1, 'nth previous correct 11': 1, 'nth previous correct 19': 1})\n",
      "b3NWn44W69\n",
      "Counter({'total': 81663, 'first and next equal and correct': 43087, 'first correct only': 22302, 'most_recent_distractor_total': 17484, 'most_recent_distractor_curdomain': 15755, 'both incorrect': 11917, 'some previous among past 100 correct': 11363, 'nth previous correct 1': 5388, 'next correct only': 4357, 'nth previous correct 2': 1974, 'most_recent_distractor_some_prev_domain': 1501, 'nth previous correct 9': 904, 'nth previous correct 5': 539, 'nth previous correct 7': 480, 'nth previous correct 3': 431, 'nth previous correct 10': 418, 'nth previous correct 6': 371, 'nth previous correct 4': 364, 'newtab': 352, 'most_recent_distractor_nextdomain': 228, 'no match found': 202, 'nth previous correct 8': 200, 'nth previous correct 11': 130, 'nth previous correct 12': 98, 'nth previous correct 36': 19, 'nth previous correct 16': 13, 'nth previous correct 18': 8, 'nth previous correct 14': 5, 'nth previous correct 21': 4, 'nth previous correct 13': 4, 'nth previous correct 15': 4, 'nth previous correct 20': 3, 'nth previous correct 26': 2, 'nth previous correct 23': 2, 'nth previous correct 17': 2})\n",
      "IAm4ofgNKb\n",
      "Counter({'total': 118947, 'first and next equal and correct': 80018, 'first correct only': 31872, 'most_recent_distractor_total': 18310, 'most_recent_distractor_curdomain': 15459, 'both incorrect': 3596, 'next correct only': 3461, 'some previous among past 100 correct': 3244, 'most_recent_distractor_some_prev_domain': 2450, 'nth previous correct 1': 2364, 'most_recent_distractor_nextdomain': 401, 'nth previous correct 4': 356, 'newtab': 316, 'nth previous correct 3': 285, 'nth previous correct 2': 157, 'no match found': 36, 'nth previous correct 5': 29, 'nth previous correct 9': 17, 'nth previous correct 6': 10, 'nth previous correct 8': 6, 'nth previous correct 12': 6, 'nth previous correct 18': 4, 'nth previous correct 13': 3, 'nth previous correct 14': 3, 'nth previous correct 7': 2, 'nth previous correct 10': 1, 'nth previous correct 17': 1})\n",
      "8ngKlSW0Wv\n",
      "Counter({'total': 137811, 'first correct only': 43787, 'first and next equal and correct': 41214, 'both incorrect': 37666, 'some previous among past 100 correct': 35529, 'next correct only': 15144, 'most_recent_distractor_total': 15093, 'most_recent_distractor_curdomain': 12570, 'nth previous correct 1': 8415, 'nth previous correct 2': 6652, 'nth previous correct 3': 4605, 'nth previous correct 6': 3580, 'nth previous correct 4': 3354, 'nth previous correct 5': 3043, 'newtab': 1951, 'nth previous correct 7': 1880, 'most_recent_distractor_some_prev_domain': 1869, 'nth previous correct 10': 1256, 'nth previous correct 9': 885, 'nth previous correct 8': 877, 'most_recent_distractor_nextdomain': 654, 'nth previous correct 12': 397, 'nth previous correct 11': 346, 'no match found': 186, 'nth previous correct 15': 154, 'nth previous correct 13': 64, 'nth previous correct 14': 13, 'nth previous correct 17': 3, 'nth previous correct 16': 3, 'nth previous correct 26': 1, 'nth previous correct 75': 1})\n",
      "MLancLTOqE\n",
      "Counter({'total': 374730, 'both incorrect': 140247, 'some previous among past 100 correct': 138283, 'first and next equal and correct': 121654, 'most_recent_distractor_total': 120960, 'most_recent_distractor_curdomain': 108473, 'first correct only': 92948, 'nth previous correct 1': 75611, 'nth previous correct 2': 28428, 'next correct only': 19881, 'nth previous correct 3': 13814, 'most_recent_distractor_some_prev_domain': 9654, 'nth previous correct 6': 6631, 'nth previous correct 4': 4238, 'most_recent_distractor_nextdomain': 2833, 'nth previous correct 5': 2799, 'nth previous correct 7': 1413, 'newtab': 1228, 'nth previous correct 8': 807, 'nth previous correct 62': 741, 'no match found': 736, 'nth previous correct 17': 615, 'nth previous correct 18': 537, 'nth previous correct 14': 425, 'nth previous correct 11': 385, 'nth previous correct 10': 301, 'nth previous correct 27': 272, 'nth previous correct 16': 217, 'nth previous correct 19': 206, 'nth previous correct 9': 197, 'nth previous correct 15': 89, 'nth previous correct 25': 77, 'nth previous correct 12': 75, 'nth previous correct 29': 69, 'nth previous correct 28': 64, 'nth previous correct 20': 53, 'nth previous correct 22': 49, 'nth previous correct 13': 34, 'nth previous correct 42': 23, 'nth previous correct 31': 21, 'nth previous correct 23': 19, 'nth previous correct 24': 17, 'nth previous correct 21': 16, 'nth previous correct 26': 8, 'nth previous correct 34': 8, 'nth previous correct 32': 8, 'nth previous correct 30': 6, 'nth previous correct 61': 2, 'nth previous correct 44': 2, 'nth previous correct 36': 2, 'nth previous correct 33': 1, 'nth previous correct 39': 1, 'nth previous correct 37': 1, 'nth previous correct 40': 1})\n",
      "r6qiC7PoI1\n",
      "Counter({'total': 266404, 'most_recent_distractor_total': 161842, 'first and next equal and correct': 159167, 'most_recent_distractor_curdomain': 154260, 'both incorrect': 54306, 'some previous among past 100 correct': 52217, 'first correct only': 37111, 'nth previous correct 1': 21938, 'next correct only': 15820, 'nth previous correct 2': 12906, 'nth previous correct 3': 8805, 'most_recent_distractor_some_prev_domain': 6037, 'nth previous correct 4': 4592, 'most_recent_distractor_nextdomain': 1545, 'nth previous correct 5': 1406, 'newtab': 1053, 'no match found': 1036, 'nth previous correct 8': 703, 'nth previous correct 6': 689, 'nth previous correct 7': 585, 'nth previous correct 11': 213, 'nth previous correct 10': 169, 'nth previous correct 9': 112, 'nth previous correct 13': 29, 'nth previous correct 12': 21, 'nth previous correct 20': 12, 'nth previous correct 23': 6, 'nth previous correct 14': 6, 'nth previous correct 17': 6, 'nth previous correct 92': 4, 'nth previous correct 25': 3, 'nth previous correct 18': 3, 'nth previous correct 70': 3, 'nth previous correct 47': 2, 'nth previous correct 26': 1, 'nth previous correct 57': 1, 'nth previous correct 15': 1, 'nth previous correct 32': 1})\n",
      "nYeXJLKoUm\n",
      "Counter({'total': 713731, 'most_recent_distractor_total': 344161, 'first and next equal and correct': 320852, 'most_recent_distractor_curdomain': 285270, 'first correct only': 219722, 'both incorrect': 99558, 'some previous among past 100 correct': 93466, 'next correct only': 73599, 'most_recent_distractor_some_prev_domain': 52606, 'nth previous correct 1': 45324, 'nth previous correct 2': 20927, 'nth previous correct 3': 10508, 'nth previous correct 4': 7996, 'most_recent_distractor_nextdomain': 6285, 'newtab': 5452, 'nth previous correct 5': 2495, 'nth previous correct 7': 1713, 'nth previous correct 8': 908, 'nth previous correct 6': 865, 'no match found': 640, 'nth previous correct 9': 562, 'nth previous correct 10': 548, 'nth previous correct 12': 472, 'nth previous correct 11': 206, 'nth previous correct 15': 201, 'nth previous correct 27': 116, 'nth previous correct 20': 115, 'nth previous correct 17': 112, 'nth previous correct 14': 88, 'nth previous correct 40': 86, 'nth previous correct 13': 57, 'nth previous correct 16': 27, 'nth previous correct 19': 23, 'nth previous correct 23': 21, 'nth previous correct 21': 19, 'nth previous correct 18': 18, 'nth previous correct 25': 13, 'nth previous correct 34': 10, 'nth previous correct 37': 10, 'nth previous correct 24': 9, 'nth previous correct 26': 7, 'nth previous correct 41': 7, 'nth previous correct 28': 3})\n",
      "dwBGfodTyh\n",
      "Counter({'total': 194294, 'first and next equal and correct': 112087, 'both incorrect': 38881, 'some previous among past 100 correct': 37637, 'first correct only': 35193, 'nth previous correct 1': 20783, 'most_recent_distractor_total': 14176, 'next correct only': 8133, 'nth previous correct 2': 7593, 'most_recent_distractor_curdomain': 7195, 'most_recent_distractor_nextdomain': 5358, 'nth previous correct 5': 3407, 'nth previous correct 3': 2622, 'most_recent_distractor_some_prev_domain': 1623, 'nth previous correct 11': 1151, 'newtab': 1056, 'nth previous correct 6': 476, 'nth previous correct 8': 427, 'nth previous correct 4': 424, 'nth previous correct 10': 217, 'no match found': 188, 'nth previous correct 7': 113, 'nth previous correct 13': 94, 'nth previous correct 12': 75, 'nth previous correct 18': 70, 'nth previous correct 32': 39, 'nth previous correct 9': 31, 'nth previous correct 14': 25, 'nth previous correct 33': 19, 'nth previous correct 25': 12, 'nth previous correct 20': 10, 'nth previous correct 19': 10, 'nth previous correct 17': 9, 'nth previous correct 29': 8, 'nth previous correct 15': 8, 'nth previous correct 24': 6, 'nth previous correct 21': 3, 'nth previous correct 23': 2, 'nth previous correct 16': 2, 'nth previous correct 79': 1})\n",
      "2e7ex5t0MT\n",
      "Counter({'total': 124217, 'both incorrect': 49581, 'some previous among past 100 correct': 47303, 'first and next equal and correct': 39085, 'most_recent_distractor_total': 35283, 'first correct only': 27640, 'most_recent_distractor_curdomain': 25832, 'nth previous correct 1': 15979, 'nth previous correct 2': 9200, 'most_recent_distractor_some_prev_domain': 7935, 'next correct only': 7911, 'nth previous correct 3': 5400, 'nth previous correct 4': 3646, 'nth previous correct 7': 2147, 'nth previous correct 5': 1951, 'nth previous correct 6': 1698, 'most_recent_distractor_nextdomain': 1516, 'no match found': 1453, 'nth previous correct 39': 957, 'newtab': 825, 'nth previous correct 13': 557, 'nth previous correct 17': 491, 'nth previous correct 45': 463, 'nth previous correct 10': 453, 'nth previous correct 24': 407, 'nth previous correct 8': 328, 'nth previous correct 44': 303, 'nth previous correct 9': 237, 'nth previous correct 16': 237, 'nth previous correct 51': 224, 'nth previous correct 77': 201, 'nth previous correct 23': 200, 'nth previous correct 53': 182, 'nth previous correct 11': 154, 'nth previous correct 12': 148, 'nth previous correct 68': 142, 'nth previous correct 22': 132, 'nth previous correct 69': 129, 'nth previous correct 78': 125, 'nth previous correct 38': 112, 'nth previous correct 27': 98, 'nth previous correct 58': 78, 'nth previous correct 43': 76, 'nth previous correct 30': 70, 'nth previous correct 72': 69, 'nth previous correct 89': 66, 'nth previous correct 47': 56, 'nth previous correct 40': 43, 'nth previous correct 67': 40, 'nth previous correct 21': 40, 'nth previous correct 15': 34, 'nth previous correct 70': 34, 'nth previous correct 31': 26, 'nth previous correct 34': 23, 'nth previous correct 32': 23, 'nth previous correct 76': 23, 'nth previous correct 26': 21, 'nth previous correct 20': 21, 'nth previous correct 50': 20, 'nth previous correct 14': 19, 'nth previous correct 33': 18, 'nth previous correct 61': 16, 'nth previous correct 59': 16, 'nth previous correct 48': 16, 'nth previous correct 36': 15, 'nth previous correct 28': 14, 'nth previous correct 19': 14, 'nth previous correct 54': 11, 'nth previous correct 35': 11, 'nth previous correct 18': 11, 'nth previous correct 71': 10, 'nth previous correct 55': 8, 'nth previous correct 42': 7, 'nth previous correct 37': 6, 'nth previous correct 46': 6, 'nth previous correct 25': 6, 'nth previous correct 57': 5, 'nth previous correct 41': 5, 'nth previous correct 49': 5, 'nth previous correct 66': 3, 'nth previous correct 56': 3, 'nth previous correct 52': 3, 'nth previous correct 84': 3, 'nth previous correct 63': 2, 'nth previous correct 29': 2, 'nth previous correct 64': 1, 'nth previous correct 60': 1, 'nth previous correct 96': 1, 'nth previous correct 83': 1})\n",
      "MUHeUeRBTJ\n",
      "Counter({'total': 284935, 'first and next equal and correct': 107503, 'first correct only': 74340, 'both incorrect': 73118, 'some previous among past 100 correct': 69433, 'most_recent_distractor_total': 46328, 'most_recent_distractor_curdomain': 32037, 'next correct only': 29974, 'nth previous correct 1': 29744, 'nth previous correct 2': 16873, 'most_recent_distractor_some_prev_domain': 10155, 'nth previous correct 3': 9197, 'most_recent_distractor_nextdomain': 4136, 'nth previous correct 4': 3943, 'no match found': 2819, 'nth previous correct 6': 2592, 'nth previous correct 5': 2413, 'nth previous correct 7': 1168, 'newtab': 866, 'nth previous correct 9': 531, 'nth previous correct 8': 411, 'nth previous correct 11': 401, 'nth previous correct 15': 336, 'nth previous correct 52': 314, 'nth previous correct 12': 268, 'nth previous correct 10': 229, 'nth previous correct 19': 206, 'nth previous correct 16': 197, 'nth previous correct 57': 80, 'nth previous correct 51': 68, 'nth previous correct 43': 68, 'nth previous correct 53': 42, 'nth previous correct 14': 42, 'nth previous correct 13': 36, 'nth previous correct 18': 35, 'nth previous correct 41': 34, 'nth previous correct 96': 27, 'nth previous correct 17': 23, 'nth previous correct 38': 23, 'nth previous correct 66': 17, 'nth previous correct 29': 16, 'nth previous correct 67': 14, 'nth previous correct 39': 13, 'nth previous correct 21': 10, 'nth previous correct 63': 10, 'nth previous correct 65': 10, 'nth previous correct 36': 9, 'nth previous correct 28': 8, 'nth previous correct 31': 5, 'nth previous correct 20': 5, 'nth previous correct 60': 4, 'nth previous correct 61': 3, 'nth previous correct 64': 3, 'nth previous correct 24': 2, 'nth previous correct 33': 2, 'nth previous correct 37': 1})\n",
      "khps2gAfwV\n",
      "Counter({'total': 99264, 'most_recent_distractor_total': 37659, 'first correct only': 30652, 'both incorrect': 29248, 'first and next equal and correct': 28914, 'some previous among past 100 correct': 28619, 'most_recent_distractor_some_prev_domain': 17716, 'most_recent_distractor_curdomain': 17586, 'next correct only': 10450, 'nth previous correct 1': 6119, 'nth previous correct 3': 4794, 'nth previous correct 2': 4292, 'nth previous correct 4': 3435, 'most_recent_distractor_nextdomain': 2357, 'nth previous correct 5': 1966, 'nth previous correct 9': 1384, 'nth previous correct 7': 1334, 'nth previous correct 21': 1196, 'nth previous correct 8': 868, 'nth previous correct 6': 753, 'newtab': 592, 'nth previous correct 19': 496, 'nth previous correct 11': 474, 'nth previous correct 10': 363, 'nth previous correct 28': 229, 'nth previous correct 24': 219, 'nth previous correct 12': 190, 'nth previous correct 22': 157, 'nth previous correct 14': 145, 'nth previous correct 13': 144, 'no match found': 37, 'nth previous correct 15': 19, 'nth previous correct 25': 16, 'nth previous correct 20': 13, 'nth previous correct 18': 5, 'nth previous correct 16': 3, 'nth previous correct 31': 2, 'nth previous correct 17': 1, 'nth previous correct 32': 1, 'nth previous correct 36': 1})\n",
      "qgV6lFlkSa\n",
      "Counter({'total': 144151, 'most_recent_distractor_total': 63336, 'first and next equal and correct': 62288, 'most_recent_distractor_curdomain': 55275, 'first correct only': 41477, 'both incorrect': 29172, 'some previous among past 100 correct': 26967, 'next correct only': 11214, 'most_recent_distractor_some_prev_domain': 7080, 'nth previous correct 1': 5839, 'nth previous correct 3': 3410, 'nth previous correct 2': 2434, 'no match found': 1975, 'nth previous correct 15': 1811, 'nth previous correct 5': 1273, 'nth previous correct 9': 1263, 'nth previous correct 4': 1128, 'nth previous correct 59': 986, 'nth previous correct 11': 982, 'most_recent_distractor_nextdomain': 981, 'nth previous correct 6': 636, 'nth previous correct 8': 616, 'nth previous correct 12': 608, 'nth previous correct 16': 558, 'nth previous correct 71': 509, 'nth previous correct 29': 457, 'nth previous correct 79': 412, 'nth previous correct 68': 404, 'nth previous correct 27': 395, 'nth previous correct 10': 375, 'nth previous correct 47': 352, 'nth previous correct 18': 323, 'nth previous correct 20': 266, 'newtab': 230, 'nth previous correct 22': 219, 'nth previous correct 26': 209, 'nth previous correct 42': 203, 'nth previous correct 39': 199, 'nth previous correct 61': 183, 'nth previous correct 40': 139, 'nth previous correct 7': 135, 'nth previous correct 49': 134, 'nth previous correct 19': 133, 'nth previous correct 31': 131, 'nth previous correct 28': 82, 'nth previous correct 23': 73, 'nth previous correct 14': 30, 'nth previous correct 82': 13, 'nth previous correct 21': 8, 'nth previous correct 70': 7, 'nth previous correct 48': 6, 'nth previous correct 43': 5, 'nth previous correct 32': 5, 'nth previous correct 38': 4, 'nth previous correct 35': 3, 'nth previous correct 13': 2, 'nth previous correct 41': 2, 'nth previous correct 69': 2, 'nth previous correct 17': 1, 'nth previous correct 30': 1, 'nth previous correct 25': 1})\n",
      "ZiXJx6z1Rl\n",
      "Counter({'total': 31031, 'first correct only': 10755, 'first and next equal and correct': 10456, 'most_recent_distractor_total': 9177, 'most_recent_distractor_curdomain': 8194, 'both incorrect': 7320, 'some previous among past 100 correct': 6640, 'nth previous correct 1': 2839, 'next correct only': 2500, 'nth previous correct 2': 1750, 'nth previous correct 3': 969, 'most_recent_distractor_some_prev_domain': 897, 'no match found': 437, 'nth previous correct 7': 392, 'nth previous correct 4': 245, 'newtab': 243, 'nth previous correct 19': 106, 'nth previous correct 13': 96, 'most_recent_distractor_nextdomain': 86, 'nth previous correct 16': 78, 'nth previous correct 5': 64, 'nth previous correct 10': 31, 'nth previous correct 14': 23, 'nth previous correct 11': 13, 'nth previous correct 18': 13, 'nth previous correct 6': 11, 'nth previous correct 12': 6, 'nth previous correct 9': 2, 'nth previous correct 15': 2})\n",
      "60qS4pDWkC\n",
      "Counter({'total': 103795, 'first correct only': 54194, 'first and next equal and correct': 31542, 'most_recent_distractor_total': 21839, 'most_recent_distractor_curdomain': 17991, 'both incorrect': 15515, 'some previous among past 100 correct': 14053, 'nth previous correct 1': 6702, 'nth previous correct 2': 4567, 'most_recent_distractor_some_prev_domain': 3028, 'next correct only': 2544, 'newtab': 860, 'nth previous correct 3': 832, 'most_recent_distractor_nextdomain': 820, 'no match found': 602, 'nth previous correct 5': 602, 'nth previous correct 4': 392, 'nth previous correct 28': 342, 'nth previous correct 34': 288, 'nth previous correct 100': 175, 'nth previous correct 9': 68, 'nth previous correct 15': 54, 'nth previous correct 7': 7, 'nth previous correct 11': 6, 'nth previous correct 14': 6, 'nth previous correct 8': 4, 'nth previous correct 20': 3, 'nth previous correct 10': 3, 'nth previous correct 6': 2})\n",
      "S6XIUa9DJ8\n",
      "Counter({'total': 228130, 'most_recent_distractor_total': 103878, 'most_recent_distractor_curdomain': 93968, 'first and next equal and correct': 86789, 'both incorrect': 72300, 'some previous among past 100 correct': 71462, 'first correct only': 54408, 'nth previous correct 1': 25104, 'nth previous correct 2': 24583, 'next correct only': 14633, 'most_recent_distractor_some_prev_domain': 8686, 'nth previous correct 4': 6407, 'nth previous correct 3': 4068, 'nth previous correct 7': 2459, 'nth previous correct 5': 1913, 'nth previous correct 21': 1597, 'nth previous correct 11': 1365, 'nth previous correct 12': 1252, 'most_recent_distractor_nextdomain': 1224, 'nth previous correct 15': 919, 'newtab': 706, 'nth previous correct 20': 523, 'nth previous correct 6': 312, 'nth previous correct 16': 279, 'nth previous correct 22': 237, 'nth previous correct 8': 136, 'no match found': 132, 'nth previous correct 10': 95, 'nth previous correct 17': 64, 'nth previous correct 23': 26, 'nth previous correct 18': 26, 'nth previous correct 9': 24, 'nth previous correct 26': 20, 'nth previous correct 14': 20, 'nth previous correct 25': 13, 'nth previous correct 13': 9, 'nth previous correct 24': 4, 'nth previous correct 19': 3, 'nth previous correct 51': 2, 'nth previous correct 86': 1, 'nth previous correct 85': 1})\n",
      "ZXWhHg9RZG\n",
      "Counter({'total': 235832, 'first and next equal and correct': 128988, 'first correct only': 69476, 'most_recent_distractor_total': 67923, 'most_recent_distractor_curdomain': 58130, 'both incorrect': 24439, 'some previous among past 100 correct': 23798, 'nth previous correct 1': 14388, 'next correct only': 12929, 'most_recent_distractor_some_prev_domain': 7470, 'nth previous correct 2': 4698, 'most_recent_distractor_nextdomain': 2323, 'nth previous correct 3': 1571, 'nth previous correct 4': 829, 'nth previous correct 6': 696, 'nth previous correct 5': 680, 'newtab': 504, 'nth previous correct 8': 199, 'nth previous correct 7': 198, 'no match found': 137, 'nth previous correct 13': 110, 'nth previous correct 11': 73, 'nth previous correct 10': 72, 'nth previous correct 15': 65, 'nth previous correct 9': 56, 'nth previous correct 14': 49, 'nth previous correct 12': 28, 'nth previous correct 67': 19, 'nth previous correct 17': 14, 'nth previous correct 18': 14, 'nth previous correct 24': 11, 'nth previous correct 20': 9, 'nth previous correct 28': 6, 'nth previous correct 19': 4, 'nth previous correct 22': 3, 'nth previous correct 29': 3, 'nth previous correct 52': 1, 'nth previous correct 35': 1, 'nth previous correct 80': 1})\n",
      "YV8FroJtoa\n",
      "Counter({'total': 101126, 'first and next equal and correct': 43951, 'first correct only': 34402, 'both incorrect': 16090, 'some previous among past 100 correct': 15490, 'most_recent_distractor_total': 10853, 'most_recent_distractor_curdomain': 9841, 'next correct only': 6683, 'nth previous correct 2': 5968, 'nth previous correct 1': 5417, 'nth previous correct 3': 1929, 'nth previous correct 4': 1023, 'most_recent_distractor_some_prev_domain': 944, 'no match found': 559, 'nth previous correct 11': 255, 'nth previous correct 5': 161, 'nth previous correct 8': 155, 'nth previous correct 6': 129, 'nth previous correct 12': 101, 'nth previous correct 17': 98, 'nth previous correct 7': 83, 'nth previous correct 10': 73, 'most_recent_distractor_nextdomain': 68, 'nth previous correct 9': 48, 'newtab': 41, 'nth previous correct 16': 37, 'nth previous correct 13': 6, 'nth previous correct 15': 4, 'nth previous correct 14': 2, 'nth previous correct 23': 1})\n",
      "LkAJvBy8fA\n",
      "Counter({'total': 52094, 'first and next equal and correct': 23427, 'first correct only': 14207, 'most_recent_distractor_total': 8465, 'both incorrect': 8451, 'some previous among past 100 correct': 8220, 'most_recent_distractor_curdomain': 6470, 'next correct only': 6009, 'nth previous correct 1': 2689, 'most_recent_distractor_some_prev_domain': 1865, 'nth previous correct 2': 1555, 'nth previous correct 6': 1378, 'nth previous correct 3': 1161, 'nth previous correct 7': 280, 'nth previous correct 4': 247, 'nth previous correct 5': 223, 'nth previous correct 10': 212, 'nth previous correct 11': 197, 'newtab': 191, 'most_recent_distractor_nextdomain': 130, 'nth previous correct 12': 127, 'nth previous correct 18': 65, 'no match found': 40, 'nth previous correct 8': 36, 'nth previous correct 9': 27, 'nth previous correct 13': 10, 'nth previous correct 24': 6, 'nth previous correct 15': 4, 'nth previous correct 17': 3})\n",
      "XyJ4fbLuxp\n",
      "Counter({'total': 157886, 'first and next equal and correct': 68834, 'first correct only': 49435, 'most_recent_distractor_total': 32598, 'both incorrect': 30647, 'some previous among past 100 correct': 29487, 'most_recent_distractor_curdomain': 28427, 'nth previous correct 1': 12714, 'next correct only': 8970, 'nth previous correct 2': 4155, 'most_recent_distractor_some_prev_domain': 3187, 'nth previous correct 13': 2202, 'nth previous correct 3': 1642, 'nth previous correct 5': 1631, 'nth previous correct 4': 1067, 'most_recent_distractor_nextdomain': 984, 'nth previous correct 15': 911, 'nth previous correct 10': 900, 'nth previous correct 7': 800, 'nth previous correct 6': 709, 'newtab': 674, 'nth previous correct 12': 537, 'nth previous correct 8': 509, 'nth previous correct 9': 506, 'no match found': 486, 'nth previous correct 25': 330, 'nth previous correct 11': 185, 'nth previous correct 18': 141, 'nth previous correct 24': 93, 'nth previous correct 17': 84, 'nth previous correct 21': 79, 'nth previous correct 38': 63, 'nth previous correct 20': 61, 'nth previous correct 22': 39, 'nth previous correct 14': 36, 'nth previous correct 16': 31, 'nth previous correct 29': 24, 'nth previous correct 33': 13, 'nth previous correct 32': 8, 'nth previous correct 19': 5, 'nth previous correct 27': 4, 'nth previous correct 39': 3, 'nth previous correct 40': 2, 'nth previous correct 30': 1, 'nth previous correct 28': 1, 'nth previous correct 41': 1})\n",
      "VXKLcUCkFv\n",
      "Counter({'total': 173356, 'first and next equal and correct': 87193, 'first correct only': 66771, 'most_recent_distractor_total': 64126, 'most_recent_distractor_curdomain': 56145, 'both incorrect': 13488, 'some previous among past 100 correct': 12959, 'most_recent_distractor_some_prev_domain': 7544, 'next correct only': 5904, 'nth previous correct 1': 5274, 'nth previous correct 2': 4419, 'nth previous correct 3': 1077, 'nth previous correct 5': 615, 'nth previous correct 4': 546, 'nth previous correct 10': 474, 'most_recent_distractor_nextdomain': 437, 'no match found': 356, 'nth previous correct 6': 275, 'newtab': 173, 'nth previous correct 7': 164, 'nth previous correct 17': 53, 'nth previous correct 9': 21, 'nth previous correct 11': 14, 'nth previous correct 8': 11, 'nth previous correct 22': 9, 'nth previous correct 56': 4, 'nth previous correct 23': 1, 'nth previous correct 55': 1, 'nth previous correct 41': 1})\n",
      "Re25RopoXx\n",
      "Counter({'total': 135521, 'most_recent_distractor_total': 104261, 'first and next equal and correct': 100413, 'most_recent_distractor_curdomain': 89112, 'first correct only': 17639, 'both incorrect': 12518, 'some previous among past 100 correct': 12252, 'nth previous correct 1': 11847, 'most_recent_distractor_nextdomain': 11097, 'next correct only': 4951, 'most_recent_distractor_some_prev_domain': 4052, 'newtab': 227, 'nth previous correct 2': 128, 'nth previous correct 3': 85, 'nth previous correct 5': 65, 'nth previous correct 4': 49, 'nth previous correct 6': 48, 'no match found': 39, 'nth previous correct 7': 18, 'nth previous correct 15': 6, 'nth previous correct 9': 2, 'nth previous correct 20': 1, 'nth previous correct 21': 1, 'nth previous correct 8': 1, 'nth previous correct 35': 1})\n",
      "BuBH95V40k\n",
      "Counter({'total': 679139, 'most_recent_distractor_total': 292745, 'first correct only': 223549, 'first and next equal and correct': 215170, 'most_recent_distractor_curdomain': 184578, 'both incorrect': 156629, 'some previous among past 100 correct': 153650, 'next correct only': 83791, 'most_recent_distractor_some_prev_domain': 83051, 'nth previous correct 1': 57712, 'nth previous correct 2': 25971, 'most_recent_distractor_nextdomain': 25116, 'nth previous correct 3': 21173, 'nth previous correct 4': 5145, 'nth previous correct 5': 4897, 'nth previous correct 10': 4046, 'nth previous correct 9': 3789, 'nth previous correct 8': 3128, 'nth previous correct 6': 2781, 'nth previous correct 7': 2543, 'no match found': 2380, 'nth previous correct 16': 2158, 'nth previous correct 15': 1817, 'nth previous correct 11': 1591, 'nth previous correct 30': 1470, 'nth previous correct 20': 1332, 'nth previous correct 39': 1081, 'nth previous correct 13': 1021, 'nth previous correct 18': 907, 'nth previous correct 27': 830, 'nth previous correct 14': 740, 'nth previous correct 12': 733, 'nth previous correct 23': 722, 'nth previous correct 17': 604, 'newtab': 599, 'nth previous correct 19': 441, 'nth previous correct 22': 388, 'nth previous correct 25': 378, 'nth previous correct 37': 323, 'nth previous correct 36': 318, 'nth previous correct 31': 308, 'nth previous correct 21': 300, 'nth previous correct 24': 299, 'nth previous correct 41': 279, 'nth previous correct 44': 278, 'nth previous correct 42': 275, 'nth previous correct 38': 271, 'nth previous correct 35': 264, 'nth previous correct 40': 258, 'nth previous correct 32': 193, 'nth previous correct 26': 161, 'nth previous correct 29': 153, 'nth previous correct 61': 147, 'nth previous correct 28': 136, 'nth previous correct 33': 129, 'nth previous correct 43': 125, 'nth previous correct 53': 122, 'nth previous correct 64': 119, 'nth previous correct 34': 117, 'nth previous correct 52': 112, 'nth previous correct 57': 104, 'nth previous correct 63': 100, 'nth previous correct 70': 100, 'nth previous correct 60': 97, 'nth previous correct 55': 91, 'nth previous correct 59': 88, 'nth previous correct 54': 79, 'nth previous correct 56': 75, 'nth previous correct 58': 74, 'nth previous correct 48': 70, 'nth previous correct 62': 67, 'nth previous correct 45': 58, 'nth previous correct 46': 54, 'nth previous correct 50': 53, 'nth previous correct 51': 49, 'nth previous correct 49': 49, 'nth previous correct 47': 44, 'nth previous correct 93': 41, 'nth previous correct 95': 37, 'nth previous correct 66': 31, 'nth previous correct 83': 27, 'nth previous correct 76': 19, 'nth previous correct 84': 19, 'nth previous correct 96': 18, 'nth previous correct 85': 17, 'nth previous correct 99': 12, 'nth previous correct 68': 10, 'nth previous correct 69': 9, 'nth previous correct 78': 9, 'nth previous correct 73': 9, 'nth previous correct 87': 7, 'nth previous correct 67': 6, 'nth previous correct 80': 5, 'nth previous correct 89': 5, 'nth previous correct 74': 4, 'nth previous correct 98': 3, 'nth previous correct 91': 3, 'nth previous correct 92': 3, 'nth previous correct 88': 3, 'nth previous correct 65': 2, 'nth previous correct 90': 2, 'nth previous correct 94': 2, 'nth previous correct 72': 2, 'nth previous correct 71': 2, 'nth previous correct 75': 2, 'nth previous correct 79': 1, 'nth previous correct 77': 1, 'nth previous correct 86': 1, 'nth previous correct 81': 1})\n",
      "ol9VMVbVHN\n",
      "Counter({'total': 234958, 'most_recent_distractor_total': 115988, 'first and next equal and correct': 109289, 'most_recent_distractor_curdomain': 97647, 'both incorrect': 53372, 'some previous among past 100 correct': 52472, 'first correct only': 52430, 'nth previous correct 1': 45011, 'next correct only': 19867, 'most_recent_distractor_some_prev_domain': 15798, 'nth previous correct 2': 3695, 'most_recent_distractor_nextdomain': 2543, 'nth previous correct 5': 1817, 'nth previous correct 3': 948, 'newtab': 518, 'nth previous correct 7': 493, 'no match found': 382, 'nth previous correct 4': 252, 'nth previous correct 19': 59, 'nth previous correct 8': 45, 'nth previous correct 49': 29, 'nth previous correct 6': 26, 'nth previous correct 9': 20, 'nth previous correct 47': 12, 'nth previous correct 11': 10, 'nth previous correct 10': 9, 'nth previous correct 14': 8, 'nth previous correct 17': 6, 'nth previous correct 44': 4, 'nth previous correct 34': 3, 'nth previous correct 75': 3, 'nth previous correct 48': 3, 'nth previous correct 25': 2, 'nth previous correct 56': 2, 'nth previous correct 36': 2, 'nth previous correct 16': 2, 'nth previous correct 18': 2, 'nth previous correct 76': 2, 'nth previous correct 62': 1, 'nth previous correct 99': 1, 'nth previous correct 15': 1, 'nth previous correct 77': 1, 'nth previous correct 38': 1, 'nth previous correct 46': 1, 'nth previous correct 12': 1})\n",
      "7fg6XHTfAp\n",
      "Counter({'total': 155618, 'most_recent_distractor_total': 114998, 'most_recent_distractor_curdomain': 107993, 'first and next equal and correct': 107969, 'first correct only': 24729, 'both incorrect': 14409, 'some previous among past 100 correct': 13907, 'next correct only': 8511, 'nth previous correct 1': 8148, 'most_recent_distractor_some_prev_domain': 5457, 'nth previous correct 2': 3475, 'most_recent_distractor_nextdomain': 1548, 'nth previous correct 3': 1279, 'nth previous correct 4': 392, 'newtab': 351, 'no match found': 151, 'nth previous correct 5': 116, 'nth previous correct 11': 100, 'nth previous correct 9': 88, 'nth previous correct 6': 86, 'nth previous correct 7': 53, 'nth previous correct 12': 50, 'nth previous correct 16': 37, 'nth previous correct 10': 27, 'nth previous correct 8': 26, 'nth previous correct 14': 12, 'nth previous correct 13': 7, 'nth previous correct 15': 7, 'nth previous correct 48': 3, 'nth previous correct 17': 1})\n",
      "c4se1PqOgx\n",
      "Counter({'total': 47930, 'most_recent_distractor_total': 39961, 'most_recent_distractor_curdomain': 35984, 'first and next equal and correct': 30356, 'first correct only': 10897, 'next correct only': 4014, 'most_recent_distractor_some_prev_domain': 3439, 'both incorrect': 2663, 'some previous among past 100 correct': 2376, 'nth previous correct 1': 1572, 'nth previous correct 2': 634, 'most_recent_distractor_nextdomain': 538, 'newtab': 221, 'nth previous correct 3': 67, 'no match found': 66, 'nth previous correct 5': 47, 'nth previous correct 7': 19, 'nth previous correct 4': 17, 'nth previous correct 8': 14, 'nth previous correct 6': 6})\n",
      "ZHflKVDwN1\n",
      "Counter({'total': 243208, 'first and next equal and correct': 133351, 'most_recent_distractor_total': 127304, 'most_recent_distractor_curdomain': 115092, 'first correct only': 63201, 'both incorrect': 31022, 'some previous among past 100 correct': 29684, 'next correct only': 15634, 'most_recent_distractor_some_prev_domain': 11511, 'nth previous correct 1': 11360, 'nth previous correct 2': 7123, 'nth previous correct 3': 2624, 'nth previous correct 4': 1883, 'nth previous correct 5': 1791, 'newtab': 1182, 'nth previous correct 7': 1177, 'nth previous correct 6': 1089, 'most_recent_distractor_nextdomain': 701, 'nth previous correct 8': 478, 'nth previous correct 11': 426, 'nth previous correct 10': 424, 'nth previous correct 15': 194, 'nth previous correct 16': 171, 'nth previous correct 18': 170, 'nth previous correct 9': 160, 'no match found': 156, 'nth previous correct 12': 123, 'nth previous correct 14': 86, 'nth previous correct 20': 80, 'nth previous correct 17': 80, 'nth previous correct 24': 72, 'nth previous correct 13': 71, 'nth previous correct 21': 37, 'nth previous correct 19': 36, 'nth previous correct 22': 21, 'nth previous correct 23': 4, 'nth previous correct 41': 2, 'nth previous correct 87': 2})\n",
      "I7pqdKa4NJ\n",
      "Counter({'total': 471658, 'most_recent_distractor_total': 311342, 'most_recent_distractor_curdomain': 297982, 'first and next equal and correct': 293551, 'first correct only': 146239, 'next correct only': 16324, 'both incorrect': 15544, 'some previous among past 100 correct': 15019, 'most_recent_distractor_some_prev_domain': 11100, 'nth previous correct 1': 6982, 'nth previous correct 2': 2346, 'most_recent_distractor_nextdomain': 2260, 'nth previous correct 3': 1473, 'nth previous correct 5': 859, 'nth previous correct 6': 606, 'nth previous correct 4': 592, 'nth previous correct 7': 383, 'newtab': 292, 'nth previous correct 10': 259, 'nth previous correct 9': 248, 'nth previous correct 33': 238, 'no match found': 233, 'nth previous correct 11': 181, 'nth previous correct 30': 161, 'nth previous correct 12': 113, 'nth previous correct 8': 91, 'nth previous correct 24': 80, 'nth previous correct 37': 51, 'nth previous correct 17': 29, 'nth previous correct 20': 23, 'nth previous correct 21': 23, 'nth previous correct 93': 19, 'nth previous correct 13': 19, 'nth previous correct 14': 17, 'nth previous correct 41': 14, 'nth previous correct 16': 13, 'nth previous correct 38': 12, 'nth previous correct 23': 11, 'nth previous correct 29': 11, 'nth previous correct 83': 10, 'nth previous correct 15': 9, 'nth previous correct 70': 9, 'nth previous correct 19': 8, 'nth previous correct 74': 6, 'nth previous correct 34': 6, 'nth previous correct 32': 6, 'nth previous correct 80': 6, 'nth previous correct 22': 5, 'nth previous correct 98': 5, 'nth previous correct 92': 5, 'nth previous correct 75': 5, 'nth previous correct 44': 5, 'nth previous correct 55': 4, 'nth previous correct 50': 4, 'nth previous correct 35': 4, 'nth previous correct 79': 4, 'nth previous correct 18': 4, 'nth previous correct 47': 4, 'nth previous correct 36': 4, 'nth previous correct 45': 4, 'nth previous correct 49': 3, 'nth previous correct 61': 3, 'nth previous correct 28': 3, 'nth previous correct 60': 3, 'nth previous correct 53': 3, 'nth previous correct 31': 3, 'nth previous correct 88': 3, 'nth previous correct 72': 2, 'nth previous correct 25': 2, 'nth previous correct 26': 2, 'nth previous correct 27': 2, 'nth previous correct 97': 2, 'nth previous correct 68': 2, 'nth previous correct 76': 2, 'nth previous correct 81': 2, 'nth previous correct 78': 2, 'nth previous correct 62': 1, 'nth previous correct 66': 1, 'nth previous correct 90': 1, 'nth previous correct 84': 1, 'nth previous correct 39': 1, 'nth previous correct 42': 1, 'nth previous correct 87': 1, 'nth previous correct 43': 1, 'nth previous correct 69': 1})\n",
      "ZewScTWpQH\n",
      "Counter({'total': 65494, 'first and next equal and correct': 46629, 'most_recent_distractor_total': 33431, 'most_recent_distractor_curdomain': 31719, 'first correct only': 13425, 'both incorrect': 3647, 'some previous among past 100 correct': 2656, 'next correct only': 1793, 'nth previous correct 1': 1353, 'most_recent_distractor_some_prev_domain': 1283, 'newtab': 770, 'most_recent_distractor_nextdomain': 429, 'nth previous correct 4': 384, 'nth previous correct 11': 320, 'no match found': 221, 'nth previous correct 10': 154, 'nth previous correct 9': 102, 'nth previous correct 2': 95, 'nth previous correct 8': 65, 'nth previous correct 3': 62, 'nth previous correct 6': 43, 'nth previous correct 15': 27, 'nth previous correct 5': 15, 'nth previous correct 16': 11, 'nth previous correct 17': 9, 'nth previous correct 12': 7, 'nth previous correct 7': 3, 'nth previous correct 13': 3, 'nth previous correct 14': 1, 'nth previous correct 18': 1, 'nth previous correct 35': 1})\n",
      "Hdx9yNR4un\n",
      "Counter({'total': 148356, 'first and next equal and correct': 113980, 'most_recent_distractor_total': 103747, 'most_recent_distractor_curdomain': 101804, 'first correct only': 16465, 'both incorrect': 13069, 'some previous among past 100 correct': 12535, 'nth previous correct 1': 11026, 'next correct only': 4842, 'most_recent_distractor_some_prev_domain': 1663, 'nth previous correct 2': 1108, 'no match found': 303, 'most_recent_distractor_nextdomain': 280, 'newtab': 231, 'nth previous correct 3': 155, 'nth previous correct 4': 53, 'nth previous correct 29': 42, 'nth previous correct 6': 39, 'nth previous correct 7': 24, 'nth previous correct 5': 22, 'nth previous correct 11': 21, 'nth previous correct 8': 12, 'nth previous correct 9': 11, 'nth previous correct 12': 11, 'nth previous correct 10': 8, 'nth previous correct 25': 2, 'nth previous correct 15': 1})\n",
      "Hi2YFQFFRX\n",
      "Counter({'total': 488341, 'both incorrect': 159055, 'first and next equal and correct': 158337, 'some previous among past 100 correct': 153881, 'most_recent_distractor_total': 146939, 'most_recent_distractor_curdomain': 127780, 'first correct only': 123155, 'next correct only': 47794, 'nth previous correct 1': 30155, 'nth previous correct 2': 21145, 'most_recent_distractor_some_prev_domain': 15842, 'nth previous correct 3': 13146, 'nth previous correct 6': 10224, 'nth previous correct 4': 10149, 'nth previous correct 7': 8210, 'nth previous correct 5': 7400, 'nth previous correct 10': 5936, 'nth previous correct 8': 5598, 'nth previous correct 9': 4975, 'nth previous correct 11': 4307, 'nth previous correct 12': 3854, 'most_recent_distractor_nextdomain': 3317, 'newtab': 3300, 'nth previous correct 16': 3232, 'nth previous correct 14': 2569, 'nth previous correct 15': 2218, 'nth previous correct 17': 2156, 'nth previous correct 23': 2022, 'nth previous correct 13': 1882, 'no match found': 1874, 'nth previous correct 18': 1725, 'nth previous correct 24': 1349, 'nth previous correct 26': 1271, 'nth previous correct 32': 1173, 'nth previous correct 21': 1076, 'nth previous correct 25': 755, 'nth previous correct 56': 737, 'nth previous correct 33': 686, 'nth previous correct 22': 543, 'nth previous correct 51': 468, 'nth previous correct 29': 450, 'nth previous correct 31': 415, 'nth previous correct 19': 330, 'nth previous correct 62': 302, 'nth previous correct 82': 298, 'nth previous correct 68': 272, 'nth previous correct 27': 258, 'nth previous correct 20': 226, 'nth previous correct 60': 175, 'nth previous correct 48': 166, 'nth previous correct 30': 160, 'nth previous correct 58': 143, 'nth previous correct 65': 142, 'nth previous correct 28': 130, 'nth previous correct 59': 118, 'nth previous correct 77': 115, 'nth previous correct 61': 109, 'nth previous correct 36': 103, 'nth previous correct 71': 88, 'nth previous correct 54': 81, 'nth previous correct 35': 77, 'nth previous correct 43': 73, 'nth previous correct 78': 73, 'nth previous correct 64': 65, 'nth previous correct 38': 63, 'nth previous correct 46': 62, 'nth previous correct 45': 61, 'nth previous correct 34': 52, 'nth previous correct 42': 40, 'nth previous correct 50': 29, 'nth previous correct 40': 27, 'nth previous correct 39': 23, 'nth previous correct 41': 20, 'nth previous correct 73': 18, 'nth previous correct 76': 17, 'nth previous correct 57': 14, 'nth previous correct 87': 14, 'nth previous correct 47': 11, 'nth previous correct 53': 10, 'nth previous correct 72': 10, 'nth previous correct 49': 9, 'nth previous correct 44': 8, 'nth previous correct 79': 8, 'nth previous correct 74': 7, 'nth previous correct 67': 6, 'nth previous correct 55': 6, 'nth previous correct 86': 6, 'nth previous correct 83': 6, 'nth previous correct 37': 5, 'nth previous correct 81': 4, 'nth previous correct 66': 3, 'nth previous correct 69': 2, 'nth previous correct 63': 2, 'nth previous correct 98': 2, 'nth previous correct 84': 2, 'nth previous correct 88': 2, 'nth previous correct 92': 1, 'nth previous correct 96': 1})\n",
      "4KS43rsxAD\n",
      "Counter({'total': 11811, 'first and next equal and correct': 7203, 'most_recent_distractor_total': 3521, 'most_recent_distractor_curdomain': 2866, 'first correct only': 2594, 'both incorrect': 1264, 'some previous among past 100 correct': 1209, 'nth previous correct 1': 914, 'next correct only': 750, 'most_recent_distractor_some_prev_domain': 653, 'nth previous correct 2': 96, 'nth previous correct 17': 61, 'nth previous correct 3': 59, 'newtab': 45, 'nth previous correct 7': 27, 'nth previous correct 6': 24, 'nth previous correct 4': 14, 'nth previous correct 5': 13, 'no match found': 10, 'most_recent_distractor_nextdomain': 2, 'nth previous correct 18': 1})\n",
      "kT7S3wmYZO\n",
      "Counter({'total': 220957, 'most_recent_distractor_total': 153501, 'first and next equal and correct': 140385, 'most_recent_distractor_curdomain': 139992, 'first correct only': 40937, 'both incorrect': 26491, 'some previous among past 100 correct': 26187, 'nth previous correct 1': 17679, 'next correct only': 13144, 'most_recent_distractor_some_prev_domain': 10503, 'nth previous correct 2': 4422, 'most_recent_distractor_nextdomain': 3006, 'nth previous correct 3': 2024, 'nth previous correct 4': 1265, 'nth previous correct 5': 580, 'no match found': 199, 'nth previous correct 7': 180, 'newtab': 105, 'nth previous correct 6': 19, 'nth previous correct 8': 7, 'nth previous correct 12': 4, 'nth previous correct 21': 2, 'nth previous correct 23': 1, 'nth previous correct 51': 1, 'nth previous correct 11': 1, 'nth previous correct 10': 1, 'nth previous correct 16': 1})\n",
      "oHo0KJayR3\n",
      "Counter({'total': 314070, 'first and next equal and correct': 148670, 'most_recent_distractor_total': 147243, 'most_recent_distractor_curdomain': 133864, 'first correct only': 107307, 'both incorrect': 35707, 'some previous among past 100 correct': 33591, 'next correct only': 22386, 'most_recent_distractor_some_prev_domain': 12547, 'nth previous correct 1': 10344, 'nth previous correct 2': 5563, 'nth previous correct 3': 3594, 'nth previous correct 5': 2371, 'nth previous correct 4': 1956, 'newtab': 1664, 'nth previous correct 13': 1455, 'nth previous correct 8': 1243, 'nth previous correct 6': 835, 'most_recent_distractor_nextdomain': 832, 'nth previous correct 17': 658, 'nth previous correct 7': 562, 'nth previous correct 19': 505, 'nth previous correct 16': 497, 'nth previous correct 11': 485, 'no match found': 452, 'nth previous correct 12': 378, 'nth previous correct 10': 369, 'nth previous correct 24': 327, 'nth previous correct 38': 325, 'nth previous correct 41': 300, 'nth previous correct 15': 294, 'nth previous correct 30': 269, 'nth previous correct 31': 188, 'nth previous correct 36': 170, 'nth previous correct 23': 163, 'nth previous correct 21': 147, 'nth previous correct 25': 121, 'nth previous correct 9': 121, 'nth previous correct 32': 104, 'nth previous correct 14': 72, 'nth previous correct 18': 63, 'nth previous correct 37': 57, 'nth previous correct 22': 17, 'nth previous correct 20': 8, 'nth previous correct 42': 6, 'nth previous correct 27': 4, 'nth previous correct 29': 4, 'nth previous correct 26': 3, 'nth previous correct 40': 3, 'nth previous correct 67': 2, 'nth previous correct 54': 2, 'nth previous correct 33': 2, 'nth previous correct 57': 1, 'nth previous correct 39': 1, 'nth previous correct 44': 1, 'nth previous correct 45': 1})\n",
      "XkKl68D8WC\n",
      "Counter({'total': 153140, 'most_recent_distractor_total': 52043, 'first correct only': 51191, 'first and next equal and correct': 44918, 'both incorrect': 42392, 'some previous among past 100 correct': 41700, 'most_recent_distractor_curdomain': 40664, 'next correct only': 14639, 'nth previous correct 1': 13077, 'nth previous correct 4': 10683, 'most_recent_distractor_some_prev_domain': 10103, 'nth previous correct 2': 5972, 'nth previous correct 3': 2581, 'most_recent_distractor_nextdomain': 1276, 'nth previous correct 6': 1207, 'nth previous correct 7': 1179, 'nth previous correct 8': 1098, 'nth previous correct 5': 1071, 'nth previous correct 10': 828, 'nth previous correct 21': 749, 'newtab': 501, 'nth previous correct 14': 408, 'nth previous correct 20': 360, 'nth previous correct 9': 354, 'nth previous correct 11': 316, 'nth previous correct 18': 274, 'nth previous correct 13': 215, 'no match found': 191, 'nth previous correct 23': 175, 'nth previous correct 12': 168, 'nth previous correct 27': 167, 'nth previous correct 17': 138, 'nth previous correct 33': 133, 'nth previous correct 34': 121, 'nth previous correct 25': 56, 'nth previous correct 26': 45, 'nth previous correct 32': 45, 'nth previous correct 29': 43, 'nth previous correct 28': 41, 'nth previous correct 30': 34, 'nth previous correct 15': 32, 'nth previous correct 22': 27, 'nth previous correct 31': 26, 'nth previous correct 16': 21, 'nth previous correct 19': 21, 'nth previous correct 24': 16, 'nth previous correct 35': 14, 'nth previous correct 57': 4, 'nth previous correct 67': 1})\n",
      "qFfhJueo4f\n",
      "Counter({'total': 184614, 'first and next equal and correct': 102856, 'first correct only': 50544, 'most_recent_distractor_total': 22542, 'most_recent_distractor_curdomain': 18858, 'both incorrect': 18583, 'some previous among past 100 correct': 16197, 'next correct only': 12631, 'nth previous correct 1': 8123, 'nth previous correct 2': 3308, 'most_recent_distractor_some_prev_domain': 3201, 'newtab': 2246, 'nth previous correct 3': 1158, 'nth previous correct 5': 996, 'nth previous correct 4': 723, 'nth previous correct 6': 584, 'most_recent_distractor_nextdomain': 483, 'nth previous correct 7': 407, 'nth previous correct 14': 254, 'nth previous correct 8': 245, 'no match found': 140, 'nth previous correct 10': 120, 'nth previous correct 9': 116, 'nth previous correct 13': 86, 'nth previous correct 11': 50, 'nth previous correct 17': 10, 'nth previous correct 18': 6, 'nth previous correct 12': 3, 'nth previous correct 15': 3, 'nth previous correct 16': 2, 'nth previous correct 37': 2, 'nth previous correct 22': 1})\n",
      "hGCJGBh8Ah\n",
      "Counter({'total': 58777, 'first and next equal and correct': 30409, 'most_recent_distractor_total': 23010, 'first correct only': 16349, 'most_recent_distractor_curdomain': 15397, 'next correct only': 6547, 'most_recent_distractor_some_prev_domain': 5804, 'both incorrect': 5472, 'some previous among past 100 correct': 4863, 'nth previous correct 1': 3056, 'most_recent_distractor_nextdomain': 1809, 'nth previous correct 2': 1021, 'newtab': 368, 'nth previous correct 3': 354, 'no match found': 241, 'nth previous correct 15': 56, 'nth previous correct 4': 44, 'nth previous correct 42': 31, 'nth previous correct 17': 29, 'nth previous correct 5': 24, 'nth previous correct 29': 21, 'nth previous correct 27': 19, 'nth previous correct 44': 19, 'nth previous correct 20': 17, 'nth previous correct 7': 17, 'nth previous correct 37': 17, 'nth previous correct 43': 17, 'nth previous correct 10': 16, 'nth previous correct 11': 15, 'nth previous correct 26': 11, 'nth previous correct 22': 10, 'nth previous correct 50': 9, 'nth previous correct 8': 7, 'nth previous correct 40': 6, 'nth previous correct 24': 5, 'nth previous correct 16': 5, 'nth previous correct 6': 4, 'nth previous correct 9': 4, 'nth previous correct 12': 4, 'nth previous correct 38': 4, 'nth previous correct 34': 4, 'nth previous correct 21': 3, 'nth previous correct 49': 3, 'nth previous correct 31': 2, 'nth previous correct 18': 2, 'nth previous correct 25': 1, 'nth previous correct 23': 1, 'nth previous correct 28': 1, 'nth previous correct 51': 1, 'nth previous correct 13': 1, 'nth previous correct 32': 1, 'nth previous correct 45': 1})\n",
      "Cfu7zsLzxH\n",
      "Counter({'total': 203813, 'first and next equal and correct': 83876, 'first correct only': 65415, 'both incorrect': 36281, 'some previous among past 100 correct': 31936, 'most_recent_distractor_total': 19457, 'next correct only': 18241, 'most_recent_distractor_curdomain': 15582, 'nth previous correct 1': 14849, 'nth previous correct 2': 6217, 'nth previous correct 3': 3748, 'most_recent_distractor_some_prev_domain': 3492, 'no match found': 2182, 'newtab': 2163, 'nth previous correct 4': 1510, 'nth previous correct 5': 1059, 'nth previous correct 6': 1003, 'nth previous correct 11': 667, 'nth previous correct 7': 464, 'nth previous correct 8': 395, 'most_recent_distractor_nextdomain': 383, 'nth previous correct 9': 340, 'nth previous correct 13': 195, 'nth previous correct 19': 159, 'nth previous correct 16': 157, 'nth previous correct 23': 137, 'nth previous correct 10': 130, 'nth previous correct 44': 119, 'nth previous correct 18': 114, 'nth previous correct 17': 106, 'nth previous correct 14': 98, 'nth previous correct 22': 87, 'nth previous correct 94': 66, 'nth previous correct 24': 60, 'nth previous correct 15': 43, 'nth previous correct 25': 31, 'nth previous correct 12': 28, 'nth previous correct 46': 22, 'nth previous correct 26': 15, 'nth previous correct 34': 14, 'nth previous correct 20': 13, 'nth previous correct 28': 13, 'nth previous correct 33': 12, 'nth previous correct 51': 11, 'nth previous correct 39': 10, 'nth previous correct 36': 10, 'nth previous correct 21': 8, 'nth previous correct 35': 8, 'nth previous correct 43': 6, 'nth previous correct 48': 4, 'nth previous correct 32': 4, 'nth previous correct 67': 2, 'nth previous correct 27': 1, 'nth previous correct 29': 1})\n",
      "g34wuNJgSm\n",
      "Counter({'total': 183882, 'first and next equal and correct': 85850, 'first correct only': 42450, 'both incorrect': 37900, 'some previous among past 100 correct': 33920, 'next correct only': 17682, 'nth previous correct 1': 15152, 'most_recent_distractor_total': 13747, 'most_recent_distractor_curdomain': 10997, 'nth previous correct 2': 4506, 'nth previous correct 3': 3479, 'no match found': 2962, 'most_recent_distractor_some_prev_domain': 2201, 'nth previous correct 4': 2161, 'nth previous correct 5': 1299, 'nth previous correct 6': 1253, 'newtab': 1018, 'nth previous correct 23': 574, 'nth previous correct 27': 571, 'most_recent_distractor_nextdomain': 549, 'nth previous correct 7': 539, 'nth previous correct 17': 420, 'nth previous correct 11': 369, 'nth previous correct 9': 353, 'nth previous correct 16': 326, 'nth previous correct 13': 314, 'nth previous correct 10': 276, 'nth previous correct 12': 271, 'nth previous correct 22': 234, 'nth previous correct 15': 227, 'nth previous correct 14': 225, 'nth previous correct 25': 214, 'nth previous correct 8': 205, 'nth previous correct 48': 202, 'nth previous correct 36': 134, 'nth previous correct 29': 116, 'nth previous correct 24': 106, 'nth previous correct 28': 92, 'nth previous correct 21': 79, 'nth previous correct 18': 31, 'nth previous correct 89': 31, 'nth previous correct 19': 27, 'nth previous correct 39': 20, 'nth previous correct 20': 18, 'nth previous correct 52': 16, 'nth previous correct 26': 14, 'nth previous correct 63': 11, 'nth previous correct 60': 7, 'nth previous correct 45': 7, 'nth previous correct 41': 6, 'nth previous correct 30': 5, 'nth previous correct 31': 5, 'nth previous correct 50': 4, 'nth previous correct 34': 3, 'nth previous correct 43': 3, 'nth previous correct 49': 2, 'nth previous correct 38': 2, 'nth previous correct 40': 2, 'nth previous correct 64': 1, 'nth previous correct 55': 1, 'nth previous correct 57': 1, 'nth previous correct 51': 1, 'nth previous correct 37': 1, 'nth previous correct 47': 1, 'nth previous correct 44': 1, 'nth previous correct 35': 1, 'nth previous correct 32': 1})\n",
      "CUkQIMI9zA\n",
      "Counter({'total': 262832, 'first and next equal and correct': 148850, 'first correct only': 79583, 'most_recent_distractor_total': 77670, 'most_recent_distractor_curdomain': 63363, 'both incorrect': 21475, 'some previous among past 100 correct': 19618, 'next correct only': 12924, 'most_recent_distractor_some_prev_domain': 12764, 'nth previous correct 1': 10485, 'nth previous correct 2': 3447, 'nth previous correct 3': 2031, 'most_recent_distractor_nextdomain': 1543, 'newtab': 1268, 'no match found': 589, 'nth previous correct 5': 498, 'nth previous correct 4': 473, 'nth previous correct 7': 337, 'nth previous correct 6': 317, 'nth previous correct 8': 309, 'nth previous correct 11': 226, 'nth previous correct 9': 215, 'nth previous correct 12': 211, 'nth previous correct 10': 186, 'nth previous correct 14': 134, 'nth previous correct 38': 102, 'nth previous correct 18': 86, 'nth previous correct 15': 58, 'nth previous correct 16': 55, 'nth previous correct 29': 45, 'nth previous correct 17': 40, 'nth previous correct 42': 40, 'nth previous correct 13': 38, 'nth previous correct 22': 37, 'nth previous correct 41': 36, 'nth previous correct 20': 35, 'nth previous correct 40': 33, 'nth previous correct 39': 28, 'nth previous correct 30': 25, 'nth previous correct 47': 19, 'nth previous correct 21': 13, 'nth previous correct 27': 11, 'nth previous correct 19': 11, 'nth previous correct 35': 10, 'nth previous correct 37': 8, 'nth previous correct 31': 5, 'nth previous correct 32': 5, 'nth previous correct 43': 3, 'nth previous correct 23': 2, 'nth previous correct 88': 2, 'nth previous correct 28': 1, 'nth previous correct 36': 1})\n",
      "CTm8XotZoZ\n",
      "Counter({'total': 76492, 'most_recent_distractor_total': 49057, 'first and next equal and correct': 44911, 'most_recent_distractor_curdomain': 43473, 'first correct only': 15720, 'both incorrect': 8700, 'some previous among past 100 correct': 8263, 'next correct only': 7161, 'most_recent_distractor_some_prev_domain': 4805, 'nth previous correct 1': 4654, 'nth previous correct 2': 2981, 'most_recent_distractor_nextdomain': 779, 'nth previous correct 3': 346, 'nth previous correct 4': 281, 'no match found': 277, 'newtab': 160, 'nth previous correct 10': 1})\n",
      "E53DGPZ188\n",
      "Counter({'total': 170683, 'most_recent_distractor_total': 84322, 'both incorrect': 70408, 'some previous among past 100 correct': 68573, 'most_recent_distractor_curdomain': 50268, 'first and next equal and correct': 44184, 'nth previous correct 1': 41121, 'first correct only': 36096, 'next correct only': 19995, 'most_recent_distractor_nextdomain': 17635, 'most_recent_distractor_some_prev_domain': 16419, 'nth previous correct 2': 14843, 'nth previous correct 3': 4852, 'nth previous correct 5': 1765, 'nth previous correct 4': 1341, 'newtab': 1247, 'nth previous correct 10': 604, 'no match found': 588, 'nth previous correct 8': 571, 'nth previous correct 7': 550, 'nth previous correct 6': 527, 'nth previous correct 9': 508, 'nth previous correct 15': 343, 'nth previous correct 14': 216, 'nth previous correct 12': 207, 'nth previous correct 11': 206, 'nth previous correct 44': 141, 'nth previous correct 13': 111, 'nth previous correct 18': 95, 'nth previous correct 20': 86, 'nth previous correct 26': 56, 'nth previous correct 27': 55, 'nth previous correct 17': 52, 'nth previous correct 34': 39, 'nth previous correct 30': 38, 'nth previous correct 28': 33, 'nth previous correct 24': 30, 'nth previous correct 40': 29, 'nth previous correct 22': 24, 'nth previous correct 23': 23, 'nth previous correct 16': 13, 'nth previous correct 19': 13, 'nth previous correct 35': 12, 'nth previous correct 41': 11, 'nth previous correct 36': 11, 'nth previous correct 25': 9, 'nth previous correct 21': 8, 'nth previous correct 46': 7, 'nth previous correct 33': 6, 'nth previous correct 31': 4, 'nth previous correct 29': 4, 'nth previous correct 32': 4, 'nth previous correct 45': 3, 'nth previous correct 43': 2})\n",
      "2bK78oKaW6\n",
      "Counter({'total': 250605, 'first and next equal and correct': 83539, 'both incorrect': 71851, 'some previous among past 100 correct': 68033, 'first correct only': 66403, 'most_recent_distractor_total': 54681, 'most_recent_distractor_curdomain': 40184, 'next correct only': 28812, 'nth previous correct 1': 23788, 'nth previous correct 2': 13151, 'most_recent_distractor_some_prev_domain': 12133, 'nth previous correct 3': 9958, 'nth previous correct 4': 5156, 'nth previous correct 5': 4825, 'newtab': 2494, 'most_recent_distractor_nextdomain': 2364, 'nth previous correct 13': 2225, 'nth previous correct 6': 2117, 'nth previous correct 8': 2025, 'no match found': 1324, 'nth previous correct 7': 1193, 'nth previous correct 10': 891, 'nth previous correct 9': 647, 'nth previous correct 12': 526, 'nth previous correct 11': 463, 'nth previous correct 54': 188, 'nth previous correct 98': 121, 'nth previous correct 55': 93, 'nth previous correct 41': 93, 'nth previous correct 27': 85, 'nth previous correct 24': 51, 'nth previous correct 16': 47, 'nth previous correct 72': 46, 'nth previous correct 15': 40, 'nth previous correct 21': 39, 'nth previous correct 17': 38, 'nth previous correct 20': 37, 'nth previous correct 28': 22, 'nth previous correct 58': 19, 'nth previous correct 19': 19, 'nth previous correct 23': 15, 'nth previous correct 14': 13, 'nth previous correct 26': 12, 'nth previous correct 42': 11, 'nth previous correct 25': 10, 'nth previous correct 64': 10, 'nth previous correct 40': 10, 'nth previous correct 18': 7, 'nth previous correct 87': 5, 'nth previous correct 22': 4, 'nth previous correct 84': 4, 'nth previous correct 93': 3, 'nth previous correct 39': 3, 'nth previous correct 65': 2, 'nth previous correct 67': 2, 'nth previous correct 50': 2, 'nth previous correct 32': 2, 'nth previous correct 73': 2, 'nth previous correct 77': 2, 'nth previous correct 37': 2, 'nth previous correct 35': 2, 'nth previous correct 78': 2, 'nth previous correct 89': 2, 'nth previous correct 95': 1, 'nth previous correct 29': 1, 'nth previous correct 49': 1})\n",
      "PfcYy82N2O\n",
      "Counter({'total': 24218, 'first correct only': 9801, 'most_recent_distractor_total': 9645, 'first and next equal and correct': 9448, 'most_recent_distractor_curdomain': 8561, 'both incorrect': 3705, 'some previous among past 100 correct': 3603, 'nth previous correct 1': 3075, 'next correct only': 1264, 'most_recent_distractor_some_prev_domain': 985, 'nth previous correct 2': 263, 'most_recent_distractor_nextdomain': 99, 'newtab': 94, 'nth previous correct 6': 85, 'nth previous correct 4': 82, 'nth previous correct 7': 60, 'nth previous correct 5': 26, 'no match found': 8, 'nth previous correct 15': 6, 'nth previous correct 3': 2, 'nth previous correct 13': 2, 'nth previous correct 9': 1, 'nth previous correct 8': 1})\n",
      "gVvfiSW3is\n",
      "Counter({'total': 126337, 'most_recent_distractor_total': 58492, 'most_recent_distractor_curdomain': 49386, 'first and next equal and correct': 46317, 'first correct only': 42938, 'both incorrect': 27574, 'some previous among past 100 correct': 26077, 'next correct only': 9508, 'most_recent_distractor_some_prev_domain': 7567, 'nth previous correct 1': 7407, 'nth previous correct 2': 4221, 'nth previous correct 3': 3914, 'nth previous correct 4': 2483, 'nth previous correct 7': 2054, 'most_recent_distractor_nextdomain': 1539, 'nth previous correct 8': 1507, 'newtab': 1422, 'nth previous correct 13': 1187, 'nth previous correct 5': 989, 'nth previous correct 6': 822, 'nth previous correct 9': 442, 'nth previous correct 11': 315, 'nth previous correct 12': 149, 'nth previous correct 10': 130, 'nth previous correct 22': 126, 'nth previous correct 14': 83, 'nth previous correct 16': 76, 'no match found': 75, 'nth previous correct 17': 57, 'nth previous correct 25': 50, 'nth previous correct 55': 15, 'nth previous correct 54': 15, 'nth previous correct 15': 8, 'nth previous correct 23': 7, 'nth previous correct 28': 6, 'nth previous correct 26': 3, 'nth previous correct 18': 3, 'nth previous correct 48': 2, 'nth previous correct 21': 1, 'nth previous correct 56': 1, 'nth previous correct 64': 1, 'nth previous correct 19': 1, 'nth previous correct 42': 1, 'nth previous correct 49': 1})\n",
      "3JDp0OuLv4\n",
      "Counter({'total': 67198, 'first and next equal and correct': 23392, 'both incorrect': 21256, 'some previous among past 100 correct': 20935, 'first correct only': 17266, 'most_recent_distractor_total': 11858, 'most_recent_distractor_curdomain': 6685, 'nth previous correct 7': 6069, 'nth previous correct 1': 5334, 'next correct only': 5284, 'most_recent_distractor_some_prev_domain': 3144, 'nth previous correct 2': 2626, 'most_recent_distractor_nextdomain': 2029, 'nth previous correct 4': 2006, 'nth previous correct 5': 1648, 'nth previous correct 3': 1369, 'nth previous correct 6': 1125, 'nth previous correct 8': 330, 'newtab': 290, 'nth previous correct 9': 261, 'nth previous correct 16': 149, 'no match found': 31, 'nth previous correct 10': 9, 'nth previous correct 11': 6, 'nth previous correct 35': 2, 'nth previous correct 36': 1})\n",
      "yvAg28ridg\n",
      "Counter({'total': 320485, 'first and next equal and correct': 151088, 'first correct only': 123492, 'most_recent_distractor_total': 85277, 'most_recent_distractor_curdomain': 75245, 'both incorrect': 29730, 'some previous among past 100 correct': 25118, 'next correct only': 16175, 'nth previous correct 1': 15839, 'most_recent_distractor_some_prev_domain': 8295, 'nth previous correct 2': 5356, 'newtab': 3492, 'most_recent_distractor_nextdomain': 1737, 'nth previous correct 3': 1277, 'no match found': 1120, 'nth previous correct 4': 1026, 'nth previous correct 5': 634, 'nth previous correct 7': 281, 'nth previous correct 6': 261, 'nth previous correct 11': 157, 'nth previous correct 9': 79, 'nth previous correct 13': 53, 'nth previous correct 12': 35, 'nth previous correct 14': 35, 'nth previous correct 10': 22, 'nth previous correct 8': 18, 'nth previous correct 17': 16, 'nth previous correct 15': 10, 'nth previous correct 18': 10, 'nth previous correct 33': 3, 'nth previous correct 25': 2, 'nth previous correct 30': 2, 'nth previous correct 29': 1, 'nth previous correct 19': 1})\n",
      "xDhU4lHDlP\n",
      "Counter({'total': 51021, 'first and next equal and correct': 39351, 'most_recent_distractor_total': 34569, 'most_recent_distractor_curdomain': 32924, 'first correct only': 8573, 'both incorrect': 1880, 'most_recent_distractor_some_prev_domain': 1379, 'some previous among past 100 correct': 1348, 'next correct only': 1217, 'nth previous correct 1': 773, 'newtab': 425, 'nth previous correct 2': 326, 'most_recent_distractor_nextdomain': 266, 'nth previous correct 3': 113, 'nth previous correct 7': 111, 'no match found': 107, 'nth previous correct 4': 21, 'nth previous correct 26': 4})\n",
      "q589WvazlK\n",
      "Counter({'total': 101643, 'first and next equal and correct': 49311, 'most_recent_distractor_total': 40251, 'most_recent_distractor_curdomain': 36410, 'first correct only': 30225, 'both incorrect': 14193, 'some previous among past 100 correct': 12846, 'next correct only': 7914, 'nth previous correct 1': 7636, 'most_recent_distractor_some_prev_domain': 3175, 'nth previous correct 2': 2379, 'nth previous correct 3': 1391, 'newtab': 720, 'most_recent_distractor_nextdomain': 666, 'no match found': 627, 'nth previous correct 4': 582, 'nth previous correct 6': 496, 'nth previous correct 5': 120, 'nth previous correct 25': 44, 'nth previous correct 9': 40, 'nth previous correct 7': 36, 'nth previous correct 13': 22, 'nth previous correct 30': 13, 'nth previous correct 27': 11, 'nth previous correct 24': 10, 'nth previous correct 8': 9, 'nth previous correct 12': 7, 'nth previous correct 17': 6, 'nth previous correct 23': 6, 'nth previous correct 54': 6, 'nth previous correct 20': 5, 'nth previous correct 10': 4, 'nth previous correct 77': 3, 'nth previous correct 28': 2, 'nth previous correct 84': 2, 'nth previous correct 76': 2, 'nth previous correct 21': 1, 'nth previous correct 22': 1, 'nth previous correct 62': 1, 'nth previous correct 64': 1, 'nth previous correct 85': 1, 'nth previous correct 82': 1, 'nth previous correct 11': 1, 'nth previous correct 34': 1, 'nth previous correct 14': 1, 'nth previous correct 31': 1, 'nth previous correct 75': 1, 'nth previous correct 43': 1, 'nth previous correct 40': 1, 'nth previous correct 90': 1})\n",
      "fblHu0OZkZ\n",
      "Counter({'total': 310827, 'most_recent_distractor_total': 204295, 'most_recent_distractor_curdomain': 175922, 'first and next equal and correct': 175845, 'first correct only': 75856, 'both incorrect': 29636, 'next correct only': 29490, 'some previous among past 100 correct': 29025, 'most_recent_distractor_some_prev_domain': 26805, 'nth previous correct 1': 21745, 'nth previous correct 2': 6467, 'most_recent_distractor_nextdomain': 1568, 'nth previous correct 5': 526, 'newtab': 318, 'no match found': 293, 'nth previous correct 4': 110, 'nth previous correct 3': 68, 'nth previous correct 30': 38, 'nth previous correct 11': 14, 'nth previous correct 8': 13, 'nth previous correct 7': 10, 'nth previous correct 6': 5, 'nth previous correct 9': 5, 'nth previous correct 26': 4, 'nth previous correct 22': 4, 'nth previous correct 24': 2, 'nth previous correct 29': 2, 'nth previous correct 13': 2, 'nth previous correct 12': 2, 'nth previous correct 31': 1, 'nth previous correct 27': 1, 'nth previous correct 21': 1, 'nth previous correct 23': 1, 'nth previous correct 10': 1, 'nth previous correct 17': 1, 'nth previous correct 18': 1, 'nth previous correct 45': 1})\n",
      "00LnQeq1SQ\n",
      "Counter({'total': 170892, 'both incorrect': 80886, 'some previous among past 100 correct': 76680, 'first correct only': 39755, 'first and next equal and correct': 36414, 'most_recent_distractor_total': 27151, 'most_recent_distractor_curdomain': 19331, 'nth previous correct 1': 18769, 'next correct only': 13837, 'nth previous correct 2': 11476, 'most_recent_distractor_some_prev_domain': 6602, 'nth previous correct 3': 5995, 'nth previous correct 6': 4740, 'nth previous correct 4': 4341, 'nth previous correct 8': 4079, 'nth previous correct 7': 3763, 'nth previous correct 13': 3102, 'nth previous correct 10': 2969, 'nth previous correct 9': 2958, 'newtab': 2807, 'nth previous correct 5': 2421, 'nth previous correct 29': 1947, 'nth previous correct 12': 1734, 'nth previous correct 11': 1676, 'nth previous correct 14': 1466, 'nth previous correct 17': 1442, 'no match found': 1399, 'nth previous correct 15': 1315, 'most_recent_distractor_nextdomain': 1218, 'nth previous correct 22': 607, 'nth previous correct 21': 512, 'nth previous correct 28': 376, 'nth previous correct 19': 363, 'nth previous correct 31': 278, 'nth previous correct 16': 103, 'nth previous correct 23': 34, 'nth previous correct 27': 26, 'nth previous correct 30': 23, 'nth previous correct 100': 19, 'nth previous correct 56': 17, 'nth previous correct 26': 16, 'nth previous correct 45': 15, 'nth previous correct 84': 11, 'nth previous correct 44': 11, 'nth previous correct 20': 10, 'nth previous correct 96': 10, 'nth previous correct 46': 10, 'nth previous correct 18': 9, 'nth previous correct 51': 6, 'nth previous correct 99': 5, 'nth previous correct 41': 4, 'nth previous correct 37': 4, 'nth previous correct 97': 3, 'nth previous correct 39': 3, 'nth previous correct 40': 3, 'nth previous correct 24': 2, 'nth previous correct 57': 2, 'nth previous correct 43': 2, 'nth previous correct 25': 1, 'nth previous correct 63': 1, 'nth previous correct 47': 1})\n",
      "0sDxoGSuf6\n",
      "Counter({'total': 120847, 'first and next equal and correct': 40766, 'first correct only': 38322, 'both incorrect': 31660, 'some previous among past 100 correct': 29389, 'most_recent_distractor_total': 21883, 'most_recent_distractor_curdomain': 14015, 'nth previous correct 1': 11822, 'next correct only': 10099, 'most_recent_distractor_some_prev_domain': 7016, 'nth previous correct 2': 4596, 'nth previous correct 3': 3492, 'nth previous correct 4': 2715, 'no match found': 1987, 'nth previous correct 5': 1136, 'nth previous correct 24': 881, 'most_recent_distractor_nextdomain': 852, 'nth previous correct 6': 750, 'nth previous correct 15': 528, 'nth previous correct 8': 396, 'nth previous correct 9': 316, 'newtab': 284, 'nth previous correct 7': 257, 'nth previous correct 10': 233, 'nth previous correct 20': 198, 'nth previous correct 53': 197, 'nth previous correct 19': 177, 'nth previous correct 11': 169, 'nth previous correct 14': 165, 'nth previous correct 16': 154, 'nth previous correct 29': 102, 'nth previous correct 12': 90, 'nth previous correct 18': 89, 'nth previous correct 47': 87, 'nth previous correct 27': 83, 'nth previous correct 13': 82, 'nth previous correct 22': 67, 'nth previous correct 30': 54, 'nth previous correct 17': 53, 'nth previous correct 31': 42, 'nth previous correct 71': 40, 'nth previous correct 35': 39, 'nth previous correct 32': 36, 'nth previous correct 65': 29, 'nth previous correct 55': 27, 'nth previous correct 36': 27, 'nth previous correct 23': 25, 'nth previous correct 26': 24, 'nth previous correct 54': 23, 'nth previous correct 33': 22, 'nth previous correct 25': 18, 'nth previous correct 41': 12, 'nth previous correct 61': 11, 'nth previous correct 38': 11, 'nth previous correct 34': 11, 'nth previous correct 94': 10, 'nth previous correct 42': 10, 'nth previous correct 21': 8, 'nth previous correct 57': 8, 'nth previous correct 51': 8, 'nth previous correct 40': 7, 'nth previous correct 39': 6, 'nth previous correct 48': 6, 'nth previous correct 72': 5, 'nth previous correct 59': 5, 'nth previous correct 96': 5, 'nth previous correct 73': 5, 'nth previous correct 45': 5, 'nth previous correct 58': 4, 'nth previous correct 28': 2, 'nth previous correct 50': 2, 'nth previous correct 97': 2, 'nth previous correct 44': 2, 'nth previous correct 70': 1, 'nth previous correct 60': 1, 'nth previous correct 37': 1})\n",
      "iYLwIL7JHg\n",
      "Counter({'total': 123689, 'first and next equal and correct': 63811, 'most_recent_distractor_total': 52554, 'most_recent_distractor_curdomain': 49015, 'first correct only': 39012, 'both incorrect': 16456, 'some previous among past 100 correct': 14638, 'nth previous correct 1': 8561, 'next correct only': 4410, 'most_recent_distractor_some_prev_domain': 2825, 'nth previous correct 2': 2402, 'newtab': 1776, 'nth previous correct 3': 1420, 'nth previous correct 4': 1173, 'most_recent_distractor_nextdomain': 714, 'nth previous correct 5': 285, 'nth previous correct 6': 253, 'nth previous correct 10': 124, 'nth previous correct 8': 118, 'nth previous correct 13': 78, 'nth previous correct 11': 68, 'nth previous correct 14': 63, 'nth previous correct 7': 47, 'no match found': 42, 'nth previous correct 9': 28, 'nth previous correct 15': 8, 'nth previous correct 12': 7, 'nth previous correct 21': 1, 'nth previous correct 22': 1, 'nth previous correct 29': 1})\n",
      "20ciww1zVP\n",
      "Counter({'total': 38984, 'both incorrect': 22923, 'no match found': 18416, 'first and next equal and correct': 8154, 'most_recent_distractor_total': 8126, 'first correct only': 6027, 'some previous among past 100 correct': 3935, 'nth previous correct 1': 3251, 'most_recent_distractor_curdomain': 3016, 'most_recent_distractor_nextdomain': 2625, 'most_recent_distractor_some_prev_domain': 2485, 'next correct only': 1880, 'newtab': 572, 'nth previous correct 2': 485, 'nth previous correct 5': 89, 'nth previous correct 14': 63, 'nth previous correct 3': 16, 'nth previous correct 4': 13, 'nth previous correct 10': 8, 'nth previous correct 6': 5, 'nth previous correct 7': 4, 'nth previous correct 11': 1})\n",
      "XasdQ0RMDo\n",
      "Counter({'total': 351118, 'most_recent_distractor_total': 217366, 'first and next equal and correct': 207460, 'most_recent_distractor_curdomain': 204001, 'first correct only': 112299, 'both incorrect': 17245, 'some previous among past 100 correct': 16044, 'next correct only': 14114, 'nth previous correct 1': 13785, 'most_recent_distractor_some_prev_domain': 11098, 'most_recent_distractor_nextdomain': 2267, 'nth previous correct 2': 1324, 'no match found': 1101, 'nth previous correct 3': 469, 'nth previous correct 4': 127, 'nth previous correct 7': 119, 'newtab': 100, 'nth previous correct 26': 62, 'nth previous correct 6': 45, 'nth previous correct 8': 32, 'nth previous correct 20': 25, 'nth previous correct 5': 17, 'nth previous correct 22': 6, 'nth previous correct 9': 5, 'nth previous correct 10': 5, 'nth previous correct 24': 4, 'nth previous correct 27': 3, 'nth previous correct 16': 2, 'nth previous correct 54': 2, 'nth previous correct 37': 2, 'nth previous correct 35': 2, 'nth previous correct 30': 2, 'nth previous correct 36': 2, 'nth previous correct 12': 2, 'nth previous correct 23': 1, 'nth previous correct 34': 1})\n",
      "CpkJ8L4Xwg\n",
      "Counter({'total': 321286, 'first and next equal and correct': 149138, 'first correct only': 98407, 'both incorrect': 44991, 'some previous among past 100 correct': 41498, 'next correct only': 28750, 'most_recent_distractor_total': 25937, 'most_recent_distractor_curdomain': 22753, 'nth previous correct 1': 16597, 'nth previous correct 2': 8658, 'nth previous correct 3': 6515, 'nth previous correct 4': 3835, 'newtab': 2901, 'nth previous correct 5': 2548, 'most_recent_distractor_some_prev_domain': 1793, 'most_recent_distractor_nextdomain': 1391, 'nth previous correct 6': 1090, 'nth previous correct 7': 613, 'no match found': 592, 'nth previous correct 8': 483, 'nth previous correct 9': 262, 'nth previous correct 18': 246, 'nth previous correct 17': 197, 'nth previous correct 11': 170, 'nth previous correct 14': 136, 'nth previous correct 16': 70, 'nth previous correct 10': 35, 'nth previous correct 13': 13, 'nth previous correct 12': 6, 'nth previous correct 15': 5, 'nth previous correct 32': 4, 'nth previous correct 31': 3, 'nth previous correct 70': 3, 'nth previous correct 63': 2, 'nth previous correct 69': 1, 'nth previous correct 28': 1, 'nth previous correct 33': 1, 'nth previous correct 47': 1, 'nth previous correct 45': 1, 'nth previous correct 35': 1, 'nth previous correct 48': 1})\n",
      "7pFGxVObu6\n",
      "Counter({'total': 390086, 'first and next equal and correct': 136445, 'both incorrect': 120672, 'some previous among past 100 correct': 116323, 'most_recent_distractor_total': 95352, 'first correct only': 88650, 'most_recent_distractor_curdomain': 59554, 'next correct only': 44319, 'nth previous correct 1': 30836, 'most_recent_distractor_some_prev_domain': 29523, 'nth previous correct 2': 19027, 'nth previous correct 3': 18286, 'nth previous correct 4': 8556, 'most_recent_distractor_nextdomain': 6275, 'nth previous correct 7': 6256, 'nth previous correct 5': 6172, 'nth previous correct 6': 3766, 'nth previous correct 8': 3245, 'nth previous correct 12': 3077, 'newtab': 2757, 'nth previous correct 9': 1698, 'no match found': 1592, 'nth previous correct 15': 1447, 'nth previous correct 10': 1282, 'nth previous correct 36': 1178, 'nth previous correct 31': 985, 'nth previous correct 26': 904, 'nth previous correct 17': 843, 'nth previous correct 11': 810, 'nth previous correct 21': 795, 'nth previous correct 37': 785, 'nth previous correct 25': 774, 'nth previous correct 18': 659, 'nth previous correct 23': 530, 'nth previous correct 14': 386, 'nth previous correct 27': 369, 'nth previous correct 22': 318, 'nth previous correct 16': 305, 'nth previous correct 19': 303, 'nth previous correct 55': 265, 'nth previous correct 29': 260, 'nth previous correct 41': 191, 'nth previous correct 30': 190, 'nth previous correct 39': 180, 'nth previous correct 20': 177, 'nth previous correct 24': 175, 'nth previous correct 76': 165, 'nth previous correct 38': 145, 'nth previous correct 13': 139, 'nth previous correct 92': 123, 'nth previous correct 28': 94, 'nth previous correct 35': 77, 'nth previous correct 50': 68, 'nth previous correct 81': 58, 'nth previous correct 53': 49, 'nth previous correct 95': 48, 'nth previous correct 98': 39, 'nth previous correct 100': 35, 'nth previous correct 56': 31, 'nth previous correct 79': 28, 'nth previous correct 47': 23, 'nth previous correct 32': 20, 'nth previous correct 33': 14, 'nth previous correct 84': 14, 'nth previous correct 43': 12, 'nth previous correct 40': 12, 'nth previous correct 48': 12, 'nth previous correct 34': 11, 'nth previous correct 87': 10, 'nth previous correct 57': 8, 'nth previous correct 54': 7, 'nth previous correct 42': 6, 'nth previous correct 46': 5, 'nth previous correct 97': 5, 'nth previous correct 77': 5, 'nth previous correct 78': 4, 'nth previous correct 75': 4, 'nth previous correct 82': 4, 'nth previous correct 59': 3, 'nth previous correct 58': 3, 'nth previous correct 96': 3, 'nth previous correct 66': 2, 'nth previous correct 86': 2, 'nth previous correct 68': 1, 'nth previous correct 60': 1, 'nth previous correct 94': 1, 'nth previous correct 72': 1, 'nth previous correct 85': 1})\n",
      "q9TQALCrVo\n",
      "Counter({'total': 351660, 'first and next equal and correct': 126121, 'most_recent_distractor_total': 112325, 'first correct only': 109159, 'both incorrect': 89118, 'some previous among past 100 correct': 86833, 'most_recent_distractor_curdomain': 60195, 'nth previous correct 1': 47784, 'most_recent_distractor_some_prev_domain': 41733, 'next correct only': 27262, 'nth previous correct 2': 13326, 'most_recent_distractor_nextdomain': 10397, 'nth previous correct 3': 6770, 'nth previous correct 4': 5931, 'nth previous correct 5': 5664, 'newtab': 1725, 'nth previous correct 6': 1662, 'nth previous correct 9': 1432, 'nth previous correct 8': 1248, 'nth previous correct 10': 888, 'nth previous correct 7': 693, 'no match found': 560, 'nth previous correct 14': 488, 'nth previous correct 16': 321, 'nth previous correct 17': 241, 'nth previous correct 12': 88, 'nth previous correct 13': 81, 'nth previous correct 19': 71, 'nth previous correct 11': 50, 'nth previous correct 15': 46, 'nth previous correct 34': 17, 'nth previous correct 28': 6, 'nth previous correct 18': 6, 'nth previous correct 21': 5, 'nth previous correct 33': 4, 'nth previous correct 32': 4, 'nth previous correct 20': 3, 'nth previous correct 26': 2, 'nth previous correct 30': 1, 'nth previous correct 53': 1})\n",
      "qVpbz10wnQ\n",
      "Counter({'total': 23816, 'first and next equal and correct': 11960, 'first correct only': 7681, 'most_recent_distractor_total': 4922, 'most_recent_distractor_curdomain': 4306, 'both incorrect': 3092, 'some previous among past 100 correct': 2829, 'nth previous correct 1': 1719, 'next correct only': 1083, 'most_recent_distractor_some_prev_domain': 528, 'nth previous correct 2': 519, 'newtab': 176, 'nth previous correct 5': 158, 'nth previous correct 4': 114, 'nth previous correct 12': 90, 'most_recent_distractor_nextdomain': 88, 'no match found': 87, 'nth previous correct 3': 69, 'nth previous correct 6': 64, 'nth previous correct 7': 44, 'nth previous correct 9': 36, 'nth previous correct 8': 9, 'nth previous correct 25': 2, 'nth previous correct 64': 2, 'nth previous correct 45': 2, 'nth previous correct 18': 1})\n",
      "slQSVAoKw9\n",
      "Counter({'total': 340315, 'first and next equal and correct': 230022, 'most_recent_distractor_total': 187355, 'most_recent_distractor_curdomain': 177403, 'first correct only': 71506, 'both incorrect': 20308, 'some previous among past 100 correct': 18898, 'next correct only': 18479, 'most_recent_distractor_some_prev_domain': 8550, 'nth previous correct 1': 8165, 'nth previous correct 2': 3340, 'nth previous correct 6': 3011, 'nth previous correct 3': 1900, 'nth previous correct 4': 1655, 'most_recent_distractor_nextdomain': 1402, 'newtab': 829, 'no match found': 581, 'nth previous correct 5': 238, 'nth previous correct 8': 117, 'nth previous correct 16': 96, 'nth previous correct 29': 62, 'nth previous correct 27': 60, 'nth previous correct 12': 33, 'nth previous correct 9': 30, 'nth previous correct 7': 29, 'nth previous correct 11': 27, 'nth previous correct 10': 26, 'nth previous correct 23': 24, 'nth previous correct 13': 17, 'nth previous correct 18': 16, 'nth previous correct 14': 11, 'nth previous correct 26': 8, 'nth previous correct 19': 8, 'nth previous correct 28': 7, 'nth previous correct 21': 6, 'nth previous correct 34': 5, 'nth previous correct 32': 4, 'nth previous correct 24': 1, 'nth previous correct 25': 1, 'nth previous correct 15': 1})\n",
      "3Kd4L1WyRf\n",
      "Counter({'total': 173085, 'first and next equal and correct': 79728, 'most_recent_distractor_total': 76739, 'most_recent_distractor_curdomain': 67171, 'both incorrect': 38987, 'first correct only': 38767, 'some previous among past 100 correct': 36782, 'next correct only': 15603, 'nth previous correct 1': 14568, 'nth previous correct 2': 10142, 'most_recent_distractor_some_prev_domain': 8054, 'nth previous correct 3': 4109, 'newtab': 1994, 'nth previous correct 4': 1522, 'most_recent_distractor_nextdomain': 1514, 'nth previous correct 6': 1146, 'nth previous correct 5': 885, 'nth previous correct 7': 821, 'nth previous correct 8': 545, 'nth previous correct 21': 543, 'nth previous correct 10': 424, 'nth previous correct 46': 358, 'nth previous correct 9': 340, 'nth previous correct 14': 241, 'no match found': 211, 'nth previous correct 11': 206, 'nth previous correct 17': 176, 'nth previous correct 19': 158, 'nth previous correct 31': 137, 'nth previous correct 18': 135, 'nth previous correct 13': 74, 'nth previous correct 44': 48, 'nth previous correct 12': 41, 'nth previous correct 16': 40, 'nth previous correct 45': 34, 'nth previous correct 20': 28, 'nth previous correct 48': 10, 'nth previous correct 35': 9, 'nth previous correct 15': 6, 'nth previous correct 26': 5, 'nth previous correct 32': 5, 'nth previous correct 24': 4, 'nth previous correct 23': 4, 'nth previous correct 30': 3, 'nth previous correct 28': 3, 'nth previous correct 66': 3, 'nth previous correct 25': 2, 'nth previous correct 27': 2, 'nth previous correct 22': 2, 'nth previous correct 47': 2, 'nth previous correct 43': 1})\n",
      "OJPaC9ChXY\n",
      "Counter({'total': 446164, 'most_recent_distractor_total': 295844, 'most_recent_distractor_curdomain': 268602, 'first and next equal and correct': 259527, 'first correct only': 120997, 'both incorrect': 37634, 'some previous among past 100 correct': 34909, 'next correct only': 28006, 'most_recent_distractor_some_prev_domain': 24582, 'nth previous correct 1': 17929, 'nth previous correct 2': 8959, 'nth previous correct 3': 2866, 'most_recent_distractor_nextdomain': 2660, 'newtab': 2392, 'nth previous correct 4': 1883, 'nth previous correct 7': 1440, 'nth previous correct 5': 478, 'nth previous correct 11': 388, 'no match found': 333, 'nth previous correct 10': 258, 'nth previous correct 6': 206, 'nth previous correct 14': 184, 'nth previous correct 15': 91, 'nth previous correct 19': 87, 'nth previous correct 9': 78, 'nth previous correct 8': 33, 'nth previous correct 29': 20, 'nth previous correct 27': 2, 'nth previous correct 30': 2, 'nth previous correct 26': 1, 'nth previous correct 28': 1, 'nth previous correct 12': 1, 'nth previous correct 40': 1, 'nth previous correct 49': 1})\n",
      "pEUnqUDtBT\n",
      "Counter({'total': 66846, 'first and next equal and correct': 29565, 'first correct only': 19671, 'most_recent_distractor_total': 17260, 'most_recent_distractor_curdomain': 13722, 'both incorrect': 11040, 'some previous among past 100 correct': 10624, 'next correct only': 6570, 'nth previous correct 1': 3831, 'most_recent_distractor_some_prev_domain': 3061, 'nth previous correct 3': 1509, 'nth previous correct 2': 1274, 'nth previous correct 4': 731, 'most_recent_distractor_nextdomain': 477, 'nth previous correct 5': 425, 'nth previous correct 7': 390, 'nth previous correct 16': 390, 'newtab': 385, 'nth previous correct 13': 327, 'nth previous correct 6': 322, 'nth previous correct 12': 320, 'nth previous correct 11': 249, 'nth previous correct 17': 186, 'nth previous correct 9': 153, 'nth previous correct 14': 113, 'nth previous correct 8': 95, 'nth previous correct 21': 77, 'nth previous correct 10': 59, 'nth previous correct 15': 34, 'nth previous correct 73': 31, 'no match found': 31, 'nth previous correct 29': 21, 'nth previous correct 42': 15, 'nth previous correct 27': 7, 'nth previous correct 19': 6, 'nth previous correct 50': 5, 'nth previous correct 53': 5, 'nth previous correct 30': 4, 'nth previous correct 61': 4, 'nth previous correct 28': 4, 'nth previous correct 24': 3, 'nth previous correct 25': 3, 'nth previous correct 60': 3, 'nth previous correct 78': 3, 'nth previous correct 34': 3, 'nth previous correct 57': 2, 'nth previous correct 22': 2, 'nth previous correct 91': 2, 'nth previous correct 93': 2, 'nth previous correct 92': 2, 'nth previous correct 33': 2, 'nth previous correct 47': 2, 'nth previous correct 31': 1, 'nth previous correct 26': 1, 'nth previous correct 23': 1, 'nth previous correct 54': 1, 'nth previous correct 52': 1, 'nth previous correct 90': 1, 'nth previous correct 94': 1, 'nth previous correct 18': 1})\n",
      "WlQR9c3gxB\n",
      "Counter({'total': 54489, 'first and next equal and correct': 25280, 'most_recent_distractor_total': 23417, 'first correct only': 21194, 'most_recent_distractor_curdomain': 21175, 'both incorrect': 5511, 'some previous among past 100 correct': 5008, 'nth previous correct 1': 4138, 'next correct only': 2504, 'most_recent_distractor_some_prev_domain': 1782, 'most_recent_distractor_nextdomain': 460, 'nth previous correct 5': 394, 'nth previous correct 2': 366, 'no match found': 355, 'newtab': 148, 'nth previous correct 18': 43, 'nth previous correct 4': 39, 'nth previous correct 9': 7, 'nth previous correct 14': 5, 'nth previous correct 11': 4, 'nth previous correct 10': 3, 'nth previous correct 15': 3, 'nth previous correct 7': 2, 'nth previous correct 6': 2, 'nth previous correct 3': 1, 'nth previous correct 8': 1})\n",
      "5aAWsn30FO\n",
      "Counter({'total': 79150, 'first and next equal and correct': 41908, 'most_recent_distractor_total': 34054, 'most_recent_distractor_curdomain': 31887, 'first correct only': 21604, 'both incorrect': 11951, 'some previous among past 100 correct': 11243, 'nth previous correct 1': 3877, 'next correct only': 3687, 'most_recent_distractor_some_prev_domain': 2000, 'nth previous correct 3': 1832, 'nth previous correct 2': 1457, 'nth previous correct 4': 1232, 'nth previous correct 5': 929, 'nth previous correct 6': 796, 'newtab': 465, 'nth previous correct 10': 317, 'no match found': 243, 'most_recent_distractor_nextdomain': 167, 'nth previous correct 15': 132, 'nth previous correct 7': 118, 'nth previous correct 8': 103, 'nth previous correct 20': 68, 'nth previous correct 24': 62, 'nth previous correct 9': 61, 'nth previous correct 21': 60, 'nth previous correct 13': 39, 'nth previous correct 18': 32, 'nth previous correct 19': 30, 'nth previous correct 17': 25, 'nth previous correct 22': 24, 'nth previous correct 11': 19, 'nth previous correct 12': 16, 'nth previous correct 55': 4, 'nth previous correct 23': 3, 'nth previous correct 16': 3, 'nth previous correct 32': 1, 'nth previous correct 70': 1, 'nth previous correct 47': 1, 'nth previous correct 45': 1})\n",
      "yFENbIeERx\n",
      "Counter({'total': 99579, 'first and next equal and correct': 45882, 'first correct only': 39807, 'most_recent_distractor_total': 36870, 'most_recent_distractor_curdomain': 32479, 'both incorrect': 10033, 'some previous among past 100 correct': 9537, 'nth previous correct 1': 4028, 'next correct only': 3857, 'most_recent_distractor_some_prev_domain': 3370, 'nth previous correct 2': 1711, 'most_recent_distractor_nextdomain': 1021, 'nth previous correct 6': 790, 'nth previous correct 30': 417, 'newtab': 416, 'nth previous correct 3': 322, 'nth previous correct 13': 312, 'nth previous correct 9': 304, 'nth previous correct 4': 247, 'nth previous correct 12': 204, 'nth previous correct 5': 199, 'nth previous correct 16': 166, 'nth previous correct 8': 149, 'nth previous correct 28': 115, 'nth previous correct 11': 102, 'nth previous correct 7': 99, 'nth previous correct 29': 98, 'nth previous correct 26': 91, 'no match found': 80, 'nth previous correct 20': 60, 'nth previous correct 19': 41, 'nth previous correct 10': 36, 'nth previous correct 15': 25, 'nth previous correct 14': 10, 'nth previous correct 25': 4, 'nth previous correct 17': 4, 'nth previous correct 21': 2, 'nth previous correct 61': 1})\n",
      "NPrpJqWMkb\n",
      "Counter({'total': 20962, 'first and next equal and correct': 9187, 'first correct only': 6287, 'both incorrect': 4566, 'some previous among past 100 correct': 4209, 'most_recent_distractor_total': 2030, 'most_recent_distractor_curdomain': 1870, 'nth previous correct 3': 1368, 'next correct only': 922, 'nth previous correct 4': 919, 'nth previous correct 1': 708, 'nth previous correct 2': 565, 'newtab': 345, 'nth previous correct 5': 280, 'most_recent_distractor_some_prev_domain': 155, 'nth previous correct 6': 102, 'nth previous correct 14': 94, 'nth previous correct 8': 41, 'nth previous correct 7': 27, 'nth previous correct 21': 17, 'nth previous correct 26': 12, 'no match found': 12, 'nth previous correct 30': 11, 'nth previous correct 11': 10, 'nth previous correct 16': 10, 'nth previous correct 9': 8, 'nth previous correct 22': 7, 'most_recent_distractor_nextdomain': 5, 'nth previous correct 23': 4, 'nth previous correct 25': 3, 'nth previous correct 51': 3, 'nth previous correct 53': 3, 'nth previous correct 15': 3, 'nth previous correct 46': 3, 'nth previous correct 24': 2, 'nth previous correct 12': 2, 'nth previous correct 49': 2, 'nth previous correct 20': 1, 'nth previous correct 50': 1, 'nth previous correct 13': 1, 'nth previous correct 17': 1, 'nth previous correct 19': 1})\n",
      "y9QE4DHHJN\n",
      "Counter({'total': 142778, 'both incorrect': 50578, 'some previous among past 100 correct': 49595, 'first and next equal and correct': 43108, 'first correct only': 40175, 'most_recent_distractor_total': 36805, 'nth previous correct 1': 27103, 'most_recent_distractor_curdomain': 23360, 'nth previous correct 2': 13920, 'most_recent_distractor_some_prev_domain': 10919, 'next correct only': 8917, 'nth previous correct 3': 3201, 'most_recent_distractor_nextdomain': 2526, 'nth previous correct 4': 1548, 'nth previous correct 5': 1438, 'nth previous correct 10': 884, 'newtab': 615, 'nth previous correct 12': 398, 'no match found': 368, 'nth previous correct 8': 215, 'nth previous correct 6': 186, 'nth previous correct 7': 139, 'nth previous correct 13': 137, 'nth previous correct 14': 100, 'nth previous correct 9': 85, 'nth previous correct 15': 83, 'nth previous correct 11': 34, 'nth previous correct 22': 32, 'nth previous correct 17': 19, 'nth previous correct 26': 18, 'nth previous correct 20': 16, 'nth previous correct 16': 11, 'nth previous correct 19': 8, 'nth previous correct 21': 7, 'nth previous correct 29': 4, 'nth previous correct 24': 2, 'nth previous correct 25': 2, 'nth previous correct 74': 2, 'nth previous correct 45': 2, 'nth previous correct 34': 1})\n",
      "batItsva2s\n",
      "Counter({'total': 132015, 'most_recent_distractor_total': 69071, 'first and next equal and correct': 65111, 'most_recent_distractor_curdomain': 58914, 'first correct only': 33795, 'both incorrect': 20611, 'some previous among past 100 correct': 19970, 'next correct only': 12498, 'most_recent_distractor_some_prev_domain': 8829, 'nth previous correct 1': 8777, 'nth previous correct 2': 4826, 'nth previous correct 3': 2061, 'most_recent_distractor_nextdomain': 1328, 'nth previous correct 5': 1094, 'nth previous correct 4': 1012, 'nth previous correct 6': 670, 'nth previous correct 15': 611, 'newtab': 410, 'nth previous correct 100': 371, 'nth previous correct 7': 365, 'no match found': 231, 'nth previous correct 19': 61, 'nth previous correct 10': 44, 'nth previous correct 8': 23, 'nth previous correct 9': 17, 'nth previous correct 35': 12, 'nth previous correct 13': 6, 'nth previous correct 39': 5, 'nth previous correct 27': 3, 'nth previous correct 11': 2, 'nth previous correct 12': 2, 'nth previous correct 17': 2, 'nth previous correct 25': 1, 'nth previous correct 20': 1, 'nth previous correct 18': 1, 'nth previous correct 38': 1, 'nth previous correct 37': 1, 'nth previous correct 44': 1})\n",
      "OtHgO83x97\n",
      "Counter({'total': 302654, 'first and next equal and correct': 196186, 'first correct only': 68836, 'most_recent_distractor_total': 37836, 'most_recent_distractor_curdomain': 35993, 'both incorrect': 28807, 'some previous among past 100 correct': 16588, 'no match found': 10558, 'nth previous correct 1': 9250, 'next correct only': 8825, 'nth previous correct 2': 2368, 'most_recent_distractor_some_prev_domain': 1758, 'newtab': 1661, 'nth previous correct 3': 1248, 'nth previous correct 5': 700, 'nth previous correct 4': 681, 'nth previous correct 8': 479, 'nth previous correct 6': 347, 'nth previous correct 11': 276, 'nth previous correct 10': 226, 'nth previous correct 9': 205, 'nth previous correct 7': 166, 'nth previous correct 16': 138, 'nth previous correct 92': 99, 'most_recent_distractor_nextdomain': 85, 'nth previous correct 12': 68, 'nth previous correct 23': 67, 'nth previous correct 22': 63, 'nth previous correct 48': 61, 'nth previous correct 14': 38, 'nth previous correct 15': 27, 'nth previous correct 93': 26, 'nth previous correct 13': 25, 'nth previous correct 62': 5, 'nth previous correct 17': 4, 'nth previous correct 86': 4, 'nth previous correct 71': 3, 'nth previous correct 41': 3, 'nth previous correct 27': 2, 'nth previous correct 39': 1, 'nth previous correct 73': 1, 'nth previous correct 70': 1, 'nth previous correct 75': 1, 'nth previous correct 42': 1, 'nth previous correct 47': 1, 'nth previous correct 49': 1, 'nth previous correct 35': 1, 'nth previous correct 34': 1})\n"
     ]
    }
   ],
   "source": [
    "#for user in get_test_users():\n",
    "#  print user\n",
    "#  print (get_recently_seen_domain_stats_for_user(user)['stats'])"
   ]
  },
  {
   "cell_type": "code",
   "execution_count": 2,
   "metadata": {
    "collapsed": true
   },
   "outputs": [],
   "source": [
    "@memoized\n",
    "def get_recently_seen_domain_stats_for_user_v3(user):\n",
    "  ordered_visits = get_history_ordered_visits_corrected_for_user(user)\n",
    "  ordered_visits = exclude_bad_visits(ordered_visits)\n",
    "  active_domain_at_time = get_active_domain_at_time_for_user(user)\n",
    "  active_seconds_set = set(get_active_insession_seconds_for_user(user))\n",
    "  #active_second_to_domain_id = get_active_second_to_domain_id_for_user(user)\n",
    "  active_second_to_domain_id = {int(k):v for k,v in get_active_second_to_domain_id_for_user(user).viewitems()}\n",
    "  recently_seen_domain_ids = [-1]*100\n",
    "  seen_domain_ids_set = set()\n",
    "  stats = Counter()\n",
    "  nomatch_domains = Counter()\n",
    "  tabbed_back_domains_first = Counter()\n",
    "  tabbed_back_domains_second = Counter()\n",
    "  tabbed_back_domains_all = Counter()\n",
    "  distractors_list = [domain_to_id(x) for x in ['www.mturk.com', 'apps.facebook.com', 'www.facebook.com', 'www.reddit.com', 'www.youtube.com']]\n",
    "  distractors = set(distractors_list)\n",
    "  most_recent_distractor = distractors_list[0]\n",
    "  for idx,visit in enumerate(ordered_visits):\n",
    "    if idx+1 >= len(ordered_visits):\n",
    "      break\n",
    "    next_visit = ordered_visits[idx+1]\n",
    "    cur_domain = url_to_domain(visit['url'])\n",
    "    cur_domain_id = domain_to_id(cur_domain)\n",
    "    if cur_domain_id in distractors:\n",
    "      most_recent_distractor = cur_domain_id\n",
    "    if cur_domain_id != recently_seen_domain_ids[-1]:\n",
    "      if cur_domain_id in seen_domain_ids_set:\n",
    "        recently_seen_domain_ids.remove(cur_domain_id)\n",
    "      seen_domain_ids_set.add(cur_domain_id)\n",
    "      recently_seen_domain_ids.append(cur_domain_id)\n",
    "    next_domain = url_to_domain(next_visit['url'])\n",
    "    next_domain_id = domain_to_id(next_domain)\n",
    "    cur_time_sec = int(round(visit['visitTime'] / 1000.0))\n",
    "    next_time_sec = int(round(next_visit['visitTime'] / 1000.0))\n",
    "    \n",
    "    if cur_time_sec > next_time_sec:\n",
    "      continue\n",
    "    \n",
    "    for time_sec in xrange(cur_time_sec, next_time_sec+1):\n",
    "      if time_sec not in active_seconds_set:\n",
    "        continue\n",
    "      ref_domain_id = active_second_to_domain_id[time_sec]\n",
    "      stats['total'] += 1\n",
    "      if most_recent_distractor == ref_domain_id:\n",
    "        stats['most_recent_distractor_total'] += 1\n",
    "        if cur_domain_id == ref_domain_id:\n",
    "          stats['most_recent_distractor_curdomain'] += 1\n",
    "        elif cur_domain_id == next_domain_id:\n",
    "          stats['most_recent_distractor_nextdomain'] += 1\n",
    "        else:\n",
    "          stats['most_recent_distractor_some_prev_domain'] += 1\n",
    "      if cur_domain_id == ref_domain_id:\n",
    "        if next_domain_id == cur_domain_id:\n",
    "          stats['first and next equal and correct'] += 1\n",
    "        else:\n",
    "          stats['first correct only'] += 1\n",
    "        continue\n",
    "      #if next_domain_id == ref_domain_id:\n",
    "      #  stats['next correct only'] += 1\n",
    "      #  continue\n",
    "      stats['both incorrect'] += 1\n",
    "      found_match = False\n",
    "      ref_domain = id_to_domain(ref_domain_id)\n",
    "      for i in range(1,101):\n",
    "        if recently_seen_domain_ids[-1-i] == ref_domain_id:\n",
    "          stats['nth previous correct ' + str(abs(i))] += 1\n",
    "          stats['some previous among past 100 correct'] += 1\n",
    "          found_match = True\n",
    "          tabbed_back_domains_all[ref_domain] += 1\n",
    "          if i == 1:\n",
    "            tabbed_back_domains_first[ref_domain] += 1\n",
    "          if i == 2:\n",
    "            tabbed_back_domains_second[ref_domain] += 1\n",
    "          break\n",
    "      if not found_match:\n",
    "        ref_domain = id_to_domain(ref_domain_id)\n",
    "        #if ref_domain == 'newtab':\n",
    "        #  stats['newtab'] += 1\n",
    "        #  continue\n",
    "        stats['no match found'] += 1\n",
    "        nomatch_domains[id_to_domain(ref_domain_id)] += 1\n",
    "      '''\n",
    "      if cur_domain_id == ref_domain_id:\n",
    "        if next_domain_id == cur_domain_id:\n",
    "          stats['first and next equal and correct'] += 1\n",
    "          continue\n",
    "        else:\n",
    "          stats['first correct only'] += 1\n",
    "          continue\n",
    "      else:\n",
    "        if next_domain_id == cur_domain_id:\n",
    "          stats['both incorrect'] += 1\n",
    "          found_match = False\n",
    "          for i in range(1,101):\n",
    "            if recently_seen_domain_ids[-1-i] == ref_domain_id:\n",
    "              stats['nth previous correct ' + str(abs(i))] += 1\n",
    "              stats['some previous among past 100 correct'] += 1\n",
    "              found_match = True\n",
    "              break\n",
    "          if not found_match:\n",
    "            ref_domain = id_to_domain(ref_domain_id)\n",
    "            if ref_domain == 'newtab':\n",
    "              stats['newtab'] += 1\n",
    "              continue\n",
    "            stats['no match found'] += 1\n",
    "            nomatch_domains[id_to_domain(ref_domain_id)] += 1\n",
    "          continue\n",
    "        if next_domain_id == ref_domain_id:\n",
    "          stats['next correct only'] += 1\n",
    "          continue\n",
    "      '''\n",
    "  return {\n",
    "    'stats': stats,\n",
    "    'nomatch_domains': nomatch_domains,\n",
    "    'tabbed_back_domains_all': tabbed_back_domains_all,\n",
    "    'tabbed_back_domains_first': tabbed_back_domains_first,\n",
    "    'tabbed_back_domains_second': tabbed_back_domains_second,\n",
    "  }"
   ]
  },
  {
   "cell_type": "code",
   "execution_count": 3,
   "metadata": {
    "collapsed": false
   },
   "outputs": [],
   "source": [
    "#total_stats = Counter({'total': 544544, 'first and next equal and correct': 351081, 'first correct only': 88522, 'both incorrect': 51663, 'some previous among past 20 correct': 41231, 'nth previous correct 1': 31202, 'next correct only': 23569, 'no match found': 10432, 'nth previous correct 2': 3311, 'nth previous correct 3': 1635, 'nth previous correct 4': 905, 'nth previous correct 5': 862, 'nth previous correct 6': 545, 'nth previous correct 7': 412, 'nth previous correct 8': 357, 'nth previous correct 9': 269, 'nth previous correct 10': 259, 'nth previous correct 13': 234, 'nth previous correct 11': 229, 'nth previous correct 12': 190, 'nth previous correct 15': 183, 'nth previous correct 14': 140, 'nth previous correct 17': 139, 'nth previous correct 20': 95, 'nth previous correct 16': 90, 'nth previous correct 19': 88, 'nth previous correct 18': 86})\n",
    "\n",
    "total_stats = Counter()\n",
    "\n",
    "for user in get_test_users():\n",
    "  for k,v in get_recently_seen_domain_stats_for_user_v3(user)['stats'].viewitems():\n",
    "    total_stats[k] += v\n",
    "#total_stats = Counter({'total': 544544, 'first and next equal and correct': 351081, 'first correct only': 88522, 'both incorrect': 51663, 'some previous among past 20 correct': 41136, 'nth previous correct 2': 31202, 'next correct only': 23569, 'no match found': 10527, 'nth previous correct 3': 3311, 'nth previous correct 4': 1635, 'nth previous correct 5': 905, 'nth previous correct 6': 862, 'nth previous correct 7': 545, 'nth previous correct 8': 412, 'nth previous correct 9': 357, 'nth previous correct 10': 269, 'nth previous correct 11': 259, 'nth previous correct 14': 234, 'nth previous correct 12': 229, 'nth previous correct 13': 190, 'nth previous correct 16': 183, 'nth previous correct 15': 140, 'nth previous correct 18': 139, 'nth previous correct 17': 90, 'nth previous correct 20': 88, 'nth previous correct 19': 86})"
   ]
  },
  {
   "cell_type": "code",
   "execution_count": 4,
   "metadata": {
    "collapsed": false
   },
   "outputs": [
    {
     "name": "stdout",
     "output_type": "stream",
     "text": [
      "total 14806666\n",
      "first and next equal and correct 6588587\n",
      "most_recent_distractor_total 4978110\n",
      "first correct only 4430669\n",
      "most_recent_distractor_curdomain 4226119\n",
      "both incorrect 3787410\n",
      "some previous among past 100 correct 3598307\n",
      "nth previous correct 1 1646024\n",
      "nth previous correct 2 674420\n",
      "most_recent_distractor_some_prev_domain 621347\n",
      "nth previous correct 3 374076\n",
      "nth previous correct 4 218390\n",
      "no match found 189103\n",
      "most_recent_distractor_nextdomain 130644\n",
      "nth previous correct 5 128902\n",
      "nth previous correct 6 102701\n",
      "nth previous correct 7 71187\n",
      "nth previous correct 8 58600\n",
      "nth previous correct 9 43291\n",
      "nth previous correct 10 42584\n",
      "nth previous correct 11 29831\n",
      "nth previous correct 12 23107\n",
      "nth previous correct 13 22927\n",
      "nth previous correct 15 13742\n",
      "nth previous correct 16 12968\n",
      "nth previous correct 17 12869\n",
      "nth previous correct 14 12776\n",
      "nth previous correct 18 11522\n",
      "nth previous correct 19 7643\n",
      "nth previous correct 21 7236\n",
      "nth previous correct 20 6725\n",
      "nth previous correct 22 6291\n",
      "nth previous correct 24 5486\n",
      "nth previous correct 25 5210\n",
      "nth previous correct 23 5102\n",
      "nth previous correct 29 4618\n",
      "nth previous correct 27 4568\n",
      "nth previous correct 30 3912\n",
      "nth previous correct 26 3399\n",
      "nth previous correct 28 2904\n",
      "nth previous correct 31 2017\n",
      "nth previous correct 39 1776\n",
      "nth previous correct 33 1653\n",
      "nth previous correct 43 1628\n",
      "nth previous correct 34 1577\n",
      "nth previous correct 32 1546\n",
      "nth previous correct 37 1506\n",
      "nth previous correct 35 1329\n",
      "nth previous correct 42 1165\n",
      "nth previous correct 41 1163\n",
      "nth previous correct 62 1076\n",
      "nth previous correct 47 1043\n",
      "nth previous correct 40 1042\n",
      "nth previous correct 36 1014\n",
      "nth previous correct 55 957\n",
      "nth previous correct 44 885\n",
      "nth previous correct 67 883\n",
      "nth previous correct 38 836\n",
      "nth previous correct 53 729\n",
      "nth previous correct 54 632\n",
      "nth previous correct 50 613\n",
      "nth previous correct 52 604\n",
      "nth previous correct 46 594\n",
      "nth previous correct 57 573\n",
      "nth previous correct 72 545\n",
      "nth previous correct 76 509\n",
      "nth previous correct 45 481\n",
      "nth previous correct 65 467\n",
      "nth previous correct 64 457\n",
      "nth previous correct 49 447\n",
      "nth previous correct 48 443\n",
      "nth previous correct 56 336\n",
      "nth previous correct 61 327\n",
      "nth previous correct 51 327\n",
      "nth previous correct 58 304\n",
      "nth previous correct 63 293\n",
      "nth previous correct 73 246\n",
      "nth previous correct 66 232\n",
      "nth previous correct 60 219\n",
      "nth previous correct 68 217\n",
      "nth previous correct 59 198\n",
      "nth previous correct 70 191\n",
      "nth previous correct 81 162\n",
      "nth previous correct 77 161\n",
      "nth previous correct 98 146\n",
      "nth previous correct 82 136\n",
      "nth previous correct 78 134\n",
      "nth previous correct 69 132\n",
      "nth previous correct 92 127\n",
      "nth previous correct 83 127\n",
      "nth previous correct 74 123\n",
      "nth previous correct 71 106\n",
      "nth previous correct 94 94\n",
      "nth previous correct 93 84\n",
      "nth previous correct 75 73\n",
      "nth previous correct 84 73\n",
      "nth previous correct 87 72\n",
      "nth previous correct 85 68\n",
      "nth previous correct 80 62\n",
      "nth previous correct 95 60\n"
     ]
    }
   ],
   "source": [
    "print_counter(total_stats)"
   ]
  },
  {
   "cell_type": "code",
   "execution_count": null,
   "metadata": {
    "collapsed": true
   },
   "outputs": [],
   "source": []
  },
  {
   "cell_type": "code",
   "execution_count": 5,
   "metadata": {
    "collapsed": false
   },
   "outputs": [],
   "source": [
    "def sumkeys(d, *args):\n",
    "  return sum(d.get(x, 0.0) for x in args)"
   ]
  },
  {
   "cell_type": "code",
   "execution_count": null,
   "metadata": {
    "collapsed": false
   },
   "outputs": [],
   "source": []
  },
  {
   "cell_type": "code",
   "execution_count": 6,
   "metadata": {
    "collapsed": false
   },
   "outputs": [
    {
     "name": "stdout",
     "output_type": "stream",
     "text": [
      "select prev gets answer correct 0.74420912851\n",
      "prev or next gets answer correct 0.74420912851\n",
      "prev or next or newtab gets answer correct 0.74420912851\n",
      "prev or next or past 1 0.855376895785\n",
      "prev or next or past 2 0.900925299456\n",
      "prev or next or past 3 0.926189325808\n",
      "prev or next or past 4 0.940938763662\n",
      "prev or next or past 5 0.949644437174\n",
      "prev or next or past 6 0.95658056986\n",
      "prev or next or past 7 0.961388336848\n",
      "prev or next or past 8 0.965346013748\n",
      "prev or next or past 9 0.968269764443\n",
      "prev or next or past 10 0.971145766373\n",
      "prev or next or past 11 0.973160467049\n",
      "prev or next or past 12 0.974721047939\n",
      "prev or next or past 13 0.976269472142\n",
      "prev or next or past 14 0.977132326751\n",
      "prev or next or past 15 0.978060422245\n",
      "prev or next or past 16 0.978936243986\n",
      "prev or next or past 17 0.97980537955\n",
      "prev or next or past 18 0.980583542575\n",
      "prev or next or past 19 0.981099729\n",
      "prev or next or past 20 0.981553916324\n",
      "prev or next or past 21 0.98204261513\n",
      "prev or next or past 22 0.982467491331\n",
      "prev or next or past 23 0.982812065863\n",
      "prev or next or past 24 0.983182574659\n",
      "prev or next or past 25 0.983534443203\n",
      "prev or next or past 26 0.98376400197\n",
      "prev or next or past 27 0.984072511665\n",
      "prev or next or past 28 0.984268639544\n",
      "prev or next or past 29 0.984580526095\n",
      "prev or next or past 30 0.98484473142\n",
      "prev or next or past 31 0.984980953849\n",
      "prev or next or past 32 0.98508536628\n",
      "prev or next or past 33 0.985197005187\n",
      "prev or next or past 34 0.98530351127\n",
      "prev or next or past 35 0.98539326814\n",
      "prev or next or past 36 0.985461750809\n",
      "prev or next or past 37 0.985563461754\n",
      "prev or next or past 38 0.98561992281\n",
      "prev or next or past 39 0.985739868786\n",
      "prev or next or past 40 0.985810242495\n",
      "prev or next or past 41 0.985888788199\n",
      "prev or next or past 42 0.985967468976\n",
      "prev or next or past 43 0.986077419454\n",
      "prev or next or past 44 0.986137189831\n",
      "prev or next or past 45 0.986169675199\n",
      "prev or next or past 46 0.986209792265\n",
      "prev or next or past 47 0.986280233511\n",
      "prev or next or past 48 0.986310152468\n",
      "prev or next or past 49 0.986340341573\n",
      "prev or next or past 50 0.986381741845\n",
      "prev or next or past 51 0.986403826493\n",
      "prev or next or past 52 0.98644461893\n",
      "prev or next or past 53 0.986493853512\n",
      "prev or next or past 54 0.986536536989\n",
      "prev or next or past 55 0.986601170041\n",
      "prev or next or past 56 0.986623862522\n",
      "prev or next or past 57 0.986662561309\n",
      "prev or next or past 58 0.986683092602\n",
      "prev or next or past 59 0.986696464957\n",
      "prev or next or past 60 0.986711255593\n",
      "prev or next or past 61 0.98673334024\n",
      "prev or next or past 62 0.986806010212\n",
      "prev or next or past 63 0.986825798596\n",
      "prev or next or past 64 0.986856663073\n",
      "prev or next or past 65 0.986888202922\n",
      "prev or next or past 66 0.98690387154\n",
      "prev or next or past 67 0.986963506842\n",
      "prev or next or past 68 0.986978162403\n",
      "prev or next or past 69 0.986987077307\n",
      "prev or next or past 70 0.986999976902\n",
      "prev or next or past 71 0.98700713584\n",
      "prev or next or past 72 0.987043943586\n",
      "prev or next or past 73 0.987060557724\n",
      "prev or next or past 74 0.987068864794\n",
      "prev or next or past 75 0.987073795006\n",
      "prev or next or past 76 0.987108171414\n",
      "prev or next or past 77 0.987119044895\n",
      "prev or next or past 78 0.987128094873\n",
      "prev or next or past 79 0.987130458673\n",
      "prev or next or past 80 0.987134645976\n",
      "prev or next or past 81 0.987145586994\n",
      "prev or next or past 82 0.987154772047\n",
      "prev or next or past 83 0.987163349264\n",
      "prev or next or past 84 0.987168279476\n",
      "prev or next or past 85 0.987172872002\n",
      "prev or next or past 86 0.98717435782\n",
      "prev or next or past 87 0.987179220494\n",
      "prev or next or past 88 0.987180908923\n",
      "prev or next or past 89 0.987182935038\n",
      "prev or next or past 90 0.987183880558\n",
      "prev or next or past 91 0.987184555929\n",
      "prev or next or past 92 0.987193133147\n",
      "prev or next or past 93 0.987198806267\n",
      "prev or next or past 94 0.987205154759\n",
      "prev or next or past 95 0.987209206988\n",
      "prev or next or past 96 0.987212516309\n",
      "prev or next or past 97 0.987214272274\n",
      "prev or next or past 98 0.987224132698\n",
      "prev or next or past 99 0.987226901721\n",
      "prev or next or past 100 0.987228522613\n"
     ]
    }
   ],
   "source": [
    "norm = {k:float(v)/total_stats['total'] for k,v in total_stats.viewitems()}\n",
    "print 'select prev gets answer correct', sumkeys(norm, 'first and next equal and correct', 'first correct only')\n",
    "print 'prev or next gets answer correct', sumkeys(norm, 'first and next equal and correct', 'first correct only', 'next correct only')\n",
    "print 'prev or next or newtab gets answer correct', sumkeys(norm, 'first and next equal and correct', 'first correct only', 'next correct only', 'newtab')\n",
    "for i in range(1, 101):\n",
    "  sumprev = sum([norm.get('nth previous correct '+str(x),0.0) for x in range(i+1)])\n",
    "  print 'prev or next or past ' + str(i), sumkeys(norm, 'first and next equal and correct', 'first correct only', 'next correct only', 'newtab')+sumprev"
   ]
  },
  {
   "cell_type": "code",
   "execution_count": 25,
   "metadata": {
    "collapsed": false
   },
   "outputs": [],
   "source": [
    "#print norm['most_recent_distractor_total']\n",
    "#print norm['most_recent_distractor_curdomain']\n",
    "#print norm['most_recent_distractor_nextdomain']\n",
    "#print norm['most_recent_distractor_some_prev_domain']"
   ]
  }
 ],
 "metadata": {
  "kernelspec": {
   "display_name": "Python 2",
   "language": "python",
   "name": "python2"
  },
  "language_info": {
   "codemirror_mode": {
    "name": "ipython",
    "version": 2
   },
   "file_extension": ".py",
   "mimetype": "text/x-python",
   "name": "python",
   "nbconvert_exporter": "python",
   "pygments_lexer": "ipython2",
   "version": "2.7.11"
  }
 },
 "nbformat": 4,
 "nbformat_minor": 0
}
