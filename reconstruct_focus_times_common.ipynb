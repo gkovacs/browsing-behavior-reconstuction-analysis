{
 "cells": [
  {
   "cell_type": "code",
   "execution_count": 12,
   "metadata": {
    "collapsed": false
   },
   "outputs": [
    {
     "data": {
      "text/plain": [
       "0"
      ]
     },
     "execution_count": 12,
     "metadata": {},
     "output_type": "execute_result"
    }
   ],
   "source": [
    "# noexport\n",
    "\n",
    "import os\n",
    "os.system('export_notebook_pyx reconstruct_focus_times_common.ipynb')"
   ]
  },
  {
   "cell_type": "code",
   "execution_count": 2,
   "metadata": {
    "collapsed": true
   },
   "outputs": [],
   "source": [
    "from tmilib import *\n",
    "from reconstruct_focus_times_base import *"
   ]
  },
  {
   "cell_type": "code",
   "execution_count": 3,
   "metadata": {
    "collapsed": true
   },
   "outputs": [],
   "source": []
  },
  {
   "cell_type": "code",
   "execution_count": 4,
   "metadata": {
    "collapsed": true
   },
   "outputs": [],
   "source": []
  },
  {
   "cell_type": "code",
   "execution_count": null,
   "metadata": {
    "collapsed": true
   },
   "outputs": [],
   "source": []
  },
  {
   "cell_type": "code",
   "execution_count": null,
   "metadata": {
    "collapsed": true
   },
   "outputs": [],
   "source": []
  },
  {
   "cell_type": "code",
   "execution_count": 5,
   "metadata": {
    "collapsed": true
   },
   "outputs": [],
   "source": [
    "def evaluation_stats_for_reconstruction(result_reference, result_reconstructed):\n",
    "  stats = Counter()\n",
    "  for ref_answer,rec_answer in zip(result_reference.get_output(), result_reconstructed.get_output()):\n",
    "    if ref_answer == 0 and rec_answer == 0:\n",
    "      stats['both_inactive'] += 1\n",
    "    elif ref_answer == 0 and rec_answer != 0:\n",
    "      stats['ref_inactive_but_rec_active'] += 1\n",
    "    elif ref_answer != 0 and rec_answer == 0:\n",
    "      stats['ref_active_but_rec_inactive'] += 1\n",
    "    elif ref_answer != 0 and rec_answer != 0:\n",
    "      ref_url = result_reference.get_url_for_index(ref_answer)\n",
    "      rec_url = result_reconstructed.get_url_for_index(rec_answer)\n",
    "      ref_domain = url_to_domain(ref_url)\n",
    "      rec_domain = url_to_domain(rec_url)\n",
    "      if ref_domain == rec_domain:\n",
    "        if ref_url == rec_url:\n",
    "          stats['correct_url'] += 1\n",
    "        else:\n",
    "          stats['correct_domain'] += 1\n",
    "      else:\n",
    "        stats['incorrect_domain'] += 1\n",
    "  return stats"
   ]
  },
  {
   "cell_type": "code",
   "execution_count": 6,
   "metadata": {
    "collapsed": true
   },
   "outputs": [],
   "source": [
    "class UrlAsIndex:\n",
    "  def __init__(self, offset=0):\n",
    "    self.index_to_url = []\n",
    "    self.url_to_index = {}\n",
    "    for idx in range(offset):\n",
    "      self.index_to_url.append(None)\n",
    "  def get_index_for_url(self, url):\n",
    "    if url in self.url_to_index:\n",
    "      return self.url_to_index[url]\n",
    "    index = len(self.index_to_url)\n",
    "    self.index_to_url.append(url)\n",
    "    self.url_to_index[index] = url\n",
    "    return index\n",
    "  def get_url_for_index(self, index):\n",
    "    return self.index_to_url[index]\n",
    "\n",
    "class UrlAtTime:\n",
    "  def __init__(self, visits, start_time=None, end_time=None):\n",
    "    if start_time == None:\n",
    "      start_time = get_earliest_start_time(visits)\n",
    "    self.offset = start_time # milliseconds\n",
    "    if end_time == None:\n",
    "      end_time = get_last_end_time(visits)\n",
    "    end_time_minus_offset = (end_time - start_time) / 1000.0\n",
    "    #self.output = [None]*int(round(end_time_minus_offset) + 1)\n",
    "    self.output = numpy.zeros(int(round(end_time_minus_offset) + 1), dtype=int)\n",
    "    self.url_as_index = UrlAsIndex(1)\n",
    "    for visit in visits:\n",
    "      self.process_visit(visit)\n",
    "  def process_visit(self, visit):\n",
    "    url = visit['url']\n",
    "    url_idx = self.url_as_index.get_index_for_url(url)\n",
    "    start = visit['start']\n",
    "    end = visit['end']\n",
    "    start_idx = int(round((start - self.offset) / 1000.0))\n",
    "    if start_idx < 0:\n",
    "      start_idx = 0\n",
    "      #return\n",
    "    if start_idx >= len(self.output):\n",
    "      return\n",
    "    end_idx = int(round((end - self.offset) / 1000.0))\n",
    "    if end_idx < 0:\n",
    "      return\n",
    "    if end_idx >= len(self.output):\n",
    "      end_idx = len(self.output) - 1\n",
    "    for idx in range(start_idx, end_idx+1):\n",
    "      self.output[idx] = url_idx\n",
    "  def get_url_for_index(self, index):\n",
    "    return self.url_as_index.get_url_for_index(index)\n",
    "  def get_output(self):\n",
    "    return self.output\n",
    "\n",
    "def second_to_active_url(visits, start_time, end_time):\n",
    "  # offset: millseconds\n",
    "  #start_time = get_earliest_start_time(visits)\n",
    "  #end_time = get_last_end_time(visits)\n",
    "  url_at_time = UrlAtTime(visits, start_time, end_time)\n",
    "  return url_at_time"
   ]
  },
  {
   "cell_type": "code",
   "execution_count": 7,
   "metadata": {
    "collapsed": true
   },
   "outputs": [],
   "source": [
    "def add_empty_spans(spans):\n",
    "  output = []\n",
    "  spans_len = len(spans)\n",
    "  if spans_len == 0:\n",
    "    return output\n",
    "  for idx,span in enumerate(spans):\n",
    "    if idx+1 == spans_len:\n",
    "      continue\n",
    "    next_span = spans[idx+1]\n",
    "    output.append(span)\n",
    "    if next_span['start'] > span['end']: # need to insert an empty span\n",
    "      output.append({\n",
    "        'start': span['end'],\n",
    "        'active': span['end'],\n",
    "        'url': None,\n",
    "        'end': next_span['start'],\n",
    "      })\n",
    "  output.append(spans[-1])\n",
    "  return output\n",
    "\n",
    "def extend_empty_spans_to_cover_time(spans, start, end):\n",
    "  if len(spans) == 0:\n",
    "    spans.append({\n",
    "      'start': start,\n",
    "      'active': start,\n",
    "      'url': None,\n",
    "      'end': end,\n",
    "    })\n",
    "  if spans[0]['start'] > start:\n",
    "    spans.insert(0, {\n",
    "      'start': start,\n",
    "      'active': start,\n",
    "      'url': None,\n",
    "      'end': spans[0]['start'],\n",
    "    })\n",
    "  if spans[-1]['end'] < end:\n",
    "    spans.append({\n",
    "      'start': spans[-1]['end'],\n",
    "      'active': spans[-1]['end'],\n",
    "      'url': None,\n",
    "      'end': end,\n",
    "    })\n",
    "  return spans\n",
    "\n",
    "def restrict_spans_to_time(spans, start, end):\n",
    "  output = []\n",
    "  # discard items that occur before, and shorten the first item so that it starts at the start time\n",
    "  # discard items that occur after, and shorten the final item so that it ends at the end time\n",
    "  for span in spans:\n",
    "    if span['end'] < start:\n",
    "      continue\n",
    "    if span['start'] > end:\n",
    "      continue\n",
    "    if span['start'] < start:\n",
    "      span = span.copy()\n",
    "      span['start'] = start\n",
    "    if span['end'] > end:\n",
    "      span = span.copy()\n",
    "      span['end'] = end\n",
    "    if span['start'] >= span['end']: # span has no duration\n",
    "      continue\n",
    "    # note that this does not adjust the value of active\n",
    "    output.append(span)\n",
    "  return output\n",
    "\n",
    "def add_empty_spans_and_restrict_to_time(spans, start, end):\n",
    "  spans = restrict_spans_to_time(spans, start, end)\n",
    "  spans = extend_empty_spans_to_cover_time(spans, start, end)\n",
    "  return add_empty_spans(spans)\n"
   ]
  },
  {
   "cell_type": "code",
   "execution_count": 8,
   "metadata": {
    "collapsed": false
   },
   "outputs": [],
   "source": [
    "#print add_empty_spans_and_restrict_to_time([{'start': 0, 'active': 0, 'end': 2}, {'start': 5, 'active': 0, 'end': 7}, {'start': 8, 'active': 8, 'end': 10}], 2, 8)\n",
    "#add_empty_spans([{'start': 0, 'end': 2}, {'start': 5, 'end': 7}])"
   ]
  },
  {
   "cell_type": "code",
   "execution_count": 9,
   "metadata": {
    "collapsed": true
   },
   "outputs": [],
   "source": [
    "def add_block_segment_to_stats(stats, ref_block, rec_block, start, end, next_url):\n",
    "  ref_url = ref_block['url']\n",
    "  rec_url = rec_block['url']\n",
    "  duration = end - start\n",
    "  if ref_url == None and rec_url == None:\n",
    "    stats['both_inactive'] += duration\n",
    "    return\n",
    "  if ref_url == rec_url:\n",
    "    stats['correct_url'] += duration\n",
    "    return\n",
    "  if ref_url == None and rec_url != None:\n",
    "    stats['ref_inactive_but_rec_active'] += duration\n",
    "    return\n",
    "  if ref_url != None and rec_url == None:\n",
    "    stats['ref_active_but_rec_inactive'] += duration\n",
    "    return\n",
    "  ref_domain = url_to_domain(ref_url)\n",
    "  rec_domain = url_to_domain(rec_url)\n",
    "  if 'next_url' in rec_block:\n",
    "    nexturl = rec_block['next_url']\n",
    "    if nexturl == ref_url:\n",
    "      stats['nexturl_correct'] += duration\n",
    "      return\n",
    "  if ref_domain == rec_domain:\n",
    "    stats['correct_domain'] += duration\n",
    "    return\n",
    "  if 'next_url' in rec_block:\n",
    "    nexturl = rec_block['next_url']\n",
    "    nexturl_domain = url_to_domain(nexturl)\n",
    "    if nexturl_domain == ref_domain:\n",
    "      stats['nextdomain_correct'] += duration\n",
    "      return\n",
    "  if next_url == None:\n",
    "    stats['incorrect_domain_next_url_is_none'] += duration\n",
    "    return\n",
    "  next_domain = url_to_domain(next_url)\n",
    "  if next_domain == ref_domain:\n",
    "    stats['incorrect_domain_ref_equals_next_domain'] += duration\n",
    "    return\n",
    "  stats['incorrect_domain_other'] += duration\n",
    "\n",
    "def evalutate_tab_focus_reconstruction_fast(evaluated_tab_focus_times, evaluated_reconstructed_tab_focus_times):\n",
    "  if len(evaluated_reconstructed_tab_focus_times) == 0 or len(evaluated_tab_focus_times) == 0:\n",
    "    return {}\n",
    "  ref_start_time = max(get_earliest_start_time(evaluated_tab_focus_times), get_earliest_start_time(evaluated_reconstructed_tab_focus_times))\n",
    "  ref_end_time = min(get_last_end_time(evaluated_tab_focus_times), get_last_end_time(evaluated_reconstructed_tab_focus_times))\n",
    "  ref_start_time = max(ref_start_time, 1458371950000) # march 19th. may have had some data loss prior to that\n",
    "  ref_end_time = max(ref_end_time, 1458371950000)\n",
    "  reference = add_empty_spans_and_restrict_to_time(evaluated_tab_focus_times, ref_start_time, ref_end_time)\n",
    "  reconstructed = add_empty_spans_and_restrict_to_time(evaluated_reconstructed_tab_focus_times, ref_start_time, ref_end_time)\n",
    "  ref_idx = 0\n",
    "  rec_idx = 0\n",
    "  stats = Counter()\n",
    "  cur_time = ref_start_time\n",
    "  while cur_time < ref_end_time:\n",
    "    ref_block = reference[ref_idx]\n",
    "    rec_block = reconstructed[rec_idx]\n",
    "    if ref_block['end'] == rec_block['end']:\n",
    "      ref_idx += 1\n",
    "      rec_idx += 1\n",
    "      cur_end = ref_block['end']\n",
    "    elif ref_block['end'] < rec_block['end']:\n",
    "      ref_idx += 1\n",
    "      cur_end = ref_block['end']\n",
    "    #elif ref_block['end'] > rec_block['end']:\n",
    "    else:\n",
    "      rec_idx += 1\n",
    "      cur_end = rec_block['end']\n",
    "    next_url = None\n",
    "    if rec_idx+1 < len(reconstructed):\n",
    "      next_url = reconstructed[rec_idx+1]['url']\n",
    "    add_block_segment_to_stats(stats, ref_block, rec_block, cur_time, cur_end, next_url)\n",
    "    cur_time = cur_end\n",
    "  return stats\n",
    "    "
   ]
  },
  {
   "cell_type": "code",
   "execution_count": 10,
   "metadata": {
    "collapsed": true
   },
   "outputs": [],
   "source": [
    "def evalutate_tab_focus_reconstruction(evaluated_tab_focus_times, evaluated_reconstructed_tab_focus_times):\n",
    "  if len(evaluated_reconstructed_tab_focus_times) == 0 or len(evaluated_tab_focus_times) == 0:\n",
    "    return {}\n",
    "  ref_start_time = max(get_earliest_start_time(evaluated_tab_focus_times), get_earliest_start_time(evaluated_reconstructed_tab_focus_times))\n",
    "  ref_end_time = min(get_last_end_time(evaluated_tab_focus_times), get_last_end_time(evaluated_reconstructed_tab_focus_times))\n",
    "  result_reference = second_to_active_url(evaluated_tab_focus_times, ref_start_time, ref_end_time)\n",
    "  result_reconstructed = second_to_active_url(evaluated_reconstructed_tab_focus_times, ref_start_time, ref_end_time)\n",
    "  return evaluation_stats_for_reconstruction(result_reference, result_reconstructed)\n"
   ]
  },
  {
   "cell_type": "code",
   "execution_count": 11,
   "metadata": {
    "collapsed": true
   },
   "outputs": [],
   "source": [
    "def ignore_all_before_start_or_after_end(visit_lengths, start_time, end_time):\n",
    "  output = []\n",
    "  for x in visit_lengths:\n",
    "    if x['end'] < start_time:\n",
    "      continue\n",
    "    if x['start'] > end_time:\n",
    "      continue\n",
    "    #if x['start'] < start_time: # - 1000: # 1 second before or after\n",
    "    #  continue\n",
    "    #if x['end'] > end_time: # + 1000:\n",
    "    #  continue\n",
    "    output.append(x)\n",
    "  return output"
   ]
  },
  {
   "cell_type": "code",
   "execution_count": null,
   "metadata": {
    "collapsed": true
   },
   "outputs": [],
   "source": []
  }
 ],
 "metadata": {
  "kernelspec": {
   "display_name": "Python 2",
   "language": "python",
   "name": "python2"
  },
  "language_info": {
   "codemirror_mode": {
    "name": "ipython",
    "version": 2
   },
   "file_extension": ".py",
   "mimetype": "text/x-python",
   "name": "python",
   "nbconvert_exporter": "python",
   "pygments_lexer": "ipython2",
   "version": "2.7.11"
  }
 },
 "nbformat": 4,
 "nbformat_minor": 0
}
